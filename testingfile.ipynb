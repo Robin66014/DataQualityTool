{
 "cells": [
  {
   "cell_type": "code",
   "execution_count": 1,
   "metadata": {
    "collapsed": true
   },
   "outputs": [
    {
     "name": "stdout",
     "output_type": "stream",
     "text": [
      "Imported pandas_dq (1.9). Always upgrade to get latest version.\n",
      "\n"
     ]
    }
   ],
   "source": [
    "import pandas as pd\n",
    "import plotly.express as px\n",
    "from scipy.stats import shapiro, anderson, kstest, normaltest\n",
    "import numpy as np\n",
    "import matplotlib.pyplot as plt\n",
    "from sklearn.ensemble import RandomForestRegressor\n",
    "from scipy.stats import shapiro, anderson, kstest, normaltest\n",
    "from sklearn.preprocessing import OneHotEncoder, LabelEncoder\n",
    "import missingno as msno\n",
    "from sklearn.preprocessing import LabelEncoder\n",
    "import pandas_dq\n",
    "from xgboost import XGBClassifier\n",
    "from sklearn.model_selection import cross_val_predict\n",
    "from sklearn.metrics import accuracy_score\n",
    "from sklearn.preprocessing import OneHotEncoder, LabelEncoder\n",
    "from sklearn.ensemble import RandomForestClassifier\n",
    "import cleanlab\n"
   ]
  },
  {
   "cell_type": "code",
   "execution_count": 55,
   "outputs": [
    {
     "data": {
      "text/plain": "<pandas.io.formats.style.Styler at 0x18fc38f0970>",
      "text/html": "<style type=\"text/css\">\n#T_bb25d_row0_col0, #T_bb25d_row0_col2, #T_bb25d_row0_col5, #T_bb25d_row1_col0, #T_bb25d_row1_col2, #T_bb25d_row1_col5, #T_bb25d_row2_col0, #T_bb25d_row2_col2, #T_bb25d_row2_col5, #T_bb25d_row3_col0, #T_bb25d_row3_col2, #T_bb25d_row3_col5, #T_bb25d_row4_col0, #T_bb25d_row4_col2, #T_bb25d_row4_col5, #T_bb25d_row5_col0, #T_bb25d_row5_col2, #T_bb25d_row5_col5 {\n  font-family: Segoe UI;\n}\n#T_bb25d_row0_col1, #T_bb25d_row1_col1, #T_bb25d_row2_col1, #T_bb25d_row3_col1, #T_bb25d_row4_col1, #T_bb25d_row4_col4, #T_bb25d_row5_col1, #T_bb25d_row5_col3, #T_bb25d_row5_col4 {\n  background-color: #fff5f0;\n  color: #000000;\n  font-family: Segoe UI;\n}\n#T_bb25d_row0_col3, #T_bb25d_row3_col3 {\n  background-color: #fcc1a8;\n  color: #000000;\n  font-family: Segoe UI;\n}\n#T_bb25d_row0_col4, #T_bb25d_row1_col3 {\n  background-color: #67000d;\n  color: #f1f1f1;\n  font-family: Segoe UI;\n}\n#T_bb25d_row1_col4 {\n  background-color: #ffeee7;\n  color: #000000;\n  font-family: Segoe UI;\n}\n#T_bb25d_row2_col3 {\n  background-color: #fb7555;\n  color: #f1f1f1;\n  font-family: Segoe UI;\n}\n#T_bb25d_row2_col4 {\n  background-color: #fff2ec;\n  color: #000000;\n  font-family: Segoe UI;\n}\n#T_bb25d_row3_col4 {\n  background-color: #fff0e8;\n  color: #000000;\n  font-family: Segoe UI;\n}\n#T_bb25d_row4_col3 {\n  background-color: #fff2eb;\n  color: #000000;\n  font-family: Segoe UI;\n}\n</style>\n<table id=\"T_bb25d\">\n  <thead>\n    <tr>\n      <th class=\"blank level0\" >&nbsp;</th>\n      <th id=\"T_bb25d_level0_col0\" class=\"col_heading level0 col0\" >Data Type</th>\n      <th id=\"T_bb25d_level0_col1\" class=\"col_heading level0 col1\" >Missing Values%</th>\n      <th id=\"T_bb25d_level0_col2\" class=\"col_heading level0 col2\" >Unique Values%</th>\n      <th id=\"T_bb25d_level0_col3\" class=\"col_heading level0 col3\" >Minimum Value</th>\n      <th id=\"T_bb25d_level0_col4\" class=\"col_heading level0 col4\" >Maximum Value</th>\n      <th id=\"T_bb25d_level0_col5\" class=\"col_heading level0 col5\" >DQ Issue</th>\n    </tr>\n  </thead>\n  <tbody>\n    <tr>\n      <th id=\"T_bb25d_level0_row0\" class=\"row_heading level0 row0\" >Id</th>\n      <td id=\"T_bb25d_row0_col0\" class=\"data row0 col0\" >int64</td>\n      <td id=\"T_bb25d_row0_col1\" class=\"data row0 col1\" >0.000000</td>\n      <td id=\"T_bb25d_row0_col2\" class=\"data row0 col2\" >100</td>\n      <td id=\"T_bb25d_row0_col3\" class=\"data row0 col3\" >1.000000</td>\n      <td id=\"T_bb25d_row0_col4\" class=\"data row0 col4\" >150.000000</td>\n      <td id=\"T_bb25d_row0_col5\" class=\"data row0 col5\" >Possible ID colum: drop before modeling process.,     Id has a correlation >= 0.8 with Species. Possible data leakage. Double check this variable.</td>\n    </tr>\n    <tr>\n      <th id=\"T_bb25d_level0_row1\" class=\"row_heading level0 row1\" >SepalLengthCm</th>\n      <td id=\"T_bb25d_row1_col0\" class=\"data row1 col0\" >float64</td>\n      <td id=\"T_bb25d_row1_col1\" class=\"data row1 col1\" >0.000000</td>\n      <td id=\"T_bb25d_row1_col2\" class=\"data row1 col2\" >NA</td>\n      <td id=\"T_bb25d_row1_col3\" class=\"data row1 col3\" >4.300000</td>\n      <td id=\"T_bb25d_row1_col4\" class=\"data row1 col4\" >7.900000</td>\n      <td id=\"T_bb25d_row1_col5\" class=\"data row1 col5\" >No issue</td>\n    </tr>\n    <tr>\n      <th id=\"T_bb25d_level0_row2\" class=\"row_heading level0 row2\" >SepalWidthCm</th>\n      <td id=\"T_bb25d_row2_col0\" class=\"data row2 col0\" >float64</td>\n      <td id=\"T_bb25d_row2_col1\" class=\"data row2 col1\" >0.000000</td>\n      <td id=\"T_bb25d_row2_col2\" class=\"data row2 col2\" >NA</td>\n      <td id=\"T_bb25d_row2_col3\" class=\"data row2 col3\" >2.000000</td>\n      <td id=\"T_bb25d_row2_col4\" class=\"data row2 col4\" >4.400000</td>\n      <td id=\"T_bb25d_row2_col5\" class=\"data row2 col5\" >has 4 outliers greater than upper bound (4.05) or lower than lower bound(2.05). Cap them or remove them.</td>\n    </tr>\n    <tr>\n      <th id=\"T_bb25d_level0_row3\" class=\"row_heading level0 row3\" >PetalLengthCm</th>\n      <td id=\"T_bb25d_row3_col0\" class=\"data row3 col0\" >float64</td>\n      <td id=\"T_bb25d_row3_col1\" class=\"data row3 col1\" >0.000000</td>\n      <td id=\"T_bb25d_row3_col2\" class=\"data row3 col2\" >NA</td>\n      <td id=\"T_bb25d_row3_col3\" class=\"data row3 col3\" >1.000000</td>\n      <td id=\"T_bb25d_row3_col4\" class=\"data row3 col4\" >6.900000</td>\n      <td id=\"T_bb25d_row3_col5\" class=\"data row3 col5\" >has a high correlation with ['Id', 'SepalLengthCm']. Consider dropping one of them.,     PetalLengthCm has a correlation >= 0.8 with Species. Possible data leakage. Double check this variable.</td>\n    </tr>\n    <tr>\n      <th id=\"T_bb25d_level0_row4\" class=\"row_heading level0 row4\" >PetalWidthCm</th>\n      <td id=\"T_bb25d_row4_col0\" class=\"data row4 col0\" >float64</td>\n      <td id=\"T_bb25d_row4_col1\" class=\"data row4 col1\" >0.000000</td>\n      <td id=\"T_bb25d_row4_col2\" class=\"data row4 col2\" >NA</td>\n      <td id=\"T_bb25d_row4_col3\" class=\"data row4 col3\" >0.100000</td>\n      <td id=\"T_bb25d_row4_col4\" class=\"data row4 col4\" >2.500000</td>\n      <td id=\"T_bb25d_row4_col5\" class=\"data row4 col5\" >has a high correlation with ['Id', 'SepalLengthCm', 'PetalLengthCm']. Consider dropping one of them.,     PetalWidthCm has a correlation >= 0.8 with Species. Possible data leakage. Double check this variable.</td>\n    </tr>\n    <tr>\n      <th id=\"T_bb25d_level0_row5\" class=\"row_heading level0 row5\" >Species</th>\n      <td id=\"T_bb25d_row5_col0\" class=\"data row5 col0\" >int32</td>\n      <td id=\"T_bb25d_row5_col1\" class=\"data row5 col1\" >0.000000</td>\n      <td id=\"T_bb25d_row5_col2\" class=\"data row5 col2\" >2</td>\n      <td id=\"T_bb25d_row5_col3\" class=\"data row5 col3\" >0.000000</td>\n      <td id=\"T_bb25d_row5_col4\" class=\"data row5 col4\" >2.000000</td>\n      <td id=\"T_bb25d_row5_col5\" class=\"data row5 col5\" >has a high correlation with ['Id', 'PetalLengthCm', 'PetalWidthCm']. Consider dropping one of them.</td>\n    </tr>\n  </tbody>\n</table>\n"
     },
     "metadata": {},
     "output_type": "display_data"
    },
    {
     "name": "stdout",
     "output_type": "stream",
     "text": [
      "              Data Type  Missing Values% Unique Values%  Minimum Value  \\\n",
      "Id             int64     0.0              100            1.0             \n",
      "SepalLengthCm  float64   0.0              NA             4.3             \n",
      "SepalWidthCm   float64   0.0              NA             2.0             \n",
      "PetalLengthCm  float64   0.0              NA             1.0             \n",
      "PetalWidthCm   float64   0.0              NA             0.1             \n",
      "Species        int32     0.0              2              0.0             \n",
      "\n",
      "               Maximum Value  \\\n",
      "Id             150.0           \n",
      "SepalLengthCm  7.9             \n",
      "SepalWidthCm   4.4             \n",
      "PetalLengthCm  6.9             \n",
      "PetalWidthCm   2.5             \n",
      "Species        2.0             \n",
      "\n",
      "                                                                                                                                                                                                                       DQ Issue  \n",
      "Id             Possible ID colum: drop before modeling process.,     Id has a correlation >= 0.8 with Species. Possible data leakage. Double check this variable.                                                                \n",
      "SepalLengthCm  No issue                                                                                                                                                                                                          \n",
      "SepalWidthCm   has 4 outliers greater than upper bound (4.05) or lower than lower bound(2.05). Cap them or remove them.                                                                                                          \n",
      "PetalLengthCm  has a high correlation with ['Id', 'SepalLengthCm']. Consider dropping one of them.,     PetalLengthCm has a correlation >= 0.8 with Species. Possible data leakage. Double check this variable.                  \n",
      "PetalWidthCm   has a high correlation with ['Id', 'SepalLengthCm', 'PetalLengthCm']. Consider dropping one of them.,     PetalWidthCm has a correlation >= 0.8 with Species. Possible data leakage. Double check this variable.  \n",
      "Species        has a high correlation with ['Id', 'PetalLengthCm', 'PetalWidthCm']. Consider dropping one of them.                                                                                                               \n"
     ]
    }
   ],
   "source": [
    "import pandas_dq\n",
    "import pandas as pd\n",
    "from sklearn.preprocessing import LabelEncoder\n",
    "data = pd.read_csv('datasets\\iris.csv')\n",
    "le = LabelEncoder()\n",
    "\n",
    "# Fit the encoder to the Species column\n",
    "le.fit(data['Species'])\n",
    "\n",
    "# Transform the Species column using the fitted encoder\n",
    "data['Species'] = le.transform(data['Species'])\n",
    "report = pandas_dq.dq_report(data, target='Species', csv_engine=\"pandas\", verbose=1)\n",
    "reportDICT = report.to_dict()\n",
    "df = pd.DataFrame(reportDICT)\n",
    "print(df)\n",
    "# reportdf = pd.DataFrame.from_dict(reportDICT)\n",
    "# print(reportdf.head())\n",
    "#\n",
    "# #print(reportJSON)\n",
    "# reportDICT = report.to_dict()\n",
    "# reportdf = pd.DataFrame.from_dict(reportDICT)\n",
    "# print(reportdf.head())\n",
    "# with open('htmlcode.txt', 'w') as f:\n",
    "#     f.write(reportDICT)\n",
    "#print(reportDICT)"
   ],
   "metadata": {
    "collapsed": false
   }
  },
  {
   "cell_type": "code",
   "execution_count": 56,
   "outputs": [
    {
     "name": "stdout",
     "output_type": "stream",
     "text": [
      "1 ID cols will be dropped from further processing: ['Id']\n",
      "    Dropping PetalLengthCm which has a high correlation with ['Id', 'SepalLengthCm']\n",
      "    Dropping PetalWidthCm which has a high correlation with ['Id', 'SepalLengthCm', 'PetalLengthCm']\n",
      "    Dropping Species which has a high correlation with ['Id', 'PetalLengthCm', 'PetalWidthCm']\n"
     ]
    }
   ],
   "source": [
    "from pandas_dq import Fix_DQ\n",
    "fdq = Fix_DQ()\n",
    "\n",
    "X_train_transformed = fdq.fit_transform(data)\n"
   ],
   "metadata": {
    "collapsed": false
   }
  },
  {
   "cell_type": "code",
   "execution_count": 57,
   "outputs": [
    {
     "name": "stdout",
     "output_type": "stream",
     "text": [
      "Alert: Dropping 34 duplicate rows can sometimes cause column data types to change to object. Double-check!\n"
     ]
    },
    {
     "data": {
      "text/plain": "<pandas.io.formats.style.Styler at 0x18fc91838b0>",
      "text/html": "<style type=\"text/css\">\n#T_d0ab9_row0_col0, #T_d0ab9_row0_col2, #T_d0ab9_row0_col5, #T_d0ab9_row1_col0, #T_d0ab9_row1_col2, #T_d0ab9_row1_col5 {\n  font-family: Segoe UI;\n}\n#T_d0ab9_row0_col1, #T_d0ab9_row1_col1, #T_d0ab9_row1_col3, #T_d0ab9_row1_col4 {\n  background-color: #fff5f0;\n  color: #000000;\n  font-family: Segoe UI;\n}\n#T_d0ab9_row0_col3, #T_d0ab9_row0_col4 {\n  background-color: #67000d;\n  color: #f1f1f1;\n  font-family: Segoe UI;\n}\n</style>\n<table id=\"T_d0ab9\">\n  <thead>\n    <tr>\n      <th class=\"blank level0\" >&nbsp;</th>\n      <th id=\"T_d0ab9_level0_col0\" class=\"col_heading level0 col0\" >Data Type</th>\n      <th id=\"T_d0ab9_level0_col1\" class=\"col_heading level0 col1\" >Missing Values%</th>\n      <th id=\"T_d0ab9_level0_col2\" class=\"col_heading level0 col2\" >Unique Values%</th>\n      <th id=\"T_d0ab9_level0_col3\" class=\"col_heading level0 col3\" >Minimum Value</th>\n      <th id=\"T_d0ab9_level0_col4\" class=\"col_heading level0 col4\" >Maximum Value</th>\n      <th id=\"T_d0ab9_level0_col5\" class=\"col_heading level0 col5\" >DQ Issue</th>\n    </tr>\n  </thead>\n  <tbody>\n    <tr>\n      <th id=\"T_d0ab9_level0_row0\" class=\"row_heading level0 row0\" >SepalLengthCm</th>\n      <td id=\"T_d0ab9_row0_col0\" class=\"data row0 col0\" >float64</td>\n      <td id=\"T_d0ab9_row0_col1\" class=\"data row0 col1\" >0.000000</td>\n      <td id=\"T_d0ab9_row0_col2\" class=\"data row0 col2\" >NA</td>\n      <td id=\"T_d0ab9_row0_col3\" class=\"data row0 col3\" >4.300000</td>\n      <td id=\"T_d0ab9_row0_col4\" class=\"data row0 col4\" >7.900000</td>\n      <td id=\"T_d0ab9_row0_col5\" class=\"data row0 col5\" >No issue</td>\n    </tr>\n    <tr>\n      <th id=\"T_d0ab9_level0_row1\" class=\"row_heading level0 row1\" >SepalWidthCm</th>\n      <td id=\"T_d0ab9_row1_col0\" class=\"data row1 col0\" >float64</td>\n      <td id=\"T_d0ab9_row1_col1\" class=\"data row1 col1\" >0.000000</td>\n      <td id=\"T_d0ab9_row1_col2\" class=\"data row1 col2\" >NA</td>\n      <td id=\"T_d0ab9_row1_col3\" class=\"data row1 col3\" >2.000000</td>\n      <td id=\"T_d0ab9_row1_col4\" class=\"data row1 col4\" >4.050000</td>\n      <td id=\"T_d0ab9_row1_col5\" class=\"data row1 col5\" >has 1 outliers greater than upper bound (4.05) or lower than lower bound(2.05). Cap them or remove them.</td>\n    </tr>\n  </tbody>\n</table>\n"
     },
     "metadata": {},
     "output_type": "display_data"
    }
   ],
   "source": [
    "report = pandas_dq.dq_report(X_train_transformed, target=None, csv_engine=\"pandas\", verbose=1)"
   ],
   "metadata": {
    "collapsed": false
   }
  },
  {
   "cell_type": "code",
   "execution_count": 58,
   "outputs": [],
   "source": [
    "import cleanlab\n",
    "import pandas as pd\n",
    "from sklearn.preprocessing import LabelEncoder\n",
    "from sklearn.ensemble import RandomForestClassifier\n",
    "df = pd.read_csv('datasets\\Iris.csv')\n",
    "# Create a label encoder object\n",
    "le = LabelEncoder()\n",
    "# Fit and transform the \"Species\" column\n",
    "df['Species'] = le.fit_transform(df['Species'])\n",
    "def cleanlab_test(df):\n",
    "\n",
    "    # cleanlab works with **any classifier**. Yup, you can use PyTorch/TensorFlow/OpenAI/XGBoost/etc.\n",
    "    cl = cleanlab.classification.CleanLearning(RandomForestClassifier())\n",
    "    data = df.loc[:, df.columns != 'class']\n",
    "\n",
    "    # cleanlab finds data and label issues in **any dataset**... in ONE line of code!\n",
    "    # Fit model to messy, real-world data, automatically training on cleaned data.\n",
    "    _ = cl.fit(data, df['class'])\n",
    "    # See the label quality for every example, which data has issues, and more.\n",
    "    print(cl.get_label_issues())"
   ],
   "metadata": {
    "collapsed": false
   }
  },
  {
   "cell_type": "code",
   "execution_count": 59,
   "outputs": [
    {
     "name": "stderr",
     "output_type": "stream",
     "text": [
      "deepchecks - WARNING - You are using deepchecks version 0.11.1, however a newer version is available.Deepchecks is frequently updated with major improvements. You should consider upgrading via the \"python -m pip install --upgrade deepchecks\" command.\n"
     ]
    }
   ],
   "source": [
    "from deepchecks.tabular import Dataset\n",
    "import deepchecks.tabular.checks\n",
    "import pandas as pd\n",
    "from sklearn.datasets import load_iris\n",
    "from deepchecks.tabular.datasets.classification.phishing import load_data\n",
    "import numpy as np\n",
    "from deepchecks.tabular.datasets.classification import adult\n",
    "import plotly.express as px\n",
    "from xgboost import XGBClassifier\n",
    "from sklearn.model_selection import cross_val_predict\n",
    "from sklearn.metrics import accuracy_score\n",
    "from sklearn.preprocessing import OneHotEncoder, LabelEncoder"
   ],
   "metadata": {
    "collapsed": false
   }
  },
  {
   "cell_type": "code",
   "execution_count": 60,
   "outputs": [],
   "source": [
    "def encode_categorical_columns(dataset, target, data_types):\n",
    "    # Find all categorical columns\n",
    "    # TODO: regel hieronder aanpassen naar wat de user heeft ingegeven (let hierbij op strings als dtype, moeten gezien worden als categorical)\n",
    "    categorical_cols = dataset.select_dtypes(include=['object', 'category']).columns.tolist()\n",
    "\n",
    "    target_is_categorical = False\n",
    "    if target != 'None':\n",
    "        # remove target as we want to label encode this (for classification problems)\n",
    "        if target in categorical_cols:\n",
    "            target_is_categorical = True\n",
    "            categorical_cols.remove(target)\n",
    "\n",
    "            # label encode target\n",
    "            le = LabelEncoder()\n",
    "            encoded_target = le.fit_transform(dataset[target])\n",
    "            # replace target column with label encoded values\n",
    "            dataset.drop(columns=[target], inplace=True)\n",
    "            dataset[target] = encoded_target\n",
    "\n",
    "    if not categorical_cols:  # then no features are categorical, and we're done\n",
    "        return dataset\n",
    "\n",
    "    # if there are categorical columns, we want to one-hot-encode them\n",
    "\n",
    "    # encode categoricals\n",
    "    encoder = OneHotEncoder(handle_unknown='ignore', max_categories=100)\n",
    "    encoded_columns = encoder.fit_transform(dataset[categorical_cols])\n",
    "    new_columns = pd.DataFrame(encoded_columns.toarray(), columns=encoder.get_feature_names_out(categorical_cols))\n",
    "\n",
    "    # add new columns to df and drop old ones\n",
    "    dataset_encoded = pd.concat([dataset, new_columns], axis=1)\n",
    "    dataset_encoded = dataset_encoded.drop(columns=categorical_cols)\n",
    "\n",
    "    # reposition target column to the end of the dataframe\n",
    "    if target != 'None' and target_is_categorical:\n",
    "        dataset_encoded.drop(columns=[target], inplace=True)\n",
    "        dataset_encoded[target] = encoded_target\n",
    "\n",
    "    #XGBClassifier doesn't accept: [, ] or <, so loop over the columns and change the names if they contain such values\n",
    "    new_col_names = {col: col.replace('<', '(smaller than)').replace('[', '(').replace(']', ')') for col in dataset_encoded.columns}\n",
    "    dataset_encoded = dataset_encoded.rename(columns=new_col_names)\n",
    "\n",
    "    return dataset_encoded"
   ],
   "metadata": {
    "collapsed": false
   }
  },
  {
   "cell_type": "code",
   "execution_count": 61,
   "outputs": [],
   "source": [
    "def wrong_label(encoded_dataset, target):\n",
    "    \"\"\"\"Function that finds potential label errors (due to annotator mistakes), edge cases, and otherwise ambiguous examples\"\"\"\n",
    "    model_XGBC = XGBClassifier(tree_method=\"hist\", enable_categorical=True) #hist is fastest tree method of XGBoost\n",
    "    #TODO: add more models and choose whichever gives highest prediction? Downside --> slows process\n",
    "    data_no_labels = encoded_dataset.drop(columns=[target])\n",
    "    labels = encoded_dataset[target]\n",
    "    pred_probs = cross_val_predict(model_XGBC, data_no_labels, labels, method='predict_proba')\n",
    "\n",
    "    preds = np.argmax(pred_probs, axis=1)\n",
    "    acc_original = accuracy_score(preds, labels)\n",
    "    print(f\"Accuracy with original data: {round(acc_original * 100, 1)}%\")\n",
    "\n",
    "    #use cleanlab's built in confident learning method to find label issues\n",
    "    cl = cleanlab.classification.CleanLearning()\n",
    "    issues_dataframe = cl.find_label_issues(X=None, labels=labels, pred_probs=pred_probs)\n",
    "    wrong_label_count = (issues_dataframe['is_label_issue'] == True).sum()\n",
    "\n",
    "    #filter df so only errors are visible\n",
    "    issues_dataframe_only_errors = issues_dataframe[issues_dataframe['is_label_issue'] == True]\n",
    "\n",
    "    return issues_dataframe, issues_dataframe_only_errors, wrong_label_count"
   ],
   "metadata": {
    "collapsed": false
   }
  },
  {
   "cell_type": "code",
   "execution_count": 62,
   "outputs": [
    {
     "name": "stdout",
     "output_type": "stream",
     "text": [
      "Accuracy with original data: 75.7%\n"
     ]
    },
    {
     "data": {
      "text/plain": "(     is_label_issue  label_quality  given_label  predicted_label\n 0    False           0.982974       1            1              \n 1    False           0.896697       0            0              \n 2    False           0.995315       1            1              \n 3    True            0.405909       1            0              \n 4    False           0.830484       0            0              \n 5    False           0.963891       1            1              \n 6    False           0.997703       1            1              \n 7    False           0.887332       1            1              \n 8    False           0.999295       1            1              \n 9    False           0.949440       0            0              \n 10   False           0.933829       0            0              \n 11   False           0.995936       0            0              \n 12   False           0.600553       1            1              \n 13   False           0.675812       0            0              \n 14   True            0.174067       1            0              \n 15   False           0.907229       0            0              \n 16   False           0.999810       1            1              \n 17   True            0.226138       1            0              \n 18   False           0.785784       0            0              \n 19   False           0.987730       1            1              \n 20   False           0.997544       1            1              \n 21   False           0.956830       1            1              \n 22   False           0.907010       1            1              \n 23   False           0.976327       1            1              \n 24   False           0.972770       1            1              \n 25   False           0.970429       1            1              \n 26   False           0.979311       1            1              \n 27   False           0.521294       1            1              \n 28   False           0.997473       1            1              \n 29   False           0.903442       0            0              \n 30   False           0.907306       1            1              \n 31   False           0.735939       1            1              \n 32   False           0.521490       1            1              \n 33   False           0.995227       1            1              \n 34   False           0.979134       1            1              \n 35   False           0.986665       0            0              \n 36   True            0.155259       1            0              \n 37   False           0.682449       0            0              \n 38   False           0.659476       1            1              \n 39   False           0.873040       1            1              \n 40   False           0.746930       1            1              \n 41   False           0.746980       1            1              \n 42   False           0.991961       1            1              \n 43   False           0.730504       1            1              \n 44   True            0.196956       0            1              \n 45   False           0.995239       1            1              \n 46   False           0.998797       1            1              \n 47   False           0.912301       1            1              \n 48   False           0.982195       1            1              \n 49   False           0.886454       1            1              \n 50   False           0.817480       1            1              \n 51   False           0.996912       1            1              \n 52   False           0.926970       1            1              \n 53   False           0.993467       1            1              \n 54   False           0.465429       0            1              \n 55   False           0.950598       1            1              \n 56   True            0.007638       0            1              \n 57   False           0.954837       1            1              \n 58   False           0.534599       1            1              \n 59   False           0.983512       0            0              \n 60   False           0.612896       1            1              \n 61   False           0.998410       1            1              \n 62   False           0.403650       0            1              \n 63   False           0.945993       0            0              \n 64   False           0.904417       1            1              \n 65   False           0.988115       1            1              \n 66   True            0.414020       1            0              \n 67   False           0.864329       1            1              \n 68   True            0.010041       0            1              \n 69   False           0.956729       1            1              \n 70   False           0.556953       1            1              \n 71   False           0.999755       1            1              \n 72   False           0.895877       1            1              \n 73   False           0.639532       1            1              \n 74   True            0.015542       0            1              \n 75   False           0.901977       1            1              \n 76   False           0.891831       0            0              \n 77   False           0.916651       1            1              \n 78   False           0.992457       1            1              \n 79   False           0.508476       1            1              \n 80   True            0.005290       0            1              \n 81   False           0.987908       1            1              \n 82   False           0.760754       1            1              \n 83   False           0.996464       1            1              \n 84   False           0.958143       1            1              \n 85   False           0.966226       1            1              \n 86   False           0.785738       1            1              \n 87   False           0.854158       0            0              \n 88   False           0.979003       1            1              \n 89   False           0.318109       0            1              \n 90   False           0.999345       1            1              \n 91   False           0.976776       1            1              \n 92   True            0.030621       0            1              \n 93   False           0.987081       1            1              \n 94   False           0.981755       1            1              \n 95   False           0.995393       0            0              \n 96   False           0.998642       1            1              \n 97   False           0.853231       1            1              \n 98   False           0.951169       1            1              \n 99   False           0.997157       1            1              \n 100  False           0.995868       1            1              \n 101  True            0.080827       1            0              \n 102  False           0.997841       1            1              \n 103  False           0.960583       1            1              \n 104  False           0.991599       1            1              \n 105  True            0.045512       0            1              \n 106  False           0.456262       0            1              \n 107  False           0.819678       1            1              \n 108  True            0.100210       1            0              \n 109  False           0.898546       1            1              \n 110  False           0.718688       1            1              \n 111  False           0.973295       1            1              \n 112  False           0.643427       1            1              \n 113  False           0.913786       0            0              \n 114  False           0.628024       1            1              \n 115  False           0.999188       1            1              \n 116  True            0.086903       0            1              \n 117  False           0.923525       1            1              \n 118  True            0.146208       0            1              \n 119  False           0.992678       1            1              \n 120  False           0.530201       0            0              \n 121  False           0.996593       1            1              \n 122  False           0.969642       1            1              \n 123  False           0.581962       1            1              \n 124  True            0.029977       0            1              \n 125  False           0.772809       1            1              \n 126  True            0.103390       1            0              \n 127  False           0.762639       0            0              \n 128  False           0.996743       1            1              \n 129  True            0.081805       0            1              \n 130  True            0.388014       1            0              \n 131  False           0.893715       0            0              \n 132  True            0.238209       1            0              \n 133  False           0.584616       1            1              \n 134  False           0.897696       1            1              \n 135  False           0.998566       1            1              \n 136  False           0.983888       1            1              \n 137  True            0.051355       0            1              \n 138  False           0.949441       1            1              \n 139  False           0.935786       1            1              \n 140  False           0.931867       1            1              \n 141  False           0.504118       1            1              \n 142  True            0.233546       1            0              \n 143  False           0.431400       0            1              \n 144  False           0.961587       1            1              \n 145  False           0.562840       1            1              \n 146  False           0.920464       1            1              \n 147  False           0.993922       1            1              \n 148  True            0.111593       1            0              \n 149  False           0.999539       1            1              \n 150  False           0.992145       1            1              \n 151  False           0.999271       1            1              \n 152  False           0.693716       1            1              \n 153  False           0.722476       1            1              \n 154  False           0.971422       1            1              \n 155  True            0.299657       0            1              \n 156  False           0.982639       1            1              \n 157  True            0.011018       1            0              \n 158  False           0.710088       1            1              \n 159  False           0.999356       1            1              \n 160  False           0.999847       1            1              \n 161  False           0.980990       1            1              \n 162  False           0.998869       1            1              \n 163  False           0.865968       1            1              \n 164  False           0.986881       1            1              \n 165  False           0.992697       1            1              \n 166  False           0.968266       0            0              \n 167  False           0.899497       1            1              \n 168  False           0.987760       1            1              \n 169  True            0.023637       0            1              \n 170  False           0.996365       0            0              \n 171  False           0.979574       1            1              \n 172  False           0.473636       0            1              \n 173  False           0.997021       1            1              \n 174  False           0.342211       0            1              \n 175  True            0.001841       0            1              \n 176  False           0.683022       1            1              \n 177  False           0.980855       1            1              \n 178  False           0.935531       1            1              \n 179  False           0.789333       1            1              \n 180  True            0.133413       0            1              \n 181  True            0.086350       0            1              \n 182  False           0.899806       0            0              \n 183  False           0.998564       1            1              \n 184  False           0.927017       0            0              \n 185  False           0.995876       1            1              \n 186  True            0.026596       0            1              \n 187  False           0.850463       1            1              \n 188  True            0.268142       0            1              \n 189  True            0.203575       1            0              \n 190  True            0.052099       0            1              \n 191  False           0.593480       0            0              \n 192  False           0.493185       0            1              \n 193  False           0.999697       1            1              \n 194  False           0.892030       0            0              \n 195  True            0.027462       0            1              \n 196  False           0.999792       1            1              \n 197  False           0.559517       0            0              \n 198  False           0.994891       1            1              \n 199  False           0.363980       0            1              \n 200  False           0.993908       1            1              \n 201  True            0.147726       1            0              \n 202  False           0.928348       1            1              \n 203  True            0.178779       0            1              \n 204  False           0.999517       1            1              \n 205  True            0.169331       1            0              \n 206  False           0.999887       1            1              \n 207  False           0.849306       1            1              \n 208  True            0.274061       1            0              \n 209  False           0.996436       1            1              \n 210  False           0.999537       1            1              \n 211  False           0.996368       1            1              \n 212  False           0.453029       0            1              \n 213  True            0.007768       0            1              \n 214  False           0.999509       1            1              \n 215  False           0.992837       1            1              \n 216  True            0.271155       1            0              \n 217  False           0.810415       1            1              \n 218  True            0.029254       1            0              \n 219  False           0.993822       1            1              \n 220  False           0.901121       1            1              \n 221  True            0.164190       1            0              \n 222  False           0.542143       1            1              \n 223  False           0.996125       1            1              \n 224  False           0.993157       1            1              \n 225  False           0.871841       1            1              \n 226  True            0.273925       0            1              \n 227  False           0.919760       0            0              \n 228  True            0.005556       0            1              \n 229  True            0.413510       1            0              \n 230  True            0.168950       0            1              \n 231  False           0.992876       1            1              \n 232  False           0.994786       1            1              \n 233  False           0.882395       1            1              \n 234  False           0.999984       1            1              \n 235  True            0.084178       0            1              \n 236  True            0.141465       0            1              \n 237  True            0.047656       0            1              \n 238  False           0.988414       1            1              \n 239  False           0.695894       1            1              \n 240  False           0.809544       0            0              \n 241  False           0.999455       1            1              \n 242  False           0.989978       0            0              \n 243  False           0.998788       1            1              \n 244  False           0.960105       1            1              \n 245  False           0.995907       1            1              \n 246  False           0.996913       1            1              \n 247  False           0.562868       1            1              \n 248  True            0.230955       1            0              \n 249  True            0.019412       0            1              \n 250  False           0.997050       1            1              \n 251  False           0.980738       1            1              \n 252  False           0.972842       0            0              \n 253  False           0.773548       1            1              \n 254  False           0.995727       1            1              \n 255  False           0.972491       1            1              \n 256  False           0.996697       1            1              \n 257  True            0.075985       0            1              \n 258  False           0.983129       1            1              \n 259  False           0.999502       1            1              \n 260  False           0.950535       1            1              \n 261  False           0.758068       1            1              \n 262  True            0.155660       1            0              \n 263  False           0.966967       1            1              \n 264  False           0.998018       1            1              \n 265  False           0.741236       0            0              \n 266  False           0.998955       1            1              \n 267  False           0.947982       1            1              \n 268  False           0.305477       0            1              \n 269  False           0.999027       1            1              \n 270  False           0.998891       1            1              \n 271  False           0.999231       1            1              \n 272  False           0.631147       1            1              \n 273  False           0.452022       0            1              \n 274  False           0.878850       0            0              \n 275  False           0.999717       1            1              \n 276  False           0.989550       1            1              \n 277  False           0.655622       1            1              \n 278  True            0.001594       0            1              \n 279  False           0.968447       1            1              \n 280  False           0.999649       1            1              \n 281  False           0.982742       1            1              \n 282  False           0.981528       1            1              \n 283  False           0.994044       1            1              \n 284  False           0.735801       1            1              \n 285  True            0.099369       1            0              \n 286  True            0.007353       1            0              \n 287  False           0.811766       1            1              \n 288  False           0.990623       1            1              \n 289  False           0.851816       0            0              \n 290  False           0.999456       1            1              \n 291  False           0.841339       0            0              \n 292  False           0.529342       1            1              \n 293  False           0.859573       1            1              \n 294  False           0.692868       1            1              \n 295  False           0.975127       0            0              \n 296  False           0.901398       1            1              \n 297  False           0.927071       1            1              \n 298  False           0.968505       1            1              \n 299  False           0.996838       1            1              \n 300  False           0.998847       1            1              \n 301  True            0.005854       0            1              \n 302  True            0.104905       0            1              \n 303  False           0.802463       1            1              \n 304  False           0.450658       0            1              \n 305  False           0.998529       1            1              \n 306  False           0.997151       1            1              \n 307  False           0.929241       0            0              \n 308  True            0.018682       0            1              \n 309  False           0.940326       1            1              \n 310  False           0.860626       1            1              \n 311  False           0.878307       1            1              \n 312  False           0.833068       1            1              \n 313  False           0.932155       0            0              \n 314  False           0.998415       1            1              \n 315  False           0.952777       0            0              \n 316  False           0.534315       1            1              \n 317  False           0.722455       1            1              \n 318  False           0.936087       1            1              \n 319  False           0.988107       1            1              \n 320  False           0.959507       0            0              \n 321  False           0.933827       0            0              \n 322  False           0.978370       1            1              \n 323  False           0.844456       1            1              \n 324  False           0.979638       1            1              \n 325  False           0.999739       1            1              \n 326  False           0.984521       1            1              \n 327  False           0.998865       1            1              \n 328  False           0.828890       1            1              \n 329  False           0.921393       1            1              \n 330  False           0.876854       1            1              \n 331  True            0.021791       0            1              \n 332  False           0.984849       0            0              \n 333  False           0.413495       0            1              \n 334  False           0.948948       0            0              \n 335  True            0.000186       0            1              \n 336  False           0.679605       1            1              \n 337  False           0.808293       0            0              \n 338  True            0.200920       1            0              \n 339  True            0.172779       1            0              \n 340  True            0.012113       1            0              \n 341  False           0.876301       1            1              \n 342  True            0.328200       1            0              \n 343  True            0.358081       1            0              \n 344  False           0.952216       1            1              \n 345  False           0.999704       1            1              \n 346  False           0.867468       1            1              \n 347  False           0.949172       1            1              \n 348  False           0.997948       1            1              \n 349  False           0.741090       0            0              \n 350  False           0.950999       1            1              \n 351  False           0.491320       0            1              \n 352  False           0.999965       1            1              \n 353  False           0.525269       0            0              \n 354  False           0.922396       1            1              \n 355  False           0.943302       0            0              \n 356  False           0.999361       1            1              \n 357  False           0.465950       0            1              \n 358  False           0.976076       1            1              \n 359  False           0.962690       0            0              \n 360  True            0.078817       1            0              \n 361  False           0.975072       1            1              \n 362  False           0.882847       1            1              \n 363  False           0.986250       1            1              \n 364  True            0.217382       0            1              \n 365  False           0.999086       1            1              \n 366  False           0.999967       1            1              \n 367  True            0.276022       1            0              \n 368  False           0.930247       0            0              \n 369  False           0.917149       1            1              \n 370  False           0.992989       1            1              \n 371  False           0.998473       1            1              \n 372  False           0.915182       1            1              \n 373  True            0.306406       1            0              \n 374  False           0.919126       0            0              \n 375  False           0.587358       0            0              \n 376  False           0.854461       1            1              \n 377  False           0.998975       1            1              \n 378  False           0.973560       0            0              \n 379  False           0.998942       1            1              \n 380  False           0.518301       1            1              \n 381  False           0.879347       0            0              \n 382  False           0.896040       1            1              \n 383  False           0.850074       1            1              \n 384  False           0.713957       1            1              \n 385  False           0.988687       1            1              \n 386  False           0.967445       1            1              \n 387  False           0.651377       1            1              \n 388  False           0.984777       1            1              \n 389  False           0.666561       1            1              \n 390  False           0.844119       1            1              \n 391  False           0.888345       1            1              \n 392  False           0.600615       1            1              \n 393  False           0.999387       1            1              \n 394  False           0.990426       1            1              \n 395  True            0.421555       1            0              \n 396  True            0.369041       1            0              \n 397  True            0.386982       1            0              \n 398  True            0.132417       0            1              \n 399  False           0.997459       1            1              \n 400  False           0.996740       1            1              \n 401  True            0.319317       1            0              \n 402  False           0.547814       0            0              \n 403  False           0.679869       1            1              \n 404  False           0.869916       1            1              \n 405  True            0.130013       0            1              \n 406  False           0.999939       1            1              \n 407  True            0.483709       1            0              \n 408  False           0.954929       1            1              \n 409  True            0.011240       0            1              \n 410  True            0.322002       1            0              \n 411  False           0.997929       1            1              \n 412  True            0.004194       0            1              \n 413  False           0.816548       1            1              \n 414  False           0.925663       0            0              \n 415  False           0.999750       1            1              \n 416  True            0.027933       0            1              \n 417  True            0.222675       1            0              \n 418  False           0.996690       1            1              \n 419  False           0.592567       0            0              \n 420  False           0.986032       1            1              \n 421  False           0.995930       1            1              \n 422  False           0.814248       1            1              \n 423  False           0.903231       1            1              \n 424  True            0.005224       0            1              \n 425  False           0.975147       1            1              \n 426  False           0.999068       1            1              \n 427  False           0.999253       1            1              \n 428  False           0.938156       1            1              \n 429  False           0.588370       0            0              \n 430  False           0.999810       1            1              \n 431  False           0.734814       0            0              \n 432  False           0.934917       1            1              \n 433  False           0.739641       1            1              \n 434  False           0.644306       1            1              \n 435  True            0.004879       0            1              \n 436  False           0.980645       1            1              \n 437  False           0.998560       1            1              \n 438  True            0.222661       1            0              \n 439  False           0.392251       0            1              \n 440  False           0.989325       1            1              \n 441  False           0.858356       1            1              \n 442  False           0.935817       1            1              \n 443  False           0.763358       0            0              \n 444  False           0.560327       0            0              \n 445  False           0.988657       1            1              \n 446  False           0.988482       0            0              \n 447  False           0.998221       1            1              \n 448  False           0.981615       1            1              \n 449  True            0.038724       0            1              \n 450  False           0.829096       1            1              \n 451  False           0.997568       1            1              \n 452  False           0.985740       1            1              \n 453  False           0.999469       1            1              \n 454  False           0.361690       0            1              \n 455  False           0.994845       1            1              \n 456  False           0.956820       1            1              \n 457  True            0.191372       0            1              \n 458  False           0.860719       1            1              \n 459  False           0.743240       1            1              \n 460  False           0.949507       1            1              \n 461  False           0.874396       1            1              \n 462  False           0.799093       1            1              \n 463  True            0.230933       1            0              \n 464  False           0.617937       1            1              \n 465  False           0.860552       1            1              \n 466  False           0.589747       0            0              \n 467  False           0.925911       1            1              \n 468  False           0.880499       1            1              \n 469  False           0.996181       1            1              \n 470  True            0.143511       0            1              \n 471  False           0.341281       0            1              \n 472  False           0.629966       0            0              \n 473  False           0.998393       1            1              \n 474  False           0.748619       0            0              \n 475  False           0.528092       0            0              \n 476  False           0.993543       1            1              \n 477  False           0.680837       1            1              \n 478  False           0.880752       1            1              \n 479  False           0.961482       1            1              \n 480  False           0.979906       1            1              \n 481  True            0.312913       1            0              \n 482  True            0.458125       1            0              \n 483  False           0.975833       1            1              \n 484  False           0.998176       1            1              \n 485  True            0.031634       0            1              \n 486  False           0.999164       1            1              \n 487  False           0.708128       1            1              \n 488  False           0.991588       1            1              \n 489  False           0.970916       1            1              \n 490  False           0.968607       1            1              \n 491  False           0.967896       0            0              \n 492  False           0.998992       1            1              \n 493  False           0.994572       1            1              \n 494  False           0.904905       1            1              \n 495  True            0.034992       0            1              \n 496  True            0.146464       0            1              \n 497  False           0.999611       1            1              \n 498  False           0.993486       1            1              \n 499  False           0.967247       1            1              \n 500  True            0.224036       0            1              \n 501  True            0.192471       1            0              \n 502  False           0.976414       1            1              \n 503  False           0.685882       0            0              \n 504  False           0.962748       0            0              \n 505  True            0.003197       0            1              \n 506  False           0.999527       1            1              \n 507  True            0.097315       0            1              \n 508  False           0.958153       1            1              \n 509  False           0.905446       1            1              \n 510  False           0.977089       0            0              \n 511  False           0.996009       1            1              \n 512  False           0.996011       1            1              \n 513  False           0.745691       1            1              \n 514  False           0.972505       1            1              \n 515  False           0.969808       1            1              \n 516  False           0.997564       1            1              \n 517  True            0.016251       0            1              \n 518  False           0.918683       1            1              \n 519  False           0.994342       1            1              \n 520  False           0.988335       1            1              \n 521  True            0.048387       0            1              \n 522  False           0.995811       0            0              \n 523  False           0.996481       1            1              \n 524  False           0.959766       1            1              \n 525  True            0.341884       1            0              \n 526  False           0.912626       1            1              \n 527  False           0.999546       1            1              \n 528  False           0.810504       0            0              \n 529  False           0.961702       1            1              \n 530  False           0.947110       1            1              \n 531  True            0.141215       0            1              \n 532  False           0.993749       1            1              \n 533  False           0.998859       1            1              \n 534  False           0.830863       1            1              \n 535  True            0.011810       0            1              \n 536  False           0.937122       1            1              \n 537  False           0.945402       1            1              \n 538  False           0.877662       0            0              \n 539  False           0.958928       1            1              \n 540  True            0.172728       0            1              \n 541  True            0.360774       1            0              \n 542  True            0.113867       0            1              \n 543  True            0.004929       0            1              \n 544  False           0.996965       1            1              \n 545  False           0.974835       0            0              \n 546  False           0.978531       1            1              \n 547  False           0.991381       1            1              \n 548  False           0.359161       0            1              \n 549  False           0.998155       1            1              \n 550  False           0.995642       1            1              \n 551  False           0.992290       1            1              \n 552  True            0.097359       0            1              \n 553  False           0.883785       1            1              \n 554  False           0.832034       1            1              \n 555  False           0.345903       0            1              \n 556  True            0.219278       0            1              \n 557  True            0.201641       0            1              \n 558  True            0.015078       0            1              \n 559  False           0.406884       0            1              \n 560  True            0.417966       1            0              \n 561  True            0.175564       0            1              \n 562  False           0.850096       1            1              \n 563  False           0.465253       0            1              \n 564  False           0.733531       1            1              \n 565  False           0.775456       1            1              \n 566  True            0.276662       0            1              \n 567  False           0.999122       1            1              \n 568  False           0.747648       1            1              \n 569  False           0.866931       0            0              \n 570  False           0.428399       0            1              \n 571  False           0.993270       1            1              \n 572  False           0.991342       1            1              \n 573  True            0.206179       1            0              \n 574  False           0.852608       1            1              \n 575  False           0.909236       1            1              \n 576  False           0.997199       1            1              \n 577  False           0.520526       1            1              \n 578  False           0.600057       0            0              \n 579  False           0.549735       1            1              \n 580  False           0.300807       0            1              \n 581  False           0.972057       1            1              \n 582  False           0.692955       1            1              \n 583  True            0.276686       0            1              \n 584  False           0.954317       1            1              \n 585  False           0.882724       0            0              \n 586  False           0.925481       1            1              \n 587  False           0.995084       1            1              \n 588  False           0.306682       0            1              \n 589  True            0.026559       0            1              \n 590  False           0.982901       1            1              \n 591  False           0.966647       1            1              \n 592  False           0.969638       1            1              \n 593  False           0.466874       0            1              \n 594  False           0.315227       0            1              \n 595  False           0.432655       0            1              \n 596  False           0.932908       0            0              \n 597  True            0.103103       0            1              \n 598  True            0.069010       0            1              \n 599  False           0.976145       1            1              \n 600  False           0.994703       1            1              \n 601  True            0.274969       0            1              \n 602  False           0.794960       0            0              \n 603  True            0.210488       0            1              \n 604  True            0.361693       1            0              \n 605  True            0.043659       1            0              \n 606  False           0.551690       1            1              \n 607  True            0.175187       0            1              \n 608  False           0.890477       1            1              \n 609  False           0.998677       1            1              \n 610  False           0.897695       0            0              \n 611  True            0.006077       0            1              \n 612  False           0.538029       1            1              \n 613  False           0.760902       1            1              \n 614  False           0.595072       0            0              \n 615  False           0.540999       1            1              \n 616  True            0.324582       1            0              \n 617  False           0.988294       1            1              \n 618  True            0.209092       0            1              \n 619  False           0.981339       1            1              \n 620  False           0.997459       1            1              \n 621  False           0.538691       0            0              \n 622  True            0.024851       0            1              \n 623  False           0.795261       1            1              \n 624  False           0.478853       0            1              \n 625  False           0.998608       1            1              \n 626  False           0.986380       1            1              \n 627  False           0.616682       0            0              \n 628  False           0.992612       1            1              \n 629  False           0.992511       1            1              \n 630  False           0.725920       1            1              \n 631  False           0.915408       0            0              \n 632  False           0.610257       1            1              \n 633  True            0.150935       0            1              \n 634  False           0.979904       0            0              \n 635  False           0.973621       1            1              \n 636  False           0.998670       1            1              \n 637  True            0.380209       1            0              \n 638  False           0.962350       1            1              \n 639  False           0.701500       0            0              \n 640  False           0.966413       0            0              \n 641  False           0.868044       1            1              \n 642  True            0.160574       0            1              \n 643  False           0.996069       1            1              \n 644  False           0.913221       1            1              \n 645  True            0.210262       0            1              \n 646  True            0.162241       1            0              \n 647  True            0.017899       0            1              \n 648  False           0.983732       0            0              \n 649  False           0.628981       0            0              \n 650  True            0.091110       1            0              \n 651  True            0.095375       0            1              \n 652  False           0.785938       0            0              \n 653  True            0.118758       0            1              \n 654  False           0.999946       1            1              \n 655  False           0.622554       1            1              \n 656  False           0.956786       0            0              \n 657  False           0.997055       1            1              \n 658  True            0.385479       1            0              \n 659  False           0.792919       1            1              \n 660  True            0.459254       1            0              \n 661  False           0.832276       0            0              \n 662  False           0.977642       1            1              \n 663  False           0.698299       1            1              \n 664  False           0.891638       1            1              \n 665  True            0.304612       1            0              \n 666  False           0.714083       1            1              \n 667  False           0.714851       1            1              \n 668  False           0.441665       0            1              \n 669  False           0.993407       1            1              \n 670  False           0.895842       1            1              \n 671  False           0.982291       1            1              \n 672  False           0.901170       1            1              \n 673  False           0.996318       1            1              \n 674  False           0.334049       0            1              \n 675  False           0.907428       1            1              \n 676  False           0.986537       1            1              \n 677  False           0.519877       0            0              \n 678  True            0.061978       1            0              \n 679  False           0.907199       1            1              \n 680  False           0.977736       1            1              \n 681  False           0.999289       1            1              \n 682  False           0.959629       1            1              \n 683  False           0.940421       1            1              \n 684  False           0.912281       1            1              \n 685  False           0.950612       1            1              \n 686  False           0.935773       1            1              \n 687  False           0.851440       1            1              \n 688  False           0.990448       1            1              \n 689  False           0.814340       1            1              \n 690  False           0.971567       1            1              \n 691  True            0.270222       1            0              \n 692  False           0.825317       1            1              \n 693  False           0.965746       1            1              \n 694  False           0.989435       1            1              \n 695  False           0.999515       1            1              \n 696  False           0.973888       1            1              \n 697  False           0.983977       1            1              \n 698  False           0.985395       1            1              \n 699  False           0.941843       1            1              \n 700  True            0.017249       0            1              \n 701  True            0.295006       0            1              \n 702  False           0.958705       1            1              \n 703  True            0.461914       1            0              \n 704  False           0.650854       1            1              \n 705  False           0.986732       1            1              \n 706  False           0.828954       0            0              \n 707  False           0.941295       0            0              \n 708  True            0.230823       1            0              \n 709  False           0.956065       1            1              \n 710  False           0.838848       1            1              \n 711  False           0.908801       0            0              \n 712  False           0.998511       1            1              \n 713  False           0.937854       1            1              \n 714  False           0.992685       0            0              \n 715  False           0.996421       1            1              \n 716  False           0.999081       1            1              \n 717  False           0.978181       1            1              \n 718  False           0.961905       1            1              \n 719  False           0.910138       1            1              \n 720  False           0.678145       0            0              \n 721  False           0.928156       0            0              \n 722  False           0.805854       0            0              \n 723  True            0.363550       1            0              \n 724  False           0.565101       0            0              \n 725  False           0.958053       1            1              \n 726  False           0.993966       1            1              \n 727  False           0.493325       0            1              \n 728  False           0.988997       0            0              \n 729  False           0.866082       1            1              \n 730  False           0.922633       1            1              \n 731  False           0.828006       0            0              \n 732  False           0.983271       1            1              \n 733  False           0.994616       1            1              \n 734  False           0.999612       1            1              \n 735  True            0.114277       1            0              \n 736  False           0.804774       0            0              \n 737  False           0.536988       1            1              \n 738  False           0.982949       1            1              \n 739  False           0.993830       0            0              \n 740  True            0.044581       1            0              \n 741  False           0.704787       1            1              \n 742  False           0.998847       1            1              \n 743  True            0.017085       1            0              \n 744  False           0.823978       1            1              \n 745  False           0.990959       1            1              \n 746  True            0.236322       1            0              \n 747  True            0.043777       0            1              \n 748  False           0.999277       1            1              \n 749  False           0.999683       1            1              \n 750  False           0.991507       1            1              \n 751  True            0.092467       0            1              \n 752  False           0.956028       1            1              \n 753  False           0.968023       1            1              \n 754  True            0.000406       0            1              \n 755  False           0.978188       0            0              \n 756  False           0.992127       1            1              \n 757  True            0.006795       0            1              \n 758  False           0.992835       1            1              \n 759  False           0.424321       0            1              \n 760  False           0.974881       1            1              \n 761  False           0.424168       0            1              \n 762  False           0.569700       1            1              \n 763  True            0.127667       0            1              \n 764  False           0.946739       1            1              \n 765  False           0.970575       1            1              \n 766  False           0.426656       0            1              \n 767  False           0.998716       1            1              \n 768  False           0.970393       1            1              \n 769  False           0.999204       1            1              \n 770  False           0.826420       1            1              \n 771  False           0.844664       0            0              \n 772  False           0.999800       1            1              \n 773  False           0.902767       1            1              \n 774  False           0.872440       1            1              \n 775  False           0.977346       0            0              \n 776  False           0.999015       1            1              \n 777  False           0.956055       1            1              \n 778  False           0.999613       1            1              \n 779  False           0.879573       1            1              \n 780  True            0.169173       0            1              \n 781  False           0.999346       1            1              \n 782  True            0.437571       1            0              \n 783  False           0.755509       0            0              \n 784  False           0.826095       1            1              \n 785  False           0.787830       1            1              \n 786  False           0.998328       1            1              \n 787  False           0.999703       1            1              \n 788  False           0.947812       0            0              \n 789  False           0.778340       0            0              \n 790  True            0.113109       0            1              \n 791  False           0.997000       1            1              \n 792  False           0.996385       1            1              \n 793  False           0.784543       1            1              \n 794  False           0.995904       1            1              \n 795  False           0.849232       1            1              \n 796  True            0.094186       0            1              \n 797  False           0.889840       1            1              \n 798  False           0.996055       1            1              \n 799  False           0.957458       1            1              \n 800  False           0.915588       1            1              \n 801  False           0.943441       1            1              \n 802  False           0.618283       1            1              \n 803  False           0.991613       1            1              \n 804  False           0.805504       1            1              \n 805  False           0.929137       0            0              \n 806  False           0.993847       1            1              \n 807  False           0.999326       1            1              \n 808  True            0.076620       1            0              \n 809  False           0.465389       0            1              \n 810  False           0.949437       1            1              \n 811  False           0.990796       1            1              \n 812  False           0.714248       0            0              \n 813  False           0.855334       0            0              \n 814  False           0.859116       0            0              \n 815  True            0.055358       1            0              \n 816  False           0.997009       1            1              \n 817  False           0.999014       1            1              \n 818  True            0.003162       1            0              \n 819  False           0.680179       0            0              \n 820  False           0.997059       1            1              \n 821  False           0.987998       1            1              \n 822  False           0.417928       0            1              \n 823  False           0.987104       1            1              \n 824  False           0.993665       1            1              \n 825  True            0.036700       1            0              \n 826  False           0.404206       0            1              \n 827  False           0.536763       0            0              \n 828  False           0.807763       0            0              \n 829  False           0.898936       1            1              \n 830  False           0.961117       1            1              \n 831  False           0.994981       0            0              \n 832  False           0.988963       0            0              \n 833  False           0.918953       1            1              \n 834  True            0.011447       0            1              \n 835  False           0.798895       0            0              \n 836  True            0.444172       1            0              \n 837  False           0.984207       1            1              \n 838  False           0.997035       1            1              \n 839  False           0.999773       1            1              \n 840  False           0.570784       0            0              \n 841  False           0.975494       1            1              \n 842  True            0.041076       0            1              \n 843  False           0.863431       1            1              \n 844  False           0.994979       1            1              \n 845  False           0.999183       1            1              \n 846  True            0.056089       0            1              \n 847  False           0.964052       1            1              \n 848  False           0.985679       1            1              \n 849  True            0.111187       0            1              \n 850  False           0.759683       0            0              \n 851  False           0.999925       1            1              \n 852  False           0.997233       1            1              \n 853  False           0.997064       0            0              \n 854  False           0.810405       1            1              \n 855  False           0.984687       1            1              \n 856  False           0.998051       1            1              \n 857  False           0.952438       1            1              \n 858  False           0.587084       0            0              \n 859  False           0.997582       1            1              \n 860  False           0.999341       1            1              \n 861  True            0.016551       0            1              \n 862  False           0.532754       0            0              \n 863  False           0.758463       1            1              \n 864  True            0.003157       0            1              \n 865  False           0.857596       1            1              \n 866  True            0.476758       1            0              \n 867  False           0.951827       1            1              \n 868  False           0.955732       1            1              \n 869  True            0.046208       1            0              \n 870  False           0.967607       1            1              \n 871  False           0.988284       1            1              \n 872  False           0.850420       1            1              \n 873  False           0.988961       1            1              \n 874  False           0.956312       1            1              \n 875  False           0.782094       1            1              \n 876  True            0.015175       1            0              \n 877  False           0.982825       1            1              \n 878  True            0.279222       0            1              \n 879  False           0.999356       1            1              \n 880  False           0.991701       1            1              \n 881  False           0.763871       1            1              \n 882  False           0.969004       1            1              \n 883  False           0.998724       1            1              \n 884  True            0.081139       0            1              \n 885  False           0.479961       0            1              \n 886  False           0.991717       1            1              \n 887  False           0.980782       0            0              \n 888  False           0.855610       1            1              \n 889  True            0.392091       1            0              \n 890  True            0.450493       1            0              \n 891  False           0.999523       1            1              \n 892  False           0.927692       1            1              \n 893  False           0.939232       1            1              \n 894  False           0.998924       1            1              \n 895  False           0.994439       1            1              \n 896  True            0.306555       1            0              \n 897  False           0.989788       1            1              \n 898  False           0.994658       1            1              \n 899  False           0.450944       0            1              \n 900  True            0.093644       0            1              \n 901  False           0.999248       1            1              \n 902  False           0.979645       1            1              \n 903  False           0.994636       1            1              \n 904  False           0.998725       1            1              \n 905  False           0.903437       1            1              \n 906  False           0.863769       1            1              \n 907  False           0.931224       1            1              \n 908  False           0.995836       1            1              \n 909  False           0.922947       1            1              \n 910  True            0.457745       1            0              \n 911  True            0.126721       0            1              \n 912  False           0.680274       1            1              \n 913  False           0.999466       1            1              \n 914  False           0.766848       0            0              \n 915  False           0.648354       0            0              \n 916  False           0.999287       1            1              \n 917  False           0.878311       0            0              \n 918  False           0.631615       0            0              \n 919  False           0.630307       0            0              \n 920  False           0.832792       1            1              \n 921  False           0.978995       1            1              \n 922  False           0.539736       0            0              \n 923  False           0.936781       1            1              \n 924  False           0.923922       0            0              \n 925  False           0.923090       0            0              \n 926  True            0.482620       1            0              \n 927  False           0.696319       0            0              \n 928  False           0.999520       1            1              \n 929  True            0.042150       1            0              \n 930  True            0.393969       1            0              \n 931  True            0.142327       0            1              \n 932  False           0.986536       1            1              \n 933  False           0.996626       1            1              \n 934  False           0.896864       1            1              \n 935  False           0.673859       0            0              \n 936  True            0.079462       0            1              \n 937  False           0.766526       1            1              \n 938  False           0.983246       0            0              \n 939  False           0.999143       1            1              \n 940  False           0.987210       1            1              \n 941  False           0.998131       1            1              \n 942  False           0.961419       1            1              \n 943  False           0.999172       1            1              \n 944  False           0.993827       1            1              \n 945  False           0.637630       1            1              \n 946  False           0.390697       0            1              \n 947  False           0.987970       1            1              \n 948  True            0.060512       0            1              \n 949  True            0.000276       0            1              \n 950  False           0.921092       1            1              \n 951  False           0.672464       0            0              \n 952  True            0.025492       0            1              \n 953  False           0.994891       0            0              \n 954  False           0.947686       1            1              \n 955  False           0.783252       1            1              \n 956  False           0.996067       1            1              \n 957  False           0.994412       1            1              \n 958  False           0.637962       0            0              \n 959  False           0.946174       1            1              \n 960  False           0.998722       1            1              \n 961  True            0.078918       1            0              \n 962  False           0.982522       1            1              \n 963  True            0.002224       0            1              \n 964  False           0.919831       1            1              \n 965  False           0.872127       1            1              \n 966  True            0.028713       0            1              \n 967  False           0.943196       1            1              \n 968  False           0.952299       1            1              \n 969  False           0.997828       1            1              \n 970  False           0.968296       1            1              \n 971  False           0.835281       1            1              \n 972  False           0.998843       0            0              \n 973  False           0.994602       0            0              \n 974  False           0.997941       1            1              \n 975  True            0.452157       1            0              \n 976  False           0.994662       1            1              \n 977  False           0.947313       1            1              \n 978  True            0.018901       0            1              \n 979  False           0.937421       0            0              \n 980  True            0.003035       0            1              \n 981  True            0.190436       0            1              \n 982  False           0.747651       1            1              \n 983  False           0.394171       0            1              \n 984  False           0.979802       1            1              \n 985  False           0.940715       1            1              \n 986  True            0.352452       1            0              \n 987  False           0.998886       1            1              \n 988  False           0.912265       1            1              \n 989  False           0.796986       1            1              \n 990  False           0.969268       1            1              \n 991  False           0.939570       1            1              \n 992  False           0.639967       1            1              \n 993  True            0.105384       1            0              \n 994  False           0.998248       1            1              \n 995  False           0.995562       1            1              \n 996  False           0.788997       1            1              \n 997  False           0.996626       1            1              \n 998  False           0.964832       0            0              \n 999  False           0.864109       1            1              ,\n      is_label_issue  label_quality  given_label  predicted_label\n 3    True            0.405909       1            0              \n 14   True            0.174067       1            0              \n 17   True            0.226138       1            0              \n 36   True            0.155259       1            0              \n 44   True            0.196956       0            1              \n 56   True            0.007638       0            1              \n 66   True            0.414020       1            0              \n 68   True            0.010041       0            1              \n 74   True            0.015542       0            1              \n 80   True            0.005290       0            1              \n 92   True            0.030621       0            1              \n 101  True            0.080827       1            0              \n 105  True            0.045512       0            1              \n 108  True            0.100210       1            0              \n 116  True            0.086903       0            1              \n 118  True            0.146208       0            1              \n 124  True            0.029977       0            1              \n 126  True            0.103390       1            0              \n 129  True            0.081805       0            1              \n 130  True            0.388014       1            0              \n 132  True            0.238209       1            0              \n 137  True            0.051355       0            1              \n 142  True            0.233546       1            0              \n 148  True            0.111593       1            0              \n 155  True            0.299657       0            1              \n 157  True            0.011018       1            0              \n 169  True            0.023637       0            1              \n 175  True            0.001841       0            1              \n 180  True            0.133413       0            1              \n 181  True            0.086350       0            1              \n 186  True            0.026596       0            1              \n 188  True            0.268142       0            1              \n 189  True            0.203575       1            0              \n 190  True            0.052099       0            1              \n 195  True            0.027462       0            1              \n 201  True            0.147726       1            0              \n 203  True            0.178779       0            1              \n 205  True            0.169331       1            0              \n 208  True            0.274061       1            0              \n 213  True            0.007768       0            1              \n 216  True            0.271155       1            0              \n 218  True            0.029254       1            0              \n 221  True            0.164190       1            0              \n 226  True            0.273925       0            1              \n 228  True            0.005556       0            1              \n 229  True            0.413510       1            0              \n 230  True            0.168950       0            1              \n 235  True            0.084178       0            1              \n 236  True            0.141465       0            1              \n 237  True            0.047656       0            1              \n 248  True            0.230955       1            0              \n 249  True            0.019412       0            1              \n 257  True            0.075985       0            1              \n 262  True            0.155660       1            0              \n 278  True            0.001594       0            1              \n 285  True            0.099369       1            0              \n 286  True            0.007353       1            0              \n 301  True            0.005854       0            1              \n 302  True            0.104905       0            1              \n 308  True            0.018682       0            1              \n 331  True            0.021791       0            1              \n 335  True            0.000186       0            1              \n 338  True            0.200920       1            0              \n 339  True            0.172779       1            0              \n 340  True            0.012113       1            0              \n 342  True            0.328200       1            0              \n 343  True            0.358081       1            0              \n 360  True            0.078817       1            0              \n 364  True            0.217382       0            1              \n 367  True            0.276022       1            0              \n 373  True            0.306406       1            0              \n 395  True            0.421555       1            0              \n 396  True            0.369041       1            0              \n 397  True            0.386982       1            0              \n 398  True            0.132417       0            1              \n 401  True            0.319317       1            0              \n 405  True            0.130013       0            1              \n 407  True            0.483709       1            0              \n 409  True            0.011240       0            1              \n 410  True            0.322002       1            0              \n 412  True            0.004194       0            1              \n 416  True            0.027933       0            1              \n 417  True            0.222675       1            0              \n 424  True            0.005224       0            1              \n 435  True            0.004879       0            1              \n 438  True            0.222661       1            0              \n 449  True            0.038724       0            1              \n 457  True            0.191372       0            1              \n 463  True            0.230933       1            0              \n 470  True            0.143511       0            1              \n 481  True            0.312913       1            0              \n 482  True            0.458125       1            0              \n 485  True            0.031634       0            1              \n 495  True            0.034992       0            1              \n 496  True            0.146464       0            1              \n 500  True            0.224036       0            1              \n 501  True            0.192471       1            0              \n 505  True            0.003197       0            1              \n 507  True            0.097315       0            1              \n 517  True            0.016251       0            1              \n 521  True            0.048387       0            1              \n 525  True            0.341884       1            0              \n 531  True            0.141215       0            1              \n 535  True            0.011810       0            1              \n 540  True            0.172728       0            1              \n 541  True            0.360774       1            0              \n 542  True            0.113867       0            1              \n 543  True            0.004929       0            1              \n 552  True            0.097359       0            1              \n 556  True            0.219278       0            1              \n 557  True            0.201641       0            1              \n 558  True            0.015078       0            1              \n 560  True            0.417966       1            0              \n 561  True            0.175564       0            1              \n 566  True            0.276662       0            1              \n 573  True            0.206179       1            0              \n 583  True            0.276686       0            1              \n 589  True            0.026559       0            1              \n 597  True            0.103103       0            1              \n 598  True            0.069010       0            1              \n 601  True            0.274969       0            1              \n 603  True            0.210488       0            1              \n 604  True            0.361693       1            0              \n 605  True            0.043659       1            0              \n 607  True            0.175187       0            1              \n 611  True            0.006077       0            1              \n 616  True            0.324582       1            0              \n 618  True            0.209092       0            1              \n 622  True            0.024851       0            1              \n 633  True            0.150935       0            1              \n 637  True            0.380209       1            0              \n 642  True            0.160574       0            1              \n 645  True            0.210262       0            1              \n 646  True            0.162241       1            0              \n 647  True            0.017899       0            1              \n 650  True            0.091110       1            0              \n 651  True            0.095375       0            1              \n 653  True            0.118758       0            1              \n 658  True            0.385479       1            0              \n 660  True            0.459254       1            0              \n 665  True            0.304612       1            0              \n 678  True            0.061978       1            0              \n 691  True            0.270222       1            0              \n 700  True            0.017249       0            1              \n 701  True            0.295006       0            1              \n 703  True            0.461914       1            0              \n 708  True            0.230823       1            0              \n 723  True            0.363550       1            0              \n 735  True            0.114277       1            0              \n 740  True            0.044581       1            0              \n 743  True            0.017085       1            0              \n 746  True            0.236322       1            0              \n 747  True            0.043777       0            1              \n 751  True            0.092467       0            1              \n 754  True            0.000406       0            1              \n 757  True            0.006795       0            1              \n 763  True            0.127667       0            1              \n 780  True            0.169173       0            1              \n 782  True            0.437571       1            0              \n 790  True            0.113109       0            1              \n 796  True            0.094186       0            1              \n 808  True            0.076620       1            0              \n 815  True            0.055358       1            0              \n 818  True            0.003162       1            0              \n 825  True            0.036700       1            0              \n 834  True            0.011447       0            1              \n 836  True            0.444172       1            0              \n 842  True            0.041076       0            1              \n 846  True            0.056089       0            1              \n 849  True            0.111187       0            1              \n 861  True            0.016551       0            1              \n 864  True            0.003157       0            1              \n 866  True            0.476758       1            0              \n 869  True            0.046208       1            0              \n 876  True            0.015175       1            0              \n 878  True            0.279222       0            1              \n 884  True            0.081139       0            1              \n 889  True            0.392091       1            0              \n 890  True            0.450493       1            0              \n 896  True            0.306555       1            0              \n 900  True            0.093644       0            1              \n 910  True            0.457745       1            0              \n 911  True            0.126721       0            1              \n 926  True            0.482620       1            0              \n 929  True            0.042150       1            0              \n 930  True            0.393969       1            0              \n 931  True            0.142327       0            1              \n 936  True            0.079462       0            1              \n 948  True            0.060512       0            1              \n 949  True            0.000276       0            1              \n 952  True            0.025492       0            1              \n 961  True            0.078918       1            0              \n 963  True            0.002224       0            1              \n 966  True            0.028713       0            1              \n 975  True            0.452157       1            0              \n 978  True            0.018901       0            1              \n 980  True            0.003035       0            1              \n 981  True            0.190436       0            1              \n 986  True            0.352452       1            0              \n 993  True            0.105384       1            0              ,\n 200)"
     },
     "execution_count": 62,
     "metadata": {},
     "output_type": "execute_result"
    }
   ],
   "source": [
    "from scipy.io.arff import loadarff\n",
    "\n",
    "raw_data = loadarff('datasets/dataset_31_credit-g.arff')\n",
    "df_data = pd.DataFrame(raw_data[0])\n",
    "#df_data.drop(columns=['checking_status', 'savings_status', 'employment'], inplace=True)\n",
    "encdoded_data = encode_categorical_columns(df_data, 'class', None)\n",
    "# pred_probs, labels = wrong_label(encdoded_data, 'class')\n",
    "\n",
    "wrong_label(encdoded_data, 'class')\n",
    "\n",
    "# cl = cleanlab.classification.CleanLearning()\n",
    "# issues_dataframe = cl.find_label_issues(X=None, labels=labels, pred_probs=pred_probs, return_indices_ranked_by='self_confidence')\n",
    "# print(issues_dataframe)"
   ],
   "metadata": {
    "collapsed": false
   }
  },
  {
   "cell_type": "code",
   "execution_count": 63,
   "outputs": [
    {
     "name": "stdout",
     "output_type": "stream",
     "text": [
      "   Id  SepalLengthCm  SepalWidthCm  PetalLengthCm  PetalWidthCm      Species\n",
      "0  1   5.1            3.5           1.4            0.2           Iris-setosa\n",
      "1  2   4.9            3.0           1.4            0.2           Iris-setosa\n",
      "2  3   4.7            3.2           1.3            0.2           Iris-setosa\n",
      "3  4   4.6            3.1           1.5            0.2           Iris-setosa\n",
      "4  5   5.0            3.6           1.4            0.2           Iris-setosa\n"
     ]
    },
    {
     "ename": "ValueError",
     "evalue": "Value of 'color' is not the name of a column in 'data_frame'. Expected one of ['Id', 'SepalLengthCm', 'SepalWidthCm', 'PetalLengthCm', 'PetalWidthCm', 'Species_Iris-setosa', 'Species_Iris-versicolor', 'Species_Iris-virginica'] but received: target",
     "output_type": "error",
     "traceback": [
      "\u001B[1;31m---------------------------------------------------------------------------\u001B[0m",
      "\u001B[1;31mValueError\u001B[0m                                Traceback (most recent call last)",
      "\u001B[1;32m~\\AppData\\Local\\Temp\\ipykernel_21720\\2078612694.py\u001B[0m in \u001B[0;36m<cell line: 19>\u001B[1;34m()\u001B[0m\n\u001B[0;32m     17\u001B[0m \u001B[1;33m\u001B[0m\u001B[0m\n\u001B[0;32m     18\u001B[0m \u001B[0mdf_encoded\u001B[0m \u001B[1;33m=\u001B[0m \u001B[0mencode_categorical_columns\u001B[0m\u001B[1;33m(\u001B[0m\u001B[0mdf\u001B[0m\u001B[1;33m,\u001B[0m \u001B[1;34m'target'\u001B[0m\u001B[1;33m,\u001B[0m \u001B[1;32mNone\u001B[0m\u001B[1;33m)\u001B[0m\u001B[1;33m\u001B[0m\u001B[1;33m\u001B[0m\u001B[0m\n\u001B[1;32m---> 19\u001B[1;33m \u001B[0mfig\u001B[0m \u001B[1;33m=\u001B[0m \u001B[0mpx\u001B[0m\u001B[1;33m.\u001B[0m\u001B[0mparallel_coordinates\u001B[0m\u001B[1;33m(\u001B[0m\u001B[0mdf_encoded\u001B[0m\u001B[1;33m,\u001B[0m \u001B[0mcolor\u001B[0m\u001B[1;33m=\u001B[0m\u001B[1;34m'target'\u001B[0m\u001B[1;33m)\u001B[0m\u001B[1;33m\u001B[0m\u001B[1;33m\u001B[0m\u001B[0m\n\u001B[0m\u001B[0;32m     20\u001B[0m \u001B[0mfig\u001B[0m\u001B[1;33m.\u001B[0m\u001B[0mshow\u001B[0m\u001B[1;33m(\u001B[0m\u001B[1;33m)\u001B[0m\u001B[1;33m\u001B[0m\u001B[1;33m\u001B[0m\u001B[0m\n",
      "\u001B[1;32m~\\AppData\\Local\\Programs\\Python\\Python310\\lib\\site-packages\\plotly\\express\\_chart_types.py\u001B[0m in \u001B[0;36mparallel_coordinates\u001B[1;34m(data_frame, dimensions, color, labels, color_continuous_scale, range_color, color_continuous_midpoint, title, template, width, height)\u001B[0m\n\u001B[0;32m   1416\u001B[0m     \u001B[0mof\u001B[0m \u001B[0mthe\u001B[0m\u001B[0;31m \u001B[0m\u001B[0;31m`\u001B[0m\u001B[0mdimensions\u001B[0m\u001B[0;31m`\u001B[0m\u001B[1;33m.\u001B[0m\u001B[1;33m\u001B[0m\u001B[1;33m\u001B[0m\u001B[0m\n\u001B[0;32m   1417\u001B[0m     \"\"\"\n\u001B[1;32m-> 1418\u001B[1;33m     \u001B[1;32mreturn\u001B[0m \u001B[0mmake_figure\u001B[0m\u001B[1;33m(\u001B[0m\u001B[0margs\u001B[0m\u001B[1;33m=\u001B[0m\u001B[0mlocals\u001B[0m\u001B[1;33m(\u001B[0m\u001B[1;33m)\u001B[0m\u001B[1;33m,\u001B[0m \u001B[0mconstructor\u001B[0m\u001B[1;33m=\u001B[0m\u001B[0mgo\u001B[0m\u001B[1;33m.\u001B[0m\u001B[0mParcoords\u001B[0m\u001B[1;33m)\u001B[0m\u001B[1;33m\u001B[0m\u001B[1;33m\u001B[0m\u001B[0m\n\u001B[0m\u001B[0;32m   1419\u001B[0m \u001B[1;33m\u001B[0m\u001B[0m\n\u001B[0;32m   1420\u001B[0m \u001B[1;33m\u001B[0m\u001B[0m\n",
      "\u001B[1;32m~\\AppData\\Local\\Programs\\Python\\Python310\\lib\\site-packages\\plotly\\express\\_core.py\u001B[0m in \u001B[0;36mmake_figure\u001B[1;34m(args, constructor, trace_patch, layout_patch)\u001B[0m\n\u001B[0;32m   1988\u001B[0m     \u001B[0mapply_default_cascade\u001B[0m\u001B[1;33m(\u001B[0m\u001B[0margs\u001B[0m\u001B[1;33m)\u001B[0m\u001B[1;33m\u001B[0m\u001B[1;33m\u001B[0m\u001B[0m\n\u001B[0;32m   1989\u001B[0m \u001B[1;33m\u001B[0m\u001B[0m\n\u001B[1;32m-> 1990\u001B[1;33m     \u001B[0margs\u001B[0m \u001B[1;33m=\u001B[0m \u001B[0mbuild_dataframe\u001B[0m\u001B[1;33m(\u001B[0m\u001B[0margs\u001B[0m\u001B[1;33m,\u001B[0m \u001B[0mconstructor\u001B[0m\u001B[1;33m)\u001B[0m\u001B[1;33m\u001B[0m\u001B[1;33m\u001B[0m\u001B[0m\n\u001B[0m\u001B[0;32m   1991\u001B[0m     \u001B[1;32mif\u001B[0m \u001B[0mconstructor\u001B[0m \u001B[1;32min\u001B[0m \u001B[1;33m[\u001B[0m\u001B[0mgo\u001B[0m\u001B[1;33m.\u001B[0m\u001B[0mTreemap\u001B[0m\u001B[1;33m,\u001B[0m \u001B[0mgo\u001B[0m\u001B[1;33m.\u001B[0m\u001B[0mSunburst\u001B[0m\u001B[1;33m,\u001B[0m \u001B[0mgo\u001B[0m\u001B[1;33m.\u001B[0m\u001B[0mIcicle\u001B[0m\u001B[1;33m]\u001B[0m \u001B[1;32mand\u001B[0m \u001B[0margs\u001B[0m\u001B[1;33m[\u001B[0m\u001B[1;34m\"path\"\u001B[0m\u001B[1;33m]\u001B[0m \u001B[1;32mis\u001B[0m \u001B[1;32mnot\u001B[0m \u001B[1;32mNone\u001B[0m\u001B[1;33m:\u001B[0m\u001B[1;33m\u001B[0m\u001B[1;33m\u001B[0m\u001B[0m\n\u001B[0;32m   1992\u001B[0m         \u001B[0margs\u001B[0m \u001B[1;33m=\u001B[0m \u001B[0mprocess_dataframe_hierarchy\u001B[0m\u001B[1;33m(\u001B[0m\u001B[0margs\u001B[0m\u001B[1;33m)\u001B[0m\u001B[1;33m\u001B[0m\u001B[1;33m\u001B[0m\u001B[0m\n",
      "\u001B[1;32m~\\AppData\\Local\\Programs\\Python\\Python310\\lib\\site-packages\\plotly\\express\\_core.py\u001B[0m in \u001B[0;36mbuild_dataframe\u001B[1;34m(args, constructor)\u001B[0m\n\u001B[0;32m   1403\u001B[0m     \u001B[1;31m# now that things have been prepped, we do the systematic rewriting of `args`\u001B[0m\u001B[1;33m\u001B[0m\u001B[1;33m\u001B[0m\u001B[0m\n\u001B[0;32m   1404\u001B[0m \u001B[1;33m\u001B[0m\u001B[0m\n\u001B[1;32m-> 1405\u001B[1;33m     df_output, wide_id_vars = process_args_into_dataframe(\n\u001B[0m\u001B[0;32m   1406\u001B[0m         \u001B[0margs\u001B[0m\u001B[1;33m,\u001B[0m \u001B[0mwide_mode\u001B[0m\u001B[1;33m,\u001B[0m \u001B[0mvar_name\u001B[0m\u001B[1;33m,\u001B[0m \u001B[0mvalue_name\u001B[0m\u001B[1;33m\u001B[0m\u001B[1;33m\u001B[0m\u001B[0m\n\u001B[0;32m   1407\u001B[0m     )\n",
      "\u001B[1;32m~\\AppData\\Local\\Programs\\Python\\Python310\\lib\\site-packages\\plotly\\express\\_core.py\u001B[0m in \u001B[0;36mprocess_args_into_dataframe\u001B[1;34m(args, wide_mode, var_name, value_name)\u001B[0m\n\u001B[0;32m   1205\u001B[0m                         \u001B[1;32mif\u001B[0m \u001B[0margument\u001B[0m \u001B[1;33m==\u001B[0m \u001B[1;34m\"index\"\u001B[0m\u001B[1;33m:\u001B[0m\u001B[1;33m\u001B[0m\u001B[1;33m\u001B[0m\u001B[0m\n\u001B[0;32m   1206\u001B[0m                             \u001B[0merr_msg\u001B[0m \u001B[1;33m+=\u001B[0m \u001B[1;34m\"\\n To use the index, pass it in directly as `df.index`.\"\u001B[0m\u001B[1;33m\u001B[0m\u001B[1;33m\u001B[0m\u001B[0m\n\u001B[1;32m-> 1207\u001B[1;33m                         \u001B[1;32mraise\u001B[0m \u001B[0mValueError\u001B[0m\u001B[1;33m(\u001B[0m\u001B[0merr_msg\u001B[0m\u001B[1;33m)\u001B[0m\u001B[1;33m\u001B[0m\u001B[1;33m\u001B[0m\u001B[0m\n\u001B[0m\u001B[0;32m   1208\u001B[0m                 \u001B[1;32melif\u001B[0m \u001B[0mlength\u001B[0m \u001B[1;32mand\u001B[0m \u001B[0mlen\u001B[0m\u001B[1;33m(\u001B[0m\u001B[0mdf_input\u001B[0m\u001B[1;33m[\u001B[0m\u001B[0margument\u001B[0m\u001B[1;33m]\u001B[0m\u001B[1;33m)\u001B[0m \u001B[1;33m!=\u001B[0m \u001B[0mlength\u001B[0m\u001B[1;33m:\u001B[0m\u001B[1;33m\u001B[0m\u001B[1;33m\u001B[0m\u001B[0m\n\u001B[0;32m   1209\u001B[0m                     raise ValueError(\n",
      "\u001B[1;31mValueError\u001B[0m: Value of 'color' is not the name of a column in 'data_frame'. Expected one of ['Id', 'SepalLengthCm', 'SepalWidthCm', 'PetalLengthCm', 'PetalWidthCm', 'Species_Iris-setosa', 'Species_Iris-versicolor', 'Species_Iris-virginica'] but received: target"
     ]
    }
   ],
   "source": [
    "import plotly.express as px\n",
    "df = pd.read_csv('datasets/iris.csv')\n",
    "print(df.head())\n",
    "\n",
    "\n",
    "def pcp_plot(encoded_df, target):\n",
    "    #TODO: tekst/lookup table toevoegen met conversie categorische variabelen encoding\n",
    "\n",
    "    if target != 'None':\n",
    "        fig = px.parallel_coordinates(encoded_df, color=target)\n",
    "    else:\n",
    "        fig = px.parallel_coordinates(encoded_df)\n",
    "\n",
    "\n",
    "    return fig\n",
    "\n",
    "\n",
    "df_encoded = encode_categorical_columns(df, 'target', None)\n",
    "fig = px.parallel_coordinates(df_encoded, color='target')\n",
    "fig.show()"
   ],
   "metadata": {
    "collapsed": false
   }
  },
  {
   "cell_type": "code",
   "execution_count": null,
   "outputs": [],
   "source": [
    "def encode_categorical_columns(dataset, target, data_types):\n",
    "    # Find all categorical columns\n",
    "    # TODO: regel hieronder aanpassen naar wat de user heeft ingegeven (let hierbij op strings als dtype, moeten gezien worden als categorical)\n",
    "    categorical_cols = dataset.select_dtypes(include=['object', 'category']).columns.tolist()\n",
    "\n",
    "    target_is_categorical = False\n",
    "    if target != 'None':\n",
    "        # remove target as we want to label encode this (for classification problems)\n",
    "        if target in categorical_cols:\n",
    "            target_is_categorical = True\n",
    "            categorical_cols.remove(target)\n",
    "\n",
    "            # label encode target\n",
    "            le = LabelEncoder()\n",
    "            encoded_target = le.fit_transform(dataset[target])\n",
    "            # replace target column with label encoded values\n",
    "            dataset.drop(columns=[target], inplace=True)\n",
    "            dataset[target] = encoded_target\n",
    "\n",
    "    if not categorical_cols:  # then no features are categorical, and we're done\n",
    "        return dataset\n",
    "\n",
    "    # if there are categorical columns, we want to one-hot-encode them\n",
    "\n",
    "    # encode categoricals\n",
    "    encoder = OneHotEncoder(handle_unknown='ignore', max_categories=100)\n",
    "    encoded_columns = encoder.fit_transform(dataset[categorical_cols])\n",
    "    new_columns = pd.DataFrame(encoded_columns.toarray(), columns=encoder.get_feature_names_out(categorical_cols))\n",
    "\n",
    "    # add new columns to df and drop old ones\n",
    "    dataset_encoded = pd.concat([dataset, new_columns], axis=1)\n",
    "    dataset_encoded = dataset_encoded.drop(columns=categorical_cols)\n",
    "\n",
    "    # reposition target column to the end of the dataframe\n",
    "    if target != 'None' and target_is_categorical:\n",
    "        dataset_encoded.drop(columns=[target], inplace=True)\n",
    "        dataset_encoded[target] = encoded_target\n",
    "\n",
    "    #XGBClassifier doesn't accept: [, ] or <, so loop over the columns and change the names if they contain such values\n",
    "    new_col_names = {col: col.replace('<', '(smaller than)').replace('[', '(').replace(']', ')') for col in dataset_encoded.columns}\n",
    "    dataset_encoded = dataset_encoded.rename(columns=new_col_names)\n",
    "\n",
    "    return dataset_encoded"
   ],
   "metadata": {
    "collapsed": false
   }
  },
  {
   "cell_type": "code",
   "execution_count": null,
   "outputs": [],
   "source": [
    "import missingno as msno\n",
    "\n",
    "def missingno_plot(df):\n",
    "\n",
    "    msno_plot = msno.matrix(df)\n",
    "\n",
    "    return msno_plot\n",
    "\n",
    "\n",
    "df = pd.read_csv('datasets/titanic_train.csv')\n",
    "print(df.head())\n",
    "\n",
    "missingno_plot(df)"
   ],
   "metadata": {
    "collapsed": false
   }
  },
  {
   "cell_type": "code",
   "execution_count": null,
   "outputs": [],
   "source": [
    "from sklearn.tree\n",
    "def plot_feature_importance(X, y, feature_names):\n",
    "    \"\"\"\n",
    "    Predicts the feature importance using a random forest and plots it.\n",
    "\n",
    "    Parameters:\n",
    "    -----------\n",
    "    X : numpy array, shape (n_samples, n_features)\n",
    "        The input data.\n",
    "    y : numpy array, shape (n_samples,)\n",
    "        The target values.\n",
    "    feature_names : list of strings, shape (n_features,)\n",
    "        The names of the features.\n",
    "\n",
    "    Returns:\n",
    "    --------\n",
    "    None\n",
    "    \"\"\"\n",
    "    # Initialize the random forest regressor\n",
    "    rf = RandomForestRegressor(n_estimators=100, random_state=42)\n",
    "\n",
    "    # Fit the random forest to the data\n",
    "    rf.fit(X, y)\n",
    "\n",
    "    # Get the feature importances\n",
    "    feature_importances = rf.feature_importances_\n",
    "\n",
    "    # Sort the feature importances in descending order\n",
    "    indices = np.argsort(feature_importances)[::-1]\n",
    "\n",
    "    # Plot the feature importances\n",
    "    plt.figure()\n",
    "    plt.title(\"Feature Importance\")\n",
    "    plt.bar(range(X.shape[1]), feature_importances[indices])\n",
    "    plt.xticks(range(X.shape[1]), feature_names[indices], rotation=90)\n",
    "    plt.tight_layout()\n",
    "    plt.show()\n",
    "\n",
    "\n",
    "\n",
    "\n",
    "# Generate some random data\n",
    "X = np.random.rand(100, 5)\n",
    "y = np.random.rand(100)\n",
    "\n",
    "# Define the feature names\n",
    "feature_names = [\"Feature 1\", \"Feature 2\", \"Feature 3\", \"Feature 4\", \"Feature 5\"]\n",
    "\n",
    "# Call the function to plot the feature importance\n",
    "plot_feature_importance(X, y, feature_names)"
   ],
   "metadata": {
    "collapsed": false
   }
  },
  {
   "cell_type": "code",
   "execution_count": null,
   "outputs": [],
   "source": [
    "import sortinghatinf\n",
    "\n"
   ],
   "metadata": {
    "collapsed": false
   }
  },
  {
   "cell_type": "code",
   "execution_count": null,
   "outputs": [],
   "source": [
    "dict = {'Data Type': {'Id': 'dtype(int64)', 'SepalLengthCm': 'dtype(int64)', 'SepalWidthCm': 'dtype(int64)', 'PetalLengthCm': 'dtype(int64)', 'PetalWidthCm': 'dtype(int64)', 'Species': 'dtype(int64)'}, 'Missing Values%': {'Id': 0.0, 'SepalLengthCm': 0.0, 'SepalWidthCm': 0.0, 'PetalLengthCm': 0.0, 'PetalWidthCm': 0.0, 'Species': 0.0}, 'Unique Values%': {'Id': 100, 'SepalLengthCm': 'NA', 'SepalWidthCm': 'NA', 'PetalLengthCm': 'NA', 'PetalWidthCm': 'NA', 'Species': 2}, 'Minimum Value': {'Id': 1.0, 'SepalLengthCm': 4.3, 'SepalWidthCm': 2.0, 'PetalLengthCm': 1.0, 'PetalWidthCm': 0.1, 'Species': 0.0}, 'Maximum Value': {'Id': 150.0, 'SepalLengthCm': 7.9, 'SepalWidthCm': 4.4, 'PetalLengthCm': 6.9, 'PetalWidthCm': 2.5, 'Species': 2.0}, 'DQ Issue': {'Id': 'Possible ID colum: drop before modeling process.,     Id has a correlation >= 0.8 with Species. Possible data leakage. Double check this variable.', 'SepalLengthCm': 'No issue', 'SepalWidthCm': 'has 4 outliers greater than upper bound (4.05) or lower than lower bound(2.05). Cap them or remove them.', 'PetalLengthCm': \"has a high correlation with ['Id', 'SepalLengthCm']. Consider dropping one of them.,     PetalLengthCm has a correlation >= 0.8 with Species. Possible data leakage. Double check this variable.\", 'PetalWidthCm': \"has a high correlation with ['Id', 'SepalLengthCm', 'PetalLengthCm']. Consider dropping one of them.,     PetalWidthCm has a correlation >= 0.8 with Species. Possible data leakage. Double check this variable.\", 'Species': \"has a high correlation with ['Id', 'PetalLengthCm', 'PetalWidthCm']. Consider dropping one of them.\"}}\n",
    "\n",
    "import pandas as pd\n",
    "from typing import Dict\n",
    "\n",
    "def dict_to_dataframe(d: Dict[str, Dict[str, any]]) -> pd.DataFrame:\n",
    "    data = {}\n",
    "    for key in d:\n",
    "        for sub_key, value in d[key].items():\n",
    "            if sub_key not in data:\n",
    "                data[sub_key] = []\n",
    "            data[sub_key].append(value)\n",
    "    return pd.DataFrame(data)\n",
    "output = dict_to_dataframe(dict)\n",
    "print(output.head())"
   ],
   "metadata": {
    "collapsed": false
   }
  },
  {
   "cell_type": "code",
   "execution_count": 11,
   "outputs": [],
   "source": [
    "import pandas as pd\n",
    "from itertools import product\n",
    "import numpy as np\n",
    "\n",
    "def sensitive_feature_combinations(dataset_original, sensitive_features, target_column, bins=5):\n",
    "    # Create a copy of the dataset to avoid modifying the original data\n",
    "    if sensitive_features:\n",
    "        dataset = dataset_original.copy()\n",
    "        #TODO: callback maken die sensitive features ingeeft\n",
    "        #TODO: iets bedenken voor regression\n",
    "        #bin numeric sensitive features into 5 bins\n",
    "        for feat in sensitive_features:\n",
    "            if pd.api.types.is_numeric_dtype(dataset[feat]):        #TODO: baseren op data type inference sortinghat\n",
    "            #if dtypes[col] == 'floating' or dtypes[col] == 'numeric' or dtypes[col] == 'integer':\n",
    "                dataset[feat] = pd.cut(dataset[feat], bins=bins)\n",
    "\n",
    "        #obtain all combinations of sensitive features\n",
    "        sensitive_combinations = list(product(*[dataset[feat].unique() for feat in sensitive_features]))\n",
    "        #print(sensitive_combinations)\n",
    "        # Initialize empty dictionary to store counts\n",
    "        counts = {}\n",
    "\n",
    "        # Loop through each sensitive feature combination\n",
    "        for combo in sensitive_combinations:\n",
    "            # Create a mask for rows that match the current combination\n",
    "            mask = True\n",
    "            for i, feat in enumerate(sensitive_features):\n",
    "                mask = mask & (dataset[feat] == combo[i])\n",
    "\n",
    "            # Count the number of rows that match the mask and the target value\n",
    "            count = dataset.loc[mask, target_column].value_counts()\n",
    "\n",
    "            # Store the count in the dictionary\n",
    "            counts[combo] = count.to_dict()\n",
    "\n",
    "        # Convert dictionary to a pandas DataFrame\n",
    "        result = pd.DataFrame.from_dict(counts, orient='index').fillna(0)\n",
    "\n",
    "        # Add a column for the total count\n",
    "        result['count'] = result.sum(axis=1)\n",
    "\n",
    "        # Add a column for the sensitive feature combination\n",
    "        result['sensitive_features'] = result.index.map(lambda x: ', '.join(map(str, x)))\n",
    "\n",
    "        # Reorder the columns\n",
    "        result = result[['sensitive_features', 'count'] + list(dataset[target_column].unique())]\n",
    "\n",
    "        return result\n",
    "\n",
    "    else: #no sensitive features selected\n",
    "        return None"
   ],
   "metadata": {
    "collapsed": false
   }
  },
  {
   "cell_type": "code",
   "execution_count": 14,
   "outputs": [
    {
     "name": "stdout",
     "output_type": "stream",
     "text": [
      "None\n"
     ]
    }
   ],
   "source": [
    "data = pd.read_csv('datasets/adult.csv')\n",
    "data.head()\n",
    "sensitive_features = None #['race', 'gender', 'age']\n",
    "target_column = 'income'\n",
    "# Permanently changes the pandas settings\n",
    "pd.set_option('display.max_rows', None)\n",
    "pd.set_option('display.max_columns', None)\n",
    "pd.set_option('display.width', None)\n",
    "pd.set_option('display.max_colwidth', None)\n",
    "\n",
    "# # All dataframes hereafter reflect these changes.\n",
    "# display(df)\n",
    "#\n",
    "# print('**RESET_OPTIONS**')\n",
    "#\n",
    "# # Resets the options\n",
    "# pd.reset_option('all')\n",
    "\n",
    "print(sensitive_feature_combinations(data, sensitive_features, target_column, bins=5))\n"
   ],
   "metadata": {
    "collapsed": false
   }
  },
  {
   "cell_type": "code",
   "execution_count": 15,
   "outputs": [
    {
     "ename": "AttributeError",
     "evalue": "'NoneType' object has no attribute 'columns'",
     "output_type": "error",
     "traceback": [
      "\u001B[1;31m---------------------------------------------------------------------------\u001B[0m",
      "\u001B[1;31mAttributeError\u001B[0m                            Traceback (most recent call last)",
      "\u001B[1;32m~\\AppData\\Local\\Temp\\ipykernel_28256\\3669765811.py\u001B[0m in \u001B[0;36m<cell line: 17>\u001B[1;34m()\u001B[0m\n\u001B[0;32m     15\u001B[0m     \u001B[1;32mreturn\u001B[0m \u001B[0mfig\u001B[0m\u001B[1;33m\u001B[0m\u001B[1;33m\u001B[0m\u001B[0m\n\u001B[0;32m     16\u001B[0m \u001B[1;33m\u001B[0m\u001B[0m\n\u001B[1;32m---> 17\u001B[1;33m \u001B[0mfig\u001B[0m \u001B[1;33m=\u001B[0m \u001B[0mplot_stacked_barchart\u001B[0m\u001B[1;33m(\u001B[0m\u001B[0mcounts_table\u001B[0m\u001B[1;33m)\u001B[0m\u001B[1;33m\u001B[0m\u001B[1;33m\u001B[0m\u001B[0m\n\u001B[0m\u001B[0;32m     18\u001B[0m \u001B[0mfig\u001B[0m\u001B[1;33m.\u001B[0m\u001B[0mshow\u001B[0m\u001B[1;33m(\u001B[0m\u001B[1;33m)\u001B[0m\u001B[1;33m\u001B[0m\u001B[1;33m\u001B[0m\u001B[0m\n\u001B[0;32m     19\u001B[0m \u001B[1;33m\u001B[0m\u001B[0m\n",
      "\u001B[1;32m~\\AppData\\Local\\Temp\\ipykernel_28256\\3669765811.py\u001B[0m in \u001B[0;36mplot_stacked_barchart\u001B[1;34m(sensitive_feature_counts_table)\u001B[0m\n\u001B[0;32m      6\u001B[0m     \u001B[1;34m\"\"\"\"creates a plotly stacked bar chart to display the distribution of class labels per sensitive subgroup\"\"\"\u001B[0m\u001B[1;33m\u001B[0m\u001B[1;33m\u001B[0m\u001B[0m\n\u001B[0;32m      7\u001B[0m     \u001B[1;31m#table always looks the same (sensitive features (vary in amount), count, class labels (vary in amount))\u001B[0m\u001B[1;33m\u001B[0m\u001B[1;33m\u001B[0m\u001B[0m\n\u001B[1;32m----> 8\u001B[1;33m     \u001B[0mlist_of_labels\u001B[0m \u001B[1;33m=\u001B[0m \u001B[0mlist\u001B[0m\u001B[1;33m(\u001B[0m\u001B[0msensitive_feature_counts_table\u001B[0m\u001B[1;33m.\u001B[0m\u001B[0mcolumns\u001B[0m\u001B[1;33m)\u001B[0m\u001B[1;33m\u001B[0m\u001B[1;33m\u001B[0m\u001B[0m\n\u001B[0m\u001B[0;32m      9\u001B[0m     \u001B[0mlist_of_labels\u001B[0m\u001B[1;33m.\u001B[0m\u001B[0mremove\u001B[0m\u001B[1;33m(\u001B[0m\u001B[1;34m'sensitive_features'\u001B[0m\u001B[1;33m)\u001B[0m\u001B[1;33m\u001B[0m\u001B[1;33m\u001B[0m\u001B[0m\n\u001B[0;32m     10\u001B[0m     \u001B[0mlist_of_labels\u001B[0m\u001B[1;33m.\u001B[0m\u001B[0mremove\u001B[0m\u001B[1;33m(\u001B[0m\u001B[1;34m'count'\u001B[0m\u001B[1;33m)\u001B[0m\u001B[1;33m\u001B[0m\u001B[1;33m\u001B[0m\u001B[0m\n",
      "\u001B[1;31mAttributeError\u001B[0m: 'NoneType' object has no attribute 'columns'"
     ]
    }
   ],
   "source": [
    "# Call the sensitive_feature_combinations function to get the counts table\n",
    "counts_table = sensitive_feature_combinations(data, sensitive_features, target_column)\n",
    "\n",
    "\n",
    "def plot_stacked_barchart(sensitive_feature_counts_table):\n",
    "    \"\"\"\"creates a plotly stacked bar chart to display the distribution of class labels per sensitive subgroup\"\"\"\n",
    "    #table always looks the same (sensitive features (vary in amount), count, class labels (vary in amount))\n",
    "    #TODO: fix in  dash inbouwen dat als sensitive_feature_counts_table None is, hij deze functie niet aanroept, en regression anders\n",
    "    list_of_labels = list(sensitive_feature_counts_table.columns)\n",
    "    list_of_labels.remove('sensitive_features')\n",
    "    list_of_labels.remove('count')\n",
    "    fig = px.bar(sensitive_feature_counts_table, x=list_of_labels, y='sensitive_features', barmode='stack', title='Sensitive Feature Combinations vs Target Column', orientation='h')\n",
    "    # Set the x-axis title\n",
    "    fig.update_xaxes(title_text='Count')\n",
    "\n",
    "    return fig\n",
    "\n",
    "fig = plot_stacked_barchart(counts_table)\n",
    "fig.show()\n"
   ],
   "metadata": {
    "collapsed": false
   }
  },
  {
   "cell_type": "code",
   "execution_count": 12,
   "outputs": [
    {
     "ename": "NameError",
     "evalue": "name 'sensitive_feature_combinations' is not defined",
     "output_type": "error",
     "traceback": [
      "\u001B[1;31m---------------------------------------------------------------------------\u001B[0m",
      "\u001B[1;31mNameError\u001B[0m                                 Traceback (most recent call last)",
      "\u001B[1;32m~\\AppData\\Local\\Temp\\ipykernel_23180\\2138845420.py\u001B[0m in \u001B[0;36m<cell line: 5>\u001B[1;34m()\u001B[0m\n\u001B[0;32m      3\u001B[0m \u001B[0msensitive_features\u001B[0m \u001B[1;33m=\u001B[0m \u001B[1;33m[\u001B[0m\u001B[1;34m'Age'\u001B[0m\u001B[1;33m,\u001B[0m \u001B[1;34m'Sex'\u001B[0m\u001B[1;33m,\u001B[0m \u001B[1;34m'Job'\u001B[0m\u001B[1;33m,\u001B[0m \u001B[1;34m'Saving accounts'\u001B[0m\u001B[1;33m]\u001B[0m\u001B[1;33m\u001B[0m\u001B[1;33m\u001B[0m\u001B[0m\n\u001B[0;32m      4\u001B[0m \u001B[0mtarget_column\u001B[0m \u001B[1;33m=\u001B[0m \u001B[1;34m'Housing'\u001B[0m\u001B[1;33m\u001B[0m\u001B[1;33m\u001B[0m\u001B[0m\n\u001B[1;32m----> 5\u001B[1;33m \u001B[0mcounts_table\u001B[0m \u001B[1;33m=\u001B[0m \u001B[0msensitive_feature_combinations\u001B[0m\u001B[1;33m(\u001B[0m\u001B[0mdata\u001B[0m\u001B[1;33m,\u001B[0m \u001B[0msensitive_features\u001B[0m\u001B[1;33m,\u001B[0m \u001B[0mtarget_column\u001B[0m\u001B[1;33m)\u001B[0m\u001B[1;33m\u001B[0m\u001B[1;33m\u001B[0m\u001B[0m\n\u001B[0m\u001B[0;32m      6\u001B[0m \u001B[0mprint\u001B[0m\u001B[1;33m(\u001B[0m\u001B[0mcounts_table\u001B[0m\u001B[1;33m)\u001B[0m\u001B[1;33m\u001B[0m\u001B[1;33m\u001B[0m\u001B[0m\n\u001B[0;32m      7\u001B[0m \u001B[0mfig\u001B[0m \u001B[1;33m=\u001B[0m \u001B[0mplot_stacked_barchart\u001B[0m\u001B[1;33m(\u001B[0m\u001B[0mcounts_table\u001B[0m\u001B[1;33m)\u001B[0m\u001B[1;33m\u001B[0m\u001B[1;33m\u001B[0m\u001B[0m\n",
      "\u001B[1;31mNameError\u001B[0m: name 'sensitive_feature_combinations' is not defined"
     ]
    }
   ],
   "source": [
    "data = pd.read_csv('datasets/german_credit_data.csv')\n",
    "data.head()\n",
    "sensitive_features = ['Age', 'Sex', 'Job', 'Saving accounts']\n",
    "target_column = 'Housing'\n",
    "counts_table = sensitive_feature_combinations(data, sensitive_features, target_column)\n",
    "print(counts_table)\n",
    "fig = plot_stacked_barchart(counts_table)\n",
    "fig.show()"
   ],
   "metadata": {
    "collapsed": false
   }
  },
  {
   "cell_type": "code",
   "execution_count": 144,
   "outputs": [],
   "source": [
    "import pandas as pd\n",
    "import plotly.express as px\n",
    "\n",
    "def plot_dataset_distributions(data, dtypes):\n",
    "    \"\"\"\"plots the distributions per column in the dataset\"\"\"\n",
    "    # Initialize an empty list to store the figures\n",
    "    figs = []\n",
    "\n",
    "    #each datatypre requires different plotting\n",
    "    for col in data.columns:\n",
    "        #histogram for numerical values\n",
    "        if dtypes[col] == 'floating' or dtypes[col] == 'numeric' or dtypes[col] == 'integer':\n",
    "            fig = px.histogram(data, x=col, title=f'{col} distribution')\n",
    "            figs.append(fig)\n",
    "\n",
    "        #bar chart for categoricals & booleans\n",
    "        elif dtypes[col] == 'boolean':\n",
    "            fig = px.bar(data, x=col, color=col, title=f'{col} distribution')\n",
    "            figs.append(fig)\n",
    "        elif dtypes[col] == 'categorical':\n",
    "            fig = px.bar(data, x=col, title=f'{col} distribution')\n",
    "            figs.append(fig)\n",
    "\n",
    "        #for sentences, create a word cloud\n",
    "        elif dtypes[col] == 'sentence':\n",
    "            word_counts = data[col].str.split(expand=True).stack().value_counts()\n",
    "            fig = px.bar(x=word_counts.index, y=word_counts.values, title=f'{col} word cloud')\n",
    "            fig.update_layout(xaxis={'categoryorder':'total descending'})\n",
    "            figs.append(fig)\n",
    "\n",
    "    return figs\n"
   ],
   "metadata": {
    "collapsed": false
   }
  },
  {
   "cell_type": "code",
   "execution_count": 147,
   "outputs": [
    {
     "name": "stdout",
     "output_type": "stream",
     "text": [
      "floating\n",
      "floating\n"
     ]
    }
   ],
   "source": [
    "dict = {'4046': 'floating', '4225': 'floating', '4770': 'floating', 'Date': 'datetime', 'AveragePrice': 'floating', 'Total Volume': 'floating', 'Total Bags': 'floating', 'Small Bags': 'floating', 'Large Bags': 'floating', 'XLarge Bags': 'floating', 'type': 'categorical', 'year': 'categorical', 'region': 'categorical'}\n",
    "lijstje = ['4046', '4225']\n",
    "for col in lijstje:\n",
    "    print(dict[col])"
   ],
   "metadata": {
    "collapsed": false
   }
  },
  {
   "cell_type": "code",
   "execution_count": 137,
   "outputs": [],
   "source": [
    "import sortinghatinf #algorithm to predict the feature type out og [numeric, categorical, datetime, sentence,\n",
    "def obtain_feature_type_table(df):\n",
    "    \"\"\"\"Function to predict the feature types\n",
    "    INPUT: pandas DataFrame\n",
    "    OUTPUT: Pandas DataFrame with feature types at index 0 and nothing else : [column names ]\n",
    "                                                                              [feature_types]\n",
    "    \"\"\"\n",
    "    #print('df.columns:', list(df.columns))\n",
    "    predicted_feature_types = sortinghatinf.get_expanded_feature_types(df)\n",
    "    feature_type_table = pd.DataFrame(columns=list(df.columns))\n",
    "    feature_type_table.loc[len(feature_type_table)] = predicted_feature_types\n",
    "\n",
    "    return feature_type_table\n"
   ],
   "metadata": {
    "collapsed": false
   }
  },
  {
   "cell_type": "code",
   "execution_count": 143,
   "outputs": [
    {
     "name": "stdout",
     "output_type": "stream",
     "text": [
      "['Unnamed: 0', 'Age', 'Sex', 'Job', 'Housing', 'Saving accounts', 'Checking account', 'Credit amount', 'Duration', 'Purpose']\n",
      "['not-generalizable', 'integer', 'categorical', 'categorical', 'categorical', 'categorical', 'categorical', 'integer', 'integer', 'categorical']\n"
     ]
    }
   ],
   "source": [
    "feature_type_table = obtain_feature_type_table(data)\n",
    "print(list(feature_type_table.columns))\n",
    "print(list(feature_type_table.iloc[0]))\n",
    "\n"
   ],
   "metadata": {
    "collapsed": false
   }
  },
  {
   "cell_type": "code",
   "execution_count": 5,
   "outputs": [],
   "source": [
    "def wrong_label(encoded_dataset, target):\n",
    "    \"\"\"\"Function that finds potential label errors (due to annotator mistakes), edge cases, and otherwise ambiguous examples\"\"\"\n",
    "    model_XGBC = XGBClassifier(tree_method=\"hist\", enable_categorical=True)  # hist is fastest tree method of XGBoost, use default model\n",
    "    # TODO: def main problem? testen\n",
    "\n",
    "    data_no_labels = encoded_dataset.drop(columns=[target])\n",
    "    labels = encoded_dataset[target]\n",
    "\n",
    "    #obtain predicted probabilities using 5 fold cross validation\n",
    "    pred_probs = cross_val_predict(model_XGBC, data_no_labels, labels, method='predict_proba')\n",
    "\n",
    "    preds = np.argmax(pred_probs, axis=1)\n",
    "    acc_original = accuracy_score(preds, labels)\n",
    "    print(f\"Accuracy with original data: {round(acc_original * 100, 1)}%\")\n",
    "    print(model_XGBC.feature_importances_)\n",
    "    #use cleanlabs built in confident learning method to find label issues\n",
    "    # cl = cleanlab.classification.CleanLearning()\n",
    "    # issues_dataframe = cl.find_label_issues(X=None, labels=labels, pred_probs=pred_probs)\n",
    "    # wrong_label_count = (issues_dataframe['is_label_issue'] == True).sum()\n",
    "    #\n",
    "    # # filter df so only errors are visible\n",
    "    # issues_dataframe_only_errors = issues_dataframe[issues_dataframe['is_label_issue'] == True]\n",
    "\n",
    "    return None #issues_dataframe, issues_dataframe_only_errors, wrong_label_count\n",
    "\n",
    "\n",
    "\n",
    "\n",
    "\n"
   ],
   "metadata": {
    "collapsed": false
   }
  },
  {
   "cell_type": "code",
   "execution_count": 2,
   "outputs": [],
   "source": [
    "def encode_categorical_columns(dataset, target, data_types):\n",
    "    # Find all categorical columns\n",
    "    # TODO: regel hieronder aanpassen naar wat de user heeft ingegeven (let hierbij op strings als dtype, moeten gezien worden als categorical)\n",
    "    categorical_cols = dataset.select_dtypes(include=['object', 'category']).columns.tolist()\n",
    "\n",
    "    target_is_categorical = False\n",
    "    if target != 'None':\n",
    "        print('checkpoint 1')\n",
    "        # remove target as we want to label encode this (for classification problems)\n",
    "        if target in categorical_cols:\n",
    "            target_is_categorical = True\n",
    "            categorical_cols.remove(target)\n",
    "\n",
    "            # label encode target\n",
    "            le = LabelEncoder()\n",
    "            encoded_target = le.fit_transform(dataset[target])\n",
    "            print('checkpoint 2')\n",
    "            # replace target column with label encoded values\n",
    "            dataset.drop(columns=[target], inplace=True)\n",
    "            dataset[target] = encoded_target\n",
    "\n",
    "    if not categorical_cols:  # then no features are categorical, and we're done\n",
    "        return dataset\n",
    "    print('checkpoint 3')\n",
    "\n",
    "    # if there are categorical columns, we want to one-hot-encode them\n",
    "\n",
    "    # encode categoricals\n",
    "    encoder = OneHotEncoder(handle_unknown='ignore', max_categories=100)\n",
    "    encoded_columns = encoder.fit_transform(dataset[categorical_cols])\n",
    "    print('checkpoint 4')\n",
    "    new_columns = pd.DataFrame(encoded_columns.toarray(), columns=encoder.get_feature_names_out(categorical_cols))\n",
    "\n",
    "    # add new columns to df and drop old ones\n",
    "    dataset_encoded = pd.concat([dataset, new_columns], axis=1)\n",
    "    dataset_encoded = dataset_encoded.drop(columns=categorical_cols)\n",
    "\n",
    "    # reposition target column to the end of the dataframe\n",
    "    print('checkpoint 5')\n",
    "    if target != 'None' and target_is_categorical:\n",
    "        dataset_encoded.drop(columns=[target], inplace=True)\n",
    "        dataset_encoded[target] = encoded_target\n",
    "    print('checkpoint 6')\n",
    "    #XGBClassifier doesn't accept: [, ] or <, so loop over the columns and change the names if they contain such values\n",
    "    new_col_names = {col: col.replace('<', '(smaller than)').replace('[', '(').replace(']', ')') for col in dataset_encoded.columns}\n",
    "    dataset_encoded = dataset_encoded.rename(columns=new_col_names)\n",
    "\n",
    "    return dataset_encoded"
   ],
   "metadata": {
    "collapsed": false
   }
  },
  {
   "cell_type": "code",
   "execution_count": 29,
   "outputs": [
    {
     "name": "stdout",
     "output_type": "stream",
     "text": [
      "checkpoint 1\n",
      "checkpoint 2\n",
      "checkpoint 3\n",
      "checkpoint 4\n",
      "checkpoint 5\n",
      "checkpoint 6\n"
     ]
    }
   ],
   "source": [
    "data = pd.read_csv('datasets/adult.csv')\n",
    "data.head()\n",
    "encoded_dataset = encode_categorical_columns(data, 'income', None)"
   ],
   "metadata": {
    "collapsed": false
   }
  },
  {
   "cell_type": "code",
   "execution_count": 6,
   "outputs": [
    {
     "name": "stdout",
     "output_type": "stream",
     "text": [
      "Accuracy with original data: 87.3%\n"
     ]
    },
    {
     "ename": "NotFittedError",
     "evalue": "need to call fit or load_model beforehand",
     "output_type": "error",
     "traceback": [
      "\u001B[1;31m---------------------------------------------------------------------------\u001B[0m",
      "\u001B[1;31mNotFittedError\u001B[0m                            Traceback (most recent call last)",
      "\u001B[1;32m~\\AppData\\Local\\Temp\\ipykernel_23180\\906487464.py\u001B[0m in \u001B[0;36m<cell line: 1>\u001B[1;34m()\u001B[0m\n\u001B[1;32m----> 1\u001B[1;33m \u001B[0missues_dataframe\u001B[0m\u001B[1;33m,\u001B[0m \u001B[0missues_dataframe_only_errors\u001B[0m\u001B[1;33m,\u001B[0m \u001B[0mwrong_label_count\u001B[0m \u001B[1;33m=\u001B[0m \u001B[0mwrong_label\u001B[0m\u001B[1;33m(\u001B[0m\u001B[0mencoded_dataset\u001B[0m\u001B[1;33m,\u001B[0m \u001B[1;34m'income'\u001B[0m\u001B[1;33m)\u001B[0m\u001B[1;33m\u001B[0m\u001B[1;33m\u001B[0m\u001B[0m\n\u001B[0m",
      "\u001B[1;32m~\\AppData\\Local\\Temp\\ipykernel_23180\\4005149029.py\u001B[0m in \u001B[0;36mwrong_label\u001B[1;34m(encoded_dataset, target)\u001B[0m\n\u001B[0;32m     13\u001B[0m     \u001B[0macc_original\u001B[0m \u001B[1;33m=\u001B[0m \u001B[0maccuracy_score\u001B[0m\u001B[1;33m(\u001B[0m\u001B[0mpreds\u001B[0m\u001B[1;33m,\u001B[0m \u001B[0mlabels\u001B[0m\u001B[1;33m)\u001B[0m\u001B[1;33m\u001B[0m\u001B[1;33m\u001B[0m\u001B[0m\n\u001B[0;32m     14\u001B[0m     \u001B[0mprint\u001B[0m\u001B[1;33m(\u001B[0m\u001B[1;34mf\"Accuracy with original data: {round(acc_original * 100, 1)}%\"\u001B[0m\u001B[1;33m)\u001B[0m\u001B[1;33m\u001B[0m\u001B[1;33m\u001B[0m\u001B[0m\n\u001B[1;32m---> 15\u001B[1;33m     \u001B[0mprint\u001B[0m\u001B[1;33m(\u001B[0m\u001B[0mmodel_XGBC\u001B[0m\u001B[1;33m.\u001B[0m\u001B[0mfeature_importances_\u001B[0m\u001B[1;33m)\u001B[0m\u001B[1;33m\u001B[0m\u001B[1;33m\u001B[0m\u001B[0m\n\u001B[0m\u001B[0;32m     16\u001B[0m     \u001B[1;31m#use cleanlabs built in confident learning method to find label issues\u001B[0m\u001B[1;33m\u001B[0m\u001B[1;33m\u001B[0m\u001B[0m\n\u001B[0;32m     17\u001B[0m     \u001B[1;31m# cl = cleanlab.classification.CleanLearning()\u001B[0m\u001B[1;33m\u001B[0m\u001B[1;33m\u001B[0m\u001B[0m\n",
      "\u001B[1;32m~\\AppData\\Local\\Programs\\Python\\Python310\\lib\\site-packages\\xgboost\\sklearn.py\u001B[0m in \u001B[0;36mfeature_importances_\u001B[1;34m(self)\u001B[0m\n\u001B[0;32m   1302\u001B[0m \u001B[1;33m\u001B[0m\u001B[0m\n\u001B[0;32m   1303\u001B[0m         \"\"\"\n\u001B[1;32m-> 1304\u001B[1;33m         \u001B[0mb\u001B[0m\u001B[1;33m:\u001B[0m \u001B[0mBooster\u001B[0m \u001B[1;33m=\u001B[0m \u001B[0mself\u001B[0m\u001B[1;33m.\u001B[0m\u001B[0mget_booster\u001B[0m\u001B[1;33m(\u001B[0m\u001B[1;33m)\u001B[0m\u001B[1;33m\u001B[0m\u001B[1;33m\u001B[0m\u001B[0m\n\u001B[0m\u001B[0;32m   1305\u001B[0m \u001B[1;33m\u001B[0m\u001B[0m\n\u001B[0;32m   1306\u001B[0m         \u001B[1;32mdef\u001B[0m \u001B[0mdft\u001B[0m\u001B[1;33m(\u001B[0m\u001B[1;33m)\u001B[0m \u001B[1;33m->\u001B[0m \u001B[0mstr\u001B[0m\u001B[1;33m:\u001B[0m\u001B[1;33m\u001B[0m\u001B[1;33m\u001B[0m\u001B[0m\n",
      "\u001B[1;32m~\\AppData\\Local\\Programs\\Python\\Python310\\lib\\site-packages\\xgboost\\sklearn.py\u001B[0m in \u001B[0;36mget_booster\u001B[1;34m(self)\u001B[0m\n\u001B[0;32m    647\u001B[0m             \u001B[1;32mfrom\u001B[0m \u001B[0msklearn\u001B[0m\u001B[1;33m.\u001B[0m\u001B[0mexceptions\u001B[0m \u001B[1;32mimport\u001B[0m \u001B[0mNotFittedError\u001B[0m\u001B[1;33m\u001B[0m\u001B[1;33m\u001B[0m\u001B[0m\n\u001B[0;32m    648\u001B[0m \u001B[1;33m\u001B[0m\u001B[0m\n\u001B[1;32m--> 649\u001B[1;33m             \u001B[1;32mraise\u001B[0m \u001B[0mNotFittedError\u001B[0m\u001B[1;33m(\u001B[0m\u001B[1;34m\"need to call fit or load_model beforehand\"\u001B[0m\u001B[1;33m)\u001B[0m\u001B[1;33m\u001B[0m\u001B[1;33m\u001B[0m\u001B[0m\n\u001B[0m\u001B[0;32m    650\u001B[0m         \u001B[1;32mreturn\u001B[0m \u001B[0mself\u001B[0m\u001B[1;33m.\u001B[0m\u001B[0m_Booster\u001B[0m\u001B[1;33m\u001B[0m\u001B[1;33m\u001B[0m\u001B[0m\n\u001B[0;32m    651\u001B[0m \u001B[1;33m\u001B[0m\u001B[0m\n",
      "\u001B[1;31mNotFittedError\u001B[0m: need to call fit or load_model beforehand"
     ]
    }
   ],
   "source": [
    "issues_dataframe, issues_dataframe_only_errors, wrong_label_count = wrong_label(encoded_dataset, 'income')"
   ],
   "metadata": {
    "collapsed": false
   }
  },
  {
   "cell_type": "code",
   "execution_count": 30,
   "outputs": [
    {
     "name": "stderr",
     "output_type": "stream",
     "text": [
      "C:\\Users\\robin\\AppData\\Local\\Programs\\Python\\Python310\\lib\\site-packages\\category_encoders\\target_encoder.py:92: FutureWarning:\n",
      "\n",
      "Default parameter min_samples_leaf will change in version 2.6.See https://github.com/scikit-learn-contrib/category_encoders/issues/327\n",
      "\n",
      "C:\\Users\\robin\\AppData\\Local\\Programs\\Python\\Python310\\lib\\site-packages\\category_encoders\\target_encoder.py:97: FutureWarning:\n",
      "\n",
      "Default parameter smoothing will change in version 2.6.See https://github.com/scikit-learn-contrib/category_encoders/issues/327\n",
      "\n"
     ]
    },
    {
     "data": {
      "application/vnd.plotly.v1+json": {
       "data": [
        {
         "alignmentgroup": "True",
         "hovertemplate": "importance=%{x}<br>feature=%{y}<extra></extra>",
         "legendgroup": "",
         "marker": {
          "color": "#636efa",
          "pattern": {
           "shape": ""
          }
         },
         "name": "",
         "offsetgroup": "",
         "orientation": "h",
         "showlegend": false,
         "textposition": "auto",
         "x": [
          0.17630297225902228,
          0.14285240576946123,
          0.10675675603386231,
          0.09942725934834158,
          0.08529403379599755,
          0.08472780114153475,
          0.0783109528497081,
          0.06295420382790297,
          0.05146473207971727,
          0.03383035647092029,
          0.03319907355728061,
          0.019102474016810773,
          0.01388859742787602,
          0.01188838142156417
         ],
         "xaxis": "x",
         "y": [
          "fnlwgt",
          "age",
          "capital-gain",
          "relationship",
          "marital-status",
          "occupation",
          "hours-per-week",
          "education",
          "educational-num",
          "workclass",
          "capital-loss",
          "native-country",
          "race",
          "gender"
         ],
         "yaxis": "y",
         "type": "bar"
        }
       ],
       "layout": {
        "template": {
         "data": {
          "histogram2dcontour": [
           {
            "type": "histogram2dcontour",
            "colorbar": {
             "outlinewidth": 0,
             "ticks": ""
            },
            "colorscale": [
             [
              0.0,
              "#0d0887"
             ],
             [
              0.1111111111111111,
              "#46039f"
             ],
             [
              0.2222222222222222,
              "#7201a8"
             ],
             [
              0.3333333333333333,
              "#9c179e"
             ],
             [
              0.4444444444444444,
              "#bd3786"
             ],
             [
              0.5555555555555556,
              "#d8576b"
             ],
             [
              0.6666666666666666,
              "#ed7953"
             ],
             [
              0.7777777777777778,
              "#fb9f3a"
             ],
             [
              0.8888888888888888,
              "#fdca26"
             ],
             [
              1.0,
              "#f0f921"
             ]
            ]
           }
          ],
          "choropleth": [
           {
            "type": "choropleth",
            "colorbar": {
             "outlinewidth": 0,
             "ticks": ""
            }
           }
          ],
          "histogram2d": [
           {
            "type": "histogram2d",
            "colorbar": {
             "outlinewidth": 0,
             "ticks": ""
            },
            "colorscale": [
             [
              0.0,
              "#0d0887"
             ],
             [
              0.1111111111111111,
              "#46039f"
             ],
             [
              0.2222222222222222,
              "#7201a8"
             ],
             [
              0.3333333333333333,
              "#9c179e"
             ],
             [
              0.4444444444444444,
              "#bd3786"
             ],
             [
              0.5555555555555556,
              "#d8576b"
             ],
             [
              0.6666666666666666,
              "#ed7953"
             ],
             [
              0.7777777777777778,
              "#fb9f3a"
             ],
             [
              0.8888888888888888,
              "#fdca26"
             ],
             [
              1.0,
              "#f0f921"
             ]
            ]
           }
          ],
          "heatmap": [
           {
            "type": "heatmap",
            "colorbar": {
             "outlinewidth": 0,
             "ticks": ""
            },
            "colorscale": [
             [
              0.0,
              "#0d0887"
             ],
             [
              0.1111111111111111,
              "#46039f"
             ],
             [
              0.2222222222222222,
              "#7201a8"
             ],
             [
              0.3333333333333333,
              "#9c179e"
             ],
             [
              0.4444444444444444,
              "#bd3786"
             ],
             [
              0.5555555555555556,
              "#d8576b"
             ],
             [
              0.6666666666666666,
              "#ed7953"
             ],
             [
              0.7777777777777778,
              "#fb9f3a"
             ],
             [
              0.8888888888888888,
              "#fdca26"
             ],
             [
              1.0,
              "#f0f921"
             ]
            ]
           }
          ],
          "heatmapgl": [
           {
            "type": "heatmapgl",
            "colorbar": {
             "outlinewidth": 0,
             "ticks": ""
            },
            "colorscale": [
             [
              0.0,
              "#0d0887"
             ],
             [
              0.1111111111111111,
              "#46039f"
             ],
             [
              0.2222222222222222,
              "#7201a8"
             ],
             [
              0.3333333333333333,
              "#9c179e"
             ],
             [
              0.4444444444444444,
              "#bd3786"
             ],
             [
              0.5555555555555556,
              "#d8576b"
             ],
             [
              0.6666666666666666,
              "#ed7953"
             ],
             [
              0.7777777777777778,
              "#fb9f3a"
             ],
             [
              0.8888888888888888,
              "#fdca26"
             ],
             [
              1.0,
              "#f0f921"
             ]
            ]
           }
          ],
          "contourcarpet": [
           {
            "type": "contourcarpet",
            "colorbar": {
             "outlinewidth": 0,
             "ticks": ""
            }
           }
          ],
          "contour": [
           {
            "type": "contour",
            "colorbar": {
             "outlinewidth": 0,
             "ticks": ""
            },
            "colorscale": [
             [
              0.0,
              "#0d0887"
             ],
             [
              0.1111111111111111,
              "#46039f"
             ],
             [
              0.2222222222222222,
              "#7201a8"
             ],
             [
              0.3333333333333333,
              "#9c179e"
             ],
             [
              0.4444444444444444,
              "#bd3786"
             ],
             [
              0.5555555555555556,
              "#d8576b"
             ],
             [
              0.6666666666666666,
              "#ed7953"
             ],
             [
              0.7777777777777778,
              "#fb9f3a"
             ],
             [
              0.8888888888888888,
              "#fdca26"
             ],
             [
              1.0,
              "#f0f921"
             ]
            ]
           }
          ],
          "surface": [
           {
            "type": "surface",
            "colorbar": {
             "outlinewidth": 0,
             "ticks": ""
            },
            "colorscale": [
             [
              0.0,
              "#0d0887"
             ],
             [
              0.1111111111111111,
              "#46039f"
             ],
             [
              0.2222222222222222,
              "#7201a8"
             ],
             [
              0.3333333333333333,
              "#9c179e"
             ],
             [
              0.4444444444444444,
              "#bd3786"
             ],
             [
              0.5555555555555556,
              "#d8576b"
             ],
             [
              0.6666666666666666,
              "#ed7953"
             ],
             [
              0.7777777777777778,
              "#fb9f3a"
             ],
             [
              0.8888888888888888,
              "#fdca26"
             ],
             [
              1.0,
              "#f0f921"
             ]
            ]
           }
          ],
          "mesh3d": [
           {
            "type": "mesh3d",
            "colorbar": {
             "outlinewidth": 0,
             "ticks": ""
            }
           }
          ],
          "scatter": [
           {
            "marker": {
             "line": {
              "color": "#283442"
             }
            },
            "type": "scatter"
           }
          ],
          "parcoords": [
           {
            "type": "parcoords",
            "line": {
             "colorbar": {
              "outlinewidth": 0,
              "ticks": ""
             }
            }
           }
          ],
          "scatterpolargl": [
           {
            "type": "scatterpolargl",
            "marker": {
             "colorbar": {
              "outlinewidth": 0,
              "ticks": ""
             }
            }
           }
          ],
          "bar": [
           {
            "error_x": {
             "color": "#f2f5fa"
            },
            "error_y": {
             "color": "#f2f5fa"
            },
            "marker": {
             "line": {
              "color": "rgb(17,17,17)",
              "width": 0.5
             },
             "pattern": {
              "fillmode": "overlay",
              "size": 10,
              "solidity": 0.2
             }
            },
            "type": "bar"
           }
          ],
          "scattergeo": [
           {
            "type": "scattergeo",
            "marker": {
             "colorbar": {
              "outlinewidth": 0,
              "ticks": ""
             }
            }
           }
          ],
          "scatterpolar": [
           {
            "type": "scatterpolar",
            "marker": {
             "colorbar": {
              "outlinewidth": 0,
              "ticks": ""
             }
            }
           }
          ],
          "histogram": [
           {
            "marker": {
             "pattern": {
              "fillmode": "overlay",
              "size": 10,
              "solidity": 0.2
             }
            },
            "type": "histogram"
           }
          ],
          "scattergl": [
           {
            "marker": {
             "line": {
              "color": "#283442"
             }
            },
            "type": "scattergl"
           }
          ],
          "scatter3d": [
           {
            "type": "scatter3d",
            "line": {
             "colorbar": {
              "outlinewidth": 0,
              "ticks": ""
             }
            },
            "marker": {
             "colorbar": {
              "outlinewidth": 0,
              "ticks": ""
             }
            }
           }
          ],
          "scattermapbox": [
           {
            "type": "scattermapbox",
            "marker": {
             "colorbar": {
              "outlinewidth": 0,
              "ticks": ""
             }
            }
           }
          ],
          "scatterternary": [
           {
            "type": "scatterternary",
            "marker": {
             "colorbar": {
              "outlinewidth": 0,
              "ticks": ""
             }
            }
           }
          ],
          "scattercarpet": [
           {
            "type": "scattercarpet",
            "marker": {
             "colorbar": {
              "outlinewidth": 0,
              "ticks": ""
             }
            }
           }
          ],
          "carpet": [
           {
            "aaxis": {
             "endlinecolor": "#A2B1C6",
             "gridcolor": "#506784",
             "linecolor": "#506784",
             "minorgridcolor": "#506784",
             "startlinecolor": "#A2B1C6"
            },
            "baxis": {
             "endlinecolor": "#A2B1C6",
             "gridcolor": "#506784",
             "linecolor": "#506784",
             "minorgridcolor": "#506784",
             "startlinecolor": "#A2B1C6"
            },
            "type": "carpet"
           }
          ],
          "table": [
           {
            "cells": {
             "fill": {
              "color": "#506784"
             },
             "line": {
              "color": "rgb(17,17,17)"
             }
            },
            "header": {
             "fill": {
              "color": "#2a3f5f"
             },
             "line": {
              "color": "rgb(17,17,17)"
             }
            },
            "type": "table"
           }
          ],
          "barpolar": [
           {
            "marker": {
             "line": {
              "color": "rgb(17,17,17)",
              "width": 0.5
             },
             "pattern": {
              "fillmode": "overlay",
              "size": 10,
              "solidity": 0.2
             }
            },
            "type": "barpolar"
           }
          ],
          "pie": [
           {
            "automargin": true,
            "type": "pie"
           }
          ]
         },
         "layout": {
          "autotypenumbers": "strict",
          "colorway": [
           "#636efa",
           "#EF553B",
           "#00cc96",
           "#ab63fa",
           "#FFA15A",
           "#19d3f3",
           "#FF6692",
           "#B6E880",
           "#FF97FF",
           "#FECB52"
          ],
          "font": {
           "color": "#f2f5fa"
          },
          "hovermode": "closest",
          "hoverlabel": {
           "align": "left"
          },
          "paper_bgcolor": "rgb(17,17,17)",
          "plot_bgcolor": "rgb(17,17,17)",
          "polar": {
           "bgcolor": "rgb(17,17,17)",
           "angularaxis": {
            "gridcolor": "#506784",
            "linecolor": "#506784",
            "ticks": ""
           },
           "radialaxis": {
            "gridcolor": "#506784",
            "linecolor": "#506784",
            "ticks": ""
           }
          },
          "ternary": {
           "bgcolor": "rgb(17,17,17)",
           "aaxis": {
            "gridcolor": "#506784",
            "linecolor": "#506784",
            "ticks": ""
           },
           "baxis": {
            "gridcolor": "#506784",
            "linecolor": "#506784",
            "ticks": ""
           },
           "caxis": {
            "gridcolor": "#506784",
            "linecolor": "#506784",
            "ticks": ""
           }
          },
          "coloraxis": {
           "colorbar": {
            "outlinewidth": 0,
            "ticks": ""
           }
          },
          "colorscale": {
           "sequential": [
            [
             0.0,
             "#0d0887"
            ],
            [
             0.1111111111111111,
             "#46039f"
            ],
            [
             0.2222222222222222,
             "#7201a8"
            ],
            [
             0.3333333333333333,
             "#9c179e"
            ],
            [
             0.4444444444444444,
             "#bd3786"
            ],
            [
             0.5555555555555556,
             "#d8576b"
            ],
            [
             0.6666666666666666,
             "#ed7953"
            ],
            [
             0.7777777777777778,
             "#fb9f3a"
            ],
            [
             0.8888888888888888,
             "#fdca26"
            ],
            [
             1.0,
             "#f0f921"
            ]
           ],
           "sequentialminus": [
            [
             0.0,
             "#0d0887"
            ],
            [
             0.1111111111111111,
             "#46039f"
            ],
            [
             0.2222222222222222,
             "#7201a8"
            ],
            [
             0.3333333333333333,
             "#9c179e"
            ],
            [
             0.4444444444444444,
             "#bd3786"
            ],
            [
             0.5555555555555556,
             "#d8576b"
            ],
            [
             0.6666666666666666,
             "#ed7953"
            ],
            [
             0.7777777777777778,
             "#fb9f3a"
            ],
            [
             0.8888888888888888,
             "#fdca26"
            ],
            [
             1.0,
             "#f0f921"
            ]
           ],
           "diverging": [
            [
             0,
             "#8e0152"
            ],
            [
             0.1,
             "#c51b7d"
            ],
            [
             0.2,
             "#de77ae"
            ],
            [
             0.3,
             "#f1b6da"
            ],
            [
             0.4,
             "#fde0ef"
            ],
            [
             0.5,
             "#f7f7f7"
            ],
            [
             0.6,
             "#e6f5d0"
            ],
            [
             0.7,
             "#b8e186"
            ],
            [
             0.8,
             "#7fbc41"
            ],
            [
             0.9,
             "#4d9221"
            ],
            [
             1,
             "#276419"
            ]
           ]
          },
          "xaxis": {
           "gridcolor": "#283442",
           "linecolor": "#506784",
           "ticks": "",
           "title": {
            "standoff": 15
           },
           "zerolinecolor": "#283442",
           "automargin": true,
           "zerolinewidth": 2
          },
          "yaxis": {
           "gridcolor": "#283442",
           "linecolor": "#506784",
           "ticks": "",
           "title": {
            "standoff": 15
           },
           "zerolinecolor": "#283442",
           "automargin": true,
           "zerolinewidth": 2
          },
          "scene": {
           "xaxis": {
            "backgroundcolor": "rgb(17,17,17)",
            "gridcolor": "#506784",
            "linecolor": "#506784",
            "showbackground": true,
            "ticks": "",
            "zerolinecolor": "#C8D4E3",
            "gridwidth": 2
           },
           "yaxis": {
            "backgroundcolor": "rgb(17,17,17)",
            "gridcolor": "#506784",
            "linecolor": "#506784",
            "showbackground": true,
            "ticks": "",
            "zerolinecolor": "#C8D4E3",
            "gridwidth": 2
           },
           "zaxis": {
            "backgroundcolor": "rgb(17,17,17)",
            "gridcolor": "#506784",
            "linecolor": "#506784",
            "showbackground": true,
            "ticks": "",
            "zerolinecolor": "#C8D4E3",
            "gridwidth": 2
           }
          },
          "shapedefaults": {
           "line": {
            "color": "#f2f5fa"
           }
          },
          "annotationdefaults": {
           "arrowcolor": "#f2f5fa",
           "arrowhead": 0,
           "arrowwidth": 1
          },
          "geo": {
           "bgcolor": "rgb(17,17,17)",
           "landcolor": "rgb(17,17,17)",
           "subunitcolor": "#506784",
           "showland": true,
           "showlakes": true,
           "lakecolor": "rgb(17,17,17)"
          },
          "title": {
           "x": 0.05
          },
          "updatemenudefaults": {
           "bgcolor": "#506784",
           "borderwidth": 0
          },
          "sliderdefaults": {
           "bgcolor": "#C8D4E3",
           "borderwidth": 1,
           "bordercolor": "rgb(17,17,17)",
           "tickwidth": 0
          },
          "mapbox": {
           "style": "dark"
          }
         }
        },
        "xaxis": {
         "anchor": "y",
         "domain": [
          0.0,
          1.0
         ],
         "title": {
          "text": "importance"
         }
        },
        "yaxis": {
         "anchor": "x",
         "domain": [
          0.0,
          1.0
         ],
         "title": {
          "text": "feature"
         }
        },
        "legend": {
         "tracegroupgap": 0
        },
        "title": {
         "text": "Feature Importance"
        },
        "barmode": "relative"
       },
       "config": {
        "plotlyServerURL": "https://plot.ly"
       }
      },
      "text/html": "<div>                            <div id=\"7a07f130-2505-499b-a63a-fc97e4709318\" class=\"plotly-graph-div\" style=\"height:525px; width:100%;\"></div>            <script type=\"text/javascript\">                require([\"plotly\"], function(Plotly) {                    window.PLOTLYENV=window.PLOTLYENV || {};                                    if (document.getElementById(\"7a07f130-2505-499b-a63a-fc97e4709318\")) {                    Plotly.newPlot(                        \"7a07f130-2505-499b-a63a-fc97e4709318\",                        [{\"alignmentgroup\":\"True\",\"hovertemplate\":\"importance=%{x}<br>feature=%{y}<extra></extra>\",\"legendgroup\":\"\",\"marker\":{\"color\":\"#636efa\",\"pattern\":{\"shape\":\"\"}},\"name\":\"\",\"offsetgroup\":\"\",\"orientation\":\"h\",\"showlegend\":false,\"textposition\":\"auto\",\"x\":[0.17630297225902228,0.14285240576946123,0.10675675603386231,0.09942725934834158,0.08529403379599755,0.08472780114153475,0.0783109528497081,0.06295420382790297,0.05146473207971727,0.03383035647092029,0.03319907355728061,0.019102474016810773,0.01388859742787602,0.01188838142156417],\"xaxis\":\"x\",\"y\":[\"fnlwgt\",\"age\",\"capital-gain\",\"relationship\",\"marital-status\",\"occupation\",\"hours-per-week\",\"education\",\"educational-num\",\"workclass\",\"capital-loss\",\"native-country\",\"race\",\"gender\"],\"yaxis\":\"y\",\"type\":\"bar\"}],                        {\"template\":{\"data\":{\"histogram2dcontour\":[{\"type\":\"histogram2dcontour\",\"colorbar\":{\"outlinewidth\":0,\"ticks\":\"\"},\"colorscale\":[[0.0,\"#0d0887\"],[0.1111111111111111,\"#46039f\"],[0.2222222222222222,\"#7201a8\"],[0.3333333333333333,\"#9c179e\"],[0.4444444444444444,\"#bd3786\"],[0.5555555555555556,\"#d8576b\"],[0.6666666666666666,\"#ed7953\"],[0.7777777777777778,\"#fb9f3a\"],[0.8888888888888888,\"#fdca26\"],[1.0,\"#f0f921\"]]}],\"choropleth\":[{\"type\":\"choropleth\",\"colorbar\":{\"outlinewidth\":0,\"ticks\":\"\"}}],\"histogram2d\":[{\"type\":\"histogram2d\",\"colorbar\":{\"outlinewidth\":0,\"ticks\":\"\"},\"colorscale\":[[0.0,\"#0d0887\"],[0.1111111111111111,\"#46039f\"],[0.2222222222222222,\"#7201a8\"],[0.3333333333333333,\"#9c179e\"],[0.4444444444444444,\"#bd3786\"],[0.5555555555555556,\"#d8576b\"],[0.6666666666666666,\"#ed7953\"],[0.7777777777777778,\"#fb9f3a\"],[0.8888888888888888,\"#fdca26\"],[1.0,\"#f0f921\"]]}],\"heatmap\":[{\"type\":\"heatmap\",\"colorbar\":{\"outlinewidth\":0,\"ticks\":\"\"},\"colorscale\":[[0.0,\"#0d0887\"],[0.1111111111111111,\"#46039f\"],[0.2222222222222222,\"#7201a8\"],[0.3333333333333333,\"#9c179e\"],[0.4444444444444444,\"#bd3786\"],[0.5555555555555556,\"#d8576b\"],[0.6666666666666666,\"#ed7953\"],[0.7777777777777778,\"#fb9f3a\"],[0.8888888888888888,\"#fdca26\"],[1.0,\"#f0f921\"]]}],\"heatmapgl\":[{\"type\":\"heatmapgl\",\"colorbar\":{\"outlinewidth\":0,\"ticks\":\"\"},\"colorscale\":[[0.0,\"#0d0887\"],[0.1111111111111111,\"#46039f\"],[0.2222222222222222,\"#7201a8\"],[0.3333333333333333,\"#9c179e\"],[0.4444444444444444,\"#bd3786\"],[0.5555555555555556,\"#d8576b\"],[0.6666666666666666,\"#ed7953\"],[0.7777777777777778,\"#fb9f3a\"],[0.8888888888888888,\"#fdca26\"],[1.0,\"#f0f921\"]]}],\"contourcarpet\":[{\"type\":\"contourcarpet\",\"colorbar\":{\"outlinewidth\":0,\"ticks\":\"\"}}],\"contour\":[{\"type\":\"contour\",\"colorbar\":{\"outlinewidth\":0,\"ticks\":\"\"},\"colorscale\":[[0.0,\"#0d0887\"],[0.1111111111111111,\"#46039f\"],[0.2222222222222222,\"#7201a8\"],[0.3333333333333333,\"#9c179e\"],[0.4444444444444444,\"#bd3786\"],[0.5555555555555556,\"#d8576b\"],[0.6666666666666666,\"#ed7953\"],[0.7777777777777778,\"#fb9f3a\"],[0.8888888888888888,\"#fdca26\"],[1.0,\"#f0f921\"]]}],\"surface\":[{\"type\":\"surface\",\"colorbar\":{\"outlinewidth\":0,\"ticks\":\"\"},\"colorscale\":[[0.0,\"#0d0887\"],[0.1111111111111111,\"#46039f\"],[0.2222222222222222,\"#7201a8\"],[0.3333333333333333,\"#9c179e\"],[0.4444444444444444,\"#bd3786\"],[0.5555555555555556,\"#d8576b\"],[0.6666666666666666,\"#ed7953\"],[0.7777777777777778,\"#fb9f3a\"],[0.8888888888888888,\"#fdca26\"],[1.0,\"#f0f921\"]]}],\"mesh3d\":[{\"type\":\"mesh3d\",\"colorbar\":{\"outlinewidth\":0,\"ticks\":\"\"}}],\"scatter\":[{\"marker\":{\"line\":{\"color\":\"#283442\"}},\"type\":\"scatter\"}],\"parcoords\":[{\"type\":\"parcoords\",\"line\":{\"colorbar\":{\"outlinewidth\":0,\"ticks\":\"\"}}}],\"scatterpolargl\":[{\"type\":\"scatterpolargl\",\"marker\":{\"colorbar\":{\"outlinewidth\":0,\"ticks\":\"\"}}}],\"bar\":[{\"error_x\":{\"color\":\"#f2f5fa\"},\"error_y\":{\"color\":\"#f2f5fa\"},\"marker\":{\"line\":{\"color\":\"rgb(17,17,17)\",\"width\":0.5},\"pattern\":{\"fillmode\":\"overlay\",\"size\":10,\"solidity\":0.2}},\"type\":\"bar\"}],\"scattergeo\":[{\"type\":\"scattergeo\",\"marker\":{\"colorbar\":{\"outlinewidth\":0,\"ticks\":\"\"}}}],\"scatterpolar\":[{\"type\":\"scatterpolar\",\"marker\":{\"colorbar\":{\"outlinewidth\":0,\"ticks\":\"\"}}}],\"histogram\":[{\"marker\":{\"pattern\":{\"fillmode\":\"overlay\",\"size\":10,\"solidity\":0.2}},\"type\":\"histogram\"}],\"scattergl\":[{\"marker\":{\"line\":{\"color\":\"#283442\"}},\"type\":\"scattergl\"}],\"scatter3d\":[{\"type\":\"scatter3d\",\"line\":{\"colorbar\":{\"outlinewidth\":0,\"ticks\":\"\"}},\"marker\":{\"colorbar\":{\"outlinewidth\":0,\"ticks\":\"\"}}}],\"scattermapbox\":[{\"type\":\"scattermapbox\",\"marker\":{\"colorbar\":{\"outlinewidth\":0,\"ticks\":\"\"}}}],\"scatterternary\":[{\"type\":\"scatterternary\",\"marker\":{\"colorbar\":{\"outlinewidth\":0,\"ticks\":\"\"}}}],\"scattercarpet\":[{\"type\":\"scattercarpet\",\"marker\":{\"colorbar\":{\"outlinewidth\":0,\"ticks\":\"\"}}}],\"carpet\":[{\"aaxis\":{\"endlinecolor\":\"#A2B1C6\",\"gridcolor\":\"#506784\",\"linecolor\":\"#506784\",\"minorgridcolor\":\"#506784\",\"startlinecolor\":\"#A2B1C6\"},\"baxis\":{\"endlinecolor\":\"#A2B1C6\",\"gridcolor\":\"#506784\",\"linecolor\":\"#506784\",\"minorgridcolor\":\"#506784\",\"startlinecolor\":\"#A2B1C6\"},\"type\":\"carpet\"}],\"table\":[{\"cells\":{\"fill\":{\"color\":\"#506784\"},\"line\":{\"color\":\"rgb(17,17,17)\"}},\"header\":{\"fill\":{\"color\":\"#2a3f5f\"},\"line\":{\"color\":\"rgb(17,17,17)\"}},\"type\":\"table\"}],\"barpolar\":[{\"marker\":{\"line\":{\"color\":\"rgb(17,17,17)\",\"width\":0.5},\"pattern\":{\"fillmode\":\"overlay\",\"size\":10,\"solidity\":0.2}},\"type\":\"barpolar\"}],\"pie\":[{\"automargin\":true,\"type\":\"pie\"}]},\"layout\":{\"autotypenumbers\":\"strict\",\"colorway\":[\"#636efa\",\"#EF553B\",\"#00cc96\",\"#ab63fa\",\"#FFA15A\",\"#19d3f3\",\"#FF6692\",\"#B6E880\",\"#FF97FF\",\"#FECB52\"],\"font\":{\"color\":\"#f2f5fa\"},\"hovermode\":\"closest\",\"hoverlabel\":{\"align\":\"left\"},\"paper_bgcolor\":\"rgb(17,17,17)\",\"plot_bgcolor\":\"rgb(17,17,17)\",\"polar\":{\"bgcolor\":\"rgb(17,17,17)\",\"angularaxis\":{\"gridcolor\":\"#506784\",\"linecolor\":\"#506784\",\"ticks\":\"\"},\"radialaxis\":{\"gridcolor\":\"#506784\",\"linecolor\":\"#506784\",\"ticks\":\"\"}},\"ternary\":{\"bgcolor\":\"rgb(17,17,17)\",\"aaxis\":{\"gridcolor\":\"#506784\",\"linecolor\":\"#506784\",\"ticks\":\"\"},\"baxis\":{\"gridcolor\":\"#506784\",\"linecolor\":\"#506784\",\"ticks\":\"\"},\"caxis\":{\"gridcolor\":\"#506784\",\"linecolor\":\"#506784\",\"ticks\":\"\"}},\"coloraxis\":{\"colorbar\":{\"outlinewidth\":0,\"ticks\":\"\"}},\"colorscale\":{\"sequential\":[[0.0,\"#0d0887\"],[0.1111111111111111,\"#46039f\"],[0.2222222222222222,\"#7201a8\"],[0.3333333333333333,\"#9c179e\"],[0.4444444444444444,\"#bd3786\"],[0.5555555555555556,\"#d8576b\"],[0.6666666666666666,\"#ed7953\"],[0.7777777777777778,\"#fb9f3a\"],[0.8888888888888888,\"#fdca26\"],[1.0,\"#f0f921\"]],\"sequentialminus\":[[0.0,\"#0d0887\"],[0.1111111111111111,\"#46039f\"],[0.2222222222222222,\"#7201a8\"],[0.3333333333333333,\"#9c179e\"],[0.4444444444444444,\"#bd3786\"],[0.5555555555555556,\"#d8576b\"],[0.6666666666666666,\"#ed7953\"],[0.7777777777777778,\"#fb9f3a\"],[0.8888888888888888,\"#fdca26\"],[1.0,\"#f0f921\"]],\"diverging\":[[0,\"#8e0152\"],[0.1,\"#c51b7d\"],[0.2,\"#de77ae\"],[0.3,\"#f1b6da\"],[0.4,\"#fde0ef\"],[0.5,\"#f7f7f7\"],[0.6,\"#e6f5d0\"],[0.7,\"#b8e186\"],[0.8,\"#7fbc41\"],[0.9,\"#4d9221\"],[1,\"#276419\"]]},\"xaxis\":{\"gridcolor\":\"#283442\",\"linecolor\":\"#506784\",\"ticks\":\"\",\"title\":{\"standoff\":15},\"zerolinecolor\":\"#283442\",\"automargin\":true,\"zerolinewidth\":2},\"yaxis\":{\"gridcolor\":\"#283442\",\"linecolor\":\"#506784\",\"ticks\":\"\",\"title\":{\"standoff\":15},\"zerolinecolor\":\"#283442\",\"automargin\":true,\"zerolinewidth\":2},\"scene\":{\"xaxis\":{\"backgroundcolor\":\"rgb(17,17,17)\",\"gridcolor\":\"#506784\",\"linecolor\":\"#506784\",\"showbackground\":true,\"ticks\":\"\",\"zerolinecolor\":\"#C8D4E3\",\"gridwidth\":2},\"yaxis\":{\"backgroundcolor\":\"rgb(17,17,17)\",\"gridcolor\":\"#506784\",\"linecolor\":\"#506784\",\"showbackground\":true,\"ticks\":\"\",\"zerolinecolor\":\"#C8D4E3\",\"gridwidth\":2},\"zaxis\":{\"backgroundcolor\":\"rgb(17,17,17)\",\"gridcolor\":\"#506784\",\"linecolor\":\"#506784\",\"showbackground\":true,\"ticks\":\"\",\"zerolinecolor\":\"#C8D4E3\",\"gridwidth\":2}},\"shapedefaults\":{\"line\":{\"color\":\"#f2f5fa\"}},\"annotationdefaults\":{\"arrowcolor\":\"#f2f5fa\",\"arrowhead\":0,\"arrowwidth\":1},\"geo\":{\"bgcolor\":\"rgb(17,17,17)\",\"landcolor\":\"rgb(17,17,17)\",\"subunitcolor\":\"#506784\",\"showland\":true,\"showlakes\":true,\"lakecolor\":\"rgb(17,17,17)\"},\"title\":{\"x\":0.05},\"updatemenudefaults\":{\"bgcolor\":\"#506784\",\"borderwidth\":0},\"sliderdefaults\":{\"bgcolor\":\"#C8D4E3\",\"borderwidth\":1,\"bordercolor\":\"rgb(17,17,17)\",\"tickwidth\":0},\"mapbox\":{\"style\":\"dark\"}}},\"xaxis\":{\"anchor\":\"y\",\"domain\":[0.0,1.0],\"title\":{\"text\":\"importance\"}},\"yaxis\":{\"anchor\":\"x\",\"domain\":[0.0,1.0],\"title\":{\"text\":\"feature\"}},\"legend\":{\"tracegroupgap\":0},\"title\":{\"text\":\"Feature Importance\"},\"barmode\":\"relative\"},                        {\"responsive\": true}                    ).then(function(){\n                            \nvar gd = document.getElementById('7a07f130-2505-499b-a63a-fc97e4709318');\nvar x = new MutationObserver(function (mutations, observer) {{\n        var display = window.getComputedStyle(gd).display;\n        if (!display || display === 'none') {{\n            console.log([gd, 'removed!']);\n            Plotly.purge(gd);\n            observer.disconnect();\n        }}\n}});\n\n// Listen for the removal of the full notebook cells\nvar notebookContainer = gd.closest('#notebook-container');\nif (notebookContainer) {{\n    x.observe(notebookContainer, {childList: true});\n}}\n\n// Listen for the clearing of the current output cell\nvar outputEl = gd.closest('.output');\nif (outputEl) {{\n    x.observe(outputEl, {childList: true});\n}}\n\n                        })                };                });            </script>        </div>"
     },
     "metadata": {},
     "output_type": "display_data"
    }
   ],
   "source": [
    "def plot_feature_importance(df, target):\n",
    "    \"\"\"\n",
    "    Trains a random forest classifier on the input data and target column, and plots\n",
    "    the feature importance using a horizontal bar chart.\n",
    "\n",
    "    Parameters:\n",
    "    data (pandas.DataFrame): input data\n",
    "    target_col (str): name of the target column\n",
    "\n",
    "    Returns:\n",
    "    None\n",
    "    \"\"\"\n",
    "    te = TargetEncoder()\n",
    "    #split target from data\n",
    "    x = df.drop(columns=[target])\n",
    "    y = df[target]\n",
    "    x = te.fit_transform(x, y)\n",
    "    #train random forest classifier / regressor depending on task type\n",
    "    #TODO: werkend voor regression maken (afhangend van dtypes)\n",
    "    rf = RandomForestClassifier(n_jobs=-1)\n",
    "    rf.fit(x, y)\n",
    "\n",
    "    #obtain feature importances\n",
    "    feature_importances = rf.feature_importances_\n",
    "\n",
    "    #create df from them\n",
    "    df_feature_importances = pd.DataFrame({\n",
    "        'feature': x.columns,\n",
    "        'importance': feature_importances\n",
    "    })\n",
    "\n",
    "    #horizontal barchart\n",
    "    fig = px.bar(df_feature_importances.sort_values('importance', ascending=False),\n",
    "                 x='importance', y='feature', orientation='h',\n",
    "                 title='Feature Importance')\n",
    "    return fig\n",
    "\n",
    "from category_encoders.target_encoder import TargetEncoder\n",
    "fig = plot_feature_importance(data, 'income')\n",
    "fig.show()"
   ],
   "metadata": {
    "collapsed": false
   }
  },
  {
   "cell_type": "code",
   "execution_count": 28,
   "outputs": [
    {
     "data": {
      "text/plain": "   Id  SepalLengthCm  SepalWidthCm  PetalLengthCm  PetalWidthCm  Species\n0   1            5.1           3.5            1.4           0.2        0\n1   2            4.9           3.0            1.4           0.2        0\n2   3            4.7           3.2            1.3           0.2        0\n3   4            4.6           3.1            1.5           0.2        0\n4   5            5.0           3.6            1.4           0.2        0",
      "text/html": "<div>\n<style scoped>\n    .dataframe tbody tr th:only-of-type {\n        vertical-align: middle;\n    }\n\n    .dataframe tbody tr th {\n        vertical-align: top;\n    }\n\n    .dataframe thead th {\n        text-align: right;\n    }\n</style>\n<table border=\"1\" class=\"dataframe\">\n  <thead>\n    <tr style=\"text-align: right;\">\n      <th></th>\n      <th>Id</th>\n      <th>SepalLengthCm</th>\n      <th>SepalWidthCm</th>\n      <th>PetalLengthCm</th>\n      <th>PetalWidthCm</th>\n      <th>Species</th>\n    </tr>\n  </thead>\n  <tbody>\n    <tr>\n      <th>0</th>\n      <td>1</td>\n      <td>5.1</td>\n      <td>3.5</td>\n      <td>1.4</td>\n      <td>0.2</td>\n      <td>0</td>\n    </tr>\n    <tr>\n      <th>1</th>\n      <td>2</td>\n      <td>4.9</td>\n      <td>3.0</td>\n      <td>1.4</td>\n      <td>0.2</td>\n      <td>0</td>\n    </tr>\n    <tr>\n      <th>2</th>\n      <td>3</td>\n      <td>4.7</td>\n      <td>3.2</td>\n      <td>1.3</td>\n      <td>0.2</td>\n      <td>0</td>\n    </tr>\n    <tr>\n      <th>3</th>\n      <td>4</td>\n      <td>4.6</td>\n      <td>3.1</td>\n      <td>1.5</td>\n      <td>0.2</td>\n      <td>0</td>\n    </tr>\n    <tr>\n      <th>4</th>\n      <td>5</td>\n      <td>5.0</td>\n      <td>3.6</td>\n      <td>1.4</td>\n      <td>0.2</td>\n      <td>0</td>\n    </tr>\n  </tbody>\n</table>\n</div>"
     },
     "execution_count": 28,
     "metadata": {},
     "output_type": "execute_result"
    }
   ],
   "source": [
    " data.head()\n"
   ],
   "metadata": {
    "collapsed": false
   }
  },
  {
   "cell_type": "code",
   "execution_count": 21,
   "outputs": [
    {
     "data": {
      "text/plain": "matplotlib.axes._subplots.AxesSubplot"
     },
     "execution_count": 21,
     "metadata": {},
     "output_type": "execute_result"
    },
    {
     "data": {
      "text/plain": "<Figure size 2500x1000 with 2 Axes>",
      "image/png": "[encoded data removed]"
     },
     "metadata": {},
     "output_type": "display_data"
    }
   ],
   "source": [
    "import plotly.tools\n",
    "\n",
    "def missingno_plot(df):\n",
    "\n",
    "    msno_plot = msno.matrix(df)\n",
    "\n",
    "    return msno_plot\n",
    "\n",
    "plot = missingno_plot(data)\n",
    "type(plot)\n",
    "\n",
    "#plotly_plot = plotly.tools.mpl_to_plotly(plot)\n"
   ],
   "metadata": {
    "collapsed": false
   }
  },
  {
   "cell_type": "code",
   "execution_count": 25,
   "outputs": [
    {
     "name": "stdout",
     "output_type": "stream",
     "text": [
      "checkpoint 1\n",
      "checkpoint 2\n"
     ]
    },
    {
     "name": "stderr",
     "output_type": "stream",
     "text": [
      "C:\\Users\\robin\\AppData\\Local\\Programs\\Python\\Python310\\lib\\site-packages\\plotly\\express\\_core.py:279: FutureWarning:\n",
      "\n",
      "iteritems is deprecated and will be removed in a future version. Use .items instead.\n",
      "\n"
     ]
    },
    {
     "data": {
      "application/vnd.plotly.v1+json": {
       "data": [
        {
         "dimensions": [
          {
           "label": "Id",
           "values": [
            1,
            2,
            3,
            4,
            5,
            6,
            7,
            8,
            9,
            10,
            11,
            12,
            13,
            14,
            15,
            16,
            17,
            18,
            19,
            20,
            21,
            22,
            23,
            24,
            25,
            26,
            27,
            28,
            29,
            30,
            31,
            32,
            33,
            34,
            35,
            36,
            37,
            38,
            39,
            40,
            41,
            42,
            43,
            44,
            45,
            46,
            47,
            48,
            49,
            50,
            51,
            52,
            53,
            54,
            55,
            56,
            57,
            58,
            59,
            60,
            61,
            62,
            63,
            64,
            65,
            66,
            67,
            68,
            69,
            70,
            71,
            72,
            73,
            74,
            75,
            76,
            77,
            78,
            79,
            80,
            81,
            82,
            83,
            84,
            85,
            86,
            87,
            88,
            89,
            90,
            91,
            92,
            93,
            94,
            95,
            96,
            97,
            98,
            99,
            100,
            101,
            102,
            103,
            104,
            105,
            106,
            107,
            108,
            109,
            110,
            111,
            112,
            113,
            114,
            115,
            116,
            117,
            118,
            119,
            120,
            121,
            122,
            123,
            124,
            125,
            126,
            127,
            128,
            129,
            130,
            131,
            132,
            133,
            134,
            135,
            136,
            137,
            138,
            139,
            140,
            141,
            142,
            143,
            144,
            145,
            146,
            147,
            148,
            149,
            150
           ]
          },
          {
           "label": "SepalLengthCm",
           "values": [
            5.1,
            4.9,
            4.7,
            4.6,
            5.0,
            5.4,
            4.6,
            5.0,
            4.4,
            4.9,
            5.4,
            4.8,
            4.8,
            4.3,
            5.8,
            5.7,
            5.4,
            5.1,
            5.7,
            5.1,
            5.4,
            5.1,
            4.6,
            5.1,
            4.8,
            5.0,
            5.0,
            5.2,
            5.2,
            4.7,
            4.8,
            5.4,
            5.2,
            5.5,
            4.9,
            5.0,
            5.5,
            4.9,
            4.4,
            5.1,
            5.0,
            4.5,
            4.4,
            5.0,
            5.1,
            4.8,
            5.1,
            4.6,
            5.3,
            5.0,
            7.0,
            6.4,
            6.9,
            5.5,
            6.5,
            5.7,
            6.3,
            4.9,
            6.6,
            5.2,
            5.0,
            5.9,
            6.0,
            6.1,
            5.6,
            6.7,
            5.6,
            5.8,
            6.2,
            5.6,
            5.9,
            6.1,
            6.3,
            6.1,
            6.4,
            6.6,
            6.8,
            6.7,
            6.0,
            5.7,
            5.5,
            5.5,
            5.8,
            6.0,
            5.4,
            6.0,
            6.7,
            6.3,
            5.6,
            5.5,
            5.5,
            6.1,
            5.8,
            5.0,
            5.6,
            5.7,
            5.7,
            6.2,
            5.1,
            5.7,
            6.3,
            5.8,
            7.1,
            6.3,
            6.5,
            7.6,
            4.9,
            7.3,
            6.7,
            7.2,
            6.5,
            6.4,
            6.8,
            5.7,
            5.8,
            6.4,
            6.5,
            7.7,
            7.7,
            6.0,
            6.9,
            5.6,
            7.7,
            6.3,
            6.7,
            7.2,
            6.2,
            6.1,
            6.4,
            7.2,
            7.4,
            7.9,
            6.4,
            6.3,
            6.1,
            7.7,
            6.3,
            6.4,
            6.0,
            6.9,
            6.7,
            6.9,
            5.8,
            6.8,
            6.7,
            6.7,
            6.3,
            6.5,
            6.2,
            5.9
           ]
          },
          {
           "label": "SepalWidthCm",
           "values": [
            3.5,
            3.0,
            3.2,
            3.1,
            3.6,
            3.9,
            3.4,
            3.4,
            2.9,
            3.1,
            3.7,
            3.4,
            3.0,
            3.0,
            4.0,
            4.4,
            3.9,
            3.5,
            3.8,
            3.8,
            3.4,
            3.7,
            3.6,
            3.3,
            3.4,
            3.0,
            3.4,
            3.5,
            3.4,
            3.2,
            3.1,
            3.4,
            4.1,
            4.2,
            3.1,
            3.2,
            3.5,
            3.1,
            3.0,
            3.4,
            3.5,
            2.3,
            3.2,
            3.5,
            3.8,
            3.0,
            3.8,
            3.2,
            3.7,
            3.3,
            3.2,
            3.2,
            3.1,
            2.3,
            2.8,
            2.8,
            3.3,
            2.4,
            2.9,
            2.7,
            2.0,
            3.0,
            2.2,
            2.9,
            2.9,
            3.1,
            3.0,
            2.7,
            2.2,
            2.5,
            3.2,
            2.8,
            2.5,
            2.8,
            2.9,
            3.0,
            2.8,
            3.0,
            2.9,
            2.6,
            2.4,
            2.4,
            2.7,
            2.7,
            3.0,
            3.4,
            3.1,
            2.3,
            3.0,
            2.5,
            2.6,
            3.0,
            2.6,
            2.3,
            2.7,
            3.0,
            2.9,
            2.9,
            2.5,
            2.8,
            3.3,
            2.7,
            3.0,
            2.9,
            3.0,
            3.0,
            2.5,
            2.9,
            2.5,
            3.6,
            3.2,
            2.7,
            3.0,
            2.5,
            2.8,
            3.2,
            3.0,
            3.8,
            2.6,
            2.2,
            3.2,
            2.8,
            2.8,
            2.7,
            3.3,
            3.2,
            2.8,
            3.0,
            2.8,
            3.0,
            2.8,
            3.8,
            2.8,
            2.8,
            2.6,
            3.0,
            3.4,
            3.1,
            3.0,
            3.1,
            3.1,
            3.1,
            2.7,
            3.2,
            3.3,
            3.0,
            2.5,
            3.0,
            3.4,
            3.0
           ]
          },
          {
           "label": "PetalLengthCm",
           "values": [
            1.4,
            1.4,
            1.3,
            1.5,
            1.4,
            1.7,
            1.4,
            1.5,
            1.4,
            1.5,
            1.5,
            1.6,
            1.4,
            1.1,
            1.2,
            1.5,
            1.3,
            1.4,
            1.7,
            1.5,
            1.7,
            1.5,
            1.0,
            1.7,
            1.9,
            1.6,
            1.6,
            1.5,
            1.4,
            1.6,
            1.6,
            1.5,
            1.5,
            1.4,
            1.5,
            1.2,
            1.3,
            1.5,
            1.3,
            1.5,
            1.3,
            1.3,
            1.3,
            1.6,
            1.9,
            1.4,
            1.6,
            1.4,
            1.5,
            1.4,
            4.7,
            4.5,
            4.9,
            4.0,
            4.6,
            4.5,
            4.7,
            3.3,
            4.6,
            3.9,
            3.5,
            4.2,
            4.0,
            4.7,
            3.6,
            4.4,
            4.5,
            4.1,
            4.5,
            3.9,
            4.8,
            4.0,
            4.9,
            4.7,
            4.3,
            4.4,
            4.8,
            5.0,
            4.5,
            3.5,
            3.8,
            3.7,
            3.9,
            5.1,
            4.5,
            4.5,
            4.7,
            4.4,
            4.1,
            4.0,
            4.4,
            4.6,
            4.0,
            3.3,
            4.2,
            4.2,
            4.2,
            4.3,
            3.0,
            4.1,
            6.0,
            5.1,
            5.9,
            5.6,
            5.8,
            6.6,
            4.5,
            6.3,
            5.8,
            6.1,
            5.1,
            5.3,
            5.5,
            5.0,
            5.1,
            5.3,
            5.5,
            6.7,
            6.9,
            5.0,
            5.7,
            4.9,
            6.7,
            4.9,
            5.7,
            6.0,
            4.8,
            4.9,
            5.6,
            5.8,
            6.1,
            6.4,
            5.6,
            5.1,
            5.6,
            6.1,
            5.6,
            5.5,
            4.8,
            5.4,
            5.6,
            5.1,
            5.1,
            5.9,
            5.7,
            5.2,
            5.0,
            5.2,
            5.4,
            5.1
           ]
          },
          {
           "label": "PetalWidthCm",
           "values": [
            0.2,
            0.2,
            0.2,
            0.2,
            0.2,
            0.4,
            0.3,
            0.2,
            0.2,
            0.1,
            0.2,
            0.2,
            0.1,
            0.1,
            0.2,
            0.4,
            0.4,
            0.3,
            0.3,
            0.3,
            0.2,
            0.4,
            0.2,
            0.5,
            0.2,
            0.2,
            0.4,
            0.2,
            0.2,
            0.2,
            0.2,
            0.4,
            0.1,
            0.2,
            0.1,
            0.2,
            0.2,
            0.1,
            0.2,
            0.2,
            0.3,
            0.3,
            0.2,
            0.6,
            0.4,
            0.3,
            0.2,
            0.2,
            0.2,
            0.2,
            1.4,
            1.5,
            1.5,
            1.3,
            1.5,
            1.3,
            1.6,
            1.0,
            1.3,
            1.4,
            1.0,
            1.5,
            1.0,
            1.4,
            1.3,
            1.4,
            1.5,
            1.0,
            1.5,
            1.1,
            1.8,
            1.3,
            1.5,
            1.2,
            1.3,
            1.4,
            1.4,
            1.7,
            1.5,
            1.0,
            1.1,
            1.0,
            1.2,
            1.6,
            1.5,
            1.6,
            1.5,
            1.3,
            1.3,
            1.3,
            1.2,
            1.4,
            1.2,
            1.0,
            1.3,
            1.2,
            1.3,
            1.3,
            1.1,
            1.3,
            2.5,
            1.9,
            2.1,
            1.8,
            2.2,
            2.1,
            1.7,
            1.8,
            1.8,
            2.5,
            2.0,
            1.9,
            2.1,
            2.0,
            2.4,
            2.3,
            1.8,
            2.2,
            2.3,
            1.5,
            2.3,
            2.0,
            2.0,
            1.8,
            2.1,
            1.8,
            1.8,
            1.8,
            2.1,
            1.6,
            1.9,
            2.0,
            2.2,
            1.5,
            1.4,
            2.3,
            2.4,
            1.8,
            1.8,
            2.1,
            2.4,
            2.3,
            1.9,
            2.3,
            2.5,
            2.3,
            1.9,
            2.0,
            2.3,
            1.8
           ]
          },
          {
           "label": "Species",
           "values": [
            0,
            0,
            0,
            0,
            0,
            0,
            0,
            0,
            0,
            0,
            0,
            0,
            0,
            0,
            0,
            0,
            0,
            0,
            0,
            0,
            0,
            0,
            0,
            0,
            0,
            0,
            0,
            0,
            0,
            0,
            0,
            0,
            0,
            0,
            0,
            0,
            0,
            0,
            0,
            0,
            0,
            0,
            0,
            0,
            0,
            0,
            0,
            0,
            0,
            0,
            1,
            1,
            1,
            1,
            1,
            1,
            1,
            1,
            1,
            1,
            1,
            1,
            1,
            1,
            1,
            1,
            1,
            1,
            1,
            1,
            1,
            1,
            1,
            1,
            1,
            1,
            1,
            1,
            1,
            1,
            1,
            1,
            1,
            1,
            1,
            1,
            1,
            1,
            1,
            1,
            1,
            1,
            1,
            1,
            1,
            1,
            1,
            1,
            1,
            1,
            2,
            2,
            2,
            2,
            2,
            2,
            2,
            2,
            2,
            2,
            2,
            2,
            2,
            2,
            2,
            2,
            2,
            2,
            2,
            2,
            2,
            2,
            2,
            2,
            2,
            2,
            2,
            2,
            2,
            2,
            2,
            2,
            2,
            2,
            2,
            2,
            2,
            2,
            2,
            2,
            2,
            2,
            2,
            2,
            2,
            2,
            2,
            2,
            2,
            2
           ]
          }
         ],
         "domain": {
          "x": [
           0.0,
           1.0
          ],
          "y": [
           0.0,
           1.0
          ]
         },
         "line": {
          "color": [
           0,
           0,
           0,
           0,
           0,
           0,
           0,
           0,
           0,
           0,
           0,
           0,
           0,
           0,
           0,
           0,
           0,
           0,
           0,
           0,
           0,
           0,
           0,
           0,
           0,
           0,
           0,
           0,
           0,
           0,
           0,
           0,
           0,
           0,
           0,
           0,
           0,
           0,
           0,
           0,
           0,
           0,
           0,
           0,
           0,
           0,
           0,
           0,
           0,
           0,
           1,
           1,
           1,
           1,
           1,
           1,
           1,
           1,
           1,
           1,
           1,
           1,
           1,
           1,
           1,
           1,
           1,
           1,
           1,
           1,
           1,
           1,
           1,
           1,
           1,
           1,
           1,
           1,
           1,
           1,
           1,
           1,
           1,
           1,
           1,
           1,
           1,
           1,
           1,
           1,
           1,
           1,
           1,
           1,
           1,
           1,
           1,
           1,
           1,
           1,
           2,
           2,
           2,
           2,
           2,
           2,
           2,
           2,
           2,
           2,
           2,
           2,
           2,
           2,
           2,
           2,
           2,
           2,
           2,
           2,
           2,
           2,
           2,
           2,
           2,
           2,
           2,
           2,
           2,
           2,
           2,
           2,
           2,
           2,
           2,
           2,
           2,
           2,
           2,
           2,
           2,
           2,
           2,
           2,
           2,
           2,
           2,
           2,
           2,
           2
          ],
          "coloraxis": "coloraxis"
         },
         "name": "",
         "type": "parcoords"
        }
       ],
       "layout": {
        "template": {
         "data": {
          "histogram2dcontour": [
           {
            "type": "histogram2dcontour",
            "colorbar": {
             "outlinewidth": 0,
             "ticks": ""
            },
            "colorscale": [
             [
              0.0,
              "#0d0887"
             ],
             [
              0.1111111111111111,
              "#46039f"
             ],
             [
              0.2222222222222222,
              "#7201a8"
             ],
             [
              0.3333333333333333,
              "#9c179e"
             ],
             [
              0.4444444444444444,
              "#bd3786"
             ],
             [
              0.5555555555555556,
              "#d8576b"
             ],
             [
              0.6666666666666666,
              "#ed7953"
             ],
             [
              0.7777777777777778,
              "#fb9f3a"
             ],
             [
              0.8888888888888888,
              "#fdca26"
             ],
             [
              1.0,
              "#f0f921"
             ]
            ]
           }
          ],
          "choropleth": [
           {
            "type": "choropleth",
            "colorbar": {
             "outlinewidth": 0,
             "ticks": ""
            }
           }
          ],
          "histogram2d": [
           {
            "type": "histogram2d",
            "colorbar": {
             "outlinewidth": 0,
             "ticks": ""
            },
            "colorscale": [
             [
              0.0,
              "#0d0887"
             ],
             [
              0.1111111111111111,
              "#46039f"
             ],
             [
              0.2222222222222222,
              "#7201a8"
             ],
             [
              0.3333333333333333,
              "#9c179e"
             ],
             [
              0.4444444444444444,
              "#bd3786"
             ],
             [
              0.5555555555555556,
              "#d8576b"
             ],
             [
              0.6666666666666666,
              "#ed7953"
             ],
             [
              0.7777777777777778,
              "#fb9f3a"
             ],
             [
              0.8888888888888888,
              "#fdca26"
             ],
             [
              1.0,
              "#f0f921"
             ]
            ]
           }
          ],
          "heatmap": [
           {
            "type": "heatmap",
            "colorbar": {
             "outlinewidth": 0,
             "ticks": ""
            },
            "colorscale": [
             [
              0.0,
              "#0d0887"
             ],
             [
              0.1111111111111111,
              "#46039f"
             ],
             [
              0.2222222222222222,
              "#7201a8"
             ],
             [
              0.3333333333333333,
              "#9c179e"
             ],
             [
              0.4444444444444444,
              "#bd3786"
             ],
             [
              0.5555555555555556,
              "#d8576b"
             ],
             [
              0.6666666666666666,
              "#ed7953"
             ],
             [
              0.7777777777777778,
              "#fb9f3a"
             ],
             [
              0.8888888888888888,
              "#fdca26"
             ],
             [
              1.0,
              "#f0f921"
             ]
            ]
           }
          ],
          "heatmapgl": [
           {
            "type": "heatmapgl",
            "colorbar": {
             "outlinewidth": 0,
             "ticks": ""
            },
            "colorscale": [
             [
              0.0,
              "#0d0887"
             ],
             [
              0.1111111111111111,
              "#46039f"
             ],
             [
              0.2222222222222222,
              "#7201a8"
             ],
             [
              0.3333333333333333,
              "#9c179e"
             ],
             [
              0.4444444444444444,
              "#bd3786"
             ],
             [
              0.5555555555555556,
              "#d8576b"
             ],
             [
              0.6666666666666666,
              "#ed7953"
             ],
             [
              0.7777777777777778,
              "#fb9f3a"
             ],
             [
              0.8888888888888888,
              "#fdca26"
             ],
             [
              1.0,
              "#f0f921"
             ]
            ]
           }
          ],
          "contourcarpet": [
           {
            "type": "contourcarpet",
            "colorbar": {
             "outlinewidth": 0,
             "ticks": ""
            }
           }
          ],
          "contour": [
           {
            "type": "contour",
            "colorbar": {
             "outlinewidth": 0,
             "ticks": ""
            },
            "colorscale": [
             [
              0.0,
              "#0d0887"
             ],
             [
              0.1111111111111111,
              "#46039f"
             ],
             [
              0.2222222222222222,
              "#7201a8"
             ],
             [
              0.3333333333333333,
              "#9c179e"
             ],
             [
              0.4444444444444444,
              "#bd3786"
             ],
             [
              0.5555555555555556,
              "#d8576b"
             ],
             [
              0.6666666666666666,
              "#ed7953"
             ],
             [
              0.7777777777777778,
              "#fb9f3a"
             ],
             [
              0.8888888888888888,
              "#fdca26"
             ],
             [
              1.0,
              "#f0f921"
             ]
            ]
           }
          ],
          "surface": [
           {
            "type": "surface",
            "colorbar": {
             "outlinewidth": 0,
             "ticks": ""
            },
            "colorscale": [
             [
              0.0,
              "#0d0887"
             ],
             [
              0.1111111111111111,
              "#46039f"
             ],
             [
              0.2222222222222222,
              "#7201a8"
             ],
             [
              0.3333333333333333,
              "#9c179e"
             ],
             [
              0.4444444444444444,
              "#bd3786"
             ],
             [
              0.5555555555555556,
              "#d8576b"
             ],
             [
              0.6666666666666666,
              "#ed7953"
             ],
             [
              0.7777777777777778,
              "#fb9f3a"
             ],
             [
              0.8888888888888888,
              "#fdca26"
             ],
             [
              1.0,
              "#f0f921"
             ]
            ]
           }
          ],
          "mesh3d": [
           {
            "type": "mesh3d",
            "colorbar": {
             "outlinewidth": 0,
             "ticks": ""
            }
           }
          ],
          "scatter": [
           {
            "marker": {
             "line": {
              "color": "#283442"
             }
            },
            "type": "scatter"
           }
          ],
          "parcoords": [
           {
            "type": "parcoords",
            "line": {
             "colorbar": {
              "outlinewidth": 0,
              "ticks": ""
             }
            }
           }
          ],
          "scatterpolargl": [
           {
            "type": "scatterpolargl",
            "marker": {
             "colorbar": {
              "outlinewidth": 0,
              "ticks": ""
             }
            }
           }
          ],
          "bar": [
           {
            "error_x": {
             "color": "#f2f5fa"
            },
            "error_y": {
             "color": "#f2f5fa"
            },
            "marker": {
             "line": {
              "color": "rgb(17,17,17)",
              "width": 0.5
             },
             "pattern": {
              "fillmode": "overlay",
              "size": 10,
              "solidity": 0.2
             }
            },
            "type": "bar"
           }
          ],
          "scattergeo": [
           {
            "type": "scattergeo",
            "marker": {
             "colorbar": {
              "outlinewidth": 0,
              "ticks": ""
             }
            }
           }
          ],
          "scatterpolar": [
           {
            "type": "scatterpolar",
            "marker": {
             "colorbar": {
              "outlinewidth": 0,
              "ticks": ""
             }
            }
           }
          ],
          "histogram": [
           {
            "marker": {
             "pattern": {
              "fillmode": "overlay",
              "size": 10,
              "solidity": 0.2
             }
            },
            "type": "histogram"
           }
          ],
          "scattergl": [
           {
            "marker": {
             "line": {
              "color": "#283442"
             }
            },
            "type": "scattergl"
           }
          ],
          "scatter3d": [
           {
            "type": "scatter3d",
            "line": {
             "colorbar": {
              "outlinewidth": 0,
              "ticks": ""
             }
            },
            "marker": {
             "colorbar": {
              "outlinewidth": 0,
              "ticks": ""
             }
            }
           }
          ],
          "scattermapbox": [
           {
            "type": "scattermapbox",
            "marker": {
             "colorbar": {
              "outlinewidth": 0,
              "ticks": ""
             }
            }
           }
          ],
          "scatterternary": [
           {
            "type": "scatterternary",
            "marker": {
             "colorbar": {
              "outlinewidth": 0,
              "ticks": ""
             }
            }
           }
          ],
          "scattercarpet": [
           {
            "type": "scattercarpet",
            "marker": {
             "colorbar": {
              "outlinewidth": 0,
              "ticks": ""
             }
            }
           }
          ],
          "carpet": [
           {
            "aaxis": {
             "endlinecolor": "#A2B1C6",
             "gridcolor": "#506784",
             "linecolor": "#506784",
             "minorgridcolor": "#506784",
             "startlinecolor": "#A2B1C6"
            },
            "baxis": {
             "endlinecolor": "#A2B1C6",
             "gridcolor": "#506784",
             "linecolor": "#506784",
             "minorgridcolor": "#506784",
             "startlinecolor": "#A2B1C6"
            },
            "type": "carpet"
           }
          ],
          "table": [
           {
            "cells": {
             "fill": {
              "color": "#506784"
             },
             "line": {
              "color": "rgb(17,17,17)"
             }
            },
            "header": {
             "fill": {
              "color": "#2a3f5f"
             },
             "line": {
              "color": "rgb(17,17,17)"
             }
            },
            "type": "table"
           }
          ],
          "barpolar": [
           {
            "marker": {
             "line": {
              "color": "rgb(17,17,17)",
              "width": 0.5
             },
             "pattern": {
              "fillmode": "overlay",
              "size": 10,
              "solidity": 0.2
             }
            },
            "type": "barpolar"
           }
          ],
          "pie": [
           {
            "automargin": true,
            "type": "pie"
           }
          ]
         },
         "layout": {
          "autotypenumbers": "strict",
          "colorway": [
           "#636efa",
           "#EF553B",
           "#00cc96",
           "#ab63fa",
           "#FFA15A",
           "#19d3f3",
           "#FF6692",
           "#B6E880",
           "#FF97FF",
           "#FECB52"
          ],
          "font": {
           "color": "#f2f5fa"
          },
          "hovermode": "closest",
          "hoverlabel": {
           "align": "left"
          },
          "paper_bgcolor": "rgb(17,17,17)",
          "plot_bgcolor": "rgb(17,17,17)",
          "polar": {
           "bgcolor": "rgb(17,17,17)",
           "angularaxis": {
            "gridcolor": "#506784",
            "linecolor": "#506784",
            "ticks": ""
           },
           "radialaxis": {
            "gridcolor": "#506784",
            "linecolor": "#506784",
            "ticks": ""
           }
          },
          "ternary": {
           "bgcolor": "rgb(17,17,17)",
           "aaxis": {
            "gridcolor": "#506784",
            "linecolor": "#506784",
            "ticks": ""
           },
           "baxis": {
            "gridcolor": "#506784",
            "linecolor": "#506784",
            "ticks": ""
           },
           "caxis": {
            "gridcolor": "#506784",
            "linecolor": "#506784",
            "ticks": ""
           }
          },
          "coloraxis": {
           "colorbar": {
            "outlinewidth": 0,
            "ticks": ""
           }
          },
          "colorscale": {
           "sequential": [
            [
             0.0,
             "#0d0887"
            ],
            [
             0.1111111111111111,
             "#46039f"
            ],
            [
             0.2222222222222222,
             "#7201a8"
            ],
            [
             0.3333333333333333,
             "#9c179e"
            ],
            [
             0.4444444444444444,
             "#bd3786"
            ],
            [
             0.5555555555555556,
             "#d8576b"
            ],
            [
             0.6666666666666666,
             "#ed7953"
            ],
            [
             0.7777777777777778,
             "#fb9f3a"
            ],
            [
             0.8888888888888888,
             "#fdca26"
            ],
            [
             1.0,
             "#f0f921"
            ]
           ],
           "sequentialminus": [
            [
             0.0,
             "#0d0887"
            ],
            [
             0.1111111111111111,
             "#46039f"
            ],
            [
             0.2222222222222222,
             "#7201a8"
            ],
            [
             0.3333333333333333,
             "#9c179e"
            ],
            [
             0.4444444444444444,
             "#bd3786"
            ],
            [
             0.5555555555555556,
             "#d8576b"
            ],
            [
             0.6666666666666666,
             "#ed7953"
            ],
            [
             0.7777777777777778,
             "#fb9f3a"
            ],
            [
             0.8888888888888888,
             "#fdca26"
            ],
            [
             1.0,
             "#f0f921"
            ]
           ],
           "diverging": [
            [
             0,
             "#8e0152"
            ],
            [
             0.1,
             "#c51b7d"
            ],
            [
             0.2,
             "#de77ae"
            ],
            [
             0.3,
             "#f1b6da"
            ],
            [
             0.4,
             "#fde0ef"
            ],
            [
             0.5,
             "#f7f7f7"
            ],
            [
             0.6,
             "#e6f5d0"
            ],
            [
             0.7,
             "#b8e186"
            ],
            [
             0.8,
             "#7fbc41"
            ],
            [
             0.9,
             "#4d9221"
            ],
            [
             1,
             "#276419"
            ]
           ]
          },
          "xaxis": {
           "gridcolor": "#283442",
           "linecolor": "#506784",
           "ticks": "",
           "title": {
            "standoff": 15
           },
           "zerolinecolor": "#283442",
           "automargin": true,
           "zerolinewidth": 2
          },
          "yaxis": {
           "gridcolor": "#283442",
           "linecolor": "#506784",
           "ticks": "",
           "title": {
            "standoff": 15
           },
           "zerolinecolor": "#283442",
           "automargin": true,
           "zerolinewidth": 2
          },
          "scene": {
           "xaxis": {
            "backgroundcolor": "rgb(17,17,17)",
            "gridcolor": "#506784",
            "linecolor": "#506784",
            "showbackground": true,
            "ticks": "",
            "zerolinecolor": "#C8D4E3",
            "gridwidth": 2
           },
           "yaxis": {
            "backgroundcolor": "rgb(17,17,17)",
            "gridcolor": "#506784",
            "linecolor": "#506784",
            "showbackground": true,
            "ticks": "",
            "zerolinecolor": "#C8D4E3",
            "gridwidth": 2
           },
           "zaxis": {
            "backgroundcolor": "rgb(17,17,17)",
            "gridcolor": "#506784",
            "linecolor": "#506784",
            "showbackground": true,
            "ticks": "",
            "zerolinecolor": "#C8D4E3",
            "gridwidth": 2
           }
          },
          "shapedefaults": {
           "line": {
            "color": "#f2f5fa"
           }
          },
          "annotationdefaults": {
           "arrowcolor": "#f2f5fa",
           "arrowhead": 0,
           "arrowwidth": 1
          },
          "geo": {
           "bgcolor": "rgb(17,17,17)",
           "landcolor": "rgb(17,17,17)",
           "subunitcolor": "#506784",
           "showland": true,
           "showlakes": true,
           "lakecolor": "rgb(17,17,17)"
          },
          "title": {
           "x": 0.05
          },
          "updatemenudefaults": {
           "bgcolor": "#506784",
           "borderwidth": 0
          },
          "sliderdefaults": {
           "bgcolor": "#C8D4E3",
           "borderwidth": 1,
           "bordercolor": "rgb(17,17,17)",
           "tickwidth": 0
          },
          "mapbox": {
           "style": "dark"
          }
         }
        },
        "coloraxis": {
         "colorbar": {
          "title": {
           "text": "Species"
          }
         },
         "colorscale": [
          [
           0.0,
           "#0d0887"
          ],
          [
           0.1111111111111111,
           "#46039f"
          ],
          [
           0.2222222222222222,
           "#7201a8"
          ],
          [
           0.3333333333333333,
           "#9c179e"
          ],
          [
           0.4444444444444444,
           "#bd3786"
          ],
          [
           0.5555555555555556,
           "#d8576b"
          ],
          [
           0.6666666666666666,
           "#ed7953"
          ],
          [
           0.7777777777777778,
           "#fb9f3a"
          ],
          [
           0.8888888888888888,
           "#fdca26"
          ],
          [
           1.0,
           "#f0f921"
          ]
         ]
        },
        "legend": {
         "tracegroupgap": 0
        },
        "margin": {
         "t": 60
        }
       },
       "config": {
        "plotlyServerURL": "https://plot.ly"
       }
      },
      "text/html": "<div>                            <div id=\"7ae2726f-3a97-46c7-8057-fdda0dc27790\" class=\"plotly-graph-div\" style=\"height:525px; width:100%;\"></div>            <script type=\"text/javascript\">                require([\"plotly\"], function(Plotly) {                    window.PLOTLYENV=window.PLOTLYENV || {};                                    if (document.getElementById(\"7ae2726f-3a97-46c7-8057-fdda0dc27790\")) {                    Plotly.newPlot(                        \"7ae2726f-3a97-46c7-8057-fdda0dc27790\",                        [{\"dimensions\":[{\"label\":\"Id\",\"values\":[1,2,3,4,5,6,7,8,9,10,11,12,13,14,15,16,17,18,19,20,21,22,23,24,25,26,27,28,29,30,31,32,33,34,35,36,37,38,39,40,41,42,43,44,45,46,47,48,49,50,51,52,53,54,55,56,57,58,59,60,61,62,63,64,65,66,67,68,69,70,71,72,73,74,75,76,77,78,79,80,81,82,83,84,85,86,87,88,89,90,91,92,93,94,95,96,97,98,99,100,101,102,103,104,105,106,107,108,109,110,111,112,113,114,115,116,117,118,119,120,121,122,123,124,125,126,127,128,129,130,131,132,133,134,135,136,137,138,139,140,141,142,143,144,145,146,147,148,149,150]},{\"label\":\"SepalLengthCm\",\"values\":[5.1,4.9,4.7,4.6,5.0,5.4,4.6,5.0,4.4,4.9,5.4,4.8,4.8,4.3,5.8,5.7,5.4,5.1,5.7,5.1,5.4,5.1,4.6,5.1,4.8,5.0,5.0,5.2,5.2,4.7,4.8,5.4,5.2,5.5,4.9,5.0,5.5,4.9,4.4,5.1,5.0,4.5,4.4,5.0,5.1,4.8,5.1,4.6,5.3,5.0,7.0,6.4,6.9,5.5,6.5,5.7,6.3,4.9,6.6,5.2,5.0,5.9,6.0,6.1,5.6,6.7,5.6,5.8,6.2,5.6,5.9,6.1,6.3,6.1,6.4,6.6,6.8,6.7,6.0,5.7,5.5,5.5,5.8,6.0,5.4,6.0,6.7,6.3,5.6,5.5,5.5,6.1,5.8,5.0,5.6,5.7,5.7,6.2,5.1,5.7,6.3,5.8,7.1,6.3,6.5,7.6,4.9,7.3,6.7,7.2,6.5,6.4,6.8,5.7,5.8,6.4,6.5,7.7,7.7,6.0,6.9,5.6,7.7,6.3,6.7,7.2,6.2,6.1,6.4,7.2,7.4,7.9,6.4,6.3,6.1,7.7,6.3,6.4,6.0,6.9,6.7,6.9,5.8,6.8,6.7,6.7,6.3,6.5,6.2,5.9]},{\"label\":\"SepalWidthCm\",\"values\":[3.5,3.0,3.2,3.1,3.6,3.9,3.4,3.4,2.9,3.1,3.7,3.4,3.0,3.0,4.0,4.4,3.9,3.5,3.8,3.8,3.4,3.7,3.6,3.3,3.4,3.0,3.4,3.5,3.4,3.2,3.1,3.4,4.1,4.2,3.1,3.2,3.5,3.1,3.0,3.4,3.5,2.3,3.2,3.5,3.8,3.0,3.8,3.2,3.7,3.3,3.2,3.2,3.1,2.3,2.8,2.8,3.3,2.4,2.9,2.7,2.0,3.0,2.2,2.9,2.9,3.1,3.0,2.7,2.2,2.5,3.2,2.8,2.5,2.8,2.9,3.0,2.8,3.0,2.9,2.6,2.4,2.4,2.7,2.7,3.0,3.4,3.1,2.3,3.0,2.5,2.6,3.0,2.6,2.3,2.7,3.0,2.9,2.9,2.5,2.8,3.3,2.7,3.0,2.9,3.0,3.0,2.5,2.9,2.5,3.6,3.2,2.7,3.0,2.5,2.8,3.2,3.0,3.8,2.6,2.2,3.2,2.8,2.8,2.7,3.3,3.2,2.8,3.0,2.8,3.0,2.8,3.8,2.8,2.8,2.6,3.0,3.4,3.1,3.0,3.1,3.1,3.1,2.7,3.2,3.3,3.0,2.5,3.0,3.4,3.0]},{\"label\":\"PetalLengthCm\",\"values\":[1.4,1.4,1.3,1.5,1.4,1.7,1.4,1.5,1.4,1.5,1.5,1.6,1.4,1.1,1.2,1.5,1.3,1.4,1.7,1.5,1.7,1.5,1.0,1.7,1.9,1.6,1.6,1.5,1.4,1.6,1.6,1.5,1.5,1.4,1.5,1.2,1.3,1.5,1.3,1.5,1.3,1.3,1.3,1.6,1.9,1.4,1.6,1.4,1.5,1.4,4.7,4.5,4.9,4.0,4.6,4.5,4.7,3.3,4.6,3.9,3.5,4.2,4.0,4.7,3.6,4.4,4.5,4.1,4.5,3.9,4.8,4.0,4.9,4.7,4.3,4.4,4.8,5.0,4.5,3.5,3.8,3.7,3.9,5.1,4.5,4.5,4.7,4.4,4.1,4.0,4.4,4.6,4.0,3.3,4.2,4.2,4.2,4.3,3.0,4.1,6.0,5.1,5.9,5.6,5.8,6.6,4.5,6.3,5.8,6.1,5.1,5.3,5.5,5.0,5.1,5.3,5.5,6.7,6.9,5.0,5.7,4.9,6.7,4.9,5.7,6.0,4.8,4.9,5.6,5.8,6.1,6.4,5.6,5.1,5.6,6.1,5.6,5.5,4.8,5.4,5.6,5.1,5.1,5.9,5.7,5.2,5.0,5.2,5.4,5.1]},{\"label\":\"PetalWidthCm\",\"values\":[0.2,0.2,0.2,0.2,0.2,0.4,0.3,0.2,0.2,0.1,0.2,0.2,0.1,0.1,0.2,0.4,0.4,0.3,0.3,0.3,0.2,0.4,0.2,0.5,0.2,0.2,0.4,0.2,0.2,0.2,0.2,0.4,0.1,0.2,0.1,0.2,0.2,0.1,0.2,0.2,0.3,0.3,0.2,0.6,0.4,0.3,0.2,0.2,0.2,0.2,1.4,1.5,1.5,1.3,1.5,1.3,1.6,1.0,1.3,1.4,1.0,1.5,1.0,1.4,1.3,1.4,1.5,1.0,1.5,1.1,1.8,1.3,1.5,1.2,1.3,1.4,1.4,1.7,1.5,1.0,1.1,1.0,1.2,1.6,1.5,1.6,1.5,1.3,1.3,1.3,1.2,1.4,1.2,1.0,1.3,1.2,1.3,1.3,1.1,1.3,2.5,1.9,2.1,1.8,2.2,2.1,1.7,1.8,1.8,2.5,2.0,1.9,2.1,2.0,2.4,2.3,1.8,2.2,2.3,1.5,2.3,2.0,2.0,1.8,2.1,1.8,1.8,1.8,2.1,1.6,1.9,2.0,2.2,1.5,1.4,2.3,2.4,1.8,1.8,2.1,2.4,2.3,1.9,2.3,2.5,2.3,1.9,2.0,2.3,1.8]},{\"label\":\"Species\",\"values\":[0,0,0,0,0,0,0,0,0,0,0,0,0,0,0,0,0,0,0,0,0,0,0,0,0,0,0,0,0,0,0,0,0,0,0,0,0,0,0,0,0,0,0,0,0,0,0,0,0,0,1,1,1,1,1,1,1,1,1,1,1,1,1,1,1,1,1,1,1,1,1,1,1,1,1,1,1,1,1,1,1,1,1,1,1,1,1,1,1,1,1,1,1,1,1,1,1,1,1,1,2,2,2,2,2,2,2,2,2,2,2,2,2,2,2,2,2,2,2,2,2,2,2,2,2,2,2,2,2,2,2,2,2,2,2,2,2,2,2,2,2,2,2,2,2,2,2,2,2,2]}],\"domain\":{\"x\":[0.0,1.0],\"y\":[0.0,1.0]},\"line\":{\"color\":[0,0,0,0,0,0,0,0,0,0,0,0,0,0,0,0,0,0,0,0,0,0,0,0,0,0,0,0,0,0,0,0,0,0,0,0,0,0,0,0,0,0,0,0,0,0,0,0,0,0,1,1,1,1,1,1,1,1,1,1,1,1,1,1,1,1,1,1,1,1,1,1,1,1,1,1,1,1,1,1,1,1,1,1,1,1,1,1,1,1,1,1,1,1,1,1,1,1,1,1,2,2,2,2,2,2,2,2,2,2,2,2,2,2,2,2,2,2,2,2,2,2,2,2,2,2,2,2,2,2,2,2,2,2,2,2,2,2,2,2,2,2,2,2,2,2,2,2,2,2],\"coloraxis\":\"coloraxis\"},\"name\":\"\",\"type\":\"parcoords\"}],                        {\"template\":{\"data\":{\"histogram2dcontour\":[{\"type\":\"histogram2dcontour\",\"colorbar\":{\"outlinewidth\":0,\"ticks\":\"\"},\"colorscale\":[[0.0,\"#0d0887\"],[0.1111111111111111,\"#46039f\"],[0.2222222222222222,\"#7201a8\"],[0.3333333333333333,\"#9c179e\"],[0.4444444444444444,\"#bd3786\"],[0.5555555555555556,\"#d8576b\"],[0.6666666666666666,\"#ed7953\"],[0.7777777777777778,\"#fb9f3a\"],[0.8888888888888888,\"#fdca26\"],[1.0,\"#f0f921\"]]}],\"choropleth\":[{\"type\":\"choropleth\",\"colorbar\":{\"outlinewidth\":0,\"ticks\":\"\"}}],\"histogram2d\":[{\"type\":\"histogram2d\",\"colorbar\":{\"outlinewidth\":0,\"ticks\":\"\"},\"colorscale\":[[0.0,\"#0d0887\"],[0.1111111111111111,\"#46039f\"],[0.2222222222222222,\"#7201a8\"],[0.3333333333333333,\"#9c179e\"],[0.4444444444444444,\"#bd3786\"],[0.5555555555555556,\"#d8576b\"],[0.6666666666666666,\"#ed7953\"],[0.7777777777777778,\"#fb9f3a\"],[0.8888888888888888,\"#fdca26\"],[1.0,\"#f0f921\"]]}],\"heatmap\":[{\"type\":\"heatmap\",\"colorbar\":{\"outlinewidth\":0,\"ticks\":\"\"},\"colorscale\":[[0.0,\"#0d0887\"],[0.1111111111111111,\"#46039f\"],[0.2222222222222222,\"#7201a8\"],[0.3333333333333333,\"#9c179e\"],[0.4444444444444444,\"#bd3786\"],[0.5555555555555556,\"#d8576b\"],[0.6666666666666666,\"#ed7953\"],[0.7777777777777778,\"#fb9f3a\"],[0.8888888888888888,\"#fdca26\"],[1.0,\"#f0f921\"]]}],\"heatmapgl\":[{\"type\":\"heatmapgl\",\"colorbar\":{\"outlinewidth\":0,\"ticks\":\"\"},\"colorscale\":[[0.0,\"#0d0887\"],[0.1111111111111111,\"#46039f\"],[0.2222222222222222,\"#7201a8\"],[0.3333333333333333,\"#9c179e\"],[0.4444444444444444,\"#bd3786\"],[0.5555555555555556,\"#d8576b\"],[0.6666666666666666,\"#ed7953\"],[0.7777777777777778,\"#fb9f3a\"],[0.8888888888888888,\"#fdca26\"],[1.0,\"#f0f921\"]]}],\"contourcarpet\":[{\"type\":\"contourcarpet\",\"colorbar\":{\"outlinewidth\":0,\"ticks\":\"\"}}],\"contour\":[{\"type\":\"contour\",\"colorbar\":{\"outlinewidth\":0,\"ticks\":\"\"},\"colorscale\":[[0.0,\"#0d0887\"],[0.1111111111111111,\"#46039f\"],[0.2222222222222222,\"#7201a8\"],[0.3333333333333333,\"#9c179e\"],[0.4444444444444444,\"#bd3786\"],[0.5555555555555556,\"#d8576b\"],[0.6666666666666666,\"#ed7953\"],[0.7777777777777778,\"#fb9f3a\"],[0.8888888888888888,\"#fdca26\"],[1.0,\"#f0f921\"]]}],\"surface\":[{\"type\":\"surface\",\"colorbar\":{\"outlinewidth\":0,\"ticks\":\"\"},\"colorscale\":[[0.0,\"#0d0887\"],[0.1111111111111111,\"#46039f\"],[0.2222222222222222,\"#7201a8\"],[0.3333333333333333,\"#9c179e\"],[0.4444444444444444,\"#bd3786\"],[0.5555555555555556,\"#d8576b\"],[0.6666666666666666,\"#ed7953\"],[0.7777777777777778,\"#fb9f3a\"],[0.8888888888888888,\"#fdca26\"],[1.0,\"#f0f921\"]]}],\"mesh3d\":[{\"type\":\"mesh3d\",\"colorbar\":{\"outlinewidth\":0,\"ticks\":\"\"}}],\"scatter\":[{\"marker\":{\"line\":{\"color\":\"#283442\"}},\"type\":\"scatter\"}],\"parcoords\":[{\"type\":\"parcoords\",\"line\":{\"colorbar\":{\"outlinewidth\":0,\"ticks\":\"\"}}}],\"scatterpolargl\":[{\"type\":\"scatterpolargl\",\"marker\":{\"colorbar\":{\"outlinewidth\":0,\"ticks\":\"\"}}}],\"bar\":[{\"error_x\":{\"color\":\"#f2f5fa\"},\"error_y\":{\"color\":\"#f2f5fa\"},\"marker\":{\"line\":{\"color\":\"rgb(17,17,17)\",\"width\":0.5},\"pattern\":{\"fillmode\":\"overlay\",\"size\":10,\"solidity\":0.2}},\"type\":\"bar\"}],\"scattergeo\":[{\"type\":\"scattergeo\",\"marker\":{\"colorbar\":{\"outlinewidth\":0,\"ticks\":\"\"}}}],\"scatterpolar\":[{\"type\":\"scatterpolar\",\"marker\":{\"colorbar\":{\"outlinewidth\":0,\"ticks\":\"\"}}}],\"histogram\":[{\"marker\":{\"pattern\":{\"fillmode\":\"overlay\",\"size\":10,\"solidity\":0.2}},\"type\":\"histogram\"}],\"scattergl\":[{\"marker\":{\"line\":{\"color\":\"#283442\"}},\"type\":\"scattergl\"}],\"scatter3d\":[{\"type\":\"scatter3d\",\"line\":{\"colorbar\":{\"outlinewidth\":0,\"ticks\":\"\"}},\"marker\":{\"colorbar\":{\"outlinewidth\":0,\"ticks\":\"\"}}}],\"scattermapbox\":[{\"type\":\"scattermapbox\",\"marker\":{\"colorbar\":{\"outlinewidth\":0,\"ticks\":\"\"}}}],\"scatterternary\":[{\"type\":\"scatterternary\",\"marker\":{\"colorbar\":{\"outlinewidth\":0,\"ticks\":\"\"}}}],\"scattercarpet\":[{\"type\":\"scattercarpet\",\"marker\":{\"colorbar\":{\"outlinewidth\":0,\"ticks\":\"\"}}}],\"carpet\":[{\"aaxis\":{\"endlinecolor\":\"#A2B1C6\",\"gridcolor\":\"#506784\",\"linecolor\":\"#506784\",\"minorgridcolor\":\"#506784\",\"startlinecolor\":\"#A2B1C6\"},\"baxis\":{\"endlinecolor\":\"#A2B1C6\",\"gridcolor\":\"#506784\",\"linecolor\":\"#506784\",\"minorgridcolor\":\"#506784\",\"startlinecolor\":\"#A2B1C6\"},\"type\":\"carpet\"}],\"table\":[{\"cells\":{\"fill\":{\"color\":\"#506784\"},\"line\":{\"color\":\"rgb(17,17,17)\"}},\"header\":{\"fill\":{\"color\":\"#2a3f5f\"},\"line\":{\"color\":\"rgb(17,17,17)\"}},\"type\":\"table\"}],\"barpolar\":[{\"marker\":{\"line\":{\"color\":\"rgb(17,17,17)\",\"width\":0.5},\"pattern\":{\"fillmode\":\"overlay\",\"size\":10,\"solidity\":0.2}},\"type\":\"barpolar\"}],\"pie\":[{\"automargin\":true,\"type\":\"pie\"}]},\"layout\":{\"autotypenumbers\":\"strict\",\"colorway\":[\"#636efa\",\"#EF553B\",\"#00cc96\",\"#ab63fa\",\"#FFA15A\",\"#19d3f3\",\"#FF6692\",\"#B6E880\",\"#FF97FF\",\"#FECB52\"],\"font\":{\"color\":\"#f2f5fa\"},\"hovermode\":\"closest\",\"hoverlabel\":{\"align\":\"left\"},\"paper_bgcolor\":\"rgb(17,17,17)\",\"plot_bgcolor\":\"rgb(17,17,17)\",\"polar\":{\"bgcolor\":\"rgb(17,17,17)\",\"angularaxis\":{\"gridcolor\":\"#506784\",\"linecolor\":\"#506784\",\"ticks\":\"\"},\"radialaxis\":{\"gridcolor\":\"#506784\",\"linecolor\":\"#506784\",\"ticks\":\"\"}},\"ternary\":{\"bgcolor\":\"rgb(17,17,17)\",\"aaxis\":{\"gridcolor\":\"#506784\",\"linecolor\":\"#506784\",\"ticks\":\"\"},\"baxis\":{\"gridcolor\":\"#506784\",\"linecolor\":\"#506784\",\"ticks\":\"\"},\"caxis\":{\"gridcolor\":\"#506784\",\"linecolor\":\"#506784\",\"ticks\":\"\"}},\"coloraxis\":{\"colorbar\":{\"outlinewidth\":0,\"ticks\":\"\"}},\"colorscale\":{\"sequential\":[[0.0,\"#0d0887\"],[0.1111111111111111,\"#46039f\"],[0.2222222222222222,\"#7201a8\"],[0.3333333333333333,\"#9c179e\"],[0.4444444444444444,\"#bd3786\"],[0.5555555555555556,\"#d8576b\"],[0.6666666666666666,\"#ed7953\"],[0.7777777777777778,\"#fb9f3a\"],[0.8888888888888888,\"#fdca26\"],[1.0,\"#f0f921\"]],\"sequentialminus\":[[0.0,\"#0d0887\"],[0.1111111111111111,\"#46039f\"],[0.2222222222222222,\"#7201a8\"],[0.3333333333333333,\"#9c179e\"],[0.4444444444444444,\"#bd3786\"],[0.5555555555555556,\"#d8576b\"],[0.6666666666666666,\"#ed7953\"],[0.7777777777777778,\"#fb9f3a\"],[0.8888888888888888,\"#fdca26\"],[1.0,\"#f0f921\"]],\"diverging\":[[0,\"#8e0152\"],[0.1,\"#c51b7d\"],[0.2,\"#de77ae\"],[0.3,\"#f1b6da\"],[0.4,\"#fde0ef\"],[0.5,\"#f7f7f7\"],[0.6,\"#e6f5d0\"],[0.7,\"#b8e186\"],[0.8,\"#7fbc41\"],[0.9,\"#4d9221\"],[1,\"#276419\"]]},\"xaxis\":{\"gridcolor\":\"#283442\",\"linecolor\":\"#506784\",\"ticks\":\"\",\"title\":{\"standoff\":15},\"zerolinecolor\":\"#283442\",\"automargin\":true,\"zerolinewidth\":2},\"yaxis\":{\"gridcolor\":\"#283442\",\"linecolor\":\"#506784\",\"ticks\":\"\",\"title\":{\"standoff\":15},\"zerolinecolor\":\"#283442\",\"automargin\":true,\"zerolinewidth\":2},\"scene\":{\"xaxis\":{\"backgroundcolor\":\"rgb(17,17,17)\",\"gridcolor\":\"#506784\",\"linecolor\":\"#506784\",\"showbackground\":true,\"ticks\":\"\",\"zerolinecolor\":\"#C8D4E3\",\"gridwidth\":2},\"yaxis\":{\"backgroundcolor\":\"rgb(17,17,17)\",\"gridcolor\":\"#506784\",\"linecolor\":\"#506784\",\"showbackground\":true,\"ticks\":\"\",\"zerolinecolor\":\"#C8D4E3\",\"gridwidth\":2},\"zaxis\":{\"backgroundcolor\":\"rgb(17,17,17)\",\"gridcolor\":\"#506784\",\"linecolor\":\"#506784\",\"showbackground\":true,\"ticks\":\"\",\"zerolinecolor\":\"#C8D4E3\",\"gridwidth\":2}},\"shapedefaults\":{\"line\":{\"color\":\"#f2f5fa\"}},\"annotationdefaults\":{\"arrowcolor\":\"#f2f5fa\",\"arrowhead\":0,\"arrowwidth\":1},\"geo\":{\"bgcolor\":\"rgb(17,17,17)\",\"landcolor\":\"rgb(17,17,17)\",\"subunitcolor\":\"#506784\",\"showland\":true,\"showlakes\":true,\"lakecolor\":\"rgb(17,17,17)\"},\"title\":{\"x\":0.05},\"updatemenudefaults\":{\"bgcolor\":\"#506784\",\"borderwidth\":0},\"sliderdefaults\":{\"bgcolor\":\"#C8D4E3\",\"borderwidth\":1,\"bordercolor\":\"rgb(17,17,17)\",\"tickwidth\":0},\"mapbox\":{\"style\":\"dark\"}}},\"coloraxis\":{\"colorbar\":{\"title\":{\"text\":\"Species\"}},\"colorscale\":[[0.0,\"#0d0887\"],[0.1111111111111111,\"#46039f\"],[0.2222222222222222,\"#7201a8\"],[0.3333333333333333,\"#9c179e\"],[0.4444444444444444,\"#bd3786\"],[0.5555555555555556,\"#d8576b\"],[0.6666666666666666,\"#ed7953\"],[0.7777777777777778,\"#fb9f3a\"],[0.8888888888888888,\"#fdca26\"],[1.0,\"#f0f921\"]]},\"legend\":{\"tracegroupgap\":0},\"margin\":{\"t\":60}},                        {\"responsive\": true}                    ).then(function(){\n                            \nvar gd = document.getElementById('7ae2726f-3a97-46c7-8057-fdda0dc27790');\nvar x = new MutationObserver(function (mutations, observer) {{\n        var display = window.getComputedStyle(gd).display;\n        if (!display || display === 'none') {{\n            console.log([gd, 'removed!']);\n            Plotly.purge(gd);\n            observer.disconnect();\n        }}\n}});\n\n// Listen for the removal of the full notebook cells\nvar notebookContainer = gd.closest('#notebook-container');\nif (notebookContainer) {{\n    x.observe(notebookContainer, {childList: true});\n}}\n\n// Listen for the clearing of the current output cell\nvar outputEl = gd.closest('.output');\nif (outputEl) {{\n    x.observe(outputEl, {childList: true});\n}}\n\n                        })                };                });            </script>        </div>"
     },
     "metadata": {},
     "output_type": "display_data"
    }
   ],
   "source": [
    "data = pd.read_csv('datasets/iris.csv')\n",
    "dtypes_dict = {'Id': 'not-generalizable', 'SepalLengthCm': 'floating', 'SepalWidthCm': 'floating', 'PetalLengthCm': 'floating', 'PetalWidthCm': 'floating', 'Species': 'categorical'}\n",
    "encoded_data = encode_categorical_columns(data, 'Species', dtypes_dict)\n",
    "pcp_plot(encoded_data, target='Species')"
   ],
   "metadata": {
    "collapsed": false
   }
  },
  {
   "cell_type": "code",
   "execution_count": 24,
   "outputs": [],
   "source": [
    "def pcp_plot(encoded_df, target):\n",
    "    #TODO: tekst/lookup table toevoegen met conversie categorische variabelen encoding als dictionary\n",
    "\n",
    "    if target != 'None':\n",
    "        fig = px.parallel_coordinates(encoded_df, color=target)\n",
    "    else:\n",
    "        fig = px.parallel_coordinates(encoded_df)\n",
    "\n",
    "    return fig"
   ],
   "metadata": {
    "collapsed": false
   }
  },
  {
   "cell_type": "code",
   "execution_count": 31,
   "outputs": [
    {
     "ename": "KeyboardInterrupt",
     "evalue": "",
     "output_type": "error",
     "traceback": [
      "\u001B[1;31m---------------------------------------------------------------------------\u001B[0m",
      "\u001B[1;31mKeyboardInterrupt\u001B[0m                         Traceback (most recent call last)",
      "\u001B[1;32m~\\AppData\\Local\\Temp\\ipykernel_28256\\3497800717.py\u001B[0m in \u001B[0;36m<cell line: 18>\u001B[1;34m()\u001B[0m\n\u001B[0;32m     17\u001B[0m \u001B[1;33m\u001B[0m\u001B[0m\n\u001B[0;32m     18\u001B[0m \u001B[1;32mif\u001B[0m \u001B[0m__name__\u001B[0m \u001B[1;33m==\u001B[0m \u001B[1;34m'__main__'\u001B[0m\u001B[1;33m:\u001B[0m\u001B[1;33m\u001B[0m\u001B[1;33m\u001B[0m\u001B[0m\n\u001B[1;32m---> 19\u001B[1;33m     \u001B[0mmain\u001B[0m\u001B[1;33m(\u001B[0m\u001B[1;33m)\u001B[0m\u001B[1;33m\u001B[0m\u001B[1;33m\u001B[0m\u001B[0m\n\u001B[0m",
      "\u001B[1;32m~\\AppData\\Local\\Temp\\ipykernel_28256\\3497800717.py\u001B[0m in \u001B[0;36mmain\u001B[1;34m()\u001B[0m\n\u001B[0;32m     12\u001B[0m     \u001B[1;31m# cleanlab finds data and label issues in **any dataset**... in ONE line of code!\u001B[0m\u001B[1;33m\u001B[0m\u001B[1;33m\u001B[0m\u001B[0m\n\u001B[0;32m     13\u001B[0m     \u001B[1;31m# Fit model to messy, real-world data, automatically training on cleaned data.\u001B[0m\u001B[1;33m\u001B[0m\u001B[1;33m\u001B[0m\u001B[0m\n\u001B[1;32m---> 14\u001B[1;33m     \u001B[0m_\u001B[0m \u001B[1;33m=\u001B[0m \u001B[0mcl\u001B[0m\u001B[1;33m.\u001B[0m\u001B[0mfit\u001B[0m\u001B[1;33m(\u001B[0m\u001B[0mdata\u001B[0m\u001B[1;33m,\u001B[0m \u001B[0mlist\u001B[0m\u001B[1;33m(\u001B[0m\u001B[0mdf\u001B[0m\u001B[1;33m[\u001B[0m\u001B[1;34m'Species'\u001B[0m\u001B[1;33m]\u001B[0m\u001B[1;33m)\u001B[0m\u001B[1;33m)\u001B[0m\u001B[1;33m\u001B[0m\u001B[1;33m\u001B[0m\u001B[0m\n\u001B[0m\u001B[0;32m     15\u001B[0m     \u001B[1;31m# See the label quality for every example, which data has issues, and more.\u001B[0m\u001B[1;33m\u001B[0m\u001B[1;33m\u001B[0m\u001B[0m\n\u001B[0;32m     16\u001B[0m     \u001B[0mprint\u001B[0m\u001B[1;33m(\u001B[0m\u001B[0mcl\u001B[0m\u001B[1;33m.\u001B[0m\u001B[0mget_label_issues\u001B[0m\u001B[1;33m(\u001B[0m\u001B[1;33m)\u001B[0m\u001B[1;33m.\u001B[0m\u001B[0mhead\u001B[0m\u001B[1;33m(\u001B[0m\u001B[1;33m)\u001B[0m\u001B[1;33m)\u001B[0m\u001B[1;33m\u001B[0m\u001B[1;33m\u001B[0m\u001B[0m\n",
      "\u001B[1;32m~\\AppData\\Local\\Programs\\Python\\Python310\\lib\\site-packages\\cleanlab\\classification.py\u001B[0m in \u001B[0;36mfit\u001B[1;34m(self, X, labels, pred_probs, thresholds, noise_matrix, inverse_noise_matrix, label_issues, sample_weight, clf_kwargs, clf_final_kwargs, validation_func, y)\u001B[0m\n\u001B[0;32m    474\u001B[0m                     \u001B[1;34m\"should pass the label_issues in as a parameter to this function next time.\"\u001B[0m\u001B[1;33m\u001B[0m\u001B[1;33m\u001B[0m\u001B[0m\n\u001B[0;32m    475\u001B[0m                 )\n\u001B[1;32m--> 476\u001B[1;33m             label_issues = self.find_label_issues(\n\u001B[0m\u001B[0;32m    477\u001B[0m                 \u001B[0mX\u001B[0m\u001B[1;33m,\u001B[0m\u001B[1;33m\u001B[0m\u001B[1;33m\u001B[0m\u001B[0m\n\u001B[0;32m    478\u001B[0m                 \u001B[0mlabels\u001B[0m\u001B[1;33m,\u001B[0m\u001B[1;33m\u001B[0m\u001B[1;33m\u001B[0m\u001B[0m\n",
      "\u001B[1;32m~\\AppData\\Local\\Programs\\Python\\Python310\\lib\\site-packages\\cleanlab\\classification.py\u001B[0m in \u001B[0;36mfind_label_issues\u001B[1;34m(self, X, labels, pred_probs, thresholds, noise_matrix, inverse_noise_matrix, save_space, clf_kwargs, validation_func)\u001B[0m\n\u001B[0;32m    728\u001B[0m \u001B[1;33m\u001B[0m\u001B[0m\n\u001B[0;32m    729\u001B[0m         \u001B[1;31m# Check inputs\u001B[0m\u001B[1;33m\u001B[0m\u001B[1;33m\u001B[0m\u001B[0m\n\u001B[1;32m--> 730\u001B[1;33m         \u001B[0massert_valid_inputs\u001B[0m\u001B[1;33m(\u001B[0m\u001B[0mX\u001B[0m\u001B[1;33m,\u001B[0m \u001B[0mlabels\u001B[0m\u001B[1;33m,\u001B[0m \u001B[0mpred_probs\u001B[0m\u001B[1;33m)\u001B[0m\u001B[1;33m\u001B[0m\u001B[1;33m\u001B[0m\u001B[0m\n\u001B[0m\u001B[0;32m    731\u001B[0m         \u001B[1;32mif\u001B[0m \u001B[0mnoise_matrix\u001B[0m \u001B[1;32mis\u001B[0m \u001B[1;32mnot\u001B[0m \u001B[1;32mNone\u001B[0m \u001B[1;32mand\u001B[0m \u001B[0mnp\u001B[0m\u001B[1;33m.\u001B[0m\u001B[0mtrace\u001B[0m\u001B[1;33m(\u001B[0m\u001B[0mnoise_matrix\u001B[0m\u001B[1;33m)\u001B[0m \u001B[1;33m<=\u001B[0m \u001B[1;36m1\u001B[0m\u001B[1;33m:\u001B[0m\u001B[1;33m\u001B[0m\u001B[1;33m\u001B[0m\u001B[0m\n\u001B[0;32m    732\u001B[0m             \u001B[0mt\u001B[0m \u001B[1;33m=\u001B[0m \u001B[0mnp\u001B[0m\u001B[1;33m.\u001B[0m\u001B[0mround\u001B[0m\u001B[1;33m(\u001B[0m\u001B[0mnp\u001B[0m\u001B[1;33m.\u001B[0m\u001B[0mtrace\u001B[0m\u001B[1;33m(\u001B[0m\u001B[0mnoise_matrix\u001B[0m\u001B[1;33m)\u001B[0m\u001B[1;33m,\u001B[0m \u001B[1;36m2\u001B[0m\u001B[1;33m)\u001B[0m\u001B[1;33m\u001B[0m\u001B[1;33m\u001B[0m\u001B[0m\n",
      "\u001B[1;32m~\\AppData\\Local\\Programs\\Python\\Python310\\lib\\site-packages\\cleanlab\\internal\\validation.py\u001B[0m in \u001B[0;36massert_valid_inputs\u001B[1;34m(X, y, pred_probs, multi_label, allow_missing_classes, allow_one_class)\u001B[0m\n\u001B[0;32m     48\u001B[0m         \u001B[0mallow_empty_X\u001B[0m \u001B[1;33m=\u001B[0m \u001B[1;32mFalse\u001B[0m\u001B[1;33m\u001B[0m\u001B[1;33m\u001B[0m\u001B[0m\n\u001B[0;32m     49\u001B[0m     \u001B[1;32mtry\u001B[0m\u001B[1;33m:\u001B[0m\u001B[1;33m\u001B[0m\u001B[1;33m\u001B[0m\u001B[0m\n\u001B[1;32m---> 50\u001B[1;33m         \u001B[1;32mimport\u001B[0m \u001B[0mtensorflow\u001B[0m\u001B[1;33m\u001B[0m\u001B[1;33m\u001B[0m\u001B[0m\n\u001B[0m\u001B[0;32m     51\u001B[0m \u001B[1;33m\u001B[0m\u001B[0m\n\u001B[0;32m     52\u001B[0m         \u001B[1;32mif\u001B[0m \u001B[0misinstance\u001B[0m\u001B[1;33m(\u001B[0m\u001B[0mX\u001B[0m\u001B[1;33m,\u001B[0m \u001B[0mtensorflow\u001B[0m\u001B[1;33m.\u001B[0m\u001B[0mdata\u001B[0m\u001B[1;33m.\u001B[0m\u001B[0mDataset\u001B[0m\u001B[1;33m)\u001B[0m\u001B[1;33m:\u001B[0m\u001B[1;33m\u001B[0m\u001B[1;33m\u001B[0m\u001B[0m\n",
      "\u001B[1;32m~\\AppData\\Local\\Programs\\Python\\Python310\\lib\\site-packages\\tensorflow\\__init__.py\u001B[0m in \u001B[0;36m<module>\u001B[1;34m\u001B[0m\n\u001B[0;32m     35\u001B[0m \u001B[1;32mimport\u001B[0m \u001B[0mtyping\u001B[0m \u001B[1;32mas\u001B[0m \u001B[0m_typing\u001B[0m\u001B[1;33m\u001B[0m\u001B[1;33m\u001B[0m\u001B[0m\n\u001B[0;32m     36\u001B[0m \u001B[1;33m\u001B[0m\u001B[0m\n\u001B[1;32m---> 37\u001B[1;33m \u001B[1;32mfrom\u001B[0m \u001B[0mtensorflow\u001B[0m\u001B[1;33m.\u001B[0m\u001B[0mpython\u001B[0m\u001B[1;33m.\u001B[0m\u001B[0mtools\u001B[0m \u001B[1;32mimport\u001B[0m \u001B[0mmodule_util\u001B[0m \u001B[1;32mas\u001B[0m \u001B[0m_module_util\u001B[0m\u001B[1;33m\u001B[0m\u001B[1;33m\u001B[0m\u001B[0m\n\u001B[0m\u001B[0;32m     38\u001B[0m \u001B[1;32mfrom\u001B[0m \u001B[0mtensorflow\u001B[0m\u001B[1;33m.\u001B[0m\u001B[0mpython\u001B[0m\u001B[1;33m.\u001B[0m\u001B[0mutil\u001B[0m\u001B[1;33m.\u001B[0m\u001B[0mlazy_loader\u001B[0m \u001B[1;32mimport\u001B[0m \u001B[0mLazyLoader\u001B[0m \u001B[1;32mas\u001B[0m \u001B[0m_LazyLoader\u001B[0m\u001B[1;33m\u001B[0m\u001B[1;33m\u001B[0m\u001B[0m\n\u001B[0;32m     39\u001B[0m \u001B[1;33m\u001B[0m\u001B[0m\n",
      "\u001B[1;32m~\\AppData\\Local\\Programs\\Python\\Python310\\lib\\site-packages\\tensorflow\\python\\__init__.py\u001B[0m in \u001B[0;36m<module>\u001B[1;34m\u001B[0m\n\u001B[0;32m     35\u001B[0m \u001B[1;33m\u001B[0m\u001B[0m\n\u001B[0;32m     36\u001B[0m \u001B[1;32mfrom\u001B[0m \u001B[0mtensorflow\u001B[0m\u001B[1;33m.\u001B[0m\u001B[0mpython\u001B[0m \u001B[1;32mimport\u001B[0m \u001B[0mpywrap_tensorflow\u001B[0m \u001B[1;32mas\u001B[0m \u001B[0m_pywrap_tensorflow\u001B[0m\u001B[1;33m\u001B[0m\u001B[1;33m\u001B[0m\u001B[0m\n\u001B[1;32m---> 37\u001B[1;33m \u001B[1;32mfrom\u001B[0m \u001B[0mtensorflow\u001B[0m\u001B[1;33m.\u001B[0m\u001B[0mpython\u001B[0m\u001B[1;33m.\u001B[0m\u001B[0meager\u001B[0m \u001B[1;32mimport\u001B[0m \u001B[0mcontext\u001B[0m\u001B[1;33m\u001B[0m\u001B[1;33m\u001B[0m\u001B[0m\n\u001B[0m\u001B[0;32m     38\u001B[0m \u001B[1;33m\u001B[0m\u001B[0m\n\u001B[0;32m     39\u001B[0m \u001B[1;31m# pylint: enable=wildcard-import\u001B[0m\u001B[1;33m\u001B[0m\u001B[1;33m\u001B[0m\u001B[0m\n",
      "\u001B[1;32m~\\AppData\\Local\\Programs\\Python\\Python310\\lib\\site-packages\\tensorflow\\python\\eager\\context.py\u001B[0m in \u001B[0;36m<module>\u001B[1;34m\u001B[0m\n\u001B[0;32m     32\u001B[0m \u001B[1;32mfrom\u001B[0m \u001B[0mtensorflow\u001B[0m\u001B[1;33m.\u001B[0m\u001B[0mpython\u001B[0m \u001B[1;32mimport\u001B[0m \u001B[0mpywrap_tfe\u001B[0m\u001B[1;33m\u001B[0m\u001B[1;33m\u001B[0m\u001B[0m\n\u001B[0;32m     33\u001B[0m \u001B[1;32mfrom\u001B[0m \u001B[0mtensorflow\u001B[0m\u001B[1;33m.\u001B[0m\u001B[0mpython\u001B[0m \u001B[1;32mimport\u001B[0m \u001B[0mtf2\u001B[0m\u001B[1;33m\u001B[0m\u001B[1;33m\u001B[0m\u001B[0m\n\u001B[1;32m---> 34\u001B[1;33m \u001B[1;32mfrom\u001B[0m \u001B[0mtensorflow\u001B[0m\u001B[1;33m.\u001B[0m\u001B[0mpython\u001B[0m\u001B[1;33m.\u001B[0m\u001B[0mclient\u001B[0m \u001B[1;32mimport\u001B[0m \u001B[0mpywrap_tf_session\u001B[0m\u001B[1;33m\u001B[0m\u001B[1;33m\u001B[0m\u001B[0m\n\u001B[0m\u001B[0;32m     35\u001B[0m \u001B[1;32mfrom\u001B[0m \u001B[0mtensorflow\u001B[0m\u001B[1;33m.\u001B[0m\u001B[0mpython\u001B[0m\u001B[1;33m.\u001B[0m\u001B[0meager\u001B[0m \u001B[1;32mimport\u001B[0m \u001B[0mexecutor\u001B[0m\u001B[1;33m\u001B[0m\u001B[1;33m\u001B[0m\u001B[0m\n\u001B[0;32m     36\u001B[0m \u001B[1;32mfrom\u001B[0m \u001B[0mtensorflow\u001B[0m\u001B[1;33m.\u001B[0m\u001B[0mpython\u001B[0m\u001B[1;33m.\u001B[0m\u001B[0meager\u001B[0m \u001B[1;32mimport\u001B[0m \u001B[0mmonitoring\u001B[0m\u001B[1;33m\u001B[0m\u001B[1;33m\u001B[0m\u001B[0m\n",
      "\u001B[1;32m~\\AppData\\Local\\Programs\\Python\\Python310\\lib\\site-packages\\tensorflow\\python\\client\\pywrap_tf_session.py\u001B[0m in \u001B[0;36m<module>\u001B[1;34m\u001B[0m\n\u001B[0;32m     17\u001B[0m \u001B[1;31m# pylint: disable=invalid-import-order,g-bad-import-order, wildcard-import, unused-import\u001B[0m\u001B[1;33m\u001B[0m\u001B[1;33m\u001B[0m\u001B[0m\n\u001B[0;32m     18\u001B[0m \u001B[1;32mfrom\u001B[0m \u001B[0mtensorflow\u001B[0m\u001B[1;33m.\u001B[0m\u001B[0mpython\u001B[0m \u001B[1;32mimport\u001B[0m \u001B[0mpywrap_tensorflow\u001B[0m\u001B[1;33m\u001B[0m\u001B[1;33m\u001B[0m\u001B[0m\n\u001B[1;32m---> 19\u001B[1;33m \u001B[1;32mfrom\u001B[0m \u001B[0mtensorflow\u001B[0m\u001B[1;33m.\u001B[0m\u001B[0mpython\u001B[0m\u001B[1;33m.\u001B[0m\u001B[0mclient\u001B[0m\u001B[1;33m.\u001B[0m\u001B[0m_pywrap_tf_session\u001B[0m \u001B[1;32mimport\u001B[0m \u001B[1;33m*\u001B[0m\u001B[1;33m\u001B[0m\u001B[1;33m\u001B[0m\u001B[0m\n\u001B[0m\u001B[0;32m     20\u001B[0m \u001B[1;32mfrom\u001B[0m \u001B[0mtensorflow\u001B[0m\u001B[1;33m.\u001B[0m\u001B[0mpython\u001B[0m\u001B[1;33m.\u001B[0m\u001B[0mclient\u001B[0m\u001B[1;33m.\u001B[0m\u001B[0m_pywrap_tf_session\u001B[0m \u001B[1;32mimport\u001B[0m \u001B[0m_TF_SetTarget\u001B[0m\u001B[1;33m\u001B[0m\u001B[1;33m\u001B[0m\u001B[0m\n\u001B[0;32m     21\u001B[0m \u001B[1;32mfrom\u001B[0m \u001B[0mtensorflow\u001B[0m\u001B[1;33m.\u001B[0m\u001B[0mpython\u001B[0m\u001B[1;33m.\u001B[0m\u001B[0mclient\u001B[0m\u001B[1;33m.\u001B[0m\u001B[0m_pywrap_tf_session\u001B[0m \u001B[1;32mimport\u001B[0m \u001B[0m_TF_SetConfig\u001B[0m\u001B[1;33m\u001B[0m\u001B[1;33m\u001B[0m\u001B[0m\n",
      "\u001B[1;31mKeyboardInterrupt\u001B[0m: "
     ]
    }
   ],
   "source": [
    "\n",
    "def main():\n",
    "    # your code here\n",
    "    df = pd.read_csv('datasets\\Iris.csv')\n",
    "    # Create a label encoder object\n",
    "    le = LabelEncoder()\n",
    "    # Fit and transform the \"Species\" column\n",
    "    df['Species'] = le.fit_transform(df['Species'])\n",
    "    # cleanlab works with **any classifier**. Yup, you can use PyTorch/TensorFlow/OpenAI/XGBoost/etc.\n",
    "    cl = cleanlab.classification.CleanLearning(RandomForestClassifier())\n",
    "    data = df.loc[:, df.columns != 'Species']\n",
    "\n",
    "    # cleanlab finds data and label issues in **any dataset**... in ONE line of code!\n",
    "    # Fit model to messy, real-world data, automatically training on cleaned data.\n",
    "    _ = cl.fit(data, list(df['Species']))\n",
    "    # See the label quality for every example, which data has issues, and more.\n",
    "    print(cl.get_label_issues().head())\n",
    "\n",
    "if __name__ == '__main__':\n",
    "    main()"
   ],
   "metadata": {
    "collapsed": false
   }
  },
  {
   "cell_type": "code",
   "execution_count": 37,
   "outputs": [],
   "source": [
    "from scipy.io import arff\n",
    "from io import StringIO\n",
    "content = \"\"\"\n",
    "@relation foo\n",
    "@attribute width  numeric\n",
    "@attribute height numeric\n",
    "@attribute color  {red,green,blue,yellow,black}\n",
    "@data\n",
    "5.0,3.25,blue\n",
    "4.5,3.75,green\n",
    "3.0,4.00,red\n",
    "\"\"\"\n",
    "f = StringIO(content)\n",
    "data, meta = arff.loadarff(f)\n",
    "df = pd.DataFrame(data)"
   ],
   "metadata": {
    "collapsed": false
   }
  },
  {
   "cell_type": "code",
   "execution_count": 2,
   "outputs": [
    {
     "data": {
      "text/plain": "   age  workclass  fnlwgt     education  educational-num      marital-status  \\\n0   25    Private  226802          11th                7       Never-married   \n1   38    Private   89814       HS-grad                9  Married-civ-spouse   \n2   28  Local-gov  336951    Assoc-acdm               12  Married-civ-spouse   \n3   44    Private  160323  Some-college               10  Married-civ-spouse   \n4   18          ?  103497  Some-college               10       Never-married   \n\n          occupation relationship   race  gender  capital-gain  capital-loss  \\\n0  Machine-op-inspct    Own-child  Black    Male             0             0   \n1    Farming-fishing      Husband  White    Male             0             0   \n2    Protective-serv      Husband  White    Male             0             0   \n3  Machine-op-inspct      Husband  Black    Male          7688             0   \n4                  ?    Own-child  White  Female             0             0   \n\n   hours-per-week native-country income  \n0              40  United-States  <=50K  \n1              50  United-States  <=50K  \n2              40  United-States   >50K  \n3              40  United-States   >50K  \n4              30  United-States  <=50K  ",
      "text/html": "<div>\n<style scoped>\n    .dataframe tbody tr th:only-of-type {\n        vertical-align: middle;\n    }\n\n    .dataframe tbody tr th {\n        vertical-align: top;\n    }\n\n    .dataframe thead th {\n        text-align: right;\n    }\n</style>\n<table border=\"1\" class=\"dataframe\">\n  <thead>\n    <tr style=\"text-align: right;\">\n      <th></th>\n      <th>age</th>\n      <th>workclass</th>\n      <th>fnlwgt</th>\n      <th>education</th>\n      <th>educational-num</th>\n      <th>marital-status</th>\n      <th>occupation</th>\n      <th>relationship</th>\n      <th>race</th>\n      <th>gender</th>\n      <th>capital-gain</th>\n      <th>capital-loss</th>\n      <th>hours-per-week</th>\n      <th>native-country</th>\n      <th>income</th>\n    </tr>\n  </thead>\n  <tbody>\n    <tr>\n      <th>0</th>\n      <td>25</td>\n      <td>Private</td>\n      <td>226802</td>\n      <td>11th</td>\n      <td>7</td>\n      <td>Never-married</td>\n      <td>Machine-op-inspct</td>\n      <td>Own-child</td>\n      <td>Black</td>\n      <td>Male</td>\n      <td>0</td>\n      <td>0</td>\n      <td>40</td>\n      <td>United-States</td>\n      <td>&lt;=50K</td>\n    </tr>\n    <tr>\n      <th>1</th>\n      <td>38</td>\n      <td>Private</td>\n      <td>89814</td>\n      <td>HS-grad</td>\n      <td>9</td>\n      <td>Married-civ-spouse</td>\n      <td>Farming-fishing</td>\n      <td>Husband</td>\n      <td>White</td>\n      <td>Male</td>\n      <td>0</td>\n      <td>0</td>\n      <td>50</td>\n      <td>United-States</td>\n      <td>&lt;=50K</td>\n    </tr>\n    <tr>\n      <th>2</th>\n      <td>28</td>\n      <td>Local-gov</td>\n      <td>336951</td>\n      <td>Assoc-acdm</td>\n      <td>12</td>\n      <td>Married-civ-spouse</td>\n      <td>Protective-serv</td>\n      <td>Husband</td>\n      <td>White</td>\n      <td>Male</td>\n      <td>0</td>\n      <td>0</td>\n      <td>40</td>\n      <td>United-States</td>\n      <td>&gt;50K</td>\n    </tr>\n    <tr>\n      <th>3</th>\n      <td>44</td>\n      <td>Private</td>\n      <td>160323</td>\n      <td>Some-college</td>\n      <td>10</td>\n      <td>Married-civ-spouse</td>\n      <td>Machine-op-inspct</td>\n      <td>Husband</td>\n      <td>Black</td>\n      <td>Male</td>\n      <td>7688</td>\n      <td>0</td>\n      <td>40</td>\n      <td>United-States</td>\n      <td>&gt;50K</td>\n    </tr>\n    <tr>\n      <th>4</th>\n      <td>18</td>\n      <td>?</td>\n      <td>103497</td>\n      <td>Some-college</td>\n      <td>10</td>\n      <td>Never-married</td>\n      <td>?</td>\n      <td>Own-child</td>\n      <td>White</td>\n      <td>Female</td>\n      <td>0</td>\n      <td>0</td>\n      <td>30</td>\n      <td>United-States</td>\n      <td>&lt;=50K</td>\n    </tr>\n  </tbody>\n</table>\n</div>"
     },
     "execution_count": 2,
     "metadata": {},
     "output_type": "execute_result"
    }
   ],
   "source": [
    "import pandas as pd\n",
    "import sortinghatinf\n",
    "data =pd.read_csv('datasets/adult.csv')\n",
    "data.head()\n"
   ],
   "metadata": {
    "collapsed": false
   }
  },
  {
   "cell_type": "code",
   "execution_count": 3,
   "outputs": [
    {
     "name": "stdout",
     "output_type": "stream",
     "text": [
      "['integer', 'categorical', 'integer', 'categorical', 'integer', 'categorical', 'categorical', 'categorical', 'categorical', 'categorical', 'integer', 'integer', 'integer', 'categorical', 'categorical']\n",
      "@@@@@\n",
      "['numeric', 'categorical', 'numeric', 'categorical', 'numeric', 'categorical', 'categorical', 'categorical', 'categorical', 'categorical', 'numeric', 'numeric', 'numeric', 'categorical', 'categorical']\n"
     ]
    }
   ],
   "source": [
    "\n",
    "print(sortinghatinf.get_expanded_feature_types(data))\n",
    "print('@@@@@')\n",
    "print(sortinghatinf.get_sortinghat_types(data))\n"
   ],
   "metadata": {
    "collapsed": false
   }
  },
  {
   "cell_type": "code",
   "execution_count": 9,
   "outputs": [],
   "source": [
    "import deepchecks.tabular.checks\n",
    "def mixed_data_types(dataset):\n",
    "    \"\"\"\"function that discovers the various types of data that exist in a column\"\"\"\n",
    "    #TODO: nog goed controleren op mogelijke edge cases, mogelijk foutgevoelig (strings)?\n",
    "    checkMixedDataTypes = deepchecks.tabular.checks.MixedDataTypes(n_top_columns=amount_of_columns, n_samples=amount_of_samples)\n",
    "    resultMixedDataTypes = checkMixedDataTypes.run(dataset)\n",
    "\n",
    "\n",
    "    result_dict = resultMixedDataTypes.value\n",
    "\n",
    "    #Deepchecks gives no values when the column is 100% string or number, so we create it manually\n",
    "    for key in result_dict:\n",
    "        if not bool(result_dict[key]): #then the value is {} (empty)\n",
    "            random_samples = list(dataset[key].sample(n=3)) #obtain 3 random samples\n",
    "            if pd.api.types.is_string_dtype(dataset[key]): #check whether the values in the column are strings\n",
    "                result_dict[key] = {'strings': 1.0, 'numbers': 0.0, 'strings_examples': {', '.join(map(str, random_samples))}, 'numbers_examples': {}}\n",
    "            else:\n",
    "                result_dict[key] = {'strings': 0.0, 'numbers': 1.0, 'strings_examples': {}, 'numbers_examples': {', '.join(map(str, random_samples))}}\n",
    "\n",
    "    df = pd.DataFrame.from_dict(result_dict, orient='columns')\n",
    "    index_names = df.index\n",
    "    df.insert(0, 'Data type', index_names)\n",
    "    #df = pd.DataFrame(resultMixedDataTypes.display[1])\n",
    "\n",
    "    return df"
   ],
   "metadata": {
    "collapsed": false
   }
  },
  {
   "cell_type": "code",
   "execution_count": 13,
   "outputs": [],
   "source": [
    "import deepchecks.tabular.checks\n",
    "def mixed_data_types(dataset):\n",
    "    \"\"\"\"function that discovers the various types of data that exist in a column\"\"\"\n",
    "    #TODO: nog goed controleren op mogelijke edge cases, mogelijk foutgevoelig (strings)?\n",
    "    checkMixedDataTypes = deepchecks.tabular.checks.MixedDataTypes(n_top_columns=amount_of_columns, n_samples=amount_of_samples)\n",
    "    resultMixedDataTypes = checkMixedDataTypes.run(dataset)\n",
    "\n",
    "\n",
    "    result_dict = resultMixedDataTypes.value\n",
    "\n",
    "    #Deepchecks gives no values when the column is 100% string or number, so we create it manually\n",
    "    for key in result_dict:\n",
    "        if not bool(result_dict[key]): #then the value is {} (empty)\n",
    "            random_samples = list(dataset[key].sample(n=3)) #obtain 3 random samples\n",
    "            if pd.api.types.is_string_dtype(dataset[key]): #check whether the values in the column are strings\n",
    "                result_dict[key] = {'strings': 1.0, 'numbers': 0.0, 'strings_examples': random_samples, 'numbers_examples': []}\n",
    "            else:\n",
    "                result_dict[key] = {'strings': 0.0, 'numbers': 1.0, 'strings_examples': [], 'numbers_examples': random_samples}\n",
    "\n",
    "    df = pd.DataFrame.from_dict(result_dict, orient='columns')\n",
    "    index_names = df.index\n",
    "    df.insert(0, 'Data type', index_names)\n",
    "    #df = pd.DataFrame(resultMixedDataTypes.display[1])\n",
    "\n",
    "    return df"
   ],
   "metadata": {
    "collapsed": false
   }
  },
  {
   "cell_type": "code",
   "execution_count": 14,
   "outputs": [
    {
     "name": "stderr",
     "output_type": "stream",
     "text": [
      "deepchecks - WARNING - Received a \"pandas.DataFrame\" instance. It is recommended to pass a \"deepchecks.tabular.Dataset\" instance by initializing it with the data and metadata, for example by doing \"Dataset(dataframe, label=label, cat_features=cat_features)\"\n",
      "deepchecks - WARNING - It is recommended to initialize Dataset with categorical features by doing \"Dataset(df, cat_features=categorical_list)\". No categorical features were passed, therefore heuristically inferring categorical features in the data. 11 categorical features were inferred.: age, workclass, education, education-num, marital-status, occupation, relationship... For full list use dataset.cat_features\n"
     ]
    },
    {
     "name": "stdout",
     "output_type": "stream",
     "text": [
      "                         Data type           age  \\\n",
      "strings                    strings      0.499985   \n",
      "numbers                    numbers      0.500015   \n",
      "strings_examples  strings_examples     {b, c, a}   \n",
      "numbers_examples  numbers_examples  {29, 27, 45}   \n",
      "\n",
      "                                                  workclass  \\\n",
      "strings                                            0.990019   \n",
      "numbers                                            0.009981   \n",
      "strings_examples  { Self-emp-not-inc,  State-gov,  Private}   \n",
      "numbers_examples                         {10394.33, 1, 1.0}   \n",
      "\n",
      "                                    fnlwgt  \\\n",
      "strings                                0.0   \n",
      "numbers                                1.0   \n",
      "strings_examples                        []   \n",
      "numbers_examples  [113654, 197905, 233382]   \n",
      "\n",
      "                                              education education-num  \\\n",
      "strings                                        0.900003           0.0   \n",
      "numbers                                        0.099997           1.0   \n",
      "strings_examples  { Some-college,  HS-grad,  Bachelors}            []   \n",
      "numbers_examples                           {66.0, 99.9}    [9, 9, 10]   \n",
      "\n",
      "                                                     marital-status  \\\n",
      "strings                                                         1.0   \n",
      "numbers                                                         0.0   \n",
      "strings_examples  [ Married-civ-spouse,  Never-married,  Never-m...   \n",
      "numbers_examples                                                 []   \n",
      "\n",
      "                                                         occupation  \\\n",
      "strings                                                         1.0   \n",
      "numbers                                                         0.0   \n",
      "strings_examples  [ Transport-moving,  Prof-specialty,  Prof-spe...   \n",
      "numbers_examples                                                 []   \n",
      "\n",
      "                                           relationship  \\\n",
      "strings                                             1.0   \n",
      "numbers                                             0.0   \n",
      "strings_examples  [ Husband,  Other-relative,  Husband]   \n",
      "numbers_examples                                     []   \n",
      "\n",
      "                                      race                    sex  \\\n",
      "strings                                1.0                    1.0   \n",
      "numbers                                0.0                    0.0   \n",
      "strings_examples  [ White,  White,  White]  [ Male,  Male,  Male]   \n",
      "numbers_examples                        []                     []   \n",
      "\n",
      "                 capital-gain capital-loss hours-per-week  \\\n",
      "strings                   0.0          0.0            0.0   \n",
      "numbers                   1.0          1.0            1.0   \n",
      "strings_examples           []           []             []   \n",
      "numbers_examples    [0, 0, 0]    [0, 0, 0]   [10, 16, 50]   \n",
      "\n",
      "                                              native-country  \\\n",
      "strings                                                  1.0   \n",
      "numbers                                                  0.0   \n",
      "strings_examples  [ United-States,  United-States,  Vietnam]   \n",
      "numbers_examples                                          []   \n",
      "\n",
      "                                    income  \n",
      "strings                                1.0  \n",
      "numbers                                0.0  \n",
      "strings_examples  [ <=50K,  <=50K,  <=50K]  \n",
      "numbers_examples                        []  \n"
     ]
    }
   ],
   "source": [
    "amount_of_columns = 9999999999999\n",
    "amount_of_samples = 9999999999999\n",
    "df = mixed_data_types(adult_df)\n",
    "print(df)"
   ],
   "metadata": {
    "collapsed": false
   }
  },
  {
   "cell_type": "code",
   "execution_count": 7,
   "outputs": [],
   "source": [
    "from deepchecks.tabular.datasets.classification import adult\n",
    "\n",
    "# Prepare functions to insert mixed data types\n",
    "\n",
    "def insert_new_values_types(col: pd.Series, ratio_to_replace: float, values_list):\n",
    "    col = col.to_numpy().astype(object)\n",
    "    indices_to_replace = np.random.choice(range(len(col)), int(len(col) * ratio_to_replace), replace=False)\n",
    "    new_values = np.random.choice(values_list, len(indices_to_replace))\n",
    "    col[indices_to_replace] = new_values\n",
    "    return col\n",
    "\n",
    "\n",
    "def insert_string_types(col: pd.Series, ratio_to_replace):\n",
    "    return insert_new_values_types(col, ratio_to_replace, ['a', 'b', 'c'])\n",
    "\n",
    "\n",
    "def insert_numeric_string_types(col: pd.Series, ratio_to_replace):\n",
    "    return insert_new_values_types(col, ratio_to_replace, ['1.0', '1', '10394.33'])\n",
    "\n",
    "\n",
    "def insert_number_types(col: pd.Series, ratio_to_replace):\n",
    "    return insert_new_values_types(col, ratio_to_replace, [66, 99.9])\n",
    "\n",
    "\n",
    "# Load dataset and insert some data type mixing\n",
    "import numpy as np\n",
    "adult_df, _ = adult.load_data(as_train_test=True, data_format='Dataframe')\n",
    "adult_df['workclass'] = insert_numeric_string_types(adult_df['workclass'], ratio_to_replace=0.01)\n",
    "adult_df['education'] = insert_number_types(adult_df['education'], ratio_to_replace=0.1)\n",
    "adult_df['age'] = insert_string_types(adult_df['age'], ratio_to_replace=0.5)\n",
    "\n",
    "from deepchecks.tabular import Dataset\n"
   ],
   "metadata": {
    "collapsed": false
   }
  },
  {
   "cell_type": "code",
   "execution_count": 16,
   "outputs": [
    {
     "data": {
      "text/plain": "\"['b', 'c', 'a']\""
     },
     "execution_count": 16,
     "metadata": {},
     "output_type": "execute_result"
    }
   ],
   "source": [
    "a = ['b', 'c', 'a']\n",
    "\n",
    "b = [29, 27, 45]\n",
    "\n",
    "str(a)"
   ],
   "metadata": {
    "collapsed": false
   }
  },
  {
   "cell_type": "code",
   "execution_count": 54,
   "outputs": [],
   "source": [
    "def encode_categorical_columns(dataset, target, dtypes):\n",
    "    \"\"\"\"Function that one-hot-encodes categorical columns and label encodes the target column. It returns the encoded dataset\n",
    "    and the mapping of the original labels to the encoded labels\"\"\"\n",
    "    #Find all categorical columns\n",
    "    #TODO: Regression werkend krijgen (label encoding dan niet van toepassing)\n",
    "    categorical_cols = [] #dataset.select_dtypes(include=['object', 'category']).columns.tolist()\n",
    "    for col in dataset.columns:\n",
    "        if dtypes[col] == 'categorical' or dtypes[col] == 'boolean':\n",
    "            categorical_cols.append(col)\n",
    "\n",
    "    mapping = None\n",
    "    target_is_categorical = False\n",
    "    if target != 'None':\n",
    "        # remove target as we want to label encode this (for classification problems)\n",
    "        if target in categorical_cols:\n",
    "            target_is_categorical = True\n",
    "            categorical_cols.remove(target)\n",
    "\n",
    "            # label encode target\n",
    "            le = LabelEncoder()\n",
    "            encoded_target = le.fit_transform(dataset[target])\n",
    "            encoded_labels = le.transform(dataset[target])\n",
    "            mapping = {label: value for label, value in zip(encoded_labels, dataset[target])}\n",
    "            # replace target column with label encoded values\n",
    "            dataset.drop(columns=[target], inplace=True)\n",
    "            dataset[target] = encoded_target\n",
    "    if not categorical_cols:  # then no features are categorical, and we're done\n",
    "        return dataset, mapping\n",
    "\n",
    "    #if there are categorical columns, we want to one-hot-encode them\n",
    "\n",
    "    #encode categoricals\n",
    "    encoder = OneHotEncoder(handle_unknown='ignore', max_categories=100)\n",
    "    encoded_columns = encoder.fit_transform(dataset[categorical_cols])\n",
    "    new_columns = pd.DataFrame(encoded_columns.toarray(), columns=encoder.get_feature_names_out(categorical_cols))\n",
    "\n",
    "    #add new columns to df and drop old ones\n",
    "    dataset_encoded = pd.concat([dataset, new_columns], axis=1)\n",
    "    dataset_encoded = dataset_encoded.drop(columns=categorical_cols)\n",
    "\n",
    "    #reposition target column to the end of the dataframe\n",
    "    if target != 'None' and target_is_categorical:\n",
    "        dataset_encoded.drop(columns=[target], inplace=True)\n",
    "        dataset_encoded[target] = encoded_target\n",
    "\n",
    "    #XGBClassifier doesn't accept: [, ] or <, so loop over the columns and change the names if they contain such values\n",
    "    new_col_names = {col: col.replace('<', '(smaller than)').replace('[', '(').replace(']', ')') for col in dataset_encoded.columns}\n",
    "    dataset_encoded = dataset_encoded.rename(columns=new_col_names)\n",
    "    #print('@@@@@@@@@@@@@@@@@@@@@', type(dataset_encoded))\n",
    "\n",
    "    return dataset_encoded, mapping"
   ],
   "metadata": {
    "collapsed": false
   }
  },
  {
   "cell_type": "code",
   "execution_count": 89,
   "outputs": [],
   "source": [
    "import pandas as pd\n",
    "from sklearn.linear_model import LogisticRegression, LinearRegression\n",
    "from sklearn.svm import SVC, SVR\n",
    "from sklearn.metrics import accuracy_score, mean_squared_error\n",
    "from sklearn.ensemble import RandomForestClassifier, RandomForestRegressor\n",
    "\n",
    "import plotly.express as px\n",
    "\n",
    "def simple_model_performance(dataset, target, dtypes):\n",
    "\n",
    "    #check whether this is a regression/classification problem or has no task\n",
    "    if target != 'None':\n",
    "        if dtypes[target] == 'categorical' or dtypes[target] == 'boolean':\n",
    "            problem_type = 'classification'\n",
    "        else:\n",
    "            problem_type = 'regression'\n",
    "    else:\n",
    "        return 'Dataset does not contain a target variable, so model training is not applicable', None\n",
    "\n",
    "    #train models for regression and classification\n",
    "    models = []\n",
    "    if problem_type == 'regression':\n",
    "        models.append(('Logistic Regression', LinearRegression()))\n",
    "        models.append(('Random Forest', RandomForestRegressor()))\n",
    "        models.append(('SVM', SVR()))\n",
    "    elif problem_type == 'classification':\n",
    "        models.append(('Logistic Regression', LogisticRegression()))\n",
    "        models.append(('Random Forest', RandomForestClassifier()))\n",
    "        models.append(('SVM', SVC()))\n",
    "\n",
    "    #get X and y and split into train and test for fair model evaluation\n",
    "    X = dataset.drop(columns=[target])\n",
    "    y = dataset[target]\n",
    "\n",
    "    X_train, X_test, y_train, y_test = train_test_split(X, y, test_size=0.3)\n",
    "\n",
    "    #train models and get accuracies\n",
    "    MSEs = []\n",
    "    accuracies = []\n",
    "    model_names = []\n",
    "    for name, model in models:\n",
    "        if problem_type == 'regression': #we use MSE for madel evaluation\n",
    "            model.fit(X_train, y_train)\n",
    "            y_pred = model.predict(X_test)\n",
    "            mse = mean_squared_error(y_test, y_pred)\n",
    "            model_names.append(name)\n",
    "            MSEs.append(mse)\n",
    "        else: #we use accuracy for model evaluation\n",
    "            model.fit(X_train, y_train)\n",
    "            y_pred = model.predict(X_test)\n",
    "            acc = accuracy_score(y_test, y_pred)\n",
    "            model_names.append(name)\n",
    "            accuracies.append(acc)\n",
    "\n",
    "    if problem_type == 'regression':\n",
    "        fig = px.bar(x=model_names, y=MSEs, text=MSEs, labels={'x': 'Model', 'y': 'Mean Squared Error'})\n",
    "    else:\n",
    "        fig = px.bar(x=model_names, y=accuracies, text=accuracies, labels={'x': 'Model', 'y': 'Accuracy'})\n",
    "    #put values on top of barchart\n",
    "    fig.update_traces(textposition='outside')\n",
    "    return fig"
   ],
   "metadata": {
    "collapsed": false
   }
  },
  {
   "cell_type": "code",
   "execution_count": 90,
   "outputs": [
    {
     "data": {
      "application/vnd.plotly.v1+json": {
       "data": [
        {
         "alignmentgroup": "True",
         "hovertemplate": "Model=%{x}<br>Accuracy=%{y}<br>text=%{text}<extra></extra>",
         "legendgroup": "",
         "marker": {
          "color": "#636efa",
          "pattern": {
           "shape": ""
          }
         },
         "name": "",
         "offsetgroup": "",
         "orientation": "v",
         "showlegend": false,
         "text": [
          0.8113333333333334,
          0.846,
          0.794
         ],
         "textposition": "outside",
         "x": [
          "Logistic Regression",
          "Random Forest",
          "SVM"
         ],
         "xaxis": "x",
         "y": [
          0.8113333333333334,
          0.846,
          0.794
         ],
         "yaxis": "y",
         "type": "bar"
        }
       ],
       "layout": {
        "template": {
         "data": {
          "histogram2dcontour": [
           {
            "type": "histogram2dcontour",
            "colorbar": {
             "outlinewidth": 0,
             "ticks": ""
            },
            "colorscale": [
             [
              0.0,
              "#0d0887"
             ],
             [
              0.1111111111111111,
              "#46039f"
             ],
             [
              0.2222222222222222,
              "#7201a8"
             ],
             [
              0.3333333333333333,
              "#9c179e"
             ],
             [
              0.4444444444444444,
              "#bd3786"
             ],
             [
              0.5555555555555556,
              "#d8576b"
             ],
             [
              0.6666666666666666,
              "#ed7953"
             ],
             [
              0.7777777777777778,
              "#fb9f3a"
             ],
             [
              0.8888888888888888,
              "#fdca26"
             ],
             [
              1.0,
              "#f0f921"
             ]
            ]
           }
          ],
          "choropleth": [
           {
            "type": "choropleth",
            "colorbar": {
             "outlinewidth": 0,
             "ticks": ""
            }
           }
          ],
          "histogram2d": [
           {
            "type": "histogram2d",
            "colorbar": {
             "outlinewidth": 0,
             "ticks": ""
            },
            "colorscale": [
             [
              0.0,
              "#0d0887"
             ],
             [
              0.1111111111111111,
              "#46039f"
             ],
             [
              0.2222222222222222,
              "#7201a8"
             ],
             [
              0.3333333333333333,
              "#9c179e"
             ],
             [
              0.4444444444444444,
              "#bd3786"
             ],
             [
              0.5555555555555556,
              "#d8576b"
             ],
             [
              0.6666666666666666,
              "#ed7953"
             ],
             [
              0.7777777777777778,
              "#fb9f3a"
             ],
             [
              0.8888888888888888,
              "#fdca26"
             ],
             [
              1.0,
              "#f0f921"
             ]
            ]
           }
          ],
          "heatmap": [
           {
            "type": "heatmap",
            "colorbar": {
             "outlinewidth": 0,
             "ticks": ""
            },
            "colorscale": [
             [
              0.0,
              "#0d0887"
             ],
             [
              0.1111111111111111,
              "#46039f"
             ],
             [
              0.2222222222222222,
              "#7201a8"
             ],
             [
              0.3333333333333333,
              "#9c179e"
             ],
             [
              0.4444444444444444,
              "#bd3786"
             ],
             [
              0.5555555555555556,
              "#d8576b"
             ],
             [
              0.6666666666666666,
              "#ed7953"
             ],
             [
              0.7777777777777778,
              "#fb9f3a"
             ],
             [
              0.8888888888888888,
              "#fdca26"
             ],
             [
              1.0,
              "#f0f921"
             ]
            ]
           }
          ],
          "heatmapgl": [
           {
            "type": "heatmapgl",
            "colorbar": {
             "outlinewidth": 0,
             "ticks": ""
            },
            "colorscale": [
             [
              0.0,
              "#0d0887"
             ],
             [
              0.1111111111111111,
              "#46039f"
             ],
             [
              0.2222222222222222,
              "#7201a8"
             ],
             [
              0.3333333333333333,
              "#9c179e"
             ],
             [
              0.4444444444444444,
              "#bd3786"
             ],
             [
              0.5555555555555556,
              "#d8576b"
             ],
             [
              0.6666666666666666,
              "#ed7953"
             ],
             [
              0.7777777777777778,
              "#fb9f3a"
             ],
             [
              0.8888888888888888,
              "#fdca26"
             ],
             [
              1.0,
              "#f0f921"
             ]
            ]
           }
          ],
          "contourcarpet": [
           {
            "type": "contourcarpet",
            "colorbar": {
             "outlinewidth": 0,
             "ticks": ""
            }
           }
          ],
          "contour": [
           {
            "type": "contour",
            "colorbar": {
             "outlinewidth": 0,
             "ticks": ""
            },
            "colorscale": [
             [
              0.0,
              "#0d0887"
             ],
             [
              0.1111111111111111,
              "#46039f"
             ],
             [
              0.2222222222222222,
              "#7201a8"
             ],
             [
              0.3333333333333333,
              "#9c179e"
             ],
             [
              0.4444444444444444,
              "#bd3786"
             ],
             [
              0.5555555555555556,
              "#d8576b"
             ],
             [
              0.6666666666666666,
              "#ed7953"
             ],
             [
              0.7777777777777778,
              "#fb9f3a"
             ],
             [
              0.8888888888888888,
              "#fdca26"
             ],
             [
              1.0,
              "#f0f921"
             ]
            ]
           }
          ],
          "surface": [
           {
            "type": "surface",
            "colorbar": {
             "outlinewidth": 0,
             "ticks": ""
            },
            "colorscale": [
             [
              0.0,
              "#0d0887"
             ],
             [
              0.1111111111111111,
              "#46039f"
             ],
             [
              0.2222222222222222,
              "#7201a8"
             ],
             [
              0.3333333333333333,
              "#9c179e"
             ],
             [
              0.4444444444444444,
              "#bd3786"
             ],
             [
              0.5555555555555556,
              "#d8576b"
             ],
             [
              0.6666666666666666,
              "#ed7953"
             ],
             [
              0.7777777777777778,
              "#fb9f3a"
             ],
             [
              0.8888888888888888,
              "#fdca26"
             ],
             [
              1.0,
              "#f0f921"
             ]
            ]
           }
          ],
          "mesh3d": [
           {
            "type": "mesh3d",
            "colorbar": {
             "outlinewidth": 0,
             "ticks": ""
            }
           }
          ],
          "scatter": [
           {
            "marker": {
             "line": {
              "color": "#283442"
             }
            },
            "type": "scatter"
           }
          ],
          "parcoords": [
           {
            "type": "parcoords",
            "line": {
             "colorbar": {
              "outlinewidth": 0,
              "ticks": ""
             }
            }
           }
          ],
          "scatterpolargl": [
           {
            "type": "scatterpolargl",
            "marker": {
             "colorbar": {
              "outlinewidth": 0,
              "ticks": ""
             }
            }
           }
          ],
          "bar": [
           {
            "error_x": {
             "color": "#f2f5fa"
            },
            "error_y": {
             "color": "#f2f5fa"
            },
            "marker": {
             "line": {
              "color": "rgb(17,17,17)",
              "width": 0.5
             },
             "pattern": {
              "fillmode": "overlay",
              "size": 10,
              "solidity": 0.2
             }
            },
            "type": "bar"
           }
          ],
          "scattergeo": [
           {
            "type": "scattergeo",
            "marker": {
             "colorbar": {
              "outlinewidth": 0,
              "ticks": ""
             }
            }
           }
          ],
          "scatterpolar": [
           {
            "type": "scatterpolar",
            "marker": {
             "colorbar": {
              "outlinewidth": 0,
              "ticks": ""
             }
            }
           }
          ],
          "histogram": [
           {
            "marker": {
             "pattern": {
              "fillmode": "overlay",
              "size": 10,
              "solidity": 0.2
             }
            },
            "type": "histogram"
           }
          ],
          "scattergl": [
           {
            "marker": {
             "line": {
              "color": "#283442"
             }
            },
            "type": "scattergl"
           }
          ],
          "scatter3d": [
           {
            "type": "scatter3d",
            "line": {
             "colorbar": {
              "outlinewidth": 0,
              "ticks": ""
             }
            },
            "marker": {
             "colorbar": {
              "outlinewidth": 0,
              "ticks": ""
             }
            }
           }
          ],
          "scattermapbox": [
           {
            "type": "scattermapbox",
            "marker": {
             "colorbar": {
              "outlinewidth": 0,
              "ticks": ""
             }
            }
           }
          ],
          "scatterternary": [
           {
            "type": "scatterternary",
            "marker": {
             "colorbar": {
              "outlinewidth": 0,
              "ticks": ""
             }
            }
           }
          ],
          "scattercarpet": [
           {
            "type": "scattercarpet",
            "marker": {
             "colorbar": {
              "outlinewidth": 0,
              "ticks": ""
             }
            }
           }
          ],
          "carpet": [
           {
            "aaxis": {
             "endlinecolor": "#A2B1C6",
             "gridcolor": "#506784",
             "linecolor": "#506784",
             "minorgridcolor": "#506784",
             "startlinecolor": "#A2B1C6"
            },
            "baxis": {
             "endlinecolor": "#A2B1C6",
             "gridcolor": "#506784",
             "linecolor": "#506784",
             "minorgridcolor": "#506784",
             "startlinecolor": "#A2B1C6"
            },
            "type": "carpet"
           }
          ],
          "table": [
           {
            "cells": {
             "fill": {
              "color": "#506784"
             },
             "line": {
              "color": "rgb(17,17,17)"
             }
            },
            "header": {
             "fill": {
              "color": "#2a3f5f"
             },
             "line": {
              "color": "rgb(17,17,17)"
             }
            },
            "type": "table"
           }
          ],
          "barpolar": [
           {
            "marker": {
             "line": {
              "color": "rgb(17,17,17)",
              "width": 0.5
             },
             "pattern": {
              "fillmode": "overlay",
              "size": 10,
              "solidity": 0.2
             }
            },
            "type": "barpolar"
           }
          ],
          "pie": [
           {
            "automargin": true,
            "type": "pie"
           }
          ]
         },
         "layout": {
          "autotypenumbers": "strict",
          "colorway": [
           "#636efa",
           "#EF553B",
           "#00cc96",
           "#ab63fa",
           "#FFA15A",
           "#19d3f3",
           "#FF6692",
           "#B6E880",
           "#FF97FF",
           "#FECB52"
          ],
          "font": {
           "color": "#f2f5fa"
          },
          "hovermode": "closest",
          "hoverlabel": {
           "align": "left"
          },
          "paper_bgcolor": "rgb(17,17,17)",
          "plot_bgcolor": "rgb(17,17,17)",
          "polar": {
           "bgcolor": "rgb(17,17,17)",
           "angularaxis": {
            "gridcolor": "#506784",
            "linecolor": "#506784",
            "ticks": ""
           },
           "radialaxis": {
            "gridcolor": "#506784",
            "linecolor": "#506784",
            "ticks": ""
           }
          },
          "ternary": {
           "bgcolor": "rgb(17,17,17)",
           "aaxis": {
            "gridcolor": "#506784",
            "linecolor": "#506784",
            "ticks": ""
           },
           "baxis": {
            "gridcolor": "#506784",
            "linecolor": "#506784",
            "ticks": ""
           },
           "caxis": {
            "gridcolor": "#506784",
            "linecolor": "#506784",
            "ticks": ""
           }
          },
          "coloraxis": {
           "colorbar": {
            "outlinewidth": 0,
            "ticks": ""
           }
          },
          "colorscale": {
           "sequential": [
            [
             0.0,
             "#0d0887"
            ],
            [
             0.1111111111111111,
             "#46039f"
            ],
            [
             0.2222222222222222,
             "#7201a8"
            ],
            [
             0.3333333333333333,
             "#9c179e"
            ],
            [
             0.4444444444444444,
             "#bd3786"
            ],
            [
             0.5555555555555556,
             "#d8576b"
            ],
            [
             0.6666666666666666,
             "#ed7953"
            ],
            [
             0.7777777777777778,
             "#fb9f3a"
            ],
            [
             0.8888888888888888,
             "#fdca26"
            ],
            [
             1.0,
             "#f0f921"
            ]
           ],
           "sequentialminus": [
            [
             0.0,
             "#0d0887"
            ],
            [
             0.1111111111111111,
             "#46039f"
            ],
            [
             0.2222222222222222,
             "#7201a8"
            ],
            [
             0.3333333333333333,
             "#9c179e"
            ],
            [
             0.4444444444444444,
             "#bd3786"
            ],
            [
             0.5555555555555556,
             "#d8576b"
            ],
            [
             0.6666666666666666,
             "#ed7953"
            ],
            [
             0.7777777777777778,
             "#fb9f3a"
            ],
            [
             0.8888888888888888,
             "#fdca26"
            ],
            [
             1.0,
             "#f0f921"
            ]
           ],
           "diverging": [
            [
             0,
             "#8e0152"
            ],
            [
             0.1,
             "#c51b7d"
            ],
            [
             0.2,
             "#de77ae"
            ],
            [
             0.3,
             "#f1b6da"
            ],
            [
             0.4,
             "#fde0ef"
            ],
            [
             0.5,
             "#f7f7f7"
            ],
            [
             0.6,
             "#e6f5d0"
            ],
            [
             0.7,
             "#b8e186"
            ],
            [
             0.8,
             "#7fbc41"
            ],
            [
             0.9,
             "#4d9221"
            ],
            [
             1,
             "#276419"
            ]
           ]
          },
          "xaxis": {
           "gridcolor": "#283442",
           "linecolor": "#506784",
           "ticks": "",
           "title": {
            "standoff": 15
           },
           "zerolinecolor": "#283442",
           "automargin": true,
           "zerolinewidth": 2
          },
          "yaxis": {
           "gridcolor": "#283442",
           "linecolor": "#506784",
           "ticks": "",
           "title": {
            "standoff": 15
           },
           "zerolinecolor": "#283442",
           "automargin": true,
           "zerolinewidth": 2
          },
          "scene": {
           "xaxis": {
            "backgroundcolor": "rgb(17,17,17)",
            "gridcolor": "#506784",
            "linecolor": "#506784",
            "showbackground": true,
            "ticks": "",
            "zerolinecolor": "#C8D4E3",
            "gridwidth": 2
           },
           "yaxis": {
            "backgroundcolor": "rgb(17,17,17)",
            "gridcolor": "#506784",
            "linecolor": "#506784",
            "showbackground": true,
            "ticks": "",
            "zerolinecolor": "#C8D4E3",
            "gridwidth": 2
           },
           "zaxis": {
            "backgroundcolor": "rgb(17,17,17)",
            "gridcolor": "#506784",
            "linecolor": "#506784",
            "showbackground": true,
            "ticks": "",
            "zerolinecolor": "#C8D4E3",
            "gridwidth": 2
           }
          },
          "shapedefaults": {
           "line": {
            "color": "#f2f5fa"
           }
          },
          "annotationdefaults": {
           "arrowcolor": "#f2f5fa",
           "arrowhead": 0,
           "arrowwidth": 1
          },
          "geo": {
           "bgcolor": "rgb(17,17,17)",
           "landcolor": "rgb(17,17,17)",
           "subunitcolor": "#506784",
           "showland": true,
           "showlakes": true,
           "lakecolor": "rgb(17,17,17)"
          },
          "title": {
           "x": 0.05
          },
          "updatemenudefaults": {
           "bgcolor": "#506784",
           "borderwidth": 0
          },
          "sliderdefaults": {
           "bgcolor": "#C8D4E3",
           "borderwidth": 1,
           "bordercolor": "rgb(17,17,17)",
           "tickwidth": 0
          },
          "mapbox": {
           "style": "dark"
          }
         }
        },
        "xaxis": {
         "anchor": "y",
         "domain": [
          0.0,
          1.0
         ],
         "title": {
          "text": "Model"
         }
        },
        "yaxis": {
         "anchor": "x",
         "domain": [
          0.0,
          1.0
         ],
         "title": {
          "text": "Accuracy"
         }
        },
        "legend": {
         "tracegroupgap": 0
        },
        "margin": {
         "t": 60
        },
        "barmode": "relative"
       },
       "config": {
        "plotlyServerURL": "https://plot.ly"
       }
      },
      "text/html": "<div>                            <div id=\"ef2c7e12-f946-403f-9fdf-e7a296cc538e\" class=\"plotly-graph-div\" style=\"height:525px; width:100%;\"></div>            <script type=\"text/javascript\">                require([\"plotly\"], function(Plotly) {                    window.PLOTLYENV=window.PLOTLYENV || {};                                    if (document.getElementById(\"ef2c7e12-f946-403f-9fdf-e7a296cc538e\")) {                    Plotly.newPlot(                        \"ef2c7e12-f946-403f-9fdf-e7a296cc538e\",                        [{\"alignmentgroup\":\"True\",\"hovertemplate\":\"Model=%{x}<br>Accuracy=%{y}<br>text=%{text}<extra></extra>\",\"legendgroup\":\"\",\"marker\":{\"color\":\"#636efa\",\"pattern\":{\"shape\":\"\"}},\"name\":\"\",\"offsetgroup\":\"\",\"orientation\":\"v\",\"showlegend\":false,\"text\":[0.8113333333333334,0.846,0.794],\"textposition\":\"outside\",\"x\":[\"Logistic Regression\",\"Random Forest\",\"SVM\"],\"xaxis\":\"x\",\"y\":[0.8113333333333334,0.846,0.794],\"yaxis\":\"y\",\"type\":\"bar\"}],                        {\"template\":{\"data\":{\"histogram2dcontour\":[{\"type\":\"histogram2dcontour\",\"colorbar\":{\"outlinewidth\":0,\"ticks\":\"\"},\"colorscale\":[[0.0,\"#0d0887\"],[0.1111111111111111,\"#46039f\"],[0.2222222222222222,\"#7201a8\"],[0.3333333333333333,\"#9c179e\"],[0.4444444444444444,\"#bd3786\"],[0.5555555555555556,\"#d8576b\"],[0.6666666666666666,\"#ed7953\"],[0.7777777777777778,\"#fb9f3a\"],[0.8888888888888888,\"#fdca26\"],[1.0,\"#f0f921\"]]}],\"choropleth\":[{\"type\":\"choropleth\",\"colorbar\":{\"outlinewidth\":0,\"ticks\":\"\"}}],\"histogram2d\":[{\"type\":\"histogram2d\",\"colorbar\":{\"outlinewidth\":0,\"ticks\":\"\"},\"colorscale\":[[0.0,\"#0d0887\"],[0.1111111111111111,\"#46039f\"],[0.2222222222222222,\"#7201a8\"],[0.3333333333333333,\"#9c179e\"],[0.4444444444444444,\"#bd3786\"],[0.5555555555555556,\"#d8576b\"],[0.6666666666666666,\"#ed7953\"],[0.7777777777777778,\"#fb9f3a\"],[0.8888888888888888,\"#fdca26\"],[1.0,\"#f0f921\"]]}],\"heatmap\":[{\"type\":\"heatmap\",\"colorbar\":{\"outlinewidth\":0,\"ticks\":\"\"},\"colorscale\":[[0.0,\"#0d0887\"],[0.1111111111111111,\"#46039f\"],[0.2222222222222222,\"#7201a8\"],[0.3333333333333333,\"#9c179e\"],[0.4444444444444444,\"#bd3786\"],[0.5555555555555556,\"#d8576b\"],[0.6666666666666666,\"#ed7953\"],[0.7777777777777778,\"#fb9f3a\"],[0.8888888888888888,\"#fdca26\"],[1.0,\"#f0f921\"]]}],\"heatmapgl\":[{\"type\":\"heatmapgl\",\"colorbar\":{\"outlinewidth\":0,\"ticks\":\"\"},\"colorscale\":[[0.0,\"#0d0887\"],[0.1111111111111111,\"#46039f\"],[0.2222222222222222,\"#7201a8\"],[0.3333333333333333,\"#9c179e\"],[0.4444444444444444,\"#bd3786\"],[0.5555555555555556,\"#d8576b\"],[0.6666666666666666,\"#ed7953\"],[0.7777777777777778,\"#fb9f3a\"],[0.8888888888888888,\"#fdca26\"],[1.0,\"#f0f921\"]]}],\"contourcarpet\":[{\"type\":\"contourcarpet\",\"colorbar\":{\"outlinewidth\":0,\"ticks\":\"\"}}],\"contour\":[{\"type\":\"contour\",\"colorbar\":{\"outlinewidth\":0,\"ticks\":\"\"},\"colorscale\":[[0.0,\"#0d0887\"],[0.1111111111111111,\"#46039f\"],[0.2222222222222222,\"#7201a8\"],[0.3333333333333333,\"#9c179e\"],[0.4444444444444444,\"#bd3786\"],[0.5555555555555556,\"#d8576b\"],[0.6666666666666666,\"#ed7953\"],[0.7777777777777778,\"#fb9f3a\"],[0.8888888888888888,\"#fdca26\"],[1.0,\"#f0f921\"]]}],\"surface\":[{\"type\":\"surface\",\"colorbar\":{\"outlinewidth\":0,\"ticks\":\"\"},\"colorscale\":[[0.0,\"#0d0887\"],[0.1111111111111111,\"#46039f\"],[0.2222222222222222,\"#7201a8\"],[0.3333333333333333,\"#9c179e\"],[0.4444444444444444,\"#bd3786\"],[0.5555555555555556,\"#d8576b\"],[0.6666666666666666,\"#ed7953\"],[0.7777777777777778,\"#fb9f3a\"],[0.8888888888888888,\"#fdca26\"],[1.0,\"#f0f921\"]]}],\"mesh3d\":[{\"type\":\"mesh3d\",\"colorbar\":{\"outlinewidth\":0,\"ticks\":\"\"}}],\"scatter\":[{\"marker\":{\"line\":{\"color\":\"#283442\"}},\"type\":\"scatter\"}],\"parcoords\":[{\"type\":\"parcoords\",\"line\":{\"colorbar\":{\"outlinewidth\":0,\"ticks\":\"\"}}}],\"scatterpolargl\":[{\"type\":\"scatterpolargl\",\"marker\":{\"colorbar\":{\"outlinewidth\":0,\"ticks\":\"\"}}}],\"bar\":[{\"error_x\":{\"color\":\"#f2f5fa\"},\"error_y\":{\"color\":\"#f2f5fa\"},\"marker\":{\"line\":{\"color\":\"rgb(17,17,17)\",\"width\":0.5},\"pattern\":{\"fillmode\":\"overlay\",\"size\":10,\"solidity\":0.2}},\"type\":\"bar\"}],\"scattergeo\":[{\"type\":\"scattergeo\",\"marker\":{\"colorbar\":{\"outlinewidth\":0,\"ticks\":\"\"}}}],\"scatterpolar\":[{\"type\":\"scatterpolar\",\"marker\":{\"colorbar\":{\"outlinewidth\":0,\"ticks\":\"\"}}}],\"histogram\":[{\"marker\":{\"pattern\":{\"fillmode\":\"overlay\",\"size\":10,\"solidity\":0.2}},\"type\":\"histogram\"}],\"scattergl\":[{\"marker\":{\"line\":{\"color\":\"#283442\"}},\"type\":\"scattergl\"}],\"scatter3d\":[{\"type\":\"scatter3d\",\"line\":{\"colorbar\":{\"outlinewidth\":0,\"ticks\":\"\"}},\"marker\":{\"colorbar\":{\"outlinewidth\":0,\"ticks\":\"\"}}}],\"scattermapbox\":[{\"type\":\"scattermapbox\",\"marker\":{\"colorbar\":{\"outlinewidth\":0,\"ticks\":\"\"}}}],\"scatterternary\":[{\"type\":\"scatterternary\",\"marker\":{\"colorbar\":{\"outlinewidth\":0,\"ticks\":\"\"}}}],\"scattercarpet\":[{\"type\":\"scattercarpet\",\"marker\":{\"colorbar\":{\"outlinewidth\":0,\"ticks\":\"\"}}}],\"carpet\":[{\"aaxis\":{\"endlinecolor\":\"#A2B1C6\",\"gridcolor\":\"#506784\",\"linecolor\":\"#506784\",\"minorgridcolor\":\"#506784\",\"startlinecolor\":\"#A2B1C6\"},\"baxis\":{\"endlinecolor\":\"#A2B1C6\",\"gridcolor\":\"#506784\",\"linecolor\":\"#506784\",\"minorgridcolor\":\"#506784\",\"startlinecolor\":\"#A2B1C6\"},\"type\":\"carpet\"}],\"table\":[{\"cells\":{\"fill\":{\"color\":\"#506784\"},\"line\":{\"color\":\"rgb(17,17,17)\"}},\"header\":{\"fill\":{\"color\":\"#2a3f5f\"},\"line\":{\"color\":\"rgb(17,17,17)\"}},\"type\":\"table\"}],\"barpolar\":[{\"marker\":{\"line\":{\"color\":\"rgb(17,17,17)\",\"width\":0.5},\"pattern\":{\"fillmode\":\"overlay\",\"size\":10,\"solidity\":0.2}},\"type\":\"barpolar\"}],\"pie\":[{\"automargin\":true,\"type\":\"pie\"}]},\"layout\":{\"autotypenumbers\":\"strict\",\"colorway\":[\"#636efa\",\"#EF553B\",\"#00cc96\",\"#ab63fa\",\"#FFA15A\",\"#19d3f3\",\"#FF6692\",\"#B6E880\",\"#FF97FF\",\"#FECB52\"],\"font\":{\"color\":\"#f2f5fa\"},\"hovermode\":\"closest\",\"hoverlabel\":{\"align\":\"left\"},\"paper_bgcolor\":\"rgb(17,17,17)\",\"plot_bgcolor\":\"rgb(17,17,17)\",\"polar\":{\"bgcolor\":\"rgb(17,17,17)\",\"angularaxis\":{\"gridcolor\":\"#506784\",\"linecolor\":\"#506784\",\"ticks\":\"\"},\"radialaxis\":{\"gridcolor\":\"#506784\",\"linecolor\":\"#506784\",\"ticks\":\"\"}},\"ternary\":{\"bgcolor\":\"rgb(17,17,17)\",\"aaxis\":{\"gridcolor\":\"#506784\",\"linecolor\":\"#506784\",\"ticks\":\"\"},\"baxis\":{\"gridcolor\":\"#506784\",\"linecolor\":\"#506784\",\"ticks\":\"\"},\"caxis\":{\"gridcolor\":\"#506784\",\"linecolor\":\"#506784\",\"ticks\":\"\"}},\"coloraxis\":{\"colorbar\":{\"outlinewidth\":0,\"ticks\":\"\"}},\"colorscale\":{\"sequential\":[[0.0,\"#0d0887\"],[0.1111111111111111,\"#46039f\"],[0.2222222222222222,\"#7201a8\"],[0.3333333333333333,\"#9c179e\"],[0.4444444444444444,\"#bd3786\"],[0.5555555555555556,\"#d8576b\"],[0.6666666666666666,\"#ed7953\"],[0.7777777777777778,\"#fb9f3a\"],[0.8888888888888888,\"#fdca26\"],[1.0,\"#f0f921\"]],\"sequentialminus\":[[0.0,\"#0d0887\"],[0.1111111111111111,\"#46039f\"],[0.2222222222222222,\"#7201a8\"],[0.3333333333333333,\"#9c179e\"],[0.4444444444444444,\"#bd3786\"],[0.5555555555555556,\"#d8576b\"],[0.6666666666666666,\"#ed7953\"],[0.7777777777777778,\"#fb9f3a\"],[0.8888888888888888,\"#fdca26\"],[1.0,\"#f0f921\"]],\"diverging\":[[0,\"#8e0152\"],[0.1,\"#c51b7d\"],[0.2,\"#de77ae\"],[0.3,\"#f1b6da\"],[0.4,\"#fde0ef\"],[0.5,\"#f7f7f7\"],[0.6,\"#e6f5d0\"],[0.7,\"#b8e186\"],[0.8,\"#7fbc41\"],[0.9,\"#4d9221\"],[1,\"#276419\"]]},\"xaxis\":{\"gridcolor\":\"#283442\",\"linecolor\":\"#506784\",\"ticks\":\"\",\"title\":{\"standoff\":15},\"zerolinecolor\":\"#283442\",\"automargin\":true,\"zerolinewidth\":2},\"yaxis\":{\"gridcolor\":\"#283442\",\"linecolor\":\"#506784\",\"ticks\":\"\",\"title\":{\"standoff\":15},\"zerolinecolor\":\"#283442\",\"automargin\":true,\"zerolinewidth\":2},\"scene\":{\"xaxis\":{\"backgroundcolor\":\"rgb(17,17,17)\",\"gridcolor\":\"#506784\",\"linecolor\":\"#506784\",\"showbackground\":true,\"ticks\":\"\",\"zerolinecolor\":\"#C8D4E3\",\"gridwidth\":2},\"yaxis\":{\"backgroundcolor\":\"rgb(17,17,17)\",\"gridcolor\":\"#506784\",\"linecolor\":\"#506784\",\"showbackground\":true,\"ticks\":\"\",\"zerolinecolor\":\"#C8D4E3\",\"gridwidth\":2},\"zaxis\":{\"backgroundcolor\":\"rgb(17,17,17)\",\"gridcolor\":\"#506784\",\"linecolor\":\"#506784\",\"showbackground\":true,\"ticks\":\"\",\"zerolinecolor\":\"#C8D4E3\",\"gridwidth\":2}},\"shapedefaults\":{\"line\":{\"color\":\"#f2f5fa\"}},\"annotationdefaults\":{\"arrowcolor\":\"#f2f5fa\",\"arrowhead\":0,\"arrowwidth\":1},\"geo\":{\"bgcolor\":\"rgb(17,17,17)\",\"landcolor\":\"rgb(17,17,17)\",\"subunitcolor\":\"#506784\",\"showland\":true,\"showlakes\":true,\"lakecolor\":\"rgb(17,17,17)\"},\"title\":{\"x\":0.05},\"updatemenudefaults\":{\"bgcolor\":\"#506784\",\"borderwidth\":0},\"sliderdefaults\":{\"bgcolor\":\"#C8D4E3\",\"borderwidth\":1,\"bordercolor\":\"rgb(17,17,17)\",\"tickwidth\":0},\"mapbox\":{\"style\":\"dark\"}}},\"xaxis\":{\"anchor\":\"y\",\"domain\":[0.0,1.0],\"title\":{\"text\":\"Model\"}},\"yaxis\":{\"anchor\":\"x\",\"domain\":[0.0,1.0],\"title\":{\"text\":\"Accuracy\"}},\"legend\":{\"tracegroupgap\":0},\"margin\":{\"t\":60},\"barmode\":\"relative\"},                        {\"responsive\": true}                    ).then(function(){\n                            \nvar gd = document.getElementById('ef2c7e12-f946-403f-9fdf-e7a296cc538e');\nvar x = new MutationObserver(function (mutations, observer) {{\n        var display = window.getComputedStyle(gd).display;\n        if (!display || display === 'none') {{\n            console.log([gd, 'removed!']);\n            Plotly.purge(gd);\n            observer.disconnect();\n        }}\n}});\n\n// Listen for the removal of the full notebook cells\nvar notebookContainer = gd.closest('#notebook-container');\nif (notebookContainer) {{\n    x.observe(notebookContainer, {childList: true});\n}}\n\n// Listen for the clearing of the current output cell\nvar outputEl = gd.closest('.output');\nif (outputEl) {{\n    x.observe(outputEl, {childList: true});\n}}\n\n                        })                };                });            </script>        </div>"
     },
     "metadata": {},
     "output_type": "display_data"
    }
   ],
   "source": [
    "data = pd.read_csv('datasets/iris.csv')\n",
    "data_adult = pd.read_csv('datasets/adult5000.csv')\n",
    "data_housing = pd.read_csv('datasets/Housing.csv')\n",
    "target = 'Species'\n",
    "target_adult = 'income'\n",
    "target_housing = 'price'\n",
    "dtypes = {'Id': 'not-generalizable', 'SepalLengthCm': 'floating', 'SepalWidthCm': 'floating', 'PetalLengthCm': 'floating', 'PetalWidthCm': 'floating', 'Species': 'categorical'}\n",
    "dtypes_adult = {'age': 'integer', 'workclass': 'categorical', 'fnlwgt': 'integer', 'education': 'categorical', 'educational-num': 'integer', 'marital-status': 'categorical', 'occupation': 'categorical', 'relationship': 'categorical', 'race': 'categorical', 'gender': 'categorical', 'capital-gain': 'integer', 'capital-loss': 'integer', 'hours-per-week': 'integer', 'native-country': 'categorical', 'income': 'categorical'}\n",
    "dtypes_housing = {'price': 'integer', 'area': 'categorical', 'bedrooms': 'integer', 'bathrooms': 'categorical', 'stories': 'categorical', 'mainroad': 'categorical', 'guestroom': 'categorical', 'basement': 'categorical', 'hotwaterheating': 'categorical', 'airconditioning': 'categorical', 'parking': 'categorical', 'prefarea': 'categorical', 'furnishingstatus': 'categorical'}\n",
    "encoded_data, _ = encode_categorical_columns(data_adult, target_adult, dtypes_adult)\n",
    "simple_model_performance(encoded_data, target_adult, dtypes_adult)"
   ],
   "metadata": {
    "collapsed": false
   }
  },
  {
   "cell_type": "code",
   "execution_count": 66,
   "outputs": [],
   "source": [
    "import pandas as pd\n",
    "import plotly.express as px\n",
    "from scipy.stats import shapiro, anderson, kstest, normaltest\n",
    "import numpy as np\n",
    "import matplotlib.pyplot as plt\n",
    "from sklearn.ensemble import RandomForestRegressor, RandomForestClassifier\n",
    "from scipy.stats import shapiro, anderson, kstest, normaltest\n",
    "from sklearn.preprocessing import OneHotEncoder, LabelEncoder\n",
    "import missingno as msno\n",
    "from sklearn.preprocessing import LabelEncoder\n",
    "import pandas_dq\n",
    "from xgboost import XGBClassifier\n",
    "from sklearn.model_selection import cross_val_predict\n",
    "from sklearn.metrics import accuracy_score\n",
    "from sklearn.preprocessing import OneHotEncoder, LabelEncoder\n",
    "from category_encoders.target_encoder import TargetEncoder\n",
    "from sklearn.model_selection import train_test_split"
   ],
   "metadata": {
    "collapsed": false
   }
  },
  {
   "cell_type": "code",
   "execution_count": 48,
   "outputs": [
    {
     "data": {
      "text/plain": "      price  area  bedrooms  bathrooms  stories mainroad guestroom basement  \\\n0  13300000  7420         4          2        3      yes        no       no   \n1  12250000  8960         4          4        4      yes        no       no   \n2  12250000  9960         3          2        2      yes        no      yes   \n3  12215000  7500         4          2        2      yes        no      yes   \n4  11410000  7420         4          1        2      yes       yes      yes   \n\n  hotwaterheating airconditioning  parking prefarea furnishingstatus  \n0              no             yes        2      yes        furnished  \n1              no             yes        3       no        furnished  \n2              no              no        2      yes   semi-furnished  \n3              no             yes        3      yes        furnished  \n4              no             yes        2       no        furnished  ",
      "text/html": "<div>\n<style scoped>\n    .dataframe tbody tr th:only-of-type {\n        vertical-align: middle;\n    }\n\n    .dataframe tbody tr th {\n        vertical-align: top;\n    }\n\n    .dataframe thead th {\n        text-align: right;\n    }\n</style>\n<table border=\"1\" class=\"dataframe\">\n  <thead>\n    <tr style=\"text-align: right;\">\n      <th></th>\n      <th>price</th>\n      <th>area</th>\n      <th>bedrooms</th>\n      <th>bathrooms</th>\n      <th>stories</th>\n      <th>mainroad</th>\n      <th>guestroom</th>\n      <th>basement</th>\n      <th>hotwaterheating</th>\n      <th>airconditioning</th>\n      <th>parking</th>\n      <th>prefarea</th>\n      <th>furnishingstatus</th>\n    </tr>\n  </thead>\n  <tbody>\n    <tr>\n      <th>0</th>\n      <td>13300000</td>\n      <td>7420</td>\n      <td>4</td>\n      <td>2</td>\n      <td>3</td>\n      <td>yes</td>\n      <td>no</td>\n      <td>no</td>\n      <td>no</td>\n      <td>yes</td>\n      <td>2</td>\n      <td>yes</td>\n      <td>furnished</td>\n    </tr>\n    <tr>\n      <th>1</th>\n      <td>12250000</td>\n      <td>8960</td>\n      <td>4</td>\n      <td>4</td>\n      <td>4</td>\n      <td>yes</td>\n      <td>no</td>\n      <td>no</td>\n      <td>no</td>\n      <td>yes</td>\n      <td>3</td>\n      <td>no</td>\n      <td>furnished</td>\n    </tr>\n    <tr>\n      <th>2</th>\n      <td>12250000</td>\n      <td>9960</td>\n      <td>3</td>\n      <td>2</td>\n      <td>2</td>\n      <td>yes</td>\n      <td>no</td>\n      <td>yes</td>\n      <td>no</td>\n      <td>no</td>\n      <td>2</td>\n      <td>yes</td>\n      <td>semi-furnished</td>\n    </tr>\n    <tr>\n      <th>3</th>\n      <td>12215000</td>\n      <td>7500</td>\n      <td>4</td>\n      <td>2</td>\n      <td>2</td>\n      <td>yes</td>\n      <td>no</td>\n      <td>yes</td>\n      <td>no</td>\n      <td>yes</td>\n      <td>3</td>\n      <td>yes</td>\n      <td>furnished</td>\n    </tr>\n    <tr>\n      <th>4</th>\n      <td>11410000</td>\n      <td>7420</td>\n      <td>4</td>\n      <td>1</td>\n      <td>2</td>\n      <td>yes</td>\n      <td>yes</td>\n      <td>yes</td>\n      <td>no</td>\n      <td>yes</td>\n      <td>2</td>\n      <td>no</td>\n      <td>furnished</td>\n    </tr>\n  </tbody>\n</table>\n</div>"
     },
     "execution_count": 48,
     "metadata": {},
     "output_type": "execute_result"
    }
   ],
   "source": [
    "data = pd.read_csv('datasets/Housing.csv')\n",
    "data.head()"
   ],
   "metadata": {
    "collapsed": false
   }
  },
  {
   "cell_type": "code",
   "execution_count": 97,
   "outputs": [
    {
     "data": {
      "text/plain": "   age  workclass  fnlwgt     education  educational-num      marital-status  \\\n0   25    Private  226802          11th                7       Never-married   \n1   38    Private   89814       HS-grad                9  Married-civ-spouse   \n2   28  Local-gov  336951    Assoc-acdm               12  Married-civ-spouse   \n3   44    Private  160323  Some-college               10  Married-civ-spouse   \n4   18          ?  103497  Some-college               10       Never-married   \n\n          occupation relationship   race  gender  capital-gain  capital-loss  \\\n0  Machine-op-inspct    Own-child  Black    Male             0             0   \n1    Farming-fishing      Husband  White    Male             0             0   \n2    Protective-serv      Husband  White    Male             0             0   \n3  Machine-op-inspct      Husband  Black    Male          7688             0   \n4                  ?    Own-child  White  Female             0             0   \n\n   hours-per-week native-country income  \n0              40  United-States  <=50K  \n1              50  United-States  <=50K  \n2              40  United-States   >50K  \n3              40  United-States   >50K  \n4              30  United-States  <=50K  ",
      "text/html": "<div>\n<style scoped>\n    .dataframe tbody tr th:only-of-type {\n        vertical-align: middle;\n    }\n\n    .dataframe tbody tr th {\n        vertical-align: top;\n    }\n\n    .dataframe thead th {\n        text-align: right;\n    }\n</style>\n<table border=\"1\" class=\"dataframe\">\n  <thead>\n    <tr style=\"text-align: right;\">\n      <th></th>\n      <th>age</th>\n      <th>workclass</th>\n      <th>fnlwgt</th>\n      <th>education</th>\n      <th>educational-num</th>\n      <th>marital-status</th>\n      <th>occupation</th>\n      <th>relationship</th>\n      <th>race</th>\n      <th>gender</th>\n      <th>capital-gain</th>\n      <th>capital-loss</th>\n      <th>hours-per-week</th>\n      <th>native-country</th>\n      <th>income</th>\n    </tr>\n  </thead>\n  <tbody>\n    <tr>\n      <th>0</th>\n      <td>25</td>\n      <td>Private</td>\n      <td>226802</td>\n      <td>11th</td>\n      <td>7</td>\n      <td>Never-married</td>\n      <td>Machine-op-inspct</td>\n      <td>Own-child</td>\n      <td>Black</td>\n      <td>Male</td>\n      <td>0</td>\n      <td>0</td>\n      <td>40</td>\n      <td>United-States</td>\n      <td>&lt;=50K</td>\n    </tr>\n    <tr>\n      <th>1</th>\n      <td>38</td>\n      <td>Private</td>\n      <td>89814</td>\n      <td>HS-grad</td>\n      <td>9</td>\n      <td>Married-civ-spouse</td>\n      <td>Farming-fishing</td>\n      <td>Husband</td>\n      <td>White</td>\n      <td>Male</td>\n      <td>0</td>\n      <td>0</td>\n      <td>50</td>\n      <td>United-States</td>\n      <td>&lt;=50K</td>\n    </tr>\n    <tr>\n      <th>2</th>\n      <td>28</td>\n      <td>Local-gov</td>\n      <td>336951</td>\n      <td>Assoc-acdm</td>\n      <td>12</td>\n      <td>Married-civ-spouse</td>\n      <td>Protective-serv</td>\n      <td>Husband</td>\n      <td>White</td>\n      <td>Male</td>\n      <td>0</td>\n      <td>0</td>\n      <td>40</td>\n      <td>United-States</td>\n      <td>&gt;50K</td>\n    </tr>\n    <tr>\n      <th>3</th>\n      <td>44</td>\n      <td>Private</td>\n      <td>160323</td>\n      <td>Some-college</td>\n      <td>10</td>\n      <td>Married-civ-spouse</td>\n      <td>Machine-op-inspct</td>\n      <td>Husband</td>\n      <td>Black</td>\n      <td>Male</td>\n      <td>7688</td>\n      <td>0</td>\n      <td>40</td>\n      <td>United-States</td>\n      <td>&gt;50K</td>\n    </tr>\n    <tr>\n      <th>4</th>\n      <td>18</td>\n      <td>?</td>\n      <td>103497</td>\n      <td>Some-college</td>\n      <td>10</td>\n      <td>Never-married</td>\n      <td>?</td>\n      <td>Own-child</td>\n      <td>White</td>\n      <td>Female</td>\n      <td>0</td>\n      <td>0</td>\n      <td>30</td>\n      <td>United-States</td>\n      <td>&lt;=50K</td>\n    </tr>\n  </tbody>\n</table>\n</div>"
     },
     "execution_count": 97,
     "metadata": {},
     "output_type": "execute_result"
    }
   ],
   "source": [
    "data = pd.read_csv('datasets/adult.csv')\n",
    "df_first_1000 = data.iloc[:1000]\n",
    "\n",
    "df_first_1000.to_csv(r'C:\\Users\\robin\\OneDrive - TU Eindhoven\\Documents Robinkaelen Onedrive\\Documenten\\GitHub\\DataQualityTool\\datasets\\adult1000.csv', index=False)\n",
    "df_first_1000.head()"
   ],
   "metadata": {
    "collapsed": false
   }
  },
  {
   "cell_type": "code",
   "execution_count": 117,
   "outputs": [],
   "source": [
    "import deepchecks.tabular.checks\n",
    "import re\n",
    "\n",
    "def remove_anomalies(s):\n",
    "    if isinstance(s, str):\n",
    "        s = re.sub('[{}()]', '', s)\n",
    "    return s\n",
    "\n",
    "def special_characters(dataset):\n",
    "    \"\"\"\"function that checks whether values exist in the column that contain only special characters like #, ?, -, if so displays\n",
    "     the column with the 5 most common special characters\n",
    "    \"\"\"\n",
    "    checkSpecialCharacters = deepchecks.tabular.checks.SpecialCharacters(n_top_columns=amount_of_columns,\n",
    "                                                                   n_samples=amount_of_samples, n_most_common = 5)\n",
    "    resultSpecialCharacters = checkSpecialCharacters.run(dataset)\n",
    "\n",
    "    result = resultSpecialCharacters.display\n",
    "    if result:\n",
    "        df = pd.DataFrame(result[1])\n",
    "        column_names = df.index\n",
    "        df.insert(0, 'Column', column_names)\n",
    "    else:\n",
    "        df = pd.DataFrame({\"Message\": [\"No special characters encountered\"]})\n",
    "\n",
    "    df.reset_index(drop=True, inplace=True)\n",
    "    # define a lambda function to remove brackets\n",
    "    remove_brackets = lambda x: str(x).replace('[', '').replace(']', '').replace('{', '').replace('}', '')\n",
    "\n",
    "    # apply the lambda function to the dataframe\n",
    "    df = df.applymap(remove_brackets)\n",
    "\n",
    "    return df"
   ],
   "metadata": {
    "collapsed": false
   }
  },
  {
   "cell_type": "code",
   "execution_count": 118,
   "outputs": [
    {
     "name": "stderr",
     "output_type": "stream",
     "text": [
      "deepchecks - WARNING - Received a \"pandas.DataFrame\" instance. It is recommended to pass a \"deepchecks.tabular.Dataset\" instance by initializing it with the data and metadata, for example by doing \"Dataset(dataframe, label=label, cat_features=cat_features)\"\n",
      "deepchecks - WARNING - It is recommended to initialize Dataset with categorical features by doing \"Dataset(df, cat_features=categorical_list)\". No categorical features were passed, therefore heuristically inferring categorical features in the data. 6 categorical features were inferred.: workclass, marital-status, relationship, race, gender, income\n"
     ]
    },
    {
     "name": "stdout",
     "output_type": "stream",
     "text": [
      "           Column % Special-Only Samples Most Common Special-Only Samples\n",
      "0       workclass                   5.8%                              '?'\n",
      "1      occupation                   5.8%                              '?'\n",
      "2  native-country                   1.5%                              '?'\n"
     ]
    }
   ],
   "source": [
    "df = pd.read_csv('datasets/adult1000.csv')\n",
    "df = special_characters(df)\n",
    "print(df)"
   ],
   "metadata": {
    "collapsed": false
   }
  },
  {
   "cell_type": "code",
   "execution_count": 127,
   "outputs": [
    {
     "data": {
      "text/plain": "                            Message\n0  No duplicate columns encountered",
      "text/html": "<div>\n<style scoped>\n    .dataframe tbody tr th:only-of-type {\n        vertical-align: middle;\n    }\n\n    .dataframe tbody tr th {\n        vertical-align: top;\n    }\n\n    .dataframe thead th {\n        text-align: right;\n    }\n</style>\n<table border=\"1\" class=\"dataframe\">\n  <thead>\n    <tr style=\"text-align: right;\">\n      <th></th>\n      <th>Message</th>\n    </tr>\n  </thead>\n  <tbody>\n    <tr>\n      <th>0</th>\n      <td>No duplicate columns encountered</td>\n    </tr>\n  </tbody>\n</table>\n</div>"
     },
     "execution_count": 127,
     "metadata": {},
     "output_type": "execute_result"
    }
   ],
   "source": [
    "\n",
    "# Create example dataframe\n",
    "df = pd.DataFrame({\n",
    "    'A': [1, 3, 3],\n",
    "    'B': [4, 5, 6],\n",
    "    'C': [1, 2, 3],\n",
    "    'D': [7, 8, 9],\n",
    "})\n",
    "\n",
    "def duplicate_column(df):\n",
    "    \"\"\"\"Checks for columns that are exact duplicates \"\"\"\n",
    "    duplicate_cols = []\n",
    "    results = []\n",
    "    #loop over columns in dataframe and check whether they are duplicates and not already said to be duplicates\n",
    "    for col1 in df.columns:\n",
    "        for col2 in df.columns:\n",
    "            if col1 != col2 and (col2, col1) not in duplicate_cols:\n",
    "                if df[col1].equals(df[col2]):\n",
    "                    duplicate_cols.append((col1, col2))\n",
    "                    results.append({'Column': col1, 'Duplicate Column': col2})\n",
    "\n",
    "    if duplicate_cols:\n",
    "        df_duplicate_columns = pd.DataFrame(results, columns=['Column', 'Duplicate Column'])\n",
    "        df_duplicate_columns = dash_datatable_format_fix(df_duplicate_columns)\n",
    "        return df_duplicate_columns\n",
    "    else:\n",
    "        return pd.DataFrame({\"Message\": [\"No duplicate columns encountered\"]})\n",
    "\n",
    "duplicate_column(df)"
   ],
   "metadata": {
    "collapsed": false
   }
  },
  {
   "cell_type": "code",
   "execution_count": null,
   "outputs": [],
   "source": [],
   "metadata": {
    "collapsed": false
   }
  }
 ],
 "metadata": {
  "kernelspec": {
   "display_name": "Python 3",
   "language": "python",
   "name": "python3"
  },
  "language_info": {
   "codemirror_mode": {
    "name": "ipython",
    "version": 2
   },
   "file_extension": ".py",
   "mimetype": "text/x-python",
   "name": "python",
   "nbconvert_exporter": "python",
   "pygments_lexer": "ipython2",
   "version": "2.7.6"
  }
 },
 "nbformat": 4,
 "nbformat_minor": 0
}
