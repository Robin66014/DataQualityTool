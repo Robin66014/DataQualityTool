{
 "cells": [
  {
   "cell_type": "code",
   "execution_count": 54,
   "metadata": {
    "collapsed": true
   },
   "outputs": [],
   "source": []
  },
  {
   "cell_type": "code",
   "execution_count": 55,
   "outputs": [
    {
     "data": {
      "text/plain": "<pandas.io.formats.style.Styler at 0x18fc38f0970>",
      "text/html": "<style type=\"text/css\">\n#T_bb25d_row0_col0, #T_bb25d_row0_col2, #T_bb25d_row0_col5, #T_bb25d_row1_col0, #T_bb25d_row1_col2, #T_bb25d_row1_col5, #T_bb25d_row2_col0, #T_bb25d_row2_col2, #T_bb25d_row2_col5, #T_bb25d_row3_col0, #T_bb25d_row3_col2, #T_bb25d_row3_col5, #T_bb25d_row4_col0, #T_bb25d_row4_col2, #T_bb25d_row4_col5, #T_bb25d_row5_col0, #T_bb25d_row5_col2, #T_bb25d_row5_col5 {\n  font-family: Segoe UI;\n}\n#T_bb25d_row0_col1, #T_bb25d_row1_col1, #T_bb25d_row2_col1, #T_bb25d_row3_col1, #T_bb25d_row4_col1, #T_bb25d_row4_col4, #T_bb25d_row5_col1, #T_bb25d_row5_col3, #T_bb25d_row5_col4 {\n  background-color: #fff5f0;\n  color: #000000;\n  font-family: Segoe UI;\n}\n#T_bb25d_row0_col3, #T_bb25d_row3_col3 {\n  background-color: #fcc1a8;\n  color: #000000;\n  font-family: Segoe UI;\n}\n#T_bb25d_row0_col4, #T_bb25d_row1_col3 {\n  background-color: #67000d;\n  color: #f1f1f1;\n  font-family: Segoe UI;\n}\n#T_bb25d_row1_col4 {\n  background-color: #ffeee7;\n  color: #000000;\n  font-family: Segoe UI;\n}\n#T_bb25d_row2_col3 {\n  background-color: #fb7555;\n  color: #f1f1f1;\n  font-family: Segoe UI;\n}\n#T_bb25d_row2_col4 {\n  background-color: #fff2ec;\n  color: #000000;\n  font-family: Segoe UI;\n}\n#T_bb25d_row3_col4 {\n  background-color: #fff0e8;\n  color: #000000;\n  font-family: Segoe UI;\n}\n#T_bb25d_row4_col3 {\n  background-color: #fff2eb;\n  color: #000000;\n  font-family: Segoe UI;\n}\n</style>\n<table id=\"T_bb25d\">\n  <thead>\n    <tr>\n      <th class=\"blank level0\" >&nbsp;</th>\n      <th id=\"T_bb25d_level0_col0\" class=\"col_heading level0 col0\" >Data Type</th>\n      <th id=\"T_bb25d_level0_col1\" class=\"col_heading level0 col1\" >Missing Values%</th>\n      <th id=\"T_bb25d_level0_col2\" class=\"col_heading level0 col2\" >Unique Values%</th>\n      <th id=\"T_bb25d_level0_col3\" class=\"col_heading level0 col3\" >Minimum Value</th>\n      <th id=\"T_bb25d_level0_col4\" class=\"col_heading level0 col4\" >Maximum Value</th>\n      <th id=\"T_bb25d_level0_col5\" class=\"col_heading level0 col5\" >DQ Issue</th>\n    </tr>\n  </thead>\n  <tbody>\n    <tr>\n      <th id=\"T_bb25d_level0_row0\" class=\"row_heading level0 row0\" >Id</th>\n      <td id=\"T_bb25d_row0_col0\" class=\"data row0 col0\" >int64</td>\n      <td id=\"T_bb25d_row0_col1\" class=\"data row0 col1\" >0.000000</td>\n      <td id=\"T_bb25d_row0_col2\" class=\"data row0 col2\" >100</td>\n      <td id=\"T_bb25d_row0_col3\" class=\"data row0 col3\" >1.000000</td>\n      <td id=\"T_bb25d_row0_col4\" class=\"data row0 col4\" >150.000000</td>\n      <td id=\"T_bb25d_row0_col5\" class=\"data row0 col5\" >Possible ID colum: drop before modeling process.,     Id has a correlation >= 0.8 with Species. Possible data leakage. Double check this variable.</td>\n    </tr>\n    <tr>\n      <th id=\"T_bb25d_level0_row1\" class=\"row_heading level0 row1\" >SepalLengthCm</th>\n      <td id=\"T_bb25d_row1_col0\" class=\"data row1 col0\" >float64</td>\n      <td id=\"T_bb25d_row1_col1\" class=\"data row1 col1\" >0.000000</td>\n      <td id=\"T_bb25d_row1_col2\" class=\"data row1 col2\" >NA</td>\n      <td id=\"T_bb25d_row1_col3\" class=\"data row1 col3\" >4.300000</td>\n      <td id=\"T_bb25d_row1_col4\" class=\"data row1 col4\" >7.900000</td>\n      <td id=\"T_bb25d_row1_col5\" class=\"data row1 col5\" >No issue</td>\n    </tr>\n    <tr>\n      <th id=\"T_bb25d_level0_row2\" class=\"row_heading level0 row2\" >SepalWidthCm</th>\n      <td id=\"T_bb25d_row2_col0\" class=\"data row2 col0\" >float64</td>\n      <td id=\"T_bb25d_row2_col1\" class=\"data row2 col1\" >0.000000</td>\n      <td id=\"T_bb25d_row2_col2\" class=\"data row2 col2\" >NA</td>\n      <td id=\"T_bb25d_row2_col3\" class=\"data row2 col3\" >2.000000</td>\n      <td id=\"T_bb25d_row2_col4\" class=\"data row2 col4\" >4.400000</td>\n      <td id=\"T_bb25d_row2_col5\" class=\"data row2 col5\" >has 4 outliers greater than upper bound (4.05) or lower than lower bound(2.05). Cap them or remove them.</td>\n    </tr>\n    <tr>\n      <th id=\"T_bb25d_level0_row3\" class=\"row_heading level0 row3\" >PetalLengthCm</th>\n      <td id=\"T_bb25d_row3_col0\" class=\"data row3 col0\" >float64</td>\n      <td id=\"T_bb25d_row3_col1\" class=\"data row3 col1\" >0.000000</td>\n      <td id=\"T_bb25d_row3_col2\" class=\"data row3 col2\" >NA</td>\n      <td id=\"T_bb25d_row3_col3\" class=\"data row3 col3\" >1.000000</td>\n      <td id=\"T_bb25d_row3_col4\" class=\"data row3 col4\" >6.900000</td>\n      <td id=\"T_bb25d_row3_col5\" class=\"data row3 col5\" >has a high correlation with ['Id', 'SepalLengthCm']. Consider dropping one of them.,     PetalLengthCm has a correlation >= 0.8 with Species. Possible data leakage. Double check this variable.</td>\n    </tr>\n    <tr>\n      <th id=\"T_bb25d_level0_row4\" class=\"row_heading level0 row4\" >PetalWidthCm</th>\n      <td id=\"T_bb25d_row4_col0\" class=\"data row4 col0\" >float64</td>\n      <td id=\"T_bb25d_row4_col1\" class=\"data row4 col1\" >0.000000</td>\n      <td id=\"T_bb25d_row4_col2\" class=\"data row4 col2\" >NA</td>\n      <td id=\"T_bb25d_row4_col3\" class=\"data row4 col3\" >0.100000</td>\n      <td id=\"T_bb25d_row4_col4\" class=\"data row4 col4\" >2.500000</td>\n      <td id=\"T_bb25d_row4_col5\" class=\"data row4 col5\" >has a high correlation with ['Id', 'SepalLengthCm', 'PetalLengthCm']. Consider dropping one of them.,     PetalWidthCm has a correlation >= 0.8 with Species. Possible data leakage. Double check this variable.</td>\n    </tr>\n    <tr>\n      <th id=\"T_bb25d_level0_row5\" class=\"row_heading level0 row5\" >Species</th>\n      <td id=\"T_bb25d_row5_col0\" class=\"data row5 col0\" >int32</td>\n      <td id=\"T_bb25d_row5_col1\" class=\"data row5 col1\" >0.000000</td>\n      <td id=\"T_bb25d_row5_col2\" class=\"data row5 col2\" >2</td>\n      <td id=\"T_bb25d_row5_col3\" class=\"data row5 col3\" >0.000000</td>\n      <td id=\"T_bb25d_row5_col4\" class=\"data row5 col4\" >2.000000</td>\n      <td id=\"T_bb25d_row5_col5\" class=\"data row5 col5\" >has a high correlation with ['Id', 'PetalLengthCm', 'PetalWidthCm']. Consider dropping one of them.</td>\n    </tr>\n  </tbody>\n</table>\n"
     },
     "metadata": {},
     "output_type": "display_data"
    },
    {
     "name": "stdout",
     "output_type": "stream",
     "text": [
      "              Data Type  Missing Values% Unique Values%  Minimum Value  \\\n",
      "Id             int64     0.0              100            1.0             \n",
      "SepalLengthCm  float64   0.0              NA             4.3             \n",
      "SepalWidthCm   float64   0.0              NA             2.0             \n",
      "PetalLengthCm  float64   0.0              NA             1.0             \n",
      "PetalWidthCm   float64   0.0              NA             0.1             \n",
      "Species        int32     0.0              2              0.0             \n",
      "\n",
      "               Maximum Value  \\\n",
      "Id             150.0           \n",
      "SepalLengthCm  7.9             \n",
      "SepalWidthCm   4.4             \n",
      "PetalLengthCm  6.9             \n",
      "PetalWidthCm   2.5             \n",
      "Species        2.0             \n",
      "\n",
      "                                                                                                                                                                                                                       DQ Issue  \n",
      "Id             Possible ID colum: drop before modeling process.,     Id has a correlation >= 0.8 with Species. Possible data leakage. Double check this variable.                                                                \n",
      "SepalLengthCm  No issue                                                                                                                                                                                                          \n",
      "SepalWidthCm   has 4 outliers greater than upper bound (4.05) or lower than lower bound(2.05). Cap them or remove them.                                                                                                          \n",
      "PetalLengthCm  has a high correlation with ['Id', 'SepalLengthCm']. Consider dropping one of them.,     PetalLengthCm has a correlation >= 0.8 with Species. Possible data leakage. Double check this variable.                  \n",
      "PetalWidthCm   has a high correlation with ['Id', 'SepalLengthCm', 'PetalLengthCm']. Consider dropping one of them.,     PetalWidthCm has a correlation >= 0.8 with Species. Possible data leakage. Double check this variable.  \n",
      "Species        has a high correlation with ['Id', 'PetalLengthCm', 'PetalWidthCm']. Consider dropping one of them.                                                                                                               \n"
     ]
    }
   ],
   "source": [
    "import pandas_dq\n",
    "import pandas as pd\n",
    "from sklearn.preprocessing import LabelEncoder\n",
    "data = pd.read_csv('datasets\\iris.csv')\n",
    "le = LabelEncoder()\n",
    "\n",
    "# Fit the encoder to the Species column\n",
    "le.fit(data['Species'])\n",
    "\n",
    "# Transform the Species column using the fitted encoder\n",
    "data['Species'] = le.transform(data['Species'])\n",
    "report = pandas_dq.dq_report(data, target='Species', csv_engine=\"pandas\", verbose=1)\n",
    "reportDICT = report.to_dict()\n",
    "df = pd.DataFrame(reportDICT)\n",
    "print(df)\n",
    "# reportdf = pd.DataFrame.from_dict(reportDICT)\n",
    "# print(reportdf.head())\n",
    "#\n",
    "# #print(reportJSON)\n",
    "# reportDICT = report.to_dict()\n",
    "# reportdf = pd.DataFrame.from_dict(reportDICT)\n",
    "# print(reportdf.head())\n",
    "# with open('htmlcode.txt', 'w') as f:\n",
    "#     f.write(reportDICT)\n",
    "#print(reportDICT)"
   ],
   "metadata": {
    "collapsed": false
   }
  },
  {
   "cell_type": "code",
   "execution_count": 56,
   "outputs": [
    {
     "name": "stdout",
     "output_type": "stream",
     "text": [
      "1 ID cols will be dropped from further processing: ['Id']\n",
      "    Dropping PetalLengthCm which has a high correlation with ['Id', 'SepalLengthCm']\n",
      "    Dropping PetalWidthCm which has a high correlation with ['Id', 'SepalLengthCm', 'PetalLengthCm']\n",
      "    Dropping Species which has a high correlation with ['Id', 'PetalLengthCm', 'PetalWidthCm']\n"
     ]
    }
   ],
   "source": [
    "from pandas_dq import Fix_DQ\n",
    "fdq = Fix_DQ()\n",
    "\n",
    "X_train_transformed = fdq.fit_transform(data)\n"
   ],
   "metadata": {
    "collapsed": false
   }
  },
  {
   "cell_type": "code",
   "execution_count": 57,
   "outputs": [
    {
     "name": "stdout",
     "output_type": "stream",
     "text": [
      "Alert: Dropping 34 duplicate rows can sometimes cause column data types to change to object. Double-check!\n"
     ]
    },
    {
     "data": {
      "text/plain": "<pandas.io.formats.style.Styler at 0x18fc91838b0>",
      "text/html": "<style type=\"text/css\">\n#T_d0ab9_row0_col0, #T_d0ab9_row0_col2, #T_d0ab9_row0_col5, #T_d0ab9_row1_col0, #T_d0ab9_row1_col2, #T_d0ab9_row1_col5 {\n  font-family: Segoe UI;\n}\n#T_d0ab9_row0_col1, #T_d0ab9_row1_col1, #T_d0ab9_row1_col3, #T_d0ab9_row1_col4 {\n  background-color: #fff5f0;\n  color: #000000;\n  font-family: Segoe UI;\n}\n#T_d0ab9_row0_col3, #T_d0ab9_row0_col4 {\n  background-color: #67000d;\n  color: #f1f1f1;\n  font-family: Segoe UI;\n}\n</style>\n<table id=\"T_d0ab9\">\n  <thead>\n    <tr>\n      <th class=\"blank level0\" >&nbsp;</th>\n      <th id=\"T_d0ab9_level0_col0\" class=\"col_heading level0 col0\" >Data Type</th>\n      <th id=\"T_d0ab9_level0_col1\" class=\"col_heading level0 col1\" >Missing Values%</th>\n      <th id=\"T_d0ab9_level0_col2\" class=\"col_heading level0 col2\" >Unique Values%</th>\n      <th id=\"T_d0ab9_level0_col3\" class=\"col_heading level0 col3\" >Minimum Value</th>\n      <th id=\"T_d0ab9_level0_col4\" class=\"col_heading level0 col4\" >Maximum Value</th>\n      <th id=\"T_d0ab9_level0_col5\" class=\"col_heading level0 col5\" >DQ Issue</th>\n    </tr>\n  </thead>\n  <tbody>\n    <tr>\n      <th id=\"T_d0ab9_level0_row0\" class=\"row_heading level0 row0\" >SepalLengthCm</th>\n      <td id=\"T_d0ab9_row0_col0\" class=\"data row0 col0\" >float64</td>\n      <td id=\"T_d0ab9_row0_col1\" class=\"data row0 col1\" >0.000000</td>\n      <td id=\"T_d0ab9_row0_col2\" class=\"data row0 col2\" >NA</td>\n      <td id=\"T_d0ab9_row0_col3\" class=\"data row0 col3\" >4.300000</td>\n      <td id=\"T_d0ab9_row0_col4\" class=\"data row0 col4\" >7.900000</td>\n      <td id=\"T_d0ab9_row0_col5\" class=\"data row0 col5\" >No issue</td>\n    </tr>\n    <tr>\n      <th id=\"T_d0ab9_level0_row1\" class=\"row_heading level0 row1\" >SepalWidthCm</th>\n      <td id=\"T_d0ab9_row1_col0\" class=\"data row1 col0\" >float64</td>\n      <td id=\"T_d0ab9_row1_col1\" class=\"data row1 col1\" >0.000000</td>\n      <td id=\"T_d0ab9_row1_col2\" class=\"data row1 col2\" >NA</td>\n      <td id=\"T_d0ab9_row1_col3\" class=\"data row1 col3\" >2.000000</td>\n      <td id=\"T_d0ab9_row1_col4\" class=\"data row1 col4\" >4.050000</td>\n      <td id=\"T_d0ab9_row1_col5\" class=\"data row1 col5\" >has 1 outliers greater than upper bound (4.05) or lower than lower bound(2.05). Cap them or remove them.</td>\n    </tr>\n  </tbody>\n</table>\n"
     },
     "metadata": {},
     "output_type": "display_data"
    }
   ],
   "source": [
    "report = pandas_dq.dq_report(X_train_transformed, target=None, csv_engine=\"pandas\", verbose=1)"
   ],
   "metadata": {
    "collapsed": false
   }
  },
  {
   "cell_type": "code",
   "execution_count": 58,
   "outputs": [],
   "source": [
    "import cleanlab\n",
    "import pandas as pd\n",
    "from sklearn.preprocessing import LabelEncoder\n",
    "from sklearn.ensemble import RandomForestClassifier\n",
    "df = pd.read_csv('datasets\\Iris.csv')\n",
    "# Create a label encoder object\n",
    "le = LabelEncoder()\n",
    "# Fit and transform the \"Species\" column\n",
    "df['Species'] = le.fit_transform(df['Species'])\n",
    "def cleanlab_test(df):\n",
    "\n",
    "    # cleanlab works with **any classifier**. Yup, you can use PyTorch/TensorFlow/OpenAI/XGBoost/etc.\n",
    "    cl = cleanlab.classification.CleanLearning(RandomForestClassifier())\n",
    "    data = df.loc[:, df.columns != 'class']\n",
    "\n",
    "    # cleanlab finds data and label issues in **any dataset**... in ONE line of code!\n",
    "    # Fit model to messy, real-world data, automatically training on cleaned data.\n",
    "    _ = cl.fit(data, df['class'])\n",
    "    # See the label quality for every example, which data has issues, and more.\n",
    "    print(cl.get_label_issues())"
   ],
   "metadata": {
    "collapsed": false
   }
  },
  {
   "cell_type": "code",
   "execution_count": 59,
   "outputs": [
    {
     "name": "stderr",
     "output_type": "stream",
     "text": [
      "deepchecks - WARNING - You are using deepchecks version 0.11.1, however a newer version is available.Deepchecks is frequently updated with major improvements. You should consider upgrading via the \"python -m pip install --upgrade deepchecks\" command.\n"
     ]
    }
   ],
   "source": [
    "from deepchecks.tabular import Dataset\n",
    "import deepchecks.tabular.checks\n",
    "import pandas as pd\n",
    "from sklearn.datasets import load_iris\n",
    "from deepchecks.tabular.datasets.classification.phishing import load_data\n",
    "import numpy as np\n",
    "from deepchecks.tabular.datasets.classification import adult\n",
    "import plotly.express as px\n",
    "from xgboost import XGBClassifier\n",
    "from sklearn.model_selection import cross_val_predict\n",
    "from sklearn.metrics import accuracy_score\n",
    "from sklearn.preprocessing import OneHotEncoder, LabelEncoder"
   ],
   "metadata": {
    "collapsed": false
   }
  },
  {
   "cell_type": "code",
   "execution_count": 60,
   "outputs": [],
   "source": [
    "def encode_categorical_columns(dataset, target, data_types):\n",
    "    # Find all categorical columns\n",
    "    # TODO: regel hieronder aanpassen naar wat de user heeft ingegeven (let hierbij op strings als dtype, moeten gezien worden als categorical)\n",
    "    categorical_cols = dataset.select_dtypes(include=['object', 'category']).columns.tolist()\n",
    "\n",
    "    target_is_categorical = False\n",
    "    if target != 'None':\n",
    "        # remove target as we want to label encode this (for classification problems)\n",
    "        if target in categorical_cols:\n",
    "            target_is_categorical = True\n",
    "            categorical_cols.remove(target)\n",
    "\n",
    "            # label encode target\n",
    "            le = LabelEncoder()\n",
    "            encoded_target = le.fit_transform(dataset[target])\n",
    "            # replace target column with label encoded values\n",
    "            dataset.drop(columns=[target], inplace=True)\n",
    "            dataset[target] = encoded_target\n",
    "\n",
    "    if not categorical_cols:  # then no features are categorical, and we're done\n",
    "        return dataset\n",
    "\n",
    "    # if there are categorical columns, we want to one-hot-encode them\n",
    "\n",
    "    # encode categoricals\n",
    "    encoder = OneHotEncoder(handle_unknown='ignore', max_categories=100)\n",
    "    encoded_columns = encoder.fit_transform(dataset[categorical_cols])\n",
    "    new_columns = pd.DataFrame(encoded_columns.toarray(), columns=encoder.get_feature_names_out(categorical_cols))\n",
    "\n",
    "    # add new columns to df and drop old ones\n",
    "    dataset_encoded = pd.concat([dataset, new_columns], axis=1)\n",
    "    dataset_encoded = dataset_encoded.drop(columns=categorical_cols)\n",
    "\n",
    "    # reposition target column to the end of the dataframe\n",
    "    if target != 'None' and target_is_categorical:\n",
    "        dataset_encoded.drop(columns=[target], inplace=True)\n",
    "        dataset_encoded[target] = encoded_target\n",
    "\n",
    "    #XGBClassifier doesn't accept: [, ] or <, so loop over the columns and change the names if they contain such values\n",
    "    new_col_names = {col: col.replace('<', '(smaller than)').replace('[', '(').replace(']', ')') for col in dataset_encoded.columns}\n",
    "    dataset_encoded = dataset_encoded.rename(columns=new_col_names)\n",
    "\n",
    "    return dataset_encoded"
   ],
   "metadata": {
    "collapsed": false
   }
  },
  {
   "cell_type": "code",
   "execution_count": 61,
   "outputs": [],
   "source": [
    "def wrong_label(encoded_dataset, target):\n",
    "    \"\"\"\"Function that finds potential label errors (due to annotator mistakes), edge cases, and otherwise ambiguous examples\"\"\"\n",
    "    model_XGBC = XGBClassifier(tree_method=\"hist\", enable_categorical=True) #hist is fastest tree method of XGBoost\n",
    "    #TODO: add more models and choose whichever gives highest prediction? Downside --> slows process\n",
    "    data_no_labels = encoded_dataset.drop(columns=[target])\n",
    "    labels = encoded_dataset[target]\n",
    "    pred_probs = cross_val_predict(model_XGBC, data_no_labels, labels, method='predict_proba')\n",
    "\n",
    "    preds = np.argmax(pred_probs, axis=1)\n",
    "    acc_original = accuracy_score(preds, labels)\n",
    "    print(f\"Accuracy with original data: {round(acc_original * 100, 1)}%\")\n",
    "\n",
    "    #use cleanlab's built in confident learning method to find label issues\n",
    "    cl = cleanlab.classification.CleanLearning()\n",
    "    issues_dataframe = cl.find_label_issues(X=None, labels=labels, pred_probs=pred_probs)\n",
    "    wrong_label_count = (issues_dataframe['is_label_issue'] == True).sum()\n",
    "\n",
    "    #filter df so only errors are visible\n",
    "    issues_dataframe_only_errors = issues_dataframe[issues_dataframe['is_label_issue'] == True]\n",
    "\n",
    "    return issues_dataframe, issues_dataframe_only_errors, wrong_label_count"
   ],
   "metadata": {
    "collapsed": false
   }
  },
  {
   "cell_type": "code",
   "execution_count": 62,
   "outputs": [
    {
     "name": "stdout",
     "output_type": "stream",
     "text": [
      "Accuracy with original data: 75.7%\n"
     ]
    },
    {
     "data": {
      "text/plain": "(     is_label_issue  label_quality  given_label  predicted_label\n 0    False           0.982974       1            1              \n 1    False           0.896697       0            0              \n 2    False           0.995315       1            1              \n 3    True            0.405909       1            0              \n 4    False           0.830484       0            0              \n 5    False           0.963891       1            1              \n 6    False           0.997703       1            1              \n 7    False           0.887332       1            1              \n 8    False           0.999295       1            1              \n 9    False           0.949440       0            0              \n 10   False           0.933829       0            0              \n 11   False           0.995936       0            0              \n 12   False           0.600553       1            1              \n 13   False           0.675812       0            0              \n 14   True            0.174067       1            0              \n 15   False           0.907229       0            0              \n 16   False           0.999810       1            1              \n 17   True            0.226138       1            0              \n 18   False           0.785784       0            0              \n 19   False           0.987730       1            1              \n 20   False           0.997544       1            1              \n 21   False           0.956830       1            1              \n 22   False           0.907010       1            1              \n 23   False           0.976327       1            1              \n 24   False           0.972770       1            1              \n 25   False           0.970429       1            1              \n 26   False           0.979311       1            1              \n 27   False           0.521294       1            1              \n 28   False           0.997473       1            1              \n 29   False           0.903442       0            0              \n 30   False           0.907306       1            1              \n 31   False           0.735939       1            1              \n 32   False           0.521490       1            1              \n 33   False           0.995227       1            1              \n 34   False           0.979134       1            1              \n 35   False           0.986665       0            0              \n 36   True            0.155259       1            0              \n 37   False           0.682449       0            0              \n 38   False           0.659476       1            1              \n 39   False           0.873040       1            1              \n 40   False           0.746930       1            1              \n 41   False           0.746980       1            1              \n 42   False           0.991961       1            1              \n 43   False           0.730504       1            1              \n 44   True            0.196956       0            1              \n 45   False           0.995239       1            1              \n 46   False           0.998797       1            1              \n 47   False           0.912301       1            1              \n 48   False           0.982195       1            1              \n 49   False           0.886454       1            1              \n 50   False           0.817480       1            1              \n 51   False           0.996912       1            1              \n 52   False           0.926970       1            1              \n 53   False           0.993467       1            1              \n 54   False           0.465429       0            1              \n 55   False           0.950598       1            1              \n 56   True            0.007638       0            1              \n 57   False           0.954837       1            1              \n 58   False           0.534599       1            1              \n 59   False           0.983512       0            0              \n 60   False           0.612896       1            1              \n 61   False           0.998410       1            1              \n 62   False           0.403650       0            1              \n 63   False           0.945993       0            0              \n 64   False           0.904417       1            1              \n 65   False           0.988115       1            1              \n 66   True            0.414020       1            0              \n 67   False           0.864329       1            1              \n 68   True            0.010041       0            1              \n 69   False           0.956729       1            1              \n 70   False           0.556953       1            1              \n 71   False           0.999755       1            1              \n 72   False           0.895877       1            1              \n 73   False           0.639532       1            1              \n 74   True            0.015542       0            1              \n 75   False           0.901977       1            1              \n 76   False           0.891831       0            0              \n 77   False           0.916651       1            1              \n 78   False           0.992457       1            1              \n 79   False           0.508476       1            1              \n 80   True            0.005290       0            1              \n 81   False           0.987908       1            1              \n 82   False           0.760754       1            1              \n 83   False           0.996464       1            1              \n 84   False           0.958143       1            1              \n 85   False           0.966226       1            1              \n 86   False           0.785738       1            1              \n 87   False           0.854158       0            0              \n 88   False           0.979003       1            1              \n 89   False           0.318109       0            1              \n 90   False           0.999345       1            1              \n 91   False           0.976776       1            1              \n 92   True            0.030621       0            1              \n 93   False           0.987081       1            1              \n 94   False           0.981755       1            1              \n 95   False           0.995393       0            0              \n 96   False           0.998642       1            1              \n 97   False           0.853231       1            1              \n 98   False           0.951169       1            1              \n 99   False           0.997157       1            1              \n 100  False           0.995868       1            1              \n 101  True            0.080827       1            0              \n 102  False           0.997841       1            1              \n 103  False           0.960583       1            1              \n 104  False           0.991599       1            1              \n 105  True            0.045512       0            1              \n 106  False           0.456262       0            1              \n 107  False           0.819678       1            1              \n 108  True            0.100210       1            0              \n 109  False           0.898546       1            1              \n 110  False           0.718688       1            1              \n 111  False           0.973295       1            1              \n 112  False           0.643427       1            1              \n 113  False           0.913786       0            0              \n 114  False           0.628024       1            1              \n 115  False           0.999188       1            1              \n 116  True            0.086903       0            1              \n 117  False           0.923525       1            1              \n 118  True            0.146208       0            1              \n 119  False           0.992678       1            1              \n 120  False           0.530201       0            0              \n 121  False           0.996593       1            1              \n 122  False           0.969642       1            1              \n 123  False           0.581962       1            1              \n 124  True            0.029977       0            1              \n 125  False           0.772809       1            1              \n 126  True            0.103390       1            0              \n 127  False           0.762639       0            0              \n 128  False           0.996743       1            1              \n 129  True            0.081805       0            1              \n 130  True            0.388014       1            0              \n 131  False           0.893715       0            0              \n 132  True            0.238209       1            0              \n 133  False           0.584616       1            1              \n 134  False           0.897696       1            1              \n 135  False           0.998566       1            1              \n 136  False           0.983888       1            1              \n 137  True            0.051355       0            1              \n 138  False           0.949441       1            1              \n 139  False           0.935786       1            1              \n 140  False           0.931867       1            1              \n 141  False           0.504118       1            1              \n 142  True            0.233546       1            0              \n 143  False           0.431400       0            1              \n 144  False           0.961587       1            1              \n 145  False           0.562840       1            1              \n 146  False           0.920464       1            1              \n 147  False           0.993922       1            1              \n 148  True            0.111593       1            0              \n 149  False           0.999539       1            1              \n 150  False           0.992145       1            1              \n 151  False           0.999271       1            1              \n 152  False           0.693716       1            1              \n 153  False           0.722476       1            1              \n 154  False           0.971422       1            1              \n 155  True            0.299657       0            1              \n 156  False           0.982639       1            1              \n 157  True            0.011018       1            0              \n 158  False           0.710088       1            1              \n 159  False           0.999356       1            1              \n 160  False           0.999847       1            1              \n 161  False           0.980990       1            1              \n 162  False           0.998869       1            1              \n 163  False           0.865968       1            1              \n 164  False           0.986881       1            1              \n 165  False           0.992697       1            1              \n 166  False           0.968266       0            0              \n 167  False           0.899497       1            1              \n 168  False           0.987760       1            1              \n 169  True            0.023637       0            1              \n 170  False           0.996365       0            0              \n 171  False           0.979574       1            1              \n 172  False           0.473636       0            1              \n 173  False           0.997021       1            1              \n 174  False           0.342211       0            1              \n 175  True            0.001841       0            1              \n 176  False           0.683022       1            1              \n 177  False           0.980855       1            1              \n 178  False           0.935531       1            1              \n 179  False           0.789333       1            1              \n 180  True            0.133413       0            1              \n 181  True            0.086350       0            1              \n 182  False           0.899806       0            0              \n 183  False           0.998564       1            1              \n 184  False           0.927017       0            0              \n 185  False           0.995876       1            1              \n 186  True            0.026596       0            1              \n 187  False           0.850463       1            1              \n 188  True            0.268142       0            1              \n 189  True            0.203575       1            0              \n 190  True            0.052099       0            1              \n 191  False           0.593480       0            0              \n 192  False           0.493185       0            1              \n 193  False           0.999697       1            1              \n 194  False           0.892030       0            0              \n 195  True            0.027462       0            1              \n 196  False           0.999792       1            1              \n 197  False           0.559517       0            0              \n 198  False           0.994891       1            1              \n 199  False           0.363980       0            1              \n 200  False           0.993908       1            1              \n 201  True            0.147726       1            0              \n 202  False           0.928348       1            1              \n 203  True            0.178779       0            1              \n 204  False           0.999517       1            1              \n 205  True            0.169331       1            0              \n 206  False           0.999887       1            1              \n 207  False           0.849306       1            1              \n 208  True            0.274061       1            0              \n 209  False           0.996436       1            1              \n 210  False           0.999537       1            1              \n 211  False           0.996368       1            1              \n 212  False           0.453029       0            1              \n 213  True            0.007768       0            1              \n 214  False           0.999509       1            1              \n 215  False           0.992837       1            1              \n 216  True            0.271155       1            0              \n 217  False           0.810415       1            1              \n 218  True            0.029254       1            0              \n 219  False           0.993822       1            1              \n 220  False           0.901121       1            1              \n 221  True            0.164190       1            0              \n 222  False           0.542143       1            1              \n 223  False           0.996125       1            1              \n 224  False           0.993157       1            1              \n 225  False           0.871841       1            1              \n 226  True            0.273925       0            1              \n 227  False           0.919760       0            0              \n 228  True            0.005556       0            1              \n 229  True            0.413510       1            0              \n 230  True            0.168950       0            1              \n 231  False           0.992876       1            1              \n 232  False           0.994786       1            1              \n 233  False           0.882395       1            1              \n 234  False           0.999984       1            1              \n 235  True            0.084178       0            1              \n 236  True            0.141465       0            1              \n 237  True            0.047656       0            1              \n 238  False           0.988414       1            1              \n 239  False           0.695894       1            1              \n 240  False           0.809544       0            0              \n 241  False           0.999455       1            1              \n 242  False           0.989978       0            0              \n 243  False           0.998788       1            1              \n 244  False           0.960105       1            1              \n 245  False           0.995907       1            1              \n 246  False           0.996913       1            1              \n 247  False           0.562868       1            1              \n 248  True            0.230955       1            0              \n 249  True            0.019412       0            1              \n 250  False           0.997050       1            1              \n 251  False           0.980738       1            1              \n 252  False           0.972842       0            0              \n 253  False           0.773548       1            1              \n 254  False           0.995727       1            1              \n 255  False           0.972491       1            1              \n 256  False           0.996697       1            1              \n 257  True            0.075985       0            1              \n 258  False           0.983129       1            1              \n 259  False           0.999502       1            1              \n 260  False           0.950535       1            1              \n 261  False           0.758068       1            1              \n 262  True            0.155660       1            0              \n 263  False           0.966967       1            1              \n 264  False           0.998018       1            1              \n 265  False           0.741236       0            0              \n 266  False           0.998955       1            1              \n 267  False           0.947982       1            1              \n 268  False           0.305477       0            1              \n 269  False           0.999027       1            1              \n 270  False           0.998891       1            1              \n 271  False           0.999231       1            1              \n 272  False           0.631147       1            1              \n 273  False           0.452022       0            1              \n 274  False           0.878850       0            0              \n 275  False           0.999717       1            1              \n 276  False           0.989550       1            1              \n 277  False           0.655622       1            1              \n 278  True            0.001594       0            1              \n 279  False           0.968447       1            1              \n 280  False           0.999649       1            1              \n 281  False           0.982742       1            1              \n 282  False           0.981528       1            1              \n 283  False           0.994044       1            1              \n 284  False           0.735801       1            1              \n 285  True            0.099369       1            0              \n 286  True            0.007353       1            0              \n 287  False           0.811766       1            1              \n 288  False           0.990623       1            1              \n 289  False           0.851816       0            0              \n 290  False           0.999456       1            1              \n 291  False           0.841339       0            0              \n 292  False           0.529342       1            1              \n 293  False           0.859573       1            1              \n 294  False           0.692868       1            1              \n 295  False           0.975127       0            0              \n 296  False           0.901398       1            1              \n 297  False           0.927071       1            1              \n 298  False           0.968505       1            1              \n 299  False           0.996838       1            1              \n 300  False           0.998847       1            1              \n 301  True            0.005854       0            1              \n 302  True            0.104905       0            1              \n 303  False           0.802463       1            1              \n 304  False           0.450658       0            1              \n 305  False           0.998529       1            1              \n 306  False           0.997151       1            1              \n 307  False           0.929241       0            0              \n 308  True            0.018682       0            1              \n 309  False           0.940326       1            1              \n 310  False           0.860626       1            1              \n 311  False           0.878307       1            1              \n 312  False           0.833068       1            1              \n 313  False           0.932155       0            0              \n 314  False           0.998415       1            1              \n 315  False           0.952777       0            0              \n 316  False           0.534315       1            1              \n 317  False           0.722455       1            1              \n 318  False           0.936087       1            1              \n 319  False           0.988107       1            1              \n 320  False           0.959507       0            0              \n 321  False           0.933827       0            0              \n 322  False           0.978370       1            1              \n 323  False           0.844456       1            1              \n 324  False           0.979638       1            1              \n 325  False           0.999739       1            1              \n 326  False           0.984521       1            1              \n 327  False           0.998865       1            1              \n 328  False           0.828890       1            1              \n 329  False           0.921393       1            1              \n 330  False           0.876854       1            1              \n 331  True            0.021791       0            1              \n 332  False           0.984849       0            0              \n 333  False           0.413495       0            1              \n 334  False           0.948948       0            0              \n 335  True            0.000186       0            1              \n 336  False           0.679605       1            1              \n 337  False           0.808293       0            0              \n 338  True            0.200920       1            0              \n 339  True            0.172779       1            0              \n 340  True            0.012113       1            0              \n 341  False           0.876301       1            1              \n 342  True            0.328200       1            0              \n 343  True            0.358081       1            0              \n 344  False           0.952216       1            1              \n 345  False           0.999704       1            1              \n 346  False           0.867468       1            1              \n 347  False           0.949172       1            1              \n 348  False           0.997948       1            1              \n 349  False           0.741090       0            0              \n 350  False           0.950999       1            1              \n 351  False           0.491320       0            1              \n 352  False           0.999965       1            1              \n 353  False           0.525269       0            0              \n 354  False           0.922396       1            1              \n 355  False           0.943302       0            0              \n 356  False           0.999361       1            1              \n 357  False           0.465950       0            1              \n 358  False           0.976076       1            1              \n 359  False           0.962690       0            0              \n 360  True            0.078817       1            0              \n 361  False           0.975072       1            1              \n 362  False           0.882847       1            1              \n 363  False           0.986250       1            1              \n 364  True            0.217382       0            1              \n 365  False           0.999086       1            1              \n 366  False           0.999967       1            1              \n 367  True            0.276022       1            0              \n 368  False           0.930247       0            0              \n 369  False           0.917149       1            1              \n 370  False           0.992989       1            1              \n 371  False           0.998473       1            1              \n 372  False           0.915182       1            1              \n 373  True            0.306406       1            0              \n 374  False           0.919126       0            0              \n 375  False           0.587358       0            0              \n 376  False           0.854461       1            1              \n 377  False           0.998975       1            1              \n 378  False           0.973560       0            0              \n 379  False           0.998942       1            1              \n 380  False           0.518301       1            1              \n 381  False           0.879347       0            0              \n 382  False           0.896040       1            1              \n 383  False           0.850074       1            1              \n 384  False           0.713957       1            1              \n 385  False           0.988687       1            1              \n 386  False           0.967445       1            1              \n 387  False           0.651377       1            1              \n 388  False           0.984777       1            1              \n 389  False           0.666561       1            1              \n 390  False           0.844119       1            1              \n 391  False           0.888345       1            1              \n 392  False           0.600615       1            1              \n 393  False           0.999387       1            1              \n 394  False           0.990426       1            1              \n 395  True            0.421555       1            0              \n 396  True            0.369041       1            0              \n 397  True            0.386982       1            0              \n 398  True            0.132417       0            1              \n 399  False           0.997459       1            1              \n 400  False           0.996740       1            1              \n 401  True            0.319317       1            0              \n 402  False           0.547814       0            0              \n 403  False           0.679869       1            1              \n 404  False           0.869916       1            1              \n 405  True            0.130013       0            1              \n 406  False           0.999939       1            1              \n 407  True            0.483709       1            0              \n 408  False           0.954929       1            1              \n 409  True            0.011240       0            1              \n 410  True            0.322002       1            0              \n 411  False           0.997929       1            1              \n 412  True            0.004194       0            1              \n 413  False           0.816548       1            1              \n 414  False           0.925663       0            0              \n 415  False           0.999750       1            1              \n 416  True            0.027933       0            1              \n 417  True            0.222675       1            0              \n 418  False           0.996690       1            1              \n 419  False           0.592567       0            0              \n 420  False           0.986032       1            1              \n 421  False           0.995930       1            1              \n 422  False           0.814248       1            1              \n 423  False           0.903231       1            1              \n 424  True            0.005224       0            1              \n 425  False           0.975147       1            1              \n 426  False           0.999068       1            1              \n 427  False           0.999253       1            1              \n 428  False           0.938156       1            1              \n 429  False           0.588370       0            0              \n 430  False           0.999810       1            1              \n 431  False           0.734814       0            0              \n 432  False           0.934917       1            1              \n 433  False           0.739641       1            1              \n 434  False           0.644306       1            1              \n 435  True            0.004879       0            1              \n 436  False           0.980645       1            1              \n 437  False           0.998560       1            1              \n 438  True            0.222661       1            0              \n 439  False           0.392251       0            1              \n 440  False           0.989325       1            1              \n 441  False           0.858356       1            1              \n 442  False           0.935817       1            1              \n 443  False           0.763358       0            0              \n 444  False           0.560327       0            0              \n 445  False           0.988657       1            1              \n 446  False           0.988482       0            0              \n 447  False           0.998221       1            1              \n 448  False           0.981615       1            1              \n 449  True            0.038724       0            1              \n 450  False           0.829096       1            1              \n 451  False           0.997568       1            1              \n 452  False           0.985740       1            1              \n 453  False           0.999469       1            1              \n 454  False           0.361690       0            1              \n 455  False           0.994845       1            1              \n 456  False           0.956820       1            1              \n 457  True            0.191372       0            1              \n 458  False           0.860719       1            1              \n 459  False           0.743240       1            1              \n 460  False           0.949507       1            1              \n 461  False           0.874396       1            1              \n 462  False           0.799093       1            1              \n 463  True            0.230933       1            0              \n 464  False           0.617937       1            1              \n 465  False           0.860552       1            1              \n 466  False           0.589747       0            0              \n 467  False           0.925911       1            1              \n 468  False           0.880499       1            1              \n 469  False           0.996181       1            1              \n 470  True            0.143511       0            1              \n 471  False           0.341281       0            1              \n 472  False           0.629966       0            0              \n 473  False           0.998393       1            1              \n 474  False           0.748619       0            0              \n 475  False           0.528092       0            0              \n 476  False           0.993543       1            1              \n 477  False           0.680837       1            1              \n 478  False           0.880752       1            1              \n 479  False           0.961482       1            1              \n 480  False           0.979906       1            1              \n 481  True            0.312913       1            0              \n 482  True            0.458125       1            0              \n 483  False           0.975833       1            1              \n 484  False           0.998176       1            1              \n 485  True            0.031634       0            1              \n 486  False           0.999164       1            1              \n 487  False           0.708128       1            1              \n 488  False           0.991588       1            1              \n 489  False           0.970916       1            1              \n 490  False           0.968607       1            1              \n 491  False           0.967896       0            0              \n 492  False           0.998992       1            1              \n 493  False           0.994572       1            1              \n 494  False           0.904905       1            1              \n 495  True            0.034992       0            1              \n 496  True            0.146464       0            1              \n 497  False           0.999611       1            1              \n 498  False           0.993486       1            1              \n 499  False           0.967247       1            1              \n 500  True            0.224036       0            1              \n 501  True            0.192471       1            0              \n 502  False           0.976414       1            1              \n 503  False           0.685882       0            0              \n 504  False           0.962748       0            0              \n 505  True            0.003197       0            1              \n 506  False           0.999527       1            1              \n 507  True            0.097315       0            1              \n 508  False           0.958153       1            1              \n 509  False           0.905446       1            1              \n 510  False           0.977089       0            0              \n 511  False           0.996009       1            1              \n 512  False           0.996011       1            1              \n 513  False           0.745691       1            1              \n 514  False           0.972505       1            1              \n 515  False           0.969808       1            1              \n 516  False           0.997564       1            1              \n 517  True            0.016251       0            1              \n 518  False           0.918683       1            1              \n 519  False           0.994342       1            1              \n 520  False           0.988335       1            1              \n 521  True            0.048387       0            1              \n 522  False           0.995811       0            0              \n 523  False           0.996481       1            1              \n 524  False           0.959766       1            1              \n 525  True            0.341884       1            0              \n 526  False           0.912626       1            1              \n 527  False           0.999546       1            1              \n 528  False           0.810504       0            0              \n 529  False           0.961702       1            1              \n 530  False           0.947110       1            1              \n 531  True            0.141215       0            1              \n 532  False           0.993749       1            1              \n 533  False           0.998859       1            1              \n 534  False           0.830863       1            1              \n 535  True            0.011810       0            1              \n 536  False           0.937122       1            1              \n 537  False           0.945402       1            1              \n 538  False           0.877662       0            0              \n 539  False           0.958928       1            1              \n 540  True            0.172728       0            1              \n 541  True            0.360774       1            0              \n 542  True            0.113867       0            1              \n 543  True            0.004929       0            1              \n 544  False           0.996965       1            1              \n 545  False           0.974835       0            0              \n 546  False           0.978531       1            1              \n 547  False           0.991381       1            1              \n 548  False           0.359161       0            1              \n 549  False           0.998155       1            1              \n 550  False           0.995642       1            1              \n 551  False           0.992290       1            1              \n 552  True            0.097359       0            1              \n 553  False           0.883785       1            1              \n 554  False           0.832034       1            1              \n 555  False           0.345903       0            1              \n 556  True            0.219278       0            1              \n 557  True            0.201641       0            1              \n 558  True            0.015078       0            1              \n 559  False           0.406884       0            1              \n 560  True            0.417966       1            0              \n 561  True            0.175564       0            1              \n 562  False           0.850096       1            1              \n 563  False           0.465253       0            1              \n 564  False           0.733531       1            1              \n 565  False           0.775456       1            1              \n 566  True            0.276662       0            1              \n 567  False           0.999122       1            1              \n 568  False           0.747648       1            1              \n 569  False           0.866931       0            0              \n 570  False           0.428399       0            1              \n 571  False           0.993270       1            1              \n 572  False           0.991342       1            1              \n 573  True            0.206179       1            0              \n 574  False           0.852608       1            1              \n 575  False           0.909236       1            1              \n 576  False           0.997199       1            1              \n 577  False           0.520526       1            1              \n 578  False           0.600057       0            0              \n 579  False           0.549735       1            1              \n 580  False           0.300807       0            1              \n 581  False           0.972057       1            1              \n 582  False           0.692955       1            1              \n 583  True            0.276686       0            1              \n 584  False           0.954317       1            1              \n 585  False           0.882724       0            0              \n 586  False           0.925481       1            1              \n 587  False           0.995084       1            1              \n 588  False           0.306682       0            1              \n 589  True            0.026559       0            1              \n 590  False           0.982901       1            1              \n 591  False           0.966647       1            1              \n 592  False           0.969638       1            1              \n 593  False           0.466874       0            1              \n 594  False           0.315227       0            1              \n 595  False           0.432655       0            1              \n 596  False           0.932908       0            0              \n 597  True            0.103103       0            1              \n 598  True            0.069010       0            1              \n 599  False           0.976145       1            1              \n 600  False           0.994703       1            1              \n 601  True            0.274969       0            1              \n 602  False           0.794960       0            0              \n 603  True            0.210488       0            1              \n 604  True            0.361693       1            0              \n 605  True            0.043659       1            0              \n 606  False           0.551690       1            1              \n 607  True            0.175187       0            1              \n 608  False           0.890477       1            1              \n 609  False           0.998677       1            1              \n 610  False           0.897695       0            0              \n 611  True            0.006077       0            1              \n 612  False           0.538029       1            1              \n 613  False           0.760902       1            1              \n 614  False           0.595072       0            0              \n 615  False           0.540999       1            1              \n 616  True            0.324582       1            0              \n 617  False           0.988294       1            1              \n 618  True            0.209092       0            1              \n 619  False           0.981339       1            1              \n 620  False           0.997459       1            1              \n 621  False           0.538691       0            0              \n 622  True            0.024851       0            1              \n 623  False           0.795261       1            1              \n 624  False           0.478853       0            1              \n 625  False           0.998608       1            1              \n 626  False           0.986380       1            1              \n 627  False           0.616682       0            0              \n 628  False           0.992612       1            1              \n 629  False           0.992511       1            1              \n 630  False           0.725920       1            1              \n 631  False           0.915408       0            0              \n 632  False           0.610257       1            1              \n 633  True            0.150935       0            1              \n 634  False           0.979904       0            0              \n 635  False           0.973621       1            1              \n 636  False           0.998670       1            1              \n 637  True            0.380209       1            0              \n 638  False           0.962350       1            1              \n 639  False           0.701500       0            0              \n 640  False           0.966413       0            0              \n 641  False           0.868044       1            1              \n 642  True            0.160574       0            1              \n 643  False           0.996069       1            1              \n 644  False           0.913221       1            1              \n 645  True            0.210262       0            1              \n 646  True            0.162241       1            0              \n 647  True            0.017899       0            1              \n 648  False           0.983732       0            0              \n 649  False           0.628981       0            0              \n 650  True            0.091110       1            0              \n 651  True            0.095375       0            1              \n 652  False           0.785938       0            0              \n 653  True            0.118758       0            1              \n 654  False           0.999946       1            1              \n 655  False           0.622554       1            1              \n 656  False           0.956786       0            0              \n 657  False           0.997055       1            1              \n 658  True            0.385479       1            0              \n 659  False           0.792919       1            1              \n 660  True            0.459254       1            0              \n 661  False           0.832276       0            0              \n 662  False           0.977642       1            1              \n 663  False           0.698299       1            1              \n 664  False           0.891638       1            1              \n 665  True            0.304612       1            0              \n 666  False           0.714083       1            1              \n 667  False           0.714851       1            1              \n 668  False           0.441665       0            1              \n 669  False           0.993407       1            1              \n 670  False           0.895842       1            1              \n 671  False           0.982291       1            1              \n 672  False           0.901170       1            1              \n 673  False           0.996318       1            1              \n 674  False           0.334049       0            1              \n 675  False           0.907428       1            1              \n 676  False           0.986537       1            1              \n 677  False           0.519877       0            0              \n 678  True            0.061978       1            0              \n 679  False           0.907199       1            1              \n 680  False           0.977736       1            1              \n 681  False           0.999289       1            1              \n 682  False           0.959629       1            1              \n 683  False           0.940421       1            1              \n 684  False           0.912281       1            1              \n 685  False           0.950612       1            1              \n 686  False           0.935773       1            1              \n 687  False           0.851440       1            1              \n 688  False           0.990448       1            1              \n 689  False           0.814340       1            1              \n 690  False           0.971567       1            1              \n 691  True            0.270222       1            0              \n 692  False           0.825317       1            1              \n 693  False           0.965746       1            1              \n 694  False           0.989435       1            1              \n 695  False           0.999515       1            1              \n 696  False           0.973888       1            1              \n 697  False           0.983977       1            1              \n 698  False           0.985395       1            1              \n 699  False           0.941843       1            1              \n 700  True            0.017249       0            1              \n 701  True            0.295006       0            1              \n 702  False           0.958705       1            1              \n 703  True            0.461914       1            0              \n 704  False           0.650854       1            1              \n 705  False           0.986732       1            1              \n 706  False           0.828954       0            0              \n 707  False           0.941295       0            0              \n 708  True            0.230823       1            0              \n 709  False           0.956065       1            1              \n 710  False           0.838848       1            1              \n 711  False           0.908801       0            0              \n 712  False           0.998511       1            1              \n 713  False           0.937854       1            1              \n 714  False           0.992685       0            0              \n 715  False           0.996421       1            1              \n 716  False           0.999081       1            1              \n 717  False           0.978181       1            1              \n 718  False           0.961905       1            1              \n 719  False           0.910138       1            1              \n 720  False           0.678145       0            0              \n 721  False           0.928156       0            0              \n 722  False           0.805854       0            0              \n 723  True            0.363550       1            0              \n 724  False           0.565101       0            0              \n 725  False           0.958053       1            1              \n 726  False           0.993966       1            1              \n 727  False           0.493325       0            1              \n 728  False           0.988997       0            0              \n 729  False           0.866082       1            1              \n 730  False           0.922633       1            1              \n 731  False           0.828006       0            0              \n 732  False           0.983271       1            1              \n 733  False           0.994616       1            1              \n 734  False           0.999612       1            1              \n 735  True            0.114277       1            0              \n 736  False           0.804774       0            0              \n 737  False           0.536988       1            1              \n 738  False           0.982949       1            1              \n 739  False           0.993830       0            0              \n 740  True            0.044581       1            0              \n 741  False           0.704787       1            1              \n 742  False           0.998847       1            1              \n 743  True            0.017085       1            0              \n 744  False           0.823978       1            1              \n 745  False           0.990959       1            1              \n 746  True            0.236322       1            0              \n 747  True            0.043777       0            1              \n 748  False           0.999277       1            1              \n 749  False           0.999683       1            1              \n 750  False           0.991507       1            1              \n 751  True            0.092467       0            1              \n 752  False           0.956028       1            1              \n 753  False           0.968023       1            1              \n 754  True            0.000406       0            1              \n 755  False           0.978188       0            0              \n 756  False           0.992127       1            1              \n 757  True            0.006795       0            1              \n 758  False           0.992835       1            1              \n 759  False           0.424321       0            1              \n 760  False           0.974881       1            1              \n 761  False           0.424168       0            1              \n 762  False           0.569700       1            1              \n 763  True            0.127667       0            1              \n 764  False           0.946739       1            1              \n 765  False           0.970575       1            1              \n 766  False           0.426656       0            1              \n 767  False           0.998716       1            1              \n 768  False           0.970393       1            1              \n 769  False           0.999204       1            1              \n 770  False           0.826420       1            1              \n 771  False           0.844664       0            0              \n 772  False           0.999800       1            1              \n 773  False           0.902767       1            1              \n 774  False           0.872440       1            1              \n 775  False           0.977346       0            0              \n 776  False           0.999015       1            1              \n 777  False           0.956055       1            1              \n 778  False           0.999613       1            1              \n 779  False           0.879573       1            1              \n 780  True            0.169173       0            1              \n 781  False           0.999346       1            1              \n 782  True            0.437571       1            0              \n 783  False           0.755509       0            0              \n 784  False           0.826095       1            1              \n 785  False           0.787830       1            1              \n 786  False           0.998328       1            1              \n 787  False           0.999703       1            1              \n 788  False           0.947812       0            0              \n 789  False           0.778340       0            0              \n 790  True            0.113109       0            1              \n 791  False           0.997000       1            1              \n 792  False           0.996385       1            1              \n 793  False           0.784543       1            1              \n 794  False           0.995904       1            1              \n 795  False           0.849232       1            1              \n 796  True            0.094186       0            1              \n 797  False           0.889840       1            1              \n 798  False           0.996055       1            1              \n 799  False           0.957458       1            1              \n 800  False           0.915588       1            1              \n 801  False           0.943441       1            1              \n 802  False           0.618283       1            1              \n 803  False           0.991613       1            1              \n 804  False           0.805504       1            1              \n 805  False           0.929137       0            0              \n 806  False           0.993847       1            1              \n 807  False           0.999326       1            1              \n 808  True            0.076620       1            0              \n 809  False           0.465389       0            1              \n 810  False           0.949437       1            1              \n 811  False           0.990796       1            1              \n 812  False           0.714248       0            0              \n 813  False           0.855334       0            0              \n 814  False           0.859116       0            0              \n 815  True            0.055358       1            0              \n 816  False           0.997009       1            1              \n 817  False           0.999014       1            1              \n 818  True            0.003162       1            0              \n 819  False           0.680179       0            0              \n 820  False           0.997059       1            1              \n 821  False           0.987998       1            1              \n 822  False           0.417928       0            1              \n 823  False           0.987104       1            1              \n 824  False           0.993665       1            1              \n 825  True            0.036700       1            0              \n 826  False           0.404206       0            1              \n 827  False           0.536763       0            0              \n 828  False           0.807763       0            0              \n 829  False           0.898936       1            1              \n 830  False           0.961117       1            1              \n 831  False           0.994981       0            0              \n 832  False           0.988963       0            0              \n 833  False           0.918953       1            1              \n 834  True            0.011447       0            1              \n 835  False           0.798895       0            0              \n 836  True            0.444172       1            0              \n 837  False           0.984207       1            1              \n 838  False           0.997035       1            1              \n 839  False           0.999773       1            1              \n 840  False           0.570784       0            0              \n 841  False           0.975494       1            1              \n 842  True            0.041076       0            1              \n 843  False           0.863431       1            1              \n 844  False           0.994979       1            1              \n 845  False           0.999183       1            1              \n 846  True            0.056089       0            1              \n 847  False           0.964052       1            1              \n 848  False           0.985679       1            1              \n 849  True            0.111187       0            1              \n 850  False           0.759683       0            0              \n 851  False           0.999925       1            1              \n 852  False           0.997233       1            1              \n 853  False           0.997064       0            0              \n 854  False           0.810405       1            1              \n 855  False           0.984687       1            1              \n 856  False           0.998051       1            1              \n 857  False           0.952438       1            1              \n 858  False           0.587084       0            0              \n 859  False           0.997582       1            1              \n 860  False           0.999341       1            1              \n 861  True            0.016551       0            1              \n 862  False           0.532754       0            0              \n 863  False           0.758463       1            1              \n 864  True            0.003157       0            1              \n 865  False           0.857596       1            1              \n 866  True            0.476758       1            0              \n 867  False           0.951827       1            1              \n 868  False           0.955732       1            1              \n 869  True            0.046208       1            0              \n 870  False           0.967607       1            1              \n 871  False           0.988284       1            1              \n 872  False           0.850420       1            1              \n 873  False           0.988961       1            1              \n 874  False           0.956312       1            1              \n 875  False           0.782094       1            1              \n 876  True            0.015175       1            0              \n 877  False           0.982825       1            1              \n 878  True            0.279222       0            1              \n 879  False           0.999356       1            1              \n 880  False           0.991701       1            1              \n 881  False           0.763871       1            1              \n 882  False           0.969004       1            1              \n 883  False           0.998724       1            1              \n 884  True            0.081139       0            1              \n 885  False           0.479961       0            1              \n 886  False           0.991717       1            1              \n 887  False           0.980782       0            0              \n 888  False           0.855610       1            1              \n 889  True            0.392091       1            0              \n 890  True            0.450493       1            0              \n 891  False           0.999523       1            1              \n 892  False           0.927692       1            1              \n 893  False           0.939232       1            1              \n 894  False           0.998924       1            1              \n 895  False           0.994439       1            1              \n 896  True            0.306555       1            0              \n 897  False           0.989788       1            1              \n 898  False           0.994658       1            1              \n 899  False           0.450944       0            1              \n 900  True            0.093644       0            1              \n 901  False           0.999248       1            1              \n 902  False           0.979645       1            1              \n 903  False           0.994636       1            1              \n 904  False           0.998725       1            1              \n 905  False           0.903437       1            1              \n 906  False           0.863769       1            1              \n 907  False           0.931224       1            1              \n 908  False           0.995836       1            1              \n 909  False           0.922947       1            1              \n 910  True            0.457745       1            0              \n 911  True            0.126721       0            1              \n 912  False           0.680274       1            1              \n 913  False           0.999466       1            1              \n 914  False           0.766848       0            0              \n 915  False           0.648354       0            0              \n 916  False           0.999287       1            1              \n 917  False           0.878311       0            0              \n 918  False           0.631615       0            0              \n 919  False           0.630307       0            0              \n 920  False           0.832792       1            1              \n 921  False           0.978995       1            1              \n 922  False           0.539736       0            0              \n 923  False           0.936781       1            1              \n 924  False           0.923922       0            0              \n 925  False           0.923090       0            0              \n 926  True            0.482620       1            0              \n 927  False           0.696319       0            0              \n 928  False           0.999520       1            1              \n 929  True            0.042150       1            0              \n 930  True            0.393969       1            0              \n 931  True            0.142327       0            1              \n 932  False           0.986536       1            1              \n 933  False           0.996626       1            1              \n 934  False           0.896864       1            1              \n 935  False           0.673859       0            0              \n 936  True            0.079462       0            1              \n 937  False           0.766526       1            1              \n 938  False           0.983246       0            0              \n 939  False           0.999143       1            1              \n 940  False           0.987210       1            1              \n 941  False           0.998131       1            1              \n 942  False           0.961419       1            1              \n 943  False           0.999172       1            1              \n 944  False           0.993827       1            1              \n 945  False           0.637630       1            1              \n 946  False           0.390697       0            1              \n 947  False           0.987970       1            1              \n 948  True            0.060512       0            1              \n 949  True            0.000276       0            1              \n 950  False           0.921092       1            1              \n 951  False           0.672464       0            0              \n 952  True            0.025492       0            1              \n 953  False           0.994891       0            0              \n 954  False           0.947686       1            1              \n 955  False           0.783252       1            1              \n 956  False           0.996067       1            1              \n 957  False           0.994412       1            1              \n 958  False           0.637962       0            0              \n 959  False           0.946174       1            1              \n 960  False           0.998722       1            1              \n 961  True            0.078918       1            0              \n 962  False           0.982522       1            1              \n 963  True            0.002224       0            1              \n 964  False           0.919831       1            1              \n 965  False           0.872127       1            1              \n 966  True            0.028713       0            1              \n 967  False           0.943196       1            1              \n 968  False           0.952299       1            1              \n 969  False           0.997828       1            1              \n 970  False           0.968296       1            1              \n 971  False           0.835281       1            1              \n 972  False           0.998843       0            0              \n 973  False           0.994602       0            0              \n 974  False           0.997941       1            1              \n 975  True            0.452157       1            0              \n 976  False           0.994662       1            1              \n 977  False           0.947313       1            1              \n 978  True            0.018901       0            1              \n 979  False           0.937421       0            0              \n 980  True            0.003035       0            1              \n 981  True            0.190436       0            1              \n 982  False           0.747651       1            1              \n 983  False           0.394171       0            1              \n 984  False           0.979802       1            1              \n 985  False           0.940715       1            1              \n 986  True            0.352452       1            0              \n 987  False           0.998886       1            1              \n 988  False           0.912265       1            1              \n 989  False           0.796986       1            1              \n 990  False           0.969268       1            1              \n 991  False           0.939570       1            1              \n 992  False           0.639967       1            1              \n 993  True            0.105384       1            0              \n 994  False           0.998248       1            1              \n 995  False           0.995562       1            1              \n 996  False           0.788997       1            1              \n 997  False           0.996626       1            1              \n 998  False           0.964832       0            0              \n 999  False           0.864109       1            1              ,\n      is_label_issue  label_quality  given_label  predicted_label\n 3    True            0.405909       1            0              \n 14   True            0.174067       1            0              \n 17   True            0.226138       1            0              \n 36   True            0.155259       1            0              \n 44   True            0.196956       0            1              \n 56   True            0.007638       0            1              \n 66   True            0.414020       1            0              \n 68   True            0.010041       0            1              \n 74   True            0.015542       0            1              \n 80   True            0.005290       0            1              \n 92   True            0.030621       0            1              \n 101  True            0.080827       1            0              \n 105  True            0.045512       0            1              \n 108  True            0.100210       1            0              \n 116  True            0.086903       0            1              \n 118  True            0.146208       0            1              \n 124  True            0.029977       0            1              \n 126  True            0.103390       1            0              \n 129  True            0.081805       0            1              \n 130  True            0.388014       1            0              \n 132  True            0.238209       1            0              \n 137  True            0.051355       0            1              \n 142  True            0.233546       1            0              \n 148  True            0.111593       1            0              \n 155  True            0.299657       0            1              \n 157  True            0.011018       1            0              \n 169  True            0.023637       0            1              \n 175  True            0.001841       0            1              \n 180  True            0.133413       0            1              \n 181  True            0.086350       0            1              \n 186  True            0.026596       0            1              \n 188  True            0.268142       0            1              \n 189  True            0.203575       1            0              \n 190  True            0.052099       0            1              \n 195  True            0.027462       0            1              \n 201  True            0.147726       1            0              \n 203  True            0.178779       0            1              \n 205  True            0.169331       1            0              \n 208  True            0.274061       1            0              \n 213  True            0.007768       0            1              \n 216  True            0.271155       1            0              \n 218  True            0.029254       1            0              \n 221  True            0.164190       1            0              \n 226  True            0.273925       0            1              \n 228  True            0.005556       0            1              \n 229  True            0.413510       1            0              \n 230  True            0.168950       0            1              \n 235  True            0.084178       0            1              \n 236  True            0.141465       0            1              \n 237  True            0.047656       0            1              \n 248  True            0.230955       1            0              \n 249  True            0.019412       0            1              \n 257  True            0.075985       0            1              \n 262  True            0.155660       1            0              \n 278  True            0.001594       0            1              \n 285  True            0.099369       1            0              \n 286  True            0.007353       1            0              \n 301  True            0.005854       0            1              \n 302  True            0.104905       0            1              \n 308  True            0.018682       0            1              \n 331  True            0.021791       0            1              \n 335  True            0.000186       0            1              \n 338  True            0.200920       1            0              \n 339  True            0.172779       1            0              \n 340  True            0.012113       1            0              \n 342  True            0.328200       1            0              \n 343  True            0.358081       1            0              \n 360  True            0.078817       1            0              \n 364  True            0.217382       0            1              \n 367  True            0.276022       1            0              \n 373  True            0.306406       1            0              \n 395  True            0.421555       1            0              \n 396  True            0.369041       1            0              \n 397  True            0.386982       1            0              \n 398  True            0.132417       0            1              \n 401  True            0.319317       1            0              \n 405  True            0.130013       0            1              \n 407  True            0.483709       1            0              \n 409  True            0.011240       0            1              \n 410  True            0.322002       1            0              \n 412  True            0.004194       0            1              \n 416  True            0.027933       0            1              \n 417  True            0.222675       1            0              \n 424  True            0.005224       0            1              \n 435  True            0.004879       0            1              \n 438  True            0.222661       1            0              \n 449  True            0.038724       0            1              \n 457  True            0.191372       0            1              \n 463  True            0.230933       1            0              \n 470  True            0.143511       0            1              \n 481  True            0.312913       1            0              \n 482  True            0.458125       1            0              \n 485  True            0.031634       0            1              \n 495  True            0.034992       0            1              \n 496  True            0.146464       0            1              \n 500  True            0.224036       0            1              \n 501  True            0.192471       1            0              \n 505  True            0.003197       0            1              \n 507  True            0.097315       0            1              \n 517  True            0.016251       0            1              \n 521  True            0.048387       0            1              \n 525  True            0.341884       1            0              \n 531  True            0.141215       0            1              \n 535  True            0.011810       0            1              \n 540  True            0.172728       0            1              \n 541  True            0.360774       1            0              \n 542  True            0.113867       0            1              \n 543  True            0.004929       0            1              \n 552  True            0.097359       0            1              \n 556  True            0.219278       0            1              \n 557  True            0.201641       0            1              \n 558  True            0.015078       0            1              \n 560  True            0.417966       1            0              \n 561  True            0.175564       0            1              \n 566  True            0.276662       0            1              \n 573  True            0.206179       1            0              \n 583  True            0.276686       0            1              \n 589  True            0.026559       0            1              \n 597  True            0.103103       0            1              \n 598  True            0.069010       0            1              \n 601  True            0.274969       0            1              \n 603  True            0.210488       0            1              \n 604  True            0.361693       1            0              \n 605  True            0.043659       1            0              \n 607  True            0.175187       0            1              \n 611  True            0.006077       0            1              \n 616  True            0.324582       1            0              \n 618  True            0.209092       0            1              \n 622  True            0.024851       0            1              \n 633  True            0.150935       0            1              \n 637  True            0.380209       1            0              \n 642  True            0.160574       0            1              \n 645  True            0.210262       0            1              \n 646  True            0.162241       1            0              \n 647  True            0.017899       0            1              \n 650  True            0.091110       1            0              \n 651  True            0.095375       0            1              \n 653  True            0.118758       0            1              \n 658  True            0.385479       1            0              \n 660  True            0.459254       1            0              \n 665  True            0.304612       1            0              \n 678  True            0.061978       1            0              \n 691  True            0.270222       1            0              \n 700  True            0.017249       0            1              \n 701  True            0.295006       0            1              \n 703  True            0.461914       1            0              \n 708  True            0.230823       1            0              \n 723  True            0.363550       1            0              \n 735  True            0.114277       1            0              \n 740  True            0.044581       1            0              \n 743  True            0.017085       1            0              \n 746  True            0.236322       1            0              \n 747  True            0.043777       0            1              \n 751  True            0.092467       0            1              \n 754  True            0.000406       0            1              \n 757  True            0.006795       0            1              \n 763  True            0.127667       0            1              \n 780  True            0.169173       0            1              \n 782  True            0.437571       1            0              \n 790  True            0.113109       0            1              \n 796  True            0.094186       0            1              \n 808  True            0.076620       1            0              \n 815  True            0.055358       1            0              \n 818  True            0.003162       1            0              \n 825  True            0.036700       1            0              \n 834  True            0.011447       0            1              \n 836  True            0.444172       1            0              \n 842  True            0.041076       0            1              \n 846  True            0.056089       0            1              \n 849  True            0.111187       0            1              \n 861  True            0.016551       0            1              \n 864  True            0.003157       0            1              \n 866  True            0.476758       1            0              \n 869  True            0.046208       1            0              \n 876  True            0.015175       1            0              \n 878  True            0.279222       0            1              \n 884  True            0.081139       0            1              \n 889  True            0.392091       1            0              \n 890  True            0.450493       1            0              \n 896  True            0.306555       1            0              \n 900  True            0.093644       0            1              \n 910  True            0.457745       1            0              \n 911  True            0.126721       0            1              \n 926  True            0.482620       1            0              \n 929  True            0.042150       1            0              \n 930  True            0.393969       1            0              \n 931  True            0.142327       0            1              \n 936  True            0.079462       0            1              \n 948  True            0.060512       0            1              \n 949  True            0.000276       0            1              \n 952  True            0.025492       0            1              \n 961  True            0.078918       1            0              \n 963  True            0.002224       0            1              \n 966  True            0.028713       0            1              \n 975  True            0.452157       1            0              \n 978  True            0.018901       0            1              \n 980  True            0.003035       0            1              \n 981  True            0.190436       0            1              \n 986  True            0.352452       1            0              \n 993  True            0.105384       1            0              ,\n 200)"
     },
     "execution_count": 62,
     "metadata": {},
     "output_type": "execute_result"
    }
   ],
   "source": [
    "from scipy.io.arff import loadarff\n",
    "\n",
    "raw_data = loadarff('datasets/dataset_31_credit-g.arff')\n",
    "df_data = pd.DataFrame(raw_data[0])\n",
    "#df_data.drop(columns=['checking_status', 'savings_status', 'employment'], inplace=True)\n",
    "encdoded_data = encode_categorical_columns(df_data, 'class', None)\n",
    "# pred_probs, labels = wrong_label(encdoded_data, 'class')\n",
    "\n",
    "wrong_label(encdoded_data, 'class')\n",
    "\n",
    "# cl = cleanlab.classification.CleanLearning()\n",
    "# issues_dataframe = cl.find_label_issues(X=None, labels=labels, pred_probs=pred_probs, return_indices_ranked_by='self_confidence')\n",
    "# print(issues_dataframe)"
   ],
   "metadata": {
    "collapsed": false
   }
  },
  {
   "cell_type": "code",
   "execution_count": 63,
   "outputs": [
    {
     "name": "stdout",
     "output_type": "stream",
     "text": [
      "   Id  SepalLengthCm  SepalWidthCm  PetalLengthCm  PetalWidthCm      Species\n",
      "0  1   5.1            3.5           1.4            0.2           Iris-setosa\n",
      "1  2   4.9            3.0           1.4            0.2           Iris-setosa\n",
      "2  3   4.7            3.2           1.3            0.2           Iris-setosa\n",
      "3  4   4.6            3.1           1.5            0.2           Iris-setosa\n",
      "4  5   5.0            3.6           1.4            0.2           Iris-setosa\n"
     ]
    },
    {
     "ename": "ValueError",
     "evalue": "Value of 'color' is not the name of a column in 'data_frame'. Expected one of ['Id', 'SepalLengthCm', 'SepalWidthCm', 'PetalLengthCm', 'PetalWidthCm', 'Species_Iris-setosa', 'Species_Iris-versicolor', 'Species_Iris-virginica'] but received: target",
     "output_type": "error",
     "traceback": [
      "\u001B[1;31m---------------------------------------------------------------------------\u001B[0m",
      "\u001B[1;31mValueError\u001B[0m                                Traceback (most recent call last)",
      "\u001B[1;32m~\\AppData\\Local\\Temp\\ipykernel_21720\\2078612694.py\u001B[0m in \u001B[0;36m<cell line: 19>\u001B[1;34m()\u001B[0m\n\u001B[0;32m     17\u001B[0m \u001B[1;33m\u001B[0m\u001B[0m\n\u001B[0;32m     18\u001B[0m \u001B[0mdf_encoded\u001B[0m \u001B[1;33m=\u001B[0m \u001B[0mencode_categorical_columns\u001B[0m\u001B[1;33m(\u001B[0m\u001B[0mdf\u001B[0m\u001B[1;33m,\u001B[0m \u001B[1;34m'target'\u001B[0m\u001B[1;33m,\u001B[0m \u001B[1;32mNone\u001B[0m\u001B[1;33m)\u001B[0m\u001B[1;33m\u001B[0m\u001B[1;33m\u001B[0m\u001B[0m\n\u001B[1;32m---> 19\u001B[1;33m \u001B[0mfig\u001B[0m \u001B[1;33m=\u001B[0m \u001B[0mpx\u001B[0m\u001B[1;33m.\u001B[0m\u001B[0mparallel_coordinates\u001B[0m\u001B[1;33m(\u001B[0m\u001B[0mdf_encoded\u001B[0m\u001B[1;33m,\u001B[0m \u001B[0mcolor\u001B[0m\u001B[1;33m=\u001B[0m\u001B[1;34m'target'\u001B[0m\u001B[1;33m)\u001B[0m\u001B[1;33m\u001B[0m\u001B[1;33m\u001B[0m\u001B[0m\n\u001B[0m\u001B[0;32m     20\u001B[0m \u001B[0mfig\u001B[0m\u001B[1;33m.\u001B[0m\u001B[0mshow\u001B[0m\u001B[1;33m(\u001B[0m\u001B[1;33m)\u001B[0m\u001B[1;33m\u001B[0m\u001B[1;33m\u001B[0m\u001B[0m\n",
      "\u001B[1;32m~\\AppData\\Local\\Programs\\Python\\Python310\\lib\\site-packages\\plotly\\express\\_chart_types.py\u001B[0m in \u001B[0;36mparallel_coordinates\u001B[1;34m(data_frame, dimensions, color, labels, color_continuous_scale, range_color, color_continuous_midpoint, title, template, width, height)\u001B[0m\n\u001B[0;32m   1416\u001B[0m     \u001B[0mof\u001B[0m \u001B[0mthe\u001B[0m\u001B[0;31m \u001B[0m\u001B[0;31m`\u001B[0m\u001B[0mdimensions\u001B[0m\u001B[0;31m`\u001B[0m\u001B[1;33m.\u001B[0m\u001B[1;33m\u001B[0m\u001B[1;33m\u001B[0m\u001B[0m\n\u001B[0;32m   1417\u001B[0m     \"\"\"\n\u001B[1;32m-> 1418\u001B[1;33m     \u001B[1;32mreturn\u001B[0m \u001B[0mmake_figure\u001B[0m\u001B[1;33m(\u001B[0m\u001B[0margs\u001B[0m\u001B[1;33m=\u001B[0m\u001B[0mlocals\u001B[0m\u001B[1;33m(\u001B[0m\u001B[1;33m)\u001B[0m\u001B[1;33m,\u001B[0m \u001B[0mconstructor\u001B[0m\u001B[1;33m=\u001B[0m\u001B[0mgo\u001B[0m\u001B[1;33m.\u001B[0m\u001B[0mParcoords\u001B[0m\u001B[1;33m)\u001B[0m\u001B[1;33m\u001B[0m\u001B[1;33m\u001B[0m\u001B[0m\n\u001B[0m\u001B[0;32m   1419\u001B[0m \u001B[1;33m\u001B[0m\u001B[0m\n\u001B[0;32m   1420\u001B[0m \u001B[1;33m\u001B[0m\u001B[0m\n",
      "\u001B[1;32m~\\AppData\\Local\\Programs\\Python\\Python310\\lib\\site-packages\\plotly\\express\\_core.py\u001B[0m in \u001B[0;36mmake_figure\u001B[1;34m(args, constructor, trace_patch, layout_patch)\u001B[0m\n\u001B[0;32m   1988\u001B[0m     \u001B[0mapply_default_cascade\u001B[0m\u001B[1;33m(\u001B[0m\u001B[0margs\u001B[0m\u001B[1;33m)\u001B[0m\u001B[1;33m\u001B[0m\u001B[1;33m\u001B[0m\u001B[0m\n\u001B[0;32m   1989\u001B[0m \u001B[1;33m\u001B[0m\u001B[0m\n\u001B[1;32m-> 1990\u001B[1;33m     \u001B[0margs\u001B[0m \u001B[1;33m=\u001B[0m \u001B[0mbuild_dataframe\u001B[0m\u001B[1;33m(\u001B[0m\u001B[0margs\u001B[0m\u001B[1;33m,\u001B[0m \u001B[0mconstructor\u001B[0m\u001B[1;33m)\u001B[0m\u001B[1;33m\u001B[0m\u001B[1;33m\u001B[0m\u001B[0m\n\u001B[0m\u001B[0;32m   1991\u001B[0m     \u001B[1;32mif\u001B[0m \u001B[0mconstructor\u001B[0m \u001B[1;32min\u001B[0m \u001B[1;33m[\u001B[0m\u001B[0mgo\u001B[0m\u001B[1;33m.\u001B[0m\u001B[0mTreemap\u001B[0m\u001B[1;33m,\u001B[0m \u001B[0mgo\u001B[0m\u001B[1;33m.\u001B[0m\u001B[0mSunburst\u001B[0m\u001B[1;33m,\u001B[0m \u001B[0mgo\u001B[0m\u001B[1;33m.\u001B[0m\u001B[0mIcicle\u001B[0m\u001B[1;33m]\u001B[0m \u001B[1;32mand\u001B[0m \u001B[0margs\u001B[0m\u001B[1;33m[\u001B[0m\u001B[1;34m\"path\"\u001B[0m\u001B[1;33m]\u001B[0m \u001B[1;32mis\u001B[0m \u001B[1;32mnot\u001B[0m \u001B[1;32mNone\u001B[0m\u001B[1;33m:\u001B[0m\u001B[1;33m\u001B[0m\u001B[1;33m\u001B[0m\u001B[0m\n\u001B[0;32m   1992\u001B[0m         \u001B[0margs\u001B[0m \u001B[1;33m=\u001B[0m \u001B[0mprocess_dataframe_hierarchy\u001B[0m\u001B[1;33m(\u001B[0m\u001B[0margs\u001B[0m\u001B[1;33m)\u001B[0m\u001B[1;33m\u001B[0m\u001B[1;33m\u001B[0m\u001B[0m\n",
      "\u001B[1;32m~\\AppData\\Local\\Programs\\Python\\Python310\\lib\\site-packages\\plotly\\express\\_core.py\u001B[0m in \u001B[0;36mbuild_dataframe\u001B[1;34m(args, constructor)\u001B[0m\n\u001B[0;32m   1403\u001B[0m     \u001B[1;31m# now that things have been prepped, we do the systematic rewriting of `args`\u001B[0m\u001B[1;33m\u001B[0m\u001B[1;33m\u001B[0m\u001B[0m\n\u001B[0;32m   1404\u001B[0m \u001B[1;33m\u001B[0m\u001B[0m\n\u001B[1;32m-> 1405\u001B[1;33m     df_output, wide_id_vars = process_args_into_dataframe(\n\u001B[0m\u001B[0;32m   1406\u001B[0m         \u001B[0margs\u001B[0m\u001B[1;33m,\u001B[0m \u001B[0mwide_mode\u001B[0m\u001B[1;33m,\u001B[0m \u001B[0mvar_name\u001B[0m\u001B[1;33m,\u001B[0m \u001B[0mvalue_name\u001B[0m\u001B[1;33m\u001B[0m\u001B[1;33m\u001B[0m\u001B[0m\n\u001B[0;32m   1407\u001B[0m     )\n",
      "\u001B[1;32m~\\AppData\\Local\\Programs\\Python\\Python310\\lib\\site-packages\\plotly\\express\\_core.py\u001B[0m in \u001B[0;36mprocess_args_into_dataframe\u001B[1;34m(args, wide_mode, var_name, value_name)\u001B[0m\n\u001B[0;32m   1205\u001B[0m                         \u001B[1;32mif\u001B[0m \u001B[0margument\u001B[0m \u001B[1;33m==\u001B[0m \u001B[1;34m\"index\"\u001B[0m\u001B[1;33m:\u001B[0m\u001B[1;33m\u001B[0m\u001B[1;33m\u001B[0m\u001B[0m\n\u001B[0;32m   1206\u001B[0m                             \u001B[0merr_msg\u001B[0m \u001B[1;33m+=\u001B[0m \u001B[1;34m\"\\n To use the index, pass it in directly as `df.index`.\"\u001B[0m\u001B[1;33m\u001B[0m\u001B[1;33m\u001B[0m\u001B[0m\n\u001B[1;32m-> 1207\u001B[1;33m                         \u001B[1;32mraise\u001B[0m \u001B[0mValueError\u001B[0m\u001B[1;33m(\u001B[0m\u001B[0merr_msg\u001B[0m\u001B[1;33m)\u001B[0m\u001B[1;33m\u001B[0m\u001B[1;33m\u001B[0m\u001B[0m\n\u001B[0m\u001B[0;32m   1208\u001B[0m                 \u001B[1;32melif\u001B[0m \u001B[0mlength\u001B[0m \u001B[1;32mand\u001B[0m \u001B[0mlen\u001B[0m\u001B[1;33m(\u001B[0m\u001B[0mdf_input\u001B[0m\u001B[1;33m[\u001B[0m\u001B[0margument\u001B[0m\u001B[1;33m]\u001B[0m\u001B[1;33m)\u001B[0m \u001B[1;33m!=\u001B[0m \u001B[0mlength\u001B[0m\u001B[1;33m:\u001B[0m\u001B[1;33m\u001B[0m\u001B[1;33m\u001B[0m\u001B[0m\n\u001B[0;32m   1209\u001B[0m                     raise ValueError(\n",
      "\u001B[1;31mValueError\u001B[0m: Value of 'color' is not the name of a column in 'data_frame'. Expected one of ['Id', 'SepalLengthCm', 'SepalWidthCm', 'PetalLengthCm', 'PetalWidthCm', 'Species_Iris-setosa', 'Species_Iris-versicolor', 'Species_Iris-virginica'] but received: target"
     ]
    }
   ],
   "source": [
    "import plotly.express as px\n",
    "df = pd.read_csv('datasets/iris.csv')\n",
    "print(df.head())\n",
    "\n",
    "\n",
    "def pcp_plot(encoded_df, target):\n",
    "    #TODO: tekst/lookup table toevoegen met conversie categorische variabelen encoding\n",
    "\n",
    "    if target != 'None':\n",
    "        fig = px.parallel_coordinates(encoded_df, color=target)\n",
    "    else:\n",
    "        fig = px.parallel_coordinates(encoded_df)\n",
    "\n",
    "\n",
    "    return fig\n",
    "\n",
    "\n",
    "df_encoded = encode_categorical_columns(df, 'target', None)\n",
    "fig = px.parallel_coordinates(df_encoded, color='target')\n",
    "fig.show()"
   ],
   "metadata": {
    "collapsed": false
   }
  },
  {
   "cell_type": "code",
   "execution_count": null,
   "outputs": [],
   "source": [
    "def encode_categorical_columns(dataset, target, data_types):\n",
    "    # Find all categorical columns\n",
    "    # TODO: regel hieronder aanpassen naar wat de user heeft ingegeven (let hierbij op strings als dtype, moeten gezien worden als categorical)\n",
    "    categorical_cols = dataset.select_dtypes(include=['object', 'category']).columns.tolist()\n",
    "\n",
    "    target_is_categorical = False\n",
    "    if target != 'None':\n",
    "        # remove target as we want to label encode this (for classification problems)\n",
    "        if target in categorical_cols:\n",
    "            target_is_categorical = True\n",
    "            categorical_cols.remove(target)\n",
    "\n",
    "            # label encode target\n",
    "            le = LabelEncoder()\n",
    "            encoded_target = le.fit_transform(dataset[target])\n",
    "            # replace target column with label encoded values\n",
    "            dataset.drop(columns=[target], inplace=True)\n",
    "            dataset[target] = encoded_target\n",
    "\n",
    "    if not categorical_cols:  # then no features are categorical, and we're done\n",
    "        return dataset\n",
    "\n",
    "    # if there are categorical columns, we want to one-hot-encode them\n",
    "\n",
    "    # encode categoricals\n",
    "    encoder = OneHotEncoder(handle_unknown='ignore', max_categories=100)\n",
    "    encoded_columns = encoder.fit_transform(dataset[categorical_cols])\n",
    "    new_columns = pd.DataFrame(encoded_columns.toarray(), columns=encoder.get_feature_names_out(categorical_cols))\n",
    "\n",
    "    # add new columns to df and drop old ones\n",
    "    dataset_encoded = pd.concat([dataset, new_columns], axis=1)\n",
    "    dataset_encoded = dataset_encoded.drop(columns=categorical_cols)\n",
    "\n",
    "    # reposition target column to the end of the dataframe\n",
    "    if target != 'None' and target_is_categorical:\n",
    "        dataset_encoded.drop(columns=[target], inplace=True)\n",
    "        dataset_encoded[target] = encoded_target\n",
    "\n",
    "    #XGBClassifier doesn't accept: [, ] or <, so loop over the columns and change the names if they contain such values\n",
    "    new_col_names = {col: col.replace('<', '(smaller than)').replace('[', '(').replace(']', ')') for col in dataset_encoded.columns}\n",
    "    dataset_encoded = dataset_encoded.rename(columns=new_col_names)\n",
    "\n",
    "    return dataset_encoded"
   ],
   "metadata": {
    "collapsed": false
   }
  },
  {
   "cell_type": "code",
   "execution_count": null,
   "outputs": [],
   "source": [
    "import missingno as msno\n",
    "\n",
    "def missingno_plot(df):\n",
    "\n",
    "    msno_plot = msno.matrix(df)\n",
    "\n",
    "    return msno_plot\n",
    "\n",
    "\n",
    "df = pd.read_csv('datasets/titanic_train.csv')\n",
    "print(df.head())\n",
    "\n",
    "missingno_plot(df)"
   ],
   "metadata": {
    "collapsed": false
   }
  },
  {
   "cell_type": "code",
   "execution_count": null,
   "outputs": [],
   "source": [
    "from sklearn.tree\n",
    "def plot_feature_importance(X, y, feature_names):\n",
    "    \"\"\"\n",
    "    Predicts the feature importance using a random forest and plots it.\n",
    "\n",
    "    Parameters:\n",
    "    -----------\n",
    "    X : numpy array, shape (n_samples, n_features)\n",
    "        The input data.\n",
    "    y : numpy array, shape (n_samples,)\n",
    "        The target values.\n",
    "    feature_names : list of strings, shape (n_features,)\n",
    "        The names of the features.\n",
    "\n",
    "    Returns:\n",
    "    --------\n",
    "    None\n",
    "    \"\"\"\n",
    "    # Initialize the random forest regressor\n",
    "    rf = RandomForestRegressor(n_estimators=100, random_state=42)\n",
    "\n",
    "    # Fit the random forest to the data\n",
    "    rf.fit(X, y)\n",
    "\n",
    "    # Get the feature importances\n",
    "    feature_importances = rf.feature_importances_\n",
    "\n",
    "    # Sort the feature importances in descending order\n",
    "    indices = np.argsort(feature_importances)[::-1]\n",
    "\n",
    "    # Plot the feature importances\n",
    "    plt.figure()\n",
    "    plt.title(\"Feature Importance\")\n",
    "    plt.bar(range(X.shape[1]), feature_importances[indices])\n",
    "    plt.xticks(range(X.shape[1]), feature_names[indices], rotation=90)\n",
    "    plt.tight_layout()\n",
    "    plt.show()\n",
    "\n",
    "\n",
    "\n",
    "\n",
    "# Generate some random data\n",
    "X = np.random.rand(100, 5)\n",
    "y = np.random.rand(100)\n",
    "\n",
    "# Define the feature names\n",
    "feature_names = [\"Feature 1\", \"Feature 2\", \"Feature 3\", \"Feature 4\", \"Feature 5\"]\n",
    "\n",
    "# Call the function to plot the feature importance\n",
    "plot_feature_importance(X, y, feature_names)"
   ],
   "metadata": {
    "collapsed": false
   }
  },
  {
   "cell_type": "code",
   "execution_count": null,
   "outputs": [],
   "source": [
    "import sortinghatinf\n",
    "\n"
   ],
   "metadata": {
    "collapsed": false
   }
  },
  {
   "cell_type": "code",
   "execution_count": null,
   "outputs": [],
   "source": [
    "dict = {'Data Type': {'Id': 'dtype(int64)', 'SepalLengthCm': 'dtype(int64)', 'SepalWidthCm': 'dtype(int64)', 'PetalLengthCm': 'dtype(int64)', 'PetalWidthCm': 'dtype(int64)', 'Species': 'dtype(int64)'}, 'Missing Values%': {'Id': 0.0, 'SepalLengthCm': 0.0, 'SepalWidthCm': 0.0, 'PetalLengthCm': 0.0, 'PetalWidthCm': 0.0, 'Species': 0.0}, 'Unique Values%': {'Id': 100, 'SepalLengthCm': 'NA', 'SepalWidthCm': 'NA', 'PetalLengthCm': 'NA', 'PetalWidthCm': 'NA', 'Species': 2}, 'Minimum Value': {'Id': 1.0, 'SepalLengthCm': 4.3, 'SepalWidthCm': 2.0, 'PetalLengthCm': 1.0, 'PetalWidthCm': 0.1, 'Species': 0.0}, 'Maximum Value': {'Id': 150.0, 'SepalLengthCm': 7.9, 'SepalWidthCm': 4.4, 'PetalLengthCm': 6.9, 'PetalWidthCm': 2.5, 'Species': 2.0}, 'DQ Issue': {'Id': 'Possible ID colum: drop before modeling process.,     Id has a correlation >= 0.8 with Species. Possible data leakage. Double check this variable.', 'SepalLengthCm': 'No issue', 'SepalWidthCm': 'has 4 outliers greater than upper bound (4.05) or lower than lower bound(2.05). Cap them or remove them.', 'PetalLengthCm': \"has a high correlation with ['Id', 'SepalLengthCm']. Consider dropping one of them.,     PetalLengthCm has a correlation >= 0.8 with Species. Possible data leakage. Double check this variable.\", 'PetalWidthCm': \"has a high correlation with ['Id', 'SepalLengthCm', 'PetalLengthCm']. Consider dropping one of them.,     PetalWidthCm has a correlation >= 0.8 with Species. Possible data leakage. Double check this variable.\", 'Species': \"has a high correlation with ['Id', 'PetalLengthCm', 'PetalWidthCm']. Consider dropping one of them.\"}}\n",
    "\n",
    "import pandas as pd\n",
    "from typing import Dict\n",
    "\n",
    "def dict_to_dataframe(d: Dict[str, Dict[str, any]]) -> pd.DataFrame:\n",
    "    data = {}\n",
    "    for key in d:\n",
    "        for sub_key, value in d[key].items():\n",
    "            if sub_key not in data:\n",
    "                data[sub_key] = []\n",
    "            data[sub_key].append(value)\n",
    "    return pd.DataFrame(data)\n",
    "output = dict_to_dataframe(dict)\n",
    "print(output.head())"
   ],
   "metadata": {
    "collapsed": false
   }
  },
  {
   "cell_type": "code",
   "execution_count": 128,
   "outputs": [],
   "source": [
    "import pandas as pd\n",
    "from itertools import product\n",
    "import numpy as np\n",
    "\n",
    "def sensitive_feature_combinations(dataset_original, sensitive_features, target_column, bins=5):\n",
    "    # Create a copy of the dataset to avoid modifying the original data\n",
    "    dataset = dataset_original.copy()\n",
    "    #TODO: callback maken die sensitive features ingeeft\n",
    "    #TODO: iets bedenken voor regression\n",
    "    #bin numeric sensitive features into 5 bins\n",
    "    for feat in sensitive_features:\n",
    "        if pd.api.types.is_numeric_dtype(dataset[feat]):        #TODO: baseren op data type inference sortinghat\n",
    "            dataset[feat] = pd.cut(dataset[feat], bins=bins)\n",
    "\n",
    "    #obtain all combinations of sensitive features\n",
    "    sensitive_combinations = list(product(*[dataset[feat].unique() for feat in sensitive_features]))\n",
    "    #print(sensitive_combinations)\n",
    "    # Initialize empty dictionary to store counts\n",
    "    counts = {}\n",
    "\n",
    "    # Loop through each sensitive feature combination\n",
    "    for combo in sensitive_combinations:\n",
    "        # Create a mask for rows that match the current combination\n",
    "        mask = True\n",
    "        for i, feat in enumerate(sensitive_features):\n",
    "            mask = mask & (dataset[feat] == combo[i])\n",
    "\n",
    "        # Count the number of rows that match the mask and the target value\n",
    "        count = dataset.loc[mask, target_column].value_counts()\n",
    "\n",
    "        # Store the count in the dictionary\n",
    "        counts[combo] = count.to_dict()\n",
    "\n",
    "    # Convert dictionary to a pandas DataFrame\n",
    "    result = pd.DataFrame.from_dict(counts, orient='index').fillna(0)\n",
    "\n",
    "    # Add a column for the total count\n",
    "    result['count'] = result.sum(axis=1)\n",
    "\n",
    "    # Add a column for the sensitive feature combination\n",
    "    result['sensitive_features'] = result.index.map(lambda x: ', '.join(map(str, x)))\n",
    "\n",
    "    # Reorder the columns\n",
    "    result = result[['sensitive_features', 'count'] + list(dataset[target_column].unique())]\n",
    "\n",
    "    return result"
   ],
   "metadata": {
    "collapsed": false
   }
  },
  {
   "cell_type": "code",
   "execution_count": 129,
   "outputs": [
    {
     "name": "stderr",
     "output_type": "stream",
     "text": [
      "C:\\Users\\robin\\AppData\\Local\\Temp\\ipykernel_21720\\2858654096.py:9: FutureWarning:\n",
      "\n",
      "Passing a negative integer is deprecated in version 1.0 and will not be supported in future version. Instead, use None to not limit the column width.\n",
      "\n"
     ]
    },
    {
     "name": "stdout",
     "output_type": "stream",
     "text": [
      "                                                                  sensitive_features  \\\n",
      "Black              Male   (16.927, 31.6]  Black, Male, (16.927, 31.6]                  \n",
      "                          (31.6, 46.2]    Black, Male, (31.6, 46.2]                    \n",
      "                          (60.8, 75.4]    Black, Male, (60.8, 75.4]                    \n",
      "                          (46.2, 60.8]    Black, Male, (46.2, 60.8]                    \n",
      "                          (75.4, 90.0]    Black, Male, (75.4, 90.0]                    \n",
      "                   Female (16.927, 31.6]  Black, Female, (16.927, 31.6]                \n",
      "                          (31.6, 46.2]    Black, Female, (31.6, 46.2]                  \n",
      "                          (60.8, 75.4]    Black, Female, (60.8, 75.4]                  \n",
      "                          (46.2, 60.8]    Black, Female, (46.2, 60.8]                  \n",
      "                          (75.4, 90.0]    Black, Female, (75.4, 90.0]                  \n",
      "White              Male   (16.927, 31.6]  White, Male, (16.927, 31.6]                  \n",
      "                          (31.6, 46.2]    White, Male, (31.6, 46.2]                    \n",
      "                          (60.8, 75.4]    White, Male, (60.8, 75.4]                    \n",
      "                          (46.2, 60.8]    White, Male, (46.2, 60.8]                    \n",
      "                          (75.4, 90.0]    White, Male, (75.4, 90.0]                    \n",
      "                   Female (16.927, 31.6]  White, Female, (16.927, 31.6]                \n",
      "                          (31.6, 46.2]    White, Female, (31.6, 46.2]                  \n",
      "                          (60.8, 75.4]    White, Female, (60.8, 75.4]                  \n",
      "                          (46.2, 60.8]    White, Female, (46.2, 60.8]                  \n",
      "                          (75.4, 90.0]    White, Female, (75.4, 90.0]                  \n",
      "Asian-Pac-Islander Male   (16.927, 31.6]  Asian-Pac-Islander, Male, (16.927, 31.6]     \n",
      "                          (31.6, 46.2]    Asian-Pac-Islander, Male, (31.6, 46.2]       \n",
      "                          (60.8, 75.4]    Asian-Pac-Islander, Male, (60.8, 75.4]       \n",
      "                          (46.2, 60.8]    Asian-Pac-Islander, Male, (46.2, 60.8]       \n",
      "                          (75.4, 90.0]    Asian-Pac-Islander, Male, (75.4, 90.0]       \n",
      "                   Female (16.927, 31.6]  Asian-Pac-Islander, Female, (16.927, 31.6]   \n",
      "                          (31.6, 46.2]    Asian-Pac-Islander, Female, (31.6, 46.2]     \n",
      "                          (60.8, 75.4]    Asian-Pac-Islander, Female, (60.8, 75.4]     \n",
      "                          (46.2, 60.8]    Asian-Pac-Islander, Female, (46.2, 60.8]     \n",
      "                          (75.4, 90.0]    Asian-Pac-Islander, Female, (75.4, 90.0]     \n",
      "Other              Male   (16.927, 31.6]  Other, Male, (16.927, 31.6]                  \n",
      "                          (31.6, 46.2]    Other, Male, (31.6, 46.2]                    \n",
      "                          (60.8, 75.4]    Other, Male, (60.8, 75.4]                    \n",
      "                          (46.2, 60.8]    Other, Male, (46.2, 60.8]                    \n",
      "                          (75.4, 90.0]    Other, Male, (75.4, 90.0]                    \n",
      "                   Female (16.927, 31.6]  Other, Female, (16.927, 31.6]                \n",
      "                          (31.6, 46.2]    Other, Female, (31.6, 46.2]                  \n",
      "                          (60.8, 75.4]    Other, Female, (60.8, 75.4]                  \n",
      "                          (46.2, 60.8]    Other, Female, (46.2, 60.8]                  \n",
      "Amer-Indian-Eskimo Male   (16.927, 31.6]  Amer-Indian-Eskimo, Male, (16.927, 31.6]     \n",
      "                          (31.6, 46.2]    Amer-Indian-Eskimo, Male, (31.6, 46.2]       \n",
      "                          (60.8, 75.4]    Amer-Indian-Eskimo, Male, (60.8, 75.4]       \n",
      "                          (46.2, 60.8]    Amer-Indian-Eskimo, Male, (46.2, 60.8]       \n",
      "                          (75.4, 90.0]    Amer-Indian-Eskimo, Male, (75.4, 90.0]       \n",
      "                   Female (16.927, 31.6]  Amer-Indian-Eskimo, Female, (16.927, 31.6]   \n",
      "                          (31.6, 46.2]    Amer-Indian-Eskimo, Female, (31.6, 46.2]     \n",
      "                          (60.8, 75.4]    Amer-Indian-Eskimo, Female, (60.8, 75.4]     \n",
      "                          (46.2, 60.8]    Amer-Indian-Eskimo, Female, (46.2, 60.8]     \n",
      "                          (75.4, 90.0]    Amer-Indian-Eskimo, Female, (75.4, 90.0]     \n",
      "\n",
      "                                            count  <=50K    >50K  \n",
      "Black              Male   (16.927, 31.6]  868.0    833    35.0    \n",
      "                          (31.6, 46.2]    919.0    689    230.0   \n",
      "                          (60.8, 75.4]    130.0    105    25.0    \n",
      "                          (46.2, 60.8]    450.0    307    143.0   \n",
      "                          (75.4, 90.0]    10.0     9      1.0     \n",
      "                   Female (16.927, 31.6]  819.0    805    14.0    \n",
      "                          (31.6, 46.2]    920.0    845    75.0    \n",
      "                          (60.8, 75.4]    128.0    126    2.0     \n",
      "                          (46.2, 60.8]    433.0    392    41.0    \n",
      "                          (75.4, 90.0]    8.0      8      0.0     \n",
      "White              Male   (16.927, 31.6]  8873.0   7973   900.0   \n",
      "                          (31.6, 46.2]    11339.0  6877   4462.0  \n",
      "                          (60.8, 75.4]    2001.0   1343   658.0   \n",
      "                          (46.2, 60.8]    6286.0   3294   2992.0  \n",
      "                          (75.4, 90.0]    236.0    183    53.0    \n",
      "                   Female (16.927, 31.6]  5619.0   5378   241.0   \n",
      "                          (31.6, 46.2]    4146.0   3349   797.0   \n",
      "                          (60.8, 75.4]    878.0    796    82.0    \n",
      "                          (46.2, 60.8]    2280.0   1863   417.0   \n",
      "                          (75.4, 90.0]    104.0    99     5.0     \n",
      "Asian-Pac-Islander Male   (16.927, 31.6]  327.0    279    48.0    \n",
      "                          (31.6, 46.2]    427.0    246    181.0   \n",
      "                          (60.8, 75.4]    52.0     32     20.0    \n",
      "                          (46.2, 60.8]    186.0    95     91.0    \n",
      "                          (75.4, 90.0]    10.0     10     0.0     \n",
      "                   Female (16.927, 31.6]  225.0    212    13.0    \n",
      "                          (31.6, 46.2]    193.0    149    44.0    \n",
      "                          (60.8, 75.4]    20.0     19     1.0     \n",
      "                          (46.2, 60.8]    77.0     66     11.0    \n",
      "                          (75.4, 90.0]    2.0      2      0.0     \n",
      "Other              Male   (16.927, 31.6]  114.0    111    3.0     \n",
      "                          (31.6, 46.2]    93.0     70     23.0    \n",
      "                          (60.8, 75.4]    8.0      6      2.0     \n",
      "                          (46.2, 60.8]    35.0     24     11.0    \n",
      "                          (75.4, 90.0]    1.0      1      0.0     \n",
      "                   Female (16.927, 31.6]  91.0     86     5.0     \n",
      "                          (31.6, 46.2]    47.0     41     6.0     \n",
      "                          (60.8, 75.4]    3.0      3      0.0     \n",
      "                          (46.2, 60.8]    14.0     14     0.0     \n",
      "Amer-Indian-Eskimo Male   (16.927, 31.6]  102.0    97     5.0     \n",
      "                          (31.6, 46.2]    131.0    107    24.0    \n",
      "                          (60.8, 75.4]    9.0      7      2.0     \n",
      "                          (46.2, 60.8]    42.0     33     9.0     \n",
      "                          (75.4, 90.0]    1.0      1      0.0     \n",
      "                   Female (16.927, 31.6]  80.0     76     4.0     \n",
      "                          (31.6, 46.2]    62.0     54     8.0     \n",
      "                          (60.8, 75.4]    4.0      4      0.0     \n",
      "                          (46.2, 60.8]    38.0     35     3.0     \n",
      "                          (75.4, 90.0]    1.0      1      0.0     \n"
     ]
    }
   ],
   "source": [
    "data = pd.read_csv('datasets/adult.csv')\n",
    "data.head()\n",
    "sensitive_features = ['race', 'gender', 'age']\n",
    "target_column = 'income'\n",
    "# Permanently changes the pandas settings\n",
    "pd.set_option('display.max_rows', None)\n",
    "pd.set_option('display.max_columns', None)\n",
    "pd.set_option('display.width', None)\n",
    "pd.set_option('display.max_colwidth', -1)\n",
    "\n",
    "# # All dataframes hereafter reflect these changes.\n",
    "# display(df)\n",
    "#\n",
    "# print('**RESET_OPTIONS**')\n",
    "#\n",
    "# # Resets the options\n",
    "# pd.reset_option('all')\n",
    "\n",
    "print(sensitive_feature_combinations(data, sensitive_features, target_column, bins=5))\n"
   ],
   "metadata": {
    "collapsed": false
   }
  },
  {
   "cell_type": "code",
   "execution_count": 130,
   "outputs": [
    {
     "data": {
      "application/vnd.plotly.v1+json": {
       "data": [
        {
         "alignmentgroup": "True",
         "hovertemplate": "variable=<=50K<br>value=%{x}<br>sensitive_features=%{y}<extra></extra>",
         "legendgroup": "<=50K",
         "marker": {
          "color": "#636efa",
          "pattern": {
           "shape": ""
          }
         },
         "name": "<=50K",
         "offsetgroup": "<=50K",
         "orientation": "h",
         "showlegend": true,
         "textposition": "auto",
         "x": [
          833.0,
          689.0,
          105.0,
          307.0,
          9.0,
          805.0,
          845.0,
          126.0,
          392.0,
          8.0,
          7973.0,
          6877.0,
          1343.0,
          3294.0,
          183.0,
          5378.0,
          3349.0,
          796.0,
          1863.0,
          99.0,
          279.0,
          246.0,
          32.0,
          95.0,
          10.0,
          212.0,
          149.0,
          19.0,
          66.0,
          2.0,
          111.0,
          70.0,
          6.0,
          24.0,
          1.0,
          86.0,
          41.0,
          3.0,
          14.0,
          97.0,
          107.0,
          7.0,
          33.0,
          1.0,
          76.0,
          54.0,
          4.0,
          35.0,
          1.0
         ],
         "xaxis": "x",
         "y": [
          "Black, Male, (16.927, 31.6]",
          "Black, Male, (31.6, 46.2]",
          "Black, Male, (60.8, 75.4]",
          "Black, Male, (46.2, 60.8]",
          "Black, Male, (75.4, 90.0]",
          "Black, Female, (16.927, 31.6]",
          "Black, Female, (31.6, 46.2]",
          "Black, Female, (60.8, 75.4]",
          "Black, Female, (46.2, 60.8]",
          "Black, Female, (75.4, 90.0]",
          "White, Male, (16.927, 31.6]",
          "White, Male, (31.6, 46.2]",
          "White, Male, (60.8, 75.4]",
          "White, Male, (46.2, 60.8]",
          "White, Male, (75.4, 90.0]",
          "White, Female, (16.927, 31.6]",
          "White, Female, (31.6, 46.2]",
          "White, Female, (60.8, 75.4]",
          "White, Female, (46.2, 60.8]",
          "White, Female, (75.4, 90.0]",
          "Asian-Pac-Islander, Male, (16.927, 31.6]",
          "Asian-Pac-Islander, Male, (31.6, 46.2]",
          "Asian-Pac-Islander, Male, (60.8, 75.4]",
          "Asian-Pac-Islander, Male, (46.2, 60.8]",
          "Asian-Pac-Islander, Male, (75.4, 90.0]",
          "Asian-Pac-Islander, Female, (16.927, 31.6]",
          "Asian-Pac-Islander, Female, (31.6, 46.2]",
          "Asian-Pac-Islander, Female, (60.8, 75.4]",
          "Asian-Pac-Islander, Female, (46.2, 60.8]",
          "Asian-Pac-Islander, Female, (75.4, 90.0]",
          "Other, Male, (16.927, 31.6]",
          "Other, Male, (31.6, 46.2]",
          "Other, Male, (60.8, 75.4]",
          "Other, Male, (46.2, 60.8]",
          "Other, Male, (75.4, 90.0]",
          "Other, Female, (16.927, 31.6]",
          "Other, Female, (31.6, 46.2]",
          "Other, Female, (60.8, 75.4]",
          "Other, Female, (46.2, 60.8]",
          "Amer-Indian-Eskimo, Male, (16.927, 31.6]",
          "Amer-Indian-Eskimo, Male, (31.6, 46.2]",
          "Amer-Indian-Eskimo, Male, (60.8, 75.4]",
          "Amer-Indian-Eskimo, Male, (46.2, 60.8]",
          "Amer-Indian-Eskimo, Male, (75.4, 90.0]",
          "Amer-Indian-Eskimo, Female, (16.927, 31.6]",
          "Amer-Indian-Eskimo, Female, (31.6, 46.2]",
          "Amer-Indian-Eskimo, Female, (60.8, 75.4]",
          "Amer-Indian-Eskimo, Female, (46.2, 60.8]",
          "Amer-Indian-Eskimo, Female, (75.4, 90.0]"
         ],
         "yaxis": "y",
         "type": "bar"
        },
        {
         "alignmentgroup": "True",
         "hovertemplate": "variable=>50K<br>value=%{x}<br>sensitive_features=%{y}<extra></extra>",
         "legendgroup": ">50K",
         "marker": {
          "color": "#EF553B",
          "pattern": {
           "shape": ""
          }
         },
         "name": ">50K",
         "offsetgroup": ">50K",
         "orientation": "h",
         "showlegend": true,
         "textposition": "auto",
         "x": [
          35.0,
          230.0,
          25.0,
          143.0,
          1.0,
          14.0,
          75.0,
          2.0,
          41.0,
          0.0,
          900.0,
          4462.0,
          658.0,
          2992.0,
          53.0,
          241.0,
          797.0,
          82.0,
          417.0,
          5.0,
          48.0,
          181.0,
          20.0,
          91.0,
          0.0,
          13.0,
          44.0,
          1.0,
          11.0,
          0.0,
          3.0,
          23.0,
          2.0,
          11.0,
          0.0,
          5.0,
          6.0,
          0.0,
          0.0,
          5.0,
          24.0,
          2.0,
          9.0,
          0.0,
          4.0,
          8.0,
          0.0,
          3.0,
          0.0
         ],
         "xaxis": "x",
         "y": [
          "Black, Male, (16.927, 31.6]",
          "Black, Male, (31.6, 46.2]",
          "Black, Male, (60.8, 75.4]",
          "Black, Male, (46.2, 60.8]",
          "Black, Male, (75.4, 90.0]",
          "Black, Female, (16.927, 31.6]",
          "Black, Female, (31.6, 46.2]",
          "Black, Female, (60.8, 75.4]",
          "Black, Female, (46.2, 60.8]",
          "Black, Female, (75.4, 90.0]",
          "White, Male, (16.927, 31.6]",
          "White, Male, (31.6, 46.2]",
          "White, Male, (60.8, 75.4]",
          "White, Male, (46.2, 60.8]",
          "White, Male, (75.4, 90.0]",
          "White, Female, (16.927, 31.6]",
          "White, Female, (31.6, 46.2]",
          "White, Female, (60.8, 75.4]",
          "White, Female, (46.2, 60.8]",
          "White, Female, (75.4, 90.0]",
          "Asian-Pac-Islander, Male, (16.927, 31.6]",
          "Asian-Pac-Islander, Male, (31.6, 46.2]",
          "Asian-Pac-Islander, Male, (60.8, 75.4]",
          "Asian-Pac-Islander, Male, (46.2, 60.8]",
          "Asian-Pac-Islander, Male, (75.4, 90.0]",
          "Asian-Pac-Islander, Female, (16.927, 31.6]",
          "Asian-Pac-Islander, Female, (31.6, 46.2]",
          "Asian-Pac-Islander, Female, (60.8, 75.4]",
          "Asian-Pac-Islander, Female, (46.2, 60.8]",
          "Asian-Pac-Islander, Female, (75.4, 90.0]",
          "Other, Male, (16.927, 31.6]",
          "Other, Male, (31.6, 46.2]",
          "Other, Male, (60.8, 75.4]",
          "Other, Male, (46.2, 60.8]",
          "Other, Male, (75.4, 90.0]",
          "Other, Female, (16.927, 31.6]",
          "Other, Female, (31.6, 46.2]",
          "Other, Female, (60.8, 75.4]",
          "Other, Female, (46.2, 60.8]",
          "Amer-Indian-Eskimo, Male, (16.927, 31.6]",
          "Amer-Indian-Eskimo, Male, (31.6, 46.2]",
          "Amer-Indian-Eskimo, Male, (60.8, 75.4]",
          "Amer-Indian-Eskimo, Male, (46.2, 60.8]",
          "Amer-Indian-Eskimo, Male, (75.4, 90.0]",
          "Amer-Indian-Eskimo, Female, (16.927, 31.6]",
          "Amer-Indian-Eskimo, Female, (31.6, 46.2]",
          "Amer-Indian-Eskimo, Female, (60.8, 75.4]",
          "Amer-Indian-Eskimo, Female, (46.2, 60.8]",
          "Amer-Indian-Eskimo, Female, (75.4, 90.0]"
         ],
         "yaxis": "y",
         "type": "bar"
        }
       ],
       "layout": {
        "template": {
         "data": {
          "histogram2dcontour": [
           {
            "type": "histogram2dcontour",
            "colorbar": {
             "outlinewidth": 0,
             "ticks": ""
            },
            "colorscale": [
             [
              0.0,
              "#0d0887"
             ],
             [
              0.1111111111111111,
              "#46039f"
             ],
             [
              0.2222222222222222,
              "#7201a8"
             ],
             [
              0.3333333333333333,
              "#9c179e"
             ],
             [
              0.4444444444444444,
              "#bd3786"
             ],
             [
              0.5555555555555556,
              "#d8576b"
             ],
             [
              0.6666666666666666,
              "#ed7953"
             ],
             [
              0.7777777777777778,
              "#fb9f3a"
             ],
             [
              0.8888888888888888,
              "#fdca26"
             ],
             [
              1.0,
              "#f0f921"
             ]
            ]
           }
          ],
          "choropleth": [
           {
            "type": "choropleth",
            "colorbar": {
             "outlinewidth": 0,
             "ticks": ""
            }
           }
          ],
          "histogram2d": [
           {
            "type": "histogram2d",
            "colorbar": {
             "outlinewidth": 0,
             "ticks": ""
            },
            "colorscale": [
             [
              0.0,
              "#0d0887"
             ],
             [
              0.1111111111111111,
              "#46039f"
             ],
             [
              0.2222222222222222,
              "#7201a8"
             ],
             [
              0.3333333333333333,
              "#9c179e"
             ],
             [
              0.4444444444444444,
              "#bd3786"
             ],
             [
              0.5555555555555556,
              "#d8576b"
             ],
             [
              0.6666666666666666,
              "#ed7953"
             ],
             [
              0.7777777777777778,
              "#fb9f3a"
             ],
             [
              0.8888888888888888,
              "#fdca26"
             ],
             [
              1.0,
              "#f0f921"
             ]
            ]
           }
          ],
          "heatmap": [
           {
            "type": "heatmap",
            "colorbar": {
             "outlinewidth": 0,
             "ticks": ""
            },
            "colorscale": [
             [
              0.0,
              "#0d0887"
             ],
             [
              0.1111111111111111,
              "#46039f"
             ],
             [
              0.2222222222222222,
              "#7201a8"
             ],
             [
              0.3333333333333333,
              "#9c179e"
             ],
             [
              0.4444444444444444,
              "#bd3786"
             ],
             [
              0.5555555555555556,
              "#d8576b"
             ],
             [
              0.6666666666666666,
              "#ed7953"
             ],
             [
              0.7777777777777778,
              "#fb9f3a"
             ],
             [
              0.8888888888888888,
              "#fdca26"
             ],
             [
              1.0,
              "#f0f921"
             ]
            ]
           }
          ],
          "heatmapgl": [
           {
            "type": "heatmapgl",
            "colorbar": {
             "outlinewidth": 0,
             "ticks": ""
            },
            "colorscale": [
             [
              0.0,
              "#0d0887"
             ],
             [
              0.1111111111111111,
              "#46039f"
             ],
             [
              0.2222222222222222,
              "#7201a8"
             ],
             [
              0.3333333333333333,
              "#9c179e"
             ],
             [
              0.4444444444444444,
              "#bd3786"
             ],
             [
              0.5555555555555556,
              "#d8576b"
             ],
             [
              0.6666666666666666,
              "#ed7953"
             ],
             [
              0.7777777777777778,
              "#fb9f3a"
             ],
             [
              0.8888888888888888,
              "#fdca26"
             ],
             [
              1.0,
              "#f0f921"
             ]
            ]
           }
          ],
          "contourcarpet": [
           {
            "type": "contourcarpet",
            "colorbar": {
             "outlinewidth": 0,
             "ticks": ""
            }
           }
          ],
          "contour": [
           {
            "type": "contour",
            "colorbar": {
             "outlinewidth": 0,
             "ticks": ""
            },
            "colorscale": [
             [
              0.0,
              "#0d0887"
             ],
             [
              0.1111111111111111,
              "#46039f"
             ],
             [
              0.2222222222222222,
              "#7201a8"
             ],
             [
              0.3333333333333333,
              "#9c179e"
             ],
             [
              0.4444444444444444,
              "#bd3786"
             ],
             [
              0.5555555555555556,
              "#d8576b"
             ],
             [
              0.6666666666666666,
              "#ed7953"
             ],
             [
              0.7777777777777778,
              "#fb9f3a"
             ],
             [
              0.8888888888888888,
              "#fdca26"
             ],
             [
              1.0,
              "#f0f921"
             ]
            ]
           }
          ],
          "surface": [
           {
            "type": "surface",
            "colorbar": {
             "outlinewidth": 0,
             "ticks": ""
            },
            "colorscale": [
             [
              0.0,
              "#0d0887"
             ],
             [
              0.1111111111111111,
              "#46039f"
             ],
             [
              0.2222222222222222,
              "#7201a8"
             ],
             [
              0.3333333333333333,
              "#9c179e"
             ],
             [
              0.4444444444444444,
              "#bd3786"
             ],
             [
              0.5555555555555556,
              "#d8576b"
             ],
             [
              0.6666666666666666,
              "#ed7953"
             ],
             [
              0.7777777777777778,
              "#fb9f3a"
             ],
             [
              0.8888888888888888,
              "#fdca26"
             ],
             [
              1.0,
              "#f0f921"
             ]
            ]
           }
          ],
          "mesh3d": [
           {
            "type": "mesh3d",
            "colorbar": {
             "outlinewidth": 0,
             "ticks": ""
            }
           }
          ],
          "scatter": [
           {
            "marker": {
             "line": {
              "color": "#283442"
             }
            },
            "type": "scatter"
           }
          ],
          "parcoords": [
           {
            "type": "parcoords",
            "line": {
             "colorbar": {
              "outlinewidth": 0,
              "ticks": ""
             }
            }
           }
          ],
          "scatterpolargl": [
           {
            "type": "scatterpolargl",
            "marker": {
             "colorbar": {
              "outlinewidth": 0,
              "ticks": ""
             }
            }
           }
          ],
          "bar": [
           {
            "error_x": {
             "color": "#f2f5fa"
            },
            "error_y": {
             "color": "#f2f5fa"
            },
            "marker": {
             "line": {
              "color": "rgb(17,17,17)",
              "width": 0.5
             },
             "pattern": {
              "fillmode": "overlay",
              "size": 10,
              "solidity": 0.2
             }
            },
            "type": "bar"
           }
          ],
          "scattergeo": [
           {
            "type": "scattergeo",
            "marker": {
             "colorbar": {
              "outlinewidth": 0,
              "ticks": ""
             }
            }
           }
          ],
          "scatterpolar": [
           {
            "type": "scatterpolar",
            "marker": {
             "colorbar": {
              "outlinewidth": 0,
              "ticks": ""
             }
            }
           }
          ],
          "histogram": [
           {
            "marker": {
             "pattern": {
              "fillmode": "overlay",
              "size": 10,
              "solidity": 0.2
             }
            },
            "type": "histogram"
           }
          ],
          "scattergl": [
           {
            "marker": {
             "line": {
              "color": "#283442"
             }
            },
            "type": "scattergl"
           }
          ],
          "scatter3d": [
           {
            "type": "scatter3d",
            "line": {
             "colorbar": {
              "outlinewidth": 0,
              "ticks": ""
             }
            },
            "marker": {
             "colorbar": {
              "outlinewidth": 0,
              "ticks": ""
             }
            }
           }
          ],
          "scattermapbox": [
           {
            "type": "scattermapbox",
            "marker": {
             "colorbar": {
              "outlinewidth": 0,
              "ticks": ""
             }
            }
           }
          ],
          "scatterternary": [
           {
            "type": "scatterternary",
            "marker": {
             "colorbar": {
              "outlinewidth": 0,
              "ticks": ""
             }
            }
           }
          ],
          "scattercarpet": [
           {
            "type": "scattercarpet",
            "marker": {
             "colorbar": {
              "outlinewidth": 0,
              "ticks": ""
             }
            }
           }
          ],
          "carpet": [
           {
            "aaxis": {
             "endlinecolor": "#A2B1C6",
             "gridcolor": "#506784",
             "linecolor": "#506784",
             "minorgridcolor": "#506784",
             "startlinecolor": "#A2B1C6"
            },
            "baxis": {
             "endlinecolor": "#A2B1C6",
             "gridcolor": "#506784",
             "linecolor": "#506784",
             "minorgridcolor": "#506784",
             "startlinecolor": "#A2B1C6"
            },
            "type": "carpet"
           }
          ],
          "table": [
           {
            "cells": {
             "fill": {
              "color": "#506784"
             },
             "line": {
              "color": "rgb(17,17,17)"
             }
            },
            "header": {
             "fill": {
              "color": "#2a3f5f"
             },
             "line": {
              "color": "rgb(17,17,17)"
             }
            },
            "type": "table"
           }
          ],
          "barpolar": [
           {
            "marker": {
             "line": {
              "color": "rgb(17,17,17)",
              "width": 0.5
             },
             "pattern": {
              "fillmode": "overlay",
              "size": 10,
              "solidity": 0.2
             }
            },
            "type": "barpolar"
           }
          ],
          "pie": [
           {
            "automargin": true,
            "type": "pie"
           }
          ]
         },
         "layout": {
          "autotypenumbers": "strict",
          "colorway": [
           "#636efa",
           "#EF553B",
           "#00cc96",
           "#ab63fa",
           "#FFA15A",
           "#19d3f3",
           "#FF6692",
           "#B6E880",
           "#FF97FF",
           "#FECB52"
          ],
          "font": {
           "color": "#f2f5fa"
          },
          "hovermode": "closest",
          "hoverlabel": {
           "align": "left"
          },
          "paper_bgcolor": "rgb(17,17,17)",
          "plot_bgcolor": "rgb(17,17,17)",
          "polar": {
           "bgcolor": "rgb(17,17,17)",
           "angularaxis": {
            "gridcolor": "#506784",
            "linecolor": "#506784",
            "ticks": ""
           },
           "radialaxis": {
            "gridcolor": "#506784",
            "linecolor": "#506784",
            "ticks": ""
           }
          },
          "ternary": {
           "bgcolor": "rgb(17,17,17)",
           "aaxis": {
            "gridcolor": "#506784",
            "linecolor": "#506784",
            "ticks": ""
           },
           "baxis": {
            "gridcolor": "#506784",
            "linecolor": "#506784",
            "ticks": ""
           },
           "caxis": {
            "gridcolor": "#506784",
            "linecolor": "#506784",
            "ticks": ""
           }
          },
          "coloraxis": {
           "colorbar": {
            "outlinewidth": 0,
            "ticks": ""
           }
          },
          "colorscale": {
           "sequential": [
            [
             0.0,
             "#0d0887"
            ],
            [
             0.1111111111111111,
             "#46039f"
            ],
            [
             0.2222222222222222,
             "#7201a8"
            ],
            [
             0.3333333333333333,
             "#9c179e"
            ],
            [
             0.4444444444444444,
             "#bd3786"
            ],
            [
             0.5555555555555556,
             "#d8576b"
            ],
            [
             0.6666666666666666,
             "#ed7953"
            ],
            [
             0.7777777777777778,
             "#fb9f3a"
            ],
            [
             0.8888888888888888,
             "#fdca26"
            ],
            [
             1.0,
             "#f0f921"
            ]
           ],
           "sequentialminus": [
            [
             0.0,
             "#0d0887"
            ],
            [
             0.1111111111111111,
             "#46039f"
            ],
            [
             0.2222222222222222,
             "#7201a8"
            ],
            [
             0.3333333333333333,
             "#9c179e"
            ],
            [
             0.4444444444444444,
             "#bd3786"
            ],
            [
             0.5555555555555556,
             "#d8576b"
            ],
            [
             0.6666666666666666,
             "#ed7953"
            ],
            [
             0.7777777777777778,
             "#fb9f3a"
            ],
            [
             0.8888888888888888,
             "#fdca26"
            ],
            [
             1.0,
             "#f0f921"
            ]
           ],
           "diverging": [
            [
             0,
             "#8e0152"
            ],
            [
             0.1,
             "#c51b7d"
            ],
            [
             0.2,
             "#de77ae"
            ],
            [
             0.3,
             "#f1b6da"
            ],
            [
             0.4,
             "#fde0ef"
            ],
            [
             0.5,
             "#f7f7f7"
            ],
            [
             0.6,
             "#e6f5d0"
            ],
            [
             0.7,
             "#b8e186"
            ],
            [
             0.8,
             "#7fbc41"
            ],
            [
             0.9,
             "#4d9221"
            ],
            [
             1,
             "#276419"
            ]
           ]
          },
          "xaxis": {
           "gridcolor": "#283442",
           "linecolor": "#506784",
           "ticks": "",
           "title": {
            "standoff": 15
           },
           "zerolinecolor": "#283442",
           "automargin": true,
           "zerolinewidth": 2
          },
          "yaxis": {
           "gridcolor": "#283442",
           "linecolor": "#506784",
           "ticks": "",
           "title": {
            "standoff": 15
           },
           "zerolinecolor": "#283442",
           "automargin": true,
           "zerolinewidth": 2
          },
          "scene": {
           "xaxis": {
            "backgroundcolor": "rgb(17,17,17)",
            "gridcolor": "#506784",
            "linecolor": "#506784",
            "showbackground": true,
            "ticks": "",
            "zerolinecolor": "#C8D4E3",
            "gridwidth": 2
           },
           "yaxis": {
            "backgroundcolor": "rgb(17,17,17)",
            "gridcolor": "#506784",
            "linecolor": "#506784",
            "showbackground": true,
            "ticks": "",
            "zerolinecolor": "#C8D4E3",
            "gridwidth": 2
           },
           "zaxis": {
            "backgroundcolor": "rgb(17,17,17)",
            "gridcolor": "#506784",
            "linecolor": "#506784",
            "showbackground": true,
            "ticks": "",
            "zerolinecolor": "#C8D4E3",
            "gridwidth": 2
           }
          },
          "shapedefaults": {
           "line": {
            "color": "#f2f5fa"
           }
          },
          "annotationdefaults": {
           "arrowcolor": "#f2f5fa",
           "arrowhead": 0,
           "arrowwidth": 1
          },
          "geo": {
           "bgcolor": "rgb(17,17,17)",
           "landcolor": "rgb(17,17,17)",
           "subunitcolor": "#506784",
           "showland": true,
           "showlakes": true,
           "lakecolor": "rgb(17,17,17)"
          },
          "title": {
           "x": 0.05
          },
          "updatemenudefaults": {
           "bgcolor": "#506784",
           "borderwidth": 0
          },
          "sliderdefaults": {
           "bgcolor": "#C8D4E3",
           "borderwidth": 1,
           "bordercolor": "rgb(17,17,17)",
           "tickwidth": 0
          },
          "mapbox": {
           "style": "dark"
          }
         }
        },
        "xaxis": {
         "anchor": "y",
         "domain": [
          0.0,
          1.0
         ],
         "title": {
          "text": "Count"
         }
        },
        "yaxis": {
         "anchor": "x",
         "domain": [
          0.0,
          1.0
         ],
         "title": {
          "text": "sensitive_features"
         }
        },
        "legend": {
         "title": {
          "text": "variable"
         },
         "tracegroupgap": 0
        },
        "title": {
         "text": "Sensitive Feature Combinations vs Target Column"
        },
        "barmode": "stack"
       },
       "config": {
        "plotlyServerURL": "https://plot.ly"
       }
      },
      "text/html": "<div>                            <div id=\"b662923c-098d-41a1-a331-410ca16dc994\" class=\"plotly-graph-div\" style=\"height:525px; width:100%;\"></div>            <script type=\"text/javascript\">                require([\"plotly\"], function(Plotly) {                    window.PLOTLYENV=window.PLOTLYENV || {};                                    if (document.getElementById(\"b662923c-098d-41a1-a331-410ca16dc994\")) {                    Plotly.newPlot(                        \"b662923c-098d-41a1-a331-410ca16dc994\",                        [{\"alignmentgroup\":\"True\",\"hovertemplate\":\"variable=<=50K<br>value=%{x}<br>sensitive_features=%{y}<extra></extra>\",\"legendgroup\":\"<=50K\",\"marker\":{\"color\":\"#636efa\",\"pattern\":{\"shape\":\"\"}},\"name\":\"<=50K\",\"offsetgroup\":\"<=50K\",\"orientation\":\"h\",\"showlegend\":true,\"textposition\":\"auto\",\"x\":[833.0,689.0,105.0,307.0,9.0,805.0,845.0,126.0,392.0,8.0,7973.0,6877.0,1343.0,3294.0,183.0,5378.0,3349.0,796.0,1863.0,99.0,279.0,246.0,32.0,95.0,10.0,212.0,149.0,19.0,66.0,2.0,111.0,70.0,6.0,24.0,1.0,86.0,41.0,3.0,14.0,97.0,107.0,7.0,33.0,1.0,76.0,54.0,4.0,35.0,1.0],\"xaxis\":\"x\",\"y\":[\"Black, Male, (16.927, 31.6]\",\"Black, Male, (31.6, 46.2]\",\"Black, Male, (60.8, 75.4]\",\"Black, Male, (46.2, 60.8]\",\"Black, Male, (75.4, 90.0]\",\"Black, Female, (16.927, 31.6]\",\"Black, Female, (31.6, 46.2]\",\"Black, Female, (60.8, 75.4]\",\"Black, Female, (46.2, 60.8]\",\"Black, Female, (75.4, 90.0]\",\"White, Male, (16.927, 31.6]\",\"White, Male, (31.6, 46.2]\",\"White, Male, (60.8, 75.4]\",\"White, Male, (46.2, 60.8]\",\"White, Male, (75.4, 90.0]\",\"White, Female, (16.927, 31.6]\",\"White, Female, (31.6, 46.2]\",\"White, Female, (60.8, 75.4]\",\"White, Female, (46.2, 60.8]\",\"White, Female, (75.4, 90.0]\",\"Asian-Pac-Islander, Male, (16.927, 31.6]\",\"Asian-Pac-Islander, Male, (31.6, 46.2]\",\"Asian-Pac-Islander, Male, (60.8, 75.4]\",\"Asian-Pac-Islander, Male, (46.2, 60.8]\",\"Asian-Pac-Islander, Male, (75.4, 90.0]\",\"Asian-Pac-Islander, Female, (16.927, 31.6]\",\"Asian-Pac-Islander, Female, (31.6, 46.2]\",\"Asian-Pac-Islander, Female, (60.8, 75.4]\",\"Asian-Pac-Islander, Female, (46.2, 60.8]\",\"Asian-Pac-Islander, Female, (75.4, 90.0]\",\"Other, Male, (16.927, 31.6]\",\"Other, Male, (31.6, 46.2]\",\"Other, Male, (60.8, 75.4]\",\"Other, Male, (46.2, 60.8]\",\"Other, Male, (75.4, 90.0]\",\"Other, Female, (16.927, 31.6]\",\"Other, Female, (31.6, 46.2]\",\"Other, Female, (60.8, 75.4]\",\"Other, Female, (46.2, 60.8]\",\"Amer-Indian-Eskimo, Male, (16.927, 31.6]\",\"Amer-Indian-Eskimo, Male, (31.6, 46.2]\",\"Amer-Indian-Eskimo, Male, (60.8, 75.4]\",\"Amer-Indian-Eskimo, Male, (46.2, 60.8]\",\"Amer-Indian-Eskimo, Male, (75.4, 90.0]\",\"Amer-Indian-Eskimo, Female, (16.927, 31.6]\",\"Amer-Indian-Eskimo, Female, (31.6, 46.2]\",\"Amer-Indian-Eskimo, Female, (60.8, 75.4]\",\"Amer-Indian-Eskimo, Female, (46.2, 60.8]\",\"Amer-Indian-Eskimo, Female, (75.4, 90.0]\"],\"yaxis\":\"y\",\"type\":\"bar\"},{\"alignmentgroup\":\"True\",\"hovertemplate\":\"variable=>50K<br>value=%{x}<br>sensitive_features=%{y}<extra></extra>\",\"legendgroup\":\">50K\",\"marker\":{\"color\":\"#EF553B\",\"pattern\":{\"shape\":\"\"}},\"name\":\">50K\",\"offsetgroup\":\">50K\",\"orientation\":\"h\",\"showlegend\":true,\"textposition\":\"auto\",\"x\":[35.0,230.0,25.0,143.0,1.0,14.0,75.0,2.0,41.0,0.0,900.0,4462.0,658.0,2992.0,53.0,241.0,797.0,82.0,417.0,5.0,48.0,181.0,20.0,91.0,0.0,13.0,44.0,1.0,11.0,0.0,3.0,23.0,2.0,11.0,0.0,5.0,6.0,0.0,0.0,5.0,24.0,2.0,9.0,0.0,4.0,8.0,0.0,3.0,0.0],\"xaxis\":\"x\",\"y\":[\"Black, Male, (16.927, 31.6]\",\"Black, Male, (31.6, 46.2]\",\"Black, Male, (60.8, 75.4]\",\"Black, Male, (46.2, 60.8]\",\"Black, Male, (75.4, 90.0]\",\"Black, Female, (16.927, 31.6]\",\"Black, Female, (31.6, 46.2]\",\"Black, Female, (60.8, 75.4]\",\"Black, Female, (46.2, 60.8]\",\"Black, Female, (75.4, 90.0]\",\"White, Male, (16.927, 31.6]\",\"White, Male, (31.6, 46.2]\",\"White, Male, (60.8, 75.4]\",\"White, Male, (46.2, 60.8]\",\"White, Male, (75.4, 90.0]\",\"White, Female, (16.927, 31.6]\",\"White, Female, (31.6, 46.2]\",\"White, Female, (60.8, 75.4]\",\"White, Female, (46.2, 60.8]\",\"White, Female, (75.4, 90.0]\",\"Asian-Pac-Islander, Male, (16.927, 31.6]\",\"Asian-Pac-Islander, Male, (31.6, 46.2]\",\"Asian-Pac-Islander, Male, (60.8, 75.4]\",\"Asian-Pac-Islander, Male, (46.2, 60.8]\",\"Asian-Pac-Islander, Male, (75.4, 90.0]\",\"Asian-Pac-Islander, Female, (16.927, 31.6]\",\"Asian-Pac-Islander, Female, (31.6, 46.2]\",\"Asian-Pac-Islander, Female, (60.8, 75.4]\",\"Asian-Pac-Islander, Female, (46.2, 60.8]\",\"Asian-Pac-Islander, Female, (75.4, 90.0]\",\"Other, Male, (16.927, 31.6]\",\"Other, Male, (31.6, 46.2]\",\"Other, Male, (60.8, 75.4]\",\"Other, Male, (46.2, 60.8]\",\"Other, Male, (75.4, 90.0]\",\"Other, Female, (16.927, 31.6]\",\"Other, Female, (31.6, 46.2]\",\"Other, Female, (60.8, 75.4]\",\"Other, Female, (46.2, 60.8]\",\"Amer-Indian-Eskimo, Male, (16.927, 31.6]\",\"Amer-Indian-Eskimo, Male, (31.6, 46.2]\",\"Amer-Indian-Eskimo, Male, (60.8, 75.4]\",\"Amer-Indian-Eskimo, Male, (46.2, 60.8]\",\"Amer-Indian-Eskimo, Male, (75.4, 90.0]\",\"Amer-Indian-Eskimo, Female, (16.927, 31.6]\",\"Amer-Indian-Eskimo, Female, (31.6, 46.2]\",\"Amer-Indian-Eskimo, Female, (60.8, 75.4]\",\"Amer-Indian-Eskimo, Female, (46.2, 60.8]\",\"Amer-Indian-Eskimo, Female, (75.4, 90.0]\"],\"yaxis\":\"y\",\"type\":\"bar\"}],                        {\"template\":{\"data\":{\"histogram2dcontour\":[{\"type\":\"histogram2dcontour\",\"colorbar\":{\"outlinewidth\":0,\"ticks\":\"\"},\"colorscale\":[[0.0,\"#0d0887\"],[0.1111111111111111,\"#46039f\"],[0.2222222222222222,\"#7201a8\"],[0.3333333333333333,\"#9c179e\"],[0.4444444444444444,\"#bd3786\"],[0.5555555555555556,\"#d8576b\"],[0.6666666666666666,\"#ed7953\"],[0.7777777777777778,\"#fb9f3a\"],[0.8888888888888888,\"#fdca26\"],[1.0,\"#f0f921\"]]}],\"choropleth\":[{\"type\":\"choropleth\",\"colorbar\":{\"outlinewidth\":0,\"ticks\":\"\"}}],\"histogram2d\":[{\"type\":\"histogram2d\",\"colorbar\":{\"outlinewidth\":0,\"ticks\":\"\"},\"colorscale\":[[0.0,\"#0d0887\"],[0.1111111111111111,\"#46039f\"],[0.2222222222222222,\"#7201a8\"],[0.3333333333333333,\"#9c179e\"],[0.4444444444444444,\"#bd3786\"],[0.5555555555555556,\"#d8576b\"],[0.6666666666666666,\"#ed7953\"],[0.7777777777777778,\"#fb9f3a\"],[0.8888888888888888,\"#fdca26\"],[1.0,\"#f0f921\"]]}],\"heatmap\":[{\"type\":\"heatmap\",\"colorbar\":{\"outlinewidth\":0,\"ticks\":\"\"},\"colorscale\":[[0.0,\"#0d0887\"],[0.1111111111111111,\"#46039f\"],[0.2222222222222222,\"#7201a8\"],[0.3333333333333333,\"#9c179e\"],[0.4444444444444444,\"#bd3786\"],[0.5555555555555556,\"#d8576b\"],[0.6666666666666666,\"#ed7953\"],[0.7777777777777778,\"#fb9f3a\"],[0.8888888888888888,\"#fdca26\"],[1.0,\"#f0f921\"]]}],\"heatmapgl\":[{\"type\":\"heatmapgl\",\"colorbar\":{\"outlinewidth\":0,\"ticks\":\"\"},\"colorscale\":[[0.0,\"#0d0887\"],[0.1111111111111111,\"#46039f\"],[0.2222222222222222,\"#7201a8\"],[0.3333333333333333,\"#9c179e\"],[0.4444444444444444,\"#bd3786\"],[0.5555555555555556,\"#d8576b\"],[0.6666666666666666,\"#ed7953\"],[0.7777777777777778,\"#fb9f3a\"],[0.8888888888888888,\"#fdca26\"],[1.0,\"#f0f921\"]]}],\"contourcarpet\":[{\"type\":\"contourcarpet\",\"colorbar\":{\"outlinewidth\":0,\"ticks\":\"\"}}],\"contour\":[{\"type\":\"contour\",\"colorbar\":{\"outlinewidth\":0,\"ticks\":\"\"},\"colorscale\":[[0.0,\"#0d0887\"],[0.1111111111111111,\"#46039f\"],[0.2222222222222222,\"#7201a8\"],[0.3333333333333333,\"#9c179e\"],[0.4444444444444444,\"#bd3786\"],[0.5555555555555556,\"#d8576b\"],[0.6666666666666666,\"#ed7953\"],[0.7777777777777778,\"#fb9f3a\"],[0.8888888888888888,\"#fdca26\"],[1.0,\"#f0f921\"]]}],\"surface\":[{\"type\":\"surface\",\"colorbar\":{\"outlinewidth\":0,\"ticks\":\"\"},\"colorscale\":[[0.0,\"#0d0887\"],[0.1111111111111111,\"#46039f\"],[0.2222222222222222,\"#7201a8\"],[0.3333333333333333,\"#9c179e\"],[0.4444444444444444,\"#bd3786\"],[0.5555555555555556,\"#d8576b\"],[0.6666666666666666,\"#ed7953\"],[0.7777777777777778,\"#fb9f3a\"],[0.8888888888888888,\"#fdca26\"],[1.0,\"#f0f921\"]]}],\"mesh3d\":[{\"type\":\"mesh3d\",\"colorbar\":{\"outlinewidth\":0,\"ticks\":\"\"}}],\"scatter\":[{\"marker\":{\"line\":{\"color\":\"#283442\"}},\"type\":\"scatter\"}],\"parcoords\":[{\"type\":\"parcoords\",\"line\":{\"colorbar\":{\"outlinewidth\":0,\"ticks\":\"\"}}}],\"scatterpolargl\":[{\"type\":\"scatterpolargl\",\"marker\":{\"colorbar\":{\"outlinewidth\":0,\"ticks\":\"\"}}}],\"bar\":[{\"error_x\":{\"color\":\"#f2f5fa\"},\"error_y\":{\"color\":\"#f2f5fa\"},\"marker\":{\"line\":{\"color\":\"rgb(17,17,17)\",\"width\":0.5},\"pattern\":{\"fillmode\":\"overlay\",\"size\":10,\"solidity\":0.2}},\"type\":\"bar\"}],\"scattergeo\":[{\"type\":\"scattergeo\",\"marker\":{\"colorbar\":{\"outlinewidth\":0,\"ticks\":\"\"}}}],\"scatterpolar\":[{\"type\":\"scatterpolar\",\"marker\":{\"colorbar\":{\"outlinewidth\":0,\"ticks\":\"\"}}}],\"histogram\":[{\"marker\":{\"pattern\":{\"fillmode\":\"overlay\",\"size\":10,\"solidity\":0.2}},\"type\":\"histogram\"}],\"scattergl\":[{\"marker\":{\"line\":{\"color\":\"#283442\"}},\"type\":\"scattergl\"}],\"scatter3d\":[{\"type\":\"scatter3d\",\"line\":{\"colorbar\":{\"outlinewidth\":0,\"ticks\":\"\"}},\"marker\":{\"colorbar\":{\"outlinewidth\":0,\"ticks\":\"\"}}}],\"scattermapbox\":[{\"type\":\"scattermapbox\",\"marker\":{\"colorbar\":{\"outlinewidth\":0,\"ticks\":\"\"}}}],\"scatterternary\":[{\"type\":\"scatterternary\",\"marker\":{\"colorbar\":{\"outlinewidth\":0,\"ticks\":\"\"}}}],\"scattercarpet\":[{\"type\":\"scattercarpet\",\"marker\":{\"colorbar\":{\"outlinewidth\":0,\"ticks\":\"\"}}}],\"carpet\":[{\"aaxis\":{\"endlinecolor\":\"#A2B1C6\",\"gridcolor\":\"#506784\",\"linecolor\":\"#506784\",\"minorgridcolor\":\"#506784\",\"startlinecolor\":\"#A2B1C6\"},\"baxis\":{\"endlinecolor\":\"#A2B1C6\",\"gridcolor\":\"#506784\",\"linecolor\":\"#506784\",\"minorgridcolor\":\"#506784\",\"startlinecolor\":\"#A2B1C6\"},\"type\":\"carpet\"}],\"table\":[{\"cells\":{\"fill\":{\"color\":\"#506784\"},\"line\":{\"color\":\"rgb(17,17,17)\"}},\"header\":{\"fill\":{\"color\":\"#2a3f5f\"},\"line\":{\"color\":\"rgb(17,17,17)\"}},\"type\":\"table\"}],\"barpolar\":[{\"marker\":{\"line\":{\"color\":\"rgb(17,17,17)\",\"width\":0.5},\"pattern\":{\"fillmode\":\"overlay\",\"size\":10,\"solidity\":0.2}},\"type\":\"barpolar\"}],\"pie\":[{\"automargin\":true,\"type\":\"pie\"}]},\"layout\":{\"autotypenumbers\":\"strict\",\"colorway\":[\"#636efa\",\"#EF553B\",\"#00cc96\",\"#ab63fa\",\"#FFA15A\",\"#19d3f3\",\"#FF6692\",\"#B6E880\",\"#FF97FF\",\"#FECB52\"],\"font\":{\"color\":\"#f2f5fa\"},\"hovermode\":\"closest\",\"hoverlabel\":{\"align\":\"left\"},\"paper_bgcolor\":\"rgb(17,17,17)\",\"plot_bgcolor\":\"rgb(17,17,17)\",\"polar\":{\"bgcolor\":\"rgb(17,17,17)\",\"angularaxis\":{\"gridcolor\":\"#506784\",\"linecolor\":\"#506784\",\"ticks\":\"\"},\"radialaxis\":{\"gridcolor\":\"#506784\",\"linecolor\":\"#506784\",\"ticks\":\"\"}},\"ternary\":{\"bgcolor\":\"rgb(17,17,17)\",\"aaxis\":{\"gridcolor\":\"#506784\",\"linecolor\":\"#506784\",\"ticks\":\"\"},\"baxis\":{\"gridcolor\":\"#506784\",\"linecolor\":\"#506784\",\"ticks\":\"\"},\"caxis\":{\"gridcolor\":\"#506784\",\"linecolor\":\"#506784\",\"ticks\":\"\"}},\"coloraxis\":{\"colorbar\":{\"outlinewidth\":0,\"ticks\":\"\"}},\"colorscale\":{\"sequential\":[[0.0,\"#0d0887\"],[0.1111111111111111,\"#46039f\"],[0.2222222222222222,\"#7201a8\"],[0.3333333333333333,\"#9c179e\"],[0.4444444444444444,\"#bd3786\"],[0.5555555555555556,\"#d8576b\"],[0.6666666666666666,\"#ed7953\"],[0.7777777777777778,\"#fb9f3a\"],[0.8888888888888888,\"#fdca26\"],[1.0,\"#f0f921\"]],\"sequentialminus\":[[0.0,\"#0d0887\"],[0.1111111111111111,\"#46039f\"],[0.2222222222222222,\"#7201a8\"],[0.3333333333333333,\"#9c179e\"],[0.4444444444444444,\"#bd3786\"],[0.5555555555555556,\"#d8576b\"],[0.6666666666666666,\"#ed7953\"],[0.7777777777777778,\"#fb9f3a\"],[0.8888888888888888,\"#fdca26\"],[1.0,\"#f0f921\"]],\"diverging\":[[0,\"#8e0152\"],[0.1,\"#c51b7d\"],[0.2,\"#de77ae\"],[0.3,\"#f1b6da\"],[0.4,\"#fde0ef\"],[0.5,\"#f7f7f7\"],[0.6,\"#e6f5d0\"],[0.7,\"#b8e186\"],[0.8,\"#7fbc41\"],[0.9,\"#4d9221\"],[1,\"#276419\"]]},\"xaxis\":{\"gridcolor\":\"#283442\",\"linecolor\":\"#506784\",\"ticks\":\"\",\"title\":{\"standoff\":15},\"zerolinecolor\":\"#283442\",\"automargin\":true,\"zerolinewidth\":2},\"yaxis\":{\"gridcolor\":\"#283442\",\"linecolor\":\"#506784\",\"ticks\":\"\",\"title\":{\"standoff\":15},\"zerolinecolor\":\"#283442\",\"automargin\":true,\"zerolinewidth\":2},\"scene\":{\"xaxis\":{\"backgroundcolor\":\"rgb(17,17,17)\",\"gridcolor\":\"#506784\",\"linecolor\":\"#506784\",\"showbackground\":true,\"ticks\":\"\",\"zerolinecolor\":\"#C8D4E3\",\"gridwidth\":2},\"yaxis\":{\"backgroundcolor\":\"rgb(17,17,17)\",\"gridcolor\":\"#506784\",\"linecolor\":\"#506784\",\"showbackground\":true,\"ticks\":\"\",\"zerolinecolor\":\"#C8D4E3\",\"gridwidth\":2},\"zaxis\":{\"backgroundcolor\":\"rgb(17,17,17)\",\"gridcolor\":\"#506784\",\"linecolor\":\"#506784\",\"showbackground\":true,\"ticks\":\"\",\"zerolinecolor\":\"#C8D4E3\",\"gridwidth\":2}},\"shapedefaults\":{\"line\":{\"color\":\"#f2f5fa\"}},\"annotationdefaults\":{\"arrowcolor\":\"#f2f5fa\",\"arrowhead\":0,\"arrowwidth\":1},\"geo\":{\"bgcolor\":\"rgb(17,17,17)\",\"landcolor\":\"rgb(17,17,17)\",\"subunitcolor\":\"#506784\",\"showland\":true,\"showlakes\":true,\"lakecolor\":\"rgb(17,17,17)\"},\"title\":{\"x\":0.05},\"updatemenudefaults\":{\"bgcolor\":\"#506784\",\"borderwidth\":0},\"sliderdefaults\":{\"bgcolor\":\"#C8D4E3\",\"borderwidth\":1,\"bordercolor\":\"rgb(17,17,17)\",\"tickwidth\":0},\"mapbox\":{\"style\":\"dark\"}}},\"xaxis\":{\"anchor\":\"y\",\"domain\":[0.0,1.0],\"title\":{\"text\":\"Count\"}},\"yaxis\":{\"anchor\":\"x\",\"domain\":[0.0,1.0],\"title\":{\"text\":\"sensitive_features\"}},\"legend\":{\"title\":{\"text\":\"variable\"},\"tracegroupgap\":0},\"title\":{\"text\":\"Sensitive Feature Combinations vs Target Column\"},\"barmode\":\"stack\"},                        {\"responsive\": true}                    ).then(function(){\n                            \nvar gd = document.getElementById('b662923c-098d-41a1-a331-410ca16dc994');\nvar x = new MutationObserver(function (mutations, observer) {{\n        var display = window.getComputedStyle(gd).display;\n        if (!display || display === 'none') {{\n            console.log([gd, 'removed!']);\n            Plotly.purge(gd);\n            observer.disconnect();\n        }}\n}});\n\n// Listen for the removal of the full notebook cells\nvar notebookContainer = gd.closest('#notebook-container');\nif (notebookContainer) {{\n    x.observe(notebookContainer, {childList: true});\n}}\n\n// Listen for the clearing of the current output cell\nvar outputEl = gd.closest('.output');\nif (outputEl) {{\n    x.observe(outputEl, {childList: true});\n}}\n\n                        })                };                });            </script>        </div>"
     },
     "metadata": {},
     "output_type": "display_data"
    }
   ],
   "source": [
    "# Call the sensitive_feature_combinations function to get the counts table\n",
    "counts_table = sensitive_feature_combinations(data, sensitive_features, target_column)\n",
    "\n",
    "\n",
    "def plot_stacked_barchart(sensitive_feature_counts_table):\n",
    "    \"\"\"\"creates a plotly stacked bar chart to display the distribution of class labels per sensitive subgroup\"\"\"\n",
    "    #table always looks the same (sensitive features (vary in amount), count, class labels (vary in amount))\n",
    "    list_of_labels = list(sensitive_feature_counts_table.columns)\n",
    "    list_of_labels.remove('sensitive_features')\n",
    "    list_of_labels.remove('count')\n",
    "    fig = px.bar(sensitive_feature_counts_table, x=list_of_labels, y='sensitive_features', barmode='stack', title='Sensitive Feature Combinations vs Target Column', orientation='h')\n",
    "    # Set the x-axis title\n",
    "    fig.update_xaxes(title_text='Count')\n",
    "\n",
    "    return fig\n",
    "\n",
    "fig = plot_stacked_barchart(counts_table)\n",
    "fig.show()\n"
   ],
   "metadata": {
    "collapsed": false
   }
  },
  {
   "cell_type": "code",
   "execution_count": 133,
   "outputs": [
    {
     "name": "stdout",
     "output_type": "stream",
     "text": [
      "                                                                               sensitive_features  \\\n",
      "(63.8, 75.0]   male   (1.8, 2.4]    little      (63.8, 75.0], male, (1.8, 2.4], little              \n",
      "                      (0.6, 1.2]    little      (63.8, 75.0], male, (0.6, 1.2], little              \n",
      "                                    quite rich  (63.8, 75.0], male, (0.6, 1.2], quite rich          \n",
      "                      (2.4, 3.0]    little      (63.8, 75.0], male, (2.4, 3.0], little              \n",
      "                      (-0.003, 0.6] little      (63.8, 75.0], male, (-0.003, 0.6], little           \n",
      "               female (1.8, 2.4]    little      (63.8, 75.0], female, (1.8, 2.4], little            \n",
      "                                    moderate    (63.8, 75.0], female, (1.8, 2.4], moderate          \n",
      "                      (0.6, 1.2]    quite rich  (63.8, 75.0], female, (0.6, 1.2], quite rich        \n",
      "                      (2.4, 3.0]    little      (63.8, 75.0], female, (2.4, 3.0], little            \n",
      "                      (-0.003, 0.6] little      (63.8, 75.0], female, (-0.003, 0.6], little         \n",
      "(18.944, 30.2] male   (1.8, 2.4]    little      (18.944, 30.2], male, (1.8, 2.4], little            \n",
      "                                    quite rich  (18.944, 30.2], male, (1.8, 2.4], quite rich        \n",
      "                                    rich        (18.944, 30.2], male, (1.8, 2.4], rich              \n",
      "                                    moderate    (18.944, 30.2], male, (1.8, 2.4], moderate          \n",
      "                      (0.6, 1.2]    little      (18.944, 30.2], male, (0.6, 1.2], little            \n",
      "                                    quite rich  (18.944, 30.2], male, (0.6, 1.2], quite rich        \n",
      "                                    moderate    (18.944, 30.2], male, (0.6, 1.2], moderate          \n",
      "                      (2.4, 3.0]    little      (18.944, 30.2], male, (2.4, 3.0], little            \n",
      "                                    quite rich  (18.944, 30.2], male, (2.4, 3.0], quite rich        \n",
      "                                    moderate    (18.944, 30.2], male, (2.4, 3.0], moderate          \n",
      "                      (-0.003, 0.6] little      (18.944, 30.2], male, (-0.003, 0.6], little         \n",
      "                                    rich        (18.944, 30.2], male, (-0.003, 0.6], rich           \n",
      "               female (1.8, 2.4]    little      (18.944, 30.2], female, (1.8, 2.4], little          \n",
      "                                    quite rich  (18.944, 30.2], female, (1.8, 2.4], quite rich      \n",
      "                                    rich        (18.944, 30.2], female, (1.8, 2.4], rich            \n",
      "                                    moderate    (18.944, 30.2], female, (1.8, 2.4], moderate        \n",
      "                      (0.6, 1.2]    little      (18.944, 30.2], female, (0.6, 1.2], little          \n",
      "                                    moderate    (18.944, 30.2], female, (0.6, 1.2], moderate        \n",
      "                      (2.4, 3.0]    little      (18.944, 30.2], female, (2.4, 3.0], little          \n",
      "                                    moderate    (18.944, 30.2], female, (2.4, 3.0], moderate        \n",
      "                      (-0.003, 0.6] little      (18.944, 30.2], female, (-0.003, 0.6], little       \n",
      "(41.4, 52.6]   male   (1.8, 2.4]    little      (41.4, 52.6], male, (1.8, 2.4], little              \n",
      "                                    quite rich  (41.4, 52.6], male, (1.8, 2.4], quite rich          \n",
      "                                    rich        (41.4, 52.6], male, (1.8, 2.4], rich                \n",
      "                                    moderate    (41.4, 52.6], male, (1.8, 2.4], moderate            \n",
      "                      (0.6, 1.2]    little      (41.4, 52.6], male, (0.6, 1.2], little              \n",
      "                                    quite rich  (41.4, 52.6], male, (0.6, 1.2], quite rich          \n",
      "                      (2.4, 3.0]    little      (41.4, 52.6], male, (2.4, 3.0], little              \n",
      "                                    moderate    (41.4, 52.6], male, (2.4, 3.0], moderate            \n",
      "               female (1.8, 2.4]    little      (41.4, 52.6], female, (1.8, 2.4], little            \n",
      "                                    moderate    (41.4, 52.6], female, (1.8, 2.4], moderate          \n",
      "                      (0.6, 1.2]    little      (41.4, 52.6], female, (0.6, 1.2], little            \n",
      "                                    rich        (41.4, 52.6], female, (0.6, 1.2], rich              \n",
      "                                    moderate    (41.4, 52.6], female, (0.6, 1.2], moderate          \n",
      "(52.6, 63.8]   male   (1.8, 2.4]    little      (52.6, 63.8], male, (1.8, 2.4], little              \n",
      "                                    quite rich  (52.6, 63.8], male, (1.8, 2.4], quite rich          \n",
      "                                    rich        (52.6, 63.8], male, (1.8, 2.4], rich                \n",
      "                      (0.6, 1.2]    little      (52.6, 63.8], male, (0.6, 1.2], little              \n",
      "                                    rich        (52.6, 63.8], male, (0.6, 1.2], rich                \n",
      "                      (2.4, 3.0]    rich        (52.6, 63.8], male, (2.4, 3.0], rich                \n",
      "               female (1.8, 2.4]    little      (52.6, 63.8], female, (1.8, 2.4], little            \n",
      "                      (0.6, 1.2]    little      (52.6, 63.8], female, (0.6, 1.2], little            \n",
      "                                    quite rich  (52.6, 63.8], female, (0.6, 1.2], quite rich        \n",
      "                                    moderate    (52.6, 63.8], female, (0.6, 1.2], moderate          \n",
      "                      (-0.003, 0.6] little      (52.6, 63.8], female, (-0.003, 0.6], little         \n",
      "(30.2, 41.4]   male   (1.8, 2.4]    little      (30.2, 41.4], male, (1.8, 2.4], little              \n",
      "                                    quite rich  (30.2, 41.4], male, (1.8, 2.4], quite rich          \n",
      "                                    rich        (30.2, 41.4], male, (1.8, 2.4], rich                \n",
      "                                    moderate    (30.2, 41.4], male, (1.8, 2.4], moderate            \n",
      "                      (0.6, 1.2]    little      (30.2, 41.4], male, (0.6, 1.2], little              \n",
      "                                    quite rich  (30.2, 41.4], male, (0.6, 1.2], quite rich          \n",
      "                                    rich        (30.2, 41.4], male, (0.6, 1.2], rich                \n",
      "                                    moderate    (30.2, 41.4], male, (0.6, 1.2], moderate            \n",
      "                      (2.4, 3.0]    little      (30.2, 41.4], male, (2.4, 3.0], little              \n",
      "                                    quite rich  (30.2, 41.4], male, (2.4, 3.0], quite rich          \n",
      "                                    rich        (30.2, 41.4], male, (2.4, 3.0], rich                \n",
      "                                    moderate    (30.2, 41.4], male, (2.4, 3.0], moderate            \n",
      "                      (-0.003, 0.6] little      (30.2, 41.4], male, (-0.003, 0.6], little           \n",
      "               female (1.8, 2.4]    little      (30.2, 41.4], female, (1.8, 2.4], little            \n",
      "                                    quite rich  (30.2, 41.4], female, (1.8, 2.4], quite rich        \n",
      "                                    rich        (30.2, 41.4], female, (1.8, 2.4], rich              \n",
      "                                    moderate    (30.2, 41.4], female, (1.8, 2.4], moderate          \n",
      "                      (0.6, 1.2]    little      (30.2, 41.4], female, (0.6, 1.2], little            \n",
      "                                    quite rich  (30.2, 41.4], female, (0.6, 1.2], quite rich        \n",
      "                                    rich        (30.2, 41.4], female, (0.6, 1.2], rich              \n",
      "                                    moderate    (30.2, 41.4], female, (0.6, 1.2], moderate          \n",
      "                      (2.4, 3.0]    little      (30.2, 41.4], female, (2.4, 3.0], little            \n",
      "                                    quite rich  (30.2, 41.4], female, (2.4, 3.0], quite rich        \n",
      "                      (-0.003, 0.6] little      (30.2, 41.4], female, (-0.003, 0.6], little         \n",
      "(63.8, 75.0]   male   (-0.003, 0.6] quite rich  (63.8, 75.0], male, (-0.003, 0.6], quite rich       \n",
      "(41.4, 52.6]   female (2.4, 3.0]    little      (41.4, 52.6], female, (2.4, 3.0], little            \n",
      "(52.6, 63.8]   male   (2.4, 3.0]    little      (52.6, 63.8], male, (2.4, 3.0], little              \n",
      "               female (2.4, 3.0]    little      (52.6, 63.8], female, (2.4, 3.0], little            \n",
      "                                    moderate    (52.6, 63.8], female, (2.4, 3.0], moderate          \n",
      "(18.944, 30.2] female (0.6, 1.2]    quite rich  (18.944, 30.2], female, (0.6, 1.2], quite rich      \n",
      "                                    rich        (18.944, 30.2], female, (0.6, 1.2], rich            \n",
      "                      (-0.003, 0.6] quite rich  (18.944, 30.2], female, (-0.003, 0.6], quite rich   \n",
      "(41.4, 52.6]   female (1.8, 2.4]    rich        (41.4, 52.6], female, (1.8, 2.4], rich              \n",
      "(52.6, 63.8]   male   (0.6, 1.2]    moderate    (52.6, 63.8], male, (0.6, 1.2], moderate            \n",
      "               female (1.8, 2.4]    rich        (52.6, 63.8], female, (1.8, 2.4], rich              \n",
      "                      (2.4, 3.0]    rich        (52.6, 63.8], female, (2.4, 3.0], rich              \n",
      "\n",
      "                                                count   own  free  rent  \n",
      "(63.8, 75.0]   male   (1.8, 2.4]    little      2.0    1.0   1.0   0.0   \n",
      "                      (0.6, 1.2]    little      2.0    1.0   0.0   1.0   \n",
      "                                    quite rich  1.0    1.0   0.0   0.0   \n",
      "                      (2.4, 3.0]    little      6.0    3.0   3.0   0.0   \n",
      "                      (-0.003, 0.6] little      3.0    2.0   1.0   0.0   \n",
      "               female (1.8, 2.4]    little      3.0    3.0   0.0   0.0   \n",
      "                                    moderate    1.0    1.0   0.0   0.0   \n",
      "                      (0.6, 1.2]    quite rich  1.0    1.0   0.0   0.0   \n",
      "                      (2.4, 3.0]    little      2.0    1.0   1.0   0.0   \n",
      "                      (-0.003, 0.6] little      1.0    1.0   0.0   0.0   \n",
      "(18.944, 30.2] male   (1.8, 2.4]    little      98.0   76.0  6.0   16.0  \n",
      "                                    quite rich  9.0    7.0   1.0   1.0   \n",
      "                                    rich        7.0    6.0   0.0   1.0   \n",
      "                                    moderate    22.0   15.0  2.0   5.0   \n",
      "                      (0.6, 1.2]    little      31.0   24.0  0.0   7.0   \n",
      "                                    quite rich  2.0    1.0   0.0   1.0   \n",
      "                                    moderate    2.0    2.0   0.0   0.0   \n",
      "                      (2.4, 3.0]    little      17.0   12.0  2.0   3.0   \n",
      "                                    quite rich  2.0    2.0   0.0   0.0   \n",
      "                                    moderate    4.0    2.0   0.0   2.0   \n",
      "                      (-0.003, 0.6] little      1.0    1.0   0.0   0.0   \n",
      "                                    rich        1.0    1.0   0.0   0.0   \n",
      "               female (1.8, 2.4]    little      84.0   52.0  1.0   31.0  \n",
      "                                    quite rich  6.0    4.0   0.0   2.0   \n",
      "                                    rich        7.0    3.0   0.0   4.0   \n",
      "                                    moderate    13.0   8.0   0.0   5.0   \n",
      "                      (0.6, 1.2]    little      19.0   12.0  0.0   7.0   \n",
      "                                    moderate    6.0    2.0   0.0   4.0   \n",
      "                      (2.4, 3.0]    little      11.0   8.0   0.0   3.0   \n",
      "                                    moderate    2.0    2.0   0.0   0.0   \n",
      "                      (-0.003, 0.6] little      4.0    2.0   0.0   2.0   \n",
      "(41.4, 52.6]   male   (1.8, 2.4]    little      47.0   33.0  11.0  3.0   \n",
      "                                    quite rich  10.0   6.0   2.0   2.0   \n",
      "                                    rich        3.0    3.0   0.0   0.0   \n",
      "                                    moderate    7.0    5.0   2.0   0.0   \n",
      "                      (0.6, 1.2]    little      19.0   18.0  0.0   1.0   \n",
      "                                    quite rich  3.0    2.0   1.0   0.0   \n",
      "                      (2.4, 3.0]    little      11.0   7.0   3.0   1.0   \n",
      "                                    moderate    2.0    2.0   0.0   0.0   \n",
      "               female (1.8, 2.4]    little      5.0    4.0   0.0   1.0   \n",
      "                                    moderate    3.0    1.0   2.0   0.0   \n",
      "                      (0.6, 1.2]    little      8.0    6.0   0.0   2.0   \n",
      "                                    rich        1.0    1.0   0.0   0.0   \n",
      "                                    moderate    2.0    1.0   1.0   0.0   \n",
      "(52.6, 63.8]   male   (1.8, 2.4]    little      17.0   9.0   7.0   1.0   \n",
      "                                    quite rich  2.0    2.0   0.0   0.0   \n",
      "                                    rich        5.0    4.0   1.0   0.0   \n",
      "                      (0.6, 1.2]    little      4.0    4.0   0.0   0.0   \n",
      "                                    rich        1.0    1.0   0.0   0.0   \n",
      "                      (2.4, 3.0]    rich        1.0    1.0   0.0   0.0   \n",
      "               female (1.8, 2.4]    little      6.0    3.0   1.0   2.0   \n",
      "                      (0.6, 1.2]    little      4.0    2.0   2.0   0.0   \n",
      "                                    quite rich  1.0    1.0   0.0   0.0   \n",
      "                                    moderate    1.0    1.0   0.0   0.0   \n",
      "                      (-0.003, 0.6] little      2.0    1.0   1.0   0.0   \n",
      "(30.2, 41.4]   male   (1.8, 2.4]    little      78.0   60.0  7.0   11.0  \n",
      "                                    quite rich  12.0   11.0  0.0   1.0   \n",
      "                                    rich        8.0    7.0   1.0   0.0   \n",
      "                                    moderate    19.0   17.0  0.0   2.0   \n",
      "                      (0.6, 1.2]    little      36.0   32.0  1.0   3.0   \n",
      "                                    quite rich  2.0    1.0   0.0   1.0   \n",
      "                                    rich        2.0    2.0   0.0   0.0   \n",
      "                                    moderate    9.0    6.0   1.0   2.0   \n",
      "                      (2.4, 3.0]    little      32.0   19.0  8.0   5.0   \n",
      "                                    quite rich  3.0    3.0   0.0   0.0   \n",
      "                                    rich        1.0    1.0   0.0   0.0   \n",
      "                                    moderate    5.0    3.0   1.0   1.0   \n",
      "                      (-0.003, 0.6] little      1.0    1.0   0.0   0.0   \n",
      "               female (1.8, 2.4]    little      26.0   22.0  1.0   3.0   \n",
      "                                    quite rich  3.0    1.0   1.0   1.0   \n",
      "                                    rich        4.0    4.0   0.0   0.0   \n",
      "                                    moderate    1.0    1.0   0.0   0.0   \n",
      "                      (0.6, 1.2]    little      5.0    4.0   1.0   0.0   \n",
      "                                    quite rich  1.0    1.0   0.0   0.0   \n",
      "                                    rich        3.0    3.0   0.0   0.0   \n",
      "                                    moderate    2.0    2.0   0.0   0.0   \n",
      "                      (2.4, 3.0]    little      8.0    5.0   1.0   2.0   \n",
      "                                    quite rich  1.0    1.0   0.0   0.0   \n",
      "                      (-0.003, 0.6] little      1.0    1.0   0.0   0.0   \n",
      "(63.8, 75.0]   male   (-0.003, 0.6] quite rich  1.0    0.0   1.0   0.0   \n",
      "(41.4, 52.6]   female (2.4, 3.0]    little      3.0    0.0   3.0   0.0   \n",
      "(52.6, 63.8]   male   (2.4, 3.0]    little      4.0    0.0   4.0   0.0   \n",
      "               female (2.4, 3.0]    little      2.0    0.0   1.0   1.0   \n",
      "                                    moderate    1.0    0.0   1.0   0.0   \n",
      "(18.944, 30.2] female (0.6, 1.2]    quite rich  1.0    0.0   0.0   1.0   \n",
      "                                    rich        1.0    0.0   0.0   1.0   \n",
      "                      (-0.003, 0.6] quite rich  2.0    0.0   0.0   2.0   \n",
      "(41.4, 52.6]   female (1.8, 2.4]    rich        1.0    0.0   0.0   1.0   \n",
      "(52.6, 63.8]   male   (0.6, 1.2]    moderate    1.0    0.0   0.0   1.0   \n",
      "               female (1.8, 2.4]    rich        1.0    0.0   0.0   1.0   \n",
      "                      (2.4, 3.0]    rich        1.0    0.0   0.0   1.0   \n"
     ]
    },
    {
     "data": {
      "application/vnd.plotly.v1+json": {
       "data": [
        {
         "alignmentgroup": "True",
         "hovertemplate": "variable=own<br>value=%{x}<br>sensitive_features=%{y}<extra></extra>",
         "legendgroup": "own",
         "marker": {
          "color": "#636efa",
          "pattern": {
           "shape": ""
          }
         },
         "name": "own",
         "offsetgroup": "own",
         "orientation": "h",
         "showlegend": true,
         "textposition": "auto",
         "x": [
          1.0,
          1.0,
          1.0,
          3.0,
          2.0,
          3.0,
          1.0,
          1.0,
          1.0,
          1.0,
          76.0,
          7.0,
          6.0,
          15.0,
          24.0,
          1.0,
          2.0,
          12.0,
          2.0,
          2.0,
          1.0,
          1.0,
          52.0,
          4.0,
          3.0,
          8.0,
          12.0,
          2.0,
          8.0,
          2.0,
          2.0,
          33.0,
          6.0,
          3.0,
          5.0,
          18.0,
          2.0,
          7.0,
          2.0,
          4.0,
          1.0,
          6.0,
          1.0,
          1.0,
          9.0,
          2.0,
          4.0,
          4.0,
          1.0,
          1.0,
          3.0,
          2.0,
          1.0,
          1.0,
          1.0,
          60.0,
          11.0,
          7.0,
          17.0,
          32.0,
          1.0,
          2.0,
          6.0,
          19.0,
          3.0,
          1.0,
          3.0,
          1.0,
          22.0,
          1.0,
          4.0,
          1.0,
          4.0,
          1.0,
          3.0,
          2.0,
          5.0,
          1.0,
          1.0,
          0.0,
          0.0,
          0.0,
          0.0,
          0.0,
          0.0,
          0.0,
          0.0,
          0.0,
          0.0,
          0.0,
          0.0
         ],
         "xaxis": "x",
         "y": [
          "(63.8, 75.0], male, (1.8, 2.4], little",
          "(63.8, 75.0], male, (0.6, 1.2], little",
          "(63.8, 75.0], male, (0.6, 1.2], quite rich",
          "(63.8, 75.0], male, (2.4, 3.0], little",
          "(63.8, 75.0], male, (-0.003, 0.6], little",
          "(63.8, 75.0], female, (1.8, 2.4], little",
          "(63.8, 75.0], female, (1.8, 2.4], moderate",
          "(63.8, 75.0], female, (0.6, 1.2], quite rich",
          "(63.8, 75.0], female, (2.4, 3.0], little",
          "(63.8, 75.0], female, (-0.003, 0.6], little",
          "(18.944, 30.2], male, (1.8, 2.4], little",
          "(18.944, 30.2], male, (1.8, 2.4], quite rich",
          "(18.944, 30.2], male, (1.8, 2.4], rich",
          "(18.944, 30.2], male, (1.8, 2.4], moderate",
          "(18.944, 30.2], male, (0.6, 1.2], little",
          "(18.944, 30.2], male, (0.6, 1.2], quite rich",
          "(18.944, 30.2], male, (0.6, 1.2], moderate",
          "(18.944, 30.2], male, (2.4, 3.0], little",
          "(18.944, 30.2], male, (2.4, 3.0], quite rich",
          "(18.944, 30.2], male, (2.4, 3.0], moderate",
          "(18.944, 30.2], male, (-0.003, 0.6], little",
          "(18.944, 30.2], male, (-0.003, 0.6], rich",
          "(18.944, 30.2], female, (1.8, 2.4], little",
          "(18.944, 30.2], female, (1.8, 2.4], quite rich",
          "(18.944, 30.2], female, (1.8, 2.4], rich",
          "(18.944, 30.2], female, (1.8, 2.4], moderate",
          "(18.944, 30.2], female, (0.6, 1.2], little",
          "(18.944, 30.2], female, (0.6, 1.2], moderate",
          "(18.944, 30.2], female, (2.4, 3.0], little",
          "(18.944, 30.2], female, (2.4, 3.0], moderate",
          "(18.944, 30.2], female, (-0.003, 0.6], little",
          "(41.4, 52.6], male, (1.8, 2.4], little",
          "(41.4, 52.6], male, (1.8, 2.4], quite rich",
          "(41.4, 52.6], male, (1.8, 2.4], rich",
          "(41.4, 52.6], male, (1.8, 2.4], moderate",
          "(41.4, 52.6], male, (0.6, 1.2], little",
          "(41.4, 52.6], male, (0.6, 1.2], quite rich",
          "(41.4, 52.6], male, (2.4, 3.0], little",
          "(41.4, 52.6], male, (2.4, 3.0], moderate",
          "(41.4, 52.6], female, (1.8, 2.4], little",
          "(41.4, 52.6], female, (1.8, 2.4], moderate",
          "(41.4, 52.6], female, (0.6, 1.2], little",
          "(41.4, 52.6], female, (0.6, 1.2], rich",
          "(41.4, 52.6], female, (0.6, 1.2], moderate",
          "(52.6, 63.8], male, (1.8, 2.4], little",
          "(52.6, 63.8], male, (1.8, 2.4], quite rich",
          "(52.6, 63.8], male, (1.8, 2.4], rich",
          "(52.6, 63.8], male, (0.6, 1.2], little",
          "(52.6, 63.8], male, (0.6, 1.2], rich",
          "(52.6, 63.8], male, (2.4, 3.0], rich",
          "(52.6, 63.8], female, (1.8, 2.4], little",
          "(52.6, 63.8], female, (0.6, 1.2], little",
          "(52.6, 63.8], female, (0.6, 1.2], quite rich",
          "(52.6, 63.8], female, (0.6, 1.2], moderate",
          "(52.6, 63.8], female, (-0.003, 0.6], little",
          "(30.2, 41.4], male, (1.8, 2.4], little",
          "(30.2, 41.4], male, (1.8, 2.4], quite rich",
          "(30.2, 41.4], male, (1.8, 2.4], rich",
          "(30.2, 41.4], male, (1.8, 2.4], moderate",
          "(30.2, 41.4], male, (0.6, 1.2], little",
          "(30.2, 41.4], male, (0.6, 1.2], quite rich",
          "(30.2, 41.4], male, (0.6, 1.2], rich",
          "(30.2, 41.4], male, (0.6, 1.2], moderate",
          "(30.2, 41.4], male, (2.4, 3.0], little",
          "(30.2, 41.4], male, (2.4, 3.0], quite rich",
          "(30.2, 41.4], male, (2.4, 3.0], rich",
          "(30.2, 41.4], male, (2.4, 3.0], moderate",
          "(30.2, 41.4], male, (-0.003, 0.6], little",
          "(30.2, 41.4], female, (1.8, 2.4], little",
          "(30.2, 41.4], female, (1.8, 2.4], quite rich",
          "(30.2, 41.4], female, (1.8, 2.4], rich",
          "(30.2, 41.4], female, (1.8, 2.4], moderate",
          "(30.2, 41.4], female, (0.6, 1.2], little",
          "(30.2, 41.4], female, (0.6, 1.2], quite rich",
          "(30.2, 41.4], female, (0.6, 1.2], rich",
          "(30.2, 41.4], female, (0.6, 1.2], moderate",
          "(30.2, 41.4], female, (2.4, 3.0], little",
          "(30.2, 41.4], female, (2.4, 3.0], quite rich",
          "(30.2, 41.4], female, (-0.003, 0.6], little",
          "(63.8, 75.0], male, (-0.003, 0.6], quite rich",
          "(41.4, 52.6], female, (2.4, 3.0], little",
          "(52.6, 63.8], male, (2.4, 3.0], little",
          "(52.6, 63.8], female, (2.4, 3.0], little",
          "(52.6, 63.8], female, (2.4, 3.0], moderate",
          "(18.944, 30.2], female, (0.6, 1.2], quite rich",
          "(18.944, 30.2], female, (0.6, 1.2], rich",
          "(18.944, 30.2], female, (-0.003, 0.6], quite rich",
          "(41.4, 52.6], female, (1.8, 2.4], rich",
          "(52.6, 63.8], male, (0.6, 1.2], moderate",
          "(52.6, 63.8], female, (1.8, 2.4], rich",
          "(52.6, 63.8], female, (2.4, 3.0], rich"
         ],
         "yaxis": "y",
         "type": "bar"
        },
        {
         "alignmentgroup": "True",
         "hovertemplate": "variable=free<br>value=%{x}<br>sensitive_features=%{y}<extra></extra>",
         "legendgroup": "free",
         "marker": {
          "color": "#EF553B",
          "pattern": {
           "shape": ""
          }
         },
         "name": "free",
         "offsetgroup": "free",
         "orientation": "h",
         "showlegend": true,
         "textposition": "auto",
         "x": [
          1.0,
          0.0,
          0.0,
          3.0,
          1.0,
          0.0,
          0.0,
          0.0,
          1.0,
          0.0,
          6.0,
          1.0,
          0.0,
          2.0,
          0.0,
          0.0,
          0.0,
          2.0,
          0.0,
          0.0,
          0.0,
          0.0,
          1.0,
          0.0,
          0.0,
          0.0,
          0.0,
          0.0,
          0.0,
          0.0,
          0.0,
          11.0,
          2.0,
          0.0,
          2.0,
          0.0,
          1.0,
          3.0,
          0.0,
          0.0,
          2.0,
          0.0,
          0.0,
          1.0,
          7.0,
          0.0,
          1.0,
          0.0,
          0.0,
          0.0,
          1.0,
          2.0,
          0.0,
          0.0,
          1.0,
          7.0,
          0.0,
          1.0,
          0.0,
          1.0,
          0.0,
          0.0,
          1.0,
          8.0,
          0.0,
          0.0,
          1.0,
          0.0,
          1.0,
          1.0,
          0.0,
          0.0,
          1.0,
          0.0,
          0.0,
          0.0,
          1.0,
          0.0,
          0.0,
          1.0,
          3.0,
          4.0,
          1.0,
          1.0,
          0.0,
          0.0,
          0.0,
          0.0,
          0.0,
          0.0,
          0.0
         ],
         "xaxis": "x",
         "y": [
          "(63.8, 75.0], male, (1.8, 2.4], little",
          "(63.8, 75.0], male, (0.6, 1.2], little",
          "(63.8, 75.0], male, (0.6, 1.2], quite rich",
          "(63.8, 75.0], male, (2.4, 3.0], little",
          "(63.8, 75.0], male, (-0.003, 0.6], little",
          "(63.8, 75.0], female, (1.8, 2.4], little",
          "(63.8, 75.0], female, (1.8, 2.4], moderate",
          "(63.8, 75.0], female, (0.6, 1.2], quite rich",
          "(63.8, 75.0], female, (2.4, 3.0], little",
          "(63.8, 75.0], female, (-0.003, 0.6], little",
          "(18.944, 30.2], male, (1.8, 2.4], little",
          "(18.944, 30.2], male, (1.8, 2.4], quite rich",
          "(18.944, 30.2], male, (1.8, 2.4], rich",
          "(18.944, 30.2], male, (1.8, 2.4], moderate",
          "(18.944, 30.2], male, (0.6, 1.2], little",
          "(18.944, 30.2], male, (0.6, 1.2], quite rich",
          "(18.944, 30.2], male, (0.6, 1.2], moderate",
          "(18.944, 30.2], male, (2.4, 3.0], little",
          "(18.944, 30.2], male, (2.4, 3.0], quite rich",
          "(18.944, 30.2], male, (2.4, 3.0], moderate",
          "(18.944, 30.2], male, (-0.003, 0.6], little",
          "(18.944, 30.2], male, (-0.003, 0.6], rich",
          "(18.944, 30.2], female, (1.8, 2.4], little",
          "(18.944, 30.2], female, (1.8, 2.4], quite rich",
          "(18.944, 30.2], female, (1.8, 2.4], rich",
          "(18.944, 30.2], female, (1.8, 2.4], moderate",
          "(18.944, 30.2], female, (0.6, 1.2], little",
          "(18.944, 30.2], female, (0.6, 1.2], moderate",
          "(18.944, 30.2], female, (2.4, 3.0], little",
          "(18.944, 30.2], female, (2.4, 3.0], moderate",
          "(18.944, 30.2], female, (-0.003, 0.6], little",
          "(41.4, 52.6], male, (1.8, 2.4], little",
          "(41.4, 52.6], male, (1.8, 2.4], quite rich",
          "(41.4, 52.6], male, (1.8, 2.4], rich",
          "(41.4, 52.6], male, (1.8, 2.4], moderate",
          "(41.4, 52.6], male, (0.6, 1.2], little",
          "(41.4, 52.6], male, (0.6, 1.2], quite rich",
          "(41.4, 52.6], male, (2.4, 3.0], little",
          "(41.4, 52.6], male, (2.4, 3.0], moderate",
          "(41.4, 52.6], female, (1.8, 2.4], little",
          "(41.4, 52.6], female, (1.8, 2.4], moderate",
          "(41.4, 52.6], female, (0.6, 1.2], little",
          "(41.4, 52.6], female, (0.6, 1.2], rich",
          "(41.4, 52.6], female, (0.6, 1.2], moderate",
          "(52.6, 63.8], male, (1.8, 2.4], little",
          "(52.6, 63.8], male, (1.8, 2.4], quite rich",
          "(52.6, 63.8], male, (1.8, 2.4], rich",
          "(52.6, 63.8], male, (0.6, 1.2], little",
          "(52.6, 63.8], male, (0.6, 1.2], rich",
          "(52.6, 63.8], male, (2.4, 3.0], rich",
          "(52.6, 63.8], female, (1.8, 2.4], little",
          "(52.6, 63.8], female, (0.6, 1.2], little",
          "(52.6, 63.8], female, (0.6, 1.2], quite rich",
          "(52.6, 63.8], female, (0.6, 1.2], moderate",
          "(52.6, 63.8], female, (-0.003, 0.6], little",
          "(30.2, 41.4], male, (1.8, 2.4], little",
          "(30.2, 41.4], male, (1.8, 2.4], quite rich",
          "(30.2, 41.4], male, (1.8, 2.4], rich",
          "(30.2, 41.4], male, (1.8, 2.4], moderate",
          "(30.2, 41.4], male, (0.6, 1.2], little",
          "(30.2, 41.4], male, (0.6, 1.2], quite rich",
          "(30.2, 41.4], male, (0.6, 1.2], rich",
          "(30.2, 41.4], male, (0.6, 1.2], moderate",
          "(30.2, 41.4], male, (2.4, 3.0], little",
          "(30.2, 41.4], male, (2.4, 3.0], quite rich",
          "(30.2, 41.4], male, (2.4, 3.0], rich",
          "(30.2, 41.4], male, (2.4, 3.0], moderate",
          "(30.2, 41.4], male, (-0.003, 0.6], little",
          "(30.2, 41.4], female, (1.8, 2.4], little",
          "(30.2, 41.4], female, (1.8, 2.4], quite rich",
          "(30.2, 41.4], female, (1.8, 2.4], rich",
          "(30.2, 41.4], female, (1.8, 2.4], moderate",
          "(30.2, 41.4], female, (0.6, 1.2], little",
          "(30.2, 41.4], female, (0.6, 1.2], quite rich",
          "(30.2, 41.4], female, (0.6, 1.2], rich",
          "(30.2, 41.4], female, (0.6, 1.2], moderate",
          "(30.2, 41.4], female, (2.4, 3.0], little",
          "(30.2, 41.4], female, (2.4, 3.0], quite rich",
          "(30.2, 41.4], female, (-0.003, 0.6], little",
          "(63.8, 75.0], male, (-0.003, 0.6], quite rich",
          "(41.4, 52.6], female, (2.4, 3.0], little",
          "(52.6, 63.8], male, (2.4, 3.0], little",
          "(52.6, 63.8], female, (2.4, 3.0], little",
          "(52.6, 63.8], female, (2.4, 3.0], moderate",
          "(18.944, 30.2], female, (0.6, 1.2], quite rich",
          "(18.944, 30.2], female, (0.6, 1.2], rich",
          "(18.944, 30.2], female, (-0.003, 0.6], quite rich",
          "(41.4, 52.6], female, (1.8, 2.4], rich",
          "(52.6, 63.8], male, (0.6, 1.2], moderate",
          "(52.6, 63.8], female, (1.8, 2.4], rich",
          "(52.6, 63.8], female, (2.4, 3.0], rich"
         ],
         "yaxis": "y",
         "type": "bar"
        },
        {
         "alignmentgroup": "True",
         "hovertemplate": "variable=rent<br>value=%{x}<br>sensitive_features=%{y}<extra></extra>",
         "legendgroup": "rent",
         "marker": {
          "color": "#00cc96",
          "pattern": {
           "shape": ""
          }
         },
         "name": "rent",
         "offsetgroup": "rent",
         "orientation": "h",
         "showlegend": true,
         "textposition": "auto",
         "x": [
          0.0,
          1.0,
          0.0,
          0.0,
          0.0,
          0.0,
          0.0,
          0.0,
          0.0,
          0.0,
          16.0,
          1.0,
          1.0,
          5.0,
          7.0,
          1.0,
          0.0,
          3.0,
          0.0,
          2.0,
          0.0,
          0.0,
          31.0,
          2.0,
          4.0,
          5.0,
          7.0,
          4.0,
          3.0,
          0.0,
          2.0,
          3.0,
          2.0,
          0.0,
          0.0,
          1.0,
          0.0,
          1.0,
          0.0,
          1.0,
          0.0,
          2.0,
          0.0,
          0.0,
          1.0,
          0.0,
          0.0,
          0.0,
          0.0,
          0.0,
          2.0,
          0.0,
          0.0,
          0.0,
          0.0,
          11.0,
          1.0,
          0.0,
          2.0,
          3.0,
          1.0,
          0.0,
          2.0,
          5.0,
          0.0,
          0.0,
          1.0,
          0.0,
          3.0,
          1.0,
          0.0,
          0.0,
          0.0,
          0.0,
          0.0,
          0.0,
          2.0,
          0.0,
          0.0,
          0.0,
          0.0,
          0.0,
          1.0,
          0.0,
          1.0,
          1.0,
          2.0,
          1.0,
          1.0,
          1.0,
          1.0
         ],
         "xaxis": "x",
         "y": [
          "(63.8, 75.0], male, (1.8, 2.4], little",
          "(63.8, 75.0], male, (0.6, 1.2], little",
          "(63.8, 75.0], male, (0.6, 1.2], quite rich",
          "(63.8, 75.0], male, (2.4, 3.0], little",
          "(63.8, 75.0], male, (-0.003, 0.6], little",
          "(63.8, 75.0], female, (1.8, 2.4], little",
          "(63.8, 75.0], female, (1.8, 2.4], moderate",
          "(63.8, 75.0], female, (0.6, 1.2], quite rich",
          "(63.8, 75.0], female, (2.4, 3.0], little",
          "(63.8, 75.0], female, (-0.003, 0.6], little",
          "(18.944, 30.2], male, (1.8, 2.4], little",
          "(18.944, 30.2], male, (1.8, 2.4], quite rich",
          "(18.944, 30.2], male, (1.8, 2.4], rich",
          "(18.944, 30.2], male, (1.8, 2.4], moderate",
          "(18.944, 30.2], male, (0.6, 1.2], little",
          "(18.944, 30.2], male, (0.6, 1.2], quite rich",
          "(18.944, 30.2], male, (0.6, 1.2], moderate",
          "(18.944, 30.2], male, (2.4, 3.0], little",
          "(18.944, 30.2], male, (2.4, 3.0], quite rich",
          "(18.944, 30.2], male, (2.4, 3.0], moderate",
          "(18.944, 30.2], male, (-0.003, 0.6], little",
          "(18.944, 30.2], male, (-0.003, 0.6], rich",
          "(18.944, 30.2], female, (1.8, 2.4], little",
          "(18.944, 30.2], female, (1.8, 2.4], quite rich",
          "(18.944, 30.2], female, (1.8, 2.4], rich",
          "(18.944, 30.2], female, (1.8, 2.4], moderate",
          "(18.944, 30.2], female, (0.6, 1.2], little",
          "(18.944, 30.2], female, (0.6, 1.2], moderate",
          "(18.944, 30.2], female, (2.4, 3.0], little",
          "(18.944, 30.2], female, (2.4, 3.0], moderate",
          "(18.944, 30.2], female, (-0.003, 0.6], little",
          "(41.4, 52.6], male, (1.8, 2.4], little",
          "(41.4, 52.6], male, (1.8, 2.4], quite rich",
          "(41.4, 52.6], male, (1.8, 2.4], rich",
          "(41.4, 52.6], male, (1.8, 2.4], moderate",
          "(41.4, 52.6], male, (0.6, 1.2], little",
          "(41.4, 52.6], male, (0.6, 1.2], quite rich",
          "(41.4, 52.6], male, (2.4, 3.0], little",
          "(41.4, 52.6], male, (2.4, 3.0], moderate",
          "(41.4, 52.6], female, (1.8, 2.4], little",
          "(41.4, 52.6], female, (1.8, 2.4], moderate",
          "(41.4, 52.6], female, (0.6, 1.2], little",
          "(41.4, 52.6], female, (0.6, 1.2], rich",
          "(41.4, 52.6], female, (0.6, 1.2], moderate",
          "(52.6, 63.8], male, (1.8, 2.4], little",
          "(52.6, 63.8], male, (1.8, 2.4], quite rich",
          "(52.6, 63.8], male, (1.8, 2.4], rich",
          "(52.6, 63.8], male, (0.6, 1.2], little",
          "(52.6, 63.8], male, (0.6, 1.2], rich",
          "(52.6, 63.8], male, (2.4, 3.0], rich",
          "(52.6, 63.8], female, (1.8, 2.4], little",
          "(52.6, 63.8], female, (0.6, 1.2], little",
          "(52.6, 63.8], female, (0.6, 1.2], quite rich",
          "(52.6, 63.8], female, (0.6, 1.2], moderate",
          "(52.6, 63.8], female, (-0.003, 0.6], little",
          "(30.2, 41.4], male, (1.8, 2.4], little",
          "(30.2, 41.4], male, (1.8, 2.4], quite rich",
          "(30.2, 41.4], male, (1.8, 2.4], rich",
          "(30.2, 41.4], male, (1.8, 2.4], moderate",
          "(30.2, 41.4], male, (0.6, 1.2], little",
          "(30.2, 41.4], male, (0.6, 1.2], quite rich",
          "(30.2, 41.4], male, (0.6, 1.2], rich",
          "(30.2, 41.4], male, (0.6, 1.2], moderate",
          "(30.2, 41.4], male, (2.4, 3.0], little",
          "(30.2, 41.4], male, (2.4, 3.0], quite rich",
          "(30.2, 41.4], male, (2.4, 3.0], rich",
          "(30.2, 41.4], male, (2.4, 3.0], moderate",
          "(30.2, 41.4], male, (-0.003, 0.6], little",
          "(30.2, 41.4], female, (1.8, 2.4], little",
          "(30.2, 41.4], female, (1.8, 2.4], quite rich",
          "(30.2, 41.4], female, (1.8, 2.4], rich",
          "(30.2, 41.4], female, (1.8, 2.4], moderate",
          "(30.2, 41.4], female, (0.6, 1.2], little",
          "(30.2, 41.4], female, (0.6, 1.2], quite rich",
          "(30.2, 41.4], female, (0.6, 1.2], rich",
          "(30.2, 41.4], female, (0.6, 1.2], moderate",
          "(30.2, 41.4], female, (2.4, 3.0], little",
          "(30.2, 41.4], female, (2.4, 3.0], quite rich",
          "(30.2, 41.4], female, (-0.003, 0.6], little",
          "(63.8, 75.0], male, (-0.003, 0.6], quite rich",
          "(41.4, 52.6], female, (2.4, 3.0], little",
          "(52.6, 63.8], male, (2.4, 3.0], little",
          "(52.6, 63.8], female, (2.4, 3.0], little",
          "(52.6, 63.8], female, (2.4, 3.0], moderate",
          "(18.944, 30.2], female, (0.6, 1.2], quite rich",
          "(18.944, 30.2], female, (0.6, 1.2], rich",
          "(18.944, 30.2], female, (-0.003, 0.6], quite rich",
          "(41.4, 52.6], female, (1.8, 2.4], rich",
          "(52.6, 63.8], male, (0.6, 1.2], moderate",
          "(52.6, 63.8], female, (1.8, 2.4], rich",
          "(52.6, 63.8], female, (2.4, 3.0], rich"
         ],
         "yaxis": "y",
         "type": "bar"
        }
       ],
       "layout": {
        "template": {
         "data": {
          "histogram2dcontour": [
           {
            "type": "histogram2dcontour",
            "colorbar": {
             "outlinewidth": 0,
             "ticks": ""
            },
            "colorscale": [
             [
              0.0,
              "#0d0887"
             ],
             [
              0.1111111111111111,
              "#46039f"
             ],
             [
              0.2222222222222222,
              "#7201a8"
             ],
             [
              0.3333333333333333,
              "#9c179e"
             ],
             [
              0.4444444444444444,
              "#bd3786"
             ],
             [
              0.5555555555555556,
              "#d8576b"
             ],
             [
              0.6666666666666666,
              "#ed7953"
             ],
             [
              0.7777777777777778,
              "#fb9f3a"
             ],
             [
              0.8888888888888888,
              "#fdca26"
             ],
             [
              1.0,
              "#f0f921"
             ]
            ]
           }
          ],
          "choropleth": [
           {
            "type": "choropleth",
            "colorbar": {
             "outlinewidth": 0,
             "ticks": ""
            }
           }
          ],
          "histogram2d": [
           {
            "type": "histogram2d",
            "colorbar": {
             "outlinewidth": 0,
             "ticks": ""
            },
            "colorscale": [
             [
              0.0,
              "#0d0887"
             ],
             [
              0.1111111111111111,
              "#46039f"
             ],
             [
              0.2222222222222222,
              "#7201a8"
             ],
             [
              0.3333333333333333,
              "#9c179e"
             ],
             [
              0.4444444444444444,
              "#bd3786"
             ],
             [
              0.5555555555555556,
              "#d8576b"
             ],
             [
              0.6666666666666666,
              "#ed7953"
             ],
             [
              0.7777777777777778,
              "#fb9f3a"
             ],
             [
              0.8888888888888888,
              "#fdca26"
             ],
             [
              1.0,
              "#f0f921"
             ]
            ]
           }
          ],
          "heatmap": [
           {
            "type": "heatmap",
            "colorbar": {
             "outlinewidth": 0,
             "ticks": ""
            },
            "colorscale": [
             [
              0.0,
              "#0d0887"
             ],
             [
              0.1111111111111111,
              "#46039f"
             ],
             [
              0.2222222222222222,
              "#7201a8"
             ],
             [
              0.3333333333333333,
              "#9c179e"
             ],
             [
              0.4444444444444444,
              "#bd3786"
             ],
             [
              0.5555555555555556,
              "#d8576b"
             ],
             [
              0.6666666666666666,
              "#ed7953"
             ],
             [
              0.7777777777777778,
              "#fb9f3a"
             ],
             [
              0.8888888888888888,
              "#fdca26"
             ],
             [
              1.0,
              "#f0f921"
             ]
            ]
           }
          ],
          "heatmapgl": [
           {
            "type": "heatmapgl",
            "colorbar": {
             "outlinewidth": 0,
             "ticks": ""
            },
            "colorscale": [
             [
              0.0,
              "#0d0887"
             ],
             [
              0.1111111111111111,
              "#46039f"
             ],
             [
              0.2222222222222222,
              "#7201a8"
             ],
             [
              0.3333333333333333,
              "#9c179e"
             ],
             [
              0.4444444444444444,
              "#bd3786"
             ],
             [
              0.5555555555555556,
              "#d8576b"
             ],
             [
              0.6666666666666666,
              "#ed7953"
             ],
             [
              0.7777777777777778,
              "#fb9f3a"
             ],
             [
              0.8888888888888888,
              "#fdca26"
             ],
             [
              1.0,
              "#f0f921"
             ]
            ]
           }
          ],
          "contourcarpet": [
           {
            "type": "contourcarpet",
            "colorbar": {
             "outlinewidth": 0,
             "ticks": ""
            }
           }
          ],
          "contour": [
           {
            "type": "contour",
            "colorbar": {
             "outlinewidth": 0,
             "ticks": ""
            },
            "colorscale": [
             [
              0.0,
              "#0d0887"
             ],
             [
              0.1111111111111111,
              "#46039f"
             ],
             [
              0.2222222222222222,
              "#7201a8"
             ],
             [
              0.3333333333333333,
              "#9c179e"
             ],
             [
              0.4444444444444444,
              "#bd3786"
             ],
             [
              0.5555555555555556,
              "#d8576b"
             ],
             [
              0.6666666666666666,
              "#ed7953"
             ],
             [
              0.7777777777777778,
              "#fb9f3a"
             ],
             [
              0.8888888888888888,
              "#fdca26"
             ],
             [
              1.0,
              "#f0f921"
             ]
            ]
           }
          ],
          "surface": [
           {
            "type": "surface",
            "colorbar": {
             "outlinewidth": 0,
             "ticks": ""
            },
            "colorscale": [
             [
              0.0,
              "#0d0887"
             ],
             [
              0.1111111111111111,
              "#46039f"
             ],
             [
              0.2222222222222222,
              "#7201a8"
             ],
             [
              0.3333333333333333,
              "#9c179e"
             ],
             [
              0.4444444444444444,
              "#bd3786"
             ],
             [
              0.5555555555555556,
              "#d8576b"
             ],
             [
              0.6666666666666666,
              "#ed7953"
             ],
             [
              0.7777777777777778,
              "#fb9f3a"
             ],
             [
              0.8888888888888888,
              "#fdca26"
             ],
             [
              1.0,
              "#f0f921"
             ]
            ]
           }
          ],
          "mesh3d": [
           {
            "type": "mesh3d",
            "colorbar": {
             "outlinewidth": 0,
             "ticks": ""
            }
           }
          ],
          "scatter": [
           {
            "marker": {
             "line": {
              "color": "#283442"
             }
            },
            "type": "scatter"
           }
          ],
          "parcoords": [
           {
            "type": "parcoords",
            "line": {
             "colorbar": {
              "outlinewidth": 0,
              "ticks": ""
             }
            }
           }
          ],
          "scatterpolargl": [
           {
            "type": "scatterpolargl",
            "marker": {
             "colorbar": {
              "outlinewidth": 0,
              "ticks": ""
             }
            }
           }
          ],
          "bar": [
           {
            "error_x": {
             "color": "#f2f5fa"
            },
            "error_y": {
             "color": "#f2f5fa"
            },
            "marker": {
             "line": {
              "color": "rgb(17,17,17)",
              "width": 0.5
             },
             "pattern": {
              "fillmode": "overlay",
              "size": 10,
              "solidity": 0.2
             }
            },
            "type": "bar"
           }
          ],
          "scattergeo": [
           {
            "type": "scattergeo",
            "marker": {
             "colorbar": {
              "outlinewidth": 0,
              "ticks": ""
             }
            }
           }
          ],
          "scatterpolar": [
           {
            "type": "scatterpolar",
            "marker": {
             "colorbar": {
              "outlinewidth": 0,
              "ticks": ""
             }
            }
           }
          ],
          "histogram": [
           {
            "marker": {
             "pattern": {
              "fillmode": "overlay",
              "size": 10,
              "solidity": 0.2
             }
            },
            "type": "histogram"
           }
          ],
          "scattergl": [
           {
            "marker": {
             "line": {
              "color": "#283442"
             }
            },
            "type": "scattergl"
           }
          ],
          "scatter3d": [
           {
            "type": "scatter3d",
            "line": {
             "colorbar": {
              "outlinewidth": 0,
              "ticks": ""
             }
            },
            "marker": {
             "colorbar": {
              "outlinewidth": 0,
              "ticks": ""
             }
            }
           }
          ],
          "scattermapbox": [
           {
            "type": "scattermapbox",
            "marker": {
             "colorbar": {
              "outlinewidth": 0,
              "ticks": ""
             }
            }
           }
          ],
          "scatterternary": [
           {
            "type": "scatterternary",
            "marker": {
             "colorbar": {
              "outlinewidth": 0,
              "ticks": ""
             }
            }
           }
          ],
          "scattercarpet": [
           {
            "type": "scattercarpet",
            "marker": {
             "colorbar": {
              "outlinewidth": 0,
              "ticks": ""
             }
            }
           }
          ],
          "carpet": [
           {
            "aaxis": {
             "endlinecolor": "#A2B1C6",
             "gridcolor": "#506784",
             "linecolor": "#506784",
             "minorgridcolor": "#506784",
             "startlinecolor": "#A2B1C6"
            },
            "baxis": {
             "endlinecolor": "#A2B1C6",
             "gridcolor": "#506784",
             "linecolor": "#506784",
             "minorgridcolor": "#506784",
             "startlinecolor": "#A2B1C6"
            },
            "type": "carpet"
           }
          ],
          "table": [
           {
            "cells": {
             "fill": {
              "color": "#506784"
             },
             "line": {
              "color": "rgb(17,17,17)"
             }
            },
            "header": {
             "fill": {
              "color": "#2a3f5f"
             },
             "line": {
              "color": "rgb(17,17,17)"
             }
            },
            "type": "table"
           }
          ],
          "barpolar": [
           {
            "marker": {
             "line": {
              "color": "rgb(17,17,17)",
              "width": 0.5
             },
             "pattern": {
              "fillmode": "overlay",
              "size": 10,
              "solidity": 0.2
             }
            },
            "type": "barpolar"
           }
          ],
          "pie": [
           {
            "automargin": true,
            "type": "pie"
           }
          ]
         },
         "layout": {
          "autotypenumbers": "strict",
          "colorway": [
           "#636efa",
           "#EF553B",
           "#00cc96",
           "#ab63fa",
           "#FFA15A",
           "#19d3f3",
           "#FF6692",
           "#B6E880",
           "#FF97FF",
           "#FECB52"
          ],
          "font": {
           "color": "#f2f5fa"
          },
          "hovermode": "closest",
          "hoverlabel": {
           "align": "left"
          },
          "paper_bgcolor": "rgb(17,17,17)",
          "plot_bgcolor": "rgb(17,17,17)",
          "polar": {
           "bgcolor": "rgb(17,17,17)",
           "angularaxis": {
            "gridcolor": "#506784",
            "linecolor": "#506784",
            "ticks": ""
           },
           "radialaxis": {
            "gridcolor": "#506784",
            "linecolor": "#506784",
            "ticks": ""
           }
          },
          "ternary": {
           "bgcolor": "rgb(17,17,17)",
           "aaxis": {
            "gridcolor": "#506784",
            "linecolor": "#506784",
            "ticks": ""
           },
           "baxis": {
            "gridcolor": "#506784",
            "linecolor": "#506784",
            "ticks": ""
           },
           "caxis": {
            "gridcolor": "#506784",
            "linecolor": "#506784",
            "ticks": ""
           }
          },
          "coloraxis": {
           "colorbar": {
            "outlinewidth": 0,
            "ticks": ""
           }
          },
          "colorscale": {
           "sequential": [
            [
             0.0,
             "#0d0887"
            ],
            [
             0.1111111111111111,
             "#46039f"
            ],
            [
             0.2222222222222222,
             "#7201a8"
            ],
            [
             0.3333333333333333,
             "#9c179e"
            ],
            [
             0.4444444444444444,
             "#bd3786"
            ],
            [
             0.5555555555555556,
             "#d8576b"
            ],
            [
             0.6666666666666666,
             "#ed7953"
            ],
            [
             0.7777777777777778,
             "#fb9f3a"
            ],
            [
             0.8888888888888888,
             "#fdca26"
            ],
            [
             1.0,
             "#f0f921"
            ]
           ],
           "sequentialminus": [
            [
             0.0,
             "#0d0887"
            ],
            [
             0.1111111111111111,
             "#46039f"
            ],
            [
             0.2222222222222222,
             "#7201a8"
            ],
            [
             0.3333333333333333,
             "#9c179e"
            ],
            [
             0.4444444444444444,
             "#bd3786"
            ],
            [
             0.5555555555555556,
             "#d8576b"
            ],
            [
             0.6666666666666666,
             "#ed7953"
            ],
            [
             0.7777777777777778,
             "#fb9f3a"
            ],
            [
             0.8888888888888888,
             "#fdca26"
            ],
            [
             1.0,
             "#f0f921"
            ]
           ],
           "diverging": [
            [
             0,
             "#8e0152"
            ],
            [
             0.1,
             "#c51b7d"
            ],
            [
             0.2,
             "#de77ae"
            ],
            [
             0.3,
             "#f1b6da"
            ],
            [
             0.4,
             "#fde0ef"
            ],
            [
             0.5,
             "#f7f7f7"
            ],
            [
             0.6,
             "#e6f5d0"
            ],
            [
             0.7,
             "#b8e186"
            ],
            [
             0.8,
             "#7fbc41"
            ],
            [
             0.9,
             "#4d9221"
            ],
            [
             1,
             "#276419"
            ]
           ]
          },
          "xaxis": {
           "gridcolor": "#283442",
           "linecolor": "#506784",
           "ticks": "",
           "title": {
            "standoff": 15
           },
           "zerolinecolor": "#283442",
           "automargin": true,
           "zerolinewidth": 2
          },
          "yaxis": {
           "gridcolor": "#283442",
           "linecolor": "#506784",
           "ticks": "",
           "title": {
            "standoff": 15
           },
           "zerolinecolor": "#283442",
           "automargin": true,
           "zerolinewidth": 2
          },
          "scene": {
           "xaxis": {
            "backgroundcolor": "rgb(17,17,17)",
            "gridcolor": "#506784",
            "linecolor": "#506784",
            "showbackground": true,
            "ticks": "",
            "zerolinecolor": "#C8D4E3",
            "gridwidth": 2
           },
           "yaxis": {
            "backgroundcolor": "rgb(17,17,17)",
            "gridcolor": "#506784",
            "linecolor": "#506784",
            "showbackground": true,
            "ticks": "",
            "zerolinecolor": "#C8D4E3",
            "gridwidth": 2
           },
           "zaxis": {
            "backgroundcolor": "rgb(17,17,17)",
            "gridcolor": "#506784",
            "linecolor": "#506784",
            "showbackground": true,
            "ticks": "",
            "zerolinecolor": "#C8D4E3",
            "gridwidth": 2
           }
          },
          "shapedefaults": {
           "line": {
            "color": "#f2f5fa"
           }
          },
          "annotationdefaults": {
           "arrowcolor": "#f2f5fa",
           "arrowhead": 0,
           "arrowwidth": 1
          },
          "geo": {
           "bgcolor": "rgb(17,17,17)",
           "landcolor": "rgb(17,17,17)",
           "subunitcolor": "#506784",
           "showland": true,
           "showlakes": true,
           "lakecolor": "rgb(17,17,17)"
          },
          "title": {
           "x": 0.05
          },
          "updatemenudefaults": {
           "bgcolor": "#506784",
           "borderwidth": 0
          },
          "sliderdefaults": {
           "bgcolor": "#C8D4E3",
           "borderwidth": 1,
           "bordercolor": "rgb(17,17,17)",
           "tickwidth": 0
          },
          "mapbox": {
           "style": "dark"
          }
         }
        },
        "xaxis": {
         "anchor": "y",
         "domain": [
          0.0,
          1.0
         ],
         "title": {
          "text": "Count"
         }
        },
        "yaxis": {
         "anchor": "x",
         "domain": [
          0.0,
          1.0
         ],
         "title": {
          "text": "sensitive_features"
         }
        },
        "legend": {
         "title": {
          "text": "variable"
         },
         "tracegroupgap": 0
        },
        "title": {
         "text": "Sensitive Feature Combinations vs Target Column"
        },
        "barmode": "stack"
       },
       "config": {
        "plotlyServerURL": "https://plot.ly"
       }
      },
      "text/html": "<div>                            <div id=\"ff08debb-4036-4c6c-9fc2-edd2eb951a4c\" class=\"plotly-graph-div\" style=\"height:525px; width:100%;\"></div>            <script type=\"text/javascript\">                require([\"plotly\"], function(Plotly) {                    window.PLOTLYENV=window.PLOTLYENV || {};                                    if (document.getElementById(\"ff08debb-4036-4c6c-9fc2-edd2eb951a4c\")) {                    Plotly.newPlot(                        \"ff08debb-4036-4c6c-9fc2-edd2eb951a4c\",                        [{\"alignmentgroup\":\"True\",\"hovertemplate\":\"variable=own<br>value=%{x}<br>sensitive_features=%{y}<extra></extra>\",\"legendgroup\":\"own\",\"marker\":{\"color\":\"#636efa\",\"pattern\":{\"shape\":\"\"}},\"name\":\"own\",\"offsetgroup\":\"own\",\"orientation\":\"h\",\"showlegend\":true,\"textposition\":\"auto\",\"x\":[1.0,1.0,1.0,3.0,2.0,3.0,1.0,1.0,1.0,1.0,76.0,7.0,6.0,15.0,24.0,1.0,2.0,12.0,2.0,2.0,1.0,1.0,52.0,4.0,3.0,8.0,12.0,2.0,8.0,2.0,2.0,33.0,6.0,3.0,5.0,18.0,2.0,7.0,2.0,4.0,1.0,6.0,1.0,1.0,9.0,2.0,4.0,4.0,1.0,1.0,3.0,2.0,1.0,1.0,1.0,60.0,11.0,7.0,17.0,32.0,1.0,2.0,6.0,19.0,3.0,1.0,3.0,1.0,22.0,1.0,4.0,1.0,4.0,1.0,3.0,2.0,5.0,1.0,1.0,0.0,0.0,0.0,0.0,0.0,0.0,0.0,0.0,0.0,0.0,0.0,0.0],\"xaxis\":\"x\",\"y\":[\"(63.8, 75.0], male, (1.8, 2.4], little\",\"(63.8, 75.0], male, (0.6, 1.2], little\",\"(63.8, 75.0], male, (0.6, 1.2], quite rich\",\"(63.8, 75.0], male, (2.4, 3.0], little\",\"(63.8, 75.0], male, (-0.003, 0.6], little\",\"(63.8, 75.0], female, (1.8, 2.4], little\",\"(63.8, 75.0], female, (1.8, 2.4], moderate\",\"(63.8, 75.0], female, (0.6, 1.2], quite rich\",\"(63.8, 75.0], female, (2.4, 3.0], little\",\"(63.8, 75.0], female, (-0.003, 0.6], little\",\"(18.944, 30.2], male, (1.8, 2.4], little\",\"(18.944, 30.2], male, (1.8, 2.4], quite rich\",\"(18.944, 30.2], male, (1.8, 2.4], rich\",\"(18.944, 30.2], male, (1.8, 2.4], moderate\",\"(18.944, 30.2], male, (0.6, 1.2], little\",\"(18.944, 30.2], male, (0.6, 1.2], quite rich\",\"(18.944, 30.2], male, (0.6, 1.2], moderate\",\"(18.944, 30.2], male, (2.4, 3.0], little\",\"(18.944, 30.2], male, (2.4, 3.0], quite rich\",\"(18.944, 30.2], male, (2.4, 3.0], moderate\",\"(18.944, 30.2], male, (-0.003, 0.6], little\",\"(18.944, 30.2], male, (-0.003, 0.6], rich\",\"(18.944, 30.2], female, (1.8, 2.4], little\",\"(18.944, 30.2], female, (1.8, 2.4], quite rich\",\"(18.944, 30.2], female, (1.8, 2.4], rich\",\"(18.944, 30.2], female, (1.8, 2.4], moderate\",\"(18.944, 30.2], female, (0.6, 1.2], little\",\"(18.944, 30.2], female, (0.6, 1.2], moderate\",\"(18.944, 30.2], female, (2.4, 3.0], little\",\"(18.944, 30.2], female, (2.4, 3.0], moderate\",\"(18.944, 30.2], female, (-0.003, 0.6], little\",\"(41.4, 52.6], male, (1.8, 2.4], little\",\"(41.4, 52.6], male, (1.8, 2.4], quite rich\",\"(41.4, 52.6], male, (1.8, 2.4], rich\",\"(41.4, 52.6], male, (1.8, 2.4], moderate\",\"(41.4, 52.6], male, (0.6, 1.2], little\",\"(41.4, 52.6], male, (0.6, 1.2], quite rich\",\"(41.4, 52.6], male, (2.4, 3.0], little\",\"(41.4, 52.6], male, (2.4, 3.0], moderate\",\"(41.4, 52.6], female, (1.8, 2.4], little\",\"(41.4, 52.6], female, (1.8, 2.4], moderate\",\"(41.4, 52.6], female, (0.6, 1.2], little\",\"(41.4, 52.6], female, (0.6, 1.2], rich\",\"(41.4, 52.6], female, (0.6, 1.2], moderate\",\"(52.6, 63.8], male, (1.8, 2.4], little\",\"(52.6, 63.8], male, (1.8, 2.4], quite rich\",\"(52.6, 63.8], male, (1.8, 2.4], rich\",\"(52.6, 63.8], male, (0.6, 1.2], little\",\"(52.6, 63.8], male, (0.6, 1.2], rich\",\"(52.6, 63.8], male, (2.4, 3.0], rich\",\"(52.6, 63.8], female, (1.8, 2.4], little\",\"(52.6, 63.8], female, (0.6, 1.2], little\",\"(52.6, 63.8], female, (0.6, 1.2], quite rich\",\"(52.6, 63.8], female, (0.6, 1.2], moderate\",\"(52.6, 63.8], female, (-0.003, 0.6], little\",\"(30.2, 41.4], male, (1.8, 2.4], little\",\"(30.2, 41.4], male, (1.8, 2.4], quite rich\",\"(30.2, 41.4], male, (1.8, 2.4], rich\",\"(30.2, 41.4], male, (1.8, 2.4], moderate\",\"(30.2, 41.4], male, (0.6, 1.2], little\",\"(30.2, 41.4], male, (0.6, 1.2], quite rich\",\"(30.2, 41.4], male, (0.6, 1.2], rich\",\"(30.2, 41.4], male, (0.6, 1.2], moderate\",\"(30.2, 41.4], male, (2.4, 3.0], little\",\"(30.2, 41.4], male, (2.4, 3.0], quite rich\",\"(30.2, 41.4], male, (2.4, 3.0], rich\",\"(30.2, 41.4], male, (2.4, 3.0], moderate\",\"(30.2, 41.4], male, (-0.003, 0.6], little\",\"(30.2, 41.4], female, (1.8, 2.4], little\",\"(30.2, 41.4], female, (1.8, 2.4], quite rich\",\"(30.2, 41.4], female, (1.8, 2.4], rich\",\"(30.2, 41.4], female, (1.8, 2.4], moderate\",\"(30.2, 41.4], female, (0.6, 1.2], little\",\"(30.2, 41.4], female, (0.6, 1.2], quite rich\",\"(30.2, 41.4], female, (0.6, 1.2], rich\",\"(30.2, 41.4], female, (0.6, 1.2], moderate\",\"(30.2, 41.4], female, (2.4, 3.0], little\",\"(30.2, 41.4], female, (2.4, 3.0], quite rich\",\"(30.2, 41.4], female, (-0.003, 0.6], little\",\"(63.8, 75.0], male, (-0.003, 0.6], quite rich\",\"(41.4, 52.6], female, (2.4, 3.0], little\",\"(52.6, 63.8], male, (2.4, 3.0], little\",\"(52.6, 63.8], female, (2.4, 3.0], little\",\"(52.6, 63.8], female, (2.4, 3.0], moderate\",\"(18.944, 30.2], female, (0.6, 1.2], quite rich\",\"(18.944, 30.2], female, (0.6, 1.2], rich\",\"(18.944, 30.2], female, (-0.003, 0.6], quite rich\",\"(41.4, 52.6], female, (1.8, 2.4], rich\",\"(52.6, 63.8], male, (0.6, 1.2], moderate\",\"(52.6, 63.8], female, (1.8, 2.4], rich\",\"(52.6, 63.8], female, (2.4, 3.0], rich\"],\"yaxis\":\"y\",\"type\":\"bar\"},{\"alignmentgroup\":\"True\",\"hovertemplate\":\"variable=free<br>value=%{x}<br>sensitive_features=%{y}<extra></extra>\",\"legendgroup\":\"free\",\"marker\":{\"color\":\"#EF553B\",\"pattern\":{\"shape\":\"\"}},\"name\":\"free\",\"offsetgroup\":\"free\",\"orientation\":\"h\",\"showlegend\":true,\"textposition\":\"auto\",\"x\":[1.0,0.0,0.0,3.0,1.0,0.0,0.0,0.0,1.0,0.0,6.0,1.0,0.0,2.0,0.0,0.0,0.0,2.0,0.0,0.0,0.0,0.0,1.0,0.0,0.0,0.0,0.0,0.0,0.0,0.0,0.0,11.0,2.0,0.0,2.0,0.0,1.0,3.0,0.0,0.0,2.0,0.0,0.0,1.0,7.0,0.0,1.0,0.0,0.0,0.0,1.0,2.0,0.0,0.0,1.0,7.0,0.0,1.0,0.0,1.0,0.0,0.0,1.0,8.0,0.0,0.0,1.0,0.0,1.0,1.0,0.0,0.0,1.0,0.0,0.0,0.0,1.0,0.0,0.0,1.0,3.0,4.0,1.0,1.0,0.0,0.0,0.0,0.0,0.0,0.0,0.0],\"xaxis\":\"x\",\"y\":[\"(63.8, 75.0], male, (1.8, 2.4], little\",\"(63.8, 75.0], male, (0.6, 1.2], little\",\"(63.8, 75.0], male, (0.6, 1.2], quite rich\",\"(63.8, 75.0], male, (2.4, 3.0], little\",\"(63.8, 75.0], male, (-0.003, 0.6], little\",\"(63.8, 75.0], female, (1.8, 2.4], little\",\"(63.8, 75.0], female, (1.8, 2.4], moderate\",\"(63.8, 75.0], female, (0.6, 1.2], quite rich\",\"(63.8, 75.0], female, (2.4, 3.0], little\",\"(63.8, 75.0], female, (-0.003, 0.6], little\",\"(18.944, 30.2], male, (1.8, 2.4], little\",\"(18.944, 30.2], male, (1.8, 2.4], quite rich\",\"(18.944, 30.2], male, (1.8, 2.4], rich\",\"(18.944, 30.2], male, (1.8, 2.4], moderate\",\"(18.944, 30.2], male, (0.6, 1.2], little\",\"(18.944, 30.2], male, (0.6, 1.2], quite rich\",\"(18.944, 30.2], male, (0.6, 1.2], moderate\",\"(18.944, 30.2], male, (2.4, 3.0], little\",\"(18.944, 30.2], male, (2.4, 3.0], quite rich\",\"(18.944, 30.2], male, (2.4, 3.0], moderate\",\"(18.944, 30.2], male, (-0.003, 0.6], little\",\"(18.944, 30.2], male, (-0.003, 0.6], rich\",\"(18.944, 30.2], female, (1.8, 2.4], little\",\"(18.944, 30.2], female, (1.8, 2.4], quite rich\",\"(18.944, 30.2], female, (1.8, 2.4], rich\",\"(18.944, 30.2], female, (1.8, 2.4], moderate\",\"(18.944, 30.2], female, (0.6, 1.2], little\",\"(18.944, 30.2], female, (0.6, 1.2], moderate\",\"(18.944, 30.2], female, (2.4, 3.0], little\",\"(18.944, 30.2], female, (2.4, 3.0], moderate\",\"(18.944, 30.2], female, (-0.003, 0.6], little\",\"(41.4, 52.6], male, (1.8, 2.4], little\",\"(41.4, 52.6], male, (1.8, 2.4], quite rich\",\"(41.4, 52.6], male, (1.8, 2.4], rich\",\"(41.4, 52.6], male, (1.8, 2.4], moderate\",\"(41.4, 52.6], male, (0.6, 1.2], little\",\"(41.4, 52.6], male, (0.6, 1.2], quite rich\",\"(41.4, 52.6], male, (2.4, 3.0], little\",\"(41.4, 52.6], male, (2.4, 3.0], moderate\",\"(41.4, 52.6], female, (1.8, 2.4], little\",\"(41.4, 52.6], female, (1.8, 2.4], moderate\",\"(41.4, 52.6], female, (0.6, 1.2], little\",\"(41.4, 52.6], female, (0.6, 1.2], rich\",\"(41.4, 52.6], female, (0.6, 1.2], moderate\",\"(52.6, 63.8], male, (1.8, 2.4], little\",\"(52.6, 63.8], male, (1.8, 2.4], quite rich\",\"(52.6, 63.8], male, (1.8, 2.4], rich\",\"(52.6, 63.8], male, (0.6, 1.2], little\",\"(52.6, 63.8], male, (0.6, 1.2], rich\",\"(52.6, 63.8], male, (2.4, 3.0], rich\",\"(52.6, 63.8], female, (1.8, 2.4], little\",\"(52.6, 63.8], female, (0.6, 1.2], little\",\"(52.6, 63.8], female, (0.6, 1.2], quite rich\",\"(52.6, 63.8], female, (0.6, 1.2], moderate\",\"(52.6, 63.8], female, (-0.003, 0.6], little\",\"(30.2, 41.4], male, (1.8, 2.4], little\",\"(30.2, 41.4], male, (1.8, 2.4], quite rich\",\"(30.2, 41.4], male, (1.8, 2.4], rich\",\"(30.2, 41.4], male, (1.8, 2.4], moderate\",\"(30.2, 41.4], male, (0.6, 1.2], little\",\"(30.2, 41.4], male, (0.6, 1.2], quite rich\",\"(30.2, 41.4], male, (0.6, 1.2], rich\",\"(30.2, 41.4], male, (0.6, 1.2], moderate\",\"(30.2, 41.4], male, (2.4, 3.0], little\",\"(30.2, 41.4], male, (2.4, 3.0], quite rich\",\"(30.2, 41.4], male, (2.4, 3.0], rich\",\"(30.2, 41.4], male, (2.4, 3.0], moderate\",\"(30.2, 41.4], male, (-0.003, 0.6], little\",\"(30.2, 41.4], female, (1.8, 2.4], little\",\"(30.2, 41.4], female, (1.8, 2.4], quite rich\",\"(30.2, 41.4], female, (1.8, 2.4], rich\",\"(30.2, 41.4], female, (1.8, 2.4], moderate\",\"(30.2, 41.4], female, (0.6, 1.2], little\",\"(30.2, 41.4], female, (0.6, 1.2], quite rich\",\"(30.2, 41.4], female, (0.6, 1.2], rich\",\"(30.2, 41.4], female, (0.6, 1.2], moderate\",\"(30.2, 41.4], female, (2.4, 3.0], little\",\"(30.2, 41.4], female, (2.4, 3.0], quite rich\",\"(30.2, 41.4], female, (-0.003, 0.6], little\",\"(63.8, 75.0], male, (-0.003, 0.6], quite rich\",\"(41.4, 52.6], female, (2.4, 3.0], little\",\"(52.6, 63.8], male, (2.4, 3.0], little\",\"(52.6, 63.8], female, (2.4, 3.0], little\",\"(52.6, 63.8], female, (2.4, 3.0], moderate\",\"(18.944, 30.2], female, (0.6, 1.2], quite rich\",\"(18.944, 30.2], female, (0.6, 1.2], rich\",\"(18.944, 30.2], female, (-0.003, 0.6], quite rich\",\"(41.4, 52.6], female, (1.8, 2.4], rich\",\"(52.6, 63.8], male, (0.6, 1.2], moderate\",\"(52.6, 63.8], female, (1.8, 2.4], rich\",\"(52.6, 63.8], female, (2.4, 3.0], rich\"],\"yaxis\":\"y\",\"type\":\"bar\"},{\"alignmentgroup\":\"True\",\"hovertemplate\":\"variable=rent<br>value=%{x}<br>sensitive_features=%{y}<extra></extra>\",\"legendgroup\":\"rent\",\"marker\":{\"color\":\"#00cc96\",\"pattern\":{\"shape\":\"\"}},\"name\":\"rent\",\"offsetgroup\":\"rent\",\"orientation\":\"h\",\"showlegend\":true,\"textposition\":\"auto\",\"x\":[0.0,1.0,0.0,0.0,0.0,0.0,0.0,0.0,0.0,0.0,16.0,1.0,1.0,5.0,7.0,1.0,0.0,3.0,0.0,2.0,0.0,0.0,31.0,2.0,4.0,5.0,7.0,4.0,3.0,0.0,2.0,3.0,2.0,0.0,0.0,1.0,0.0,1.0,0.0,1.0,0.0,2.0,0.0,0.0,1.0,0.0,0.0,0.0,0.0,0.0,2.0,0.0,0.0,0.0,0.0,11.0,1.0,0.0,2.0,3.0,1.0,0.0,2.0,5.0,0.0,0.0,1.0,0.0,3.0,1.0,0.0,0.0,0.0,0.0,0.0,0.0,2.0,0.0,0.0,0.0,0.0,0.0,1.0,0.0,1.0,1.0,2.0,1.0,1.0,1.0,1.0],\"xaxis\":\"x\",\"y\":[\"(63.8, 75.0], male, (1.8, 2.4], little\",\"(63.8, 75.0], male, (0.6, 1.2], little\",\"(63.8, 75.0], male, (0.6, 1.2], quite rich\",\"(63.8, 75.0], male, (2.4, 3.0], little\",\"(63.8, 75.0], male, (-0.003, 0.6], little\",\"(63.8, 75.0], female, (1.8, 2.4], little\",\"(63.8, 75.0], female, (1.8, 2.4], moderate\",\"(63.8, 75.0], female, (0.6, 1.2], quite rich\",\"(63.8, 75.0], female, (2.4, 3.0], little\",\"(63.8, 75.0], female, (-0.003, 0.6], little\",\"(18.944, 30.2], male, (1.8, 2.4], little\",\"(18.944, 30.2], male, (1.8, 2.4], quite rich\",\"(18.944, 30.2], male, (1.8, 2.4], rich\",\"(18.944, 30.2], male, (1.8, 2.4], moderate\",\"(18.944, 30.2], male, (0.6, 1.2], little\",\"(18.944, 30.2], male, (0.6, 1.2], quite rich\",\"(18.944, 30.2], male, (0.6, 1.2], moderate\",\"(18.944, 30.2], male, (2.4, 3.0], little\",\"(18.944, 30.2], male, (2.4, 3.0], quite rich\",\"(18.944, 30.2], male, (2.4, 3.0], moderate\",\"(18.944, 30.2], male, (-0.003, 0.6], little\",\"(18.944, 30.2], male, (-0.003, 0.6], rich\",\"(18.944, 30.2], female, (1.8, 2.4], little\",\"(18.944, 30.2], female, (1.8, 2.4], quite rich\",\"(18.944, 30.2], female, (1.8, 2.4], rich\",\"(18.944, 30.2], female, (1.8, 2.4], moderate\",\"(18.944, 30.2], female, (0.6, 1.2], little\",\"(18.944, 30.2], female, (0.6, 1.2], moderate\",\"(18.944, 30.2], female, (2.4, 3.0], little\",\"(18.944, 30.2], female, (2.4, 3.0], moderate\",\"(18.944, 30.2], female, (-0.003, 0.6], little\",\"(41.4, 52.6], male, (1.8, 2.4], little\",\"(41.4, 52.6], male, (1.8, 2.4], quite rich\",\"(41.4, 52.6], male, (1.8, 2.4], rich\",\"(41.4, 52.6], male, (1.8, 2.4], moderate\",\"(41.4, 52.6], male, (0.6, 1.2], little\",\"(41.4, 52.6], male, (0.6, 1.2], quite rich\",\"(41.4, 52.6], male, (2.4, 3.0], little\",\"(41.4, 52.6], male, (2.4, 3.0], moderate\",\"(41.4, 52.6], female, (1.8, 2.4], little\",\"(41.4, 52.6], female, (1.8, 2.4], moderate\",\"(41.4, 52.6], female, (0.6, 1.2], little\",\"(41.4, 52.6], female, (0.6, 1.2], rich\",\"(41.4, 52.6], female, (0.6, 1.2], moderate\",\"(52.6, 63.8], male, (1.8, 2.4], little\",\"(52.6, 63.8], male, (1.8, 2.4], quite rich\",\"(52.6, 63.8], male, (1.8, 2.4], rich\",\"(52.6, 63.8], male, (0.6, 1.2], little\",\"(52.6, 63.8], male, (0.6, 1.2], rich\",\"(52.6, 63.8], male, (2.4, 3.0], rich\",\"(52.6, 63.8], female, (1.8, 2.4], little\",\"(52.6, 63.8], female, (0.6, 1.2], little\",\"(52.6, 63.8], female, (0.6, 1.2], quite rich\",\"(52.6, 63.8], female, (0.6, 1.2], moderate\",\"(52.6, 63.8], female, (-0.003, 0.6], little\",\"(30.2, 41.4], male, (1.8, 2.4], little\",\"(30.2, 41.4], male, (1.8, 2.4], quite rich\",\"(30.2, 41.4], male, (1.8, 2.4], rich\",\"(30.2, 41.4], male, (1.8, 2.4], moderate\",\"(30.2, 41.4], male, (0.6, 1.2], little\",\"(30.2, 41.4], male, (0.6, 1.2], quite rich\",\"(30.2, 41.4], male, (0.6, 1.2], rich\",\"(30.2, 41.4], male, (0.6, 1.2], moderate\",\"(30.2, 41.4], male, (2.4, 3.0], little\",\"(30.2, 41.4], male, (2.4, 3.0], quite rich\",\"(30.2, 41.4], male, (2.4, 3.0], rich\",\"(30.2, 41.4], male, (2.4, 3.0], moderate\",\"(30.2, 41.4], male, (-0.003, 0.6], little\",\"(30.2, 41.4], female, (1.8, 2.4], little\",\"(30.2, 41.4], female, (1.8, 2.4], quite rich\",\"(30.2, 41.4], female, (1.8, 2.4], rich\",\"(30.2, 41.4], female, (1.8, 2.4], moderate\",\"(30.2, 41.4], female, (0.6, 1.2], little\",\"(30.2, 41.4], female, (0.6, 1.2], quite rich\",\"(30.2, 41.4], female, (0.6, 1.2], rich\",\"(30.2, 41.4], female, (0.6, 1.2], moderate\",\"(30.2, 41.4], female, (2.4, 3.0], little\",\"(30.2, 41.4], female, (2.4, 3.0], quite rich\",\"(30.2, 41.4], female, (-0.003, 0.6], little\",\"(63.8, 75.0], male, (-0.003, 0.6], quite rich\",\"(41.4, 52.6], female, (2.4, 3.0], little\",\"(52.6, 63.8], male, (2.4, 3.0], little\",\"(52.6, 63.8], female, (2.4, 3.0], little\",\"(52.6, 63.8], female, (2.4, 3.0], moderate\",\"(18.944, 30.2], female, (0.6, 1.2], quite rich\",\"(18.944, 30.2], female, (0.6, 1.2], rich\",\"(18.944, 30.2], female, (-0.003, 0.6], quite rich\",\"(41.4, 52.6], female, (1.8, 2.4], rich\",\"(52.6, 63.8], male, (0.6, 1.2], moderate\",\"(52.6, 63.8], female, (1.8, 2.4], rich\",\"(52.6, 63.8], female, (2.4, 3.0], rich\"],\"yaxis\":\"y\",\"type\":\"bar\"}],                        {\"template\":{\"data\":{\"histogram2dcontour\":[{\"type\":\"histogram2dcontour\",\"colorbar\":{\"outlinewidth\":0,\"ticks\":\"\"},\"colorscale\":[[0.0,\"#0d0887\"],[0.1111111111111111,\"#46039f\"],[0.2222222222222222,\"#7201a8\"],[0.3333333333333333,\"#9c179e\"],[0.4444444444444444,\"#bd3786\"],[0.5555555555555556,\"#d8576b\"],[0.6666666666666666,\"#ed7953\"],[0.7777777777777778,\"#fb9f3a\"],[0.8888888888888888,\"#fdca26\"],[1.0,\"#f0f921\"]]}],\"choropleth\":[{\"type\":\"choropleth\",\"colorbar\":{\"outlinewidth\":0,\"ticks\":\"\"}}],\"histogram2d\":[{\"type\":\"histogram2d\",\"colorbar\":{\"outlinewidth\":0,\"ticks\":\"\"},\"colorscale\":[[0.0,\"#0d0887\"],[0.1111111111111111,\"#46039f\"],[0.2222222222222222,\"#7201a8\"],[0.3333333333333333,\"#9c179e\"],[0.4444444444444444,\"#bd3786\"],[0.5555555555555556,\"#d8576b\"],[0.6666666666666666,\"#ed7953\"],[0.7777777777777778,\"#fb9f3a\"],[0.8888888888888888,\"#fdca26\"],[1.0,\"#f0f921\"]]}],\"heatmap\":[{\"type\":\"heatmap\",\"colorbar\":{\"outlinewidth\":0,\"ticks\":\"\"},\"colorscale\":[[0.0,\"#0d0887\"],[0.1111111111111111,\"#46039f\"],[0.2222222222222222,\"#7201a8\"],[0.3333333333333333,\"#9c179e\"],[0.4444444444444444,\"#bd3786\"],[0.5555555555555556,\"#d8576b\"],[0.6666666666666666,\"#ed7953\"],[0.7777777777777778,\"#fb9f3a\"],[0.8888888888888888,\"#fdca26\"],[1.0,\"#f0f921\"]]}],\"heatmapgl\":[{\"type\":\"heatmapgl\",\"colorbar\":{\"outlinewidth\":0,\"ticks\":\"\"},\"colorscale\":[[0.0,\"#0d0887\"],[0.1111111111111111,\"#46039f\"],[0.2222222222222222,\"#7201a8\"],[0.3333333333333333,\"#9c179e\"],[0.4444444444444444,\"#bd3786\"],[0.5555555555555556,\"#d8576b\"],[0.6666666666666666,\"#ed7953\"],[0.7777777777777778,\"#fb9f3a\"],[0.8888888888888888,\"#fdca26\"],[1.0,\"#f0f921\"]]}],\"contourcarpet\":[{\"type\":\"contourcarpet\",\"colorbar\":{\"outlinewidth\":0,\"ticks\":\"\"}}],\"contour\":[{\"type\":\"contour\",\"colorbar\":{\"outlinewidth\":0,\"ticks\":\"\"},\"colorscale\":[[0.0,\"#0d0887\"],[0.1111111111111111,\"#46039f\"],[0.2222222222222222,\"#7201a8\"],[0.3333333333333333,\"#9c179e\"],[0.4444444444444444,\"#bd3786\"],[0.5555555555555556,\"#d8576b\"],[0.6666666666666666,\"#ed7953\"],[0.7777777777777778,\"#fb9f3a\"],[0.8888888888888888,\"#fdca26\"],[1.0,\"#f0f921\"]]}],\"surface\":[{\"type\":\"surface\",\"colorbar\":{\"outlinewidth\":0,\"ticks\":\"\"},\"colorscale\":[[0.0,\"#0d0887\"],[0.1111111111111111,\"#46039f\"],[0.2222222222222222,\"#7201a8\"],[0.3333333333333333,\"#9c179e\"],[0.4444444444444444,\"#bd3786\"],[0.5555555555555556,\"#d8576b\"],[0.6666666666666666,\"#ed7953\"],[0.7777777777777778,\"#fb9f3a\"],[0.8888888888888888,\"#fdca26\"],[1.0,\"#f0f921\"]]}],\"mesh3d\":[{\"type\":\"mesh3d\",\"colorbar\":{\"outlinewidth\":0,\"ticks\":\"\"}}],\"scatter\":[{\"marker\":{\"line\":{\"color\":\"#283442\"}},\"type\":\"scatter\"}],\"parcoords\":[{\"type\":\"parcoords\",\"line\":{\"colorbar\":{\"outlinewidth\":0,\"ticks\":\"\"}}}],\"scatterpolargl\":[{\"type\":\"scatterpolargl\",\"marker\":{\"colorbar\":{\"outlinewidth\":0,\"ticks\":\"\"}}}],\"bar\":[{\"error_x\":{\"color\":\"#f2f5fa\"},\"error_y\":{\"color\":\"#f2f5fa\"},\"marker\":{\"line\":{\"color\":\"rgb(17,17,17)\",\"width\":0.5},\"pattern\":{\"fillmode\":\"overlay\",\"size\":10,\"solidity\":0.2}},\"type\":\"bar\"}],\"scattergeo\":[{\"type\":\"scattergeo\",\"marker\":{\"colorbar\":{\"outlinewidth\":0,\"ticks\":\"\"}}}],\"scatterpolar\":[{\"type\":\"scatterpolar\",\"marker\":{\"colorbar\":{\"outlinewidth\":0,\"ticks\":\"\"}}}],\"histogram\":[{\"marker\":{\"pattern\":{\"fillmode\":\"overlay\",\"size\":10,\"solidity\":0.2}},\"type\":\"histogram\"}],\"scattergl\":[{\"marker\":{\"line\":{\"color\":\"#283442\"}},\"type\":\"scattergl\"}],\"scatter3d\":[{\"type\":\"scatter3d\",\"line\":{\"colorbar\":{\"outlinewidth\":0,\"ticks\":\"\"}},\"marker\":{\"colorbar\":{\"outlinewidth\":0,\"ticks\":\"\"}}}],\"scattermapbox\":[{\"type\":\"scattermapbox\",\"marker\":{\"colorbar\":{\"outlinewidth\":0,\"ticks\":\"\"}}}],\"scatterternary\":[{\"type\":\"scatterternary\",\"marker\":{\"colorbar\":{\"outlinewidth\":0,\"ticks\":\"\"}}}],\"scattercarpet\":[{\"type\":\"scattercarpet\",\"marker\":{\"colorbar\":{\"outlinewidth\":0,\"ticks\":\"\"}}}],\"carpet\":[{\"aaxis\":{\"endlinecolor\":\"#A2B1C6\",\"gridcolor\":\"#506784\",\"linecolor\":\"#506784\",\"minorgridcolor\":\"#506784\",\"startlinecolor\":\"#A2B1C6\"},\"baxis\":{\"endlinecolor\":\"#A2B1C6\",\"gridcolor\":\"#506784\",\"linecolor\":\"#506784\",\"minorgridcolor\":\"#506784\",\"startlinecolor\":\"#A2B1C6\"},\"type\":\"carpet\"}],\"table\":[{\"cells\":{\"fill\":{\"color\":\"#506784\"},\"line\":{\"color\":\"rgb(17,17,17)\"}},\"header\":{\"fill\":{\"color\":\"#2a3f5f\"},\"line\":{\"color\":\"rgb(17,17,17)\"}},\"type\":\"table\"}],\"barpolar\":[{\"marker\":{\"line\":{\"color\":\"rgb(17,17,17)\",\"width\":0.5},\"pattern\":{\"fillmode\":\"overlay\",\"size\":10,\"solidity\":0.2}},\"type\":\"barpolar\"}],\"pie\":[{\"automargin\":true,\"type\":\"pie\"}]},\"layout\":{\"autotypenumbers\":\"strict\",\"colorway\":[\"#636efa\",\"#EF553B\",\"#00cc96\",\"#ab63fa\",\"#FFA15A\",\"#19d3f3\",\"#FF6692\",\"#B6E880\",\"#FF97FF\",\"#FECB52\"],\"font\":{\"color\":\"#f2f5fa\"},\"hovermode\":\"closest\",\"hoverlabel\":{\"align\":\"left\"},\"paper_bgcolor\":\"rgb(17,17,17)\",\"plot_bgcolor\":\"rgb(17,17,17)\",\"polar\":{\"bgcolor\":\"rgb(17,17,17)\",\"angularaxis\":{\"gridcolor\":\"#506784\",\"linecolor\":\"#506784\",\"ticks\":\"\"},\"radialaxis\":{\"gridcolor\":\"#506784\",\"linecolor\":\"#506784\",\"ticks\":\"\"}},\"ternary\":{\"bgcolor\":\"rgb(17,17,17)\",\"aaxis\":{\"gridcolor\":\"#506784\",\"linecolor\":\"#506784\",\"ticks\":\"\"},\"baxis\":{\"gridcolor\":\"#506784\",\"linecolor\":\"#506784\",\"ticks\":\"\"},\"caxis\":{\"gridcolor\":\"#506784\",\"linecolor\":\"#506784\",\"ticks\":\"\"}},\"coloraxis\":{\"colorbar\":{\"outlinewidth\":0,\"ticks\":\"\"}},\"colorscale\":{\"sequential\":[[0.0,\"#0d0887\"],[0.1111111111111111,\"#46039f\"],[0.2222222222222222,\"#7201a8\"],[0.3333333333333333,\"#9c179e\"],[0.4444444444444444,\"#bd3786\"],[0.5555555555555556,\"#d8576b\"],[0.6666666666666666,\"#ed7953\"],[0.7777777777777778,\"#fb9f3a\"],[0.8888888888888888,\"#fdca26\"],[1.0,\"#f0f921\"]],\"sequentialminus\":[[0.0,\"#0d0887\"],[0.1111111111111111,\"#46039f\"],[0.2222222222222222,\"#7201a8\"],[0.3333333333333333,\"#9c179e\"],[0.4444444444444444,\"#bd3786\"],[0.5555555555555556,\"#d8576b\"],[0.6666666666666666,\"#ed7953\"],[0.7777777777777778,\"#fb9f3a\"],[0.8888888888888888,\"#fdca26\"],[1.0,\"#f0f921\"]],\"diverging\":[[0,\"#8e0152\"],[0.1,\"#c51b7d\"],[0.2,\"#de77ae\"],[0.3,\"#f1b6da\"],[0.4,\"#fde0ef\"],[0.5,\"#f7f7f7\"],[0.6,\"#e6f5d0\"],[0.7,\"#b8e186\"],[0.8,\"#7fbc41\"],[0.9,\"#4d9221\"],[1,\"#276419\"]]},\"xaxis\":{\"gridcolor\":\"#283442\",\"linecolor\":\"#506784\",\"ticks\":\"\",\"title\":{\"standoff\":15},\"zerolinecolor\":\"#283442\",\"automargin\":true,\"zerolinewidth\":2},\"yaxis\":{\"gridcolor\":\"#283442\",\"linecolor\":\"#506784\",\"ticks\":\"\",\"title\":{\"standoff\":15},\"zerolinecolor\":\"#283442\",\"automargin\":true,\"zerolinewidth\":2},\"scene\":{\"xaxis\":{\"backgroundcolor\":\"rgb(17,17,17)\",\"gridcolor\":\"#506784\",\"linecolor\":\"#506784\",\"showbackground\":true,\"ticks\":\"\",\"zerolinecolor\":\"#C8D4E3\",\"gridwidth\":2},\"yaxis\":{\"backgroundcolor\":\"rgb(17,17,17)\",\"gridcolor\":\"#506784\",\"linecolor\":\"#506784\",\"showbackground\":true,\"ticks\":\"\",\"zerolinecolor\":\"#C8D4E3\",\"gridwidth\":2},\"zaxis\":{\"backgroundcolor\":\"rgb(17,17,17)\",\"gridcolor\":\"#506784\",\"linecolor\":\"#506784\",\"showbackground\":true,\"ticks\":\"\",\"zerolinecolor\":\"#C8D4E3\",\"gridwidth\":2}},\"shapedefaults\":{\"line\":{\"color\":\"#f2f5fa\"}},\"annotationdefaults\":{\"arrowcolor\":\"#f2f5fa\",\"arrowhead\":0,\"arrowwidth\":1},\"geo\":{\"bgcolor\":\"rgb(17,17,17)\",\"landcolor\":\"rgb(17,17,17)\",\"subunitcolor\":\"#506784\",\"showland\":true,\"showlakes\":true,\"lakecolor\":\"rgb(17,17,17)\"},\"title\":{\"x\":0.05},\"updatemenudefaults\":{\"bgcolor\":\"#506784\",\"borderwidth\":0},\"sliderdefaults\":{\"bgcolor\":\"#C8D4E3\",\"borderwidth\":1,\"bordercolor\":\"rgb(17,17,17)\",\"tickwidth\":0},\"mapbox\":{\"style\":\"dark\"}}},\"xaxis\":{\"anchor\":\"y\",\"domain\":[0.0,1.0],\"title\":{\"text\":\"Count\"}},\"yaxis\":{\"anchor\":\"x\",\"domain\":[0.0,1.0],\"title\":{\"text\":\"sensitive_features\"}},\"legend\":{\"title\":{\"text\":\"variable\"},\"tracegroupgap\":0},\"title\":{\"text\":\"Sensitive Feature Combinations vs Target Column\"},\"barmode\":\"stack\"},                        {\"responsive\": true}                    ).then(function(){\n                            \nvar gd = document.getElementById('ff08debb-4036-4c6c-9fc2-edd2eb951a4c');\nvar x = new MutationObserver(function (mutations, observer) {{\n        var display = window.getComputedStyle(gd).display;\n        if (!display || display === 'none') {{\n            console.log([gd, 'removed!']);\n            Plotly.purge(gd);\n            observer.disconnect();\n        }}\n}});\n\n// Listen for the removal of the full notebook cells\nvar notebookContainer = gd.closest('#notebook-container');\nif (notebookContainer) {{\n    x.observe(notebookContainer, {childList: true});\n}}\n\n// Listen for the clearing of the current output cell\nvar outputEl = gd.closest('.output');\nif (outputEl) {{\n    x.observe(outputEl, {childList: true});\n}}\n\n                        })                };                });            </script>        </div>"
     },
     "metadata": {},
     "output_type": "display_data"
    }
   ],
   "source": [
    "data = pd.read_csv('datasets/german_credit_data.csv')\n",
    "data.head()\n",
    "sensitive_features = ['Age', 'Sex', 'Job', 'Saving accounts']\n",
    "target_column = 'Housing'\n",
    "counts_table = sensitive_feature_combinations(data, sensitive_features, target_column)\n",
    "print(counts_table)\n",
    "fig = plot_stacked_barchart(counts_table)\n",
    "fig.show()"
   ],
   "metadata": {
    "collapsed": false
   }
  },
  {
   "cell_type": "code",
   "execution_count": 136,
   "outputs": [
    {
     "data": {
      "application/vnd.plotly.v1+json": {
       "data": [
        {
         "alignmentgroup": "True",
         "bingroup": "x",
         "hovertemplate": "Unnamed: 0=%{x}<br>count=%{y}<extra></extra>",
         "legendgroup": "",
         "marker": {
          "color": "#636efa",
          "pattern": {
           "shape": ""
          }
         },
         "name": "",
         "offsetgroup": "",
         "orientation": "v",
         "showlegend": false,
         "x": [
          0,
          1,
          2,
          3,
          4,
          5,
          6,
          7,
          8,
          9,
          10,
          11,
          12,
          13,
          14,
          15,
          16,
          17,
          18,
          19,
          20,
          21,
          22,
          23,
          24,
          25,
          26,
          27,
          28,
          29,
          30,
          31,
          32,
          33,
          34,
          35,
          36,
          37,
          38,
          39,
          40,
          41,
          42,
          43,
          44,
          45,
          46,
          47,
          48,
          49,
          50,
          51,
          52,
          53,
          54,
          55,
          56,
          57,
          58,
          59,
          60,
          61,
          62,
          63,
          64,
          65,
          66,
          67,
          68,
          69,
          70,
          71,
          72,
          73,
          74,
          75,
          76,
          77,
          78,
          79,
          80,
          81,
          82,
          83,
          84,
          85,
          86,
          87,
          88,
          89,
          90,
          91,
          92,
          93,
          94,
          95,
          96,
          97,
          98,
          99,
          100,
          101,
          102,
          103,
          104,
          105,
          106,
          107,
          108,
          109,
          110,
          111,
          112,
          113,
          114,
          115,
          116,
          117,
          118,
          119,
          120,
          121,
          122,
          123,
          124,
          125,
          126,
          127,
          128,
          129,
          130,
          131,
          132,
          133,
          134,
          135,
          136,
          137,
          138,
          139,
          140,
          141,
          142,
          143,
          144,
          145,
          146,
          147,
          148,
          149,
          150,
          151,
          152,
          153,
          154,
          155,
          156,
          157,
          158,
          159,
          160,
          161,
          162,
          163,
          164,
          165,
          166,
          167,
          168,
          169,
          170,
          171,
          172,
          173,
          174,
          175,
          176,
          177,
          178,
          179,
          180,
          181,
          182,
          183,
          184,
          185,
          186,
          187,
          188,
          189,
          190,
          191,
          192,
          193,
          194,
          195,
          196,
          197,
          198,
          199,
          200,
          201,
          202,
          203,
          204,
          205,
          206,
          207,
          208,
          209,
          210,
          211,
          212,
          213,
          214,
          215,
          216,
          217,
          218,
          219,
          220,
          221,
          222,
          223,
          224,
          225,
          226,
          227,
          228,
          229,
          230,
          231,
          232,
          233,
          234,
          235,
          236,
          237,
          238,
          239,
          240,
          241,
          242,
          243,
          244,
          245,
          246,
          247,
          248,
          249,
          250,
          251,
          252,
          253,
          254,
          255,
          256,
          257,
          258,
          259,
          260,
          261,
          262,
          263,
          264,
          265,
          266,
          267,
          268,
          269,
          270,
          271,
          272,
          273,
          274,
          275,
          276,
          277,
          278,
          279,
          280,
          281,
          282,
          283,
          284,
          285,
          286,
          287,
          288,
          289,
          290,
          291,
          292,
          293,
          294,
          295,
          296,
          297,
          298,
          299,
          300,
          301,
          302,
          303,
          304,
          305,
          306,
          307,
          308,
          309,
          310,
          311,
          312,
          313,
          314,
          315,
          316,
          317,
          318,
          319,
          320,
          321,
          322,
          323,
          324,
          325,
          326,
          327,
          328,
          329,
          330,
          331,
          332,
          333,
          334,
          335,
          336,
          337,
          338,
          339,
          340,
          341,
          342,
          343,
          344,
          345,
          346,
          347,
          348,
          349,
          350,
          351,
          352,
          353,
          354,
          355,
          356,
          357,
          358,
          359,
          360,
          361,
          362,
          363,
          364,
          365,
          366,
          367,
          368,
          369,
          370,
          371,
          372,
          373,
          374,
          375,
          376,
          377,
          378,
          379,
          380,
          381,
          382,
          383,
          384,
          385,
          386,
          387,
          388,
          389,
          390,
          391,
          392,
          393,
          394,
          395,
          396,
          397,
          398,
          399,
          400,
          401,
          402,
          403,
          404,
          405,
          406,
          407,
          408,
          409,
          410,
          411,
          412,
          413,
          414,
          415,
          416,
          417,
          418,
          419,
          420,
          421,
          422,
          423,
          424,
          425,
          426,
          427,
          428,
          429,
          430,
          431,
          432,
          433,
          434,
          435,
          436,
          437,
          438,
          439,
          440,
          441,
          442,
          443,
          444,
          445,
          446,
          447,
          448,
          449,
          450,
          451,
          452,
          453,
          454,
          455,
          456,
          457,
          458,
          459,
          460,
          461,
          462,
          463,
          464,
          465,
          466,
          467,
          468,
          469,
          470,
          471,
          472,
          473,
          474,
          475,
          476,
          477,
          478,
          479,
          480,
          481,
          482,
          483,
          484,
          485,
          486,
          487,
          488,
          489,
          490,
          491,
          492,
          493,
          494,
          495,
          496,
          497,
          498,
          499,
          500,
          501,
          502,
          503,
          504,
          505,
          506,
          507,
          508,
          509,
          510,
          511,
          512,
          513,
          514,
          515,
          516,
          517,
          518,
          519,
          520,
          521,
          522,
          523,
          524,
          525,
          526,
          527,
          528,
          529,
          530,
          531,
          532,
          533,
          534,
          535,
          536,
          537,
          538,
          539,
          540,
          541,
          542,
          543,
          544,
          545,
          546,
          547,
          548,
          549,
          550,
          551,
          552,
          553,
          554,
          555,
          556,
          557,
          558,
          559,
          560,
          561,
          562,
          563,
          564,
          565,
          566,
          567,
          568,
          569,
          570,
          571,
          572,
          573,
          574,
          575,
          576,
          577,
          578,
          579,
          580,
          581,
          582,
          583,
          584,
          585,
          586,
          587,
          588,
          589,
          590,
          591,
          592,
          593,
          594,
          595,
          596,
          597,
          598,
          599,
          600,
          601,
          602,
          603,
          604,
          605,
          606,
          607,
          608,
          609,
          610,
          611,
          612,
          613,
          614,
          615,
          616,
          617,
          618,
          619,
          620,
          621,
          622,
          623,
          624,
          625,
          626,
          627,
          628,
          629,
          630,
          631,
          632,
          633,
          634,
          635,
          636,
          637,
          638,
          639,
          640,
          641,
          642,
          643,
          644,
          645,
          646,
          647,
          648,
          649,
          650,
          651,
          652,
          653,
          654,
          655,
          656,
          657,
          658,
          659,
          660,
          661,
          662,
          663,
          664,
          665,
          666,
          667,
          668,
          669,
          670,
          671,
          672,
          673,
          674,
          675,
          676,
          677,
          678,
          679,
          680,
          681,
          682,
          683,
          684,
          685,
          686,
          687,
          688,
          689,
          690,
          691,
          692,
          693,
          694,
          695,
          696,
          697,
          698,
          699,
          700,
          701,
          702,
          703,
          704,
          705,
          706,
          707,
          708,
          709,
          710,
          711,
          712,
          713,
          714,
          715,
          716,
          717,
          718,
          719,
          720,
          721,
          722,
          723,
          724,
          725,
          726,
          727,
          728,
          729,
          730,
          731,
          732,
          733,
          734,
          735,
          736,
          737,
          738,
          739,
          740,
          741,
          742,
          743,
          744,
          745,
          746,
          747,
          748,
          749,
          750,
          751,
          752,
          753,
          754,
          755,
          756,
          757,
          758,
          759,
          760,
          761,
          762,
          763,
          764,
          765,
          766,
          767,
          768,
          769,
          770,
          771,
          772,
          773,
          774,
          775,
          776,
          777,
          778,
          779,
          780,
          781,
          782,
          783,
          784,
          785,
          786,
          787,
          788,
          789,
          790,
          791,
          792,
          793,
          794,
          795,
          796,
          797,
          798,
          799,
          800,
          801,
          802,
          803,
          804,
          805,
          806,
          807,
          808,
          809,
          810,
          811,
          812,
          813,
          814,
          815,
          816,
          817,
          818,
          819,
          820,
          821,
          822,
          823,
          824,
          825,
          826,
          827,
          828,
          829,
          830,
          831,
          832,
          833,
          834,
          835,
          836,
          837,
          838,
          839,
          840,
          841,
          842,
          843,
          844,
          845,
          846,
          847,
          848,
          849,
          850,
          851,
          852,
          853,
          854,
          855,
          856,
          857,
          858,
          859,
          860,
          861,
          862,
          863,
          864,
          865,
          866,
          867,
          868,
          869,
          870,
          871,
          872,
          873,
          874,
          875,
          876,
          877,
          878,
          879,
          880,
          881,
          882,
          883,
          884,
          885,
          886,
          887,
          888,
          889,
          890,
          891,
          892,
          893,
          894,
          895,
          896,
          897,
          898,
          899,
          900,
          901,
          902,
          903,
          904,
          905,
          906,
          907,
          908,
          909,
          910,
          911,
          912,
          913,
          914,
          915,
          916,
          917,
          918,
          919,
          920,
          921,
          922,
          923,
          924,
          925,
          926,
          927,
          928,
          929,
          930,
          931,
          932,
          933,
          934,
          935,
          936,
          937,
          938,
          939,
          940,
          941,
          942,
          943,
          944,
          945,
          946,
          947,
          948,
          949,
          950,
          951,
          952,
          953,
          954,
          955,
          956,
          957,
          958,
          959,
          960,
          961,
          962,
          963,
          964,
          965,
          966,
          967,
          968,
          969,
          970,
          971,
          972,
          973,
          974,
          975,
          976,
          977,
          978,
          979,
          980,
          981,
          982,
          983,
          984,
          985,
          986,
          987,
          988,
          989,
          990,
          991,
          992,
          993,
          994,
          995,
          996,
          997,
          998,
          999
         ],
         "xaxis": "x",
         "yaxis": "y",
         "type": "histogram"
        }
       ],
       "layout": {
        "template": {
         "data": {
          "histogram2dcontour": [
           {
            "type": "histogram2dcontour",
            "colorbar": {
             "outlinewidth": 0,
             "ticks": ""
            },
            "colorscale": [
             [
              0.0,
              "#0d0887"
             ],
             [
              0.1111111111111111,
              "#46039f"
             ],
             [
              0.2222222222222222,
              "#7201a8"
             ],
             [
              0.3333333333333333,
              "#9c179e"
             ],
             [
              0.4444444444444444,
              "#bd3786"
             ],
             [
              0.5555555555555556,
              "#d8576b"
             ],
             [
              0.6666666666666666,
              "#ed7953"
             ],
             [
              0.7777777777777778,
              "#fb9f3a"
             ],
             [
              0.8888888888888888,
              "#fdca26"
             ],
             [
              1.0,
              "#f0f921"
             ]
            ]
           }
          ],
          "choropleth": [
           {
            "type": "choropleth",
            "colorbar": {
             "outlinewidth": 0,
             "ticks": ""
            }
           }
          ],
          "histogram2d": [
           {
            "type": "histogram2d",
            "colorbar": {
             "outlinewidth": 0,
             "ticks": ""
            },
            "colorscale": [
             [
              0.0,
              "#0d0887"
             ],
             [
              0.1111111111111111,
              "#46039f"
             ],
             [
              0.2222222222222222,
              "#7201a8"
             ],
             [
              0.3333333333333333,
              "#9c179e"
             ],
             [
              0.4444444444444444,
              "#bd3786"
             ],
             [
              0.5555555555555556,
              "#d8576b"
             ],
             [
              0.6666666666666666,
              "#ed7953"
             ],
             [
              0.7777777777777778,
              "#fb9f3a"
             ],
             [
              0.8888888888888888,
              "#fdca26"
             ],
             [
              1.0,
              "#f0f921"
             ]
            ]
           }
          ],
          "heatmap": [
           {
            "type": "heatmap",
            "colorbar": {
             "outlinewidth": 0,
             "ticks": ""
            },
            "colorscale": [
             [
              0.0,
              "#0d0887"
             ],
             [
              0.1111111111111111,
              "#46039f"
             ],
             [
              0.2222222222222222,
              "#7201a8"
             ],
             [
              0.3333333333333333,
              "#9c179e"
             ],
             [
              0.4444444444444444,
              "#bd3786"
             ],
             [
              0.5555555555555556,
              "#d8576b"
             ],
             [
              0.6666666666666666,
              "#ed7953"
             ],
             [
              0.7777777777777778,
              "#fb9f3a"
             ],
             [
              0.8888888888888888,
              "#fdca26"
             ],
             [
              1.0,
              "#f0f921"
             ]
            ]
           }
          ],
          "heatmapgl": [
           {
            "type": "heatmapgl",
            "colorbar": {
             "outlinewidth": 0,
             "ticks": ""
            },
            "colorscale": [
             [
              0.0,
              "#0d0887"
             ],
             [
              0.1111111111111111,
              "#46039f"
             ],
             [
              0.2222222222222222,
              "#7201a8"
             ],
             [
              0.3333333333333333,
              "#9c179e"
             ],
             [
              0.4444444444444444,
              "#bd3786"
             ],
             [
              0.5555555555555556,
              "#d8576b"
             ],
             [
              0.6666666666666666,
              "#ed7953"
             ],
             [
              0.7777777777777778,
              "#fb9f3a"
             ],
             [
              0.8888888888888888,
              "#fdca26"
             ],
             [
              1.0,
              "#f0f921"
             ]
            ]
           }
          ],
          "contourcarpet": [
           {
            "type": "contourcarpet",
            "colorbar": {
             "outlinewidth": 0,
             "ticks": ""
            }
           }
          ],
          "contour": [
           {
            "type": "contour",
            "colorbar": {
             "outlinewidth": 0,
             "ticks": ""
            },
            "colorscale": [
             [
              0.0,
              "#0d0887"
             ],
             [
              0.1111111111111111,
              "#46039f"
             ],
             [
              0.2222222222222222,
              "#7201a8"
             ],
             [
              0.3333333333333333,
              "#9c179e"
             ],
             [
              0.4444444444444444,
              "#bd3786"
             ],
             [
              0.5555555555555556,
              "#d8576b"
             ],
             [
              0.6666666666666666,
              "#ed7953"
             ],
             [
              0.7777777777777778,
              "#fb9f3a"
             ],
             [
              0.8888888888888888,
              "#fdca26"
             ],
             [
              1.0,
              "#f0f921"
             ]
            ]
           }
          ],
          "surface": [
           {
            "type": "surface",
            "colorbar": {
             "outlinewidth": 0,
             "ticks": ""
            },
            "colorscale": [
             [
              0.0,
              "#0d0887"
             ],
             [
              0.1111111111111111,
              "#46039f"
             ],
             [
              0.2222222222222222,
              "#7201a8"
             ],
             [
              0.3333333333333333,
              "#9c179e"
             ],
             [
              0.4444444444444444,
              "#bd3786"
             ],
             [
              0.5555555555555556,
              "#d8576b"
             ],
             [
              0.6666666666666666,
              "#ed7953"
             ],
             [
              0.7777777777777778,
              "#fb9f3a"
             ],
             [
              0.8888888888888888,
              "#fdca26"
             ],
             [
              1.0,
              "#f0f921"
             ]
            ]
           }
          ],
          "mesh3d": [
           {
            "type": "mesh3d",
            "colorbar": {
             "outlinewidth": 0,
             "ticks": ""
            }
           }
          ],
          "scatter": [
           {
            "marker": {
             "line": {
              "color": "#283442"
             }
            },
            "type": "scatter"
           }
          ],
          "parcoords": [
           {
            "type": "parcoords",
            "line": {
             "colorbar": {
              "outlinewidth": 0,
              "ticks": ""
             }
            }
           }
          ],
          "scatterpolargl": [
           {
            "type": "scatterpolargl",
            "marker": {
             "colorbar": {
              "outlinewidth": 0,
              "ticks": ""
             }
            }
           }
          ],
          "bar": [
           {
            "error_x": {
             "color": "#f2f5fa"
            },
            "error_y": {
             "color": "#f2f5fa"
            },
            "marker": {
             "line": {
              "color": "rgb(17,17,17)",
              "width": 0.5
             },
             "pattern": {
              "fillmode": "overlay",
              "size": 10,
              "solidity": 0.2
             }
            },
            "type": "bar"
           }
          ],
          "scattergeo": [
           {
            "type": "scattergeo",
            "marker": {
             "colorbar": {
              "outlinewidth": 0,
              "ticks": ""
             }
            }
           }
          ],
          "scatterpolar": [
           {
            "type": "scatterpolar",
            "marker": {
             "colorbar": {
              "outlinewidth": 0,
              "ticks": ""
             }
            }
           }
          ],
          "histogram": [
           {
            "marker": {
             "pattern": {
              "fillmode": "overlay",
              "size": 10,
              "solidity": 0.2
             }
            },
            "type": "histogram"
           }
          ],
          "scattergl": [
           {
            "marker": {
             "line": {
              "color": "#283442"
             }
            },
            "type": "scattergl"
           }
          ],
          "scatter3d": [
           {
            "type": "scatter3d",
            "line": {
             "colorbar": {
              "outlinewidth": 0,
              "ticks": ""
             }
            },
            "marker": {
             "colorbar": {
              "outlinewidth": 0,
              "ticks": ""
             }
            }
           }
          ],
          "scattermapbox": [
           {
            "type": "scattermapbox",
            "marker": {
             "colorbar": {
              "outlinewidth": 0,
              "ticks": ""
             }
            }
           }
          ],
          "scatterternary": [
           {
            "type": "scatterternary",
            "marker": {
             "colorbar": {
              "outlinewidth": 0,
              "ticks": ""
             }
            }
           }
          ],
          "scattercarpet": [
           {
            "type": "scattercarpet",
            "marker": {
             "colorbar": {
              "outlinewidth": 0,
              "ticks": ""
             }
            }
           }
          ],
          "carpet": [
           {
            "aaxis": {
             "endlinecolor": "#A2B1C6",
             "gridcolor": "#506784",
             "linecolor": "#506784",
             "minorgridcolor": "#506784",
             "startlinecolor": "#A2B1C6"
            },
            "baxis": {
             "endlinecolor": "#A2B1C6",
             "gridcolor": "#506784",
             "linecolor": "#506784",
             "minorgridcolor": "#506784",
             "startlinecolor": "#A2B1C6"
            },
            "type": "carpet"
           }
          ],
          "table": [
           {
            "cells": {
             "fill": {
              "color": "#506784"
             },
             "line": {
              "color": "rgb(17,17,17)"
             }
            },
            "header": {
             "fill": {
              "color": "#2a3f5f"
             },
             "line": {
              "color": "rgb(17,17,17)"
             }
            },
            "type": "table"
           }
          ],
          "barpolar": [
           {
            "marker": {
             "line": {
              "color": "rgb(17,17,17)",
              "width": 0.5
             },
             "pattern": {
              "fillmode": "overlay",
              "size": 10,
              "solidity": 0.2
             }
            },
            "type": "barpolar"
           }
          ],
          "pie": [
           {
            "automargin": true,
            "type": "pie"
           }
          ]
         },
         "layout": {
          "autotypenumbers": "strict",
          "colorway": [
           "#636efa",
           "#EF553B",
           "#00cc96",
           "#ab63fa",
           "#FFA15A",
           "#19d3f3",
           "#FF6692",
           "#B6E880",
           "#FF97FF",
           "#FECB52"
          ],
          "font": {
           "color": "#f2f5fa"
          },
          "hovermode": "closest",
          "hoverlabel": {
           "align": "left"
          },
          "paper_bgcolor": "rgb(17,17,17)",
          "plot_bgcolor": "rgb(17,17,17)",
          "polar": {
           "bgcolor": "rgb(17,17,17)",
           "angularaxis": {
            "gridcolor": "#506784",
            "linecolor": "#506784",
            "ticks": ""
           },
           "radialaxis": {
            "gridcolor": "#506784",
            "linecolor": "#506784",
            "ticks": ""
           }
          },
          "ternary": {
           "bgcolor": "rgb(17,17,17)",
           "aaxis": {
            "gridcolor": "#506784",
            "linecolor": "#506784",
            "ticks": ""
           },
           "baxis": {
            "gridcolor": "#506784",
            "linecolor": "#506784",
            "ticks": ""
           },
           "caxis": {
            "gridcolor": "#506784",
            "linecolor": "#506784",
            "ticks": ""
           }
          },
          "coloraxis": {
           "colorbar": {
            "outlinewidth": 0,
            "ticks": ""
           }
          },
          "colorscale": {
           "sequential": [
            [
             0.0,
             "#0d0887"
            ],
            [
             0.1111111111111111,
             "#46039f"
            ],
            [
             0.2222222222222222,
             "#7201a8"
            ],
            [
             0.3333333333333333,
             "#9c179e"
            ],
            [
             0.4444444444444444,
             "#bd3786"
            ],
            [
             0.5555555555555556,
             "#d8576b"
            ],
            [
             0.6666666666666666,
             "#ed7953"
            ],
            [
             0.7777777777777778,
             "#fb9f3a"
            ],
            [
             0.8888888888888888,
             "#fdca26"
            ],
            [
             1.0,
             "#f0f921"
            ]
           ],
           "sequentialminus": [
            [
             0.0,
             "#0d0887"
            ],
            [
             0.1111111111111111,
             "#46039f"
            ],
            [
             0.2222222222222222,
             "#7201a8"
            ],
            [
             0.3333333333333333,
             "#9c179e"
            ],
            [
             0.4444444444444444,
             "#bd3786"
            ],
            [
             0.5555555555555556,
             "#d8576b"
            ],
            [
             0.6666666666666666,
             "#ed7953"
            ],
            [
             0.7777777777777778,
             "#fb9f3a"
            ],
            [
             0.8888888888888888,
             "#fdca26"
            ],
            [
             1.0,
             "#f0f921"
            ]
           ],
           "diverging": [
            [
             0,
             "#8e0152"
            ],
            [
             0.1,
             "#c51b7d"
            ],
            [
             0.2,
             "#de77ae"
            ],
            [
             0.3,
             "#f1b6da"
            ],
            [
             0.4,
             "#fde0ef"
            ],
            [
             0.5,
             "#f7f7f7"
            ],
            [
             0.6,
             "#e6f5d0"
            ],
            [
             0.7,
             "#b8e186"
            ],
            [
             0.8,
             "#7fbc41"
            ],
            [
             0.9,
             "#4d9221"
            ],
            [
             1,
             "#276419"
            ]
           ]
          },
          "xaxis": {
           "gridcolor": "#283442",
           "linecolor": "#506784",
           "ticks": "",
           "title": {
            "standoff": 15
           },
           "zerolinecolor": "#283442",
           "automargin": true,
           "zerolinewidth": 2
          },
          "yaxis": {
           "gridcolor": "#283442",
           "linecolor": "#506784",
           "ticks": "",
           "title": {
            "standoff": 15
           },
           "zerolinecolor": "#283442",
           "automargin": true,
           "zerolinewidth": 2
          },
          "scene": {
           "xaxis": {
            "backgroundcolor": "rgb(17,17,17)",
            "gridcolor": "#506784",
            "linecolor": "#506784",
            "showbackground": true,
            "ticks": "",
            "zerolinecolor": "#C8D4E3",
            "gridwidth": 2
           },
           "yaxis": {
            "backgroundcolor": "rgb(17,17,17)",
            "gridcolor": "#506784",
            "linecolor": "#506784",
            "showbackground": true,
            "ticks": "",
            "zerolinecolor": "#C8D4E3",
            "gridwidth": 2
           },
           "zaxis": {
            "backgroundcolor": "rgb(17,17,17)",
            "gridcolor": "#506784",
            "linecolor": "#506784",
            "showbackground": true,
            "ticks": "",
            "zerolinecolor": "#C8D4E3",
            "gridwidth": 2
           }
          },
          "shapedefaults": {
           "line": {
            "color": "#f2f5fa"
           }
          },
          "annotationdefaults": {
           "arrowcolor": "#f2f5fa",
           "arrowhead": 0,
           "arrowwidth": 1
          },
          "geo": {
           "bgcolor": "rgb(17,17,17)",
           "landcolor": "rgb(17,17,17)",
           "subunitcolor": "#506784",
           "showland": true,
           "showlakes": true,
           "lakecolor": "rgb(17,17,17)"
          },
          "title": {
           "x": 0.05
          },
          "updatemenudefaults": {
           "bgcolor": "#506784",
           "borderwidth": 0
          },
          "sliderdefaults": {
           "bgcolor": "#C8D4E3",
           "borderwidth": 1,
           "bordercolor": "rgb(17,17,17)",
           "tickwidth": 0
          },
          "mapbox": {
           "style": "dark"
          }
         }
        },
        "xaxis": {
         "anchor": "y",
         "domain": [
          0.0,
          1.0
         ],
         "title": {
          "text": "Unnamed: 0"
         }
        },
        "yaxis": {
         "anchor": "x",
         "domain": [
          0.0,
          1.0
         ],
         "title": {
          "text": "count"
         }
        },
        "legend": {
         "tracegroupgap": 0
        },
        "title": {
         "text": "Unnamed: 0 distribution"
        },
        "barmode": "relative"
       },
       "config": {
        "plotlyServerURL": "https://plot.ly"
       }
      },
      "text/html": "<div>                            <div id=\"240f2eb5-d86f-416c-85d3-aae2b3d2f674\" class=\"plotly-graph-div\" style=\"height:525px; width:100%;\"></div>            <script type=\"text/javascript\">                require([\"plotly\"], function(Plotly) {                    window.PLOTLYENV=window.PLOTLYENV || {};                                    if (document.getElementById(\"240f2eb5-d86f-416c-85d3-aae2b3d2f674\")) {                    Plotly.newPlot(                        \"240f2eb5-d86f-416c-85d3-aae2b3d2f674\",                        [{\"alignmentgroup\":\"True\",\"bingroup\":\"x\",\"hovertemplate\":\"Unnamed: 0=%{x}<br>count=%{y}<extra></extra>\",\"legendgroup\":\"\",\"marker\":{\"color\":\"#636efa\",\"pattern\":{\"shape\":\"\"}},\"name\":\"\",\"offsetgroup\":\"\",\"orientation\":\"v\",\"showlegend\":false,\"x\":[0,1,2,3,4,5,6,7,8,9,10,11,12,13,14,15,16,17,18,19,20,21,22,23,24,25,26,27,28,29,30,31,32,33,34,35,36,37,38,39,40,41,42,43,44,45,46,47,48,49,50,51,52,53,54,55,56,57,58,59,60,61,62,63,64,65,66,67,68,69,70,71,72,73,74,75,76,77,78,79,80,81,82,83,84,85,86,87,88,89,90,91,92,93,94,95,96,97,98,99,100,101,102,103,104,105,106,107,108,109,110,111,112,113,114,115,116,117,118,119,120,121,122,123,124,125,126,127,128,129,130,131,132,133,134,135,136,137,138,139,140,141,142,143,144,145,146,147,148,149,150,151,152,153,154,155,156,157,158,159,160,161,162,163,164,165,166,167,168,169,170,171,172,173,174,175,176,177,178,179,180,181,182,183,184,185,186,187,188,189,190,191,192,193,194,195,196,197,198,199,200,201,202,203,204,205,206,207,208,209,210,211,212,213,214,215,216,217,218,219,220,221,222,223,224,225,226,227,228,229,230,231,232,233,234,235,236,237,238,239,240,241,242,243,244,245,246,247,248,249,250,251,252,253,254,255,256,257,258,259,260,261,262,263,264,265,266,267,268,269,270,271,272,273,274,275,276,277,278,279,280,281,282,283,284,285,286,287,288,289,290,291,292,293,294,295,296,297,298,299,300,301,302,303,304,305,306,307,308,309,310,311,312,313,314,315,316,317,318,319,320,321,322,323,324,325,326,327,328,329,330,331,332,333,334,335,336,337,338,339,340,341,342,343,344,345,346,347,348,349,350,351,352,353,354,355,356,357,358,359,360,361,362,363,364,365,366,367,368,369,370,371,372,373,374,375,376,377,378,379,380,381,382,383,384,385,386,387,388,389,390,391,392,393,394,395,396,397,398,399,400,401,402,403,404,405,406,407,408,409,410,411,412,413,414,415,416,417,418,419,420,421,422,423,424,425,426,427,428,429,430,431,432,433,434,435,436,437,438,439,440,441,442,443,444,445,446,447,448,449,450,451,452,453,454,455,456,457,458,459,460,461,462,463,464,465,466,467,468,469,470,471,472,473,474,475,476,477,478,479,480,481,482,483,484,485,486,487,488,489,490,491,492,493,494,495,496,497,498,499,500,501,502,503,504,505,506,507,508,509,510,511,512,513,514,515,516,517,518,519,520,521,522,523,524,525,526,527,528,529,530,531,532,533,534,535,536,537,538,539,540,541,542,543,544,545,546,547,548,549,550,551,552,553,554,555,556,557,558,559,560,561,562,563,564,565,566,567,568,569,570,571,572,573,574,575,576,577,578,579,580,581,582,583,584,585,586,587,588,589,590,591,592,593,594,595,596,597,598,599,600,601,602,603,604,605,606,607,608,609,610,611,612,613,614,615,616,617,618,619,620,621,622,623,624,625,626,627,628,629,630,631,632,633,634,635,636,637,638,639,640,641,642,643,644,645,646,647,648,649,650,651,652,653,654,655,656,657,658,659,660,661,662,663,664,665,666,667,668,669,670,671,672,673,674,675,676,677,678,679,680,681,682,683,684,685,686,687,688,689,690,691,692,693,694,695,696,697,698,699,700,701,702,703,704,705,706,707,708,709,710,711,712,713,714,715,716,717,718,719,720,721,722,723,724,725,726,727,728,729,730,731,732,733,734,735,736,737,738,739,740,741,742,743,744,745,746,747,748,749,750,751,752,753,754,755,756,757,758,759,760,761,762,763,764,765,766,767,768,769,770,771,772,773,774,775,776,777,778,779,780,781,782,783,784,785,786,787,788,789,790,791,792,793,794,795,796,797,798,799,800,801,802,803,804,805,806,807,808,809,810,811,812,813,814,815,816,817,818,819,820,821,822,823,824,825,826,827,828,829,830,831,832,833,834,835,836,837,838,839,840,841,842,843,844,845,846,847,848,849,850,851,852,853,854,855,856,857,858,859,860,861,862,863,864,865,866,867,868,869,870,871,872,873,874,875,876,877,878,879,880,881,882,883,884,885,886,887,888,889,890,891,892,893,894,895,896,897,898,899,900,901,902,903,904,905,906,907,908,909,910,911,912,913,914,915,916,917,918,919,920,921,922,923,924,925,926,927,928,929,930,931,932,933,934,935,936,937,938,939,940,941,942,943,944,945,946,947,948,949,950,951,952,953,954,955,956,957,958,959,960,961,962,963,964,965,966,967,968,969,970,971,972,973,974,975,976,977,978,979,980,981,982,983,984,985,986,987,988,989,990,991,992,993,994,995,996,997,998,999],\"xaxis\":\"x\",\"yaxis\":\"y\",\"type\":\"histogram\"}],                        {\"template\":{\"data\":{\"histogram2dcontour\":[{\"type\":\"histogram2dcontour\",\"colorbar\":{\"outlinewidth\":0,\"ticks\":\"\"},\"colorscale\":[[0.0,\"#0d0887\"],[0.1111111111111111,\"#46039f\"],[0.2222222222222222,\"#7201a8\"],[0.3333333333333333,\"#9c179e\"],[0.4444444444444444,\"#bd3786\"],[0.5555555555555556,\"#d8576b\"],[0.6666666666666666,\"#ed7953\"],[0.7777777777777778,\"#fb9f3a\"],[0.8888888888888888,\"#fdca26\"],[1.0,\"#f0f921\"]]}],\"choropleth\":[{\"type\":\"choropleth\",\"colorbar\":{\"outlinewidth\":0,\"ticks\":\"\"}}],\"histogram2d\":[{\"type\":\"histogram2d\",\"colorbar\":{\"outlinewidth\":0,\"ticks\":\"\"},\"colorscale\":[[0.0,\"#0d0887\"],[0.1111111111111111,\"#46039f\"],[0.2222222222222222,\"#7201a8\"],[0.3333333333333333,\"#9c179e\"],[0.4444444444444444,\"#bd3786\"],[0.5555555555555556,\"#d8576b\"],[0.6666666666666666,\"#ed7953\"],[0.7777777777777778,\"#fb9f3a\"],[0.8888888888888888,\"#fdca26\"],[1.0,\"#f0f921\"]]}],\"heatmap\":[{\"type\":\"heatmap\",\"colorbar\":{\"outlinewidth\":0,\"ticks\":\"\"},\"colorscale\":[[0.0,\"#0d0887\"],[0.1111111111111111,\"#46039f\"],[0.2222222222222222,\"#7201a8\"],[0.3333333333333333,\"#9c179e\"],[0.4444444444444444,\"#bd3786\"],[0.5555555555555556,\"#d8576b\"],[0.6666666666666666,\"#ed7953\"],[0.7777777777777778,\"#fb9f3a\"],[0.8888888888888888,\"#fdca26\"],[1.0,\"#f0f921\"]]}],\"heatmapgl\":[{\"type\":\"heatmapgl\",\"colorbar\":{\"outlinewidth\":0,\"ticks\":\"\"},\"colorscale\":[[0.0,\"#0d0887\"],[0.1111111111111111,\"#46039f\"],[0.2222222222222222,\"#7201a8\"],[0.3333333333333333,\"#9c179e\"],[0.4444444444444444,\"#bd3786\"],[0.5555555555555556,\"#d8576b\"],[0.6666666666666666,\"#ed7953\"],[0.7777777777777778,\"#fb9f3a\"],[0.8888888888888888,\"#fdca26\"],[1.0,\"#f0f921\"]]}],\"contourcarpet\":[{\"type\":\"contourcarpet\",\"colorbar\":{\"outlinewidth\":0,\"ticks\":\"\"}}],\"contour\":[{\"type\":\"contour\",\"colorbar\":{\"outlinewidth\":0,\"ticks\":\"\"},\"colorscale\":[[0.0,\"#0d0887\"],[0.1111111111111111,\"#46039f\"],[0.2222222222222222,\"#7201a8\"],[0.3333333333333333,\"#9c179e\"],[0.4444444444444444,\"#bd3786\"],[0.5555555555555556,\"#d8576b\"],[0.6666666666666666,\"#ed7953\"],[0.7777777777777778,\"#fb9f3a\"],[0.8888888888888888,\"#fdca26\"],[1.0,\"#f0f921\"]]}],\"surface\":[{\"type\":\"surface\",\"colorbar\":{\"outlinewidth\":0,\"ticks\":\"\"},\"colorscale\":[[0.0,\"#0d0887\"],[0.1111111111111111,\"#46039f\"],[0.2222222222222222,\"#7201a8\"],[0.3333333333333333,\"#9c179e\"],[0.4444444444444444,\"#bd3786\"],[0.5555555555555556,\"#d8576b\"],[0.6666666666666666,\"#ed7953\"],[0.7777777777777778,\"#fb9f3a\"],[0.8888888888888888,\"#fdca26\"],[1.0,\"#f0f921\"]]}],\"mesh3d\":[{\"type\":\"mesh3d\",\"colorbar\":{\"outlinewidth\":0,\"ticks\":\"\"}}],\"scatter\":[{\"marker\":{\"line\":{\"color\":\"#283442\"}},\"type\":\"scatter\"}],\"parcoords\":[{\"type\":\"parcoords\",\"line\":{\"colorbar\":{\"outlinewidth\":0,\"ticks\":\"\"}}}],\"scatterpolargl\":[{\"type\":\"scatterpolargl\",\"marker\":{\"colorbar\":{\"outlinewidth\":0,\"ticks\":\"\"}}}],\"bar\":[{\"error_x\":{\"color\":\"#f2f5fa\"},\"error_y\":{\"color\":\"#f2f5fa\"},\"marker\":{\"line\":{\"color\":\"rgb(17,17,17)\",\"width\":0.5},\"pattern\":{\"fillmode\":\"overlay\",\"size\":10,\"solidity\":0.2}},\"type\":\"bar\"}],\"scattergeo\":[{\"type\":\"scattergeo\",\"marker\":{\"colorbar\":{\"outlinewidth\":0,\"ticks\":\"\"}}}],\"scatterpolar\":[{\"type\":\"scatterpolar\",\"marker\":{\"colorbar\":{\"outlinewidth\":0,\"ticks\":\"\"}}}],\"histogram\":[{\"marker\":{\"pattern\":{\"fillmode\":\"overlay\",\"size\":10,\"solidity\":0.2}},\"type\":\"histogram\"}],\"scattergl\":[{\"marker\":{\"line\":{\"color\":\"#283442\"}},\"type\":\"scattergl\"}],\"scatter3d\":[{\"type\":\"scatter3d\",\"line\":{\"colorbar\":{\"outlinewidth\":0,\"ticks\":\"\"}},\"marker\":{\"colorbar\":{\"outlinewidth\":0,\"ticks\":\"\"}}}],\"scattermapbox\":[{\"type\":\"scattermapbox\",\"marker\":{\"colorbar\":{\"outlinewidth\":0,\"ticks\":\"\"}}}],\"scatterternary\":[{\"type\":\"scatterternary\",\"marker\":{\"colorbar\":{\"outlinewidth\":0,\"ticks\":\"\"}}}],\"scattercarpet\":[{\"type\":\"scattercarpet\",\"marker\":{\"colorbar\":{\"outlinewidth\":0,\"ticks\":\"\"}}}],\"carpet\":[{\"aaxis\":{\"endlinecolor\":\"#A2B1C6\",\"gridcolor\":\"#506784\",\"linecolor\":\"#506784\",\"minorgridcolor\":\"#506784\",\"startlinecolor\":\"#A2B1C6\"},\"baxis\":{\"endlinecolor\":\"#A2B1C6\",\"gridcolor\":\"#506784\",\"linecolor\":\"#506784\",\"minorgridcolor\":\"#506784\",\"startlinecolor\":\"#A2B1C6\"},\"type\":\"carpet\"}],\"table\":[{\"cells\":{\"fill\":{\"color\":\"#506784\"},\"line\":{\"color\":\"rgb(17,17,17)\"}},\"header\":{\"fill\":{\"color\":\"#2a3f5f\"},\"line\":{\"color\":\"rgb(17,17,17)\"}},\"type\":\"table\"}],\"barpolar\":[{\"marker\":{\"line\":{\"color\":\"rgb(17,17,17)\",\"width\":0.5},\"pattern\":{\"fillmode\":\"overlay\",\"size\":10,\"solidity\":0.2}},\"type\":\"barpolar\"}],\"pie\":[{\"automargin\":true,\"type\":\"pie\"}]},\"layout\":{\"autotypenumbers\":\"strict\",\"colorway\":[\"#636efa\",\"#EF553B\",\"#00cc96\",\"#ab63fa\",\"#FFA15A\",\"#19d3f3\",\"#FF6692\",\"#B6E880\",\"#FF97FF\",\"#FECB52\"],\"font\":{\"color\":\"#f2f5fa\"},\"hovermode\":\"closest\",\"hoverlabel\":{\"align\":\"left\"},\"paper_bgcolor\":\"rgb(17,17,17)\",\"plot_bgcolor\":\"rgb(17,17,17)\",\"polar\":{\"bgcolor\":\"rgb(17,17,17)\",\"angularaxis\":{\"gridcolor\":\"#506784\",\"linecolor\":\"#506784\",\"ticks\":\"\"},\"radialaxis\":{\"gridcolor\":\"#506784\",\"linecolor\":\"#506784\",\"ticks\":\"\"}},\"ternary\":{\"bgcolor\":\"rgb(17,17,17)\",\"aaxis\":{\"gridcolor\":\"#506784\",\"linecolor\":\"#506784\",\"ticks\":\"\"},\"baxis\":{\"gridcolor\":\"#506784\",\"linecolor\":\"#506784\",\"ticks\":\"\"},\"caxis\":{\"gridcolor\":\"#506784\",\"linecolor\":\"#506784\",\"ticks\":\"\"}},\"coloraxis\":{\"colorbar\":{\"outlinewidth\":0,\"ticks\":\"\"}},\"colorscale\":{\"sequential\":[[0.0,\"#0d0887\"],[0.1111111111111111,\"#46039f\"],[0.2222222222222222,\"#7201a8\"],[0.3333333333333333,\"#9c179e\"],[0.4444444444444444,\"#bd3786\"],[0.5555555555555556,\"#d8576b\"],[0.6666666666666666,\"#ed7953\"],[0.7777777777777778,\"#fb9f3a\"],[0.8888888888888888,\"#fdca26\"],[1.0,\"#f0f921\"]],\"sequentialminus\":[[0.0,\"#0d0887\"],[0.1111111111111111,\"#46039f\"],[0.2222222222222222,\"#7201a8\"],[0.3333333333333333,\"#9c179e\"],[0.4444444444444444,\"#bd3786\"],[0.5555555555555556,\"#d8576b\"],[0.6666666666666666,\"#ed7953\"],[0.7777777777777778,\"#fb9f3a\"],[0.8888888888888888,\"#fdca26\"],[1.0,\"#f0f921\"]],\"diverging\":[[0,\"#8e0152\"],[0.1,\"#c51b7d\"],[0.2,\"#de77ae\"],[0.3,\"#f1b6da\"],[0.4,\"#fde0ef\"],[0.5,\"#f7f7f7\"],[0.6,\"#e6f5d0\"],[0.7,\"#b8e186\"],[0.8,\"#7fbc41\"],[0.9,\"#4d9221\"],[1,\"#276419\"]]},\"xaxis\":{\"gridcolor\":\"#283442\",\"linecolor\":\"#506784\",\"ticks\":\"\",\"title\":{\"standoff\":15},\"zerolinecolor\":\"#283442\",\"automargin\":true,\"zerolinewidth\":2},\"yaxis\":{\"gridcolor\":\"#283442\",\"linecolor\":\"#506784\",\"ticks\":\"\",\"title\":{\"standoff\":15},\"zerolinecolor\":\"#283442\",\"automargin\":true,\"zerolinewidth\":2},\"scene\":{\"xaxis\":{\"backgroundcolor\":\"rgb(17,17,17)\",\"gridcolor\":\"#506784\",\"linecolor\":\"#506784\",\"showbackground\":true,\"ticks\":\"\",\"zerolinecolor\":\"#C8D4E3\",\"gridwidth\":2},\"yaxis\":{\"backgroundcolor\":\"rgb(17,17,17)\",\"gridcolor\":\"#506784\",\"linecolor\":\"#506784\",\"showbackground\":true,\"ticks\":\"\",\"zerolinecolor\":\"#C8D4E3\",\"gridwidth\":2},\"zaxis\":{\"backgroundcolor\":\"rgb(17,17,17)\",\"gridcolor\":\"#506784\",\"linecolor\":\"#506784\",\"showbackground\":true,\"ticks\":\"\",\"zerolinecolor\":\"#C8D4E3\",\"gridwidth\":2}},\"shapedefaults\":{\"line\":{\"color\":\"#f2f5fa\"}},\"annotationdefaults\":{\"arrowcolor\":\"#f2f5fa\",\"arrowhead\":0,\"arrowwidth\":1},\"geo\":{\"bgcolor\":\"rgb(17,17,17)\",\"landcolor\":\"rgb(17,17,17)\",\"subunitcolor\":\"#506784\",\"showland\":true,\"showlakes\":true,\"lakecolor\":\"rgb(17,17,17)\"},\"title\":{\"x\":0.05},\"updatemenudefaults\":{\"bgcolor\":\"#506784\",\"borderwidth\":0},\"sliderdefaults\":{\"bgcolor\":\"#C8D4E3\",\"borderwidth\":1,\"bordercolor\":\"rgb(17,17,17)\",\"tickwidth\":0},\"mapbox\":{\"style\":\"dark\"}}},\"xaxis\":{\"anchor\":\"y\",\"domain\":[0.0,1.0],\"title\":{\"text\":\"Unnamed: 0\"}},\"yaxis\":{\"anchor\":\"x\",\"domain\":[0.0,1.0],\"title\":{\"text\":\"count\"}},\"legend\":{\"tracegroupgap\":0},\"title\":{\"text\":\"Unnamed: 0 distribution\"},\"barmode\":\"relative\"},                        {\"responsive\": true}                    ).then(function(){\n                            \nvar gd = document.getElementById('240f2eb5-d86f-416c-85d3-aae2b3d2f674');\nvar x = new MutationObserver(function (mutations, observer) {{\n        var display = window.getComputedStyle(gd).display;\n        if (!display || display === 'none') {{\n            console.log([gd, 'removed!']);\n            Plotly.purge(gd);\n            observer.disconnect();\n        }}\n}});\n\n// Listen for the removal of the full notebook cells\nvar notebookContainer = gd.closest('#notebook-container');\nif (notebookContainer) {{\n    x.observe(notebookContainer, {childList: true});\n}}\n\n// Listen for the clearing of the current output cell\nvar outputEl = gd.closest('.output');\nif (outputEl) {{\n    x.observe(outputEl, {childList: true});\n}}\n\n                        })                };                });            </script>        </div>"
     },
     "metadata": {},
     "output_type": "display_data"
    },
    {
     "data": {
      "application/vnd.plotly.v1+json": {
       "data": [
        {
         "alignmentgroup": "True",
         "bingroup": "x",
         "hovertemplate": "Age=%{x}<br>count=%{y}<extra></extra>",
         "legendgroup": "",
         "marker": {
          "color": "#636efa",
          "pattern": {
           "shape": ""
          }
         },
         "name": "",
         "offsetgroup": "",
         "orientation": "v",
         "showlegend": false,
         "x": [
          67,
          22,
          49,
          45,
          53,
          35,
          53,
          35,
          61,
          28,
          25,
          24,
          22,
          60,
          28,
          32,
          53,
          25,
          44,
          31,
          48,
          44,
          48,
          44,
          26,
          36,
          39,
          42,
          34,
          63,
          36,
          27,
          30,
          57,
          33,
          25,
          31,
          37,
          37,
          24,
          30,
          26,
          44,
          24,
          58,
          35,
          39,
          23,
          39,
          28,
          29,
          30,
          25,
          31,
          57,
          26,
          52,
          31,
          23,
          23,
          27,
          50,
          61,
          25,
          26,
          48,
          29,
          22,
          37,
          25,
          30,
          46,
          51,
          41,
          40,
          66,
          34,
          51,
          39,
          22,
          44,
          47,
          24,
          58,
          52,
          29,
          27,
          47,
          30,
          28,
          56,
          54,
          33,
          20,
          54,
          58,
          61,
          34,
          36,
          36,
          41,
          24,
          24,
          35,
          26,
          39,
          39,
          32,
          30,
          35,
          31,
          23,
          28,
          25,
          35,
          47,
          30,
          27,
          23,
          36,
          25,
          41,
          24,
          63,
          27,
          30,
          40,
          30,
          34,
          29,
          24,
          29,
          27,
          47,
          21,
          38,
          27,
          66,
          35,
          44,
          27,
          30,
          27,
          22,
          23,
          30,
          39,
          51,
          28,
          46,
          42,
          38,
          24,
          29,
          36,
          20,
          48,
          45,
          38,
          34,
          36,
          30,
          36,
          70,
          36,
          32,
          33,
          20,
          25,
          31,
          33,
          26,
          34,
          33,
          26,
          53,
          42,
          52,
          31,
          65,
          28,
          30,
          40,
          50,
          36,
          31,
          74,
          68,
          20,
          33,
          54,
          34,
          36,
          29,
          21,
          34,
          28,
          27,
          36,
          40,
          52,
          27,
          26,
          21,
          38,
          38,
          43,
          26,
          21,
          55,
          33,
          45,
          50,
          66,
          51,
          39,
          31,
          23,
          24,
          64,
          26,
          23,
          30,
          32,
          30,
          27,
          27,
          53,
          22,
          22,
          26,
          51,
          35,
          25,
          42,
          30,
          23,
          61,
          35,
          39,
          29,
          51,
          24,
          27,
          35,
          25,
          52,
          35,
          26,
          22,
          39,
          46,
          24,
          35,
          24,
          27,
          35,
          29,
          23,
          57,
          27,
          55,
          36,
          57,
          32,
          37,
          36,
          38,
          45,
          25,
          32,
          37,
          36,
          28,
          34,
          32,
          26,
          49,
          32,
          29,
          23,
          50,
          49,
          63,
          37,
          35,
          26,
          31,
          49,
          48,
          26,
          28,
          44,
          56,
          46,
          26,
          20,
          45,
          43,
          32,
          54,
          42,
          37,
          49,
          44,
          33,
          24,
          33,
          24,
          22,
          40,
          25,
          26,
          25,
          29,
          31,
          38,
          48,
          32,
          27,
          28,
          32,
          34,
          28,
          36,
          39,
          49,
          34,
          31,
          28,
          75,
          30,
          24,
          24,
          23,
          44,
          23,
          24,
          28,
          31,
          24,
          26,
          25,
          33,
          37,
          43,
          23,
          23,
          34,
          32,
          23,
          29,
          38,
          28,
          46,
          23,
          49,
          26,
          28,
          23,
          61,
          37,
          36,
          21,
          25,
          36,
          27,
          22,
          42,
          40,
          36,
          33,
          23,
          63,
          60,
          37,
          34,
          36,
          57,
          52,
          39,
          38,
          25,
          26,
          26,
          25,
          21,
          40,
          27,
          27,
          30,
          19,
          39,
          31,
          31,
          32,
          55,
          46,
          46,
          43,
          39,
          28,
          27,
          27,
          43,
          22,
          43,
          27,
          26,
          28,
          20,
          35,
          42,
          40,
          35,
          35,
          33,
          23,
          31,
          33,
          20,
          30,
          47,
          34,
          25,
          21,
          29,
          46,
          20,
          55,
          74,
          29,
          36,
          33,
          25,
          25,
          23,
          37,
          65,
          26,
          39,
          30,
          29,
          41,
          30,
          41,
          34,
          35,
          55,
          61,
          30,
          29,
          34,
          35,
          31,
          29,
          36,
          35,
          27,
          32,
          37,
          36,
          34,
          38,
          34,
          63,
          29,
          32,
          26,
          35,
          22,
          23,
          28,
          36,
          33,
          26,
          24,
          25,
          39,
          44,
          23,
          26,
          57,
          30,
          44,
          47,
          52,
          62,
          35,
          26,
          26,
          42,
          27,
          38,
          39,
          20,
          29,
          40,
          32,
          28,
          27,
          42,
          49,
          38,
          24,
          27,
          36,
          34,
          28,
          45,
          26,
          32,
          26,
          20,
          54,
          37,
          40,
          23,
          43,
          36,
          44,
          24,
          53,
          23,
          26,
          30,
          31,
          42,
          31,
          41,
          32,
          28,
          41,
          26,
          25,
          33,
          75,
          37,
          42,
          45,
          23,
          60,
          31,
          34,
          61,
          43,
          37,
          32,
          24,
          35,
          23,
          45,
          34,
          27,
          67,
          22,
          28,
          29,
          27,
          31,
          49,
          24,
          29,
          37,
          37,
          23,
          36,
          34,
          41,
          31,
          23,
          38,
          26,
          22,
          27,
          24,
          27,
          33,
          27,
          27,
          30,
          49,
          26,
          33,
          52,
          20,
          36,
          21,
          47,
          60,
          58,
          42,
          36,
          20,
          40,
          32,
          23,
          36,
          31,
          32,
          45,
          30,
          34,
          28,
          23,
          22,
          74,
          50,
          33,
          45,
          22,
          48,
          29,
          22,
          22,
          48,
          27,
          37,
          21,
          49,
          27,
          32,
          38,
          22,
          65,
          35,
          41,
          29,
          36,
          64,
          28,
          44,
          23,
          19,
          25,
          47,
          28,
          21,
          34,
          26,
          27,
          38,
          40,
          33,
          32,
          27,
          32,
          26,
          38,
          40,
          50,
          37,
          45,
          42,
          35,
          22,
          41,
          37,
          28,
          41,
          23,
          23,
          50,
          35,
          50,
          27,
          34,
          27,
          43,
          47,
          27,
          31,
          42,
          24,
          41,
          26,
          33,
          24,
          64,
          26,
          56,
          37,
          33,
          47,
          31,
          34,
          27,
          30,
          35,
          31,
          25,
          25,
          29,
          44,
          28,
          50,
          29,
          38,
          24,
          40,
          29,
          46,
          47,
          41,
          32,
          35,
          24,
          25,
          25,
          37,
          32,
          35,
          46,
          25,
          27,
          63,
          40,
          32,
          31,
          31,
          34,
          24,
          24,
          66,
          21,
          41,
          47,
          25,
          59,
          36,
          33,
          21,
          44,
          28,
          37,
          29,
          23,
          35,
          45,
          26,
          32,
          23,
          41,
          22,
          30,
          28,
          23,
          37,
          26,
          33,
          49,
          23,
          23,
          25,
          55,
          32,
          74,
          39,
          31,
          35,
          59,
          24,
          24,
          30,
          27,
          40,
          31,
          31,
          28,
          63,
          26,
          25,
          36,
          52,
          66,
          25,
          37,
          25,
          38,
          67,
          25,
          60,
          31,
          23,
          60,
          35,
          40,
          38,
          50,
          27,
          39,
          41,
          27,
          51,
          32,
          22,
          51,
          22,
          54,
          35,
          54,
          48,
          24,
          35,
          24,
          24,
          26,
          65,
          55,
          26,
          26,
          28,
          24,
          54,
          46,
          54,
          62,
          24,
          43,
          26,
          27,
          24,
          41,
          47,
          35,
          30,
          33,
          36,
          47,
          38,
          44,
          23,
          29,
          42,
          25,
          48,
          21,
          23,
          63,
          46,
          29,
          28,
          23,
          50,
          47,
          35,
          68,
          28,
          59,
          57,
          33,
          43,
          35,
          32,
          45,
          33,
          40,
          28,
          29,
          26,
          27,
          28,
          35,
          32,
          25,
          20,
          27,
          42,
          37,
          24,
          40,
          46,
          26,
          24,
          29,
          40,
          36,
          28,
          27,
          36,
          38,
          48,
          36,
          65,
          43,
          53,
          34,
          23,
          34,
          40,
          43,
          46,
          38,
          34,
          29,
          31,
          28,
          35,
          33,
          42,
          43,
          44,
          42,
          40,
          36,
          20,
          24,
          27,
          46,
          33,
          34,
          25,
          25,
          28,
          31,
          32,
          32,
          68,
          33,
          39,
          28,
          37,
          22,
          30,
          55,
          46,
          21,
          39,
          58,
          43,
          24,
          22,
          30,
          42,
          23,
          30,
          28,
          30,
          42,
          46,
          45,
          31,
          31,
          42,
          46,
          30,
          30,
          38,
          43,
          31,
          40,
          24,
          28,
          26,
          29,
          57,
          49,
          37,
          45,
          30,
          30,
          47,
          29,
          35,
          22,
          26,
          23,
          54,
          29,
          40,
          22,
          43,
          29,
          36,
          33,
          57,
          64,
          42,
          47,
          25,
          49,
          33,
          28,
          26,
          30,
          25,
          33,
          64,
          29,
          48,
          37,
          34,
          23,
          30,
          50,
          31,
          40,
          38,
          23,
          27
         ],
         "xaxis": "x",
         "yaxis": "y",
         "type": "histogram"
        }
       ],
       "layout": {
        "template": {
         "data": {
          "histogram2dcontour": [
           {
            "type": "histogram2dcontour",
            "colorbar": {
             "outlinewidth": 0,
             "ticks": ""
            },
            "colorscale": [
             [
              0.0,
              "#0d0887"
             ],
             [
              0.1111111111111111,
              "#46039f"
             ],
             [
              0.2222222222222222,
              "#7201a8"
             ],
             [
              0.3333333333333333,
              "#9c179e"
             ],
             [
              0.4444444444444444,
              "#bd3786"
             ],
             [
              0.5555555555555556,
              "#d8576b"
             ],
             [
              0.6666666666666666,
              "#ed7953"
             ],
             [
              0.7777777777777778,
              "#fb9f3a"
             ],
             [
              0.8888888888888888,
              "#fdca26"
             ],
             [
              1.0,
              "#f0f921"
             ]
            ]
           }
          ],
          "choropleth": [
           {
            "type": "choropleth",
            "colorbar": {
             "outlinewidth": 0,
             "ticks": ""
            }
           }
          ],
          "histogram2d": [
           {
            "type": "histogram2d",
            "colorbar": {
             "outlinewidth": 0,
             "ticks": ""
            },
            "colorscale": [
             [
              0.0,
              "#0d0887"
             ],
             [
              0.1111111111111111,
              "#46039f"
             ],
             [
              0.2222222222222222,
              "#7201a8"
             ],
             [
              0.3333333333333333,
              "#9c179e"
             ],
             [
              0.4444444444444444,
              "#bd3786"
             ],
             [
              0.5555555555555556,
              "#d8576b"
             ],
             [
              0.6666666666666666,
              "#ed7953"
             ],
             [
              0.7777777777777778,
              "#fb9f3a"
             ],
             [
              0.8888888888888888,
              "#fdca26"
             ],
             [
              1.0,
              "#f0f921"
             ]
            ]
           }
          ],
          "heatmap": [
           {
            "type": "heatmap",
            "colorbar": {
             "outlinewidth": 0,
             "ticks": ""
            },
            "colorscale": [
             [
              0.0,
              "#0d0887"
             ],
             [
              0.1111111111111111,
              "#46039f"
             ],
             [
              0.2222222222222222,
              "#7201a8"
             ],
             [
              0.3333333333333333,
              "#9c179e"
             ],
             [
              0.4444444444444444,
              "#bd3786"
             ],
             [
              0.5555555555555556,
              "#d8576b"
             ],
             [
              0.6666666666666666,
              "#ed7953"
             ],
             [
              0.7777777777777778,
              "#fb9f3a"
             ],
             [
              0.8888888888888888,
              "#fdca26"
             ],
             [
              1.0,
              "#f0f921"
             ]
            ]
           }
          ],
          "heatmapgl": [
           {
            "type": "heatmapgl",
            "colorbar": {
             "outlinewidth": 0,
             "ticks": ""
            },
            "colorscale": [
             [
              0.0,
              "#0d0887"
             ],
             [
              0.1111111111111111,
              "#46039f"
             ],
             [
              0.2222222222222222,
              "#7201a8"
             ],
             [
              0.3333333333333333,
              "#9c179e"
             ],
             [
              0.4444444444444444,
              "#bd3786"
             ],
             [
              0.5555555555555556,
              "#d8576b"
             ],
             [
              0.6666666666666666,
              "#ed7953"
             ],
             [
              0.7777777777777778,
              "#fb9f3a"
             ],
             [
              0.8888888888888888,
              "#fdca26"
             ],
             [
              1.0,
              "#f0f921"
             ]
            ]
           }
          ],
          "contourcarpet": [
           {
            "type": "contourcarpet",
            "colorbar": {
             "outlinewidth": 0,
             "ticks": ""
            }
           }
          ],
          "contour": [
           {
            "type": "contour",
            "colorbar": {
             "outlinewidth": 0,
             "ticks": ""
            },
            "colorscale": [
             [
              0.0,
              "#0d0887"
             ],
             [
              0.1111111111111111,
              "#46039f"
             ],
             [
              0.2222222222222222,
              "#7201a8"
             ],
             [
              0.3333333333333333,
              "#9c179e"
             ],
             [
              0.4444444444444444,
              "#bd3786"
             ],
             [
              0.5555555555555556,
              "#d8576b"
             ],
             [
              0.6666666666666666,
              "#ed7953"
             ],
             [
              0.7777777777777778,
              "#fb9f3a"
             ],
             [
              0.8888888888888888,
              "#fdca26"
             ],
             [
              1.0,
              "#f0f921"
             ]
            ]
           }
          ],
          "surface": [
           {
            "type": "surface",
            "colorbar": {
             "outlinewidth": 0,
             "ticks": ""
            },
            "colorscale": [
             [
              0.0,
              "#0d0887"
             ],
             [
              0.1111111111111111,
              "#46039f"
             ],
             [
              0.2222222222222222,
              "#7201a8"
             ],
             [
              0.3333333333333333,
              "#9c179e"
             ],
             [
              0.4444444444444444,
              "#bd3786"
             ],
             [
              0.5555555555555556,
              "#d8576b"
             ],
             [
              0.6666666666666666,
              "#ed7953"
             ],
             [
              0.7777777777777778,
              "#fb9f3a"
             ],
             [
              0.8888888888888888,
              "#fdca26"
             ],
             [
              1.0,
              "#f0f921"
             ]
            ]
           }
          ],
          "mesh3d": [
           {
            "type": "mesh3d",
            "colorbar": {
             "outlinewidth": 0,
             "ticks": ""
            }
           }
          ],
          "scatter": [
           {
            "marker": {
             "line": {
              "color": "#283442"
             }
            },
            "type": "scatter"
           }
          ],
          "parcoords": [
           {
            "type": "parcoords",
            "line": {
             "colorbar": {
              "outlinewidth": 0,
              "ticks": ""
             }
            }
           }
          ],
          "scatterpolargl": [
           {
            "type": "scatterpolargl",
            "marker": {
             "colorbar": {
              "outlinewidth": 0,
              "ticks": ""
             }
            }
           }
          ],
          "bar": [
           {
            "error_x": {
             "color": "#f2f5fa"
            },
            "error_y": {
             "color": "#f2f5fa"
            },
            "marker": {
             "line": {
              "color": "rgb(17,17,17)",
              "width": 0.5
             },
             "pattern": {
              "fillmode": "overlay",
              "size": 10,
              "solidity": 0.2
             }
            },
            "type": "bar"
           }
          ],
          "scattergeo": [
           {
            "type": "scattergeo",
            "marker": {
             "colorbar": {
              "outlinewidth": 0,
              "ticks": ""
             }
            }
           }
          ],
          "scatterpolar": [
           {
            "type": "scatterpolar",
            "marker": {
             "colorbar": {
              "outlinewidth": 0,
              "ticks": ""
             }
            }
           }
          ],
          "histogram": [
           {
            "marker": {
             "pattern": {
              "fillmode": "overlay",
              "size": 10,
              "solidity": 0.2
             }
            },
            "type": "histogram"
           }
          ],
          "scattergl": [
           {
            "marker": {
             "line": {
              "color": "#283442"
             }
            },
            "type": "scattergl"
           }
          ],
          "scatter3d": [
           {
            "type": "scatter3d",
            "line": {
             "colorbar": {
              "outlinewidth": 0,
              "ticks": ""
             }
            },
            "marker": {
             "colorbar": {
              "outlinewidth": 0,
              "ticks": ""
             }
            }
           }
          ],
          "scattermapbox": [
           {
            "type": "scattermapbox",
            "marker": {
             "colorbar": {
              "outlinewidth": 0,
              "ticks": ""
             }
            }
           }
          ],
          "scatterternary": [
           {
            "type": "scatterternary",
            "marker": {
             "colorbar": {
              "outlinewidth": 0,
              "ticks": ""
             }
            }
           }
          ],
          "scattercarpet": [
           {
            "type": "scattercarpet",
            "marker": {
             "colorbar": {
              "outlinewidth": 0,
              "ticks": ""
             }
            }
           }
          ],
          "carpet": [
           {
            "aaxis": {
             "endlinecolor": "#A2B1C6",
             "gridcolor": "#506784",
             "linecolor": "#506784",
             "minorgridcolor": "#506784",
             "startlinecolor": "#A2B1C6"
            },
            "baxis": {
             "endlinecolor": "#A2B1C6",
             "gridcolor": "#506784",
             "linecolor": "#506784",
             "minorgridcolor": "#506784",
             "startlinecolor": "#A2B1C6"
            },
            "type": "carpet"
           }
          ],
          "table": [
           {
            "cells": {
             "fill": {
              "color": "#506784"
             },
             "line": {
              "color": "rgb(17,17,17)"
             }
            },
            "header": {
             "fill": {
              "color": "#2a3f5f"
             },
             "line": {
              "color": "rgb(17,17,17)"
             }
            },
            "type": "table"
           }
          ],
          "barpolar": [
           {
            "marker": {
             "line": {
              "color": "rgb(17,17,17)",
              "width": 0.5
             },
             "pattern": {
              "fillmode": "overlay",
              "size": 10,
              "solidity": 0.2
             }
            },
            "type": "barpolar"
           }
          ],
          "pie": [
           {
            "automargin": true,
            "type": "pie"
           }
          ]
         },
         "layout": {
          "autotypenumbers": "strict",
          "colorway": [
           "#636efa",
           "#EF553B",
           "#00cc96",
           "#ab63fa",
           "#FFA15A",
           "#19d3f3",
           "#FF6692",
           "#B6E880",
           "#FF97FF",
           "#FECB52"
          ],
          "font": {
           "color": "#f2f5fa"
          },
          "hovermode": "closest",
          "hoverlabel": {
           "align": "left"
          },
          "paper_bgcolor": "rgb(17,17,17)",
          "plot_bgcolor": "rgb(17,17,17)",
          "polar": {
           "bgcolor": "rgb(17,17,17)",
           "angularaxis": {
            "gridcolor": "#506784",
            "linecolor": "#506784",
            "ticks": ""
           },
           "radialaxis": {
            "gridcolor": "#506784",
            "linecolor": "#506784",
            "ticks": ""
           }
          },
          "ternary": {
           "bgcolor": "rgb(17,17,17)",
           "aaxis": {
            "gridcolor": "#506784",
            "linecolor": "#506784",
            "ticks": ""
           },
           "baxis": {
            "gridcolor": "#506784",
            "linecolor": "#506784",
            "ticks": ""
           },
           "caxis": {
            "gridcolor": "#506784",
            "linecolor": "#506784",
            "ticks": ""
           }
          },
          "coloraxis": {
           "colorbar": {
            "outlinewidth": 0,
            "ticks": ""
           }
          },
          "colorscale": {
           "sequential": [
            [
             0.0,
             "#0d0887"
            ],
            [
             0.1111111111111111,
             "#46039f"
            ],
            [
             0.2222222222222222,
             "#7201a8"
            ],
            [
             0.3333333333333333,
             "#9c179e"
            ],
            [
             0.4444444444444444,
             "#bd3786"
            ],
            [
             0.5555555555555556,
             "#d8576b"
            ],
            [
             0.6666666666666666,
             "#ed7953"
            ],
            [
             0.7777777777777778,
             "#fb9f3a"
            ],
            [
             0.8888888888888888,
             "#fdca26"
            ],
            [
             1.0,
             "#f0f921"
            ]
           ],
           "sequentialminus": [
            [
             0.0,
             "#0d0887"
            ],
            [
             0.1111111111111111,
             "#46039f"
            ],
            [
             0.2222222222222222,
             "#7201a8"
            ],
            [
             0.3333333333333333,
             "#9c179e"
            ],
            [
             0.4444444444444444,
             "#bd3786"
            ],
            [
             0.5555555555555556,
             "#d8576b"
            ],
            [
             0.6666666666666666,
             "#ed7953"
            ],
            [
             0.7777777777777778,
             "#fb9f3a"
            ],
            [
             0.8888888888888888,
             "#fdca26"
            ],
            [
             1.0,
             "#f0f921"
            ]
           ],
           "diverging": [
            [
             0,
             "#8e0152"
            ],
            [
             0.1,
             "#c51b7d"
            ],
            [
             0.2,
             "#de77ae"
            ],
            [
             0.3,
             "#f1b6da"
            ],
            [
             0.4,
             "#fde0ef"
            ],
            [
             0.5,
             "#f7f7f7"
            ],
            [
             0.6,
             "#e6f5d0"
            ],
            [
             0.7,
             "#b8e186"
            ],
            [
             0.8,
             "#7fbc41"
            ],
            [
             0.9,
             "#4d9221"
            ],
            [
             1,
             "#276419"
            ]
           ]
          },
          "xaxis": {
           "gridcolor": "#283442",
           "linecolor": "#506784",
           "ticks": "",
           "title": {
            "standoff": 15
           },
           "zerolinecolor": "#283442",
           "automargin": true,
           "zerolinewidth": 2
          },
          "yaxis": {
           "gridcolor": "#283442",
           "linecolor": "#506784",
           "ticks": "",
           "title": {
            "standoff": 15
           },
           "zerolinecolor": "#283442",
           "automargin": true,
           "zerolinewidth": 2
          },
          "scene": {
           "xaxis": {
            "backgroundcolor": "rgb(17,17,17)",
            "gridcolor": "#506784",
            "linecolor": "#506784",
            "showbackground": true,
            "ticks": "",
            "zerolinecolor": "#C8D4E3",
            "gridwidth": 2
           },
           "yaxis": {
            "backgroundcolor": "rgb(17,17,17)",
            "gridcolor": "#506784",
            "linecolor": "#506784",
            "showbackground": true,
            "ticks": "",
            "zerolinecolor": "#C8D4E3",
            "gridwidth": 2
           },
           "zaxis": {
            "backgroundcolor": "rgb(17,17,17)",
            "gridcolor": "#506784",
            "linecolor": "#506784",
            "showbackground": true,
            "ticks": "",
            "zerolinecolor": "#C8D4E3",
            "gridwidth": 2
           }
          },
          "shapedefaults": {
           "line": {
            "color": "#f2f5fa"
           }
          },
          "annotationdefaults": {
           "arrowcolor": "#f2f5fa",
           "arrowhead": 0,
           "arrowwidth": 1
          },
          "geo": {
           "bgcolor": "rgb(17,17,17)",
           "landcolor": "rgb(17,17,17)",
           "subunitcolor": "#506784",
           "showland": true,
           "showlakes": true,
           "lakecolor": "rgb(17,17,17)"
          },
          "title": {
           "x": 0.05
          },
          "updatemenudefaults": {
           "bgcolor": "#506784",
           "borderwidth": 0
          },
          "sliderdefaults": {
           "bgcolor": "#C8D4E3",
           "borderwidth": 1,
           "bordercolor": "rgb(17,17,17)",
           "tickwidth": 0
          },
          "mapbox": {
           "style": "dark"
          }
         }
        },
        "xaxis": {
         "anchor": "y",
         "domain": [
          0.0,
          1.0
         ],
         "title": {
          "text": "Age"
         }
        },
        "yaxis": {
         "anchor": "x",
         "domain": [
          0.0,
          1.0
         ],
         "title": {
          "text": "count"
         }
        },
        "legend": {
         "tracegroupgap": 0
        },
        "title": {
         "text": "Age distribution"
        },
        "barmode": "relative"
       },
       "config": {
        "plotlyServerURL": "https://plot.ly"
       }
      },
      "text/html": "<div>                            <div id=\"24e68116-3dc4-4090-8dbc-7cb30e6265c9\" class=\"plotly-graph-div\" style=\"height:525px; width:100%;\"></div>            <script type=\"text/javascript\">                require([\"plotly\"], function(Plotly) {                    window.PLOTLYENV=window.PLOTLYENV || {};                                    if (document.getElementById(\"24e68116-3dc4-4090-8dbc-7cb30e6265c9\")) {                    Plotly.newPlot(                        \"24e68116-3dc4-4090-8dbc-7cb30e6265c9\",                        [{\"alignmentgroup\":\"True\",\"bingroup\":\"x\",\"hovertemplate\":\"Age=%{x}<br>count=%{y}<extra></extra>\",\"legendgroup\":\"\",\"marker\":{\"color\":\"#636efa\",\"pattern\":{\"shape\":\"\"}},\"name\":\"\",\"offsetgroup\":\"\",\"orientation\":\"v\",\"showlegend\":false,\"x\":[67,22,49,45,53,35,53,35,61,28,25,24,22,60,28,32,53,25,44,31,48,44,48,44,26,36,39,42,34,63,36,27,30,57,33,25,31,37,37,24,30,26,44,24,58,35,39,23,39,28,29,30,25,31,57,26,52,31,23,23,27,50,61,25,26,48,29,22,37,25,30,46,51,41,40,66,34,51,39,22,44,47,24,58,52,29,27,47,30,28,56,54,33,20,54,58,61,34,36,36,41,24,24,35,26,39,39,32,30,35,31,23,28,25,35,47,30,27,23,36,25,41,24,63,27,30,40,30,34,29,24,29,27,47,21,38,27,66,35,44,27,30,27,22,23,30,39,51,28,46,42,38,24,29,36,20,48,45,38,34,36,30,36,70,36,32,33,20,25,31,33,26,34,33,26,53,42,52,31,65,28,30,40,50,36,31,74,68,20,33,54,34,36,29,21,34,28,27,36,40,52,27,26,21,38,38,43,26,21,55,33,45,50,66,51,39,31,23,24,64,26,23,30,32,30,27,27,53,22,22,26,51,35,25,42,30,23,61,35,39,29,51,24,27,35,25,52,35,26,22,39,46,24,35,24,27,35,29,23,57,27,55,36,57,32,37,36,38,45,25,32,37,36,28,34,32,26,49,32,29,23,50,49,63,37,35,26,31,49,48,26,28,44,56,46,26,20,45,43,32,54,42,37,49,44,33,24,33,24,22,40,25,26,25,29,31,38,48,32,27,28,32,34,28,36,39,49,34,31,28,75,30,24,24,23,44,23,24,28,31,24,26,25,33,37,43,23,23,34,32,23,29,38,28,46,23,49,26,28,23,61,37,36,21,25,36,27,22,42,40,36,33,23,63,60,37,34,36,57,52,39,38,25,26,26,25,21,40,27,27,30,19,39,31,31,32,55,46,46,43,39,28,27,27,43,22,43,27,26,28,20,35,42,40,35,35,33,23,31,33,20,30,47,34,25,21,29,46,20,55,74,29,36,33,25,25,23,37,65,26,39,30,29,41,30,41,34,35,55,61,30,29,34,35,31,29,36,35,27,32,37,36,34,38,34,63,29,32,26,35,22,23,28,36,33,26,24,25,39,44,23,26,57,30,44,47,52,62,35,26,26,42,27,38,39,20,29,40,32,28,27,42,49,38,24,27,36,34,28,45,26,32,26,20,54,37,40,23,43,36,44,24,53,23,26,30,31,42,31,41,32,28,41,26,25,33,75,37,42,45,23,60,31,34,61,43,37,32,24,35,23,45,34,27,67,22,28,29,27,31,49,24,29,37,37,23,36,34,41,31,23,38,26,22,27,24,27,33,27,27,30,49,26,33,52,20,36,21,47,60,58,42,36,20,40,32,23,36,31,32,45,30,34,28,23,22,74,50,33,45,22,48,29,22,22,48,27,37,21,49,27,32,38,22,65,35,41,29,36,64,28,44,23,19,25,47,28,21,34,26,27,38,40,33,32,27,32,26,38,40,50,37,45,42,35,22,41,37,28,41,23,23,50,35,50,27,34,27,43,47,27,31,42,24,41,26,33,24,64,26,56,37,33,47,31,34,27,30,35,31,25,25,29,44,28,50,29,38,24,40,29,46,47,41,32,35,24,25,25,37,32,35,46,25,27,63,40,32,31,31,34,24,24,66,21,41,47,25,59,36,33,21,44,28,37,29,23,35,45,26,32,23,41,22,30,28,23,37,26,33,49,23,23,25,55,32,74,39,31,35,59,24,24,30,27,40,31,31,28,63,26,25,36,52,66,25,37,25,38,67,25,60,31,23,60,35,40,38,50,27,39,41,27,51,32,22,51,22,54,35,54,48,24,35,24,24,26,65,55,26,26,28,24,54,46,54,62,24,43,26,27,24,41,47,35,30,33,36,47,38,44,23,29,42,25,48,21,23,63,46,29,28,23,50,47,35,68,28,59,57,33,43,35,32,45,33,40,28,29,26,27,28,35,32,25,20,27,42,37,24,40,46,26,24,29,40,36,28,27,36,38,48,36,65,43,53,34,23,34,40,43,46,38,34,29,31,28,35,33,42,43,44,42,40,36,20,24,27,46,33,34,25,25,28,31,32,32,68,33,39,28,37,22,30,55,46,21,39,58,43,24,22,30,42,23,30,28,30,42,46,45,31,31,42,46,30,30,38,43,31,40,24,28,26,29,57,49,37,45,30,30,47,29,35,22,26,23,54,29,40,22,43,29,36,33,57,64,42,47,25,49,33,28,26,30,25,33,64,29,48,37,34,23,30,50,31,40,38,23,27],\"xaxis\":\"x\",\"yaxis\":\"y\",\"type\":\"histogram\"}],                        {\"template\":{\"data\":{\"histogram2dcontour\":[{\"type\":\"histogram2dcontour\",\"colorbar\":{\"outlinewidth\":0,\"ticks\":\"\"},\"colorscale\":[[0.0,\"#0d0887\"],[0.1111111111111111,\"#46039f\"],[0.2222222222222222,\"#7201a8\"],[0.3333333333333333,\"#9c179e\"],[0.4444444444444444,\"#bd3786\"],[0.5555555555555556,\"#d8576b\"],[0.6666666666666666,\"#ed7953\"],[0.7777777777777778,\"#fb9f3a\"],[0.8888888888888888,\"#fdca26\"],[1.0,\"#f0f921\"]]}],\"choropleth\":[{\"type\":\"choropleth\",\"colorbar\":{\"outlinewidth\":0,\"ticks\":\"\"}}],\"histogram2d\":[{\"type\":\"histogram2d\",\"colorbar\":{\"outlinewidth\":0,\"ticks\":\"\"},\"colorscale\":[[0.0,\"#0d0887\"],[0.1111111111111111,\"#46039f\"],[0.2222222222222222,\"#7201a8\"],[0.3333333333333333,\"#9c179e\"],[0.4444444444444444,\"#bd3786\"],[0.5555555555555556,\"#d8576b\"],[0.6666666666666666,\"#ed7953\"],[0.7777777777777778,\"#fb9f3a\"],[0.8888888888888888,\"#fdca26\"],[1.0,\"#f0f921\"]]}],\"heatmap\":[{\"type\":\"heatmap\",\"colorbar\":{\"outlinewidth\":0,\"ticks\":\"\"},\"colorscale\":[[0.0,\"#0d0887\"],[0.1111111111111111,\"#46039f\"],[0.2222222222222222,\"#7201a8\"],[0.3333333333333333,\"#9c179e\"],[0.4444444444444444,\"#bd3786\"],[0.5555555555555556,\"#d8576b\"],[0.6666666666666666,\"#ed7953\"],[0.7777777777777778,\"#fb9f3a\"],[0.8888888888888888,\"#fdca26\"],[1.0,\"#f0f921\"]]}],\"heatmapgl\":[{\"type\":\"heatmapgl\",\"colorbar\":{\"outlinewidth\":0,\"ticks\":\"\"},\"colorscale\":[[0.0,\"#0d0887\"],[0.1111111111111111,\"#46039f\"],[0.2222222222222222,\"#7201a8\"],[0.3333333333333333,\"#9c179e\"],[0.4444444444444444,\"#bd3786\"],[0.5555555555555556,\"#d8576b\"],[0.6666666666666666,\"#ed7953\"],[0.7777777777777778,\"#fb9f3a\"],[0.8888888888888888,\"#fdca26\"],[1.0,\"#f0f921\"]]}],\"contourcarpet\":[{\"type\":\"contourcarpet\",\"colorbar\":{\"outlinewidth\":0,\"ticks\":\"\"}}],\"contour\":[{\"type\":\"contour\",\"colorbar\":{\"outlinewidth\":0,\"ticks\":\"\"},\"colorscale\":[[0.0,\"#0d0887\"],[0.1111111111111111,\"#46039f\"],[0.2222222222222222,\"#7201a8\"],[0.3333333333333333,\"#9c179e\"],[0.4444444444444444,\"#bd3786\"],[0.5555555555555556,\"#d8576b\"],[0.6666666666666666,\"#ed7953\"],[0.7777777777777778,\"#fb9f3a\"],[0.8888888888888888,\"#fdca26\"],[1.0,\"#f0f921\"]]}],\"surface\":[{\"type\":\"surface\",\"colorbar\":{\"outlinewidth\":0,\"ticks\":\"\"},\"colorscale\":[[0.0,\"#0d0887\"],[0.1111111111111111,\"#46039f\"],[0.2222222222222222,\"#7201a8\"],[0.3333333333333333,\"#9c179e\"],[0.4444444444444444,\"#bd3786\"],[0.5555555555555556,\"#d8576b\"],[0.6666666666666666,\"#ed7953\"],[0.7777777777777778,\"#fb9f3a\"],[0.8888888888888888,\"#fdca26\"],[1.0,\"#f0f921\"]]}],\"mesh3d\":[{\"type\":\"mesh3d\",\"colorbar\":{\"outlinewidth\":0,\"ticks\":\"\"}}],\"scatter\":[{\"marker\":{\"line\":{\"color\":\"#283442\"}},\"type\":\"scatter\"}],\"parcoords\":[{\"type\":\"parcoords\",\"line\":{\"colorbar\":{\"outlinewidth\":0,\"ticks\":\"\"}}}],\"scatterpolargl\":[{\"type\":\"scatterpolargl\",\"marker\":{\"colorbar\":{\"outlinewidth\":0,\"ticks\":\"\"}}}],\"bar\":[{\"error_x\":{\"color\":\"#f2f5fa\"},\"error_y\":{\"color\":\"#f2f5fa\"},\"marker\":{\"line\":{\"color\":\"rgb(17,17,17)\",\"width\":0.5},\"pattern\":{\"fillmode\":\"overlay\",\"size\":10,\"solidity\":0.2}},\"type\":\"bar\"}],\"scattergeo\":[{\"type\":\"scattergeo\",\"marker\":{\"colorbar\":{\"outlinewidth\":0,\"ticks\":\"\"}}}],\"scatterpolar\":[{\"type\":\"scatterpolar\",\"marker\":{\"colorbar\":{\"outlinewidth\":0,\"ticks\":\"\"}}}],\"histogram\":[{\"marker\":{\"pattern\":{\"fillmode\":\"overlay\",\"size\":10,\"solidity\":0.2}},\"type\":\"histogram\"}],\"scattergl\":[{\"marker\":{\"line\":{\"color\":\"#283442\"}},\"type\":\"scattergl\"}],\"scatter3d\":[{\"type\":\"scatter3d\",\"line\":{\"colorbar\":{\"outlinewidth\":0,\"ticks\":\"\"}},\"marker\":{\"colorbar\":{\"outlinewidth\":0,\"ticks\":\"\"}}}],\"scattermapbox\":[{\"type\":\"scattermapbox\",\"marker\":{\"colorbar\":{\"outlinewidth\":0,\"ticks\":\"\"}}}],\"scatterternary\":[{\"type\":\"scatterternary\",\"marker\":{\"colorbar\":{\"outlinewidth\":0,\"ticks\":\"\"}}}],\"scattercarpet\":[{\"type\":\"scattercarpet\",\"marker\":{\"colorbar\":{\"outlinewidth\":0,\"ticks\":\"\"}}}],\"carpet\":[{\"aaxis\":{\"endlinecolor\":\"#A2B1C6\",\"gridcolor\":\"#506784\",\"linecolor\":\"#506784\",\"minorgridcolor\":\"#506784\",\"startlinecolor\":\"#A2B1C6\"},\"baxis\":{\"endlinecolor\":\"#A2B1C6\",\"gridcolor\":\"#506784\",\"linecolor\":\"#506784\",\"minorgridcolor\":\"#506784\",\"startlinecolor\":\"#A2B1C6\"},\"type\":\"carpet\"}],\"table\":[{\"cells\":{\"fill\":{\"color\":\"#506784\"},\"line\":{\"color\":\"rgb(17,17,17)\"}},\"header\":{\"fill\":{\"color\":\"#2a3f5f\"},\"line\":{\"color\":\"rgb(17,17,17)\"}},\"type\":\"table\"}],\"barpolar\":[{\"marker\":{\"line\":{\"color\":\"rgb(17,17,17)\",\"width\":0.5},\"pattern\":{\"fillmode\":\"overlay\",\"size\":10,\"solidity\":0.2}},\"type\":\"barpolar\"}],\"pie\":[{\"automargin\":true,\"type\":\"pie\"}]},\"layout\":{\"autotypenumbers\":\"strict\",\"colorway\":[\"#636efa\",\"#EF553B\",\"#00cc96\",\"#ab63fa\",\"#FFA15A\",\"#19d3f3\",\"#FF6692\",\"#B6E880\",\"#FF97FF\",\"#FECB52\"],\"font\":{\"color\":\"#f2f5fa\"},\"hovermode\":\"closest\",\"hoverlabel\":{\"align\":\"left\"},\"paper_bgcolor\":\"rgb(17,17,17)\",\"plot_bgcolor\":\"rgb(17,17,17)\",\"polar\":{\"bgcolor\":\"rgb(17,17,17)\",\"angularaxis\":{\"gridcolor\":\"#506784\",\"linecolor\":\"#506784\",\"ticks\":\"\"},\"radialaxis\":{\"gridcolor\":\"#506784\",\"linecolor\":\"#506784\",\"ticks\":\"\"}},\"ternary\":{\"bgcolor\":\"rgb(17,17,17)\",\"aaxis\":{\"gridcolor\":\"#506784\",\"linecolor\":\"#506784\",\"ticks\":\"\"},\"baxis\":{\"gridcolor\":\"#506784\",\"linecolor\":\"#506784\",\"ticks\":\"\"},\"caxis\":{\"gridcolor\":\"#506784\",\"linecolor\":\"#506784\",\"ticks\":\"\"}},\"coloraxis\":{\"colorbar\":{\"outlinewidth\":0,\"ticks\":\"\"}},\"colorscale\":{\"sequential\":[[0.0,\"#0d0887\"],[0.1111111111111111,\"#46039f\"],[0.2222222222222222,\"#7201a8\"],[0.3333333333333333,\"#9c179e\"],[0.4444444444444444,\"#bd3786\"],[0.5555555555555556,\"#d8576b\"],[0.6666666666666666,\"#ed7953\"],[0.7777777777777778,\"#fb9f3a\"],[0.8888888888888888,\"#fdca26\"],[1.0,\"#f0f921\"]],\"sequentialminus\":[[0.0,\"#0d0887\"],[0.1111111111111111,\"#46039f\"],[0.2222222222222222,\"#7201a8\"],[0.3333333333333333,\"#9c179e\"],[0.4444444444444444,\"#bd3786\"],[0.5555555555555556,\"#d8576b\"],[0.6666666666666666,\"#ed7953\"],[0.7777777777777778,\"#fb9f3a\"],[0.8888888888888888,\"#fdca26\"],[1.0,\"#f0f921\"]],\"diverging\":[[0,\"#8e0152\"],[0.1,\"#c51b7d\"],[0.2,\"#de77ae\"],[0.3,\"#f1b6da\"],[0.4,\"#fde0ef\"],[0.5,\"#f7f7f7\"],[0.6,\"#e6f5d0\"],[0.7,\"#b8e186\"],[0.8,\"#7fbc41\"],[0.9,\"#4d9221\"],[1,\"#276419\"]]},\"xaxis\":{\"gridcolor\":\"#283442\",\"linecolor\":\"#506784\",\"ticks\":\"\",\"title\":{\"standoff\":15},\"zerolinecolor\":\"#283442\",\"automargin\":true,\"zerolinewidth\":2},\"yaxis\":{\"gridcolor\":\"#283442\",\"linecolor\":\"#506784\",\"ticks\":\"\",\"title\":{\"standoff\":15},\"zerolinecolor\":\"#283442\",\"automargin\":true,\"zerolinewidth\":2},\"scene\":{\"xaxis\":{\"backgroundcolor\":\"rgb(17,17,17)\",\"gridcolor\":\"#506784\",\"linecolor\":\"#506784\",\"showbackground\":true,\"ticks\":\"\",\"zerolinecolor\":\"#C8D4E3\",\"gridwidth\":2},\"yaxis\":{\"backgroundcolor\":\"rgb(17,17,17)\",\"gridcolor\":\"#506784\",\"linecolor\":\"#506784\",\"showbackground\":true,\"ticks\":\"\",\"zerolinecolor\":\"#C8D4E3\",\"gridwidth\":2},\"zaxis\":{\"backgroundcolor\":\"rgb(17,17,17)\",\"gridcolor\":\"#506784\",\"linecolor\":\"#506784\",\"showbackground\":true,\"ticks\":\"\",\"zerolinecolor\":\"#C8D4E3\",\"gridwidth\":2}},\"shapedefaults\":{\"line\":{\"color\":\"#f2f5fa\"}},\"annotationdefaults\":{\"arrowcolor\":\"#f2f5fa\",\"arrowhead\":0,\"arrowwidth\":1},\"geo\":{\"bgcolor\":\"rgb(17,17,17)\",\"landcolor\":\"rgb(17,17,17)\",\"subunitcolor\":\"#506784\",\"showland\":true,\"showlakes\":true,\"lakecolor\":\"rgb(17,17,17)\"},\"title\":{\"x\":0.05},\"updatemenudefaults\":{\"bgcolor\":\"#506784\",\"borderwidth\":0},\"sliderdefaults\":{\"bgcolor\":\"#C8D4E3\",\"borderwidth\":1,\"bordercolor\":\"rgb(17,17,17)\",\"tickwidth\":0},\"mapbox\":{\"style\":\"dark\"}}},\"xaxis\":{\"anchor\":\"y\",\"domain\":[0.0,1.0],\"title\":{\"text\":\"Age\"}},\"yaxis\":{\"anchor\":\"x\",\"domain\":[0.0,1.0],\"title\":{\"text\":\"count\"}},\"legend\":{\"tracegroupgap\":0},\"title\":{\"text\":\"Age distribution\"},\"barmode\":\"relative\"},                        {\"responsive\": true}                    ).then(function(){\n                            \nvar gd = document.getElementById('24e68116-3dc4-4090-8dbc-7cb30e6265c9');\nvar x = new MutationObserver(function (mutations, observer) {{\n        var display = window.getComputedStyle(gd).display;\n        if (!display || display === 'none') {{\n            console.log([gd, 'removed!']);\n            Plotly.purge(gd);\n            observer.disconnect();\n        }}\n}});\n\n// Listen for the removal of the full notebook cells\nvar notebookContainer = gd.closest('#notebook-container');\nif (notebookContainer) {{\n    x.observe(notebookContainer, {childList: true});\n}}\n\n// Listen for the clearing of the current output cell\nvar outputEl = gd.closest('.output');\nif (outputEl) {{\n    x.observe(outputEl, {childList: true});\n}}\n\n                        })                };                });            </script>        </div>"
     },
     "metadata": {},
     "output_type": "display_data"
    },
    {
     "data": {
      "application/vnd.plotly.v1+json": {
       "data": [
        {
         "alignmentgroup": "True",
         "hovertemplate": "x=%{x}<br>y=%{y}<extra></extra>",
         "legendgroup": "",
         "marker": {
          "color": "#636efa",
          "pattern": {
           "shape": ""
          }
         },
         "name": "",
         "offsetgroup": "",
         "orientation": "v",
         "showlegend": false,
         "textposition": "auto",
         "x": [
          "male",
          "female"
         ],
         "xaxis": "x",
         "y": [
          690,
          310
         ],
         "yaxis": "y",
         "type": "bar"
        }
       ],
       "layout": {
        "template": {
         "data": {
          "histogram2dcontour": [
           {
            "type": "histogram2dcontour",
            "colorbar": {
             "outlinewidth": 0,
             "ticks": ""
            },
            "colorscale": [
             [
              0.0,
              "#0d0887"
             ],
             [
              0.1111111111111111,
              "#46039f"
             ],
             [
              0.2222222222222222,
              "#7201a8"
             ],
             [
              0.3333333333333333,
              "#9c179e"
             ],
             [
              0.4444444444444444,
              "#bd3786"
             ],
             [
              0.5555555555555556,
              "#d8576b"
             ],
             [
              0.6666666666666666,
              "#ed7953"
             ],
             [
              0.7777777777777778,
              "#fb9f3a"
             ],
             [
              0.8888888888888888,
              "#fdca26"
             ],
             [
              1.0,
              "#f0f921"
             ]
            ]
           }
          ],
          "choropleth": [
           {
            "type": "choropleth",
            "colorbar": {
             "outlinewidth": 0,
             "ticks": ""
            }
           }
          ],
          "histogram2d": [
           {
            "type": "histogram2d",
            "colorbar": {
             "outlinewidth": 0,
             "ticks": ""
            },
            "colorscale": [
             [
              0.0,
              "#0d0887"
             ],
             [
              0.1111111111111111,
              "#46039f"
             ],
             [
              0.2222222222222222,
              "#7201a8"
             ],
             [
              0.3333333333333333,
              "#9c179e"
             ],
             [
              0.4444444444444444,
              "#bd3786"
             ],
             [
              0.5555555555555556,
              "#d8576b"
             ],
             [
              0.6666666666666666,
              "#ed7953"
             ],
             [
              0.7777777777777778,
              "#fb9f3a"
             ],
             [
              0.8888888888888888,
              "#fdca26"
             ],
             [
              1.0,
              "#f0f921"
             ]
            ]
           }
          ],
          "heatmap": [
           {
            "type": "heatmap",
            "colorbar": {
             "outlinewidth": 0,
             "ticks": ""
            },
            "colorscale": [
             [
              0.0,
              "#0d0887"
             ],
             [
              0.1111111111111111,
              "#46039f"
             ],
             [
              0.2222222222222222,
              "#7201a8"
             ],
             [
              0.3333333333333333,
              "#9c179e"
             ],
             [
              0.4444444444444444,
              "#bd3786"
             ],
             [
              0.5555555555555556,
              "#d8576b"
             ],
             [
              0.6666666666666666,
              "#ed7953"
             ],
             [
              0.7777777777777778,
              "#fb9f3a"
             ],
             [
              0.8888888888888888,
              "#fdca26"
             ],
             [
              1.0,
              "#f0f921"
             ]
            ]
           }
          ],
          "heatmapgl": [
           {
            "type": "heatmapgl",
            "colorbar": {
             "outlinewidth": 0,
             "ticks": ""
            },
            "colorscale": [
             [
              0.0,
              "#0d0887"
             ],
             [
              0.1111111111111111,
              "#46039f"
             ],
             [
              0.2222222222222222,
              "#7201a8"
             ],
             [
              0.3333333333333333,
              "#9c179e"
             ],
             [
              0.4444444444444444,
              "#bd3786"
             ],
             [
              0.5555555555555556,
              "#d8576b"
             ],
             [
              0.6666666666666666,
              "#ed7953"
             ],
             [
              0.7777777777777778,
              "#fb9f3a"
             ],
             [
              0.8888888888888888,
              "#fdca26"
             ],
             [
              1.0,
              "#f0f921"
             ]
            ]
           }
          ],
          "contourcarpet": [
           {
            "type": "contourcarpet",
            "colorbar": {
             "outlinewidth": 0,
             "ticks": ""
            }
           }
          ],
          "contour": [
           {
            "type": "contour",
            "colorbar": {
             "outlinewidth": 0,
             "ticks": ""
            },
            "colorscale": [
             [
              0.0,
              "#0d0887"
             ],
             [
              0.1111111111111111,
              "#46039f"
             ],
             [
              0.2222222222222222,
              "#7201a8"
             ],
             [
              0.3333333333333333,
              "#9c179e"
             ],
             [
              0.4444444444444444,
              "#bd3786"
             ],
             [
              0.5555555555555556,
              "#d8576b"
             ],
             [
              0.6666666666666666,
              "#ed7953"
             ],
             [
              0.7777777777777778,
              "#fb9f3a"
             ],
             [
              0.8888888888888888,
              "#fdca26"
             ],
             [
              1.0,
              "#f0f921"
             ]
            ]
           }
          ],
          "surface": [
           {
            "type": "surface",
            "colorbar": {
             "outlinewidth": 0,
             "ticks": ""
            },
            "colorscale": [
             [
              0.0,
              "#0d0887"
             ],
             [
              0.1111111111111111,
              "#46039f"
             ],
             [
              0.2222222222222222,
              "#7201a8"
             ],
             [
              0.3333333333333333,
              "#9c179e"
             ],
             [
              0.4444444444444444,
              "#bd3786"
             ],
             [
              0.5555555555555556,
              "#d8576b"
             ],
             [
              0.6666666666666666,
              "#ed7953"
             ],
             [
              0.7777777777777778,
              "#fb9f3a"
             ],
             [
              0.8888888888888888,
              "#fdca26"
             ],
             [
              1.0,
              "#f0f921"
             ]
            ]
           }
          ],
          "mesh3d": [
           {
            "type": "mesh3d",
            "colorbar": {
             "outlinewidth": 0,
             "ticks": ""
            }
           }
          ],
          "scatter": [
           {
            "marker": {
             "line": {
              "color": "#283442"
             }
            },
            "type": "scatter"
           }
          ],
          "parcoords": [
           {
            "type": "parcoords",
            "line": {
             "colorbar": {
              "outlinewidth": 0,
              "ticks": ""
             }
            }
           }
          ],
          "scatterpolargl": [
           {
            "type": "scatterpolargl",
            "marker": {
             "colorbar": {
              "outlinewidth": 0,
              "ticks": ""
             }
            }
           }
          ],
          "bar": [
           {
            "error_x": {
             "color": "#f2f5fa"
            },
            "error_y": {
             "color": "#f2f5fa"
            },
            "marker": {
             "line": {
              "color": "rgb(17,17,17)",
              "width": 0.5
             },
             "pattern": {
              "fillmode": "overlay",
              "size": 10,
              "solidity": 0.2
             }
            },
            "type": "bar"
           }
          ],
          "scattergeo": [
           {
            "type": "scattergeo",
            "marker": {
             "colorbar": {
              "outlinewidth": 0,
              "ticks": ""
             }
            }
           }
          ],
          "scatterpolar": [
           {
            "type": "scatterpolar",
            "marker": {
             "colorbar": {
              "outlinewidth": 0,
              "ticks": ""
             }
            }
           }
          ],
          "histogram": [
           {
            "marker": {
             "pattern": {
              "fillmode": "overlay",
              "size": 10,
              "solidity": 0.2
             }
            },
            "type": "histogram"
           }
          ],
          "scattergl": [
           {
            "marker": {
             "line": {
              "color": "#283442"
             }
            },
            "type": "scattergl"
           }
          ],
          "scatter3d": [
           {
            "type": "scatter3d",
            "line": {
             "colorbar": {
              "outlinewidth": 0,
              "ticks": ""
             }
            },
            "marker": {
             "colorbar": {
              "outlinewidth": 0,
              "ticks": ""
             }
            }
           }
          ],
          "scattermapbox": [
           {
            "type": "scattermapbox",
            "marker": {
             "colorbar": {
              "outlinewidth": 0,
              "ticks": ""
             }
            }
           }
          ],
          "scatterternary": [
           {
            "type": "scatterternary",
            "marker": {
             "colorbar": {
              "outlinewidth": 0,
              "ticks": ""
             }
            }
           }
          ],
          "scattercarpet": [
           {
            "type": "scattercarpet",
            "marker": {
             "colorbar": {
              "outlinewidth": 0,
              "ticks": ""
             }
            }
           }
          ],
          "carpet": [
           {
            "aaxis": {
             "endlinecolor": "#A2B1C6",
             "gridcolor": "#506784",
             "linecolor": "#506784",
             "minorgridcolor": "#506784",
             "startlinecolor": "#A2B1C6"
            },
            "baxis": {
             "endlinecolor": "#A2B1C6",
             "gridcolor": "#506784",
             "linecolor": "#506784",
             "minorgridcolor": "#506784",
             "startlinecolor": "#A2B1C6"
            },
            "type": "carpet"
           }
          ],
          "table": [
           {
            "cells": {
             "fill": {
              "color": "#506784"
             },
             "line": {
              "color": "rgb(17,17,17)"
             }
            },
            "header": {
             "fill": {
              "color": "#2a3f5f"
             },
             "line": {
              "color": "rgb(17,17,17)"
             }
            },
            "type": "table"
           }
          ],
          "barpolar": [
           {
            "marker": {
             "line": {
              "color": "rgb(17,17,17)",
              "width": 0.5
             },
             "pattern": {
              "fillmode": "overlay",
              "size": 10,
              "solidity": 0.2
             }
            },
            "type": "barpolar"
           }
          ],
          "pie": [
           {
            "automargin": true,
            "type": "pie"
           }
          ]
         },
         "layout": {
          "autotypenumbers": "strict",
          "colorway": [
           "#636efa",
           "#EF553B",
           "#00cc96",
           "#ab63fa",
           "#FFA15A",
           "#19d3f3",
           "#FF6692",
           "#B6E880",
           "#FF97FF",
           "#FECB52"
          ],
          "font": {
           "color": "#f2f5fa"
          },
          "hovermode": "closest",
          "hoverlabel": {
           "align": "left"
          },
          "paper_bgcolor": "rgb(17,17,17)",
          "plot_bgcolor": "rgb(17,17,17)",
          "polar": {
           "bgcolor": "rgb(17,17,17)",
           "angularaxis": {
            "gridcolor": "#506784",
            "linecolor": "#506784",
            "ticks": ""
           },
           "radialaxis": {
            "gridcolor": "#506784",
            "linecolor": "#506784",
            "ticks": ""
           }
          },
          "ternary": {
           "bgcolor": "rgb(17,17,17)",
           "aaxis": {
            "gridcolor": "#506784",
            "linecolor": "#506784",
            "ticks": ""
           },
           "baxis": {
            "gridcolor": "#506784",
            "linecolor": "#506784",
            "ticks": ""
           },
           "caxis": {
            "gridcolor": "#506784",
            "linecolor": "#506784",
            "ticks": ""
           }
          },
          "coloraxis": {
           "colorbar": {
            "outlinewidth": 0,
            "ticks": ""
           }
          },
          "colorscale": {
           "sequential": [
            [
             0.0,
             "#0d0887"
            ],
            [
             0.1111111111111111,
             "#46039f"
            ],
            [
             0.2222222222222222,
             "#7201a8"
            ],
            [
             0.3333333333333333,
             "#9c179e"
            ],
            [
             0.4444444444444444,
             "#bd3786"
            ],
            [
             0.5555555555555556,
             "#d8576b"
            ],
            [
             0.6666666666666666,
             "#ed7953"
            ],
            [
             0.7777777777777778,
             "#fb9f3a"
            ],
            [
             0.8888888888888888,
             "#fdca26"
            ],
            [
             1.0,
             "#f0f921"
            ]
           ],
           "sequentialminus": [
            [
             0.0,
             "#0d0887"
            ],
            [
             0.1111111111111111,
             "#46039f"
            ],
            [
             0.2222222222222222,
             "#7201a8"
            ],
            [
             0.3333333333333333,
             "#9c179e"
            ],
            [
             0.4444444444444444,
             "#bd3786"
            ],
            [
             0.5555555555555556,
             "#d8576b"
            ],
            [
             0.6666666666666666,
             "#ed7953"
            ],
            [
             0.7777777777777778,
             "#fb9f3a"
            ],
            [
             0.8888888888888888,
             "#fdca26"
            ],
            [
             1.0,
             "#f0f921"
            ]
           ],
           "diverging": [
            [
             0,
             "#8e0152"
            ],
            [
             0.1,
             "#c51b7d"
            ],
            [
             0.2,
             "#de77ae"
            ],
            [
             0.3,
             "#f1b6da"
            ],
            [
             0.4,
             "#fde0ef"
            ],
            [
             0.5,
             "#f7f7f7"
            ],
            [
             0.6,
             "#e6f5d0"
            ],
            [
             0.7,
             "#b8e186"
            ],
            [
             0.8,
             "#7fbc41"
            ],
            [
             0.9,
             "#4d9221"
            ],
            [
             1,
             "#276419"
            ]
           ]
          },
          "xaxis": {
           "gridcolor": "#283442",
           "linecolor": "#506784",
           "ticks": "",
           "title": {
            "standoff": 15
           },
           "zerolinecolor": "#283442",
           "automargin": true,
           "zerolinewidth": 2
          },
          "yaxis": {
           "gridcolor": "#283442",
           "linecolor": "#506784",
           "ticks": "",
           "title": {
            "standoff": 15
           },
           "zerolinecolor": "#283442",
           "automargin": true,
           "zerolinewidth": 2
          },
          "scene": {
           "xaxis": {
            "backgroundcolor": "rgb(17,17,17)",
            "gridcolor": "#506784",
            "linecolor": "#506784",
            "showbackground": true,
            "ticks": "",
            "zerolinecolor": "#C8D4E3",
            "gridwidth": 2
           },
           "yaxis": {
            "backgroundcolor": "rgb(17,17,17)",
            "gridcolor": "#506784",
            "linecolor": "#506784",
            "showbackground": true,
            "ticks": "",
            "zerolinecolor": "#C8D4E3",
            "gridwidth": 2
           },
           "zaxis": {
            "backgroundcolor": "rgb(17,17,17)",
            "gridcolor": "#506784",
            "linecolor": "#506784",
            "showbackground": true,
            "ticks": "",
            "zerolinecolor": "#C8D4E3",
            "gridwidth": 2
           }
          },
          "shapedefaults": {
           "line": {
            "color": "#f2f5fa"
           }
          },
          "annotationdefaults": {
           "arrowcolor": "#f2f5fa",
           "arrowhead": 0,
           "arrowwidth": 1
          },
          "geo": {
           "bgcolor": "rgb(17,17,17)",
           "landcolor": "rgb(17,17,17)",
           "subunitcolor": "#506784",
           "showland": true,
           "showlakes": true,
           "lakecolor": "rgb(17,17,17)"
          },
          "title": {
           "x": 0.05
          },
          "updatemenudefaults": {
           "bgcolor": "#506784",
           "borderwidth": 0
          },
          "sliderdefaults": {
           "bgcolor": "#C8D4E3",
           "borderwidth": 1,
           "bordercolor": "rgb(17,17,17)",
           "tickwidth": 0
          },
          "mapbox": {
           "style": "dark"
          }
         }
        },
        "xaxis": {
         "anchor": "y",
         "domain": [
          0.0,
          1.0
         ],
         "title": {
          "text": "x"
         },
         "categoryorder": "total descending"
        },
        "yaxis": {
         "anchor": "x",
         "domain": [
          0.0,
          1.0
         ],
         "title": {
          "text": "y"
         }
        },
        "legend": {
         "tracegroupgap": 0
        },
        "title": {
         "text": "Sex word cloud"
        },
        "barmode": "relative"
       },
       "config": {
        "plotlyServerURL": "https://plot.ly"
       }
      },
      "text/html": "<div>                            <div id=\"2623249b-7a9f-4245-abb9-8e4164cd72c9\" class=\"plotly-graph-div\" style=\"height:525px; width:100%;\"></div>            <script type=\"text/javascript\">                require([\"plotly\"], function(Plotly) {                    window.PLOTLYENV=window.PLOTLYENV || {};                                    if (document.getElementById(\"2623249b-7a9f-4245-abb9-8e4164cd72c9\")) {                    Plotly.newPlot(                        \"2623249b-7a9f-4245-abb9-8e4164cd72c9\",                        [{\"alignmentgroup\":\"True\",\"hovertemplate\":\"x=%{x}<br>y=%{y}<extra></extra>\",\"legendgroup\":\"\",\"marker\":{\"color\":\"#636efa\",\"pattern\":{\"shape\":\"\"}},\"name\":\"\",\"offsetgroup\":\"\",\"orientation\":\"v\",\"showlegend\":false,\"textposition\":\"auto\",\"x\":[\"male\",\"female\"],\"xaxis\":\"x\",\"y\":[690,310],\"yaxis\":\"y\",\"type\":\"bar\"}],                        {\"template\":{\"data\":{\"histogram2dcontour\":[{\"type\":\"histogram2dcontour\",\"colorbar\":{\"outlinewidth\":0,\"ticks\":\"\"},\"colorscale\":[[0.0,\"#0d0887\"],[0.1111111111111111,\"#46039f\"],[0.2222222222222222,\"#7201a8\"],[0.3333333333333333,\"#9c179e\"],[0.4444444444444444,\"#bd3786\"],[0.5555555555555556,\"#d8576b\"],[0.6666666666666666,\"#ed7953\"],[0.7777777777777778,\"#fb9f3a\"],[0.8888888888888888,\"#fdca26\"],[1.0,\"#f0f921\"]]}],\"choropleth\":[{\"type\":\"choropleth\",\"colorbar\":{\"outlinewidth\":0,\"ticks\":\"\"}}],\"histogram2d\":[{\"type\":\"histogram2d\",\"colorbar\":{\"outlinewidth\":0,\"ticks\":\"\"},\"colorscale\":[[0.0,\"#0d0887\"],[0.1111111111111111,\"#46039f\"],[0.2222222222222222,\"#7201a8\"],[0.3333333333333333,\"#9c179e\"],[0.4444444444444444,\"#bd3786\"],[0.5555555555555556,\"#d8576b\"],[0.6666666666666666,\"#ed7953\"],[0.7777777777777778,\"#fb9f3a\"],[0.8888888888888888,\"#fdca26\"],[1.0,\"#f0f921\"]]}],\"heatmap\":[{\"type\":\"heatmap\",\"colorbar\":{\"outlinewidth\":0,\"ticks\":\"\"},\"colorscale\":[[0.0,\"#0d0887\"],[0.1111111111111111,\"#46039f\"],[0.2222222222222222,\"#7201a8\"],[0.3333333333333333,\"#9c179e\"],[0.4444444444444444,\"#bd3786\"],[0.5555555555555556,\"#d8576b\"],[0.6666666666666666,\"#ed7953\"],[0.7777777777777778,\"#fb9f3a\"],[0.8888888888888888,\"#fdca26\"],[1.0,\"#f0f921\"]]}],\"heatmapgl\":[{\"type\":\"heatmapgl\",\"colorbar\":{\"outlinewidth\":0,\"ticks\":\"\"},\"colorscale\":[[0.0,\"#0d0887\"],[0.1111111111111111,\"#46039f\"],[0.2222222222222222,\"#7201a8\"],[0.3333333333333333,\"#9c179e\"],[0.4444444444444444,\"#bd3786\"],[0.5555555555555556,\"#d8576b\"],[0.6666666666666666,\"#ed7953\"],[0.7777777777777778,\"#fb9f3a\"],[0.8888888888888888,\"#fdca26\"],[1.0,\"#f0f921\"]]}],\"contourcarpet\":[{\"type\":\"contourcarpet\",\"colorbar\":{\"outlinewidth\":0,\"ticks\":\"\"}}],\"contour\":[{\"type\":\"contour\",\"colorbar\":{\"outlinewidth\":0,\"ticks\":\"\"},\"colorscale\":[[0.0,\"#0d0887\"],[0.1111111111111111,\"#46039f\"],[0.2222222222222222,\"#7201a8\"],[0.3333333333333333,\"#9c179e\"],[0.4444444444444444,\"#bd3786\"],[0.5555555555555556,\"#d8576b\"],[0.6666666666666666,\"#ed7953\"],[0.7777777777777778,\"#fb9f3a\"],[0.8888888888888888,\"#fdca26\"],[1.0,\"#f0f921\"]]}],\"surface\":[{\"type\":\"surface\",\"colorbar\":{\"outlinewidth\":0,\"ticks\":\"\"},\"colorscale\":[[0.0,\"#0d0887\"],[0.1111111111111111,\"#46039f\"],[0.2222222222222222,\"#7201a8\"],[0.3333333333333333,\"#9c179e\"],[0.4444444444444444,\"#bd3786\"],[0.5555555555555556,\"#d8576b\"],[0.6666666666666666,\"#ed7953\"],[0.7777777777777778,\"#fb9f3a\"],[0.8888888888888888,\"#fdca26\"],[1.0,\"#f0f921\"]]}],\"mesh3d\":[{\"type\":\"mesh3d\",\"colorbar\":{\"outlinewidth\":0,\"ticks\":\"\"}}],\"scatter\":[{\"marker\":{\"line\":{\"color\":\"#283442\"}},\"type\":\"scatter\"}],\"parcoords\":[{\"type\":\"parcoords\",\"line\":{\"colorbar\":{\"outlinewidth\":0,\"ticks\":\"\"}}}],\"scatterpolargl\":[{\"type\":\"scatterpolargl\",\"marker\":{\"colorbar\":{\"outlinewidth\":0,\"ticks\":\"\"}}}],\"bar\":[{\"error_x\":{\"color\":\"#f2f5fa\"},\"error_y\":{\"color\":\"#f2f5fa\"},\"marker\":{\"line\":{\"color\":\"rgb(17,17,17)\",\"width\":0.5},\"pattern\":{\"fillmode\":\"overlay\",\"size\":10,\"solidity\":0.2}},\"type\":\"bar\"}],\"scattergeo\":[{\"type\":\"scattergeo\",\"marker\":{\"colorbar\":{\"outlinewidth\":0,\"ticks\":\"\"}}}],\"scatterpolar\":[{\"type\":\"scatterpolar\",\"marker\":{\"colorbar\":{\"outlinewidth\":0,\"ticks\":\"\"}}}],\"histogram\":[{\"marker\":{\"pattern\":{\"fillmode\":\"overlay\",\"size\":10,\"solidity\":0.2}},\"type\":\"histogram\"}],\"scattergl\":[{\"marker\":{\"line\":{\"color\":\"#283442\"}},\"type\":\"scattergl\"}],\"scatter3d\":[{\"type\":\"scatter3d\",\"line\":{\"colorbar\":{\"outlinewidth\":0,\"ticks\":\"\"}},\"marker\":{\"colorbar\":{\"outlinewidth\":0,\"ticks\":\"\"}}}],\"scattermapbox\":[{\"type\":\"scattermapbox\",\"marker\":{\"colorbar\":{\"outlinewidth\":0,\"ticks\":\"\"}}}],\"scatterternary\":[{\"type\":\"scatterternary\",\"marker\":{\"colorbar\":{\"outlinewidth\":0,\"ticks\":\"\"}}}],\"scattercarpet\":[{\"type\":\"scattercarpet\",\"marker\":{\"colorbar\":{\"outlinewidth\":0,\"ticks\":\"\"}}}],\"carpet\":[{\"aaxis\":{\"endlinecolor\":\"#A2B1C6\",\"gridcolor\":\"#506784\",\"linecolor\":\"#506784\",\"minorgridcolor\":\"#506784\",\"startlinecolor\":\"#A2B1C6\"},\"baxis\":{\"endlinecolor\":\"#A2B1C6\",\"gridcolor\":\"#506784\",\"linecolor\":\"#506784\",\"minorgridcolor\":\"#506784\",\"startlinecolor\":\"#A2B1C6\"},\"type\":\"carpet\"}],\"table\":[{\"cells\":{\"fill\":{\"color\":\"#506784\"},\"line\":{\"color\":\"rgb(17,17,17)\"}},\"header\":{\"fill\":{\"color\":\"#2a3f5f\"},\"line\":{\"color\":\"rgb(17,17,17)\"}},\"type\":\"table\"}],\"barpolar\":[{\"marker\":{\"line\":{\"color\":\"rgb(17,17,17)\",\"width\":0.5},\"pattern\":{\"fillmode\":\"overlay\",\"size\":10,\"solidity\":0.2}},\"type\":\"barpolar\"}],\"pie\":[{\"automargin\":true,\"type\":\"pie\"}]},\"layout\":{\"autotypenumbers\":\"strict\",\"colorway\":[\"#636efa\",\"#EF553B\",\"#00cc96\",\"#ab63fa\",\"#FFA15A\",\"#19d3f3\",\"#FF6692\",\"#B6E880\",\"#FF97FF\",\"#FECB52\"],\"font\":{\"color\":\"#f2f5fa\"},\"hovermode\":\"closest\",\"hoverlabel\":{\"align\":\"left\"},\"paper_bgcolor\":\"rgb(17,17,17)\",\"plot_bgcolor\":\"rgb(17,17,17)\",\"polar\":{\"bgcolor\":\"rgb(17,17,17)\",\"angularaxis\":{\"gridcolor\":\"#506784\",\"linecolor\":\"#506784\",\"ticks\":\"\"},\"radialaxis\":{\"gridcolor\":\"#506784\",\"linecolor\":\"#506784\",\"ticks\":\"\"}},\"ternary\":{\"bgcolor\":\"rgb(17,17,17)\",\"aaxis\":{\"gridcolor\":\"#506784\",\"linecolor\":\"#506784\",\"ticks\":\"\"},\"baxis\":{\"gridcolor\":\"#506784\",\"linecolor\":\"#506784\",\"ticks\":\"\"},\"caxis\":{\"gridcolor\":\"#506784\",\"linecolor\":\"#506784\",\"ticks\":\"\"}},\"coloraxis\":{\"colorbar\":{\"outlinewidth\":0,\"ticks\":\"\"}},\"colorscale\":{\"sequential\":[[0.0,\"#0d0887\"],[0.1111111111111111,\"#46039f\"],[0.2222222222222222,\"#7201a8\"],[0.3333333333333333,\"#9c179e\"],[0.4444444444444444,\"#bd3786\"],[0.5555555555555556,\"#d8576b\"],[0.6666666666666666,\"#ed7953\"],[0.7777777777777778,\"#fb9f3a\"],[0.8888888888888888,\"#fdca26\"],[1.0,\"#f0f921\"]],\"sequentialminus\":[[0.0,\"#0d0887\"],[0.1111111111111111,\"#46039f\"],[0.2222222222222222,\"#7201a8\"],[0.3333333333333333,\"#9c179e\"],[0.4444444444444444,\"#bd3786\"],[0.5555555555555556,\"#d8576b\"],[0.6666666666666666,\"#ed7953\"],[0.7777777777777778,\"#fb9f3a\"],[0.8888888888888888,\"#fdca26\"],[1.0,\"#f0f921\"]],\"diverging\":[[0,\"#8e0152\"],[0.1,\"#c51b7d\"],[0.2,\"#de77ae\"],[0.3,\"#f1b6da\"],[0.4,\"#fde0ef\"],[0.5,\"#f7f7f7\"],[0.6,\"#e6f5d0\"],[0.7,\"#b8e186\"],[0.8,\"#7fbc41\"],[0.9,\"#4d9221\"],[1,\"#276419\"]]},\"xaxis\":{\"gridcolor\":\"#283442\",\"linecolor\":\"#506784\",\"ticks\":\"\",\"title\":{\"standoff\":15},\"zerolinecolor\":\"#283442\",\"automargin\":true,\"zerolinewidth\":2},\"yaxis\":{\"gridcolor\":\"#283442\",\"linecolor\":\"#506784\",\"ticks\":\"\",\"title\":{\"standoff\":15},\"zerolinecolor\":\"#283442\",\"automargin\":true,\"zerolinewidth\":2},\"scene\":{\"xaxis\":{\"backgroundcolor\":\"rgb(17,17,17)\",\"gridcolor\":\"#506784\",\"linecolor\":\"#506784\",\"showbackground\":true,\"ticks\":\"\",\"zerolinecolor\":\"#C8D4E3\",\"gridwidth\":2},\"yaxis\":{\"backgroundcolor\":\"rgb(17,17,17)\",\"gridcolor\":\"#506784\",\"linecolor\":\"#506784\",\"showbackground\":true,\"ticks\":\"\",\"zerolinecolor\":\"#C8D4E3\",\"gridwidth\":2},\"zaxis\":{\"backgroundcolor\":\"rgb(17,17,17)\",\"gridcolor\":\"#506784\",\"linecolor\":\"#506784\",\"showbackground\":true,\"ticks\":\"\",\"zerolinecolor\":\"#C8D4E3\",\"gridwidth\":2}},\"shapedefaults\":{\"line\":{\"color\":\"#f2f5fa\"}},\"annotationdefaults\":{\"arrowcolor\":\"#f2f5fa\",\"arrowhead\":0,\"arrowwidth\":1},\"geo\":{\"bgcolor\":\"rgb(17,17,17)\",\"landcolor\":\"rgb(17,17,17)\",\"subunitcolor\":\"#506784\",\"showland\":true,\"showlakes\":true,\"lakecolor\":\"rgb(17,17,17)\"},\"title\":{\"x\":0.05},\"updatemenudefaults\":{\"bgcolor\":\"#506784\",\"borderwidth\":0},\"sliderdefaults\":{\"bgcolor\":\"#C8D4E3\",\"borderwidth\":1,\"bordercolor\":\"rgb(17,17,17)\",\"tickwidth\":0},\"mapbox\":{\"style\":\"dark\"}}},\"xaxis\":{\"anchor\":\"y\",\"domain\":[0.0,1.0],\"title\":{\"text\":\"x\"},\"categoryorder\":\"total descending\"},\"yaxis\":{\"anchor\":\"x\",\"domain\":[0.0,1.0],\"title\":{\"text\":\"y\"}},\"legend\":{\"tracegroupgap\":0},\"title\":{\"text\":\"Sex word cloud\"},\"barmode\":\"relative\"},                        {\"responsive\": true}                    ).then(function(){\n                            \nvar gd = document.getElementById('2623249b-7a9f-4245-abb9-8e4164cd72c9');\nvar x = new MutationObserver(function (mutations, observer) {{\n        var display = window.getComputedStyle(gd).display;\n        if (!display || display === 'none') {{\n            console.log([gd, 'removed!']);\n            Plotly.purge(gd);\n            observer.disconnect();\n        }}\n}});\n\n// Listen for the removal of the full notebook cells\nvar notebookContainer = gd.closest('#notebook-container');\nif (notebookContainer) {{\n    x.observe(notebookContainer, {childList: true});\n}}\n\n// Listen for the clearing of the current output cell\nvar outputEl = gd.closest('.output');\nif (outputEl) {{\n    x.observe(outputEl, {childList: true});\n}}\n\n                        })                };                });            </script>        </div>"
     },
     "metadata": {},
     "output_type": "display_data"
    },
    {
     "data": {
      "application/vnd.plotly.v1+json": {
       "data": [
        {
         "alignmentgroup": "True",
         "bingroup": "x",
         "hovertemplate": "Job=%{x}<br>count=%{y}<extra></extra>",
         "legendgroup": "",
         "marker": {
          "color": "#636efa",
          "pattern": {
           "shape": ""
          }
         },
         "name": "",
         "offsetgroup": "",
         "orientation": "v",
         "showlegend": false,
         "x": [
          2,
          2,
          1,
          2,
          2,
          1,
          2,
          3,
          1,
          3,
          2,
          2,
          2,
          1,
          2,
          1,
          2,
          2,
          3,
          2,
          2,
          2,
          1,
          2,
          2,
          1,
          1,
          2,
          2,
          2,
          2,
          2,
          2,
          1,
          3,
          1,
          2,
          2,
          2,
          2,
          3,
          2,
          1,
          2,
          1,
          3,
          2,
          0,
          1,
          2,
          1,
          3,
          2,
          2,
          2,
          1,
          3,
          2,
          3,
          1,
          2,
          2,
          3,
          2,
          2,
          2,
          2,
          2,
          2,
          2,
          2,
          1,
          3,
          1,
          3,
          3,
          2,
          2,
          1,
          2,
          2,
          2,
          1,
          1,
          1,
          3,
          2,
          2,
          3,
          2,
          2,
          2,
          1,
          2,
          2,
          2,
          2,
          2,
          2,
          3,
          1,
          2,
          2,
          2,
          2,
          3,
          3,
          2,
          2,
          2,
          2,
          2,
          1,
          2,
          2,
          2,
          3,
          2,
          2,
          3,
          2,
          3,
          1,
          2,
          2,
          2,
          1,
          2,
          3,
          2,
          2,
          2,
          1,
          2,
          2,
          2,
          2,
          1,
          2,
          1,
          0,
          3,
          3,
          2,
          2,
          2,
          2,
          2,
          2,
          2,
          2,
          2,
          2,
          2,
          3,
          2,
          2,
          1,
          2,
          1,
          2,
          2,
          2,
          3,
          2,
          2,
          2,
          2,
          2,
          2,
          2,
          2,
          3,
          2,
          2,
          3,
          2,
          2,
          3,
          2,
          2,
          3,
          1,
          2,
          2,
          2,
          3,
          0,
          2,
          2,
          3,
          1,
          2,
          2,
          2,
          3,
          2,
          2,
          2,
          3,
          2,
          1,
          2,
          2,
          1,
          3,
          2,
          2,
          1,
          2,
          2,
          1,
          2,
          3,
          2,
          1,
          2,
          2,
          1,
          2,
          1,
          2,
          2,
          2,
          2,
          2,
          2,
          3,
          2,
          2,
          2,
          1,
          2,
          1,
          1,
          3,
          0,
          1,
          2,
          2,
          2,
          2,
          2,
          2,
          1,
          2,
          2,
          2,
          2,
          2,
          1,
          1,
          2,
          2,
          2,
          1,
          1,
          2,
          2,
          1,
          2,
          2,
          3,
          1,
          1,
          2,
          2,
          2,
          3,
          2,
          2,
          2,
          3,
          2,
          1,
          2,
          2,
          1,
          2,
          3,
          2,
          2,
          1,
          2,
          2,
          1,
          2,
          3,
          2,
          2,
          2,
          3,
          3,
          2,
          3,
          2,
          2,
          1,
          2,
          2,
          0,
          2,
          1,
          2,
          2,
          2,
          1,
          1,
          2,
          1,
          0,
          2,
          2,
          1,
          1,
          2,
          1,
          1,
          2,
          1,
          3,
          2,
          3,
          2,
          2,
          1,
          2,
          2,
          2,
          2,
          3,
          2,
          3,
          1,
          2,
          3,
          1,
          2,
          2,
          1,
          2,
          1,
          2,
          3,
          1,
          1,
          2,
          0,
          1,
          2,
          2,
          2,
          3,
          2,
          2,
          1,
          2,
          3,
          2,
          2,
          2,
          3,
          2,
          2,
          0,
          2,
          2,
          2,
          2,
          2,
          2,
          2,
          2,
          3,
          3,
          2,
          2,
          2,
          3,
          1,
          2,
          3,
          2,
          2,
          1,
          2,
          2,
          3,
          2,
          2,
          3,
          1,
          3,
          2,
          3,
          2,
          3,
          2,
          2,
          1,
          2,
          2,
          2,
          1,
          2,
          2,
          2,
          2,
          3,
          2,
          2,
          3,
          3,
          1,
          2,
          2,
          1,
          2,
          3,
          2,
          2,
          2,
          1,
          3,
          2,
          2,
          2,
          2,
          2,
          0,
          1,
          3,
          3,
          2,
          2,
          2,
          1,
          2,
          0,
          0,
          3,
          2,
          2,
          1,
          3,
          1,
          2,
          2,
          3,
          2,
          3,
          2,
          2,
          3,
          2,
          3,
          2,
          2,
          2,
          2,
          2,
          2,
          3,
          2,
          2,
          2,
          1,
          2,
          2,
          1,
          2,
          2,
          1,
          3,
          2,
          2,
          2,
          2,
          1,
          2,
          1,
          2,
          2,
          2,
          2,
          3,
          2,
          2,
          1,
          2,
          2,
          3,
          2,
          2,
          1,
          2,
          3,
          2,
          1,
          2,
          2,
          2,
          2,
          2,
          2,
          1,
          2,
          3,
          2,
          3,
          2,
          3,
          2,
          2,
          2,
          2,
          1,
          2,
          2,
          2,
          2,
          2,
          2,
          2,
          1,
          2,
          2,
          1,
          2,
          1,
          2,
          2,
          2,
          2,
          2,
          2,
          3,
          2,
          3,
          1,
          2,
          2,
          2,
          1,
          1,
          2,
          2,
          2,
          1,
          2,
          2,
          1,
          2,
          2,
          3,
          2,
          2,
          2,
          2,
          1,
          2,
          1,
          2,
          2,
          3,
          2,
          2,
          2,
          2,
          2,
          1,
          2,
          3,
          1,
          1,
          2,
          2,
          2,
          2,
          1,
          2,
          1,
          2,
          1,
          3,
          2,
          2,
          1,
          1,
          2,
          1,
          2,
          1,
          1,
          3,
          1,
          2,
          1,
          2,
          2,
          2,
          2,
          1,
          3,
          2,
          2,
          3,
          2,
          2,
          2,
          2,
          1,
          2,
          2,
          2,
          3,
          3,
          2,
          2,
          1,
          2,
          2,
          2,
          2,
          2,
          2,
          2,
          2,
          2,
          1,
          2,
          2,
          2,
          2,
          1,
          2,
          2,
          2,
          2,
          2,
          0,
          1,
          3,
          2,
          3,
          2,
          2,
          2,
          2,
          1,
          3,
          1,
          2,
          3,
          2,
          2,
          1,
          2,
          2,
          2,
          2,
          2,
          2,
          3,
          1,
          3,
          2,
          2,
          2,
          2,
          1,
          2,
          3,
          2,
          1,
          3,
          2,
          2,
          1,
          2,
          2,
          2,
          2,
          2,
          1,
          2,
          2,
          2,
          2,
          2,
          2,
          1,
          2,
          1,
          2,
          2,
          2,
          0,
          2,
          3,
          1,
          2,
          2,
          2,
          2,
          2,
          2,
          2,
          2,
          1,
          3,
          2,
          3,
          1,
          3,
          2,
          2,
          3,
          2,
          2,
          3,
          2,
          1,
          1,
          2,
          1,
          1,
          2,
          2,
          2,
          2,
          1,
          1,
          2,
          2,
          0,
          3,
          1,
          3,
          1,
          2,
          1,
          2,
          2,
          3,
          1,
          2,
          1,
          2,
          2,
          2,
          1,
          1,
          2,
          2,
          2,
          0,
          2,
          2,
          2,
          2,
          2,
          1,
          3,
          2,
          1,
          1,
          2,
          2,
          1,
          2,
          3,
          3,
          2,
          0,
          2,
          2,
          2,
          3,
          2,
          2,
          2,
          1,
          1,
          3,
          1,
          2,
          2,
          2,
          2,
          2,
          3,
          2,
          2,
          2,
          2,
          2,
          1,
          2,
          0,
          2,
          1,
          2,
          2,
          0,
          2,
          1,
          2,
          3,
          0,
          2,
          1,
          2,
          2,
          2,
          2,
          2,
          2,
          3,
          2,
          2,
          2,
          2,
          1,
          3,
          2,
          2,
          2,
          2,
          2,
          2,
          2,
          2,
          2,
          1,
          2,
          2,
          1,
          2,
          2,
          2,
          1,
          2,
          2,
          2,
          2,
          2,
          2,
          2,
          1,
          2,
          2,
          2,
          1,
          2,
          2,
          2,
          2,
          2,
          2,
          2,
          2,
          2,
          1,
          1,
          2,
          2,
          2,
          2,
          2,
          2,
          2,
          2,
          2,
          1,
          2,
          3,
          2,
          3,
          2,
          3,
          2,
          2,
          0,
          2,
          2,
          2,
          2,
          3,
          2,
          3,
          2,
          1,
          2,
          2,
          3,
          3,
          2,
          1,
          2,
          2,
          2,
          2,
          2,
          3,
          3,
          1,
          2,
          1,
          1,
          2,
          1,
          2,
          2,
          2,
          3,
          2,
          3,
          2,
          3,
          2,
          3,
          2,
          2,
          2,
          2,
          2,
          2,
          2,
          1,
          1,
          2,
          2,
          2,
          2,
          3,
          1,
          3,
          2,
          3,
          3,
          1,
          2,
          1,
          2,
          2,
          2,
          3,
          1,
          2,
          0,
          2,
          2,
          3,
          2,
          3,
          1,
          1,
          1,
          2,
          2,
          2,
          2,
          2,
          1,
          2,
          1,
          3,
          2,
          1,
          2,
          1,
          0,
          2,
          2,
          1,
          2,
          2,
          1,
          2,
          2,
          3,
          3,
          2,
          1,
          2,
          2,
          2,
          3,
          1,
          1,
          1,
          1,
          3,
          2,
          1,
          3,
          2,
          2,
          2
         ],
         "xaxis": "x",
         "yaxis": "y",
         "type": "histogram"
        }
       ],
       "layout": {
        "template": {
         "data": {
          "histogram2dcontour": [
           {
            "type": "histogram2dcontour",
            "colorbar": {
             "outlinewidth": 0,
             "ticks": ""
            },
            "colorscale": [
             [
              0.0,
              "#0d0887"
             ],
             [
              0.1111111111111111,
              "#46039f"
             ],
             [
              0.2222222222222222,
              "#7201a8"
             ],
             [
              0.3333333333333333,
              "#9c179e"
             ],
             [
              0.4444444444444444,
              "#bd3786"
             ],
             [
              0.5555555555555556,
              "#d8576b"
             ],
             [
              0.6666666666666666,
              "#ed7953"
             ],
             [
              0.7777777777777778,
              "#fb9f3a"
             ],
             [
              0.8888888888888888,
              "#fdca26"
             ],
             [
              1.0,
              "#f0f921"
             ]
            ]
           }
          ],
          "choropleth": [
           {
            "type": "choropleth",
            "colorbar": {
             "outlinewidth": 0,
             "ticks": ""
            }
           }
          ],
          "histogram2d": [
           {
            "type": "histogram2d",
            "colorbar": {
             "outlinewidth": 0,
             "ticks": ""
            },
            "colorscale": [
             [
              0.0,
              "#0d0887"
             ],
             [
              0.1111111111111111,
              "#46039f"
             ],
             [
              0.2222222222222222,
              "#7201a8"
             ],
             [
              0.3333333333333333,
              "#9c179e"
             ],
             [
              0.4444444444444444,
              "#bd3786"
             ],
             [
              0.5555555555555556,
              "#d8576b"
             ],
             [
              0.6666666666666666,
              "#ed7953"
             ],
             [
              0.7777777777777778,
              "#fb9f3a"
             ],
             [
              0.8888888888888888,
              "#fdca26"
             ],
             [
              1.0,
              "#f0f921"
             ]
            ]
           }
          ],
          "heatmap": [
           {
            "type": "heatmap",
            "colorbar": {
             "outlinewidth": 0,
             "ticks": ""
            },
            "colorscale": [
             [
              0.0,
              "#0d0887"
             ],
             [
              0.1111111111111111,
              "#46039f"
             ],
             [
              0.2222222222222222,
              "#7201a8"
             ],
             [
              0.3333333333333333,
              "#9c179e"
             ],
             [
              0.4444444444444444,
              "#bd3786"
             ],
             [
              0.5555555555555556,
              "#d8576b"
             ],
             [
              0.6666666666666666,
              "#ed7953"
             ],
             [
              0.7777777777777778,
              "#fb9f3a"
             ],
             [
              0.8888888888888888,
              "#fdca26"
             ],
             [
              1.0,
              "#f0f921"
             ]
            ]
           }
          ],
          "heatmapgl": [
           {
            "type": "heatmapgl",
            "colorbar": {
             "outlinewidth": 0,
             "ticks": ""
            },
            "colorscale": [
             [
              0.0,
              "#0d0887"
             ],
             [
              0.1111111111111111,
              "#46039f"
             ],
             [
              0.2222222222222222,
              "#7201a8"
             ],
             [
              0.3333333333333333,
              "#9c179e"
             ],
             [
              0.4444444444444444,
              "#bd3786"
             ],
             [
              0.5555555555555556,
              "#d8576b"
             ],
             [
              0.6666666666666666,
              "#ed7953"
             ],
             [
              0.7777777777777778,
              "#fb9f3a"
             ],
             [
              0.8888888888888888,
              "#fdca26"
             ],
             [
              1.0,
              "#f0f921"
             ]
            ]
           }
          ],
          "contourcarpet": [
           {
            "type": "contourcarpet",
            "colorbar": {
             "outlinewidth": 0,
             "ticks": ""
            }
           }
          ],
          "contour": [
           {
            "type": "contour",
            "colorbar": {
             "outlinewidth": 0,
             "ticks": ""
            },
            "colorscale": [
             [
              0.0,
              "#0d0887"
             ],
             [
              0.1111111111111111,
              "#46039f"
             ],
             [
              0.2222222222222222,
              "#7201a8"
             ],
             [
              0.3333333333333333,
              "#9c179e"
             ],
             [
              0.4444444444444444,
              "#bd3786"
             ],
             [
              0.5555555555555556,
              "#d8576b"
             ],
             [
              0.6666666666666666,
              "#ed7953"
             ],
             [
              0.7777777777777778,
              "#fb9f3a"
             ],
             [
              0.8888888888888888,
              "#fdca26"
             ],
             [
              1.0,
              "#f0f921"
             ]
            ]
           }
          ],
          "surface": [
           {
            "type": "surface",
            "colorbar": {
             "outlinewidth": 0,
             "ticks": ""
            },
            "colorscale": [
             [
              0.0,
              "#0d0887"
             ],
             [
              0.1111111111111111,
              "#46039f"
             ],
             [
              0.2222222222222222,
              "#7201a8"
             ],
             [
              0.3333333333333333,
              "#9c179e"
             ],
             [
              0.4444444444444444,
              "#bd3786"
             ],
             [
              0.5555555555555556,
              "#d8576b"
             ],
             [
              0.6666666666666666,
              "#ed7953"
             ],
             [
              0.7777777777777778,
              "#fb9f3a"
             ],
             [
              0.8888888888888888,
              "#fdca26"
             ],
             [
              1.0,
              "#f0f921"
             ]
            ]
           }
          ],
          "mesh3d": [
           {
            "type": "mesh3d",
            "colorbar": {
             "outlinewidth": 0,
             "ticks": ""
            }
           }
          ],
          "scatter": [
           {
            "marker": {
             "line": {
              "color": "#283442"
             }
            },
            "type": "scatter"
           }
          ],
          "parcoords": [
           {
            "type": "parcoords",
            "line": {
             "colorbar": {
              "outlinewidth": 0,
              "ticks": ""
             }
            }
           }
          ],
          "scatterpolargl": [
           {
            "type": "scatterpolargl",
            "marker": {
             "colorbar": {
              "outlinewidth": 0,
              "ticks": ""
             }
            }
           }
          ],
          "bar": [
           {
            "error_x": {
             "color": "#f2f5fa"
            },
            "error_y": {
             "color": "#f2f5fa"
            },
            "marker": {
             "line": {
              "color": "rgb(17,17,17)",
              "width": 0.5
             },
             "pattern": {
              "fillmode": "overlay",
              "size": 10,
              "solidity": 0.2
             }
            },
            "type": "bar"
           }
          ],
          "scattergeo": [
           {
            "type": "scattergeo",
            "marker": {
             "colorbar": {
              "outlinewidth": 0,
              "ticks": ""
             }
            }
           }
          ],
          "scatterpolar": [
           {
            "type": "scatterpolar",
            "marker": {
             "colorbar": {
              "outlinewidth": 0,
              "ticks": ""
             }
            }
           }
          ],
          "histogram": [
           {
            "marker": {
             "pattern": {
              "fillmode": "overlay",
              "size": 10,
              "solidity": 0.2
             }
            },
            "type": "histogram"
           }
          ],
          "scattergl": [
           {
            "marker": {
             "line": {
              "color": "#283442"
             }
            },
            "type": "scattergl"
           }
          ],
          "scatter3d": [
           {
            "type": "scatter3d",
            "line": {
             "colorbar": {
              "outlinewidth": 0,
              "ticks": ""
             }
            },
            "marker": {
             "colorbar": {
              "outlinewidth": 0,
              "ticks": ""
             }
            }
           }
          ],
          "scattermapbox": [
           {
            "type": "scattermapbox",
            "marker": {
             "colorbar": {
              "outlinewidth": 0,
              "ticks": ""
             }
            }
           }
          ],
          "scatterternary": [
           {
            "type": "scatterternary",
            "marker": {
             "colorbar": {
              "outlinewidth": 0,
              "ticks": ""
             }
            }
           }
          ],
          "scattercarpet": [
           {
            "type": "scattercarpet",
            "marker": {
             "colorbar": {
              "outlinewidth": 0,
              "ticks": ""
             }
            }
           }
          ],
          "carpet": [
           {
            "aaxis": {
             "endlinecolor": "#A2B1C6",
             "gridcolor": "#506784",
             "linecolor": "#506784",
             "minorgridcolor": "#506784",
             "startlinecolor": "#A2B1C6"
            },
            "baxis": {
             "endlinecolor": "#A2B1C6",
             "gridcolor": "#506784",
             "linecolor": "#506784",
             "minorgridcolor": "#506784",
             "startlinecolor": "#A2B1C6"
            },
            "type": "carpet"
           }
          ],
          "table": [
           {
            "cells": {
             "fill": {
              "color": "#506784"
             },
             "line": {
              "color": "rgb(17,17,17)"
             }
            },
            "header": {
             "fill": {
              "color": "#2a3f5f"
             },
             "line": {
              "color": "rgb(17,17,17)"
             }
            },
            "type": "table"
           }
          ],
          "barpolar": [
           {
            "marker": {
             "line": {
              "color": "rgb(17,17,17)",
              "width": 0.5
             },
             "pattern": {
              "fillmode": "overlay",
              "size": 10,
              "solidity": 0.2
             }
            },
            "type": "barpolar"
           }
          ],
          "pie": [
           {
            "automargin": true,
            "type": "pie"
           }
          ]
         },
         "layout": {
          "autotypenumbers": "strict",
          "colorway": [
           "#636efa",
           "#EF553B",
           "#00cc96",
           "#ab63fa",
           "#FFA15A",
           "#19d3f3",
           "#FF6692",
           "#B6E880",
           "#FF97FF",
           "#FECB52"
          ],
          "font": {
           "color": "#f2f5fa"
          },
          "hovermode": "closest",
          "hoverlabel": {
           "align": "left"
          },
          "paper_bgcolor": "rgb(17,17,17)",
          "plot_bgcolor": "rgb(17,17,17)",
          "polar": {
           "bgcolor": "rgb(17,17,17)",
           "angularaxis": {
            "gridcolor": "#506784",
            "linecolor": "#506784",
            "ticks": ""
           },
           "radialaxis": {
            "gridcolor": "#506784",
            "linecolor": "#506784",
            "ticks": ""
           }
          },
          "ternary": {
           "bgcolor": "rgb(17,17,17)",
           "aaxis": {
            "gridcolor": "#506784",
            "linecolor": "#506784",
            "ticks": ""
           },
           "baxis": {
            "gridcolor": "#506784",
            "linecolor": "#506784",
            "ticks": ""
           },
           "caxis": {
            "gridcolor": "#506784",
            "linecolor": "#506784",
            "ticks": ""
           }
          },
          "coloraxis": {
           "colorbar": {
            "outlinewidth": 0,
            "ticks": ""
           }
          },
          "colorscale": {
           "sequential": [
            [
             0.0,
             "#0d0887"
            ],
            [
             0.1111111111111111,
             "#46039f"
            ],
            [
             0.2222222222222222,
             "#7201a8"
            ],
            [
             0.3333333333333333,
             "#9c179e"
            ],
            [
             0.4444444444444444,
             "#bd3786"
            ],
            [
             0.5555555555555556,
             "#d8576b"
            ],
            [
             0.6666666666666666,
             "#ed7953"
            ],
            [
             0.7777777777777778,
             "#fb9f3a"
            ],
            [
             0.8888888888888888,
             "#fdca26"
            ],
            [
             1.0,
             "#f0f921"
            ]
           ],
           "sequentialminus": [
            [
             0.0,
             "#0d0887"
            ],
            [
             0.1111111111111111,
             "#46039f"
            ],
            [
             0.2222222222222222,
             "#7201a8"
            ],
            [
             0.3333333333333333,
             "#9c179e"
            ],
            [
             0.4444444444444444,
             "#bd3786"
            ],
            [
             0.5555555555555556,
             "#d8576b"
            ],
            [
             0.6666666666666666,
             "#ed7953"
            ],
            [
             0.7777777777777778,
             "#fb9f3a"
            ],
            [
             0.8888888888888888,
             "#fdca26"
            ],
            [
             1.0,
             "#f0f921"
            ]
           ],
           "diverging": [
            [
             0,
             "#8e0152"
            ],
            [
             0.1,
             "#c51b7d"
            ],
            [
             0.2,
             "#de77ae"
            ],
            [
             0.3,
             "#f1b6da"
            ],
            [
             0.4,
             "#fde0ef"
            ],
            [
             0.5,
             "#f7f7f7"
            ],
            [
             0.6,
             "#e6f5d0"
            ],
            [
             0.7,
             "#b8e186"
            ],
            [
             0.8,
             "#7fbc41"
            ],
            [
             0.9,
             "#4d9221"
            ],
            [
             1,
             "#276419"
            ]
           ]
          },
          "xaxis": {
           "gridcolor": "#283442",
           "linecolor": "#506784",
           "ticks": "",
           "title": {
            "standoff": 15
           },
           "zerolinecolor": "#283442",
           "automargin": true,
           "zerolinewidth": 2
          },
          "yaxis": {
           "gridcolor": "#283442",
           "linecolor": "#506784",
           "ticks": "",
           "title": {
            "standoff": 15
           },
           "zerolinecolor": "#283442",
           "automargin": true,
           "zerolinewidth": 2
          },
          "scene": {
           "xaxis": {
            "backgroundcolor": "rgb(17,17,17)",
            "gridcolor": "#506784",
            "linecolor": "#506784",
            "showbackground": true,
            "ticks": "",
            "zerolinecolor": "#C8D4E3",
            "gridwidth": 2
           },
           "yaxis": {
            "backgroundcolor": "rgb(17,17,17)",
            "gridcolor": "#506784",
            "linecolor": "#506784",
            "showbackground": true,
            "ticks": "",
            "zerolinecolor": "#C8D4E3",
            "gridwidth": 2
           },
           "zaxis": {
            "backgroundcolor": "rgb(17,17,17)",
            "gridcolor": "#506784",
            "linecolor": "#506784",
            "showbackground": true,
            "ticks": "",
            "zerolinecolor": "#C8D4E3",
            "gridwidth": 2
           }
          },
          "shapedefaults": {
           "line": {
            "color": "#f2f5fa"
           }
          },
          "annotationdefaults": {
           "arrowcolor": "#f2f5fa",
           "arrowhead": 0,
           "arrowwidth": 1
          },
          "geo": {
           "bgcolor": "rgb(17,17,17)",
           "landcolor": "rgb(17,17,17)",
           "subunitcolor": "#506784",
           "showland": true,
           "showlakes": true,
           "lakecolor": "rgb(17,17,17)"
          },
          "title": {
           "x": 0.05
          },
          "updatemenudefaults": {
           "bgcolor": "#506784",
           "borderwidth": 0
          },
          "sliderdefaults": {
           "bgcolor": "#C8D4E3",
           "borderwidth": 1,
           "bordercolor": "rgb(17,17,17)",
           "tickwidth": 0
          },
          "mapbox": {
           "style": "dark"
          }
         }
        },
        "xaxis": {
         "anchor": "y",
         "domain": [
          0.0,
          1.0
         ],
         "title": {
          "text": "Job"
         }
        },
        "yaxis": {
         "anchor": "x",
         "domain": [
          0.0,
          1.0
         ],
         "title": {
          "text": "count"
         }
        },
        "legend": {
         "tracegroupgap": 0
        },
        "title": {
         "text": "Job distribution"
        },
        "barmode": "relative"
       },
       "config": {
        "plotlyServerURL": "https://plot.ly"
       }
      },
      "text/html": "<div>                            <div id=\"845d33c4-af44-4ad1-92b6-32452be7b85c\" class=\"plotly-graph-div\" style=\"height:525px; width:100%;\"></div>            <script type=\"text/javascript\">                require([\"plotly\"], function(Plotly) {                    window.PLOTLYENV=window.PLOTLYENV || {};                                    if (document.getElementById(\"845d33c4-af44-4ad1-92b6-32452be7b85c\")) {                    Plotly.newPlot(                        \"845d33c4-af44-4ad1-92b6-32452be7b85c\",                        [{\"alignmentgroup\":\"True\",\"bingroup\":\"x\",\"hovertemplate\":\"Job=%{x}<br>count=%{y}<extra></extra>\",\"legendgroup\":\"\",\"marker\":{\"color\":\"#636efa\",\"pattern\":{\"shape\":\"\"}},\"name\":\"\",\"offsetgroup\":\"\",\"orientation\":\"v\",\"showlegend\":false,\"x\":[2,2,1,2,2,1,2,3,1,3,2,2,2,1,2,1,2,2,3,2,2,2,1,2,2,1,1,2,2,2,2,2,2,1,3,1,2,2,2,2,3,2,1,2,1,3,2,0,1,2,1,3,2,2,2,1,3,2,3,1,2,2,3,2,2,2,2,2,2,2,2,1,3,1,3,3,2,2,1,2,2,2,1,1,1,3,2,2,3,2,2,2,1,2,2,2,2,2,2,3,1,2,2,2,2,3,3,2,2,2,2,2,1,2,2,2,3,2,2,3,2,3,1,2,2,2,1,2,3,2,2,2,1,2,2,2,2,1,2,1,0,3,3,2,2,2,2,2,2,2,2,2,2,2,3,2,2,1,2,1,2,2,2,3,2,2,2,2,2,2,2,2,3,2,2,3,2,2,3,2,2,3,1,2,2,2,3,0,2,2,3,1,2,2,2,3,2,2,2,3,2,1,2,2,1,3,2,2,1,2,2,1,2,3,2,1,2,2,1,2,1,2,2,2,2,2,2,3,2,2,2,1,2,1,1,3,0,1,2,2,2,2,2,2,1,2,2,2,2,2,1,1,2,2,2,1,1,2,2,1,2,2,3,1,1,2,2,2,3,2,2,2,3,2,1,2,2,1,2,3,2,2,1,2,2,1,2,3,2,2,2,3,3,2,3,2,2,1,2,2,0,2,1,2,2,2,1,1,2,1,0,2,2,1,1,2,1,1,2,1,3,2,3,2,2,1,2,2,2,2,3,2,3,1,2,3,1,2,2,1,2,1,2,3,1,1,2,0,1,2,2,2,3,2,2,1,2,3,2,2,2,3,2,2,0,2,2,2,2,2,2,2,2,3,3,2,2,2,3,1,2,3,2,2,1,2,2,3,2,2,3,1,3,2,3,2,3,2,2,1,2,2,2,1,2,2,2,2,3,2,2,3,3,1,2,2,1,2,3,2,2,2,1,3,2,2,2,2,2,0,1,3,3,2,2,2,1,2,0,0,3,2,2,1,3,1,2,2,3,2,3,2,2,3,2,3,2,2,2,2,2,2,3,2,2,2,1,2,2,1,2,2,1,3,2,2,2,2,1,2,1,2,2,2,2,3,2,2,1,2,2,3,2,2,1,2,3,2,1,2,2,2,2,2,2,1,2,3,2,3,2,3,2,2,2,2,1,2,2,2,2,2,2,2,1,2,2,1,2,1,2,2,2,2,2,2,3,2,3,1,2,2,2,1,1,2,2,2,1,2,2,1,2,2,3,2,2,2,2,1,2,1,2,2,3,2,2,2,2,2,1,2,3,1,1,2,2,2,2,1,2,1,2,1,3,2,2,1,1,2,1,2,1,1,3,1,2,1,2,2,2,2,1,3,2,2,3,2,2,2,2,1,2,2,2,3,3,2,2,1,2,2,2,2,2,2,2,2,2,1,2,2,2,2,1,2,2,2,2,2,0,1,3,2,3,2,2,2,2,1,3,1,2,3,2,2,1,2,2,2,2,2,2,3,1,3,2,2,2,2,1,2,3,2,1,3,2,2,1,2,2,2,2,2,1,2,2,2,2,2,2,1,2,1,2,2,2,0,2,3,1,2,2,2,2,2,2,2,2,1,3,2,3,1,3,2,2,3,2,2,3,2,1,1,2,1,1,2,2,2,2,1,1,2,2,0,3,1,3,1,2,1,2,2,3,1,2,1,2,2,2,1,1,2,2,2,0,2,2,2,2,2,1,3,2,1,1,2,2,1,2,3,3,2,0,2,2,2,3,2,2,2,1,1,3,1,2,2,2,2,2,3,2,2,2,2,2,1,2,0,2,1,2,2,0,2,1,2,3,0,2,1,2,2,2,2,2,2,3,2,2,2,2,1,3,2,2,2,2,2,2,2,2,2,1,2,2,1,2,2,2,1,2,2,2,2,2,2,2,1,2,2,2,1,2,2,2,2,2,2,2,2,2,1,1,2,2,2,2,2,2,2,2,2,1,2,3,2,3,2,3,2,2,0,2,2,2,2,3,2,3,2,1,2,2,3,3,2,1,2,2,2,2,2,3,3,1,2,1,1,2,1,2,2,2,3,2,3,2,3,2,3,2,2,2,2,2,2,2,1,1,2,2,2,2,3,1,3,2,3,3,1,2,1,2,2,2,3,1,2,0,2,2,3,2,3,1,1,1,2,2,2,2,2,1,2,1,3,2,1,2,1,0,2,2,1,2,2,1,2,2,3,3,2,1,2,2,2,3,1,1,1,1,3,2,1,3,2,2,2],\"xaxis\":\"x\",\"yaxis\":\"y\",\"type\":\"histogram\"}],                        {\"template\":{\"data\":{\"histogram2dcontour\":[{\"type\":\"histogram2dcontour\",\"colorbar\":{\"outlinewidth\":0,\"ticks\":\"\"},\"colorscale\":[[0.0,\"#0d0887\"],[0.1111111111111111,\"#46039f\"],[0.2222222222222222,\"#7201a8\"],[0.3333333333333333,\"#9c179e\"],[0.4444444444444444,\"#bd3786\"],[0.5555555555555556,\"#d8576b\"],[0.6666666666666666,\"#ed7953\"],[0.7777777777777778,\"#fb9f3a\"],[0.8888888888888888,\"#fdca26\"],[1.0,\"#f0f921\"]]}],\"choropleth\":[{\"type\":\"choropleth\",\"colorbar\":{\"outlinewidth\":0,\"ticks\":\"\"}}],\"histogram2d\":[{\"type\":\"histogram2d\",\"colorbar\":{\"outlinewidth\":0,\"ticks\":\"\"},\"colorscale\":[[0.0,\"#0d0887\"],[0.1111111111111111,\"#46039f\"],[0.2222222222222222,\"#7201a8\"],[0.3333333333333333,\"#9c179e\"],[0.4444444444444444,\"#bd3786\"],[0.5555555555555556,\"#d8576b\"],[0.6666666666666666,\"#ed7953\"],[0.7777777777777778,\"#fb9f3a\"],[0.8888888888888888,\"#fdca26\"],[1.0,\"#f0f921\"]]}],\"heatmap\":[{\"type\":\"heatmap\",\"colorbar\":{\"outlinewidth\":0,\"ticks\":\"\"},\"colorscale\":[[0.0,\"#0d0887\"],[0.1111111111111111,\"#46039f\"],[0.2222222222222222,\"#7201a8\"],[0.3333333333333333,\"#9c179e\"],[0.4444444444444444,\"#bd3786\"],[0.5555555555555556,\"#d8576b\"],[0.6666666666666666,\"#ed7953\"],[0.7777777777777778,\"#fb9f3a\"],[0.8888888888888888,\"#fdca26\"],[1.0,\"#f0f921\"]]}],\"heatmapgl\":[{\"type\":\"heatmapgl\",\"colorbar\":{\"outlinewidth\":0,\"ticks\":\"\"},\"colorscale\":[[0.0,\"#0d0887\"],[0.1111111111111111,\"#46039f\"],[0.2222222222222222,\"#7201a8\"],[0.3333333333333333,\"#9c179e\"],[0.4444444444444444,\"#bd3786\"],[0.5555555555555556,\"#d8576b\"],[0.6666666666666666,\"#ed7953\"],[0.7777777777777778,\"#fb9f3a\"],[0.8888888888888888,\"#fdca26\"],[1.0,\"#f0f921\"]]}],\"contourcarpet\":[{\"type\":\"contourcarpet\",\"colorbar\":{\"outlinewidth\":0,\"ticks\":\"\"}}],\"contour\":[{\"type\":\"contour\",\"colorbar\":{\"outlinewidth\":0,\"ticks\":\"\"},\"colorscale\":[[0.0,\"#0d0887\"],[0.1111111111111111,\"#46039f\"],[0.2222222222222222,\"#7201a8\"],[0.3333333333333333,\"#9c179e\"],[0.4444444444444444,\"#bd3786\"],[0.5555555555555556,\"#d8576b\"],[0.6666666666666666,\"#ed7953\"],[0.7777777777777778,\"#fb9f3a\"],[0.8888888888888888,\"#fdca26\"],[1.0,\"#f0f921\"]]}],\"surface\":[{\"type\":\"surface\",\"colorbar\":{\"outlinewidth\":0,\"ticks\":\"\"},\"colorscale\":[[0.0,\"#0d0887\"],[0.1111111111111111,\"#46039f\"],[0.2222222222222222,\"#7201a8\"],[0.3333333333333333,\"#9c179e\"],[0.4444444444444444,\"#bd3786\"],[0.5555555555555556,\"#d8576b\"],[0.6666666666666666,\"#ed7953\"],[0.7777777777777778,\"#fb9f3a\"],[0.8888888888888888,\"#fdca26\"],[1.0,\"#f0f921\"]]}],\"mesh3d\":[{\"type\":\"mesh3d\",\"colorbar\":{\"outlinewidth\":0,\"ticks\":\"\"}}],\"scatter\":[{\"marker\":{\"line\":{\"color\":\"#283442\"}},\"type\":\"scatter\"}],\"parcoords\":[{\"type\":\"parcoords\",\"line\":{\"colorbar\":{\"outlinewidth\":0,\"ticks\":\"\"}}}],\"scatterpolargl\":[{\"type\":\"scatterpolargl\",\"marker\":{\"colorbar\":{\"outlinewidth\":0,\"ticks\":\"\"}}}],\"bar\":[{\"error_x\":{\"color\":\"#f2f5fa\"},\"error_y\":{\"color\":\"#f2f5fa\"},\"marker\":{\"line\":{\"color\":\"rgb(17,17,17)\",\"width\":0.5},\"pattern\":{\"fillmode\":\"overlay\",\"size\":10,\"solidity\":0.2}},\"type\":\"bar\"}],\"scattergeo\":[{\"type\":\"scattergeo\",\"marker\":{\"colorbar\":{\"outlinewidth\":0,\"ticks\":\"\"}}}],\"scatterpolar\":[{\"type\":\"scatterpolar\",\"marker\":{\"colorbar\":{\"outlinewidth\":0,\"ticks\":\"\"}}}],\"histogram\":[{\"marker\":{\"pattern\":{\"fillmode\":\"overlay\",\"size\":10,\"solidity\":0.2}},\"type\":\"histogram\"}],\"scattergl\":[{\"marker\":{\"line\":{\"color\":\"#283442\"}},\"type\":\"scattergl\"}],\"scatter3d\":[{\"type\":\"scatter3d\",\"line\":{\"colorbar\":{\"outlinewidth\":0,\"ticks\":\"\"}},\"marker\":{\"colorbar\":{\"outlinewidth\":0,\"ticks\":\"\"}}}],\"scattermapbox\":[{\"type\":\"scattermapbox\",\"marker\":{\"colorbar\":{\"outlinewidth\":0,\"ticks\":\"\"}}}],\"scatterternary\":[{\"type\":\"scatterternary\",\"marker\":{\"colorbar\":{\"outlinewidth\":0,\"ticks\":\"\"}}}],\"scattercarpet\":[{\"type\":\"scattercarpet\",\"marker\":{\"colorbar\":{\"outlinewidth\":0,\"ticks\":\"\"}}}],\"carpet\":[{\"aaxis\":{\"endlinecolor\":\"#A2B1C6\",\"gridcolor\":\"#506784\",\"linecolor\":\"#506784\",\"minorgridcolor\":\"#506784\",\"startlinecolor\":\"#A2B1C6\"},\"baxis\":{\"endlinecolor\":\"#A2B1C6\",\"gridcolor\":\"#506784\",\"linecolor\":\"#506784\",\"minorgridcolor\":\"#506784\",\"startlinecolor\":\"#A2B1C6\"},\"type\":\"carpet\"}],\"table\":[{\"cells\":{\"fill\":{\"color\":\"#506784\"},\"line\":{\"color\":\"rgb(17,17,17)\"}},\"header\":{\"fill\":{\"color\":\"#2a3f5f\"},\"line\":{\"color\":\"rgb(17,17,17)\"}},\"type\":\"table\"}],\"barpolar\":[{\"marker\":{\"line\":{\"color\":\"rgb(17,17,17)\",\"width\":0.5},\"pattern\":{\"fillmode\":\"overlay\",\"size\":10,\"solidity\":0.2}},\"type\":\"barpolar\"}],\"pie\":[{\"automargin\":true,\"type\":\"pie\"}]},\"layout\":{\"autotypenumbers\":\"strict\",\"colorway\":[\"#636efa\",\"#EF553B\",\"#00cc96\",\"#ab63fa\",\"#FFA15A\",\"#19d3f3\",\"#FF6692\",\"#B6E880\",\"#FF97FF\",\"#FECB52\"],\"font\":{\"color\":\"#f2f5fa\"},\"hovermode\":\"closest\",\"hoverlabel\":{\"align\":\"left\"},\"paper_bgcolor\":\"rgb(17,17,17)\",\"plot_bgcolor\":\"rgb(17,17,17)\",\"polar\":{\"bgcolor\":\"rgb(17,17,17)\",\"angularaxis\":{\"gridcolor\":\"#506784\",\"linecolor\":\"#506784\",\"ticks\":\"\"},\"radialaxis\":{\"gridcolor\":\"#506784\",\"linecolor\":\"#506784\",\"ticks\":\"\"}},\"ternary\":{\"bgcolor\":\"rgb(17,17,17)\",\"aaxis\":{\"gridcolor\":\"#506784\",\"linecolor\":\"#506784\",\"ticks\":\"\"},\"baxis\":{\"gridcolor\":\"#506784\",\"linecolor\":\"#506784\",\"ticks\":\"\"},\"caxis\":{\"gridcolor\":\"#506784\",\"linecolor\":\"#506784\",\"ticks\":\"\"}},\"coloraxis\":{\"colorbar\":{\"outlinewidth\":0,\"ticks\":\"\"}},\"colorscale\":{\"sequential\":[[0.0,\"#0d0887\"],[0.1111111111111111,\"#46039f\"],[0.2222222222222222,\"#7201a8\"],[0.3333333333333333,\"#9c179e\"],[0.4444444444444444,\"#bd3786\"],[0.5555555555555556,\"#d8576b\"],[0.6666666666666666,\"#ed7953\"],[0.7777777777777778,\"#fb9f3a\"],[0.8888888888888888,\"#fdca26\"],[1.0,\"#f0f921\"]],\"sequentialminus\":[[0.0,\"#0d0887\"],[0.1111111111111111,\"#46039f\"],[0.2222222222222222,\"#7201a8\"],[0.3333333333333333,\"#9c179e\"],[0.4444444444444444,\"#bd3786\"],[0.5555555555555556,\"#d8576b\"],[0.6666666666666666,\"#ed7953\"],[0.7777777777777778,\"#fb9f3a\"],[0.8888888888888888,\"#fdca26\"],[1.0,\"#f0f921\"]],\"diverging\":[[0,\"#8e0152\"],[0.1,\"#c51b7d\"],[0.2,\"#de77ae\"],[0.3,\"#f1b6da\"],[0.4,\"#fde0ef\"],[0.5,\"#f7f7f7\"],[0.6,\"#e6f5d0\"],[0.7,\"#b8e186\"],[0.8,\"#7fbc41\"],[0.9,\"#4d9221\"],[1,\"#276419\"]]},\"xaxis\":{\"gridcolor\":\"#283442\",\"linecolor\":\"#506784\",\"ticks\":\"\",\"title\":{\"standoff\":15},\"zerolinecolor\":\"#283442\",\"automargin\":true,\"zerolinewidth\":2},\"yaxis\":{\"gridcolor\":\"#283442\",\"linecolor\":\"#506784\",\"ticks\":\"\",\"title\":{\"standoff\":15},\"zerolinecolor\":\"#283442\",\"automargin\":true,\"zerolinewidth\":2},\"scene\":{\"xaxis\":{\"backgroundcolor\":\"rgb(17,17,17)\",\"gridcolor\":\"#506784\",\"linecolor\":\"#506784\",\"showbackground\":true,\"ticks\":\"\",\"zerolinecolor\":\"#C8D4E3\",\"gridwidth\":2},\"yaxis\":{\"backgroundcolor\":\"rgb(17,17,17)\",\"gridcolor\":\"#506784\",\"linecolor\":\"#506784\",\"showbackground\":true,\"ticks\":\"\",\"zerolinecolor\":\"#C8D4E3\",\"gridwidth\":2},\"zaxis\":{\"backgroundcolor\":\"rgb(17,17,17)\",\"gridcolor\":\"#506784\",\"linecolor\":\"#506784\",\"showbackground\":true,\"ticks\":\"\",\"zerolinecolor\":\"#C8D4E3\",\"gridwidth\":2}},\"shapedefaults\":{\"line\":{\"color\":\"#f2f5fa\"}},\"annotationdefaults\":{\"arrowcolor\":\"#f2f5fa\",\"arrowhead\":0,\"arrowwidth\":1},\"geo\":{\"bgcolor\":\"rgb(17,17,17)\",\"landcolor\":\"rgb(17,17,17)\",\"subunitcolor\":\"#506784\",\"showland\":true,\"showlakes\":true,\"lakecolor\":\"rgb(17,17,17)\"},\"title\":{\"x\":0.05},\"updatemenudefaults\":{\"bgcolor\":\"#506784\",\"borderwidth\":0},\"sliderdefaults\":{\"bgcolor\":\"#C8D4E3\",\"borderwidth\":1,\"bordercolor\":\"rgb(17,17,17)\",\"tickwidth\":0},\"mapbox\":{\"style\":\"dark\"}}},\"xaxis\":{\"anchor\":\"y\",\"domain\":[0.0,1.0],\"title\":{\"text\":\"Job\"}},\"yaxis\":{\"anchor\":\"x\",\"domain\":[0.0,1.0],\"title\":{\"text\":\"count\"}},\"legend\":{\"tracegroupgap\":0},\"title\":{\"text\":\"Job distribution\"},\"barmode\":\"relative\"},                        {\"responsive\": true}                    ).then(function(){\n                            \nvar gd = document.getElementById('845d33c4-af44-4ad1-92b6-32452be7b85c');\nvar x = new MutationObserver(function (mutations, observer) {{\n        var display = window.getComputedStyle(gd).display;\n        if (!display || display === 'none') {{\n            console.log([gd, 'removed!']);\n            Plotly.purge(gd);\n            observer.disconnect();\n        }}\n}});\n\n// Listen for the removal of the full notebook cells\nvar notebookContainer = gd.closest('#notebook-container');\nif (notebookContainer) {{\n    x.observe(notebookContainer, {childList: true});\n}}\n\n// Listen for the clearing of the current output cell\nvar outputEl = gd.closest('.output');\nif (outputEl) {{\n    x.observe(outputEl, {childList: true});\n}}\n\n                        })                };                });            </script>        </div>"
     },
     "metadata": {},
     "output_type": "display_data"
    },
    {
     "data": {
      "application/vnd.plotly.v1+json": {
       "data": [
        {
         "alignmentgroup": "True",
         "hovertemplate": "x=%{x}<br>y=%{y}<extra></extra>",
         "legendgroup": "",
         "marker": {
          "color": "#636efa",
          "pattern": {
           "shape": ""
          }
         },
         "name": "",
         "offsetgroup": "",
         "orientation": "v",
         "showlegend": false,
         "textposition": "auto",
         "x": [
          "own",
          "rent",
          "free"
         ],
         "xaxis": "x",
         "y": [
          713,
          179,
          108
         ],
         "yaxis": "y",
         "type": "bar"
        }
       ],
       "layout": {
        "template": {
         "data": {
          "histogram2dcontour": [
           {
            "type": "histogram2dcontour",
            "colorbar": {
             "outlinewidth": 0,
             "ticks": ""
            },
            "colorscale": [
             [
              0.0,
              "#0d0887"
             ],
             [
              0.1111111111111111,
              "#46039f"
             ],
             [
              0.2222222222222222,
              "#7201a8"
             ],
             [
              0.3333333333333333,
              "#9c179e"
             ],
             [
              0.4444444444444444,
              "#bd3786"
             ],
             [
              0.5555555555555556,
              "#d8576b"
             ],
             [
              0.6666666666666666,
              "#ed7953"
             ],
             [
              0.7777777777777778,
              "#fb9f3a"
             ],
             [
              0.8888888888888888,
              "#fdca26"
             ],
             [
              1.0,
              "#f0f921"
             ]
            ]
           }
          ],
          "choropleth": [
           {
            "type": "choropleth",
            "colorbar": {
             "outlinewidth": 0,
             "ticks": ""
            }
           }
          ],
          "histogram2d": [
           {
            "type": "histogram2d",
            "colorbar": {
             "outlinewidth": 0,
             "ticks": ""
            },
            "colorscale": [
             [
              0.0,
              "#0d0887"
             ],
             [
              0.1111111111111111,
              "#46039f"
             ],
             [
              0.2222222222222222,
              "#7201a8"
             ],
             [
              0.3333333333333333,
              "#9c179e"
             ],
             [
              0.4444444444444444,
              "#bd3786"
             ],
             [
              0.5555555555555556,
              "#d8576b"
             ],
             [
              0.6666666666666666,
              "#ed7953"
             ],
             [
              0.7777777777777778,
              "#fb9f3a"
             ],
             [
              0.8888888888888888,
              "#fdca26"
             ],
             [
              1.0,
              "#f0f921"
             ]
            ]
           }
          ],
          "heatmap": [
           {
            "type": "heatmap",
            "colorbar": {
             "outlinewidth": 0,
             "ticks": ""
            },
            "colorscale": [
             [
              0.0,
              "#0d0887"
             ],
             [
              0.1111111111111111,
              "#46039f"
             ],
             [
              0.2222222222222222,
              "#7201a8"
             ],
             [
              0.3333333333333333,
              "#9c179e"
             ],
             [
              0.4444444444444444,
              "#bd3786"
             ],
             [
              0.5555555555555556,
              "#d8576b"
             ],
             [
              0.6666666666666666,
              "#ed7953"
             ],
             [
              0.7777777777777778,
              "#fb9f3a"
             ],
             [
              0.8888888888888888,
              "#fdca26"
             ],
             [
              1.0,
              "#f0f921"
             ]
            ]
           }
          ],
          "heatmapgl": [
           {
            "type": "heatmapgl",
            "colorbar": {
             "outlinewidth": 0,
             "ticks": ""
            },
            "colorscale": [
             [
              0.0,
              "#0d0887"
             ],
             [
              0.1111111111111111,
              "#46039f"
             ],
             [
              0.2222222222222222,
              "#7201a8"
             ],
             [
              0.3333333333333333,
              "#9c179e"
             ],
             [
              0.4444444444444444,
              "#bd3786"
             ],
             [
              0.5555555555555556,
              "#d8576b"
             ],
             [
              0.6666666666666666,
              "#ed7953"
             ],
             [
              0.7777777777777778,
              "#fb9f3a"
             ],
             [
              0.8888888888888888,
              "#fdca26"
             ],
             [
              1.0,
              "#f0f921"
             ]
            ]
           }
          ],
          "contourcarpet": [
           {
            "type": "contourcarpet",
            "colorbar": {
             "outlinewidth": 0,
             "ticks": ""
            }
           }
          ],
          "contour": [
           {
            "type": "contour",
            "colorbar": {
             "outlinewidth": 0,
             "ticks": ""
            },
            "colorscale": [
             [
              0.0,
              "#0d0887"
             ],
             [
              0.1111111111111111,
              "#46039f"
             ],
             [
              0.2222222222222222,
              "#7201a8"
             ],
             [
              0.3333333333333333,
              "#9c179e"
             ],
             [
              0.4444444444444444,
              "#bd3786"
             ],
             [
              0.5555555555555556,
              "#d8576b"
             ],
             [
              0.6666666666666666,
              "#ed7953"
             ],
             [
              0.7777777777777778,
              "#fb9f3a"
             ],
             [
              0.8888888888888888,
              "#fdca26"
             ],
             [
              1.0,
              "#f0f921"
             ]
            ]
           }
          ],
          "surface": [
           {
            "type": "surface",
            "colorbar": {
             "outlinewidth": 0,
             "ticks": ""
            },
            "colorscale": [
             [
              0.0,
              "#0d0887"
             ],
             [
              0.1111111111111111,
              "#46039f"
             ],
             [
              0.2222222222222222,
              "#7201a8"
             ],
             [
              0.3333333333333333,
              "#9c179e"
             ],
             [
              0.4444444444444444,
              "#bd3786"
             ],
             [
              0.5555555555555556,
              "#d8576b"
             ],
             [
              0.6666666666666666,
              "#ed7953"
             ],
             [
              0.7777777777777778,
              "#fb9f3a"
             ],
             [
              0.8888888888888888,
              "#fdca26"
             ],
             [
              1.0,
              "#f0f921"
             ]
            ]
           }
          ],
          "mesh3d": [
           {
            "type": "mesh3d",
            "colorbar": {
             "outlinewidth": 0,
             "ticks": ""
            }
           }
          ],
          "scatter": [
           {
            "marker": {
             "line": {
              "color": "#283442"
             }
            },
            "type": "scatter"
           }
          ],
          "parcoords": [
           {
            "type": "parcoords",
            "line": {
             "colorbar": {
              "outlinewidth": 0,
              "ticks": ""
             }
            }
           }
          ],
          "scatterpolargl": [
           {
            "type": "scatterpolargl",
            "marker": {
             "colorbar": {
              "outlinewidth": 0,
              "ticks": ""
             }
            }
           }
          ],
          "bar": [
           {
            "error_x": {
             "color": "#f2f5fa"
            },
            "error_y": {
             "color": "#f2f5fa"
            },
            "marker": {
             "line": {
              "color": "rgb(17,17,17)",
              "width": 0.5
             },
             "pattern": {
              "fillmode": "overlay",
              "size": 10,
              "solidity": 0.2
             }
            },
            "type": "bar"
           }
          ],
          "scattergeo": [
           {
            "type": "scattergeo",
            "marker": {
             "colorbar": {
              "outlinewidth": 0,
              "ticks": ""
             }
            }
           }
          ],
          "scatterpolar": [
           {
            "type": "scatterpolar",
            "marker": {
             "colorbar": {
              "outlinewidth": 0,
              "ticks": ""
             }
            }
           }
          ],
          "histogram": [
           {
            "marker": {
             "pattern": {
              "fillmode": "overlay",
              "size": 10,
              "solidity": 0.2
             }
            },
            "type": "histogram"
           }
          ],
          "scattergl": [
           {
            "marker": {
             "line": {
              "color": "#283442"
             }
            },
            "type": "scattergl"
           }
          ],
          "scatter3d": [
           {
            "type": "scatter3d",
            "line": {
             "colorbar": {
              "outlinewidth": 0,
              "ticks": ""
             }
            },
            "marker": {
             "colorbar": {
              "outlinewidth": 0,
              "ticks": ""
             }
            }
           }
          ],
          "scattermapbox": [
           {
            "type": "scattermapbox",
            "marker": {
             "colorbar": {
              "outlinewidth": 0,
              "ticks": ""
             }
            }
           }
          ],
          "scatterternary": [
           {
            "type": "scatterternary",
            "marker": {
             "colorbar": {
              "outlinewidth": 0,
              "ticks": ""
             }
            }
           }
          ],
          "scattercarpet": [
           {
            "type": "scattercarpet",
            "marker": {
             "colorbar": {
              "outlinewidth": 0,
              "ticks": ""
             }
            }
           }
          ],
          "carpet": [
           {
            "aaxis": {
             "endlinecolor": "#A2B1C6",
             "gridcolor": "#506784",
             "linecolor": "#506784",
             "minorgridcolor": "#506784",
             "startlinecolor": "#A2B1C6"
            },
            "baxis": {
             "endlinecolor": "#A2B1C6",
             "gridcolor": "#506784",
             "linecolor": "#506784",
             "minorgridcolor": "#506784",
             "startlinecolor": "#A2B1C6"
            },
            "type": "carpet"
           }
          ],
          "table": [
           {
            "cells": {
             "fill": {
              "color": "#506784"
             },
             "line": {
              "color": "rgb(17,17,17)"
             }
            },
            "header": {
             "fill": {
              "color": "#2a3f5f"
             },
             "line": {
              "color": "rgb(17,17,17)"
             }
            },
            "type": "table"
           }
          ],
          "barpolar": [
           {
            "marker": {
             "line": {
              "color": "rgb(17,17,17)",
              "width": 0.5
             },
             "pattern": {
              "fillmode": "overlay",
              "size": 10,
              "solidity": 0.2
             }
            },
            "type": "barpolar"
           }
          ],
          "pie": [
           {
            "automargin": true,
            "type": "pie"
           }
          ]
         },
         "layout": {
          "autotypenumbers": "strict",
          "colorway": [
           "#636efa",
           "#EF553B",
           "#00cc96",
           "#ab63fa",
           "#FFA15A",
           "#19d3f3",
           "#FF6692",
           "#B6E880",
           "#FF97FF",
           "#FECB52"
          ],
          "font": {
           "color": "#f2f5fa"
          },
          "hovermode": "closest",
          "hoverlabel": {
           "align": "left"
          },
          "paper_bgcolor": "rgb(17,17,17)",
          "plot_bgcolor": "rgb(17,17,17)",
          "polar": {
           "bgcolor": "rgb(17,17,17)",
           "angularaxis": {
            "gridcolor": "#506784",
            "linecolor": "#506784",
            "ticks": ""
           },
           "radialaxis": {
            "gridcolor": "#506784",
            "linecolor": "#506784",
            "ticks": ""
           }
          },
          "ternary": {
           "bgcolor": "rgb(17,17,17)",
           "aaxis": {
            "gridcolor": "#506784",
            "linecolor": "#506784",
            "ticks": ""
           },
           "baxis": {
            "gridcolor": "#506784",
            "linecolor": "#506784",
            "ticks": ""
           },
           "caxis": {
            "gridcolor": "#506784",
            "linecolor": "#506784",
            "ticks": ""
           }
          },
          "coloraxis": {
           "colorbar": {
            "outlinewidth": 0,
            "ticks": ""
           }
          },
          "colorscale": {
           "sequential": [
            [
             0.0,
             "#0d0887"
            ],
            [
             0.1111111111111111,
             "#46039f"
            ],
            [
             0.2222222222222222,
             "#7201a8"
            ],
            [
             0.3333333333333333,
             "#9c179e"
            ],
            [
             0.4444444444444444,
             "#bd3786"
            ],
            [
             0.5555555555555556,
             "#d8576b"
            ],
            [
             0.6666666666666666,
             "#ed7953"
            ],
            [
             0.7777777777777778,
             "#fb9f3a"
            ],
            [
             0.8888888888888888,
             "#fdca26"
            ],
            [
             1.0,
             "#f0f921"
            ]
           ],
           "sequentialminus": [
            [
             0.0,
             "#0d0887"
            ],
            [
             0.1111111111111111,
             "#46039f"
            ],
            [
             0.2222222222222222,
             "#7201a8"
            ],
            [
             0.3333333333333333,
             "#9c179e"
            ],
            [
             0.4444444444444444,
             "#bd3786"
            ],
            [
             0.5555555555555556,
             "#d8576b"
            ],
            [
             0.6666666666666666,
             "#ed7953"
            ],
            [
             0.7777777777777778,
             "#fb9f3a"
            ],
            [
             0.8888888888888888,
             "#fdca26"
            ],
            [
             1.0,
             "#f0f921"
            ]
           ],
           "diverging": [
            [
             0,
             "#8e0152"
            ],
            [
             0.1,
             "#c51b7d"
            ],
            [
             0.2,
             "#de77ae"
            ],
            [
             0.3,
             "#f1b6da"
            ],
            [
             0.4,
             "#fde0ef"
            ],
            [
             0.5,
             "#f7f7f7"
            ],
            [
             0.6,
             "#e6f5d0"
            ],
            [
             0.7,
             "#b8e186"
            ],
            [
             0.8,
             "#7fbc41"
            ],
            [
             0.9,
             "#4d9221"
            ],
            [
             1,
             "#276419"
            ]
           ]
          },
          "xaxis": {
           "gridcolor": "#283442",
           "linecolor": "#506784",
           "ticks": "",
           "title": {
            "standoff": 15
           },
           "zerolinecolor": "#283442",
           "automargin": true,
           "zerolinewidth": 2
          },
          "yaxis": {
           "gridcolor": "#283442",
           "linecolor": "#506784",
           "ticks": "",
           "title": {
            "standoff": 15
           },
           "zerolinecolor": "#283442",
           "automargin": true,
           "zerolinewidth": 2
          },
          "scene": {
           "xaxis": {
            "backgroundcolor": "rgb(17,17,17)",
            "gridcolor": "#506784",
            "linecolor": "#506784",
            "showbackground": true,
            "ticks": "",
            "zerolinecolor": "#C8D4E3",
            "gridwidth": 2
           },
           "yaxis": {
            "backgroundcolor": "rgb(17,17,17)",
            "gridcolor": "#506784",
            "linecolor": "#506784",
            "showbackground": true,
            "ticks": "",
            "zerolinecolor": "#C8D4E3",
            "gridwidth": 2
           },
           "zaxis": {
            "backgroundcolor": "rgb(17,17,17)",
            "gridcolor": "#506784",
            "linecolor": "#506784",
            "showbackground": true,
            "ticks": "",
            "zerolinecolor": "#C8D4E3",
            "gridwidth": 2
           }
          },
          "shapedefaults": {
           "line": {
            "color": "#f2f5fa"
           }
          },
          "annotationdefaults": {
           "arrowcolor": "#f2f5fa",
           "arrowhead": 0,
           "arrowwidth": 1
          },
          "geo": {
           "bgcolor": "rgb(17,17,17)",
           "landcolor": "rgb(17,17,17)",
           "subunitcolor": "#506784",
           "showland": true,
           "showlakes": true,
           "lakecolor": "rgb(17,17,17)"
          },
          "title": {
           "x": 0.05
          },
          "updatemenudefaults": {
           "bgcolor": "#506784",
           "borderwidth": 0
          },
          "sliderdefaults": {
           "bgcolor": "#C8D4E3",
           "borderwidth": 1,
           "bordercolor": "rgb(17,17,17)",
           "tickwidth": 0
          },
          "mapbox": {
           "style": "dark"
          }
         }
        },
        "xaxis": {
         "anchor": "y",
         "domain": [
          0.0,
          1.0
         ],
         "title": {
          "text": "x"
         },
         "categoryorder": "total descending"
        },
        "yaxis": {
         "anchor": "x",
         "domain": [
          0.0,
          1.0
         ],
         "title": {
          "text": "y"
         }
        },
        "legend": {
         "tracegroupgap": 0
        },
        "title": {
         "text": "Housing word cloud"
        },
        "barmode": "relative"
       },
       "config": {
        "plotlyServerURL": "https://plot.ly"
       }
      },
      "text/html": "<div>                            <div id=\"7fb121f8-503c-41ea-a7ea-d0a346690a49\" class=\"plotly-graph-div\" style=\"height:525px; width:100%;\"></div>            <script type=\"text/javascript\">                require([\"plotly\"], function(Plotly) {                    window.PLOTLYENV=window.PLOTLYENV || {};                                    if (document.getElementById(\"7fb121f8-503c-41ea-a7ea-d0a346690a49\")) {                    Plotly.newPlot(                        \"7fb121f8-503c-41ea-a7ea-d0a346690a49\",                        [{\"alignmentgroup\":\"True\",\"hovertemplate\":\"x=%{x}<br>y=%{y}<extra></extra>\",\"legendgroup\":\"\",\"marker\":{\"color\":\"#636efa\",\"pattern\":{\"shape\":\"\"}},\"name\":\"\",\"offsetgroup\":\"\",\"orientation\":\"v\",\"showlegend\":false,\"textposition\":\"auto\",\"x\":[\"own\",\"rent\",\"free\"],\"xaxis\":\"x\",\"y\":[713,179,108],\"yaxis\":\"y\",\"type\":\"bar\"}],                        {\"template\":{\"data\":{\"histogram2dcontour\":[{\"type\":\"histogram2dcontour\",\"colorbar\":{\"outlinewidth\":0,\"ticks\":\"\"},\"colorscale\":[[0.0,\"#0d0887\"],[0.1111111111111111,\"#46039f\"],[0.2222222222222222,\"#7201a8\"],[0.3333333333333333,\"#9c179e\"],[0.4444444444444444,\"#bd3786\"],[0.5555555555555556,\"#d8576b\"],[0.6666666666666666,\"#ed7953\"],[0.7777777777777778,\"#fb9f3a\"],[0.8888888888888888,\"#fdca26\"],[1.0,\"#f0f921\"]]}],\"choropleth\":[{\"type\":\"choropleth\",\"colorbar\":{\"outlinewidth\":0,\"ticks\":\"\"}}],\"histogram2d\":[{\"type\":\"histogram2d\",\"colorbar\":{\"outlinewidth\":0,\"ticks\":\"\"},\"colorscale\":[[0.0,\"#0d0887\"],[0.1111111111111111,\"#46039f\"],[0.2222222222222222,\"#7201a8\"],[0.3333333333333333,\"#9c179e\"],[0.4444444444444444,\"#bd3786\"],[0.5555555555555556,\"#d8576b\"],[0.6666666666666666,\"#ed7953\"],[0.7777777777777778,\"#fb9f3a\"],[0.8888888888888888,\"#fdca26\"],[1.0,\"#f0f921\"]]}],\"heatmap\":[{\"type\":\"heatmap\",\"colorbar\":{\"outlinewidth\":0,\"ticks\":\"\"},\"colorscale\":[[0.0,\"#0d0887\"],[0.1111111111111111,\"#46039f\"],[0.2222222222222222,\"#7201a8\"],[0.3333333333333333,\"#9c179e\"],[0.4444444444444444,\"#bd3786\"],[0.5555555555555556,\"#d8576b\"],[0.6666666666666666,\"#ed7953\"],[0.7777777777777778,\"#fb9f3a\"],[0.8888888888888888,\"#fdca26\"],[1.0,\"#f0f921\"]]}],\"heatmapgl\":[{\"type\":\"heatmapgl\",\"colorbar\":{\"outlinewidth\":0,\"ticks\":\"\"},\"colorscale\":[[0.0,\"#0d0887\"],[0.1111111111111111,\"#46039f\"],[0.2222222222222222,\"#7201a8\"],[0.3333333333333333,\"#9c179e\"],[0.4444444444444444,\"#bd3786\"],[0.5555555555555556,\"#d8576b\"],[0.6666666666666666,\"#ed7953\"],[0.7777777777777778,\"#fb9f3a\"],[0.8888888888888888,\"#fdca26\"],[1.0,\"#f0f921\"]]}],\"contourcarpet\":[{\"type\":\"contourcarpet\",\"colorbar\":{\"outlinewidth\":0,\"ticks\":\"\"}}],\"contour\":[{\"type\":\"contour\",\"colorbar\":{\"outlinewidth\":0,\"ticks\":\"\"},\"colorscale\":[[0.0,\"#0d0887\"],[0.1111111111111111,\"#46039f\"],[0.2222222222222222,\"#7201a8\"],[0.3333333333333333,\"#9c179e\"],[0.4444444444444444,\"#bd3786\"],[0.5555555555555556,\"#d8576b\"],[0.6666666666666666,\"#ed7953\"],[0.7777777777777778,\"#fb9f3a\"],[0.8888888888888888,\"#fdca26\"],[1.0,\"#f0f921\"]]}],\"surface\":[{\"type\":\"surface\",\"colorbar\":{\"outlinewidth\":0,\"ticks\":\"\"},\"colorscale\":[[0.0,\"#0d0887\"],[0.1111111111111111,\"#46039f\"],[0.2222222222222222,\"#7201a8\"],[0.3333333333333333,\"#9c179e\"],[0.4444444444444444,\"#bd3786\"],[0.5555555555555556,\"#d8576b\"],[0.6666666666666666,\"#ed7953\"],[0.7777777777777778,\"#fb9f3a\"],[0.8888888888888888,\"#fdca26\"],[1.0,\"#f0f921\"]]}],\"mesh3d\":[{\"type\":\"mesh3d\",\"colorbar\":{\"outlinewidth\":0,\"ticks\":\"\"}}],\"scatter\":[{\"marker\":{\"line\":{\"color\":\"#283442\"}},\"type\":\"scatter\"}],\"parcoords\":[{\"type\":\"parcoords\",\"line\":{\"colorbar\":{\"outlinewidth\":0,\"ticks\":\"\"}}}],\"scatterpolargl\":[{\"type\":\"scatterpolargl\",\"marker\":{\"colorbar\":{\"outlinewidth\":0,\"ticks\":\"\"}}}],\"bar\":[{\"error_x\":{\"color\":\"#f2f5fa\"},\"error_y\":{\"color\":\"#f2f5fa\"},\"marker\":{\"line\":{\"color\":\"rgb(17,17,17)\",\"width\":0.5},\"pattern\":{\"fillmode\":\"overlay\",\"size\":10,\"solidity\":0.2}},\"type\":\"bar\"}],\"scattergeo\":[{\"type\":\"scattergeo\",\"marker\":{\"colorbar\":{\"outlinewidth\":0,\"ticks\":\"\"}}}],\"scatterpolar\":[{\"type\":\"scatterpolar\",\"marker\":{\"colorbar\":{\"outlinewidth\":0,\"ticks\":\"\"}}}],\"histogram\":[{\"marker\":{\"pattern\":{\"fillmode\":\"overlay\",\"size\":10,\"solidity\":0.2}},\"type\":\"histogram\"}],\"scattergl\":[{\"marker\":{\"line\":{\"color\":\"#283442\"}},\"type\":\"scattergl\"}],\"scatter3d\":[{\"type\":\"scatter3d\",\"line\":{\"colorbar\":{\"outlinewidth\":0,\"ticks\":\"\"}},\"marker\":{\"colorbar\":{\"outlinewidth\":0,\"ticks\":\"\"}}}],\"scattermapbox\":[{\"type\":\"scattermapbox\",\"marker\":{\"colorbar\":{\"outlinewidth\":0,\"ticks\":\"\"}}}],\"scatterternary\":[{\"type\":\"scatterternary\",\"marker\":{\"colorbar\":{\"outlinewidth\":0,\"ticks\":\"\"}}}],\"scattercarpet\":[{\"type\":\"scattercarpet\",\"marker\":{\"colorbar\":{\"outlinewidth\":0,\"ticks\":\"\"}}}],\"carpet\":[{\"aaxis\":{\"endlinecolor\":\"#A2B1C6\",\"gridcolor\":\"#506784\",\"linecolor\":\"#506784\",\"minorgridcolor\":\"#506784\",\"startlinecolor\":\"#A2B1C6\"},\"baxis\":{\"endlinecolor\":\"#A2B1C6\",\"gridcolor\":\"#506784\",\"linecolor\":\"#506784\",\"minorgridcolor\":\"#506784\",\"startlinecolor\":\"#A2B1C6\"},\"type\":\"carpet\"}],\"table\":[{\"cells\":{\"fill\":{\"color\":\"#506784\"},\"line\":{\"color\":\"rgb(17,17,17)\"}},\"header\":{\"fill\":{\"color\":\"#2a3f5f\"},\"line\":{\"color\":\"rgb(17,17,17)\"}},\"type\":\"table\"}],\"barpolar\":[{\"marker\":{\"line\":{\"color\":\"rgb(17,17,17)\",\"width\":0.5},\"pattern\":{\"fillmode\":\"overlay\",\"size\":10,\"solidity\":0.2}},\"type\":\"barpolar\"}],\"pie\":[{\"automargin\":true,\"type\":\"pie\"}]},\"layout\":{\"autotypenumbers\":\"strict\",\"colorway\":[\"#636efa\",\"#EF553B\",\"#00cc96\",\"#ab63fa\",\"#FFA15A\",\"#19d3f3\",\"#FF6692\",\"#B6E880\",\"#FF97FF\",\"#FECB52\"],\"font\":{\"color\":\"#f2f5fa\"},\"hovermode\":\"closest\",\"hoverlabel\":{\"align\":\"left\"},\"paper_bgcolor\":\"rgb(17,17,17)\",\"plot_bgcolor\":\"rgb(17,17,17)\",\"polar\":{\"bgcolor\":\"rgb(17,17,17)\",\"angularaxis\":{\"gridcolor\":\"#506784\",\"linecolor\":\"#506784\",\"ticks\":\"\"},\"radialaxis\":{\"gridcolor\":\"#506784\",\"linecolor\":\"#506784\",\"ticks\":\"\"}},\"ternary\":{\"bgcolor\":\"rgb(17,17,17)\",\"aaxis\":{\"gridcolor\":\"#506784\",\"linecolor\":\"#506784\",\"ticks\":\"\"},\"baxis\":{\"gridcolor\":\"#506784\",\"linecolor\":\"#506784\",\"ticks\":\"\"},\"caxis\":{\"gridcolor\":\"#506784\",\"linecolor\":\"#506784\",\"ticks\":\"\"}},\"coloraxis\":{\"colorbar\":{\"outlinewidth\":0,\"ticks\":\"\"}},\"colorscale\":{\"sequential\":[[0.0,\"#0d0887\"],[0.1111111111111111,\"#46039f\"],[0.2222222222222222,\"#7201a8\"],[0.3333333333333333,\"#9c179e\"],[0.4444444444444444,\"#bd3786\"],[0.5555555555555556,\"#d8576b\"],[0.6666666666666666,\"#ed7953\"],[0.7777777777777778,\"#fb9f3a\"],[0.8888888888888888,\"#fdca26\"],[1.0,\"#f0f921\"]],\"sequentialminus\":[[0.0,\"#0d0887\"],[0.1111111111111111,\"#46039f\"],[0.2222222222222222,\"#7201a8\"],[0.3333333333333333,\"#9c179e\"],[0.4444444444444444,\"#bd3786\"],[0.5555555555555556,\"#d8576b\"],[0.6666666666666666,\"#ed7953\"],[0.7777777777777778,\"#fb9f3a\"],[0.8888888888888888,\"#fdca26\"],[1.0,\"#f0f921\"]],\"diverging\":[[0,\"#8e0152\"],[0.1,\"#c51b7d\"],[0.2,\"#de77ae\"],[0.3,\"#f1b6da\"],[0.4,\"#fde0ef\"],[0.5,\"#f7f7f7\"],[0.6,\"#e6f5d0\"],[0.7,\"#b8e186\"],[0.8,\"#7fbc41\"],[0.9,\"#4d9221\"],[1,\"#276419\"]]},\"xaxis\":{\"gridcolor\":\"#283442\",\"linecolor\":\"#506784\",\"ticks\":\"\",\"title\":{\"standoff\":15},\"zerolinecolor\":\"#283442\",\"automargin\":true,\"zerolinewidth\":2},\"yaxis\":{\"gridcolor\":\"#283442\",\"linecolor\":\"#506784\",\"ticks\":\"\",\"title\":{\"standoff\":15},\"zerolinecolor\":\"#283442\",\"automargin\":true,\"zerolinewidth\":2},\"scene\":{\"xaxis\":{\"backgroundcolor\":\"rgb(17,17,17)\",\"gridcolor\":\"#506784\",\"linecolor\":\"#506784\",\"showbackground\":true,\"ticks\":\"\",\"zerolinecolor\":\"#C8D4E3\",\"gridwidth\":2},\"yaxis\":{\"backgroundcolor\":\"rgb(17,17,17)\",\"gridcolor\":\"#506784\",\"linecolor\":\"#506784\",\"showbackground\":true,\"ticks\":\"\",\"zerolinecolor\":\"#C8D4E3\",\"gridwidth\":2},\"zaxis\":{\"backgroundcolor\":\"rgb(17,17,17)\",\"gridcolor\":\"#506784\",\"linecolor\":\"#506784\",\"showbackground\":true,\"ticks\":\"\",\"zerolinecolor\":\"#C8D4E3\",\"gridwidth\":2}},\"shapedefaults\":{\"line\":{\"color\":\"#f2f5fa\"}},\"annotationdefaults\":{\"arrowcolor\":\"#f2f5fa\",\"arrowhead\":0,\"arrowwidth\":1},\"geo\":{\"bgcolor\":\"rgb(17,17,17)\",\"landcolor\":\"rgb(17,17,17)\",\"subunitcolor\":\"#506784\",\"showland\":true,\"showlakes\":true,\"lakecolor\":\"rgb(17,17,17)\"},\"title\":{\"x\":0.05},\"updatemenudefaults\":{\"bgcolor\":\"#506784\",\"borderwidth\":0},\"sliderdefaults\":{\"bgcolor\":\"#C8D4E3\",\"borderwidth\":1,\"bordercolor\":\"rgb(17,17,17)\",\"tickwidth\":0},\"mapbox\":{\"style\":\"dark\"}}},\"xaxis\":{\"anchor\":\"y\",\"domain\":[0.0,1.0],\"title\":{\"text\":\"x\"},\"categoryorder\":\"total descending\"},\"yaxis\":{\"anchor\":\"x\",\"domain\":[0.0,1.0],\"title\":{\"text\":\"y\"}},\"legend\":{\"tracegroupgap\":0},\"title\":{\"text\":\"Housing word cloud\"},\"barmode\":\"relative\"},                        {\"responsive\": true}                    ).then(function(){\n                            \nvar gd = document.getElementById('7fb121f8-503c-41ea-a7ea-d0a346690a49');\nvar x = new MutationObserver(function (mutations, observer) {{\n        var display = window.getComputedStyle(gd).display;\n        if (!display || display === 'none') {{\n            console.log([gd, 'removed!']);\n            Plotly.purge(gd);\n            observer.disconnect();\n        }}\n}});\n\n// Listen for the removal of the full notebook cells\nvar notebookContainer = gd.closest('#notebook-container');\nif (notebookContainer) {{\n    x.observe(notebookContainer, {childList: true});\n}}\n\n// Listen for the clearing of the current output cell\nvar outputEl = gd.closest('.output');\nif (outputEl) {{\n    x.observe(outputEl, {childList: true});\n}}\n\n                        })                };                });            </script>        </div>"
     },
     "metadata": {},
     "output_type": "display_data"
    },
    {
     "data": {
      "application/vnd.plotly.v1+json": {
       "data": [
        {
         "alignmentgroup": "True",
         "hovertemplate": "x=%{x}<br>y=%{y}<extra></extra>",
         "legendgroup": "",
         "marker": {
          "color": "#636efa",
          "pattern": {
           "shape": ""
          }
         },
         "name": "",
         "offsetgroup": "",
         "orientation": "v",
         "showlegend": false,
         "textposition": "auto",
         "x": [
          "little",
          "rich",
          "moderate",
          "quite"
         ],
         "xaxis": "x",
         "y": [
          603,
          111,
          103,
          63
         ],
         "yaxis": "y",
         "type": "bar"
        }
       ],
       "layout": {
        "template": {
         "data": {
          "histogram2dcontour": [
           {
            "type": "histogram2dcontour",
            "colorbar": {
             "outlinewidth": 0,
             "ticks": ""
            },
            "colorscale": [
             [
              0.0,
              "#0d0887"
             ],
             [
              0.1111111111111111,
              "#46039f"
             ],
             [
              0.2222222222222222,
              "#7201a8"
             ],
             [
              0.3333333333333333,
              "#9c179e"
             ],
             [
              0.4444444444444444,
              "#bd3786"
             ],
             [
              0.5555555555555556,
              "#d8576b"
             ],
             [
              0.6666666666666666,
              "#ed7953"
             ],
             [
              0.7777777777777778,
              "#fb9f3a"
             ],
             [
              0.8888888888888888,
              "#fdca26"
             ],
             [
              1.0,
              "#f0f921"
             ]
            ]
           }
          ],
          "choropleth": [
           {
            "type": "choropleth",
            "colorbar": {
             "outlinewidth": 0,
             "ticks": ""
            }
           }
          ],
          "histogram2d": [
           {
            "type": "histogram2d",
            "colorbar": {
             "outlinewidth": 0,
             "ticks": ""
            },
            "colorscale": [
             [
              0.0,
              "#0d0887"
             ],
             [
              0.1111111111111111,
              "#46039f"
             ],
             [
              0.2222222222222222,
              "#7201a8"
             ],
             [
              0.3333333333333333,
              "#9c179e"
             ],
             [
              0.4444444444444444,
              "#bd3786"
             ],
             [
              0.5555555555555556,
              "#d8576b"
             ],
             [
              0.6666666666666666,
              "#ed7953"
             ],
             [
              0.7777777777777778,
              "#fb9f3a"
             ],
             [
              0.8888888888888888,
              "#fdca26"
             ],
             [
              1.0,
              "#f0f921"
             ]
            ]
           }
          ],
          "heatmap": [
           {
            "type": "heatmap",
            "colorbar": {
             "outlinewidth": 0,
             "ticks": ""
            },
            "colorscale": [
             [
              0.0,
              "#0d0887"
             ],
             [
              0.1111111111111111,
              "#46039f"
             ],
             [
              0.2222222222222222,
              "#7201a8"
             ],
             [
              0.3333333333333333,
              "#9c179e"
             ],
             [
              0.4444444444444444,
              "#bd3786"
             ],
             [
              0.5555555555555556,
              "#d8576b"
             ],
             [
              0.6666666666666666,
              "#ed7953"
             ],
             [
              0.7777777777777778,
              "#fb9f3a"
             ],
             [
              0.8888888888888888,
              "#fdca26"
             ],
             [
              1.0,
              "#f0f921"
             ]
            ]
           }
          ],
          "heatmapgl": [
           {
            "type": "heatmapgl",
            "colorbar": {
             "outlinewidth": 0,
             "ticks": ""
            },
            "colorscale": [
             [
              0.0,
              "#0d0887"
             ],
             [
              0.1111111111111111,
              "#46039f"
             ],
             [
              0.2222222222222222,
              "#7201a8"
             ],
             [
              0.3333333333333333,
              "#9c179e"
             ],
             [
              0.4444444444444444,
              "#bd3786"
             ],
             [
              0.5555555555555556,
              "#d8576b"
             ],
             [
              0.6666666666666666,
              "#ed7953"
             ],
             [
              0.7777777777777778,
              "#fb9f3a"
             ],
             [
              0.8888888888888888,
              "#fdca26"
             ],
             [
              1.0,
              "#f0f921"
             ]
            ]
           }
          ],
          "contourcarpet": [
           {
            "type": "contourcarpet",
            "colorbar": {
             "outlinewidth": 0,
             "ticks": ""
            }
           }
          ],
          "contour": [
           {
            "type": "contour",
            "colorbar": {
             "outlinewidth": 0,
             "ticks": ""
            },
            "colorscale": [
             [
              0.0,
              "#0d0887"
             ],
             [
              0.1111111111111111,
              "#46039f"
             ],
             [
              0.2222222222222222,
              "#7201a8"
             ],
             [
              0.3333333333333333,
              "#9c179e"
             ],
             [
              0.4444444444444444,
              "#bd3786"
             ],
             [
              0.5555555555555556,
              "#d8576b"
             ],
             [
              0.6666666666666666,
              "#ed7953"
             ],
             [
              0.7777777777777778,
              "#fb9f3a"
             ],
             [
              0.8888888888888888,
              "#fdca26"
             ],
             [
              1.0,
              "#f0f921"
             ]
            ]
           }
          ],
          "surface": [
           {
            "type": "surface",
            "colorbar": {
             "outlinewidth": 0,
             "ticks": ""
            },
            "colorscale": [
             [
              0.0,
              "#0d0887"
             ],
             [
              0.1111111111111111,
              "#46039f"
             ],
             [
              0.2222222222222222,
              "#7201a8"
             ],
             [
              0.3333333333333333,
              "#9c179e"
             ],
             [
              0.4444444444444444,
              "#bd3786"
             ],
             [
              0.5555555555555556,
              "#d8576b"
             ],
             [
              0.6666666666666666,
              "#ed7953"
             ],
             [
              0.7777777777777778,
              "#fb9f3a"
             ],
             [
              0.8888888888888888,
              "#fdca26"
             ],
             [
              1.0,
              "#f0f921"
             ]
            ]
           }
          ],
          "mesh3d": [
           {
            "type": "mesh3d",
            "colorbar": {
             "outlinewidth": 0,
             "ticks": ""
            }
           }
          ],
          "scatter": [
           {
            "marker": {
             "line": {
              "color": "#283442"
             }
            },
            "type": "scatter"
           }
          ],
          "parcoords": [
           {
            "type": "parcoords",
            "line": {
             "colorbar": {
              "outlinewidth": 0,
              "ticks": ""
             }
            }
           }
          ],
          "scatterpolargl": [
           {
            "type": "scatterpolargl",
            "marker": {
             "colorbar": {
              "outlinewidth": 0,
              "ticks": ""
             }
            }
           }
          ],
          "bar": [
           {
            "error_x": {
             "color": "#f2f5fa"
            },
            "error_y": {
             "color": "#f2f5fa"
            },
            "marker": {
             "line": {
              "color": "rgb(17,17,17)",
              "width": 0.5
             },
             "pattern": {
              "fillmode": "overlay",
              "size": 10,
              "solidity": 0.2
             }
            },
            "type": "bar"
           }
          ],
          "scattergeo": [
           {
            "type": "scattergeo",
            "marker": {
             "colorbar": {
              "outlinewidth": 0,
              "ticks": ""
             }
            }
           }
          ],
          "scatterpolar": [
           {
            "type": "scatterpolar",
            "marker": {
             "colorbar": {
              "outlinewidth": 0,
              "ticks": ""
             }
            }
           }
          ],
          "histogram": [
           {
            "marker": {
             "pattern": {
              "fillmode": "overlay",
              "size": 10,
              "solidity": 0.2
             }
            },
            "type": "histogram"
           }
          ],
          "scattergl": [
           {
            "marker": {
             "line": {
              "color": "#283442"
             }
            },
            "type": "scattergl"
           }
          ],
          "scatter3d": [
           {
            "type": "scatter3d",
            "line": {
             "colorbar": {
              "outlinewidth": 0,
              "ticks": ""
             }
            },
            "marker": {
             "colorbar": {
              "outlinewidth": 0,
              "ticks": ""
             }
            }
           }
          ],
          "scattermapbox": [
           {
            "type": "scattermapbox",
            "marker": {
             "colorbar": {
              "outlinewidth": 0,
              "ticks": ""
             }
            }
           }
          ],
          "scatterternary": [
           {
            "type": "scatterternary",
            "marker": {
             "colorbar": {
              "outlinewidth": 0,
              "ticks": ""
             }
            }
           }
          ],
          "scattercarpet": [
           {
            "type": "scattercarpet",
            "marker": {
             "colorbar": {
              "outlinewidth": 0,
              "ticks": ""
             }
            }
           }
          ],
          "carpet": [
           {
            "aaxis": {
             "endlinecolor": "#A2B1C6",
             "gridcolor": "#506784",
             "linecolor": "#506784",
             "minorgridcolor": "#506784",
             "startlinecolor": "#A2B1C6"
            },
            "baxis": {
             "endlinecolor": "#A2B1C6",
             "gridcolor": "#506784",
             "linecolor": "#506784",
             "minorgridcolor": "#506784",
             "startlinecolor": "#A2B1C6"
            },
            "type": "carpet"
           }
          ],
          "table": [
           {
            "cells": {
             "fill": {
              "color": "#506784"
             },
             "line": {
              "color": "rgb(17,17,17)"
             }
            },
            "header": {
             "fill": {
              "color": "#2a3f5f"
             },
             "line": {
              "color": "rgb(17,17,17)"
             }
            },
            "type": "table"
           }
          ],
          "barpolar": [
           {
            "marker": {
             "line": {
              "color": "rgb(17,17,17)",
              "width": 0.5
             },
             "pattern": {
              "fillmode": "overlay",
              "size": 10,
              "solidity": 0.2
             }
            },
            "type": "barpolar"
           }
          ],
          "pie": [
           {
            "automargin": true,
            "type": "pie"
           }
          ]
         },
         "layout": {
          "autotypenumbers": "strict",
          "colorway": [
           "#636efa",
           "#EF553B",
           "#00cc96",
           "#ab63fa",
           "#FFA15A",
           "#19d3f3",
           "#FF6692",
           "#B6E880",
           "#FF97FF",
           "#FECB52"
          ],
          "font": {
           "color": "#f2f5fa"
          },
          "hovermode": "closest",
          "hoverlabel": {
           "align": "left"
          },
          "paper_bgcolor": "rgb(17,17,17)",
          "plot_bgcolor": "rgb(17,17,17)",
          "polar": {
           "bgcolor": "rgb(17,17,17)",
           "angularaxis": {
            "gridcolor": "#506784",
            "linecolor": "#506784",
            "ticks": ""
           },
           "radialaxis": {
            "gridcolor": "#506784",
            "linecolor": "#506784",
            "ticks": ""
           }
          },
          "ternary": {
           "bgcolor": "rgb(17,17,17)",
           "aaxis": {
            "gridcolor": "#506784",
            "linecolor": "#506784",
            "ticks": ""
           },
           "baxis": {
            "gridcolor": "#506784",
            "linecolor": "#506784",
            "ticks": ""
           },
           "caxis": {
            "gridcolor": "#506784",
            "linecolor": "#506784",
            "ticks": ""
           }
          },
          "coloraxis": {
           "colorbar": {
            "outlinewidth": 0,
            "ticks": ""
           }
          },
          "colorscale": {
           "sequential": [
            [
             0.0,
             "#0d0887"
            ],
            [
             0.1111111111111111,
             "#46039f"
            ],
            [
             0.2222222222222222,
             "#7201a8"
            ],
            [
             0.3333333333333333,
             "#9c179e"
            ],
            [
             0.4444444444444444,
             "#bd3786"
            ],
            [
             0.5555555555555556,
             "#d8576b"
            ],
            [
             0.6666666666666666,
             "#ed7953"
            ],
            [
             0.7777777777777778,
             "#fb9f3a"
            ],
            [
             0.8888888888888888,
             "#fdca26"
            ],
            [
             1.0,
             "#f0f921"
            ]
           ],
           "sequentialminus": [
            [
             0.0,
             "#0d0887"
            ],
            [
             0.1111111111111111,
             "#46039f"
            ],
            [
             0.2222222222222222,
             "#7201a8"
            ],
            [
             0.3333333333333333,
             "#9c179e"
            ],
            [
             0.4444444444444444,
             "#bd3786"
            ],
            [
             0.5555555555555556,
             "#d8576b"
            ],
            [
             0.6666666666666666,
             "#ed7953"
            ],
            [
             0.7777777777777778,
             "#fb9f3a"
            ],
            [
             0.8888888888888888,
             "#fdca26"
            ],
            [
             1.0,
             "#f0f921"
            ]
           ],
           "diverging": [
            [
             0,
             "#8e0152"
            ],
            [
             0.1,
             "#c51b7d"
            ],
            [
             0.2,
             "#de77ae"
            ],
            [
             0.3,
             "#f1b6da"
            ],
            [
             0.4,
             "#fde0ef"
            ],
            [
             0.5,
             "#f7f7f7"
            ],
            [
             0.6,
             "#e6f5d0"
            ],
            [
             0.7,
             "#b8e186"
            ],
            [
             0.8,
             "#7fbc41"
            ],
            [
             0.9,
             "#4d9221"
            ],
            [
             1,
             "#276419"
            ]
           ]
          },
          "xaxis": {
           "gridcolor": "#283442",
           "linecolor": "#506784",
           "ticks": "",
           "title": {
            "standoff": 15
           },
           "zerolinecolor": "#283442",
           "automargin": true,
           "zerolinewidth": 2
          },
          "yaxis": {
           "gridcolor": "#283442",
           "linecolor": "#506784",
           "ticks": "",
           "title": {
            "standoff": 15
           },
           "zerolinecolor": "#283442",
           "automargin": true,
           "zerolinewidth": 2
          },
          "scene": {
           "xaxis": {
            "backgroundcolor": "rgb(17,17,17)",
            "gridcolor": "#506784",
            "linecolor": "#506784",
            "showbackground": true,
            "ticks": "",
            "zerolinecolor": "#C8D4E3",
            "gridwidth": 2
           },
           "yaxis": {
            "backgroundcolor": "rgb(17,17,17)",
            "gridcolor": "#506784",
            "linecolor": "#506784",
            "showbackground": true,
            "ticks": "",
            "zerolinecolor": "#C8D4E3",
            "gridwidth": 2
           },
           "zaxis": {
            "backgroundcolor": "rgb(17,17,17)",
            "gridcolor": "#506784",
            "linecolor": "#506784",
            "showbackground": true,
            "ticks": "",
            "zerolinecolor": "#C8D4E3",
            "gridwidth": 2
           }
          },
          "shapedefaults": {
           "line": {
            "color": "#f2f5fa"
           }
          },
          "annotationdefaults": {
           "arrowcolor": "#f2f5fa",
           "arrowhead": 0,
           "arrowwidth": 1
          },
          "geo": {
           "bgcolor": "rgb(17,17,17)",
           "landcolor": "rgb(17,17,17)",
           "subunitcolor": "#506784",
           "showland": true,
           "showlakes": true,
           "lakecolor": "rgb(17,17,17)"
          },
          "title": {
           "x": 0.05
          },
          "updatemenudefaults": {
           "bgcolor": "#506784",
           "borderwidth": 0
          },
          "sliderdefaults": {
           "bgcolor": "#C8D4E3",
           "borderwidth": 1,
           "bordercolor": "rgb(17,17,17)",
           "tickwidth": 0
          },
          "mapbox": {
           "style": "dark"
          }
         }
        },
        "xaxis": {
         "anchor": "y",
         "domain": [
          0.0,
          1.0
         ],
         "title": {
          "text": "x"
         },
         "categoryorder": "total descending"
        },
        "yaxis": {
         "anchor": "x",
         "domain": [
          0.0,
          1.0
         ],
         "title": {
          "text": "y"
         }
        },
        "legend": {
         "tracegroupgap": 0
        },
        "title": {
         "text": "Saving accounts word cloud"
        },
        "barmode": "relative"
       },
       "config": {
        "plotlyServerURL": "https://plot.ly"
       }
      },
      "text/html": "<div>                            <div id=\"cc918a15-0136-4d8a-aa02-553232fbf535\" class=\"plotly-graph-div\" style=\"height:525px; width:100%;\"></div>            <script type=\"text/javascript\">                require([\"plotly\"], function(Plotly) {                    window.PLOTLYENV=window.PLOTLYENV || {};                                    if (document.getElementById(\"cc918a15-0136-4d8a-aa02-553232fbf535\")) {                    Plotly.newPlot(                        \"cc918a15-0136-4d8a-aa02-553232fbf535\",                        [{\"alignmentgroup\":\"True\",\"hovertemplate\":\"x=%{x}<br>y=%{y}<extra></extra>\",\"legendgroup\":\"\",\"marker\":{\"color\":\"#636efa\",\"pattern\":{\"shape\":\"\"}},\"name\":\"\",\"offsetgroup\":\"\",\"orientation\":\"v\",\"showlegend\":false,\"textposition\":\"auto\",\"x\":[\"little\",\"rich\",\"moderate\",\"quite\"],\"xaxis\":\"x\",\"y\":[603,111,103,63],\"yaxis\":\"y\",\"type\":\"bar\"}],                        {\"template\":{\"data\":{\"histogram2dcontour\":[{\"type\":\"histogram2dcontour\",\"colorbar\":{\"outlinewidth\":0,\"ticks\":\"\"},\"colorscale\":[[0.0,\"#0d0887\"],[0.1111111111111111,\"#46039f\"],[0.2222222222222222,\"#7201a8\"],[0.3333333333333333,\"#9c179e\"],[0.4444444444444444,\"#bd3786\"],[0.5555555555555556,\"#d8576b\"],[0.6666666666666666,\"#ed7953\"],[0.7777777777777778,\"#fb9f3a\"],[0.8888888888888888,\"#fdca26\"],[1.0,\"#f0f921\"]]}],\"choropleth\":[{\"type\":\"choropleth\",\"colorbar\":{\"outlinewidth\":0,\"ticks\":\"\"}}],\"histogram2d\":[{\"type\":\"histogram2d\",\"colorbar\":{\"outlinewidth\":0,\"ticks\":\"\"},\"colorscale\":[[0.0,\"#0d0887\"],[0.1111111111111111,\"#46039f\"],[0.2222222222222222,\"#7201a8\"],[0.3333333333333333,\"#9c179e\"],[0.4444444444444444,\"#bd3786\"],[0.5555555555555556,\"#d8576b\"],[0.6666666666666666,\"#ed7953\"],[0.7777777777777778,\"#fb9f3a\"],[0.8888888888888888,\"#fdca26\"],[1.0,\"#f0f921\"]]}],\"heatmap\":[{\"type\":\"heatmap\",\"colorbar\":{\"outlinewidth\":0,\"ticks\":\"\"},\"colorscale\":[[0.0,\"#0d0887\"],[0.1111111111111111,\"#46039f\"],[0.2222222222222222,\"#7201a8\"],[0.3333333333333333,\"#9c179e\"],[0.4444444444444444,\"#bd3786\"],[0.5555555555555556,\"#d8576b\"],[0.6666666666666666,\"#ed7953\"],[0.7777777777777778,\"#fb9f3a\"],[0.8888888888888888,\"#fdca26\"],[1.0,\"#f0f921\"]]}],\"heatmapgl\":[{\"type\":\"heatmapgl\",\"colorbar\":{\"outlinewidth\":0,\"ticks\":\"\"},\"colorscale\":[[0.0,\"#0d0887\"],[0.1111111111111111,\"#46039f\"],[0.2222222222222222,\"#7201a8\"],[0.3333333333333333,\"#9c179e\"],[0.4444444444444444,\"#bd3786\"],[0.5555555555555556,\"#d8576b\"],[0.6666666666666666,\"#ed7953\"],[0.7777777777777778,\"#fb9f3a\"],[0.8888888888888888,\"#fdca26\"],[1.0,\"#f0f921\"]]}],\"contourcarpet\":[{\"type\":\"contourcarpet\",\"colorbar\":{\"outlinewidth\":0,\"ticks\":\"\"}}],\"contour\":[{\"type\":\"contour\",\"colorbar\":{\"outlinewidth\":0,\"ticks\":\"\"},\"colorscale\":[[0.0,\"#0d0887\"],[0.1111111111111111,\"#46039f\"],[0.2222222222222222,\"#7201a8\"],[0.3333333333333333,\"#9c179e\"],[0.4444444444444444,\"#bd3786\"],[0.5555555555555556,\"#d8576b\"],[0.6666666666666666,\"#ed7953\"],[0.7777777777777778,\"#fb9f3a\"],[0.8888888888888888,\"#fdca26\"],[1.0,\"#f0f921\"]]}],\"surface\":[{\"type\":\"surface\",\"colorbar\":{\"outlinewidth\":0,\"ticks\":\"\"},\"colorscale\":[[0.0,\"#0d0887\"],[0.1111111111111111,\"#46039f\"],[0.2222222222222222,\"#7201a8\"],[0.3333333333333333,\"#9c179e\"],[0.4444444444444444,\"#bd3786\"],[0.5555555555555556,\"#d8576b\"],[0.6666666666666666,\"#ed7953\"],[0.7777777777777778,\"#fb9f3a\"],[0.8888888888888888,\"#fdca26\"],[1.0,\"#f0f921\"]]}],\"mesh3d\":[{\"type\":\"mesh3d\",\"colorbar\":{\"outlinewidth\":0,\"ticks\":\"\"}}],\"scatter\":[{\"marker\":{\"line\":{\"color\":\"#283442\"}},\"type\":\"scatter\"}],\"parcoords\":[{\"type\":\"parcoords\",\"line\":{\"colorbar\":{\"outlinewidth\":0,\"ticks\":\"\"}}}],\"scatterpolargl\":[{\"type\":\"scatterpolargl\",\"marker\":{\"colorbar\":{\"outlinewidth\":0,\"ticks\":\"\"}}}],\"bar\":[{\"error_x\":{\"color\":\"#f2f5fa\"},\"error_y\":{\"color\":\"#f2f5fa\"},\"marker\":{\"line\":{\"color\":\"rgb(17,17,17)\",\"width\":0.5},\"pattern\":{\"fillmode\":\"overlay\",\"size\":10,\"solidity\":0.2}},\"type\":\"bar\"}],\"scattergeo\":[{\"type\":\"scattergeo\",\"marker\":{\"colorbar\":{\"outlinewidth\":0,\"ticks\":\"\"}}}],\"scatterpolar\":[{\"type\":\"scatterpolar\",\"marker\":{\"colorbar\":{\"outlinewidth\":0,\"ticks\":\"\"}}}],\"histogram\":[{\"marker\":{\"pattern\":{\"fillmode\":\"overlay\",\"size\":10,\"solidity\":0.2}},\"type\":\"histogram\"}],\"scattergl\":[{\"marker\":{\"line\":{\"color\":\"#283442\"}},\"type\":\"scattergl\"}],\"scatter3d\":[{\"type\":\"scatter3d\",\"line\":{\"colorbar\":{\"outlinewidth\":0,\"ticks\":\"\"}},\"marker\":{\"colorbar\":{\"outlinewidth\":0,\"ticks\":\"\"}}}],\"scattermapbox\":[{\"type\":\"scattermapbox\",\"marker\":{\"colorbar\":{\"outlinewidth\":0,\"ticks\":\"\"}}}],\"scatterternary\":[{\"type\":\"scatterternary\",\"marker\":{\"colorbar\":{\"outlinewidth\":0,\"ticks\":\"\"}}}],\"scattercarpet\":[{\"type\":\"scattercarpet\",\"marker\":{\"colorbar\":{\"outlinewidth\":0,\"ticks\":\"\"}}}],\"carpet\":[{\"aaxis\":{\"endlinecolor\":\"#A2B1C6\",\"gridcolor\":\"#506784\",\"linecolor\":\"#506784\",\"minorgridcolor\":\"#506784\",\"startlinecolor\":\"#A2B1C6\"},\"baxis\":{\"endlinecolor\":\"#A2B1C6\",\"gridcolor\":\"#506784\",\"linecolor\":\"#506784\",\"minorgridcolor\":\"#506784\",\"startlinecolor\":\"#A2B1C6\"},\"type\":\"carpet\"}],\"table\":[{\"cells\":{\"fill\":{\"color\":\"#506784\"},\"line\":{\"color\":\"rgb(17,17,17)\"}},\"header\":{\"fill\":{\"color\":\"#2a3f5f\"},\"line\":{\"color\":\"rgb(17,17,17)\"}},\"type\":\"table\"}],\"barpolar\":[{\"marker\":{\"line\":{\"color\":\"rgb(17,17,17)\",\"width\":0.5},\"pattern\":{\"fillmode\":\"overlay\",\"size\":10,\"solidity\":0.2}},\"type\":\"barpolar\"}],\"pie\":[{\"automargin\":true,\"type\":\"pie\"}]},\"layout\":{\"autotypenumbers\":\"strict\",\"colorway\":[\"#636efa\",\"#EF553B\",\"#00cc96\",\"#ab63fa\",\"#FFA15A\",\"#19d3f3\",\"#FF6692\",\"#B6E880\",\"#FF97FF\",\"#FECB52\"],\"font\":{\"color\":\"#f2f5fa\"},\"hovermode\":\"closest\",\"hoverlabel\":{\"align\":\"left\"},\"paper_bgcolor\":\"rgb(17,17,17)\",\"plot_bgcolor\":\"rgb(17,17,17)\",\"polar\":{\"bgcolor\":\"rgb(17,17,17)\",\"angularaxis\":{\"gridcolor\":\"#506784\",\"linecolor\":\"#506784\",\"ticks\":\"\"},\"radialaxis\":{\"gridcolor\":\"#506784\",\"linecolor\":\"#506784\",\"ticks\":\"\"}},\"ternary\":{\"bgcolor\":\"rgb(17,17,17)\",\"aaxis\":{\"gridcolor\":\"#506784\",\"linecolor\":\"#506784\",\"ticks\":\"\"},\"baxis\":{\"gridcolor\":\"#506784\",\"linecolor\":\"#506784\",\"ticks\":\"\"},\"caxis\":{\"gridcolor\":\"#506784\",\"linecolor\":\"#506784\",\"ticks\":\"\"}},\"coloraxis\":{\"colorbar\":{\"outlinewidth\":0,\"ticks\":\"\"}},\"colorscale\":{\"sequential\":[[0.0,\"#0d0887\"],[0.1111111111111111,\"#46039f\"],[0.2222222222222222,\"#7201a8\"],[0.3333333333333333,\"#9c179e\"],[0.4444444444444444,\"#bd3786\"],[0.5555555555555556,\"#d8576b\"],[0.6666666666666666,\"#ed7953\"],[0.7777777777777778,\"#fb9f3a\"],[0.8888888888888888,\"#fdca26\"],[1.0,\"#f0f921\"]],\"sequentialminus\":[[0.0,\"#0d0887\"],[0.1111111111111111,\"#46039f\"],[0.2222222222222222,\"#7201a8\"],[0.3333333333333333,\"#9c179e\"],[0.4444444444444444,\"#bd3786\"],[0.5555555555555556,\"#d8576b\"],[0.6666666666666666,\"#ed7953\"],[0.7777777777777778,\"#fb9f3a\"],[0.8888888888888888,\"#fdca26\"],[1.0,\"#f0f921\"]],\"diverging\":[[0,\"#8e0152\"],[0.1,\"#c51b7d\"],[0.2,\"#de77ae\"],[0.3,\"#f1b6da\"],[0.4,\"#fde0ef\"],[0.5,\"#f7f7f7\"],[0.6,\"#e6f5d0\"],[0.7,\"#b8e186\"],[0.8,\"#7fbc41\"],[0.9,\"#4d9221\"],[1,\"#276419\"]]},\"xaxis\":{\"gridcolor\":\"#283442\",\"linecolor\":\"#506784\",\"ticks\":\"\",\"title\":{\"standoff\":15},\"zerolinecolor\":\"#283442\",\"automargin\":true,\"zerolinewidth\":2},\"yaxis\":{\"gridcolor\":\"#283442\",\"linecolor\":\"#506784\",\"ticks\":\"\",\"title\":{\"standoff\":15},\"zerolinecolor\":\"#283442\",\"automargin\":true,\"zerolinewidth\":2},\"scene\":{\"xaxis\":{\"backgroundcolor\":\"rgb(17,17,17)\",\"gridcolor\":\"#506784\",\"linecolor\":\"#506784\",\"showbackground\":true,\"ticks\":\"\",\"zerolinecolor\":\"#C8D4E3\",\"gridwidth\":2},\"yaxis\":{\"backgroundcolor\":\"rgb(17,17,17)\",\"gridcolor\":\"#506784\",\"linecolor\":\"#506784\",\"showbackground\":true,\"ticks\":\"\",\"zerolinecolor\":\"#C8D4E3\",\"gridwidth\":2},\"zaxis\":{\"backgroundcolor\":\"rgb(17,17,17)\",\"gridcolor\":\"#506784\",\"linecolor\":\"#506784\",\"showbackground\":true,\"ticks\":\"\",\"zerolinecolor\":\"#C8D4E3\",\"gridwidth\":2}},\"shapedefaults\":{\"line\":{\"color\":\"#f2f5fa\"}},\"annotationdefaults\":{\"arrowcolor\":\"#f2f5fa\",\"arrowhead\":0,\"arrowwidth\":1},\"geo\":{\"bgcolor\":\"rgb(17,17,17)\",\"landcolor\":\"rgb(17,17,17)\",\"subunitcolor\":\"#506784\",\"showland\":true,\"showlakes\":true,\"lakecolor\":\"rgb(17,17,17)\"},\"title\":{\"x\":0.05},\"updatemenudefaults\":{\"bgcolor\":\"#506784\",\"borderwidth\":0},\"sliderdefaults\":{\"bgcolor\":\"#C8D4E3\",\"borderwidth\":1,\"bordercolor\":\"rgb(17,17,17)\",\"tickwidth\":0},\"mapbox\":{\"style\":\"dark\"}}},\"xaxis\":{\"anchor\":\"y\",\"domain\":[0.0,1.0],\"title\":{\"text\":\"x\"},\"categoryorder\":\"total descending\"},\"yaxis\":{\"anchor\":\"x\",\"domain\":[0.0,1.0],\"title\":{\"text\":\"y\"}},\"legend\":{\"tracegroupgap\":0},\"title\":{\"text\":\"Saving accounts word cloud\"},\"barmode\":\"relative\"},                        {\"responsive\": true}                    ).then(function(){\n                            \nvar gd = document.getElementById('cc918a15-0136-4d8a-aa02-553232fbf535');\nvar x = new MutationObserver(function (mutations, observer) {{\n        var display = window.getComputedStyle(gd).display;\n        if (!display || display === 'none') {{\n            console.log([gd, 'removed!']);\n            Plotly.purge(gd);\n            observer.disconnect();\n        }}\n}});\n\n// Listen for the removal of the full notebook cells\nvar notebookContainer = gd.closest('#notebook-container');\nif (notebookContainer) {{\n    x.observe(notebookContainer, {childList: true});\n}}\n\n// Listen for the clearing of the current output cell\nvar outputEl = gd.closest('.output');\nif (outputEl) {{\n    x.observe(outputEl, {childList: true});\n}}\n\n                        })                };                });            </script>        </div>"
     },
     "metadata": {},
     "output_type": "display_data"
    },
    {
     "data": {
      "application/vnd.plotly.v1+json": {
       "data": [
        {
         "alignmentgroup": "True",
         "hovertemplate": "x=%{x}<br>y=%{y}<extra></extra>",
         "legendgroup": "",
         "marker": {
          "color": "#636efa",
          "pattern": {
           "shape": ""
          }
         },
         "name": "",
         "offsetgroup": "",
         "orientation": "v",
         "showlegend": false,
         "textposition": "auto",
         "x": [
          "little",
          "moderate",
          "rich"
         ],
         "xaxis": "x",
         "y": [
          274,
          269,
          63
         ],
         "yaxis": "y",
         "type": "bar"
        }
       ],
       "layout": {
        "template": {
         "data": {
          "histogram2dcontour": [
           {
            "type": "histogram2dcontour",
            "colorbar": {
             "outlinewidth": 0,
             "ticks": ""
            },
            "colorscale": [
             [
              0.0,
              "#0d0887"
             ],
             [
              0.1111111111111111,
              "#46039f"
             ],
             [
              0.2222222222222222,
              "#7201a8"
             ],
             [
              0.3333333333333333,
              "#9c179e"
             ],
             [
              0.4444444444444444,
              "#bd3786"
             ],
             [
              0.5555555555555556,
              "#d8576b"
             ],
             [
              0.6666666666666666,
              "#ed7953"
             ],
             [
              0.7777777777777778,
              "#fb9f3a"
             ],
             [
              0.8888888888888888,
              "#fdca26"
             ],
             [
              1.0,
              "#f0f921"
             ]
            ]
           }
          ],
          "choropleth": [
           {
            "type": "choropleth",
            "colorbar": {
             "outlinewidth": 0,
             "ticks": ""
            }
           }
          ],
          "histogram2d": [
           {
            "type": "histogram2d",
            "colorbar": {
             "outlinewidth": 0,
             "ticks": ""
            },
            "colorscale": [
             [
              0.0,
              "#0d0887"
             ],
             [
              0.1111111111111111,
              "#46039f"
             ],
             [
              0.2222222222222222,
              "#7201a8"
             ],
             [
              0.3333333333333333,
              "#9c179e"
             ],
             [
              0.4444444444444444,
              "#bd3786"
             ],
             [
              0.5555555555555556,
              "#d8576b"
             ],
             [
              0.6666666666666666,
              "#ed7953"
             ],
             [
              0.7777777777777778,
              "#fb9f3a"
             ],
             [
              0.8888888888888888,
              "#fdca26"
             ],
             [
              1.0,
              "#f0f921"
             ]
            ]
           }
          ],
          "heatmap": [
           {
            "type": "heatmap",
            "colorbar": {
             "outlinewidth": 0,
             "ticks": ""
            },
            "colorscale": [
             [
              0.0,
              "#0d0887"
             ],
             [
              0.1111111111111111,
              "#46039f"
             ],
             [
              0.2222222222222222,
              "#7201a8"
             ],
             [
              0.3333333333333333,
              "#9c179e"
             ],
             [
              0.4444444444444444,
              "#bd3786"
             ],
             [
              0.5555555555555556,
              "#d8576b"
             ],
             [
              0.6666666666666666,
              "#ed7953"
             ],
             [
              0.7777777777777778,
              "#fb9f3a"
             ],
             [
              0.8888888888888888,
              "#fdca26"
             ],
             [
              1.0,
              "#f0f921"
             ]
            ]
           }
          ],
          "heatmapgl": [
           {
            "type": "heatmapgl",
            "colorbar": {
             "outlinewidth": 0,
             "ticks": ""
            },
            "colorscale": [
             [
              0.0,
              "#0d0887"
             ],
             [
              0.1111111111111111,
              "#46039f"
             ],
             [
              0.2222222222222222,
              "#7201a8"
             ],
             [
              0.3333333333333333,
              "#9c179e"
             ],
             [
              0.4444444444444444,
              "#bd3786"
             ],
             [
              0.5555555555555556,
              "#d8576b"
             ],
             [
              0.6666666666666666,
              "#ed7953"
             ],
             [
              0.7777777777777778,
              "#fb9f3a"
             ],
             [
              0.8888888888888888,
              "#fdca26"
             ],
             [
              1.0,
              "#f0f921"
             ]
            ]
           }
          ],
          "contourcarpet": [
           {
            "type": "contourcarpet",
            "colorbar": {
             "outlinewidth": 0,
             "ticks": ""
            }
           }
          ],
          "contour": [
           {
            "type": "contour",
            "colorbar": {
             "outlinewidth": 0,
             "ticks": ""
            },
            "colorscale": [
             [
              0.0,
              "#0d0887"
             ],
             [
              0.1111111111111111,
              "#46039f"
             ],
             [
              0.2222222222222222,
              "#7201a8"
             ],
             [
              0.3333333333333333,
              "#9c179e"
             ],
             [
              0.4444444444444444,
              "#bd3786"
             ],
             [
              0.5555555555555556,
              "#d8576b"
             ],
             [
              0.6666666666666666,
              "#ed7953"
             ],
             [
              0.7777777777777778,
              "#fb9f3a"
             ],
             [
              0.8888888888888888,
              "#fdca26"
             ],
             [
              1.0,
              "#f0f921"
             ]
            ]
           }
          ],
          "surface": [
           {
            "type": "surface",
            "colorbar": {
             "outlinewidth": 0,
             "ticks": ""
            },
            "colorscale": [
             [
              0.0,
              "#0d0887"
             ],
             [
              0.1111111111111111,
              "#46039f"
             ],
             [
              0.2222222222222222,
              "#7201a8"
             ],
             [
              0.3333333333333333,
              "#9c179e"
             ],
             [
              0.4444444444444444,
              "#bd3786"
             ],
             [
              0.5555555555555556,
              "#d8576b"
             ],
             [
              0.6666666666666666,
              "#ed7953"
             ],
             [
              0.7777777777777778,
              "#fb9f3a"
             ],
             [
              0.8888888888888888,
              "#fdca26"
             ],
             [
              1.0,
              "#f0f921"
             ]
            ]
           }
          ],
          "mesh3d": [
           {
            "type": "mesh3d",
            "colorbar": {
             "outlinewidth": 0,
             "ticks": ""
            }
           }
          ],
          "scatter": [
           {
            "marker": {
             "line": {
              "color": "#283442"
             }
            },
            "type": "scatter"
           }
          ],
          "parcoords": [
           {
            "type": "parcoords",
            "line": {
             "colorbar": {
              "outlinewidth": 0,
              "ticks": ""
             }
            }
           }
          ],
          "scatterpolargl": [
           {
            "type": "scatterpolargl",
            "marker": {
             "colorbar": {
              "outlinewidth": 0,
              "ticks": ""
             }
            }
           }
          ],
          "bar": [
           {
            "error_x": {
             "color": "#f2f5fa"
            },
            "error_y": {
             "color": "#f2f5fa"
            },
            "marker": {
             "line": {
              "color": "rgb(17,17,17)",
              "width": 0.5
             },
             "pattern": {
              "fillmode": "overlay",
              "size": 10,
              "solidity": 0.2
             }
            },
            "type": "bar"
           }
          ],
          "scattergeo": [
           {
            "type": "scattergeo",
            "marker": {
             "colorbar": {
              "outlinewidth": 0,
              "ticks": ""
             }
            }
           }
          ],
          "scatterpolar": [
           {
            "type": "scatterpolar",
            "marker": {
             "colorbar": {
              "outlinewidth": 0,
              "ticks": ""
             }
            }
           }
          ],
          "histogram": [
           {
            "marker": {
             "pattern": {
              "fillmode": "overlay",
              "size": 10,
              "solidity": 0.2
             }
            },
            "type": "histogram"
           }
          ],
          "scattergl": [
           {
            "marker": {
             "line": {
              "color": "#283442"
             }
            },
            "type": "scattergl"
           }
          ],
          "scatter3d": [
           {
            "type": "scatter3d",
            "line": {
             "colorbar": {
              "outlinewidth": 0,
              "ticks": ""
             }
            },
            "marker": {
             "colorbar": {
              "outlinewidth": 0,
              "ticks": ""
             }
            }
           }
          ],
          "scattermapbox": [
           {
            "type": "scattermapbox",
            "marker": {
             "colorbar": {
              "outlinewidth": 0,
              "ticks": ""
             }
            }
           }
          ],
          "scatterternary": [
           {
            "type": "scatterternary",
            "marker": {
             "colorbar": {
              "outlinewidth": 0,
              "ticks": ""
             }
            }
           }
          ],
          "scattercarpet": [
           {
            "type": "scattercarpet",
            "marker": {
             "colorbar": {
              "outlinewidth": 0,
              "ticks": ""
             }
            }
           }
          ],
          "carpet": [
           {
            "aaxis": {
             "endlinecolor": "#A2B1C6",
             "gridcolor": "#506784",
             "linecolor": "#506784",
             "minorgridcolor": "#506784",
             "startlinecolor": "#A2B1C6"
            },
            "baxis": {
             "endlinecolor": "#A2B1C6",
             "gridcolor": "#506784",
             "linecolor": "#506784",
             "minorgridcolor": "#506784",
             "startlinecolor": "#A2B1C6"
            },
            "type": "carpet"
           }
          ],
          "table": [
           {
            "cells": {
             "fill": {
              "color": "#506784"
             },
             "line": {
              "color": "rgb(17,17,17)"
             }
            },
            "header": {
             "fill": {
              "color": "#2a3f5f"
             },
             "line": {
              "color": "rgb(17,17,17)"
             }
            },
            "type": "table"
           }
          ],
          "barpolar": [
           {
            "marker": {
             "line": {
              "color": "rgb(17,17,17)",
              "width": 0.5
             },
             "pattern": {
              "fillmode": "overlay",
              "size": 10,
              "solidity": 0.2
             }
            },
            "type": "barpolar"
           }
          ],
          "pie": [
           {
            "automargin": true,
            "type": "pie"
           }
          ]
         },
         "layout": {
          "autotypenumbers": "strict",
          "colorway": [
           "#636efa",
           "#EF553B",
           "#00cc96",
           "#ab63fa",
           "#FFA15A",
           "#19d3f3",
           "#FF6692",
           "#B6E880",
           "#FF97FF",
           "#FECB52"
          ],
          "font": {
           "color": "#f2f5fa"
          },
          "hovermode": "closest",
          "hoverlabel": {
           "align": "left"
          },
          "paper_bgcolor": "rgb(17,17,17)",
          "plot_bgcolor": "rgb(17,17,17)",
          "polar": {
           "bgcolor": "rgb(17,17,17)",
           "angularaxis": {
            "gridcolor": "#506784",
            "linecolor": "#506784",
            "ticks": ""
           },
           "radialaxis": {
            "gridcolor": "#506784",
            "linecolor": "#506784",
            "ticks": ""
           }
          },
          "ternary": {
           "bgcolor": "rgb(17,17,17)",
           "aaxis": {
            "gridcolor": "#506784",
            "linecolor": "#506784",
            "ticks": ""
           },
           "baxis": {
            "gridcolor": "#506784",
            "linecolor": "#506784",
            "ticks": ""
           },
           "caxis": {
            "gridcolor": "#506784",
            "linecolor": "#506784",
            "ticks": ""
           }
          },
          "coloraxis": {
           "colorbar": {
            "outlinewidth": 0,
            "ticks": ""
           }
          },
          "colorscale": {
           "sequential": [
            [
             0.0,
             "#0d0887"
            ],
            [
             0.1111111111111111,
             "#46039f"
            ],
            [
             0.2222222222222222,
             "#7201a8"
            ],
            [
             0.3333333333333333,
             "#9c179e"
            ],
            [
             0.4444444444444444,
             "#bd3786"
            ],
            [
             0.5555555555555556,
             "#d8576b"
            ],
            [
             0.6666666666666666,
             "#ed7953"
            ],
            [
             0.7777777777777778,
             "#fb9f3a"
            ],
            [
             0.8888888888888888,
             "#fdca26"
            ],
            [
             1.0,
             "#f0f921"
            ]
           ],
           "sequentialminus": [
            [
             0.0,
             "#0d0887"
            ],
            [
             0.1111111111111111,
             "#46039f"
            ],
            [
             0.2222222222222222,
             "#7201a8"
            ],
            [
             0.3333333333333333,
             "#9c179e"
            ],
            [
             0.4444444444444444,
             "#bd3786"
            ],
            [
             0.5555555555555556,
             "#d8576b"
            ],
            [
             0.6666666666666666,
             "#ed7953"
            ],
            [
             0.7777777777777778,
             "#fb9f3a"
            ],
            [
             0.8888888888888888,
             "#fdca26"
            ],
            [
             1.0,
             "#f0f921"
            ]
           ],
           "diverging": [
            [
             0,
             "#8e0152"
            ],
            [
             0.1,
             "#c51b7d"
            ],
            [
             0.2,
             "#de77ae"
            ],
            [
             0.3,
             "#f1b6da"
            ],
            [
             0.4,
             "#fde0ef"
            ],
            [
             0.5,
             "#f7f7f7"
            ],
            [
             0.6,
             "#e6f5d0"
            ],
            [
             0.7,
             "#b8e186"
            ],
            [
             0.8,
             "#7fbc41"
            ],
            [
             0.9,
             "#4d9221"
            ],
            [
             1,
             "#276419"
            ]
           ]
          },
          "xaxis": {
           "gridcolor": "#283442",
           "linecolor": "#506784",
           "ticks": "",
           "title": {
            "standoff": 15
           },
           "zerolinecolor": "#283442",
           "automargin": true,
           "zerolinewidth": 2
          },
          "yaxis": {
           "gridcolor": "#283442",
           "linecolor": "#506784",
           "ticks": "",
           "title": {
            "standoff": 15
           },
           "zerolinecolor": "#283442",
           "automargin": true,
           "zerolinewidth": 2
          },
          "scene": {
           "xaxis": {
            "backgroundcolor": "rgb(17,17,17)",
            "gridcolor": "#506784",
            "linecolor": "#506784",
            "showbackground": true,
            "ticks": "",
            "zerolinecolor": "#C8D4E3",
            "gridwidth": 2
           },
           "yaxis": {
            "backgroundcolor": "rgb(17,17,17)",
            "gridcolor": "#506784",
            "linecolor": "#506784",
            "showbackground": true,
            "ticks": "",
            "zerolinecolor": "#C8D4E3",
            "gridwidth": 2
           },
           "zaxis": {
            "backgroundcolor": "rgb(17,17,17)",
            "gridcolor": "#506784",
            "linecolor": "#506784",
            "showbackground": true,
            "ticks": "",
            "zerolinecolor": "#C8D4E3",
            "gridwidth": 2
           }
          },
          "shapedefaults": {
           "line": {
            "color": "#f2f5fa"
           }
          },
          "annotationdefaults": {
           "arrowcolor": "#f2f5fa",
           "arrowhead": 0,
           "arrowwidth": 1
          },
          "geo": {
           "bgcolor": "rgb(17,17,17)",
           "landcolor": "rgb(17,17,17)",
           "subunitcolor": "#506784",
           "showland": true,
           "showlakes": true,
           "lakecolor": "rgb(17,17,17)"
          },
          "title": {
           "x": 0.05
          },
          "updatemenudefaults": {
           "bgcolor": "#506784",
           "borderwidth": 0
          },
          "sliderdefaults": {
           "bgcolor": "#C8D4E3",
           "borderwidth": 1,
           "bordercolor": "rgb(17,17,17)",
           "tickwidth": 0
          },
          "mapbox": {
           "style": "dark"
          }
         }
        },
        "xaxis": {
         "anchor": "y",
         "domain": [
          0.0,
          1.0
         ],
         "title": {
          "text": "x"
         },
         "categoryorder": "total descending"
        },
        "yaxis": {
         "anchor": "x",
         "domain": [
          0.0,
          1.0
         ],
         "title": {
          "text": "y"
         }
        },
        "legend": {
         "tracegroupgap": 0
        },
        "title": {
         "text": "Checking account word cloud"
        },
        "barmode": "relative"
       },
       "config": {
        "plotlyServerURL": "https://plot.ly"
       }
      },
      "text/html": "<div>                            <div id=\"562d8417-bf82-426e-983c-f4bccdbeeb0c\" class=\"plotly-graph-div\" style=\"height:525px; width:100%;\"></div>            <script type=\"text/javascript\">                require([\"plotly\"], function(Plotly) {                    window.PLOTLYENV=window.PLOTLYENV || {};                                    if (document.getElementById(\"562d8417-bf82-426e-983c-f4bccdbeeb0c\")) {                    Plotly.newPlot(                        \"562d8417-bf82-426e-983c-f4bccdbeeb0c\",                        [{\"alignmentgroup\":\"True\",\"hovertemplate\":\"x=%{x}<br>y=%{y}<extra></extra>\",\"legendgroup\":\"\",\"marker\":{\"color\":\"#636efa\",\"pattern\":{\"shape\":\"\"}},\"name\":\"\",\"offsetgroup\":\"\",\"orientation\":\"v\",\"showlegend\":false,\"textposition\":\"auto\",\"x\":[\"little\",\"moderate\",\"rich\"],\"xaxis\":\"x\",\"y\":[274,269,63],\"yaxis\":\"y\",\"type\":\"bar\"}],                        {\"template\":{\"data\":{\"histogram2dcontour\":[{\"type\":\"histogram2dcontour\",\"colorbar\":{\"outlinewidth\":0,\"ticks\":\"\"},\"colorscale\":[[0.0,\"#0d0887\"],[0.1111111111111111,\"#46039f\"],[0.2222222222222222,\"#7201a8\"],[0.3333333333333333,\"#9c179e\"],[0.4444444444444444,\"#bd3786\"],[0.5555555555555556,\"#d8576b\"],[0.6666666666666666,\"#ed7953\"],[0.7777777777777778,\"#fb9f3a\"],[0.8888888888888888,\"#fdca26\"],[1.0,\"#f0f921\"]]}],\"choropleth\":[{\"type\":\"choropleth\",\"colorbar\":{\"outlinewidth\":0,\"ticks\":\"\"}}],\"histogram2d\":[{\"type\":\"histogram2d\",\"colorbar\":{\"outlinewidth\":0,\"ticks\":\"\"},\"colorscale\":[[0.0,\"#0d0887\"],[0.1111111111111111,\"#46039f\"],[0.2222222222222222,\"#7201a8\"],[0.3333333333333333,\"#9c179e\"],[0.4444444444444444,\"#bd3786\"],[0.5555555555555556,\"#d8576b\"],[0.6666666666666666,\"#ed7953\"],[0.7777777777777778,\"#fb9f3a\"],[0.8888888888888888,\"#fdca26\"],[1.0,\"#f0f921\"]]}],\"heatmap\":[{\"type\":\"heatmap\",\"colorbar\":{\"outlinewidth\":0,\"ticks\":\"\"},\"colorscale\":[[0.0,\"#0d0887\"],[0.1111111111111111,\"#46039f\"],[0.2222222222222222,\"#7201a8\"],[0.3333333333333333,\"#9c179e\"],[0.4444444444444444,\"#bd3786\"],[0.5555555555555556,\"#d8576b\"],[0.6666666666666666,\"#ed7953\"],[0.7777777777777778,\"#fb9f3a\"],[0.8888888888888888,\"#fdca26\"],[1.0,\"#f0f921\"]]}],\"heatmapgl\":[{\"type\":\"heatmapgl\",\"colorbar\":{\"outlinewidth\":0,\"ticks\":\"\"},\"colorscale\":[[0.0,\"#0d0887\"],[0.1111111111111111,\"#46039f\"],[0.2222222222222222,\"#7201a8\"],[0.3333333333333333,\"#9c179e\"],[0.4444444444444444,\"#bd3786\"],[0.5555555555555556,\"#d8576b\"],[0.6666666666666666,\"#ed7953\"],[0.7777777777777778,\"#fb9f3a\"],[0.8888888888888888,\"#fdca26\"],[1.0,\"#f0f921\"]]}],\"contourcarpet\":[{\"type\":\"contourcarpet\",\"colorbar\":{\"outlinewidth\":0,\"ticks\":\"\"}}],\"contour\":[{\"type\":\"contour\",\"colorbar\":{\"outlinewidth\":0,\"ticks\":\"\"},\"colorscale\":[[0.0,\"#0d0887\"],[0.1111111111111111,\"#46039f\"],[0.2222222222222222,\"#7201a8\"],[0.3333333333333333,\"#9c179e\"],[0.4444444444444444,\"#bd3786\"],[0.5555555555555556,\"#d8576b\"],[0.6666666666666666,\"#ed7953\"],[0.7777777777777778,\"#fb9f3a\"],[0.8888888888888888,\"#fdca26\"],[1.0,\"#f0f921\"]]}],\"surface\":[{\"type\":\"surface\",\"colorbar\":{\"outlinewidth\":0,\"ticks\":\"\"},\"colorscale\":[[0.0,\"#0d0887\"],[0.1111111111111111,\"#46039f\"],[0.2222222222222222,\"#7201a8\"],[0.3333333333333333,\"#9c179e\"],[0.4444444444444444,\"#bd3786\"],[0.5555555555555556,\"#d8576b\"],[0.6666666666666666,\"#ed7953\"],[0.7777777777777778,\"#fb9f3a\"],[0.8888888888888888,\"#fdca26\"],[1.0,\"#f0f921\"]]}],\"mesh3d\":[{\"type\":\"mesh3d\",\"colorbar\":{\"outlinewidth\":0,\"ticks\":\"\"}}],\"scatter\":[{\"marker\":{\"line\":{\"color\":\"#283442\"}},\"type\":\"scatter\"}],\"parcoords\":[{\"type\":\"parcoords\",\"line\":{\"colorbar\":{\"outlinewidth\":0,\"ticks\":\"\"}}}],\"scatterpolargl\":[{\"type\":\"scatterpolargl\",\"marker\":{\"colorbar\":{\"outlinewidth\":0,\"ticks\":\"\"}}}],\"bar\":[{\"error_x\":{\"color\":\"#f2f5fa\"},\"error_y\":{\"color\":\"#f2f5fa\"},\"marker\":{\"line\":{\"color\":\"rgb(17,17,17)\",\"width\":0.5},\"pattern\":{\"fillmode\":\"overlay\",\"size\":10,\"solidity\":0.2}},\"type\":\"bar\"}],\"scattergeo\":[{\"type\":\"scattergeo\",\"marker\":{\"colorbar\":{\"outlinewidth\":0,\"ticks\":\"\"}}}],\"scatterpolar\":[{\"type\":\"scatterpolar\",\"marker\":{\"colorbar\":{\"outlinewidth\":0,\"ticks\":\"\"}}}],\"histogram\":[{\"marker\":{\"pattern\":{\"fillmode\":\"overlay\",\"size\":10,\"solidity\":0.2}},\"type\":\"histogram\"}],\"scattergl\":[{\"marker\":{\"line\":{\"color\":\"#283442\"}},\"type\":\"scattergl\"}],\"scatter3d\":[{\"type\":\"scatter3d\",\"line\":{\"colorbar\":{\"outlinewidth\":0,\"ticks\":\"\"}},\"marker\":{\"colorbar\":{\"outlinewidth\":0,\"ticks\":\"\"}}}],\"scattermapbox\":[{\"type\":\"scattermapbox\",\"marker\":{\"colorbar\":{\"outlinewidth\":0,\"ticks\":\"\"}}}],\"scatterternary\":[{\"type\":\"scatterternary\",\"marker\":{\"colorbar\":{\"outlinewidth\":0,\"ticks\":\"\"}}}],\"scattercarpet\":[{\"type\":\"scattercarpet\",\"marker\":{\"colorbar\":{\"outlinewidth\":0,\"ticks\":\"\"}}}],\"carpet\":[{\"aaxis\":{\"endlinecolor\":\"#A2B1C6\",\"gridcolor\":\"#506784\",\"linecolor\":\"#506784\",\"minorgridcolor\":\"#506784\",\"startlinecolor\":\"#A2B1C6\"},\"baxis\":{\"endlinecolor\":\"#A2B1C6\",\"gridcolor\":\"#506784\",\"linecolor\":\"#506784\",\"minorgridcolor\":\"#506784\",\"startlinecolor\":\"#A2B1C6\"},\"type\":\"carpet\"}],\"table\":[{\"cells\":{\"fill\":{\"color\":\"#506784\"},\"line\":{\"color\":\"rgb(17,17,17)\"}},\"header\":{\"fill\":{\"color\":\"#2a3f5f\"},\"line\":{\"color\":\"rgb(17,17,17)\"}},\"type\":\"table\"}],\"barpolar\":[{\"marker\":{\"line\":{\"color\":\"rgb(17,17,17)\",\"width\":0.5},\"pattern\":{\"fillmode\":\"overlay\",\"size\":10,\"solidity\":0.2}},\"type\":\"barpolar\"}],\"pie\":[{\"automargin\":true,\"type\":\"pie\"}]},\"layout\":{\"autotypenumbers\":\"strict\",\"colorway\":[\"#636efa\",\"#EF553B\",\"#00cc96\",\"#ab63fa\",\"#FFA15A\",\"#19d3f3\",\"#FF6692\",\"#B6E880\",\"#FF97FF\",\"#FECB52\"],\"font\":{\"color\":\"#f2f5fa\"},\"hovermode\":\"closest\",\"hoverlabel\":{\"align\":\"left\"},\"paper_bgcolor\":\"rgb(17,17,17)\",\"plot_bgcolor\":\"rgb(17,17,17)\",\"polar\":{\"bgcolor\":\"rgb(17,17,17)\",\"angularaxis\":{\"gridcolor\":\"#506784\",\"linecolor\":\"#506784\",\"ticks\":\"\"},\"radialaxis\":{\"gridcolor\":\"#506784\",\"linecolor\":\"#506784\",\"ticks\":\"\"}},\"ternary\":{\"bgcolor\":\"rgb(17,17,17)\",\"aaxis\":{\"gridcolor\":\"#506784\",\"linecolor\":\"#506784\",\"ticks\":\"\"},\"baxis\":{\"gridcolor\":\"#506784\",\"linecolor\":\"#506784\",\"ticks\":\"\"},\"caxis\":{\"gridcolor\":\"#506784\",\"linecolor\":\"#506784\",\"ticks\":\"\"}},\"coloraxis\":{\"colorbar\":{\"outlinewidth\":0,\"ticks\":\"\"}},\"colorscale\":{\"sequential\":[[0.0,\"#0d0887\"],[0.1111111111111111,\"#46039f\"],[0.2222222222222222,\"#7201a8\"],[0.3333333333333333,\"#9c179e\"],[0.4444444444444444,\"#bd3786\"],[0.5555555555555556,\"#d8576b\"],[0.6666666666666666,\"#ed7953\"],[0.7777777777777778,\"#fb9f3a\"],[0.8888888888888888,\"#fdca26\"],[1.0,\"#f0f921\"]],\"sequentialminus\":[[0.0,\"#0d0887\"],[0.1111111111111111,\"#46039f\"],[0.2222222222222222,\"#7201a8\"],[0.3333333333333333,\"#9c179e\"],[0.4444444444444444,\"#bd3786\"],[0.5555555555555556,\"#d8576b\"],[0.6666666666666666,\"#ed7953\"],[0.7777777777777778,\"#fb9f3a\"],[0.8888888888888888,\"#fdca26\"],[1.0,\"#f0f921\"]],\"diverging\":[[0,\"#8e0152\"],[0.1,\"#c51b7d\"],[0.2,\"#de77ae\"],[0.3,\"#f1b6da\"],[0.4,\"#fde0ef\"],[0.5,\"#f7f7f7\"],[0.6,\"#e6f5d0\"],[0.7,\"#b8e186\"],[0.8,\"#7fbc41\"],[0.9,\"#4d9221\"],[1,\"#276419\"]]},\"xaxis\":{\"gridcolor\":\"#283442\",\"linecolor\":\"#506784\",\"ticks\":\"\",\"title\":{\"standoff\":15},\"zerolinecolor\":\"#283442\",\"automargin\":true,\"zerolinewidth\":2},\"yaxis\":{\"gridcolor\":\"#283442\",\"linecolor\":\"#506784\",\"ticks\":\"\",\"title\":{\"standoff\":15},\"zerolinecolor\":\"#283442\",\"automargin\":true,\"zerolinewidth\":2},\"scene\":{\"xaxis\":{\"backgroundcolor\":\"rgb(17,17,17)\",\"gridcolor\":\"#506784\",\"linecolor\":\"#506784\",\"showbackground\":true,\"ticks\":\"\",\"zerolinecolor\":\"#C8D4E3\",\"gridwidth\":2},\"yaxis\":{\"backgroundcolor\":\"rgb(17,17,17)\",\"gridcolor\":\"#506784\",\"linecolor\":\"#506784\",\"showbackground\":true,\"ticks\":\"\",\"zerolinecolor\":\"#C8D4E3\",\"gridwidth\":2},\"zaxis\":{\"backgroundcolor\":\"rgb(17,17,17)\",\"gridcolor\":\"#506784\",\"linecolor\":\"#506784\",\"showbackground\":true,\"ticks\":\"\",\"zerolinecolor\":\"#C8D4E3\",\"gridwidth\":2}},\"shapedefaults\":{\"line\":{\"color\":\"#f2f5fa\"}},\"annotationdefaults\":{\"arrowcolor\":\"#f2f5fa\",\"arrowhead\":0,\"arrowwidth\":1},\"geo\":{\"bgcolor\":\"rgb(17,17,17)\",\"landcolor\":\"rgb(17,17,17)\",\"subunitcolor\":\"#506784\",\"showland\":true,\"showlakes\":true,\"lakecolor\":\"rgb(17,17,17)\"},\"title\":{\"x\":0.05},\"updatemenudefaults\":{\"bgcolor\":\"#506784\",\"borderwidth\":0},\"sliderdefaults\":{\"bgcolor\":\"#C8D4E3\",\"borderwidth\":1,\"bordercolor\":\"rgb(17,17,17)\",\"tickwidth\":0},\"mapbox\":{\"style\":\"dark\"}}},\"xaxis\":{\"anchor\":\"y\",\"domain\":[0.0,1.0],\"title\":{\"text\":\"x\"},\"categoryorder\":\"total descending\"},\"yaxis\":{\"anchor\":\"x\",\"domain\":[0.0,1.0],\"title\":{\"text\":\"y\"}},\"legend\":{\"tracegroupgap\":0},\"title\":{\"text\":\"Checking account word cloud\"},\"barmode\":\"relative\"},                        {\"responsive\": true}                    ).then(function(){\n                            \nvar gd = document.getElementById('562d8417-bf82-426e-983c-f4bccdbeeb0c');\nvar x = new MutationObserver(function (mutations, observer) {{\n        var display = window.getComputedStyle(gd).display;\n        if (!display || display === 'none') {{\n            console.log([gd, 'removed!']);\n            Plotly.purge(gd);\n            observer.disconnect();\n        }}\n}});\n\n// Listen for the removal of the full notebook cells\nvar notebookContainer = gd.closest('#notebook-container');\nif (notebookContainer) {{\n    x.observe(notebookContainer, {childList: true});\n}}\n\n// Listen for the clearing of the current output cell\nvar outputEl = gd.closest('.output');\nif (outputEl) {{\n    x.observe(outputEl, {childList: true});\n}}\n\n                        })                };                });            </script>        </div>"
     },
     "metadata": {},
     "output_type": "display_data"
    },
    {
     "data": {
      "application/vnd.plotly.v1+json": {
       "data": [
        {
         "alignmentgroup": "True",
         "bingroup": "x",
         "hovertemplate": "Credit amount=%{x}<br>count=%{y}<extra></extra>",
         "legendgroup": "",
         "marker": {
          "color": "#636efa",
          "pattern": {
           "shape": ""
          }
         },
         "name": "",
         "offsetgroup": "",
         "orientation": "v",
         "showlegend": false,
         "x": [
          1169,
          5951,
          2096,
          7882,
          4870,
          9055,
          2835,
          6948,
          3059,
          5234,
          1295,
          4308,
          1567,
          1199,
          1403,
          1282,
          2424,
          8072,
          12579,
          3430,
          2134,
          2647,
          2241,
          1804,
          2069,
          1374,
          426,
          409,
          2415,
          6836,
          1913,
          4020,
          5866,
          1264,
          1474,
          4746,
          6110,
          2100,
          1225,
          458,
          2333,
          1158,
          6204,
          6187,
          6143,
          1393,
          2299,
          1352,
          7228,
          2073,
          2333,
          5965,
          1262,
          3378,
          2225,
          783,
          6468,
          9566,
          1961,
          6229,
          1391,
          1537,
          1953,
          14421,
          3181,
          5190,
          2171,
          1007,
          1819,
          2394,
          8133,
          730,
          1164,
          5954,
          1977,
          1526,
          3965,
          4771,
          9436,
          3832,
          5943,
          1213,
          1568,
          1755,
          2315,
          1412,
          1295,
          12612,
          2249,
          1108,
          618,
          1409,
          797,
          3617,
          1318,
          15945,
          2012,
          2622,
          2337,
          7057,
          1469,
          2323,
          932,
          1919,
          2445,
          11938,
          6458,
          6078,
          7721,
          1410,
          1449,
          392,
          6260,
          7855,
          1680,
          3578,
          7174,
          2132,
          4281,
          2366,
          1835,
          3868,
          1768,
          781,
          1924,
          2121,
          701,
          639,
          1860,
          3499,
          8487,
          6887,
          2708,
          1984,
          10144,
          1240,
          8613,
          766,
          2728,
          1881,
          709,
          4795,
          3416,
          2462,
          2288,
          3566,
          860,
          682,
          5371,
          1582,
          1346,
          1924,
          5848,
          7758,
          6967,
          1282,
          1288,
          339,
          3512,
          1898,
          2872,
          1055,
          1262,
          7308,
          909,
          2978,
          1131,
          1577,
          3972,
          1935,
          950,
          763,
          2064,
          1414,
          3414,
          7485,
          2577,
          338,
          1963,
          571,
          9572,
          4455,
          1647,
          3777,
          884,
          1360,
          5129,
          1175,
          674,
          3244,
          4591,
          3844,
          3915,
          2108,
          3031,
          1501,
          1382,
          951,
          2760,
          4297,
          936,
          1168,
          5117,
          902,
          1495,
          10623,
          1935,
          1424,
          6568,
          1413,
          3074,
          3835,
          5293,
          1908,
          3342,
          932,
          3104,
          3913,
          3021,
          1364,
          625,
          1200,
          707,
          2978,
          4657,
          2613,
          10961,
          7865,
          1478,
          3149,
          4210,
          2507,
          2141,
          866,
          1544,
          1823,
          14555,
          2767,
          1291,
          2522,
          915,
          1595,
          4605,
          1185,
          3447,
          1258,
          717,
          1204,
          1925,
          433,
          666,
          2251,
          2150,
          4151,
          2030,
          7418,
          2684,
          2149,
          3812,
          1154,
          1657,
          1603,
          5302,
          2748,
          1231,
          802,
          6304,
          1533,
          8978,
          999,
          2662,
          1402,
          12169,
          3060,
          11998,
          2697,
          2404,
          1262,
          4611,
          1901,
          3368,
          1574,
          1445,
          1520,
          3878,
          10722,
          4788,
          7582,
          1092,
          1024,
          1076,
          9398,
          6419,
          4796,
          7629,
          9960,
          4675,
          1287,
          2515,
          2745,
          672,
          3804,
          1344,
          1038,
          10127,
          1543,
          4811,
          727,
          1237,
          276,
          5381,
          5511,
          3749,
          685,
          1494,
          2746,
          708,
          4351,
          701,
          3643,
          4249,
          1938,
          2910,
          2659,
          1028,
          3398,
          5801,
          1525,
          4473,
          1068,
          6615,
          1864,
          7408,
          11590,
          4110,
          3384,
          2101,
          1275,
          4169,
          1521,
          5743,
          3599,
          3213,
          4439,
          3949,
          1459,
          882,
          3758,
          1743,
          1136,
          1236,
          959,
          3229,
          6199,
          727,
          1246,
          2331,
          4463,
          776,
          2406,
          1239,
          3399,
          2247,
          1766,
          2473,
          1542,
          3850,
          3650,
          3446,
          3001,
          3079,
          6070,
          2146,
          13756,
          14782,
          7685,
          2320,
          846,
          14318,
          362,
          2212,
          12976,
          1283,
          1330,
          4272,
          2238,
          1126,
          7374,
          2326,
          1449,
          1820,
          983,
          3249,
          1957,
          2406,
          11760,
          2578,
          2348,
          1223,
          1516,
          1473,
          1887,
          8648,
          802,
          2899,
          2039,
          2197,
          1053,
          3235,
          939,
          1967,
          7253,
          2292,
          1597,
          1381,
          5842,
          2579,
          8471,
          2782,
          1042,
          3186,
          2028,
          958,
          1591,
          2762,
          2779,
          2743,
          1149,
          1313,
          1190,
          3448,
          11328,
          1872,
          2058,
          2136,
          1484,
          660,
          1287,
          3394,
          609,
          1884,
          1620,
          2629,
          719,
          5096,
          1244,
          1842,
          2576,
          1424,
          1512,
          11054,
          518,
          2759,
          2670,
          4817,
          2679,
          3905,
          3386,
          343,
          4594,
          3620,
          1721,
          3017,
          754,
          1950,
          2924,
          1659,
          7238,
          2764,
          4679,
          3092,
          448,
          654,
          1238,
          1245,
          3114,
          2569,
          5152,
          1037,
          1478,
          3573,
          1201,
          3622,
          960,
          1163,
          1209,
          3077,
          3757,
          1418,
          3518,
          1934,
          8318,
          1237,
          368,
          2122,
          2996,
          9034,
          1585,
          1301,
          1323,
          3123,
          5493,
          1126,
          1216,
          1207,
          1309,
          2360,
          6850,
          1413,
          8588,
          759,
          4686,
          2687,
          585,
          2255,
          609,
          1361,
          7127,
          1203,
          700,
          5507,
          3190,
          7119,
          3488,
          1113,
          7966,
          1532,
          1503,
          2302,
          662,
          2273,
          2631,
          1503,
          1311,
          3105,
          2319,
          1374,
          3612,
          7763,
          3049,
          1534,
          2032,
          6350,
          2864,
          1255,
          1333,
          2022,
          1552,
          626,
          8858,
          996,
          1750,
          6999,
          1995,
          1199,
          1331,
          2278,
          5003,
          3552,
          1928,
          2964,
          1546,
          683,
          12389,
          4712,
          1553,
          1372,
          2578,
          3979,
          6758,
          3234,
          5954,
          5433,
          806,
          1082,
          2788,
          2930,
          1927,
          2820,
          937,
          1056,
          3124,
          1388,
          2384,
          2133,
          2039,
          2799,
          1289,
          1217,
          2246,
          385,
          1965,
          1572,
          2718,
          1358,
          931,
          1442,
          4241,
          2775,
          3863,
          2329,
          918,
          1837,
          3349,
          1275,
          2828,
          4526,
          2671,
          2051,
          1300,
          741,
          1240,
          3357,
          3632,
          1808,
          12204,
          9157,
          3676,
          3441,
          640,
          3652,
          1530,
          3914,
          1858,
          2600,
          1979,
          2116,
          1437,
          4042,
          3832,
          3660,
          1553,
          1444,
          1980,
          1355,
          1393,
          1376,
          15653,
          1493,
          4370,
          750,
          1308,
          4623,
          1851,
          1880,
          7980,
          4583,
          1386,
          947,
          684,
          7476,
          1922,
          2303,
          8086,
          2346,
          3973,
          888,
          10222,
          4221,
          6361,
          1297,
          900,
          2241,
          1050,
          1047,
          6314,
          3496,
          3609,
          4843,
          3017,
          4139,
          5742,
          10366,
          2080,
          2580,
          4530,
          5150,
          5595,
          2384,
          1453,
          1538,
          2279,
          1478,
          5103,
          9857,
          6527,
          1347,
          2862,
          2753,
          3651,
          975,
          2631,
          2896,
          4716,
          2284,
          1236,
          1103,
          926,
          1800,
          1905,
          1123,
          6331,
          1377,
          2503,
          2528,
          5324,
          6560,
          2969,
          1206,
          2118,
          629,
          1198,
          2476,
          1138,
          14027,
          7596,
          3077,
          1505,
          3148,
          6148,
          1337,
          433,
          1228,
          790,
          2570,
          250,
          1316,
          1882,
          6416,
          1275,
          6403,
          1987,
          760,
          2603,
          3380,
          3990,
          11560,
          4380,
          6761,
          4280,
          2325,
          1048,
          3160,
          2483,
          14179,
          1797,
          2511,
          1274,
          5248,
          3029,
          428,
          976,
          841,
          5771,
          1555,
          1285,
          1299,
          1271,
          1393,
          691,
          5045,
          2124,
          2214,
          12680,
          2463,
          1155,
          3108,
          2901,
          3617,
          1655,
          2812,
          8065,
          3275,
          2223,
          1480,
          1371,
          3535,
          3509,
          5711,
          3872,
          4933,
          1940,
          1410,
          836,
          6468,
          1941,
          2675,
          2751,
          6224,
          5998,
          1188,
          6313,
          1221,
          2892,
          3062,
          2301,
          7511,
          1258,
          717,
          1549,
          1597,
          1795,
          4272,
          976,
          7472,
          9271,
          590,
          930,
          9283,
          1778,
          907,
          484,
          9629,
          3051,
          3931,
          7432,
          1338,
          1554,
          15857,
          1345,
          1101,
          3016,
          2712,
          731,
          3780,
          1602,
          3966,
          4165,
          8335,
          6681,
          2375,
          1216,
          11816,
          5084,
          2327,
          1082,
          886,
          601,
          2957,
          2611,
          5179,
          2993,
          1943,
          1559,
          3422,
          3976,
          6761,
          1249,
          1364,
          709,
          2235,
          4042,
          1471,
          1442,
          10875,
          1474,
          894,
          3343,
          3959,
          3577,
          5804,
          2169,
          2439,
          4526,
          2210,
          2221,
          2389,
          3331,
          7409,
          652,
          7678,
          1343,
          1382,
          874,
          3590,
          1322,
          1940,
          3595,
          1422,
          6742,
          7814,
          9277,
          2181,
          1098,
          4057,
          795,
          2825,
          15672,
          6614,
          7824,
          2442,
          1829,
          2171,
          5800,
          1169,
          8947,
          2606,
          1592,
          2186,
          4153,
          2625,
          3485,
          10477,
          1386,
          1278,
          1107,
          3763,
          3711,
          3594,
          3195,
          4454,
          4736,
          2991,
          2142,
          3161,
          18424,
          2848,
          14896,
          2359,
          3345,
          1817,
          12749,
          1366,
          2002,
          6872,
          697,
          1049,
          10297,
          1867,
          1344,
          1747,
          1670,
          1224,
          522,
          1498,
          1919,
          745,
          2063,
          6288,
          6842,
          3527,
          1546,
          929,
          1455,
          1845,
          8358,
          3349,
          2859,
          1533,
          3621,
          3590,
          2145,
          4113,
          10974,
          1893,
          1231,
          3656,
          1154,
          4006,
          3069,
          1740,
          2353,
          3556,
          2397,
          454,
          1715,
          2520,
          3568,
          7166,
          3939,
          1514,
          7393,
          1193,
          7297,
          2831,
          1258,
          753,
          2427,
          2538,
          1264,
          8386,
          4844,
          2923,
          8229,
          2028,
          1433,
          6289,
          1409,
          6579,
          1743,
          3565,
          1569,
          1936,
          3959,
          2390,
          1736,
          3857,
          804,
          1845,
          4576
         ],
         "xaxis": "x",
         "yaxis": "y",
         "type": "histogram"
        }
       ],
       "layout": {
        "template": {
         "data": {
          "histogram2dcontour": [
           {
            "type": "histogram2dcontour",
            "colorbar": {
             "outlinewidth": 0,
             "ticks": ""
            },
            "colorscale": [
             [
              0.0,
              "#0d0887"
             ],
             [
              0.1111111111111111,
              "#46039f"
             ],
             [
              0.2222222222222222,
              "#7201a8"
             ],
             [
              0.3333333333333333,
              "#9c179e"
             ],
             [
              0.4444444444444444,
              "#bd3786"
             ],
             [
              0.5555555555555556,
              "#d8576b"
             ],
             [
              0.6666666666666666,
              "#ed7953"
             ],
             [
              0.7777777777777778,
              "#fb9f3a"
             ],
             [
              0.8888888888888888,
              "#fdca26"
             ],
             [
              1.0,
              "#f0f921"
             ]
            ]
           }
          ],
          "choropleth": [
           {
            "type": "choropleth",
            "colorbar": {
             "outlinewidth": 0,
             "ticks": ""
            }
           }
          ],
          "histogram2d": [
           {
            "type": "histogram2d",
            "colorbar": {
             "outlinewidth": 0,
             "ticks": ""
            },
            "colorscale": [
             [
              0.0,
              "#0d0887"
             ],
             [
              0.1111111111111111,
              "#46039f"
             ],
             [
              0.2222222222222222,
              "#7201a8"
             ],
             [
              0.3333333333333333,
              "#9c179e"
             ],
             [
              0.4444444444444444,
              "#bd3786"
             ],
             [
              0.5555555555555556,
              "#d8576b"
             ],
             [
              0.6666666666666666,
              "#ed7953"
             ],
             [
              0.7777777777777778,
              "#fb9f3a"
             ],
             [
              0.8888888888888888,
              "#fdca26"
             ],
             [
              1.0,
              "#f0f921"
             ]
            ]
           }
          ],
          "heatmap": [
           {
            "type": "heatmap",
            "colorbar": {
             "outlinewidth": 0,
             "ticks": ""
            },
            "colorscale": [
             [
              0.0,
              "#0d0887"
             ],
             [
              0.1111111111111111,
              "#46039f"
             ],
             [
              0.2222222222222222,
              "#7201a8"
             ],
             [
              0.3333333333333333,
              "#9c179e"
             ],
             [
              0.4444444444444444,
              "#bd3786"
             ],
             [
              0.5555555555555556,
              "#d8576b"
             ],
             [
              0.6666666666666666,
              "#ed7953"
             ],
             [
              0.7777777777777778,
              "#fb9f3a"
             ],
             [
              0.8888888888888888,
              "#fdca26"
             ],
             [
              1.0,
              "#f0f921"
             ]
            ]
           }
          ],
          "heatmapgl": [
           {
            "type": "heatmapgl",
            "colorbar": {
             "outlinewidth": 0,
             "ticks": ""
            },
            "colorscale": [
             [
              0.0,
              "#0d0887"
             ],
             [
              0.1111111111111111,
              "#46039f"
             ],
             [
              0.2222222222222222,
              "#7201a8"
             ],
             [
              0.3333333333333333,
              "#9c179e"
             ],
             [
              0.4444444444444444,
              "#bd3786"
             ],
             [
              0.5555555555555556,
              "#d8576b"
             ],
             [
              0.6666666666666666,
              "#ed7953"
             ],
             [
              0.7777777777777778,
              "#fb9f3a"
             ],
             [
              0.8888888888888888,
              "#fdca26"
             ],
             [
              1.0,
              "#f0f921"
             ]
            ]
           }
          ],
          "contourcarpet": [
           {
            "type": "contourcarpet",
            "colorbar": {
             "outlinewidth": 0,
             "ticks": ""
            }
           }
          ],
          "contour": [
           {
            "type": "contour",
            "colorbar": {
             "outlinewidth": 0,
             "ticks": ""
            },
            "colorscale": [
             [
              0.0,
              "#0d0887"
             ],
             [
              0.1111111111111111,
              "#46039f"
             ],
             [
              0.2222222222222222,
              "#7201a8"
             ],
             [
              0.3333333333333333,
              "#9c179e"
             ],
             [
              0.4444444444444444,
              "#bd3786"
             ],
             [
              0.5555555555555556,
              "#d8576b"
             ],
             [
              0.6666666666666666,
              "#ed7953"
             ],
             [
              0.7777777777777778,
              "#fb9f3a"
             ],
             [
              0.8888888888888888,
              "#fdca26"
             ],
             [
              1.0,
              "#f0f921"
             ]
            ]
           }
          ],
          "surface": [
           {
            "type": "surface",
            "colorbar": {
             "outlinewidth": 0,
             "ticks": ""
            },
            "colorscale": [
             [
              0.0,
              "#0d0887"
             ],
             [
              0.1111111111111111,
              "#46039f"
             ],
             [
              0.2222222222222222,
              "#7201a8"
             ],
             [
              0.3333333333333333,
              "#9c179e"
             ],
             [
              0.4444444444444444,
              "#bd3786"
             ],
             [
              0.5555555555555556,
              "#d8576b"
             ],
             [
              0.6666666666666666,
              "#ed7953"
             ],
             [
              0.7777777777777778,
              "#fb9f3a"
             ],
             [
              0.8888888888888888,
              "#fdca26"
             ],
             [
              1.0,
              "#f0f921"
             ]
            ]
           }
          ],
          "mesh3d": [
           {
            "type": "mesh3d",
            "colorbar": {
             "outlinewidth": 0,
             "ticks": ""
            }
           }
          ],
          "scatter": [
           {
            "marker": {
             "line": {
              "color": "#283442"
             }
            },
            "type": "scatter"
           }
          ],
          "parcoords": [
           {
            "type": "parcoords",
            "line": {
             "colorbar": {
              "outlinewidth": 0,
              "ticks": ""
             }
            }
           }
          ],
          "scatterpolargl": [
           {
            "type": "scatterpolargl",
            "marker": {
             "colorbar": {
              "outlinewidth": 0,
              "ticks": ""
             }
            }
           }
          ],
          "bar": [
           {
            "error_x": {
             "color": "#f2f5fa"
            },
            "error_y": {
             "color": "#f2f5fa"
            },
            "marker": {
             "line": {
              "color": "rgb(17,17,17)",
              "width": 0.5
             },
             "pattern": {
              "fillmode": "overlay",
              "size": 10,
              "solidity": 0.2
             }
            },
            "type": "bar"
           }
          ],
          "scattergeo": [
           {
            "type": "scattergeo",
            "marker": {
             "colorbar": {
              "outlinewidth": 0,
              "ticks": ""
             }
            }
           }
          ],
          "scatterpolar": [
           {
            "type": "scatterpolar",
            "marker": {
             "colorbar": {
              "outlinewidth": 0,
              "ticks": ""
             }
            }
           }
          ],
          "histogram": [
           {
            "marker": {
             "pattern": {
              "fillmode": "overlay",
              "size": 10,
              "solidity": 0.2
             }
            },
            "type": "histogram"
           }
          ],
          "scattergl": [
           {
            "marker": {
             "line": {
              "color": "#283442"
             }
            },
            "type": "scattergl"
           }
          ],
          "scatter3d": [
           {
            "type": "scatter3d",
            "line": {
             "colorbar": {
              "outlinewidth": 0,
              "ticks": ""
             }
            },
            "marker": {
             "colorbar": {
              "outlinewidth": 0,
              "ticks": ""
             }
            }
           }
          ],
          "scattermapbox": [
           {
            "type": "scattermapbox",
            "marker": {
             "colorbar": {
              "outlinewidth": 0,
              "ticks": ""
             }
            }
           }
          ],
          "scatterternary": [
           {
            "type": "scatterternary",
            "marker": {
             "colorbar": {
              "outlinewidth": 0,
              "ticks": ""
             }
            }
           }
          ],
          "scattercarpet": [
           {
            "type": "scattercarpet",
            "marker": {
             "colorbar": {
              "outlinewidth": 0,
              "ticks": ""
             }
            }
           }
          ],
          "carpet": [
           {
            "aaxis": {
             "endlinecolor": "#A2B1C6",
             "gridcolor": "#506784",
             "linecolor": "#506784",
             "minorgridcolor": "#506784",
             "startlinecolor": "#A2B1C6"
            },
            "baxis": {
             "endlinecolor": "#A2B1C6",
             "gridcolor": "#506784",
             "linecolor": "#506784",
             "minorgridcolor": "#506784",
             "startlinecolor": "#A2B1C6"
            },
            "type": "carpet"
           }
          ],
          "table": [
           {
            "cells": {
             "fill": {
              "color": "#506784"
             },
             "line": {
              "color": "rgb(17,17,17)"
             }
            },
            "header": {
             "fill": {
              "color": "#2a3f5f"
             },
             "line": {
              "color": "rgb(17,17,17)"
             }
            },
            "type": "table"
           }
          ],
          "barpolar": [
           {
            "marker": {
             "line": {
              "color": "rgb(17,17,17)",
              "width": 0.5
             },
             "pattern": {
              "fillmode": "overlay",
              "size": 10,
              "solidity": 0.2
             }
            },
            "type": "barpolar"
           }
          ],
          "pie": [
           {
            "automargin": true,
            "type": "pie"
           }
          ]
         },
         "layout": {
          "autotypenumbers": "strict",
          "colorway": [
           "#636efa",
           "#EF553B",
           "#00cc96",
           "#ab63fa",
           "#FFA15A",
           "#19d3f3",
           "#FF6692",
           "#B6E880",
           "#FF97FF",
           "#FECB52"
          ],
          "font": {
           "color": "#f2f5fa"
          },
          "hovermode": "closest",
          "hoverlabel": {
           "align": "left"
          },
          "paper_bgcolor": "rgb(17,17,17)",
          "plot_bgcolor": "rgb(17,17,17)",
          "polar": {
           "bgcolor": "rgb(17,17,17)",
           "angularaxis": {
            "gridcolor": "#506784",
            "linecolor": "#506784",
            "ticks": ""
           },
           "radialaxis": {
            "gridcolor": "#506784",
            "linecolor": "#506784",
            "ticks": ""
           }
          },
          "ternary": {
           "bgcolor": "rgb(17,17,17)",
           "aaxis": {
            "gridcolor": "#506784",
            "linecolor": "#506784",
            "ticks": ""
           },
           "baxis": {
            "gridcolor": "#506784",
            "linecolor": "#506784",
            "ticks": ""
           },
           "caxis": {
            "gridcolor": "#506784",
            "linecolor": "#506784",
            "ticks": ""
           }
          },
          "coloraxis": {
           "colorbar": {
            "outlinewidth": 0,
            "ticks": ""
           }
          },
          "colorscale": {
           "sequential": [
            [
             0.0,
             "#0d0887"
            ],
            [
             0.1111111111111111,
             "#46039f"
            ],
            [
             0.2222222222222222,
             "#7201a8"
            ],
            [
             0.3333333333333333,
             "#9c179e"
            ],
            [
             0.4444444444444444,
             "#bd3786"
            ],
            [
             0.5555555555555556,
             "#d8576b"
            ],
            [
             0.6666666666666666,
             "#ed7953"
            ],
            [
             0.7777777777777778,
             "#fb9f3a"
            ],
            [
             0.8888888888888888,
             "#fdca26"
            ],
            [
             1.0,
             "#f0f921"
            ]
           ],
           "sequentialminus": [
            [
             0.0,
             "#0d0887"
            ],
            [
             0.1111111111111111,
             "#46039f"
            ],
            [
             0.2222222222222222,
             "#7201a8"
            ],
            [
             0.3333333333333333,
             "#9c179e"
            ],
            [
             0.4444444444444444,
             "#bd3786"
            ],
            [
             0.5555555555555556,
             "#d8576b"
            ],
            [
             0.6666666666666666,
             "#ed7953"
            ],
            [
             0.7777777777777778,
             "#fb9f3a"
            ],
            [
             0.8888888888888888,
             "#fdca26"
            ],
            [
             1.0,
             "#f0f921"
            ]
           ],
           "diverging": [
            [
             0,
             "#8e0152"
            ],
            [
             0.1,
             "#c51b7d"
            ],
            [
             0.2,
             "#de77ae"
            ],
            [
             0.3,
             "#f1b6da"
            ],
            [
             0.4,
             "#fde0ef"
            ],
            [
             0.5,
             "#f7f7f7"
            ],
            [
             0.6,
             "#e6f5d0"
            ],
            [
             0.7,
             "#b8e186"
            ],
            [
             0.8,
             "#7fbc41"
            ],
            [
             0.9,
             "#4d9221"
            ],
            [
             1,
             "#276419"
            ]
           ]
          },
          "xaxis": {
           "gridcolor": "#283442",
           "linecolor": "#506784",
           "ticks": "",
           "title": {
            "standoff": 15
           },
           "zerolinecolor": "#283442",
           "automargin": true,
           "zerolinewidth": 2
          },
          "yaxis": {
           "gridcolor": "#283442",
           "linecolor": "#506784",
           "ticks": "",
           "title": {
            "standoff": 15
           },
           "zerolinecolor": "#283442",
           "automargin": true,
           "zerolinewidth": 2
          },
          "scene": {
           "xaxis": {
            "backgroundcolor": "rgb(17,17,17)",
            "gridcolor": "#506784",
            "linecolor": "#506784",
            "showbackground": true,
            "ticks": "",
            "zerolinecolor": "#C8D4E3",
            "gridwidth": 2
           },
           "yaxis": {
            "backgroundcolor": "rgb(17,17,17)",
            "gridcolor": "#506784",
            "linecolor": "#506784",
            "showbackground": true,
            "ticks": "",
            "zerolinecolor": "#C8D4E3",
            "gridwidth": 2
           },
           "zaxis": {
            "backgroundcolor": "rgb(17,17,17)",
            "gridcolor": "#506784",
            "linecolor": "#506784",
            "showbackground": true,
            "ticks": "",
            "zerolinecolor": "#C8D4E3",
            "gridwidth": 2
           }
          },
          "shapedefaults": {
           "line": {
            "color": "#f2f5fa"
           }
          },
          "annotationdefaults": {
           "arrowcolor": "#f2f5fa",
           "arrowhead": 0,
           "arrowwidth": 1
          },
          "geo": {
           "bgcolor": "rgb(17,17,17)",
           "landcolor": "rgb(17,17,17)",
           "subunitcolor": "#506784",
           "showland": true,
           "showlakes": true,
           "lakecolor": "rgb(17,17,17)"
          },
          "title": {
           "x": 0.05
          },
          "updatemenudefaults": {
           "bgcolor": "#506784",
           "borderwidth": 0
          },
          "sliderdefaults": {
           "bgcolor": "#C8D4E3",
           "borderwidth": 1,
           "bordercolor": "rgb(17,17,17)",
           "tickwidth": 0
          },
          "mapbox": {
           "style": "dark"
          }
         }
        },
        "xaxis": {
         "anchor": "y",
         "domain": [
          0.0,
          1.0
         ],
         "title": {
          "text": "Credit amount"
         }
        },
        "yaxis": {
         "anchor": "x",
         "domain": [
          0.0,
          1.0
         ],
         "title": {
          "text": "count"
         }
        },
        "legend": {
         "tracegroupgap": 0
        },
        "title": {
         "text": "Credit amount distribution"
        },
        "barmode": "relative"
       },
       "config": {
        "plotlyServerURL": "https://plot.ly"
       }
      },
      "text/html": "<div>                            <div id=\"12065549-2548-4b2c-86f7-d162e760b6c0\" class=\"plotly-graph-div\" style=\"height:525px; width:100%;\"></div>            <script type=\"text/javascript\">                require([\"plotly\"], function(Plotly) {                    window.PLOTLYENV=window.PLOTLYENV || {};                                    if (document.getElementById(\"12065549-2548-4b2c-86f7-d162e760b6c0\")) {                    Plotly.newPlot(                        \"12065549-2548-4b2c-86f7-d162e760b6c0\",                        [{\"alignmentgroup\":\"True\",\"bingroup\":\"x\",\"hovertemplate\":\"Credit amount=%{x}<br>count=%{y}<extra></extra>\",\"legendgroup\":\"\",\"marker\":{\"color\":\"#636efa\",\"pattern\":{\"shape\":\"\"}},\"name\":\"\",\"offsetgroup\":\"\",\"orientation\":\"v\",\"showlegend\":false,\"x\":[1169,5951,2096,7882,4870,9055,2835,6948,3059,5234,1295,4308,1567,1199,1403,1282,2424,8072,12579,3430,2134,2647,2241,1804,2069,1374,426,409,2415,6836,1913,4020,5866,1264,1474,4746,6110,2100,1225,458,2333,1158,6204,6187,6143,1393,2299,1352,7228,2073,2333,5965,1262,3378,2225,783,6468,9566,1961,6229,1391,1537,1953,14421,3181,5190,2171,1007,1819,2394,8133,730,1164,5954,1977,1526,3965,4771,9436,3832,5943,1213,1568,1755,2315,1412,1295,12612,2249,1108,618,1409,797,3617,1318,15945,2012,2622,2337,7057,1469,2323,932,1919,2445,11938,6458,6078,7721,1410,1449,392,6260,7855,1680,3578,7174,2132,4281,2366,1835,3868,1768,781,1924,2121,701,639,1860,3499,8487,6887,2708,1984,10144,1240,8613,766,2728,1881,709,4795,3416,2462,2288,3566,860,682,5371,1582,1346,1924,5848,7758,6967,1282,1288,339,3512,1898,2872,1055,1262,7308,909,2978,1131,1577,3972,1935,950,763,2064,1414,3414,7485,2577,338,1963,571,9572,4455,1647,3777,884,1360,5129,1175,674,3244,4591,3844,3915,2108,3031,1501,1382,951,2760,4297,936,1168,5117,902,1495,10623,1935,1424,6568,1413,3074,3835,5293,1908,3342,932,3104,3913,3021,1364,625,1200,707,2978,4657,2613,10961,7865,1478,3149,4210,2507,2141,866,1544,1823,14555,2767,1291,2522,915,1595,4605,1185,3447,1258,717,1204,1925,433,666,2251,2150,4151,2030,7418,2684,2149,3812,1154,1657,1603,5302,2748,1231,802,6304,1533,8978,999,2662,1402,12169,3060,11998,2697,2404,1262,4611,1901,3368,1574,1445,1520,3878,10722,4788,7582,1092,1024,1076,9398,6419,4796,7629,9960,4675,1287,2515,2745,672,3804,1344,1038,10127,1543,4811,727,1237,276,5381,5511,3749,685,1494,2746,708,4351,701,3643,4249,1938,2910,2659,1028,3398,5801,1525,4473,1068,6615,1864,7408,11590,4110,3384,2101,1275,4169,1521,5743,3599,3213,4439,3949,1459,882,3758,1743,1136,1236,959,3229,6199,727,1246,2331,4463,776,2406,1239,3399,2247,1766,2473,1542,3850,3650,3446,3001,3079,6070,2146,13756,14782,7685,2320,846,14318,362,2212,12976,1283,1330,4272,2238,1126,7374,2326,1449,1820,983,3249,1957,2406,11760,2578,2348,1223,1516,1473,1887,8648,802,2899,2039,2197,1053,3235,939,1967,7253,2292,1597,1381,5842,2579,8471,2782,1042,3186,2028,958,1591,2762,2779,2743,1149,1313,1190,3448,11328,1872,2058,2136,1484,660,1287,3394,609,1884,1620,2629,719,5096,1244,1842,2576,1424,1512,11054,518,2759,2670,4817,2679,3905,3386,343,4594,3620,1721,3017,754,1950,2924,1659,7238,2764,4679,3092,448,654,1238,1245,3114,2569,5152,1037,1478,3573,1201,3622,960,1163,1209,3077,3757,1418,3518,1934,8318,1237,368,2122,2996,9034,1585,1301,1323,3123,5493,1126,1216,1207,1309,2360,6850,1413,8588,759,4686,2687,585,2255,609,1361,7127,1203,700,5507,3190,7119,3488,1113,7966,1532,1503,2302,662,2273,2631,1503,1311,3105,2319,1374,3612,7763,3049,1534,2032,6350,2864,1255,1333,2022,1552,626,8858,996,1750,6999,1995,1199,1331,2278,5003,3552,1928,2964,1546,683,12389,4712,1553,1372,2578,3979,6758,3234,5954,5433,806,1082,2788,2930,1927,2820,937,1056,3124,1388,2384,2133,2039,2799,1289,1217,2246,385,1965,1572,2718,1358,931,1442,4241,2775,3863,2329,918,1837,3349,1275,2828,4526,2671,2051,1300,741,1240,3357,3632,1808,12204,9157,3676,3441,640,3652,1530,3914,1858,2600,1979,2116,1437,4042,3832,3660,1553,1444,1980,1355,1393,1376,15653,1493,4370,750,1308,4623,1851,1880,7980,4583,1386,947,684,7476,1922,2303,8086,2346,3973,888,10222,4221,6361,1297,900,2241,1050,1047,6314,3496,3609,4843,3017,4139,5742,10366,2080,2580,4530,5150,5595,2384,1453,1538,2279,1478,5103,9857,6527,1347,2862,2753,3651,975,2631,2896,4716,2284,1236,1103,926,1800,1905,1123,6331,1377,2503,2528,5324,6560,2969,1206,2118,629,1198,2476,1138,14027,7596,3077,1505,3148,6148,1337,433,1228,790,2570,250,1316,1882,6416,1275,6403,1987,760,2603,3380,3990,11560,4380,6761,4280,2325,1048,3160,2483,14179,1797,2511,1274,5248,3029,428,976,841,5771,1555,1285,1299,1271,1393,691,5045,2124,2214,12680,2463,1155,3108,2901,3617,1655,2812,8065,3275,2223,1480,1371,3535,3509,5711,3872,4933,1940,1410,836,6468,1941,2675,2751,6224,5998,1188,6313,1221,2892,3062,2301,7511,1258,717,1549,1597,1795,4272,976,7472,9271,590,930,9283,1778,907,484,9629,3051,3931,7432,1338,1554,15857,1345,1101,3016,2712,731,3780,1602,3966,4165,8335,6681,2375,1216,11816,5084,2327,1082,886,601,2957,2611,5179,2993,1943,1559,3422,3976,6761,1249,1364,709,2235,4042,1471,1442,10875,1474,894,3343,3959,3577,5804,2169,2439,4526,2210,2221,2389,3331,7409,652,7678,1343,1382,874,3590,1322,1940,3595,1422,6742,7814,9277,2181,1098,4057,795,2825,15672,6614,7824,2442,1829,2171,5800,1169,8947,2606,1592,2186,4153,2625,3485,10477,1386,1278,1107,3763,3711,3594,3195,4454,4736,2991,2142,3161,18424,2848,14896,2359,3345,1817,12749,1366,2002,6872,697,1049,10297,1867,1344,1747,1670,1224,522,1498,1919,745,2063,6288,6842,3527,1546,929,1455,1845,8358,3349,2859,1533,3621,3590,2145,4113,10974,1893,1231,3656,1154,4006,3069,1740,2353,3556,2397,454,1715,2520,3568,7166,3939,1514,7393,1193,7297,2831,1258,753,2427,2538,1264,8386,4844,2923,8229,2028,1433,6289,1409,6579,1743,3565,1569,1936,3959,2390,1736,3857,804,1845,4576],\"xaxis\":\"x\",\"yaxis\":\"y\",\"type\":\"histogram\"}],                        {\"template\":{\"data\":{\"histogram2dcontour\":[{\"type\":\"histogram2dcontour\",\"colorbar\":{\"outlinewidth\":0,\"ticks\":\"\"},\"colorscale\":[[0.0,\"#0d0887\"],[0.1111111111111111,\"#46039f\"],[0.2222222222222222,\"#7201a8\"],[0.3333333333333333,\"#9c179e\"],[0.4444444444444444,\"#bd3786\"],[0.5555555555555556,\"#d8576b\"],[0.6666666666666666,\"#ed7953\"],[0.7777777777777778,\"#fb9f3a\"],[0.8888888888888888,\"#fdca26\"],[1.0,\"#f0f921\"]]}],\"choropleth\":[{\"type\":\"choropleth\",\"colorbar\":{\"outlinewidth\":0,\"ticks\":\"\"}}],\"histogram2d\":[{\"type\":\"histogram2d\",\"colorbar\":{\"outlinewidth\":0,\"ticks\":\"\"},\"colorscale\":[[0.0,\"#0d0887\"],[0.1111111111111111,\"#46039f\"],[0.2222222222222222,\"#7201a8\"],[0.3333333333333333,\"#9c179e\"],[0.4444444444444444,\"#bd3786\"],[0.5555555555555556,\"#d8576b\"],[0.6666666666666666,\"#ed7953\"],[0.7777777777777778,\"#fb9f3a\"],[0.8888888888888888,\"#fdca26\"],[1.0,\"#f0f921\"]]}],\"heatmap\":[{\"type\":\"heatmap\",\"colorbar\":{\"outlinewidth\":0,\"ticks\":\"\"},\"colorscale\":[[0.0,\"#0d0887\"],[0.1111111111111111,\"#46039f\"],[0.2222222222222222,\"#7201a8\"],[0.3333333333333333,\"#9c179e\"],[0.4444444444444444,\"#bd3786\"],[0.5555555555555556,\"#d8576b\"],[0.6666666666666666,\"#ed7953\"],[0.7777777777777778,\"#fb9f3a\"],[0.8888888888888888,\"#fdca26\"],[1.0,\"#f0f921\"]]}],\"heatmapgl\":[{\"type\":\"heatmapgl\",\"colorbar\":{\"outlinewidth\":0,\"ticks\":\"\"},\"colorscale\":[[0.0,\"#0d0887\"],[0.1111111111111111,\"#46039f\"],[0.2222222222222222,\"#7201a8\"],[0.3333333333333333,\"#9c179e\"],[0.4444444444444444,\"#bd3786\"],[0.5555555555555556,\"#d8576b\"],[0.6666666666666666,\"#ed7953\"],[0.7777777777777778,\"#fb9f3a\"],[0.8888888888888888,\"#fdca26\"],[1.0,\"#f0f921\"]]}],\"contourcarpet\":[{\"type\":\"contourcarpet\",\"colorbar\":{\"outlinewidth\":0,\"ticks\":\"\"}}],\"contour\":[{\"type\":\"contour\",\"colorbar\":{\"outlinewidth\":0,\"ticks\":\"\"},\"colorscale\":[[0.0,\"#0d0887\"],[0.1111111111111111,\"#46039f\"],[0.2222222222222222,\"#7201a8\"],[0.3333333333333333,\"#9c179e\"],[0.4444444444444444,\"#bd3786\"],[0.5555555555555556,\"#d8576b\"],[0.6666666666666666,\"#ed7953\"],[0.7777777777777778,\"#fb9f3a\"],[0.8888888888888888,\"#fdca26\"],[1.0,\"#f0f921\"]]}],\"surface\":[{\"type\":\"surface\",\"colorbar\":{\"outlinewidth\":0,\"ticks\":\"\"},\"colorscale\":[[0.0,\"#0d0887\"],[0.1111111111111111,\"#46039f\"],[0.2222222222222222,\"#7201a8\"],[0.3333333333333333,\"#9c179e\"],[0.4444444444444444,\"#bd3786\"],[0.5555555555555556,\"#d8576b\"],[0.6666666666666666,\"#ed7953\"],[0.7777777777777778,\"#fb9f3a\"],[0.8888888888888888,\"#fdca26\"],[1.0,\"#f0f921\"]]}],\"mesh3d\":[{\"type\":\"mesh3d\",\"colorbar\":{\"outlinewidth\":0,\"ticks\":\"\"}}],\"scatter\":[{\"marker\":{\"line\":{\"color\":\"#283442\"}},\"type\":\"scatter\"}],\"parcoords\":[{\"type\":\"parcoords\",\"line\":{\"colorbar\":{\"outlinewidth\":0,\"ticks\":\"\"}}}],\"scatterpolargl\":[{\"type\":\"scatterpolargl\",\"marker\":{\"colorbar\":{\"outlinewidth\":0,\"ticks\":\"\"}}}],\"bar\":[{\"error_x\":{\"color\":\"#f2f5fa\"},\"error_y\":{\"color\":\"#f2f5fa\"},\"marker\":{\"line\":{\"color\":\"rgb(17,17,17)\",\"width\":0.5},\"pattern\":{\"fillmode\":\"overlay\",\"size\":10,\"solidity\":0.2}},\"type\":\"bar\"}],\"scattergeo\":[{\"type\":\"scattergeo\",\"marker\":{\"colorbar\":{\"outlinewidth\":0,\"ticks\":\"\"}}}],\"scatterpolar\":[{\"type\":\"scatterpolar\",\"marker\":{\"colorbar\":{\"outlinewidth\":0,\"ticks\":\"\"}}}],\"histogram\":[{\"marker\":{\"pattern\":{\"fillmode\":\"overlay\",\"size\":10,\"solidity\":0.2}},\"type\":\"histogram\"}],\"scattergl\":[{\"marker\":{\"line\":{\"color\":\"#283442\"}},\"type\":\"scattergl\"}],\"scatter3d\":[{\"type\":\"scatter3d\",\"line\":{\"colorbar\":{\"outlinewidth\":0,\"ticks\":\"\"}},\"marker\":{\"colorbar\":{\"outlinewidth\":0,\"ticks\":\"\"}}}],\"scattermapbox\":[{\"type\":\"scattermapbox\",\"marker\":{\"colorbar\":{\"outlinewidth\":0,\"ticks\":\"\"}}}],\"scatterternary\":[{\"type\":\"scatterternary\",\"marker\":{\"colorbar\":{\"outlinewidth\":0,\"ticks\":\"\"}}}],\"scattercarpet\":[{\"type\":\"scattercarpet\",\"marker\":{\"colorbar\":{\"outlinewidth\":0,\"ticks\":\"\"}}}],\"carpet\":[{\"aaxis\":{\"endlinecolor\":\"#A2B1C6\",\"gridcolor\":\"#506784\",\"linecolor\":\"#506784\",\"minorgridcolor\":\"#506784\",\"startlinecolor\":\"#A2B1C6\"},\"baxis\":{\"endlinecolor\":\"#A2B1C6\",\"gridcolor\":\"#506784\",\"linecolor\":\"#506784\",\"minorgridcolor\":\"#506784\",\"startlinecolor\":\"#A2B1C6\"},\"type\":\"carpet\"}],\"table\":[{\"cells\":{\"fill\":{\"color\":\"#506784\"},\"line\":{\"color\":\"rgb(17,17,17)\"}},\"header\":{\"fill\":{\"color\":\"#2a3f5f\"},\"line\":{\"color\":\"rgb(17,17,17)\"}},\"type\":\"table\"}],\"barpolar\":[{\"marker\":{\"line\":{\"color\":\"rgb(17,17,17)\",\"width\":0.5},\"pattern\":{\"fillmode\":\"overlay\",\"size\":10,\"solidity\":0.2}},\"type\":\"barpolar\"}],\"pie\":[{\"automargin\":true,\"type\":\"pie\"}]},\"layout\":{\"autotypenumbers\":\"strict\",\"colorway\":[\"#636efa\",\"#EF553B\",\"#00cc96\",\"#ab63fa\",\"#FFA15A\",\"#19d3f3\",\"#FF6692\",\"#B6E880\",\"#FF97FF\",\"#FECB52\"],\"font\":{\"color\":\"#f2f5fa\"},\"hovermode\":\"closest\",\"hoverlabel\":{\"align\":\"left\"},\"paper_bgcolor\":\"rgb(17,17,17)\",\"plot_bgcolor\":\"rgb(17,17,17)\",\"polar\":{\"bgcolor\":\"rgb(17,17,17)\",\"angularaxis\":{\"gridcolor\":\"#506784\",\"linecolor\":\"#506784\",\"ticks\":\"\"},\"radialaxis\":{\"gridcolor\":\"#506784\",\"linecolor\":\"#506784\",\"ticks\":\"\"}},\"ternary\":{\"bgcolor\":\"rgb(17,17,17)\",\"aaxis\":{\"gridcolor\":\"#506784\",\"linecolor\":\"#506784\",\"ticks\":\"\"},\"baxis\":{\"gridcolor\":\"#506784\",\"linecolor\":\"#506784\",\"ticks\":\"\"},\"caxis\":{\"gridcolor\":\"#506784\",\"linecolor\":\"#506784\",\"ticks\":\"\"}},\"coloraxis\":{\"colorbar\":{\"outlinewidth\":0,\"ticks\":\"\"}},\"colorscale\":{\"sequential\":[[0.0,\"#0d0887\"],[0.1111111111111111,\"#46039f\"],[0.2222222222222222,\"#7201a8\"],[0.3333333333333333,\"#9c179e\"],[0.4444444444444444,\"#bd3786\"],[0.5555555555555556,\"#d8576b\"],[0.6666666666666666,\"#ed7953\"],[0.7777777777777778,\"#fb9f3a\"],[0.8888888888888888,\"#fdca26\"],[1.0,\"#f0f921\"]],\"sequentialminus\":[[0.0,\"#0d0887\"],[0.1111111111111111,\"#46039f\"],[0.2222222222222222,\"#7201a8\"],[0.3333333333333333,\"#9c179e\"],[0.4444444444444444,\"#bd3786\"],[0.5555555555555556,\"#d8576b\"],[0.6666666666666666,\"#ed7953\"],[0.7777777777777778,\"#fb9f3a\"],[0.8888888888888888,\"#fdca26\"],[1.0,\"#f0f921\"]],\"diverging\":[[0,\"#8e0152\"],[0.1,\"#c51b7d\"],[0.2,\"#de77ae\"],[0.3,\"#f1b6da\"],[0.4,\"#fde0ef\"],[0.5,\"#f7f7f7\"],[0.6,\"#e6f5d0\"],[0.7,\"#b8e186\"],[0.8,\"#7fbc41\"],[0.9,\"#4d9221\"],[1,\"#276419\"]]},\"xaxis\":{\"gridcolor\":\"#283442\",\"linecolor\":\"#506784\",\"ticks\":\"\",\"title\":{\"standoff\":15},\"zerolinecolor\":\"#283442\",\"automargin\":true,\"zerolinewidth\":2},\"yaxis\":{\"gridcolor\":\"#283442\",\"linecolor\":\"#506784\",\"ticks\":\"\",\"title\":{\"standoff\":15},\"zerolinecolor\":\"#283442\",\"automargin\":true,\"zerolinewidth\":2},\"scene\":{\"xaxis\":{\"backgroundcolor\":\"rgb(17,17,17)\",\"gridcolor\":\"#506784\",\"linecolor\":\"#506784\",\"showbackground\":true,\"ticks\":\"\",\"zerolinecolor\":\"#C8D4E3\",\"gridwidth\":2},\"yaxis\":{\"backgroundcolor\":\"rgb(17,17,17)\",\"gridcolor\":\"#506784\",\"linecolor\":\"#506784\",\"showbackground\":true,\"ticks\":\"\",\"zerolinecolor\":\"#C8D4E3\",\"gridwidth\":2},\"zaxis\":{\"backgroundcolor\":\"rgb(17,17,17)\",\"gridcolor\":\"#506784\",\"linecolor\":\"#506784\",\"showbackground\":true,\"ticks\":\"\",\"zerolinecolor\":\"#C8D4E3\",\"gridwidth\":2}},\"shapedefaults\":{\"line\":{\"color\":\"#f2f5fa\"}},\"annotationdefaults\":{\"arrowcolor\":\"#f2f5fa\",\"arrowhead\":0,\"arrowwidth\":1},\"geo\":{\"bgcolor\":\"rgb(17,17,17)\",\"landcolor\":\"rgb(17,17,17)\",\"subunitcolor\":\"#506784\",\"showland\":true,\"showlakes\":true,\"lakecolor\":\"rgb(17,17,17)\"},\"title\":{\"x\":0.05},\"updatemenudefaults\":{\"bgcolor\":\"#506784\",\"borderwidth\":0},\"sliderdefaults\":{\"bgcolor\":\"#C8D4E3\",\"borderwidth\":1,\"bordercolor\":\"rgb(17,17,17)\",\"tickwidth\":0},\"mapbox\":{\"style\":\"dark\"}}},\"xaxis\":{\"anchor\":\"y\",\"domain\":[0.0,1.0],\"title\":{\"text\":\"Credit amount\"}},\"yaxis\":{\"anchor\":\"x\",\"domain\":[0.0,1.0],\"title\":{\"text\":\"count\"}},\"legend\":{\"tracegroupgap\":0},\"title\":{\"text\":\"Credit amount distribution\"},\"barmode\":\"relative\"},                        {\"responsive\": true}                    ).then(function(){\n                            \nvar gd = document.getElementById('12065549-2548-4b2c-86f7-d162e760b6c0');\nvar x = new MutationObserver(function (mutations, observer) {{\n        var display = window.getComputedStyle(gd).display;\n        if (!display || display === 'none') {{\n            console.log([gd, 'removed!']);\n            Plotly.purge(gd);\n            observer.disconnect();\n        }}\n}});\n\n// Listen for the removal of the full notebook cells\nvar notebookContainer = gd.closest('#notebook-container');\nif (notebookContainer) {{\n    x.observe(notebookContainer, {childList: true});\n}}\n\n// Listen for the clearing of the current output cell\nvar outputEl = gd.closest('.output');\nif (outputEl) {{\n    x.observe(outputEl, {childList: true});\n}}\n\n                        })                };                });            </script>        </div>"
     },
     "metadata": {},
     "output_type": "display_data"
    },
    {
     "data": {
      "application/vnd.plotly.v1+json": {
       "data": [
        {
         "alignmentgroup": "True",
         "bingroup": "x",
         "hovertemplate": "Duration=%{x}<br>count=%{y}<extra></extra>",
         "legendgroup": "",
         "marker": {
          "color": "#636efa",
          "pattern": {
           "shape": ""
          }
         },
         "name": "",
         "offsetgroup": "",
         "orientation": "v",
         "showlegend": false,
         "x": [
          6,
          48,
          12,
          42,
          24,
          36,
          24,
          36,
          12,
          30,
          12,
          48,
          12,
          24,
          15,
          24,
          24,
          30,
          24,
          24,
          9,
          6,
          10,
          12,
          10,
          6,
          6,
          12,
          7,
          60,
          18,
          24,
          18,
          12,
          12,
          45,
          48,
          18,
          10,
          9,
          30,
          12,
          18,
          30,
          48,
          11,
          36,
          6,
          11,
          12,
          24,
          27,
          12,
          18,
          36,
          6,
          12,
          36,
          18,
          36,
          9,
          15,
          36,
          48,
          24,
          27,
          12,
          12,
          36,
          36,
          36,
          7,
          8,
          42,
          36,
          12,
          42,
          11,
          54,
          30,
          24,
          15,
          18,
          24,
          10,
          12,
          18,
          36,
          18,
          12,
          12,
          12,
          12,
          24,
          12,
          54,
          12,
          18,
          36,
          20,
          24,
          36,
          6,
          9,
          12,
          24,
          18,
          12,
          24,
          14,
          6,
          15,
          18,
          36,
          12,
          48,
          42,
          10,
          33,
          12,
          21,
          24,
          12,
          10,
          18,
          12,
          12,
          12,
          12,
          12,
          48,
          36,
          15,
          18,
          60,
          12,
          27,
          12,
          15,
          12,
          6,
          36,
          27,
          18,
          21,
          48,
          6,
          12,
          36,
          18,
          6,
          10,
          36,
          24,
          24,
          12,
          9,
          12,
          24,
          6,
          24,
          18,
          15,
          10,
          36,
          6,
          18,
          11,
          24,
          24,
          15,
          12,
          24,
          8,
          21,
          30,
          12,
          6,
          12,
          21,
          36,
          36,
          21,
          24,
          18,
          15,
          9,
          16,
          12,
          18,
          24,
          48,
          27,
          6,
          45,
          9,
          6,
          12,
          24,
          18,
          9,
          12,
          27,
          12,
          12,
          30,
          12,
          12,
          24,
          12,
          9,
          36,
          27,
          30,
          36,
          6,
          18,
          36,
          24,
          10,
          12,
          12,
          12,
          24,
          15,
          36,
          48,
          12,
          9,
          24,
          36,
          9,
          12,
          18,
          4,
          24,
          6,
          21,
          12,
          30,
          24,
          6,
          48,
          12,
          12,
          24,
          12,
          6,
          24,
          18,
          6,
          12,
          30,
          24,
          9,
          60,
          24,
          12,
          15,
          11,
          12,
          24,
          18,
          12,
          10,
          15,
          36,
          24,
          14,
          24,
          18,
          12,
          48,
          48,
          30,
          9,
          18,
          12,
          6,
          24,
          15,
          12,
          18,
          15,
          24,
          47,
          48,
          48,
          12,
          24,
          12,
          36,
          24,
          42,
          48,
          48,
          12,
          10,
          18,
          21,
          6,
          36,
          24,
          10,
          48,
          6,
          30,
          12,
          8,
          9,
          48,
          24,
          24,
          12,
          4,
          36,
          12,
          24,
          12,
          15,
          30,
          24,
          24,
          18,
          18,
          8,
          12,
          24,
          36,
          6,
          24,
          18,
          60,
          48,
          24,
          6,
          13,
          15,
          24,
          10,
          24,
          21,
          18,
          18,
          10,
          15,
          13,
          24,
          6,
          9,
          9,
          9,
          18,
          12,
          10,
          24,
          12,
          36,
          12,
          30,
          18,
          12,
          12,
          6,
          18,
          12,
          18,
          18,
          36,
          18,
          36,
          18,
          10,
          60,
          60,
          48,
          18,
          7,
          36,
          6,
          20,
          18,
          22,
          12,
          30,
          18,
          18,
          18,
          15,
          9,
          18,
          12,
          36,
          6,
          9,
          39,
          12,
          36,
          12,
          24,
          18,
          18,
          24,
          14,
          18,
          24,
          24,
          15,
          24,
          12,
          24,
          33,
          12,
          10,
          24,
          36,
          12,
          18,
          21,
          18,
          15,
          12,
          12,
          21,
          12,
          18,
          28,
          18,
          9,
          18,
          5,
          24,
          6,
          24,
          9,
          12,
          6,
          24,
          42,
          12,
          12,
          12,
          20,
          12,
          48,
          9,
          36,
          7,
          12,
          15,
          36,
          6,
          12,
          24,
          24,
          24,
          11,
          12,
          6,
          18,
          36,
          15,
          12,
          12,
          18,
          24,
          24,
          48,
          33,
          24,
          24,
          6,
          9,
          6,
          18,
          18,
          39,
          24,
          12,
          15,
          12,
          24,
          30,
          15,
          12,
          6,
          12,
          24,
          10,
          6,
          12,
          27,
          6,
          6,
          12,
          24,
          36,
          24,
          18,
          6,
          24,
          36,
          9,
          24,
          24,
          10,
          15,
          15,
          24,
          39,
          12,
          36,
          15,
          12,
          24,
          6,
          6,
          36,
          6,
          6,
          24,
          18,
          48,
          24,
          18,
          26,
          15,
          4,
          36,
          6,
          36,
          15,
          12,
          24,
          24,
          21,
          6,
          18,
          48,
          18,
          12,
          24,
          30,
          18,
          12,
          24,
          24,
          24,
          12,
          48,
          12,
          6,
          48,
          12,
          9,
          12,
          18,
          21,
          24,
          18,
          24,
          24,
          6,
          36,
          24,
          24,
          12,
          24,
          48,
          48,
          24,
          30,
          24,
          15,
          9,
          15,
          12,
          24,
          36,
          24,
          18,
          12,
          9,
          36,
          12,
          18,
          9,
          12,
          18,
          12,
          12,
          24,
          21,
          24,
          24,
          6,
          24,
          24,
          18,
          24,
          7,
          9,
          24,
          36,
          10,
          24,
          24,
          36,
          18,
          15,
          12,
          10,
          21,
          24,
          18,
          48,
          60,
          6,
          30,
          12,
          21,
          18,
          48,
          12,
          18,
          15,
          6,
          9,
          42,
          9,
          24,
          18,
          15,
          9,
          24,
          12,
          24,
          60,
          12,
          42,
          18,
          15,
          15,
          24,
          18,
          36,
          30,
          12,
          24,
          12,
          48,
          12,
          24,
          36,
          24,
          14,
          12,
          48,
          30,
          18,
          12,
          12,
          21,
          6,
          6,
          24,
          30,
          48,
          12,
          30,
          24,
          36,
          60,
          6,
          21,
          30,
          24,
          72,
          24,
          18,
          6,
          12,
          15,
          24,
          36,
          60,
          10,
          36,
          9,
          12,
          15,
          15,
          24,
          6,
          24,
          6,
          12,
          12,
          18,
          15,
          12,
          48,
          24,
          30,
          27,
          15,
          48,
          12,
          9,
          9,
          18,
          6,
          21,
          9,
          60,
          30,
          30,
          18,
          24,
          20,
          9,
          6,
          12,
          9,
          27,
          6,
          15,
          18,
          48,
          24,
          24,
          24,
          8,
          24,
          4,
          36,
          24,
          18,
          6,
          30,
          24,
          10,
          21,
          24,
          39,
          13,
          15,
          12,
          21,
          15,
          6,
          18,
          12,
          30,
          12,
          24,
          6,
          15,
          24,
          12,
          15,
          18,
          12,
          21,
          24,
          12,
          30,
          10,
          12,
          12,
          24,
          36,
          21,
          24,
          12,
          24,
          36,
          18,
          36,
          18,
          39,
          24,
          12,
          12,
          20,
          18,
          22,
          48,
          48,
          40,
          21,
          24,
          6,
          24,
          24,
          9,
          18,
          12,
          24,
          9,
          24,
          18,
          20,
          12,
          12,
          36,
          6,
          12,
          42,
          15,
          8,
          6,
          36,
          48,
          48,
          36,
          6,
          6,
          36,
          18,
          12,
          12,
          36,
          8,
          18,
          21,
          18,
          18,
          36,
          48,
          24,
          18,
          45,
          24,
          15,
          12,
          12,
          4,
          24,
          24,
          36,
          21,
          18,
          24,
          18,
          21,
          18,
          24,
          9,
          12,
          20,
          24,
          15,
          18,
          36,
          24,
          10,
          15,
          15,
          9,
          24,
          18,
          24,
          27,
          10,
          15,
          18,
          12,
          36,
          12,
          36,
          6,
          24,
          15,
          12,
          11,
          18,
          36,
          9,
          30,
          24,
          24,
          30,
          18,
          24,
          12,
          24,
          48,
          36,
          28,
          27,
          15,
          12,
          36,
          18,
          36,
          21,
          12,
          15,
          18,
          16,
          20,
          36,
          15,
          24,
          12,
          21,
          36,
          15,
          9,
          36,
          24,
          30,
          11,
          24,
          48,
          10,
          6,
          24,
          24,
          18,
          48,
          9,
          12,
          24,
          12,
          18,
          48,
          30,
          12,
          24,
          9,
          9,
          12,
          12,
          30,
          9,
          6,
          60,
          24,
          12,
          10,
          24,
          4,
          15,
          48,
          24,
          12,
          18,
          24,
          18,
          36,
          24,
          36,
          12,
          24,
          30,
          9,
          28,
          24,
          6,
          21,
          15,
          24,
          6,
          30,
          27,
          15,
          42,
          11,
          15,
          24,
          24,
          60,
          30,
          24,
          6,
          18,
          24,
          15,
          30,
          48,
          21,
          36,
          24,
          15,
          42,
          13,
          24,
          24,
          12,
          15,
          18,
          36,
          12,
          12,
          30,
          12,
          45,
          45
         ],
         "xaxis": "x",
         "yaxis": "y",
         "type": "histogram"
        }
       ],
       "layout": {
        "template": {
         "data": {
          "histogram2dcontour": [
           {
            "type": "histogram2dcontour",
            "colorbar": {
             "outlinewidth": 0,
             "ticks": ""
            },
            "colorscale": [
             [
              0.0,
              "#0d0887"
             ],
             [
              0.1111111111111111,
              "#46039f"
             ],
             [
              0.2222222222222222,
              "#7201a8"
             ],
             [
              0.3333333333333333,
              "#9c179e"
             ],
             [
              0.4444444444444444,
              "#bd3786"
             ],
             [
              0.5555555555555556,
              "#d8576b"
             ],
             [
              0.6666666666666666,
              "#ed7953"
             ],
             [
              0.7777777777777778,
              "#fb9f3a"
             ],
             [
              0.8888888888888888,
              "#fdca26"
             ],
             [
              1.0,
              "#f0f921"
             ]
            ]
           }
          ],
          "choropleth": [
           {
            "type": "choropleth",
            "colorbar": {
             "outlinewidth": 0,
             "ticks": ""
            }
           }
          ],
          "histogram2d": [
           {
            "type": "histogram2d",
            "colorbar": {
             "outlinewidth": 0,
             "ticks": ""
            },
            "colorscale": [
             [
              0.0,
              "#0d0887"
             ],
             [
              0.1111111111111111,
              "#46039f"
             ],
             [
              0.2222222222222222,
              "#7201a8"
             ],
             [
              0.3333333333333333,
              "#9c179e"
             ],
             [
              0.4444444444444444,
              "#bd3786"
             ],
             [
              0.5555555555555556,
              "#d8576b"
             ],
             [
              0.6666666666666666,
              "#ed7953"
             ],
             [
              0.7777777777777778,
              "#fb9f3a"
             ],
             [
              0.8888888888888888,
              "#fdca26"
             ],
             [
              1.0,
              "#f0f921"
             ]
            ]
           }
          ],
          "heatmap": [
           {
            "type": "heatmap",
            "colorbar": {
             "outlinewidth": 0,
             "ticks": ""
            },
            "colorscale": [
             [
              0.0,
              "#0d0887"
             ],
             [
              0.1111111111111111,
              "#46039f"
             ],
             [
              0.2222222222222222,
              "#7201a8"
             ],
             [
              0.3333333333333333,
              "#9c179e"
             ],
             [
              0.4444444444444444,
              "#bd3786"
             ],
             [
              0.5555555555555556,
              "#d8576b"
             ],
             [
              0.6666666666666666,
              "#ed7953"
             ],
             [
              0.7777777777777778,
              "#fb9f3a"
             ],
             [
              0.8888888888888888,
              "#fdca26"
             ],
             [
              1.0,
              "#f0f921"
             ]
            ]
           }
          ],
          "heatmapgl": [
           {
            "type": "heatmapgl",
            "colorbar": {
             "outlinewidth": 0,
             "ticks": ""
            },
            "colorscale": [
             [
              0.0,
              "#0d0887"
             ],
             [
              0.1111111111111111,
              "#46039f"
             ],
             [
              0.2222222222222222,
              "#7201a8"
             ],
             [
              0.3333333333333333,
              "#9c179e"
             ],
             [
              0.4444444444444444,
              "#bd3786"
             ],
             [
              0.5555555555555556,
              "#d8576b"
             ],
             [
              0.6666666666666666,
              "#ed7953"
             ],
             [
              0.7777777777777778,
              "#fb9f3a"
             ],
             [
              0.8888888888888888,
              "#fdca26"
             ],
             [
              1.0,
              "#f0f921"
             ]
            ]
           }
          ],
          "contourcarpet": [
           {
            "type": "contourcarpet",
            "colorbar": {
             "outlinewidth": 0,
             "ticks": ""
            }
           }
          ],
          "contour": [
           {
            "type": "contour",
            "colorbar": {
             "outlinewidth": 0,
             "ticks": ""
            },
            "colorscale": [
             [
              0.0,
              "#0d0887"
             ],
             [
              0.1111111111111111,
              "#46039f"
             ],
             [
              0.2222222222222222,
              "#7201a8"
             ],
             [
              0.3333333333333333,
              "#9c179e"
             ],
             [
              0.4444444444444444,
              "#bd3786"
             ],
             [
              0.5555555555555556,
              "#d8576b"
             ],
             [
              0.6666666666666666,
              "#ed7953"
             ],
             [
              0.7777777777777778,
              "#fb9f3a"
             ],
             [
              0.8888888888888888,
              "#fdca26"
             ],
             [
              1.0,
              "#f0f921"
             ]
            ]
           }
          ],
          "surface": [
           {
            "type": "surface",
            "colorbar": {
             "outlinewidth": 0,
             "ticks": ""
            },
            "colorscale": [
             [
              0.0,
              "#0d0887"
             ],
             [
              0.1111111111111111,
              "#46039f"
             ],
             [
              0.2222222222222222,
              "#7201a8"
             ],
             [
              0.3333333333333333,
              "#9c179e"
             ],
             [
              0.4444444444444444,
              "#bd3786"
             ],
             [
              0.5555555555555556,
              "#d8576b"
             ],
             [
              0.6666666666666666,
              "#ed7953"
             ],
             [
              0.7777777777777778,
              "#fb9f3a"
             ],
             [
              0.8888888888888888,
              "#fdca26"
             ],
             [
              1.0,
              "#f0f921"
             ]
            ]
           }
          ],
          "mesh3d": [
           {
            "type": "mesh3d",
            "colorbar": {
             "outlinewidth": 0,
             "ticks": ""
            }
           }
          ],
          "scatter": [
           {
            "marker": {
             "line": {
              "color": "#283442"
             }
            },
            "type": "scatter"
           }
          ],
          "parcoords": [
           {
            "type": "parcoords",
            "line": {
             "colorbar": {
              "outlinewidth": 0,
              "ticks": ""
             }
            }
           }
          ],
          "scatterpolargl": [
           {
            "type": "scatterpolargl",
            "marker": {
             "colorbar": {
              "outlinewidth": 0,
              "ticks": ""
             }
            }
           }
          ],
          "bar": [
           {
            "error_x": {
             "color": "#f2f5fa"
            },
            "error_y": {
             "color": "#f2f5fa"
            },
            "marker": {
             "line": {
              "color": "rgb(17,17,17)",
              "width": 0.5
             },
             "pattern": {
              "fillmode": "overlay",
              "size": 10,
              "solidity": 0.2
             }
            },
            "type": "bar"
           }
          ],
          "scattergeo": [
           {
            "type": "scattergeo",
            "marker": {
             "colorbar": {
              "outlinewidth": 0,
              "ticks": ""
             }
            }
           }
          ],
          "scatterpolar": [
           {
            "type": "scatterpolar",
            "marker": {
             "colorbar": {
              "outlinewidth": 0,
              "ticks": ""
             }
            }
           }
          ],
          "histogram": [
           {
            "marker": {
             "pattern": {
              "fillmode": "overlay",
              "size": 10,
              "solidity": 0.2
             }
            },
            "type": "histogram"
           }
          ],
          "scattergl": [
           {
            "marker": {
             "line": {
              "color": "#283442"
             }
            },
            "type": "scattergl"
           }
          ],
          "scatter3d": [
           {
            "type": "scatter3d",
            "line": {
             "colorbar": {
              "outlinewidth": 0,
              "ticks": ""
             }
            },
            "marker": {
             "colorbar": {
              "outlinewidth": 0,
              "ticks": ""
             }
            }
           }
          ],
          "scattermapbox": [
           {
            "type": "scattermapbox",
            "marker": {
             "colorbar": {
              "outlinewidth": 0,
              "ticks": ""
             }
            }
           }
          ],
          "scatterternary": [
           {
            "type": "scatterternary",
            "marker": {
             "colorbar": {
              "outlinewidth": 0,
              "ticks": ""
             }
            }
           }
          ],
          "scattercarpet": [
           {
            "type": "scattercarpet",
            "marker": {
             "colorbar": {
              "outlinewidth": 0,
              "ticks": ""
             }
            }
           }
          ],
          "carpet": [
           {
            "aaxis": {
             "endlinecolor": "#A2B1C6",
             "gridcolor": "#506784",
             "linecolor": "#506784",
             "minorgridcolor": "#506784",
             "startlinecolor": "#A2B1C6"
            },
            "baxis": {
             "endlinecolor": "#A2B1C6",
             "gridcolor": "#506784",
             "linecolor": "#506784",
             "minorgridcolor": "#506784",
             "startlinecolor": "#A2B1C6"
            },
            "type": "carpet"
           }
          ],
          "table": [
           {
            "cells": {
             "fill": {
              "color": "#506784"
             },
             "line": {
              "color": "rgb(17,17,17)"
             }
            },
            "header": {
             "fill": {
              "color": "#2a3f5f"
             },
             "line": {
              "color": "rgb(17,17,17)"
             }
            },
            "type": "table"
           }
          ],
          "barpolar": [
           {
            "marker": {
             "line": {
              "color": "rgb(17,17,17)",
              "width": 0.5
             },
             "pattern": {
              "fillmode": "overlay",
              "size": 10,
              "solidity": 0.2
             }
            },
            "type": "barpolar"
           }
          ],
          "pie": [
           {
            "automargin": true,
            "type": "pie"
           }
          ]
         },
         "layout": {
          "autotypenumbers": "strict",
          "colorway": [
           "#636efa",
           "#EF553B",
           "#00cc96",
           "#ab63fa",
           "#FFA15A",
           "#19d3f3",
           "#FF6692",
           "#B6E880",
           "#FF97FF",
           "#FECB52"
          ],
          "font": {
           "color": "#f2f5fa"
          },
          "hovermode": "closest",
          "hoverlabel": {
           "align": "left"
          },
          "paper_bgcolor": "rgb(17,17,17)",
          "plot_bgcolor": "rgb(17,17,17)",
          "polar": {
           "bgcolor": "rgb(17,17,17)",
           "angularaxis": {
            "gridcolor": "#506784",
            "linecolor": "#506784",
            "ticks": ""
           },
           "radialaxis": {
            "gridcolor": "#506784",
            "linecolor": "#506784",
            "ticks": ""
           }
          },
          "ternary": {
           "bgcolor": "rgb(17,17,17)",
           "aaxis": {
            "gridcolor": "#506784",
            "linecolor": "#506784",
            "ticks": ""
           },
           "baxis": {
            "gridcolor": "#506784",
            "linecolor": "#506784",
            "ticks": ""
           },
           "caxis": {
            "gridcolor": "#506784",
            "linecolor": "#506784",
            "ticks": ""
           }
          },
          "coloraxis": {
           "colorbar": {
            "outlinewidth": 0,
            "ticks": ""
           }
          },
          "colorscale": {
           "sequential": [
            [
             0.0,
             "#0d0887"
            ],
            [
             0.1111111111111111,
             "#46039f"
            ],
            [
             0.2222222222222222,
             "#7201a8"
            ],
            [
             0.3333333333333333,
             "#9c179e"
            ],
            [
             0.4444444444444444,
             "#bd3786"
            ],
            [
             0.5555555555555556,
             "#d8576b"
            ],
            [
             0.6666666666666666,
             "#ed7953"
            ],
            [
             0.7777777777777778,
             "#fb9f3a"
            ],
            [
             0.8888888888888888,
             "#fdca26"
            ],
            [
             1.0,
             "#f0f921"
            ]
           ],
           "sequentialminus": [
            [
             0.0,
             "#0d0887"
            ],
            [
             0.1111111111111111,
             "#46039f"
            ],
            [
             0.2222222222222222,
             "#7201a8"
            ],
            [
             0.3333333333333333,
             "#9c179e"
            ],
            [
             0.4444444444444444,
             "#bd3786"
            ],
            [
             0.5555555555555556,
             "#d8576b"
            ],
            [
             0.6666666666666666,
             "#ed7953"
            ],
            [
             0.7777777777777778,
             "#fb9f3a"
            ],
            [
             0.8888888888888888,
             "#fdca26"
            ],
            [
             1.0,
             "#f0f921"
            ]
           ],
           "diverging": [
            [
             0,
             "#8e0152"
            ],
            [
             0.1,
             "#c51b7d"
            ],
            [
             0.2,
             "#de77ae"
            ],
            [
             0.3,
             "#f1b6da"
            ],
            [
             0.4,
             "#fde0ef"
            ],
            [
             0.5,
             "#f7f7f7"
            ],
            [
             0.6,
             "#e6f5d0"
            ],
            [
             0.7,
             "#b8e186"
            ],
            [
             0.8,
             "#7fbc41"
            ],
            [
             0.9,
             "#4d9221"
            ],
            [
             1,
             "#276419"
            ]
           ]
          },
          "xaxis": {
           "gridcolor": "#283442",
           "linecolor": "#506784",
           "ticks": "",
           "title": {
            "standoff": 15
           },
           "zerolinecolor": "#283442",
           "automargin": true,
           "zerolinewidth": 2
          },
          "yaxis": {
           "gridcolor": "#283442",
           "linecolor": "#506784",
           "ticks": "",
           "title": {
            "standoff": 15
           },
           "zerolinecolor": "#283442",
           "automargin": true,
           "zerolinewidth": 2
          },
          "scene": {
           "xaxis": {
            "backgroundcolor": "rgb(17,17,17)",
            "gridcolor": "#506784",
            "linecolor": "#506784",
            "showbackground": true,
            "ticks": "",
            "zerolinecolor": "#C8D4E3",
            "gridwidth": 2
           },
           "yaxis": {
            "backgroundcolor": "rgb(17,17,17)",
            "gridcolor": "#506784",
            "linecolor": "#506784",
            "showbackground": true,
            "ticks": "",
            "zerolinecolor": "#C8D4E3",
            "gridwidth": 2
           },
           "zaxis": {
            "backgroundcolor": "rgb(17,17,17)",
            "gridcolor": "#506784",
            "linecolor": "#506784",
            "showbackground": true,
            "ticks": "",
            "zerolinecolor": "#C8D4E3",
            "gridwidth": 2
           }
          },
          "shapedefaults": {
           "line": {
            "color": "#f2f5fa"
           }
          },
          "annotationdefaults": {
           "arrowcolor": "#f2f5fa",
           "arrowhead": 0,
           "arrowwidth": 1
          },
          "geo": {
           "bgcolor": "rgb(17,17,17)",
           "landcolor": "rgb(17,17,17)",
           "subunitcolor": "#506784",
           "showland": true,
           "showlakes": true,
           "lakecolor": "rgb(17,17,17)"
          },
          "title": {
           "x": 0.05
          },
          "updatemenudefaults": {
           "bgcolor": "#506784",
           "borderwidth": 0
          },
          "sliderdefaults": {
           "bgcolor": "#C8D4E3",
           "borderwidth": 1,
           "bordercolor": "rgb(17,17,17)",
           "tickwidth": 0
          },
          "mapbox": {
           "style": "dark"
          }
         }
        },
        "xaxis": {
         "anchor": "y",
         "domain": [
          0.0,
          1.0
         ],
         "title": {
          "text": "Duration"
         }
        },
        "yaxis": {
         "anchor": "x",
         "domain": [
          0.0,
          1.0
         ],
         "title": {
          "text": "count"
         }
        },
        "legend": {
         "tracegroupgap": 0
        },
        "title": {
         "text": "Duration distribution"
        },
        "barmode": "relative"
       },
       "config": {
        "plotlyServerURL": "https://plot.ly"
       }
      },
      "text/html": "<div>                            <div id=\"bd86fa70-14ff-40a6-b36d-ed460b63202a\" class=\"plotly-graph-div\" style=\"height:525px; width:100%;\"></div>            <script type=\"text/javascript\">                require([\"plotly\"], function(Plotly) {                    window.PLOTLYENV=window.PLOTLYENV || {};                                    if (document.getElementById(\"bd86fa70-14ff-40a6-b36d-ed460b63202a\")) {                    Plotly.newPlot(                        \"bd86fa70-14ff-40a6-b36d-ed460b63202a\",                        [{\"alignmentgroup\":\"True\",\"bingroup\":\"x\",\"hovertemplate\":\"Duration=%{x}<br>count=%{y}<extra></extra>\",\"legendgroup\":\"\",\"marker\":{\"color\":\"#636efa\",\"pattern\":{\"shape\":\"\"}},\"name\":\"\",\"offsetgroup\":\"\",\"orientation\":\"v\",\"showlegend\":false,\"x\":[6,48,12,42,24,36,24,36,12,30,12,48,12,24,15,24,24,30,24,24,9,6,10,12,10,6,6,12,7,60,18,24,18,12,12,45,48,18,10,9,30,12,18,30,48,11,36,6,11,12,24,27,12,18,36,6,12,36,18,36,9,15,36,48,24,27,12,12,36,36,36,7,8,42,36,12,42,11,54,30,24,15,18,24,10,12,18,36,18,12,12,12,12,24,12,54,12,18,36,20,24,36,6,9,12,24,18,12,24,14,6,15,18,36,12,48,42,10,33,12,21,24,12,10,18,12,12,12,12,12,48,36,15,18,60,12,27,12,15,12,6,36,27,18,21,48,6,12,36,18,6,10,36,24,24,12,9,12,24,6,24,18,15,10,36,6,18,11,24,24,15,12,24,8,21,30,12,6,12,21,36,36,21,24,18,15,9,16,12,18,24,48,27,6,45,9,6,12,24,18,9,12,27,12,12,30,12,12,24,12,9,36,27,30,36,6,18,36,24,10,12,12,12,24,15,36,48,12,9,24,36,9,12,18,4,24,6,21,12,30,24,6,48,12,12,24,12,6,24,18,6,12,30,24,9,60,24,12,15,11,12,24,18,12,10,15,36,24,14,24,18,12,48,48,30,9,18,12,6,24,15,12,18,15,24,47,48,48,12,24,12,36,24,42,48,48,12,10,18,21,6,36,24,10,48,6,30,12,8,9,48,24,24,12,4,36,12,24,12,15,30,24,24,18,18,8,12,24,36,6,24,18,60,48,24,6,13,15,24,10,24,21,18,18,10,15,13,24,6,9,9,9,18,12,10,24,12,36,12,30,18,12,12,6,18,12,18,18,36,18,36,18,10,60,60,48,18,7,36,6,20,18,22,12,30,18,18,18,15,9,18,12,36,6,9,39,12,36,12,24,18,18,24,14,18,24,24,15,24,12,24,33,12,10,24,36,12,18,21,18,15,12,12,21,12,18,28,18,9,18,5,24,6,24,9,12,6,24,42,12,12,12,20,12,48,9,36,7,12,15,36,6,12,24,24,24,11,12,6,18,36,15,12,12,18,24,24,48,33,24,24,6,9,6,18,18,39,24,12,15,12,24,30,15,12,6,12,24,10,6,12,27,6,6,12,24,36,24,18,6,24,36,9,24,24,10,15,15,24,39,12,36,15,12,24,6,6,36,6,6,24,18,48,24,18,26,15,4,36,6,36,15,12,24,24,21,6,18,48,18,12,24,30,18,12,24,24,24,12,48,12,6,48,12,9,12,18,21,24,18,24,24,6,36,24,24,12,24,48,48,24,30,24,15,9,15,12,24,36,24,18,12,9,36,12,18,9,12,18,12,12,24,21,24,24,6,24,24,18,24,7,9,24,36,10,24,24,36,18,15,12,10,21,24,18,48,60,6,30,12,21,18,48,12,18,15,6,9,42,9,24,18,15,9,24,12,24,60,12,42,18,15,15,24,18,36,30,12,24,12,48,12,24,36,24,14,12,48,30,18,12,12,21,6,6,24,30,48,12,30,24,36,60,6,21,30,24,72,24,18,6,12,15,24,36,60,10,36,9,12,15,15,24,6,24,6,12,12,18,15,12,48,24,30,27,15,48,12,9,9,18,6,21,9,60,30,30,18,24,20,9,6,12,9,27,6,15,18,48,24,24,24,8,24,4,36,24,18,6,30,24,10,21,24,39,13,15,12,21,15,6,18,12,30,12,24,6,15,24,12,15,18,12,21,24,12,30,10,12,12,24,36,21,24,12,24,36,18,36,18,39,24,12,12,20,18,22,48,48,40,21,24,6,24,24,9,18,12,24,9,24,18,20,12,12,36,6,12,42,15,8,6,36,48,48,36,6,6,36,18,12,12,36,8,18,21,18,18,36,48,24,18,45,24,15,12,12,4,24,24,36,21,18,24,18,21,18,24,9,12,20,24,15,18,36,24,10,15,15,9,24,18,24,27,10,15,18,12,36,12,36,6,24,15,12,11,18,36,9,30,24,24,30,18,24,12,24,48,36,28,27,15,12,36,18,36,21,12,15,18,16,20,36,15,24,12,21,36,15,9,36,24,30,11,24,48,10,6,24,24,18,48,9,12,24,12,18,48,30,12,24,9,9,12,12,30,9,6,60,24,12,10,24,4,15,48,24,12,18,24,18,36,24,36,12,24,30,9,28,24,6,21,15,24,6,30,27,15,42,11,15,24,24,60,30,24,6,18,24,15,30,48,21,36,24,15,42,13,24,24,12,15,18,36,12,12,30,12,45,45],\"xaxis\":\"x\",\"yaxis\":\"y\",\"type\":\"histogram\"}],                        {\"template\":{\"data\":{\"histogram2dcontour\":[{\"type\":\"histogram2dcontour\",\"colorbar\":{\"outlinewidth\":0,\"ticks\":\"\"},\"colorscale\":[[0.0,\"#0d0887\"],[0.1111111111111111,\"#46039f\"],[0.2222222222222222,\"#7201a8\"],[0.3333333333333333,\"#9c179e\"],[0.4444444444444444,\"#bd3786\"],[0.5555555555555556,\"#d8576b\"],[0.6666666666666666,\"#ed7953\"],[0.7777777777777778,\"#fb9f3a\"],[0.8888888888888888,\"#fdca26\"],[1.0,\"#f0f921\"]]}],\"choropleth\":[{\"type\":\"choropleth\",\"colorbar\":{\"outlinewidth\":0,\"ticks\":\"\"}}],\"histogram2d\":[{\"type\":\"histogram2d\",\"colorbar\":{\"outlinewidth\":0,\"ticks\":\"\"},\"colorscale\":[[0.0,\"#0d0887\"],[0.1111111111111111,\"#46039f\"],[0.2222222222222222,\"#7201a8\"],[0.3333333333333333,\"#9c179e\"],[0.4444444444444444,\"#bd3786\"],[0.5555555555555556,\"#d8576b\"],[0.6666666666666666,\"#ed7953\"],[0.7777777777777778,\"#fb9f3a\"],[0.8888888888888888,\"#fdca26\"],[1.0,\"#f0f921\"]]}],\"heatmap\":[{\"type\":\"heatmap\",\"colorbar\":{\"outlinewidth\":0,\"ticks\":\"\"},\"colorscale\":[[0.0,\"#0d0887\"],[0.1111111111111111,\"#46039f\"],[0.2222222222222222,\"#7201a8\"],[0.3333333333333333,\"#9c179e\"],[0.4444444444444444,\"#bd3786\"],[0.5555555555555556,\"#d8576b\"],[0.6666666666666666,\"#ed7953\"],[0.7777777777777778,\"#fb9f3a\"],[0.8888888888888888,\"#fdca26\"],[1.0,\"#f0f921\"]]}],\"heatmapgl\":[{\"type\":\"heatmapgl\",\"colorbar\":{\"outlinewidth\":0,\"ticks\":\"\"},\"colorscale\":[[0.0,\"#0d0887\"],[0.1111111111111111,\"#46039f\"],[0.2222222222222222,\"#7201a8\"],[0.3333333333333333,\"#9c179e\"],[0.4444444444444444,\"#bd3786\"],[0.5555555555555556,\"#d8576b\"],[0.6666666666666666,\"#ed7953\"],[0.7777777777777778,\"#fb9f3a\"],[0.8888888888888888,\"#fdca26\"],[1.0,\"#f0f921\"]]}],\"contourcarpet\":[{\"type\":\"contourcarpet\",\"colorbar\":{\"outlinewidth\":0,\"ticks\":\"\"}}],\"contour\":[{\"type\":\"contour\",\"colorbar\":{\"outlinewidth\":0,\"ticks\":\"\"},\"colorscale\":[[0.0,\"#0d0887\"],[0.1111111111111111,\"#46039f\"],[0.2222222222222222,\"#7201a8\"],[0.3333333333333333,\"#9c179e\"],[0.4444444444444444,\"#bd3786\"],[0.5555555555555556,\"#d8576b\"],[0.6666666666666666,\"#ed7953\"],[0.7777777777777778,\"#fb9f3a\"],[0.8888888888888888,\"#fdca26\"],[1.0,\"#f0f921\"]]}],\"surface\":[{\"type\":\"surface\",\"colorbar\":{\"outlinewidth\":0,\"ticks\":\"\"},\"colorscale\":[[0.0,\"#0d0887\"],[0.1111111111111111,\"#46039f\"],[0.2222222222222222,\"#7201a8\"],[0.3333333333333333,\"#9c179e\"],[0.4444444444444444,\"#bd3786\"],[0.5555555555555556,\"#d8576b\"],[0.6666666666666666,\"#ed7953\"],[0.7777777777777778,\"#fb9f3a\"],[0.8888888888888888,\"#fdca26\"],[1.0,\"#f0f921\"]]}],\"mesh3d\":[{\"type\":\"mesh3d\",\"colorbar\":{\"outlinewidth\":0,\"ticks\":\"\"}}],\"scatter\":[{\"marker\":{\"line\":{\"color\":\"#283442\"}},\"type\":\"scatter\"}],\"parcoords\":[{\"type\":\"parcoords\",\"line\":{\"colorbar\":{\"outlinewidth\":0,\"ticks\":\"\"}}}],\"scatterpolargl\":[{\"type\":\"scatterpolargl\",\"marker\":{\"colorbar\":{\"outlinewidth\":0,\"ticks\":\"\"}}}],\"bar\":[{\"error_x\":{\"color\":\"#f2f5fa\"},\"error_y\":{\"color\":\"#f2f5fa\"},\"marker\":{\"line\":{\"color\":\"rgb(17,17,17)\",\"width\":0.5},\"pattern\":{\"fillmode\":\"overlay\",\"size\":10,\"solidity\":0.2}},\"type\":\"bar\"}],\"scattergeo\":[{\"type\":\"scattergeo\",\"marker\":{\"colorbar\":{\"outlinewidth\":0,\"ticks\":\"\"}}}],\"scatterpolar\":[{\"type\":\"scatterpolar\",\"marker\":{\"colorbar\":{\"outlinewidth\":0,\"ticks\":\"\"}}}],\"histogram\":[{\"marker\":{\"pattern\":{\"fillmode\":\"overlay\",\"size\":10,\"solidity\":0.2}},\"type\":\"histogram\"}],\"scattergl\":[{\"marker\":{\"line\":{\"color\":\"#283442\"}},\"type\":\"scattergl\"}],\"scatter3d\":[{\"type\":\"scatter3d\",\"line\":{\"colorbar\":{\"outlinewidth\":0,\"ticks\":\"\"}},\"marker\":{\"colorbar\":{\"outlinewidth\":0,\"ticks\":\"\"}}}],\"scattermapbox\":[{\"type\":\"scattermapbox\",\"marker\":{\"colorbar\":{\"outlinewidth\":0,\"ticks\":\"\"}}}],\"scatterternary\":[{\"type\":\"scatterternary\",\"marker\":{\"colorbar\":{\"outlinewidth\":0,\"ticks\":\"\"}}}],\"scattercarpet\":[{\"type\":\"scattercarpet\",\"marker\":{\"colorbar\":{\"outlinewidth\":0,\"ticks\":\"\"}}}],\"carpet\":[{\"aaxis\":{\"endlinecolor\":\"#A2B1C6\",\"gridcolor\":\"#506784\",\"linecolor\":\"#506784\",\"minorgridcolor\":\"#506784\",\"startlinecolor\":\"#A2B1C6\"},\"baxis\":{\"endlinecolor\":\"#A2B1C6\",\"gridcolor\":\"#506784\",\"linecolor\":\"#506784\",\"minorgridcolor\":\"#506784\",\"startlinecolor\":\"#A2B1C6\"},\"type\":\"carpet\"}],\"table\":[{\"cells\":{\"fill\":{\"color\":\"#506784\"},\"line\":{\"color\":\"rgb(17,17,17)\"}},\"header\":{\"fill\":{\"color\":\"#2a3f5f\"},\"line\":{\"color\":\"rgb(17,17,17)\"}},\"type\":\"table\"}],\"barpolar\":[{\"marker\":{\"line\":{\"color\":\"rgb(17,17,17)\",\"width\":0.5},\"pattern\":{\"fillmode\":\"overlay\",\"size\":10,\"solidity\":0.2}},\"type\":\"barpolar\"}],\"pie\":[{\"automargin\":true,\"type\":\"pie\"}]},\"layout\":{\"autotypenumbers\":\"strict\",\"colorway\":[\"#636efa\",\"#EF553B\",\"#00cc96\",\"#ab63fa\",\"#FFA15A\",\"#19d3f3\",\"#FF6692\",\"#B6E880\",\"#FF97FF\",\"#FECB52\"],\"font\":{\"color\":\"#f2f5fa\"},\"hovermode\":\"closest\",\"hoverlabel\":{\"align\":\"left\"},\"paper_bgcolor\":\"rgb(17,17,17)\",\"plot_bgcolor\":\"rgb(17,17,17)\",\"polar\":{\"bgcolor\":\"rgb(17,17,17)\",\"angularaxis\":{\"gridcolor\":\"#506784\",\"linecolor\":\"#506784\",\"ticks\":\"\"},\"radialaxis\":{\"gridcolor\":\"#506784\",\"linecolor\":\"#506784\",\"ticks\":\"\"}},\"ternary\":{\"bgcolor\":\"rgb(17,17,17)\",\"aaxis\":{\"gridcolor\":\"#506784\",\"linecolor\":\"#506784\",\"ticks\":\"\"},\"baxis\":{\"gridcolor\":\"#506784\",\"linecolor\":\"#506784\",\"ticks\":\"\"},\"caxis\":{\"gridcolor\":\"#506784\",\"linecolor\":\"#506784\",\"ticks\":\"\"}},\"coloraxis\":{\"colorbar\":{\"outlinewidth\":0,\"ticks\":\"\"}},\"colorscale\":{\"sequential\":[[0.0,\"#0d0887\"],[0.1111111111111111,\"#46039f\"],[0.2222222222222222,\"#7201a8\"],[0.3333333333333333,\"#9c179e\"],[0.4444444444444444,\"#bd3786\"],[0.5555555555555556,\"#d8576b\"],[0.6666666666666666,\"#ed7953\"],[0.7777777777777778,\"#fb9f3a\"],[0.8888888888888888,\"#fdca26\"],[1.0,\"#f0f921\"]],\"sequentialminus\":[[0.0,\"#0d0887\"],[0.1111111111111111,\"#46039f\"],[0.2222222222222222,\"#7201a8\"],[0.3333333333333333,\"#9c179e\"],[0.4444444444444444,\"#bd3786\"],[0.5555555555555556,\"#d8576b\"],[0.6666666666666666,\"#ed7953\"],[0.7777777777777778,\"#fb9f3a\"],[0.8888888888888888,\"#fdca26\"],[1.0,\"#f0f921\"]],\"diverging\":[[0,\"#8e0152\"],[0.1,\"#c51b7d\"],[0.2,\"#de77ae\"],[0.3,\"#f1b6da\"],[0.4,\"#fde0ef\"],[0.5,\"#f7f7f7\"],[0.6,\"#e6f5d0\"],[0.7,\"#b8e186\"],[0.8,\"#7fbc41\"],[0.9,\"#4d9221\"],[1,\"#276419\"]]},\"xaxis\":{\"gridcolor\":\"#283442\",\"linecolor\":\"#506784\",\"ticks\":\"\",\"title\":{\"standoff\":15},\"zerolinecolor\":\"#283442\",\"automargin\":true,\"zerolinewidth\":2},\"yaxis\":{\"gridcolor\":\"#283442\",\"linecolor\":\"#506784\",\"ticks\":\"\",\"title\":{\"standoff\":15},\"zerolinecolor\":\"#283442\",\"automargin\":true,\"zerolinewidth\":2},\"scene\":{\"xaxis\":{\"backgroundcolor\":\"rgb(17,17,17)\",\"gridcolor\":\"#506784\",\"linecolor\":\"#506784\",\"showbackground\":true,\"ticks\":\"\",\"zerolinecolor\":\"#C8D4E3\",\"gridwidth\":2},\"yaxis\":{\"backgroundcolor\":\"rgb(17,17,17)\",\"gridcolor\":\"#506784\",\"linecolor\":\"#506784\",\"showbackground\":true,\"ticks\":\"\",\"zerolinecolor\":\"#C8D4E3\",\"gridwidth\":2},\"zaxis\":{\"backgroundcolor\":\"rgb(17,17,17)\",\"gridcolor\":\"#506784\",\"linecolor\":\"#506784\",\"showbackground\":true,\"ticks\":\"\",\"zerolinecolor\":\"#C8D4E3\",\"gridwidth\":2}},\"shapedefaults\":{\"line\":{\"color\":\"#f2f5fa\"}},\"annotationdefaults\":{\"arrowcolor\":\"#f2f5fa\",\"arrowhead\":0,\"arrowwidth\":1},\"geo\":{\"bgcolor\":\"rgb(17,17,17)\",\"landcolor\":\"rgb(17,17,17)\",\"subunitcolor\":\"#506784\",\"showland\":true,\"showlakes\":true,\"lakecolor\":\"rgb(17,17,17)\"},\"title\":{\"x\":0.05},\"updatemenudefaults\":{\"bgcolor\":\"#506784\",\"borderwidth\":0},\"sliderdefaults\":{\"bgcolor\":\"#C8D4E3\",\"borderwidth\":1,\"bordercolor\":\"rgb(17,17,17)\",\"tickwidth\":0},\"mapbox\":{\"style\":\"dark\"}}},\"xaxis\":{\"anchor\":\"y\",\"domain\":[0.0,1.0],\"title\":{\"text\":\"Duration\"}},\"yaxis\":{\"anchor\":\"x\",\"domain\":[0.0,1.0],\"title\":{\"text\":\"count\"}},\"legend\":{\"tracegroupgap\":0},\"title\":{\"text\":\"Duration distribution\"},\"barmode\":\"relative\"},                        {\"responsive\": true}                    ).then(function(){\n                            \nvar gd = document.getElementById('bd86fa70-14ff-40a6-b36d-ed460b63202a');\nvar x = new MutationObserver(function (mutations, observer) {{\n        var display = window.getComputedStyle(gd).display;\n        if (!display || display === 'none') {{\n            console.log([gd, 'removed!']);\n            Plotly.purge(gd);\n            observer.disconnect();\n        }}\n}});\n\n// Listen for the removal of the full notebook cells\nvar notebookContainer = gd.closest('#notebook-container');\nif (notebookContainer) {{\n    x.observe(notebookContainer, {childList: true});\n}}\n\n// Listen for the clearing of the current output cell\nvar outputEl = gd.closest('.output');\nif (outputEl) {{\n    x.observe(outputEl, {childList: true});\n}}\n\n                        })                };                });            </script>        </div>"
     },
     "metadata": {},
     "output_type": "display_data"
    },
    {
     "data": {
      "application/vnd.plotly.v1+json": {
       "data": [
        {
         "alignmentgroup": "True",
         "hovertemplate": "x=%{x}<br>y=%{y}<extra></extra>",
         "legendgroup": "",
         "marker": {
          "color": "#636efa",
          "pattern": {
           "shape": ""
          }
         },
         "name": "",
         "offsetgroup": "",
         "orientation": "v",
         "showlegend": false,
         "textposition": "auto",
         "x": [
          "car",
          "radio/TV",
          "furniture/equipment",
          "business",
          "education",
          "repairs",
          "domestic",
          "appliances",
          "vacation/others"
         ],
         "xaxis": "x",
         "y": [
          337,
          280,
          181,
          97,
          59,
          22,
          12,
          12,
          12
         ],
         "yaxis": "y",
         "type": "bar"
        }
       ],
       "layout": {
        "template": {
         "data": {
          "histogram2dcontour": [
           {
            "type": "histogram2dcontour",
            "colorbar": {
             "outlinewidth": 0,
             "ticks": ""
            },
            "colorscale": [
             [
              0.0,
              "#0d0887"
             ],
             [
              0.1111111111111111,
              "#46039f"
             ],
             [
              0.2222222222222222,
              "#7201a8"
             ],
             [
              0.3333333333333333,
              "#9c179e"
             ],
             [
              0.4444444444444444,
              "#bd3786"
             ],
             [
              0.5555555555555556,
              "#d8576b"
             ],
             [
              0.6666666666666666,
              "#ed7953"
             ],
             [
              0.7777777777777778,
              "#fb9f3a"
             ],
             [
              0.8888888888888888,
              "#fdca26"
             ],
             [
              1.0,
              "#f0f921"
             ]
            ]
           }
          ],
          "choropleth": [
           {
            "type": "choropleth",
            "colorbar": {
             "outlinewidth": 0,
             "ticks": ""
            }
           }
          ],
          "histogram2d": [
           {
            "type": "histogram2d",
            "colorbar": {
             "outlinewidth": 0,
             "ticks": ""
            },
            "colorscale": [
             [
              0.0,
              "#0d0887"
             ],
             [
              0.1111111111111111,
              "#46039f"
             ],
             [
              0.2222222222222222,
              "#7201a8"
             ],
             [
              0.3333333333333333,
              "#9c179e"
             ],
             [
              0.4444444444444444,
              "#bd3786"
             ],
             [
              0.5555555555555556,
              "#d8576b"
             ],
             [
              0.6666666666666666,
              "#ed7953"
             ],
             [
              0.7777777777777778,
              "#fb9f3a"
             ],
             [
              0.8888888888888888,
              "#fdca26"
             ],
             [
              1.0,
              "#f0f921"
             ]
            ]
           }
          ],
          "heatmap": [
           {
            "type": "heatmap",
            "colorbar": {
             "outlinewidth": 0,
             "ticks": ""
            },
            "colorscale": [
             [
              0.0,
              "#0d0887"
             ],
             [
              0.1111111111111111,
              "#46039f"
             ],
             [
              0.2222222222222222,
              "#7201a8"
             ],
             [
              0.3333333333333333,
              "#9c179e"
             ],
             [
              0.4444444444444444,
              "#bd3786"
             ],
             [
              0.5555555555555556,
              "#d8576b"
             ],
             [
              0.6666666666666666,
              "#ed7953"
             ],
             [
              0.7777777777777778,
              "#fb9f3a"
             ],
             [
              0.8888888888888888,
              "#fdca26"
             ],
             [
              1.0,
              "#f0f921"
             ]
            ]
           }
          ],
          "heatmapgl": [
           {
            "type": "heatmapgl",
            "colorbar": {
             "outlinewidth": 0,
             "ticks": ""
            },
            "colorscale": [
             [
              0.0,
              "#0d0887"
             ],
             [
              0.1111111111111111,
              "#46039f"
             ],
             [
              0.2222222222222222,
              "#7201a8"
             ],
             [
              0.3333333333333333,
              "#9c179e"
             ],
             [
              0.4444444444444444,
              "#bd3786"
             ],
             [
              0.5555555555555556,
              "#d8576b"
             ],
             [
              0.6666666666666666,
              "#ed7953"
             ],
             [
              0.7777777777777778,
              "#fb9f3a"
             ],
             [
              0.8888888888888888,
              "#fdca26"
             ],
             [
              1.0,
              "#f0f921"
             ]
            ]
           }
          ],
          "contourcarpet": [
           {
            "type": "contourcarpet",
            "colorbar": {
             "outlinewidth": 0,
             "ticks": ""
            }
           }
          ],
          "contour": [
           {
            "type": "contour",
            "colorbar": {
             "outlinewidth": 0,
             "ticks": ""
            },
            "colorscale": [
             [
              0.0,
              "#0d0887"
             ],
             [
              0.1111111111111111,
              "#46039f"
             ],
             [
              0.2222222222222222,
              "#7201a8"
             ],
             [
              0.3333333333333333,
              "#9c179e"
             ],
             [
              0.4444444444444444,
              "#bd3786"
             ],
             [
              0.5555555555555556,
              "#d8576b"
             ],
             [
              0.6666666666666666,
              "#ed7953"
             ],
             [
              0.7777777777777778,
              "#fb9f3a"
             ],
             [
              0.8888888888888888,
              "#fdca26"
             ],
             [
              1.0,
              "#f0f921"
             ]
            ]
           }
          ],
          "surface": [
           {
            "type": "surface",
            "colorbar": {
             "outlinewidth": 0,
             "ticks": ""
            },
            "colorscale": [
             [
              0.0,
              "#0d0887"
             ],
             [
              0.1111111111111111,
              "#46039f"
             ],
             [
              0.2222222222222222,
              "#7201a8"
             ],
             [
              0.3333333333333333,
              "#9c179e"
             ],
             [
              0.4444444444444444,
              "#bd3786"
             ],
             [
              0.5555555555555556,
              "#d8576b"
             ],
             [
              0.6666666666666666,
              "#ed7953"
             ],
             [
              0.7777777777777778,
              "#fb9f3a"
             ],
             [
              0.8888888888888888,
              "#fdca26"
             ],
             [
              1.0,
              "#f0f921"
             ]
            ]
           }
          ],
          "mesh3d": [
           {
            "type": "mesh3d",
            "colorbar": {
             "outlinewidth": 0,
             "ticks": ""
            }
           }
          ],
          "scatter": [
           {
            "marker": {
             "line": {
              "color": "#283442"
             }
            },
            "type": "scatter"
           }
          ],
          "parcoords": [
           {
            "type": "parcoords",
            "line": {
             "colorbar": {
              "outlinewidth": 0,
              "ticks": ""
             }
            }
           }
          ],
          "scatterpolargl": [
           {
            "type": "scatterpolargl",
            "marker": {
             "colorbar": {
              "outlinewidth": 0,
              "ticks": ""
             }
            }
           }
          ],
          "bar": [
           {
            "error_x": {
             "color": "#f2f5fa"
            },
            "error_y": {
             "color": "#f2f5fa"
            },
            "marker": {
             "line": {
              "color": "rgb(17,17,17)",
              "width": 0.5
             },
             "pattern": {
              "fillmode": "overlay",
              "size": 10,
              "solidity": 0.2
             }
            },
            "type": "bar"
           }
          ],
          "scattergeo": [
           {
            "type": "scattergeo",
            "marker": {
             "colorbar": {
              "outlinewidth": 0,
              "ticks": ""
             }
            }
           }
          ],
          "scatterpolar": [
           {
            "type": "scatterpolar",
            "marker": {
             "colorbar": {
              "outlinewidth": 0,
              "ticks": ""
             }
            }
           }
          ],
          "histogram": [
           {
            "marker": {
             "pattern": {
              "fillmode": "overlay",
              "size": 10,
              "solidity": 0.2
             }
            },
            "type": "histogram"
           }
          ],
          "scattergl": [
           {
            "marker": {
             "line": {
              "color": "#283442"
             }
            },
            "type": "scattergl"
           }
          ],
          "scatter3d": [
           {
            "type": "scatter3d",
            "line": {
             "colorbar": {
              "outlinewidth": 0,
              "ticks": ""
             }
            },
            "marker": {
             "colorbar": {
              "outlinewidth": 0,
              "ticks": ""
             }
            }
           }
          ],
          "scattermapbox": [
           {
            "type": "scattermapbox",
            "marker": {
             "colorbar": {
              "outlinewidth": 0,
              "ticks": ""
             }
            }
           }
          ],
          "scatterternary": [
           {
            "type": "scatterternary",
            "marker": {
             "colorbar": {
              "outlinewidth": 0,
              "ticks": ""
             }
            }
           }
          ],
          "scattercarpet": [
           {
            "type": "scattercarpet",
            "marker": {
             "colorbar": {
              "outlinewidth": 0,
              "ticks": ""
             }
            }
           }
          ],
          "carpet": [
           {
            "aaxis": {
             "endlinecolor": "#A2B1C6",
             "gridcolor": "#506784",
             "linecolor": "#506784",
             "minorgridcolor": "#506784",
             "startlinecolor": "#A2B1C6"
            },
            "baxis": {
             "endlinecolor": "#A2B1C6",
             "gridcolor": "#506784",
             "linecolor": "#506784",
             "minorgridcolor": "#506784",
             "startlinecolor": "#A2B1C6"
            },
            "type": "carpet"
           }
          ],
          "table": [
           {
            "cells": {
             "fill": {
              "color": "#506784"
             },
             "line": {
              "color": "rgb(17,17,17)"
             }
            },
            "header": {
             "fill": {
              "color": "#2a3f5f"
             },
             "line": {
              "color": "rgb(17,17,17)"
             }
            },
            "type": "table"
           }
          ],
          "barpolar": [
           {
            "marker": {
             "line": {
              "color": "rgb(17,17,17)",
              "width": 0.5
             },
             "pattern": {
              "fillmode": "overlay",
              "size": 10,
              "solidity": 0.2
             }
            },
            "type": "barpolar"
           }
          ],
          "pie": [
           {
            "automargin": true,
            "type": "pie"
           }
          ]
         },
         "layout": {
          "autotypenumbers": "strict",
          "colorway": [
           "#636efa",
           "#EF553B",
           "#00cc96",
           "#ab63fa",
           "#FFA15A",
           "#19d3f3",
           "#FF6692",
           "#B6E880",
           "#FF97FF",
           "#FECB52"
          ],
          "font": {
           "color": "#f2f5fa"
          },
          "hovermode": "closest",
          "hoverlabel": {
           "align": "left"
          },
          "paper_bgcolor": "rgb(17,17,17)",
          "plot_bgcolor": "rgb(17,17,17)",
          "polar": {
           "bgcolor": "rgb(17,17,17)",
           "angularaxis": {
            "gridcolor": "#506784",
            "linecolor": "#506784",
            "ticks": ""
           },
           "radialaxis": {
            "gridcolor": "#506784",
            "linecolor": "#506784",
            "ticks": ""
           }
          },
          "ternary": {
           "bgcolor": "rgb(17,17,17)",
           "aaxis": {
            "gridcolor": "#506784",
            "linecolor": "#506784",
            "ticks": ""
           },
           "baxis": {
            "gridcolor": "#506784",
            "linecolor": "#506784",
            "ticks": ""
           },
           "caxis": {
            "gridcolor": "#506784",
            "linecolor": "#506784",
            "ticks": ""
           }
          },
          "coloraxis": {
           "colorbar": {
            "outlinewidth": 0,
            "ticks": ""
           }
          },
          "colorscale": {
           "sequential": [
            [
             0.0,
             "#0d0887"
            ],
            [
             0.1111111111111111,
             "#46039f"
            ],
            [
             0.2222222222222222,
             "#7201a8"
            ],
            [
             0.3333333333333333,
             "#9c179e"
            ],
            [
             0.4444444444444444,
             "#bd3786"
            ],
            [
             0.5555555555555556,
             "#d8576b"
            ],
            [
             0.6666666666666666,
             "#ed7953"
            ],
            [
             0.7777777777777778,
             "#fb9f3a"
            ],
            [
             0.8888888888888888,
             "#fdca26"
            ],
            [
             1.0,
             "#f0f921"
            ]
           ],
           "sequentialminus": [
            [
             0.0,
             "#0d0887"
            ],
            [
             0.1111111111111111,
             "#46039f"
            ],
            [
             0.2222222222222222,
             "#7201a8"
            ],
            [
             0.3333333333333333,
             "#9c179e"
            ],
            [
             0.4444444444444444,
             "#bd3786"
            ],
            [
             0.5555555555555556,
             "#d8576b"
            ],
            [
             0.6666666666666666,
             "#ed7953"
            ],
            [
             0.7777777777777778,
             "#fb9f3a"
            ],
            [
             0.8888888888888888,
             "#fdca26"
            ],
            [
             1.0,
             "#f0f921"
            ]
           ],
           "diverging": [
            [
             0,
             "#8e0152"
            ],
            [
             0.1,
             "#c51b7d"
            ],
            [
             0.2,
             "#de77ae"
            ],
            [
             0.3,
             "#f1b6da"
            ],
            [
             0.4,
             "#fde0ef"
            ],
            [
             0.5,
             "#f7f7f7"
            ],
            [
             0.6,
             "#e6f5d0"
            ],
            [
             0.7,
             "#b8e186"
            ],
            [
             0.8,
             "#7fbc41"
            ],
            [
             0.9,
             "#4d9221"
            ],
            [
             1,
             "#276419"
            ]
           ]
          },
          "xaxis": {
           "gridcolor": "#283442",
           "linecolor": "#506784",
           "ticks": "",
           "title": {
            "standoff": 15
           },
           "zerolinecolor": "#283442",
           "automargin": true,
           "zerolinewidth": 2
          },
          "yaxis": {
           "gridcolor": "#283442",
           "linecolor": "#506784",
           "ticks": "",
           "title": {
            "standoff": 15
           },
           "zerolinecolor": "#283442",
           "automargin": true,
           "zerolinewidth": 2
          },
          "scene": {
           "xaxis": {
            "backgroundcolor": "rgb(17,17,17)",
            "gridcolor": "#506784",
            "linecolor": "#506784",
            "showbackground": true,
            "ticks": "",
            "zerolinecolor": "#C8D4E3",
            "gridwidth": 2
           },
           "yaxis": {
            "backgroundcolor": "rgb(17,17,17)",
            "gridcolor": "#506784",
            "linecolor": "#506784",
            "showbackground": true,
            "ticks": "",
            "zerolinecolor": "#C8D4E3",
            "gridwidth": 2
           },
           "zaxis": {
            "backgroundcolor": "rgb(17,17,17)",
            "gridcolor": "#506784",
            "linecolor": "#506784",
            "showbackground": true,
            "ticks": "",
            "zerolinecolor": "#C8D4E3",
            "gridwidth": 2
           }
          },
          "shapedefaults": {
           "line": {
            "color": "#f2f5fa"
           }
          },
          "annotationdefaults": {
           "arrowcolor": "#f2f5fa",
           "arrowhead": 0,
           "arrowwidth": 1
          },
          "geo": {
           "bgcolor": "rgb(17,17,17)",
           "landcolor": "rgb(17,17,17)",
           "subunitcolor": "#506784",
           "showland": true,
           "showlakes": true,
           "lakecolor": "rgb(17,17,17)"
          },
          "title": {
           "x": 0.05
          },
          "updatemenudefaults": {
           "bgcolor": "#506784",
           "borderwidth": 0
          },
          "sliderdefaults": {
           "bgcolor": "#C8D4E3",
           "borderwidth": 1,
           "bordercolor": "rgb(17,17,17)",
           "tickwidth": 0
          },
          "mapbox": {
           "style": "dark"
          }
         }
        },
        "xaxis": {
         "anchor": "y",
         "domain": [
          0.0,
          1.0
         ],
         "title": {
          "text": "x"
         },
         "categoryorder": "total descending"
        },
        "yaxis": {
         "anchor": "x",
         "domain": [
          0.0,
          1.0
         ],
         "title": {
          "text": "y"
         }
        },
        "legend": {
         "tracegroupgap": 0
        },
        "title": {
         "text": "Purpose word cloud"
        },
        "barmode": "relative"
       },
       "config": {
        "plotlyServerURL": "https://plot.ly"
       }
      },
      "text/html": "<div>                            <div id=\"bb8bf84b-551c-4227-b392-9cd1eed76735\" class=\"plotly-graph-div\" style=\"height:525px; width:100%;\"></div>            <script type=\"text/javascript\">                require([\"plotly\"], function(Plotly) {                    window.PLOTLYENV=window.PLOTLYENV || {};                                    if (document.getElementById(\"bb8bf84b-551c-4227-b392-9cd1eed76735\")) {                    Plotly.newPlot(                        \"bb8bf84b-551c-4227-b392-9cd1eed76735\",                        [{\"alignmentgroup\":\"True\",\"hovertemplate\":\"x=%{x}<br>y=%{y}<extra></extra>\",\"legendgroup\":\"\",\"marker\":{\"color\":\"#636efa\",\"pattern\":{\"shape\":\"\"}},\"name\":\"\",\"offsetgroup\":\"\",\"orientation\":\"v\",\"showlegend\":false,\"textposition\":\"auto\",\"x\":[\"car\",\"radio/TV\",\"furniture/equipment\",\"business\",\"education\",\"repairs\",\"domestic\",\"appliances\",\"vacation/others\"],\"xaxis\":\"x\",\"y\":[337,280,181,97,59,22,12,12,12],\"yaxis\":\"y\",\"type\":\"bar\"}],                        {\"template\":{\"data\":{\"histogram2dcontour\":[{\"type\":\"histogram2dcontour\",\"colorbar\":{\"outlinewidth\":0,\"ticks\":\"\"},\"colorscale\":[[0.0,\"#0d0887\"],[0.1111111111111111,\"#46039f\"],[0.2222222222222222,\"#7201a8\"],[0.3333333333333333,\"#9c179e\"],[0.4444444444444444,\"#bd3786\"],[0.5555555555555556,\"#d8576b\"],[0.6666666666666666,\"#ed7953\"],[0.7777777777777778,\"#fb9f3a\"],[0.8888888888888888,\"#fdca26\"],[1.0,\"#f0f921\"]]}],\"choropleth\":[{\"type\":\"choropleth\",\"colorbar\":{\"outlinewidth\":0,\"ticks\":\"\"}}],\"histogram2d\":[{\"type\":\"histogram2d\",\"colorbar\":{\"outlinewidth\":0,\"ticks\":\"\"},\"colorscale\":[[0.0,\"#0d0887\"],[0.1111111111111111,\"#46039f\"],[0.2222222222222222,\"#7201a8\"],[0.3333333333333333,\"#9c179e\"],[0.4444444444444444,\"#bd3786\"],[0.5555555555555556,\"#d8576b\"],[0.6666666666666666,\"#ed7953\"],[0.7777777777777778,\"#fb9f3a\"],[0.8888888888888888,\"#fdca26\"],[1.0,\"#f0f921\"]]}],\"heatmap\":[{\"type\":\"heatmap\",\"colorbar\":{\"outlinewidth\":0,\"ticks\":\"\"},\"colorscale\":[[0.0,\"#0d0887\"],[0.1111111111111111,\"#46039f\"],[0.2222222222222222,\"#7201a8\"],[0.3333333333333333,\"#9c179e\"],[0.4444444444444444,\"#bd3786\"],[0.5555555555555556,\"#d8576b\"],[0.6666666666666666,\"#ed7953\"],[0.7777777777777778,\"#fb9f3a\"],[0.8888888888888888,\"#fdca26\"],[1.0,\"#f0f921\"]]}],\"heatmapgl\":[{\"type\":\"heatmapgl\",\"colorbar\":{\"outlinewidth\":0,\"ticks\":\"\"},\"colorscale\":[[0.0,\"#0d0887\"],[0.1111111111111111,\"#46039f\"],[0.2222222222222222,\"#7201a8\"],[0.3333333333333333,\"#9c179e\"],[0.4444444444444444,\"#bd3786\"],[0.5555555555555556,\"#d8576b\"],[0.6666666666666666,\"#ed7953\"],[0.7777777777777778,\"#fb9f3a\"],[0.8888888888888888,\"#fdca26\"],[1.0,\"#f0f921\"]]}],\"contourcarpet\":[{\"type\":\"contourcarpet\",\"colorbar\":{\"outlinewidth\":0,\"ticks\":\"\"}}],\"contour\":[{\"type\":\"contour\",\"colorbar\":{\"outlinewidth\":0,\"ticks\":\"\"},\"colorscale\":[[0.0,\"#0d0887\"],[0.1111111111111111,\"#46039f\"],[0.2222222222222222,\"#7201a8\"],[0.3333333333333333,\"#9c179e\"],[0.4444444444444444,\"#bd3786\"],[0.5555555555555556,\"#d8576b\"],[0.6666666666666666,\"#ed7953\"],[0.7777777777777778,\"#fb9f3a\"],[0.8888888888888888,\"#fdca26\"],[1.0,\"#f0f921\"]]}],\"surface\":[{\"type\":\"surface\",\"colorbar\":{\"outlinewidth\":0,\"ticks\":\"\"},\"colorscale\":[[0.0,\"#0d0887\"],[0.1111111111111111,\"#46039f\"],[0.2222222222222222,\"#7201a8\"],[0.3333333333333333,\"#9c179e\"],[0.4444444444444444,\"#bd3786\"],[0.5555555555555556,\"#d8576b\"],[0.6666666666666666,\"#ed7953\"],[0.7777777777777778,\"#fb9f3a\"],[0.8888888888888888,\"#fdca26\"],[1.0,\"#f0f921\"]]}],\"mesh3d\":[{\"type\":\"mesh3d\",\"colorbar\":{\"outlinewidth\":0,\"ticks\":\"\"}}],\"scatter\":[{\"marker\":{\"line\":{\"color\":\"#283442\"}},\"type\":\"scatter\"}],\"parcoords\":[{\"type\":\"parcoords\",\"line\":{\"colorbar\":{\"outlinewidth\":0,\"ticks\":\"\"}}}],\"scatterpolargl\":[{\"type\":\"scatterpolargl\",\"marker\":{\"colorbar\":{\"outlinewidth\":0,\"ticks\":\"\"}}}],\"bar\":[{\"error_x\":{\"color\":\"#f2f5fa\"},\"error_y\":{\"color\":\"#f2f5fa\"},\"marker\":{\"line\":{\"color\":\"rgb(17,17,17)\",\"width\":0.5},\"pattern\":{\"fillmode\":\"overlay\",\"size\":10,\"solidity\":0.2}},\"type\":\"bar\"}],\"scattergeo\":[{\"type\":\"scattergeo\",\"marker\":{\"colorbar\":{\"outlinewidth\":0,\"ticks\":\"\"}}}],\"scatterpolar\":[{\"type\":\"scatterpolar\",\"marker\":{\"colorbar\":{\"outlinewidth\":0,\"ticks\":\"\"}}}],\"histogram\":[{\"marker\":{\"pattern\":{\"fillmode\":\"overlay\",\"size\":10,\"solidity\":0.2}},\"type\":\"histogram\"}],\"scattergl\":[{\"marker\":{\"line\":{\"color\":\"#283442\"}},\"type\":\"scattergl\"}],\"scatter3d\":[{\"type\":\"scatter3d\",\"line\":{\"colorbar\":{\"outlinewidth\":0,\"ticks\":\"\"}},\"marker\":{\"colorbar\":{\"outlinewidth\":0,\"ticks\":\"\"}}}],\"scattermapbox\":[{\"type\":\"scattermapbox\",\"marker\":{\"colorbar\":{\"outlinewidth\":0,\"ticks\":\"\"}}}],\"scatterternary\":[{\"type\":\"scatterternary\",\"marker\":{\"colorbar\":{\"outlinewidth\":0,\"ticks\":\"\"}}}],\"scattercarpet\":[{\"type\":\"scattercarpet\",\"marker\":{\"colorbar\":{\"outlinewidth\":0,\"ticks\":\"\"}}}],\"carpet\":[{\"aaxis\":{\"endlinecolor\":\"#A2B1C6\",\"gridcolor\":\"#506784\",\"linecolor\":\"#506784\",\"minorgridcolor\":\"#506784\",\"startlinecolor\":\"#A2B1C6\"},\"baxis\":{\"endlinecolor\":\"#A2B1C6\",\"gridcolor\":\"#506784\",\"linecolor\":\"#506784\",\"minorgridcolor\":\"#506784\",\"startlinecolor\":\"#A2B1C6\"},\"type\":\"carpet\"}],\"table\":[{\"cells\":{\"fill\":{\"color\":\"#506784\"},\"line\":{\"color\":\"rgb(17,17,17)\"}},\"header\":{\"fill\":{\"color\":\"#2a3f5f\"},\"line\":{\"color\":\"rgb(17,17,17)\"}},\"type\":\"table\"}],\"barpolar\":[{\"marker\":{\"line\":{\"color\":\"rgb(17,17,17)\",\"width\":0.5},\"pattern\":{\"fillmode\":\"overlay\",\"size\":10,\"solidity\":0.2}},\"type\":\"barpolar\"}],\"pie\":[{\"automargin\":true,\"type\":\"pie\"}]},\"layout\":{\"autotypenumbers\":\"strict\",\"colorway\":[\"#636efa\",\"#EF553B\",\"#00cc96\",\"#ab63fa\",\"#FFA15A\",\"#19d3f3\",\"#FF6692\",\"#B6E880\",\"#FF97FF\",\"#FECB52\"],\"font\":{\"color\":\"#f2f5fa\"},\"hovermode\":\"closest\",\"hoverlabel\":{\"align\":\"left\"},\"paper_bgcolor\":\"rgb(17,17,17)\",\"plot_bgcolor\":\"rgb(17,17,17)\",\"polar\":{\"bgcolor\":\"rgb(17,17,17)\",\"angularaxis\":{\"gridcolor\":\"#506784\",\"linecolor\":\"#506784\",\"ticks\":\"\"},\"radialaxis\":{\"gridcolor\":\"#506784\",\"linecolor\":\"#506784\",\"ticks\":\"\"}},\"ternary\":{\"bgcolor\":\"rgb(17,17,17)\",\"aaxis\":{\"gridcolor\":\"#506784\",\"linecolor\":\"#506784\",\"ticks\":\"\"},\"baxis\":{\"gridcolor\":\"#506784\",\"linecolor\":\"#506784\",\"ticks\":\"\"},\"caxis\":{\"gridcolor\":\"#506784\",\"linecolor\":\"#506784\",\"ticks\":\"\"}},\"coloraxis\":{\"colorbar\":{\"outlinewidth\":0,\"ticks\":\"\"}},\"colorscale\":{\"sequential\":[[0.0,\"#0d0887\"],[0.1111111111111111,\"#46039f\"],[0.2222222222222222,\"#7201a8\"],[0.3333333333333333,\"#9c179e\"],[0.4444444444444444,\"#bd3786\"],[0.5555555555555556,\"#d8576b\"],[0.6666666666666666,\"#ed7953\"],[0.7777777777777778,\"#fb9f3a\"],[0.8888888888888888,\"#fdca26\"],[1.0,\"#f0f921\"]],\"sequentialminus\":[[0.0,\"#0d0887\"],[0.1111111111111111,\"#46039f\"],[0.2222222222222222,\"#7201a8\"],[0.3333333333333333,\"#9c179e\"],[0.4444444444444444,\"#bd3786\"],[0.5555555555555556,\"#d8576b\"],[0.6666666666666666,\"#ed7953\"],[0.7777777777777778,\"#fb9f3a\"],[0.8888888888888888,\"#fdca26\"],[1.0,\"#f0f921\"]],\"diverging\":[[0,\"#8e0152\"],[0.1,\"#c51b7d\"],[0.2,\"#de77ae\"],[0.3,\"#f1b6da\"],[0.4,\"#fde0ef\"],[0.5,\"#f7f7f7\"],[0.6,\"#e6f5d0\"],[0.7,\"#b8e186\"],[0.8,\"#7fbc41\"],[0.9,\"#4d9221\"],[1,\"#276419\"]]},\"xaxis\":{\"gridcolor\":\"#283442\",\"linecolor\":\"#506784\",\"ticks\":\"\",\"title\":{\"standoff\":15},\"zerolinecolor\":\"#283442\",\"automargin\":true,\"zerolinewidth\":2},\"yaxis\":{\"gridcolor\":\"#283442\",\"linecolor\":\"#506784\",\"ticks\":\"\",\"title\":{\"standoff\":15},\"zerolinecolor\":\"#283442\",\"automargin\":true,\"zerolinewidth\":2},\"scene\":{\"xaxis\":{\"backgroundcolor\":\"rgb(17,17,17)\",\"gridcolor\":\"#506784\",\"linecolor\":\"#506784\",\"showbackground\":true,\"ticks\":\"\",\"zerolinecolor\":\"#C8D4E3\",\"gridwidth\":2},\"yaxis\":{\"backgroundcolor\":\"rgb(17,17,17)\",\"gridcolor\":\"#506784\",\"linecolor\":\"#506784\",\"showbackground\":true,\"ticks\":\"\",\"zerolinecolor\":\"#C8D4E3\",\"gridwidth\":2},\"zaxis\":{\"backgroundcolor\":\"rgb(17,17,17)\",\"gridcolor\":\"#506784\",\"linecolor\":\"#506784\",\"showbackground\":true,\"ticks\":\"\",\"zerolinecolor\":\"#C8D4E3\",\"gridwidth\":2}},\"shapedefaults\":{\"line\":{\"color\":\"#f2f5fa\"}},\"annotationdefaults\":{\"arrowcolor\":\"#f2f5fa\",\"arrowhead\":0,\"arrowwidth\":1},\"geo\":{\"bgcolor\":\"rgb(17,17,17)\",\"landcolor\":\"rgb(17,17,17)\",\"subunitcolor\":\"#506784\",\"showland\":true,\"showlakes\":true,\"lakecolor\":\"rgb(17,17,17)\"},\"title\":{\"x\":0.05},\"updatemenudefaults\":{\"bgcolor\":\"#506784\",\"borderwidth\":0},\"sliderdefaults\":{\"bgcolor\":\"#C8D4E3\",\"borderwidth\":1,\"bordercolor\":\"rgb(17,17,17)\",\"tickwidth\":0},\"mapbox\":{\"style\":\"dark\"}}},\"xaxis\":{\"anchor\":\"y\",\"domain\":[0.0,1.0],\"title\":{\"text\":\"x\"},\"categoryorder\":\"total descending\"},\"yaxis\":{\"anchor\":\"x\",\"domain\":[0.0,1.0],\"title\":{\"text\":\"y\"}},\"legend\":{\"tracegroupgap\":0},\"title\":{\"text\":\"Purpose word cloud\"},\"barmode\":\"relative\"},                        {\"responsive\": true}                    ).then(function(){\n                            \nvar gd = document.getElementById('bb8bf84b-551c-4227-b392-9cd1eed76735');\nvar x = new MutationObserver(function (mutations, observer) {{\n        var display = window.getComputedStyle(gd).display;\n        if (!display || display === 'none') {{\n            console.log([gd, 'removed!']);\n            Plotly.purge(gd);\n            observer.disconnect();\n        }}\n}});\n\n// Listen for the removal of the full notebook cells\nvar notebookContainer = gd.closest('#notebook-container');\nif (notebookContainer) {{\n    x.observe(notebookContainer, {childList: true});\n}}\n\n// Listen for the clearing of the current output cell\nvar outputEl = gd.closest('.output');\nif (outputEl) {{\n    x.observe(outputEl, {childList: true});\n}}\n\n                        })                };                });            </script>        </div>"
     },
     "metadata": {},
     "output_type": "display_data"
    }
   ],
   "source": [
    "import pandas as pd\n",
    "import plotly.express as px\n",
    "\n",
    "def plot_dataset_distributions(data, dtypes):\n",
    "    \"\"\"\"plots the distributions per column in the dataset\"\"\"\n",
    "    # Initialize an empty list to store the figures\n",
    "    figs = []\n",
    "\n",
    "    # Loop over each column in the dataset\n",
    "    for col in data.columns:\n",
    "        # Determine the type of the column\n",
    "        col_type = data[col].dtype\n",
    "        #tODO: fixen dtype inference sortinghatinf\n",
    "        # If the column is numeric, create a histogram\n",
    "        if pd.api.types.is_numeric_dtype(col_type):\n",
    "            fig = px.histogram(data, x=col, title=f'{col} distribution')\n",
    "            figs.append(fig)\n",
    "\n",
    "        # If the column is boolean, create a bar chart\n",
    "        elif pd.api.types.is_bool_dtype(col_type):\n",
    "            fig = px.bar(data, x=col, color=col, title=f'{col} distribution')\n",
    "            figs.append(fig)\n",
    "\n",
    "        # If the column is categorical, create a bar chart\n",
    "        elif pd.api.types.is_categorical_dtype(col_type):\n",
    "            fig = px.bar(data, x=col, title=f'{col} distribution')\n",
    "            figs.append(fig)\n",
    "\n",
    "        # If the column is a string, create a word cloud\n",
    "        elif pd.api.types.is_string_dtype(col_type):\n",
    "            word_counts = data[col].str.split(expand=True).stack().value_counts()\n",
    "            fig = px.bar(x=word_counts.index, y=word_counts.values, title=f'{col} word cloud')\n",
    "            fig.update_layout(xaxis={'categoryorder':'total descending'})\n",
    "            figs.append(fig)\n",
    "\n",
    "    return figs\n",
    "\n",
    "figs = plot_dataset_distributions(data, None)\n",
    "for fig in figs:\n",
    "    fig.show()"
   ],
   "metadata": {
    "collapsed": false
   }
  },
  {
   "cell_type": "code",
   "execution_count": null,
   "outputs": [],
   "source": [],
   "metadata": {
    "collapsed": false
   }
  },
  {
   "cell_type": "code",
   "execution_count": 137,
   "outputs": [],
   "source": [
    "import sortinghatinf #algorithm to predict the feature type out og [numeric, categorical, datetime, sentence,\n",
    "def obtain_feature_type_table(df):\n",
    "    \"\"\"\"Function to predict the feature types\n",
    "    INPUT: pandas DataFrame\n",
    "    OUTPUT: Pandas DataFrame with feature types at index 0 and nothing else : [column names ]\n",
    "                                                                              [feature_types]\n",
    "    \"\"\"\n",
    "    #print('df.columns:', list(df.columns))\n",
    "    predicted_feature_types = sortinghatinf.get_expanded_feature_types(df)\n",
    "    feature_type_table = pd.DataFrame(columns=list(df.columns))\n",
    "    feature_type_table.loc[len(feature_type_table)] = predicted_feature_types\n",
    "\n",
    "    return feature_type_table\n"
   ],
   "metadata": {
    "collapsed": false
   }
  },
  {
   "cell_type": "code",
   "execution_count": 143,
   "outputs": [
    {
     "name": "stdout",
     "output_type": "stream",
     "text": [
      "['Unnamed: 0', 'Age', 'Sex', 'Job', 'Housing', 'Saving accounts', 'Checking account', 'Credit amount', 'Duration', 'Purpose']\n",
      "['not-generalizable', 'integer', 'categorical', 'categorical', 'categorical', 'categorical', 'categorical', 'integer', 'integer', 'categorical']\n"
     ]
    }
   ],
   "source": [
    "feature_type_table = obtain_feature_type_table(data)\n",
    "print(list(feature_type_table.columns))\n",
    "print(list(feature_type_table.iloc[0]))\n",
    "\n"
   ],
   "metadata": {
    "collapsed": false
   }
  },
  {
   "cell_type": "code",
   "execution_count": null,
   "outputs": [],
   "source": [],
   "metadata": {
    "collapsed": false
   }
  }
 ],
 "metadata": {
  "kernelspec": {
   "display_name": "Python 3",
   "language": "python",
   "name": "python3"
  },
  "language_info": {
   "codemirror_mode": {
    "name": "ipython",
    "version": 2
   },
   "file_extension": ".py",
   "mimetype": "text/x-python",
   "name": "python",
   "nbconvert_exporter": "python",
   "pygments_lexer": "ipython2",
   "version": "2.7.6"
  }
 },
 "nbformat": 4,
 "nbformat_minor": 0
}
